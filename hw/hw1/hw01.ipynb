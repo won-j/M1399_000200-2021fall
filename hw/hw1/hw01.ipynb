{
 "cells": [
  {
   "cell_type": "markdown",
   "metadata": {},
   "source": [
    "# M1399.000200 Homework 1\n",
    "\n",
    "#### Due Sep 27, 2020 @ 11:59PM"
   ]
  },
  {
   "cell_type": "markdown",
   "metadata": {},
   "source": [
    "## Q1. Git/GitHub\n",
    "\n",
    " **No handwritten homework reports are accepted for this course.** We work     with Git and GitHub. Efficient and abundant use of Git, e.g., frequent and    well-documented commits, is an important criterion for grading your homework.\n",
    "\n",
    " 1. Apply for the [Student Developer Pack](https://education.github.com/pack)  at GitHub using your `snu.ac.kr` email.\n",
    "\n",
    " 1. A link to join the M1399.000200 Github Classroom and a link to create an individual Github repository for homework is provided in the eTL. First join  the classroom, and then create your own homework repo by accepting these two  invitations in turn.\n",
    "\n",
    " 1. For each homework, the teaching assistant will make a pull request. Merge  each pull request to your homework repo.\n",
    "\n",
    " 1. In this course, you are required to write your homework reports using IJulia. For each homework, you need to submit your Jupyter notebook (e.g, `hw1.ipynb`), html (e.g., `hw1.html`), along with all code and data that are necessary to reproduce the results.\n",
    " \n",
    " 1. Provide your answer *directly* on this notebook. Add your answer right below the question. If the question has subproblems, split the cell at the right location and insert cells for your answer. **Do not modify the questions.**\n",
    "\n",
    " 1. Maintain two branches `master` and `develop`. The `develop` branch will    be your main playground, the place where you develop solution (code) to       homework problems and write up report. The `master` branch will be your       presentation area. Submit your homework files (Jupyter notebook file `ipynb`, `html`  file converted from the notebook, all code and data sets to reproduce results)  in `master` branch.\n",
    "\n",
    " 1. Before each homework's due date, commit your **master** branch. The        teaching assistant and the instructor will check out your committed master    branch for grading. Commit time will be used as your submission time. That    means if you commit your Homework 1 submission after the deadline, penalty    points will be deducted for late submission according to the syllabus.\n",
    " \n",
    " 1. Read the [style guide](https://docs.julialang.org/en/v1/manual/style-guide/index.html) for Julia programming. Following rules in the style guide will be strictly enforced when grading: \"Write functions, not just scripts\", \"Avoid writing overly-specific types\", \"Handle excess argument diversity in the caller\", \"Append ! to names of functions that modify their arguments\",  \"Don't use unnecessary static parameters\", \"Avoid using floats for numeric literals in generic code when possible\". Also it is advised to follow \"Use naming conventions consistent with Julia base/\", \"Write functions with argument ordering similar to Julia Base\"."
   ]
  },
  {
   "cell_type": "markdown",
   "metadata": {},
   "source": [
    "## Q2. Algorithm\n",
    "\n",
    "Write a Juila function that accepts the three coefficients of a quadratic polynomial and evaluates one of the roots by means of the quadratic formula, and computes the other root in an appropriate manner. Write the function specification very carefully, but succinctly, by using the `'''` comments and other [documentation system](https://docs.julialang.org/en/v1/manual/documentation/) of Julia. (What do you do if $b^2 < 4ac$? You do not have to provide a solution in this case, i.e., complex roots, but your software part must handle that case.)"
   ]
  },
  {
   "cell_type": "markdown",
   "metadata": {},
   "source": [
    "## Q3. JIT\n",
    "\n",
    "Consider Julia function\n",
    "```julia\n",
    "function g(k::Number)\n",
    "    for i in 1:10\n",
    "        k = 2k - 1\n",
    "    end\n",
    "    k\n",
    "end\n",
    "```\n",
    "1. Use `@code_llvm` to find the LLVM bytecode of compiled `g(2)`.\n",
    "1. Use `@code_llvm` to find the LLVM bytecode of compiled `g(2.0)`.\n",
    "1. Compare the bytecode from questions 1 and 2. What do you find?  \n",
    "1. Repeat questions 1-3 with `@code_native`."
   ]
  },
  {
   "cell_type": "markdown",
   "metadata": {},
   "source": [
    "## Q4. Floats\n",
    "\n",
    "Consider the evaluation of $e^x$ using the Taylor series\n",
    "$$\n",
    "    e^x = 1 + x + \\frac{x^2}{2!} + \\frac{x^3}{3!} + \\dotsb\n",
    "$$\n",
    "in Julia. Write function `expTaylor()` that takes a double-precision floating point number `x` and executes the following.\n",
    "```Julia\n",
    "stop = 100\n",
    "ex = 1.\n",
    "xi = 1.\n",
    "ifac = 1.\n",
    "for i=1:stop\n",
    "    xi *= x\n",
    "    ifac *= i\n",
    "    ex += xi / ifac\n",
    "end\n",
    "ex\n",
    "```\n",
    "\n",
    "Now let `x=20.0`. A correct implementation of `expTaylor()` should yield `4.8516519540979016e8`, which is close enough to `4.851651954097903e8` that the built-in fuction `exp()` yields.\n",
    "\n",
    "1. Compare the values of `expTaylor(-20.0)` and `1 / expTaylor(20.0)`. Calculate the relative error of the two values, assuming that `exp(-20.0)` is the true value. Explain what you found.\n",
    "\n",
    "1. We can think of the algorithm given in the Julia code above as an iterative algorithm in `i`. At each value of `i`, there is a difference in the value of ex and the true value `ex`. (The exact value of this difference is the truncation error.) Modify the code (or use different code) to determine the relative error in `ex` for each value of `i`. For `x = 20.0`, make a plot of the relative error and the number of iterations (that is, of `i`) for 1 to 100 iterations. Now, repeat this for `x = −20.0`. Explain what you found.\n",
    "\n",
    "1. Determine the order of the error for approximating `ex` with the Taylor series for `x = 20` in terms of the number of iterations (that is, the number of terms in the Taylor series).\n"
   ]
  },
  {
   "cell_type": "markdown",
   "metadata": {},
   "source": [
    "## Q5. Strassen's algorithm\n",
    "\n",
    "Assume `n` is a power of 2. Strassen's algorithm for multiplying two `n` by `n` matrices `A` and `B` is as follows:\n",
    "\n",
    "```Julia\n",
    "function Strassen(A::Matrix, B::Matrix) \n",
    "    n = size(A, 1)\n",
    "    if n == 1\n",
    "        return A * B\n",
    "    end\n",
    "    @views A11 = A[1:n/2, 1:n/2]\n",
    "    @views A12 = A[1:n/2, n/2+1:n]\n",
    "    @views A21 = A[n/2+1:n, 1:n/2]\n",
    "    @views A22 = A[n/2+1:n, n/2+1:n]\n",
    "    @views B11 = B[1:n/2, 1:n/2]\n",
    "    @views B12 = B[1:n/2, n/2+1:n]\n",
    "    @views B21 = B[n/2+1:n, 1:n/2]\n",
    "    @views B22 = B[n/2+1:n, n/2+1:n]\n",
    "    \n",
    "    P1 = Strassen(A12 - A22, B21 + B22)\n",
    "    P2 = Strassen(A11 + A22, B11 + B22)\n",
    "    P3 = Strassen(A11 - A21, B11 + B12)\n",
    "    P4 = Strassen(A11 + A12, B22)\n",
    "    P5 = Strassen(A11, B12 - B22)\n",
    "    P6 = Strassen(A22, B21 - B11)\n",
    "    P7 = Strassen(A21 + A22, B11)\n",
    "    \n",
    "    C11 = P1 + P2 - P4 + P6\n",
    "    C12 = P4 + P5\n",
    "    C21 = P6 + P7\n",
    "    C22 = P2 - P3 + P5 - P7\n",
    "    \n",
    "    return [C11 C12; C21 C22]\n",
    "end\n",
    "```\n",
    "\n",
    "1. Show that this algorithm correctly multiplies `A` and `B`.\n",
    "1. Let $T(n)$ by the number of floating point operations (addtion, subtraction, multiplication). Show that \n",
    "$$\n",
    "    T(n) = 7 T(n/2) + \\frac{9}{2}n^2\n",
    "    .\n",
    "$$\n",
    "1. Show that $T(n) = O(n^{\\log_2 7})$.\n",
    "1. What is a drawback is Strassen's algorithm?"
   ]
  }
 ],
 "metadata": {
  "kernelspec": {
   "display_name": "Julia 0.6.0",
   "language": "julia",
   "name": "julia-0.6"
  },
  "language_info": {
   "file_extension": ".jl",
   "mimetype": "application/julia",
   "name": "julia",
   "version": "0.6.4"
  },
  "toc": {
   "colors": {
    "hover_highlight": "#DAA520",
    "running_highlight": "#FF0000",
    "selected_highlight": "#FFD700"
   },
   "moveMenuLeft": true,
   "nav_menu": {
    "height": "153px",
    "width": "252px"
   },
   "navigate_menu": true,
   "number_sections": false,
   "sideBar": true,
   "skip_h1_title": true,
   "threshold": 4,
   "toc_cell": false,
   "toc_section_display": "block",
   "toc_window_display": true,
   "widenNotebook": false
  }
 },
 "nbformat": 4,
 "nbformat_minor": 4
}
