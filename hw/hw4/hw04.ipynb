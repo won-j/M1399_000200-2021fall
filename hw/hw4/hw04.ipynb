{
 "cells": [
  {
   "cell_type": "markdown",
   "metadata": {},
   "source": [
    "# M1399.000200 Homework 4\n",
    "\n",
    "#### Due Dec 13, 2021 @ 11:59PM\n",
    "\n",
    "### Instruction\n",
    "\n",
    "1. Only submit a `README.md` file that identify you, this notebook file (`hw4.ipynb`) with your answers, and the html export of the notebook (`hw4.html`), along with all code (`*.jl`) that are necessary to reproduce the results. If you write a Julia function, then it must be in a separate file, not in the notebook. *No other files will not be graded.*\n",
    " \n",
    "2. Before the due date, commit your **master** branch. The teaching assistant and the instructor will check out your committed master branch for grading. Commit time will be used as your submission time. That    means if you commit your Homework 1 submission after the deadline, penalty    points will be deducted for late submission according to the syllabus.\n",
    "\n",
    "3. To save the storage, do **not** put data files on Git. \n",
    "\n",
    "4. **Start early**. The time to be spent on coding is always underestimated."
   ]
  },
  {
   "cell_type": "markdown",
   "metadata": {},
   "source": [
    "## Q1. SVM and Lagrange duality\n",
    "\n",
    "An alternative formulation of the support vector machine (SVM) is \n",
    "$$\n",
    "    \\begin{array}{ll}\\tag{P}\n",
    "    \\text{minimize} & \\frac{1}{2}\\|\\boldsymbol\\beta\\|_2^2 + t\\sum_{i=1}^n\\xi_i \\\\\n",
    "    \\text{subject to} & y_i(\\mathbf{x}_i^T\\boldsymbol{\\beta}+\\beta_0) \\ge 1 - \\xi_i, ~ i=1,\\dotsc,n\\\\\n",
    "        & \\xi_i \\ge 0, ~ i=1, \\dotsc, n\n",
    "    \\end{array}\n",
    "$$\n",
    "for a tuning parameter $t \\ge 0$. The optimization variables are $\\beta_0, \\boldsymbol{\\beta}, \\xi_1, \\dotsc, \\xi_n$.\n",
    "\n",
    "1) Show that the above formulation is equivalent to the hinge loss formulation\n",
    "$$\n",
    "    \\text{minimize}~ \\sum_{i=1}^n \\left[ 1 - y_i \\left( \\beta_0 + \\mathbf{x}_i^T\\boldsymbol{\\beta} \\right) \\right]_+  + \\lambda\\|\\boldsymbol\\beta\\|_2^2.\n",
    "$$"
   ]
  },
  {
   "cell_type": "markdown",
   "metadata": {},
   "source": [
    "2) Using the Lagrange duality, show that the dual of the SVM problem (P) is given by\n",
    "\n",
    "$$\n",
    "    \\begin{array}{ll}\\tag{D}\n",
    "    \\text{maximize} & \\sum_{i=1}^n \\alpha_i - \\frac{1}{2}\\sum_{i=1}^n\\sum_{j=1}^n\\alpha_i\\alpha_jy_iy_j\\mathbf{x}_i^T\\mathbf{x}_j \\\\\n",
    "    \\text{subject to} & 0 \\le \\alpha_i \\le t, ~ i=1,\\dotsc,n\\\\\n",
    "        & \\sum_{i=1}\\alpha_iy_i = 0.\n",
    "    \\end{array}\n",
    "$$\n",
    "\n",
    "for variables $\\alpha_1, \\dotsc, \\alpha_n$.  \n",
    "\n",
    "  Is (D) convex? If so, what is its class of convex optimization problem? Discuss the computational advantage of solving (D) over (P)."
   ]
  },
  {
   "cell_type": "markdown",
   "metadata": {},
   "source": [
    "3) Download the South African heart disease dataset from <https://web.stanford.edu/~hastie/ElemStatLearn/datasets/SAheart.data>. \n",
    "The response variable is the presence or absence of coronary heart disease (CHD) at the time of surgery, and the predictors are `sbp`, `tobacco`, `ldl`, `famhist`, `obesity`, `alcohol`, and `age`. More information can be found in <https://web.stanford.edu/~hastie/ElemStatLearn/datasets/SAheart.info.txt>; see also Section 4.4.2 of *Elements of Statistical Learning* by Hastie et al. (2009). \n",
    "\n",
    "  Standardize predictors to have mean 0 and variance 1 and add intercept. Then split data into the training and test sets by 8 to 2. Fit the SVM at $\\lambda = 0, 1, 2, \\dotsc, 100$ on the training data and plot the solution path. Also plot the misclassification rates on the test data over $\\lambda$."
   ]
  },
  {
   "cell_type": "markdown",
   "metadata": {},
   "source": [
    "4) Repeat 3 for the dual (D). Does the dual (D) have the same optimal value as (P)?"
   ]
  },
  {
   "cell_type": "markdown",
   "metadata": {},
   "source": [
    "## Q2. SOCP\n",
    "\n",
    "A corrupted image is given:\n",
    "\n",
    "<img src='./barbara128noisy.png' width=256>\n",
    "\n",
    "Let $\\mathbf{Y}\\in\\mathbb{R}^{128\\times 128}$ represent the image. The *isotropic total variation (TV) denoising* minimizes\n",
    "$$\n",
    "    \\frac{1}{2}\\|\\mathbf{Y}-\\mathbf{X}\\|_{\\rm F}^2 + \\lambda \\sum_{i,j}\\sqrt{(x_{i+1,j}-x_{ij})^2 + (x_{i,j+1}-x_{ij})^2}, \\quad \\lambda > 0,\n",
    "$$\n",
    "where $\\mathbf{X}=(x_{ij})$ is the optimization variable.\n",
    "\n",
    "1. Show that this problem is an SOCP."
   ]
  },
  {
   "cell_type": "markdown",
   "metadata": {},
   "source": [
    "2) Solve the isotropic TV denoising for the given image and show the restored image."
   ]
  },
  {
   "cell_type": "markdown",
   "metadata": {},
   "source": [
    "An alternative approach is the *anisotropic TV denoising* that minimizes\n",
    "$$\n",
    "    \\frac{1}{2}\\|\\mathbf{Y}-\\mathbf{X}\\|_{\\rm F}^2 + \\lambda \\sum_{i,j}(|x_{i+1,j}-x_{ij}| + |x_{i,j+1}-x_{ij}|), \\quad \\lambda > 0,\n",
    "$$\n",
    "\n",
    "3) Show that this problem is a QP."
   ]
  },
  {
   "cell_type": "markdown",
   "metadata": {},
   "source": [
    "4) Solve the anisotropic TV denoising for the given image and show the restored image. Compare the timing with the isotropic TV."
   ]
  },
  {
   "cell_type": "markdown",
   "metadata": {},
   "source": [
    "## Q3. SDP\n",
    "\n",
    "1) For $\\mathbf{X}\\in\\mathbb{R}^{m\\times n}$ and $t\\in\\mathbb{R}_+$, show that $\\|\\mathbf{X}\\|_* \\le t$ if and only if there exist $\\mathbf{Y}\\in\\mathbb{R}^{m\\times m}$ and $\\mathbf{Z}\\in\\mathbb{R}^{n\\times n}$ such that\n",
    "$$\n",
    "    \\begin{bmatrix} \\mathbf{Y} & \\mathbf{X} \\\\ \\mathbf{X}^T & \\mathbf{Z} \\end{bmatrix} \\succeq \\mathbf{0},\n",
    "    ~\\text{and}~\n",
    "    \\frac{1}{2}(\\text{tr}\\mathbf{Y} + \\text{tr}\\mathbf{Z}) \\le t.\n",
    "$$\n",
    "\n",
    "  (Hint: Let the SVD of $\\mathbf{X}$ be $\\mathbf{U}\\boldsymbol{\\Sigma}\\mathbf{V}^T$ with $\\boldsymbol{\\Sigma}\\in\\mathbb{R}^{r\\times r}$, where $r=\\text{rank}(\\mathbf{X})$. Note \n",
    "$$\n",
    "    \\text{tr}\\left(\n",
    "    \\begin{bmatrix} \\mathbf{U}^T~-\\mathbf{V}^T \\end{bmatrix}\n",
    "    \\begin{bmatrix} \\mathbf{Y} & \\mathbf{X} \\\\ \\mathbf{X}^T & \\mathbf{Z} \\end{bmatrix}\n",
    "    \\begin{bmatrix} \\mathbf{U} \\\\ -\\mathbf{V}^T \\end{bmatrix} \\right)\n",
    "    \\ge 0\n",
    "$$\n",
    "if $\\begin{bmatrix} \\mathbf{Y} & \\mathbf{X} \\\\ \\mathbf{X}^T & \\mathbf{Z} \\end{bmatrix} \\succeq \\mathbf{0}$.)"
   ]
  },
  {
   "cell_type": "markdown",
   "metadata": {},
   "source": [
    "2) Formulate the matrix completion problem directly as an SDP."
   ]
  },
  {
   "cell_type": "markdown",
   "metadata": {},
   "source": [
    "3) Solve the matrix completion problem covered in class using the direct SDP formulation above."
   ]
  },
  {
   "cell_type": "markdown",
   "metadata": {},
   "source": [
    "4) Using the Lagrange duality, show that the dual problem of the SDP in part 2 is equivalent to SDP\n",
    "$$\n",
    "\\begin{array}{ll}\n",
    "    \\text{minimize} & \\langle \\mathbf{W}, \\mathbf{C} \\rangle \\\\\n",
    "    \\text{subject to} & \\begin{bmatrix} \\mathbf{I} & \\mathbf{W} \\\\ \\mathbf{W} & \\mathbf{I} \\end{bmatrix} \\succeq \\mathbf{0} \\\\\n",
    "    & \\mathbf{W}_{ij} = 0, \\quad \\text{if}~c_{ij}~\\text{is unobserved},\n",
    "\\end{array}\n",
    "$$\n",
    "where $\\mathbf{M} \\in \\mathbb{R}^{m\\times n}$ is the optimization variable, $\\mathbf{C}=(c_{ij})$ is the data matrix such that $\\mathbf{C}_{ij} = 0$ if $y_{ij}$ is unobserved; $\\langle \\mathbf{A}, \\mathbf{B} \\rangle = \\text{trace}(\\mathbf{A}^T\\mathbf{B}) = \\sum_{i,j} \\mathbf{A}_{ij}\\mathbf{B}_{ij}$.\n",
    "(*Hint*. The Lagrange multiplier for a linear matrix inequality $\\mathcal{A}(x) \\preceq \\mathbf{0}$ is required to be symmetric and positive semidefinite.)"
   ]
  },
  {
   "cell_type": "markdown",
   "metadata": {},
   "source": [
    "5) Solve the matrix completion problem covered in class using the dual SDP formulation directly. Do the optimal objective values coincide?"
   ]
  },
  {
   "cell_type": "markdown",
   "metadata": {},
   "source": [
    "## Q4. First-order lasso\n",
    "\n",
    "Redo Q6 of Homework 3 for the lasso penalized linear regression on the prostate cancer dataset, but this time using \n",
    "1. proximal gradient method;\n",
    "2. FISTA; and\n",
    "3. coordinate descent.\n",
    "\n",
    "Choose a fixed value of the penalty parameter $\\lambda$, and plot the progress of the algorithm (objective value vs. iteration count) to compare the convergence behavior of the algorithms. For a fair comparison, treat a whole sweep of coordinate descent steps (updating all coordinates) as a single iteration.\n",
    "\n",
    "Grading will be mostly based in the correctness and efficiency of your implementation.\n"
   ]
  },
  {
   "cell_type": "markdown",
   "metadata": {},
   "source": [
    "## Q5. MNIST\n",
    "\n",
    "In Homework 3, we tried automatic recognition of handwritten digits using principal component analysis (PCA). A more interpretable representation is obtained by non-negative matrix factorization (NMF). Use again the MNIST dataset. Let the data matrix be $\\mathbf{X} = [\\mathbf{x}_1 | \\dotsb | \\mathbf{x}_n]^T$, where $\\mathbf{x}_i \\in \\mathbb{R}^d$ with $d=28\\times 28 = 784$ and $n=60,000$. \n",
    "\n",
    "NMF approximates $\\mathbf{X} \\in \\mathbb{R}^{n \\times d}$ with nonnegative entries $x_{ij}$ by a product of two low-rank matrices $\\mathbf{V} \\in \\mathbb{R}^{n \\times r}$ and $\\mathbf{W} \\in \\mathbb{R}^{d \\times n}$ with nonnegative entries $v_{ik}$ and $w_{kj}$. Consider minimization of the squared Frobenius norm\n",
    "$$\n",
    "\tL(\\mathbf{V}, \\mathbf{W}) = \\|\\mathbf{X} - \\mathbf{V} \\mathbf{W}\\|_{\\text{F}}^2 = \\sum_i \\sum_j \\left(x_{ij} - \\sum_k v_{ik} w_{kj} \\right)^2, \\quad v_{ik} \\ge 0, w_{kj} \\ge 0,\n",
    "$$\n",
    "which should lead to a good factorization. \n",
    "\n",
    "A majorization-minimization (MM) algorithm gives multiplicative updates\n",
    "\\begin{align*}\n",
    "\tv_{ik}^{(t+1)} &= v_{ik}^{(t)} \\frac{\\sum_j x_{ij} w_{kj}^{(t)}}{\\sum_j b_{ij}^{(t)} w_{kj}^{(t)}}, \\quad  b_{ij}^{(t)} = \\sum_k v_{ik}^{(t)} w_{kj}^{(t)}, \\\\\n",
    "\tw_{kj}^{(t+1)} &= w_{kj}^{(t)} \\frac{\\sum_i x_{ij} v_{ik}^{(t+1)}}{\\sum_i b_{ij}^{(t+1/2)} v_{ik}^{(t+1)}}, \\quad  b_{ij}^{(t+1/2)} = \\sum_k v_{ik}^{(t+1)} w_{kj}^{(t)}\n",
    "\\end{align*}\n",
    "that drive the objective $L^{(t)} = L(\\mathbf{V}^{(t)}, \\mathbf{W}^{(t)})$ downhill. \n",
    "\n",
    "1) Derive the above update rule from the MM principle."
   ]
  },
  {
   "cell_type": "markdown",
   "metadata": {},
   "source": [
    "2) Implement the algorithm with the following interface:\n",
    "```julia\n",
    "function nnmf(\n",
    "    X::Matrix{T},\n",
    "    r::Integer;\n",
    "    maxiter::Integer=1000, \n",
    "    tol::Number=1e-4,\n",
    "    V::Matrix{T}=rand(T, size(X, 1), r),\n",
    "    W::Matrix{T}=rand(T, r, size(X, 2))\n",
    "    ) where T <: AbstractFloat\n",
    "    # implementation\n",
    "    # Output\n",
    "    return V, W\n",
    "end\n",
    "```\n",
    "Start your algorithm from $v_{ik}^{(0)} = w_{kj}^{(0)} = 1$ for all $i,j,k$ and\n",
    "use the stopping criterion\n",
    "$$\n",
    "\t\\frac{|L^{(t+1)} - L^{(t)}|}{|L^{(t)}| + 1} \\le tol.\n",
    "$$\n",
    "\n",
    "   Apply the algorithm with `r=3, 5, 10` and report the run times, using `@time`.\n",
    "   \n",
    "   Efficiency (both speed and memory) as well as correctness of the implementation will be the most important criterion when grading this problem.\n",
    "   "
   ]
  },
  {
   "cell_type": "markdown",
   "metadata": {},
   "source": [
    "4) Consider the case $r=10$. Pick the image $\\mathbf{x}_i$ used in Homework 3, Q1-2, and plot its NMF coefficients, i.e., the $i$th row of matrix $\\mathbf{V}$. Compare the result with the PCA loadings of Homework 3, Q2-2."
   ]
  }
 ],
 "metadata": {
  "@webio": {
   "lastCommId": null,
   "lastKernelId": null
  },
  "kernelspec": {
   "display_name": "Julia 1.6.2",
   "language": "julia",
   "name": "julia-1.6"
  },
  "language_info": {
   "file_extension": ".jl",
   "mimetype": "application/julia",
   "name": "julia",
   "version": "1.6.2"
  },
  "toc": {
   "colors": {
    "hover_highlight": "#DAA520",
    "running_highlight": "#FF0000",
    "selected_highlight": "#FFD700"
   },
   "moveMenuLeft": true,
   "nav_menu": {
    "height": "87px",
    "width": "252px"
   },
   "navigate_menu": true,
   "number_sections": true,
   "sideBar": true,
   "skip_h1_title": true,
   "threshold": 4,
   "toc_cell": false,
   "toc_section_display": "block",
   "toc_window_display": false,
   "widenNotebook": false
  }
 },
 "nbformat": 4,
 "nbformat_minor": 4
}
