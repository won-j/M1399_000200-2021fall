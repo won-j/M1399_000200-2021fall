{
 "cells": [
  {
   "cell_type": "markdown",
   "metadata": {},
   "source": [
    "# Jupyter"
   ]
  },
  {
   "cell_type": "markdown",
   "metadata": {},
   "source": [
    "## Jupyter \n",
    "\n",
    "* IPython notebook (precursor of Jupyter notebook) is a powerful tool for authoring dynamic document in Python, which combines code, formatted text, math, and multimedia in a single document.  \n",
    "\n",
    "* [Jupyter](http://jupyter.org) is the current development that emcompasses multiple languages including **Ju**lia, **Pyt**hon, and **R**. \n",
    "\n",
    "* In this course, you are required to write your homework reports using [Jupyter Lab](https://jupyter.org/install.html).\n",
    "\n",
    "* You can use Julia in Jupyter notebook through the [IJulia.jl](https://github.com/JuliaLang/IJulia.jl) package.\n",
    "\n",
    "* For each homework, you need to submit your notebook (.e.g, `hw1.ipynb`), html (e.g., `hw1.html`), along with all code and data that are necessary to reproduce the results.\n",
    "\n",
    "* You can start with this notebook file."
   ]
  },
  {
   "cell_type": "markdown",
   "metadata": {},
   "source": [
    "### Anaconda\n",
    "\n",
    "- [Anaconda](https://www.anaconda.com) is a distribution of the Python and R programming languages for scientific computing, that aims to simplify package management and deployment. The distribution includes data-science packages suitable for Windows, Linux, and macOS. [[Wikipedia](https://en.wikipedia.org/wiki/Anaconda_(Python_distribution))]\n",
    "\n",
    "- Go to https://www.anaconda.com/products/individual and clike \"Download\" to install the Anaconda.\n",
    "\n",
    "- From [Anaconda Navigator](https://docs.anaconda.com/anaconda/navigator/index.html), use can launch Jupyter Lab.\n",
    "\n",
    "<img src=\"https://upload.wikimedia.org/wikipedia/commons/f/f4/Anaconda.Starting_page.png\" align=\"center\" width=\"800\">"
   ]
  },
  {
   "cell_type": "markdown",
   "metadata": {},
   "source": [
    "### IJulia\n",
    "\n",
    "Install IJulia from the Julia REPL by pressing ] to enter pkg mode and entering:\n",
    "```\n",
    "add IJulia\n",
    "```\n",
    "\n",
    "If you already have Jupyter installed on your machine, this process will also install a kernel specification that tells Jupyter how to launch Julia. "
   ]
  },
  {
   "cell_type": "markdown",
   "metadata": {},
   "source": [
    "### Usage\n",
    "\n",
    "* Useful to know some keyboard shortcuts. I frequently use\n",
    "    * `shift + return`: execute current cell. \n",
    "    * `b`: create a cell below current cell.\n",
    "    * `a`: create a cell above current cell.  \n",
    "    * `y`: change cell to code.  \n",
    "    * `m`: change cell to Markdown.  \n",
    "    Check more shortcuts in menu `Help` -> `Keyboard Shortcuts`.\n",
    "\n",
    "* Notebook can be **converted to other formats** such as html, LaTeX, Markdown, Julia code, and many others, via menu `File` -> `Download as`. \n",
    "\n",
    "* **Mathematical formula** can can be typeset as LaTeX in Markdown cells. For example, inline math: $e^{i \\pi} + 1 = 0$ and displayed math\n",
    "$$\n",
    "    e^x = \\sum_{i=0}^\\infty \\frac{1}{i!} x^i.\n",
    "$$\n",
    "For multiline displayed math:\n",
    "\\begin{eqnarray*}\n",
    "    e^x &=& \\sum_{i=0}^\\infty \\frac{1}{i!} x^i \\\\\n",
    "    &\\approx& 1 + x + \\frac{x^2}{2}.\n",
    "\\end{eqnarray*}\n",
    "\n"
   ]
  },
  {
   "cell_type": "markdown",
   "metadata": {},
   "source": [
    "## Acknowledgment\n",
    "\n",
    "This lecture note has evolved from [Dr. Hua Zhou](http://hua-zhou.github.io)'s 2019 Spring Statistical Computing course notes available at <http://hua-zhou.github.io/teaching/biostatm280-2019spring/index.html>."
   ]
  }
 ],
 "metadata": {
  "kernelspec": {
   "display_name": "Julia 1.6.2",
   "language": "julia",
   "name": "julia-1.6"
  },
  "language_info": {
   "file_extension": ".jl",
   "mimetype": "application/julia",
   "name": "julia",
   "version": "1.6.2"
  },
  "toc": {
   "colors": {
    "hover_highlight": "#DAA520",
    "running_highlight": "#FF0000",
    "selected_highlight": "#FFD700"
   },
   "moveMenuLeft": true,
   "nav_menu": {
    "height": "311px",
    "width": "252px"
   },
   "navigate_menu": true,
   "number_sections": true,
   "sideBar": true,
   "skip_h1_title": true,
   "threshold": 4,
   "toc_cell": true,
   "toc_position": {
    "height": "262.5px",
    "left": "0px",
    "right": "800px",
    "top": "140.5px",
    "width": "204px"
   },
   "toc_section_display": "block",
   "toc_window_display": true,
   "widenNotebook": false
  }
 },
 "nbformat": 4,
 "nbformat_minor": 4
}
