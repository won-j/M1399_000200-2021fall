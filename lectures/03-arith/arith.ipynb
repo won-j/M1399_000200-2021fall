{
 "cells": [
  {
   "cell_type": "code",
   "execution_count": 1,
   "metadata": {},
   "outputs": [
    {
     "name": "stdout",
     "output_type": "stream",
     "text": [
      "Julia Version 1.6.2\n",
      "Commit 1b93d53fc4 (2021-07-14 15:36 UTC)\n",
      "Platform Info:\n",
      "  OS: macOS (x86_64-apple-darwin18.7.0)\n",
      "  CPU: Intel(R) Core(TM) i5-8279U CPU @ 2.40GHz\n",
      "  WORD_SIZE: 64\n",
      "  LIBM: libopenlibm\n",
      "  LLVM: libLLVM-11.0.1 (ORCJIT, skylake)\n"
     ]
    }
   ],
   "source": [
    "versioninfo()"
   ]
  },
  {
   "cell_type": "code",
   "execution_count": 2,
   "metadata": {
    "tags": []
   },
   "outputs": [
    {
     "name": "stderr",
     "output_type": "stream",
     "text": [
      "\u001b[32m\u001b[1m  Activating\u001b[22m\u001b[39m environment at `~/Dropbox/class/M1399.000200/2021/M1399_000200-2021fall/Project.toml`\n"
     ]
    },
    {
     "name": "stdout",
     "output_type": "stream",
     "text": [
      "\u001b[32m\u001b[1m      Status\u001b[22m\u001b[39m `~/Dropbox/class/M1399.000200/2021/M1399_000200-2021fall/Project.toml`\n",
      " \u001b[90m [7d9fca2a] \u001b[39mArpack v0.5.3\n",
      " \u001b[90m [6e4b80f9] \u001b[39mBenchmarkTools v1.1.4\n",
      " \u001b[90m [1e616198] \u001b[39mCOSMO v0.8.1\n",
      " \u001b[90m [f65535da] \u001b[39mConvex v0.14.13\n",
      " \u001b[90m [a93c6f00] \u001b[39mDataFrames v1.2.2\n",
      " \u001b[90m [31a5f54b] \u001b[39mDebugger v0.6.8\n",
      " \u001b[90m [31c24e10] \u001b[39mDistributions v0.24.18\n",
      " \u001b[90m [e2685f51] \u001b[39mECOS v0.12.3\n",
      " \u001b[90m [f6369f11] \u001b[39mForwardDiff v0.10.19\n",
      " \u001b[90m [28b8d3ca] \u001b[39mGR v0.58.1\n",
      " \u001b[90m [c91e804a] \u001b[39mGadfly v1.3.3\n",
      " \u001b[90m [bd48cda9] \u001b[39mGraphRecipes v0.5.7\n",
      " \u001b[90m [82e4d734] \u001b[39mImageIO v0.5.8\n",
      " \u001b[90m [6218d12a] \u001b[39mImageMagick v1.2.1\n",
      " \u001b[90m [916415d5] \u001b[39mImages v0.24.1\n",
      " \u001b[90m [b6b21f68] \u001b[39mIpopt v0.7.0\n",
      " \u001b[90m [42fd0dbc] \u001b[39mIterativeSolvers v0.9.1\n",
      " \u001b[90m [4076af6c] \u001b[39mJuMP v0.21.9\n",
      " \u001b[90m [b51810bb] \u001b[39mMatrixDepot v1.0.4\n",
      " \u001b[90m [1ec41992] \u001b[39mMosekTools v0.9.4\n",
      " \u001b[90m [76087f3c] \u001b[39mNLopt v0.6.3\n",
      " \u001b[90m [47be7bcc] \u001b[39mORCA v0.5.0\n",
      " \u001b[90m [a03496cd] \u001b[39mPlotlyBase v0.4.3\n",
      " \u001b[90m [f0f68f2c] \u001b[39mPlotlyJS v0.15.0\n",
      " \u001b[90m [91a5bcdd] \u001b[39mPlots v1.21.2\n",
      " \u001b[90m [438e738f] \u001b[39mPyCall v1.92.3\n",
      " \u001b[90m [d330b81b] \u001b[39mPyPlot v2.9.0\n",
      " \u001b[90m [dca85d43] \u001b[39mQuartzImageIO v0.7.3\n",
      " \u001b[90m [6f49c342] \u001b[39mRCall v0.13.12\n",
      " \u001b[90m [ce6b1742] \u001b[39mRDatasets v0.7.5\n",
      " \u001b[90m [c946c3f1] \u001b[39mSCS v0.7.1\n",
      " \u001b[90m [276daf66] \u001b[39mSpecialFunctions v1.6.1\n",
      " \u001b[90m [2913bbd2] \u001b[39mStatsBase v0.33.10\n",
      " \u001b[90m [b8865327] \u001b[39mUnicodePlots v2.0.1\n",
      " \u001b[90m [0f1e0344] \u001b[39mWebIO v0.8.15\n",
      " \u001b[90m [8f399da3] \u001b[39mLibdl\n",
      " \u001b[90m [2f01184e] \u001b[39mSparseArrays\n",
      " \u001b[90m [10745b16] \u001b[39mStatistics\n"
     ]
    }
   ],
   "source": [
    "using Pkg\n",
    "Pkg.activate(\"../..\")\n",
    "Pkg.status()"
   ]
  },
  {
   "cell_type": "markdown",
   "metadata": {},
   "source": [
    "# Computer arithmetics"
   ]
  },
  {
   "cell_type": "markdown",
   "metadata": {},
   "source": [
    "## Units of computer storage\n",
    "\n",
    "Humans use decimal digits (why?)\\\n",
    "Computers use binary digits (why?)\n",
    "\n",
    "* *Bit* = binary digit (coined by statistician [John Tukey](https://en.wikipedia.org/wiki/Bit#History)).  \n",
    "* *byte* = 8 bits.\n",
    "* KB = kilobyte = $10^3$ bytes; KiB = kibibyte = $2^{10}$ bytes.  \n",
    "* MB = megabyte = $10^6$ bytes; MiB = mebibyte = $2^{20}$ bytes.\n",
    "* GB = gigabyte = $10^9$ bytes. Typical RAM size.  \n",
    "* TB = terabyte = $10^{12}$ bytes. Typical hard drive size. Size of NYSE each trading session.    \n",
    "* PB = petabyte = $10^{15}$ bytes.  \n",
    "* EB = exabyte = $10^{18}$ bytes. Size of all healthcare data in 2011 is ~150 EB.    \n",
    "* ZB = zetabyte = $10^{21}$ bytes. \n",
    "\n",
    "Julia function `Base.summarysize` shows the amount of memory (in bytes) used by an object."
   ]
  },
  {
   "cell_type": "code",
   "execution_count": 3,
   "metadata": {},
   "outputs": [
    {
     "data": {
      "text/plain": [
       "80040"
      ]
     },
     "execution_count": 3,
     "metadata": {},
     "output_type": "execute_result"
    }
   ],
   "source": [
    "x = rand(100, 100)\n",
    "Base.summarysize(x)"
   ]
  },
  {
   "cell_type": "markdown",
   "metadata": {},
   "source": [
    "`varinfo()` function prints all variables in workspace and their sizes."
   ]
  },
  {
   "cell_type": "code",
   "execution_count": 4,
   "metadata": {},
   "outputs": [
    {
     "data": {
      "text/latex": [
       "\\begin{tabular}\n",
       "{l | r | l}\n",
       "name & size & summary \\\\\n",
       "\\hline\n",
       "Base &  & Module \\\\\n",
       "Core &  & Module \\\\\n",
       "Main &  & Module \\\\\n",
       "x & 78.164 KiB & 100×100 Matrix\\{Float64\\} \\\\\n",
       "\\end{tabular}\n"
      ],
      "text/markdown": [
       "| name |       size | summary                 |\n",
       "|:---- | ----------:|:----------------------- |\n",
       "| Base |            | Module                  |\n",
       "| Core |            | Module                  |\n",
       "| Main |            | Module                  |\n",
       "| x    | 78.164 KiB | 100×100 Matrix{Float64} |\n"
      ],
      "text/plain": [
       "  name       size summary                \n",
       "  –––– –––––––––– –––––––––––––––––––––––\n",
       "  Base            Module                 \n",
       "  Core            Module                 \n",
       "  Main            Module                 \n",
       "  x    78.164 KiB 100×100 Matrix{Float64}"
      ]
     },
     "execution_count": 4,
     "metadata": {},
     "output_type": "execute_result"
    }
   ],
   "source": [
    "varinfo() # similar to Matlab whos()"
   ]
  },
  {
   "cell_type": "markdown",
   "metadata": {},
   "source": [
    "## Storage of Characters\n",
    "\n",
    "* Plain text files are stored in the form of characters: `.jl`, `.r`, `.c`, `.cpp`, `.ipynb`, `.html`, `.tex`, ...  \n",
    "* ASCII (American Code for Information Interchange): 7 bits, only $2^7=128$ characters.  "
   ]
  },
  {
   "cell_type": "code",
   "execution_count": 5,
   "metadata": {},
   "outputs": [
    {
     "data": {
      "text/plain": [
       "128×2 Matrix{Any}:\n",
       "   0  '\\0'\n",
       "   1  '\\x01'\n",
       "   2  '\\x02'\n",
       "   3  '\\x03'\n",
       "   4  '\\x04'\n",
       "   5  '\\x05'\n",
       "   6  '\\x06'\n",
       "   7  '\\a'\n",
       "   8  '\\b'\n",
       "   9  '\\t'\n",
       "  10  '\\n'\n",
       "  11  '\\v'\n",
       "  12  '\\f'\n",
       "   ⋮  \n",
       " 116  't'\n",
       " 117  'u'\n",
       " 118  'v'\n",
       " 119  'w'\n",
       " 120  'x'\n",
       " 121  'y'\n",
       " 122  'z'\n",
       " 123  '{'\n",
       " 124  '|'\n",
       " 125  '}'\n",
       " 126  '~'\n",
       " 127  '\\x7f'"
      ]
     },
     "execution_count": 5,
     "metadata": {},
     "output_type": "execute_result"
    }
   ],
   "source": [
    "# integers 0, 1, ..., 127 and corresponding ascii character\n",
    "[0:127 Char.(0:127)]"
   ]
  },
  {
   "cell_type": "markdown",
   "metadata": {},
   "source": [
    "* Extended ASCII: 8 bits, $2^8=256$ characters.  "
   ]
  },
  {
   "cell_type": "code",
   "execution_count": 6,
   "metadata": {},
   "outputs": [
    {
     "data": {
      "text/plain": [
       "128×2 Matrix{Any}:\n",
       " 128  '\\u80'\n",
       " 129  '\\u81'\n",
       " 130  '\\u82'\n",
       " 131  '\\u83'\n",
       " 132  '\\u84'\n",
       " 133  '\\u85'\n",
       " 134  '\\u86'\n",
       " 135  '\\u87'\n",
       " 136  '\\u88'\n",
       " 137  '\\u89'\n",
       " 138  '\\u8a'\n",
       " 139  '\\u8b'\n",
       " 140  '\\u8c'\n",
       "   ⋮  \n",
       " 244  'ô'\n",
       " 245  'õ'\n",
       " 246  'ö'\n",
       " 247  '÷'\n",
       " 248  'ø'\n",
       " 249  'ù'\n",
       " 250  'ú'\n",
       " 251  'û'\n",
       " 252  'ü'\n",
       " 253  'ý'\n",
       " 254  'þ'\n",
       " 255  'ÿ'"
      ]
     },
     "execution_count": 6,
     "metadata": {},
     "output_type": "execute_result"
    }
   ],
   "source": [
    "# integers 128, 129, ..., 255 and corresponding extended ascii character\n",
    "# show(STDOUT, \"text/plain\", [128:255 Char.(128:255)])\n",
    "[128:255 Char.(128:255)]"
   ]
  },
  {
   "cell_type": "markdown",
   "metadata": {},
   "source": [
    "* Unicode: UTF-8, UTF-16 and UTF-32 support many more characters including foreign characters; last 7 digits conform to ASCII. \n",
    "\n",
    "* [UTF-8](https://en.wikipedia.org/wiki/UTF-8) is the current dominant character encoding on internet.  \n",
    "\n",
    "<img src=\"./unicode.png\" width=\"800\" align=\"center\"/>\n",
    "\n",
    "Source: [Google Blog](https://googleblog.blogspot.com/2012/02/unicode-over-60-percent-of-web.html)\n",
    "\n",
    "* Julia supports the full range of UTF-8 characters. You can type many Unicode math symbols by typing the backslashed LaTeX symbol name followed by tab. "
   ]
  },
  {
   "cell_type": "code",
   "execution_count": 7,
   "metadata": {},
   "outputs": [
    {
     "data": {
      "text/plain": [
       "0.0"
      ]
     },
     "execution_count": 7,
     "metadata": {},
     "output_type": "execute_result"
    }
   ],
   "source": [
    "# \\beta-<tab>\n",
    "β = 0.0\n",
    "# \\beta-<tab>-\\hat-<tab>\n",
    "β̂ = 0.0"
   ]
  },
  {
   "cell_type": "markdown",
   "metadata": {},
   "source": [
    "* For a table of unicode symbols that can be entered via tab completion of LaTeX-like abbreviations: <https://docs.julialang.org/en/v1.1/manual/unicode-input/#Unicode-Input-1>"
   ]
  },
  {
   "cell_type": "markdown",
   "metadata": {},
   "source": [
    "## Integers: fixed-point number system\n",
    "\n",
    "* Fixed-point number system is a computer model for integers $\\mathbb{Z}$. \n",
    "    - **Remember** that computer memory is finite whereas the cardinality of $\\mathbb{Z}$ is (countably) infinite.\n",
    "    - *Any* representation of numbers in computer *has to be* an approximation.\n",
    "\n",
    "* The number $M$ of bits and method of representing negative numbers vary from system to system. \n",
    "    - The `integer` type in R has $M=32$ (packages such as ‘bit64’support 64 bit integers). \n",
    "        + <https://www.r-bloggers.com/r-in-a-64-bit-world/>\n",
    "    - C has (`unsigned`) `char`, `int`, `short`, `long` (and `long long`), whose sizes depend on the machine.\n",
    "    - Matlab has `(u)int8`, `(u)int16`, `(u)int32`, `(u)int64`.  \n",
    "\n",
    "* Julia has even more integer types: "
   ]
  },
  {
   "cell_type": "code",
   "execution_count": 8,
   "metadata": {},
   "outputs": [
    {
     "data": {
      "image/svg+xml": [
       "<?xml version=\"1.0\" encoding=\"utf-8\"?>\n",
       "<svg xmlns=\"http://www.w3.org/2000/svg\" xmlns:xlink=\"http://www.w3.org/1999/xlink\" width=\"600\" height=\"400\" viewBox=\"0 0 2400 1600\">\n",
       "<defs>\n",
       "  <clipPath id=\"clip830\">\n",
       "    <rect x=\"0\" y=\"0\" width=\"2400\" height=\"1600\"/>\n",
       "  </clipPath>\n",
       "</defs>\n",
       "<path clip-path=\"url(#clip830)\" d=\"\n",
       "M0 1600 L2400 1600 L2400 0 L0 0  Z\n",
       "  \" fill=\"#ffffff\" fill-rule=\"evenodd\" fill-opacity=\"1\"/>\n",
       "<defs>\n",
       "  <clipPath id=\"clip831\">\n",
       "    <rect x=\"480\" y=\"0\" width=\"1681\" height=\"1600\"/>\n",
       "  </clipPath>\n",
       "</defs>\n",
       "<path clip-path=\"url(#clip830)\" d=\"\n",
       "M447.244 1552.76 L1952.76 1552.76 L1952.76 47.2441 L447.244 47.2441  Z\n",
       "  \" fill=\"#ffffff\" fill-rule=\"evenodd\" fill-opacity=\"1\"/>\n",
       "<defs>\n",
       "  <clipPath id=\"clip832\">\n",
       "    <rect x=\"447\" y=\"47\" width=\"1507\" height=\"1507\"/>\n",
       "  </clipPath>\n",
       "</defs>\n",
       "<polyline clip-path=\"url(#clip832)\" style=\"stroke:#000000; stroke-linecap:butt; stroke-linejoin:round; stroke-width:4; stroke-opacity:1; fill:none\" points=\"\n",
       "  1177.61,262.317 1177.33,268.581 1176.53,274.87 1175.23,281.182 1173.49,287.516 1171.33,293.869 1168.81,300.24 1165.95,306.627 1162.79,313.027 1159.39,319.44 \n",
       "  1155.76,325.863 1151.97,332.294 1148.03,338.732 1144,345.175 1139.91,351.62 1135.8,358.066 1131.7,364.512 1127.67,370.954 1123.74,377.392 1119.94,383.823 \n",
       "  1116.32,390.246 1112.91,396.659 1109.76,403.06 1106.9,409.447 1104.37,415.817 1102.22,422.171 1100.47,428.504 1099.18,434.816 1098.37,441.105 1098.1,447.369 \n",
       "  \n",
       "  \"/>\n",
       "<polyline clip-path=\"url(#clip832)\" style=\"stroke:#000000; stroke-linecap:butt; stroke-linejoin:round; stroke-width:4; stroke-opacity:1; fill:none\" points=\"\n",
       "  1098.1,447.369 1098.47,453.013 1099.55,458.552 1101.28,463.994 1103.62,469.347 1106.51,474.619 1109.89,479.817 1113.72,484.95 1117.95,490.025 1122.51,495.049 \n",
       "  1127.37,500.031 1132.46,504.979 1137.73,509.899 1143.13,514.799 1148.62,519.688 1154.13,524.574 1159.61,529.463 1165.01,534.364 1170.29,539.284 1175.38,544.231 \n",
       "  1180.23,549.213 1184.8,554.237 1189.02,559.312 1192.85,564.445 1196.24,569.643 1199.12,574.915 1201.46,580.269 1203.2,585.711 1204.28,591.25 1204.65,596.893 \n",
       "  \n",
       "  \"/>\n",
       "<polyline clip-path=\"url(#clip832)\" style=\"stroke:#000000; stroke-linecap:butt; stroke-linejoin:round; stroke-width:4; stroke-opacity:1; fill:none\" points=\"\n",
       "  1204.65,596.893 1204.61,603.85 1204.5,610.953 1204.33,618.19 1204.09,625.551 1203.8,633.026 1203.46,640.603 1203.07,648.272 1202.65,656.021 1202.19,663.841 \n",
       "  1201.7,671.72 1201.19,679.647 1200.66,687.613 1200.12,695.605 1199.56,703.613 1199.01,711.627 1198.46,719.635 1197.91,727.627 1197.38,735.592 1196.87,743.52 \n",
       "  1196.38,751.399 1195.92,759.218 1195.5,766.968 1195.11,774.637 1194.77,782.214 1194.48,789.688 1194.25,797.05 1194.07,804.287 1193.96,811.39 1193.93,818.347 \n",
       "  \n",
       "  \"/>\n",
       "<polyline clip-path=\"url(#clip832)\" style=\"stroke:#000000; stroke-linecap:butt; stroke-linejoin:round; stroke-width:4; stroke-opacity:1; fill:none\" points=\"\n",
       "  1193.93,818.347 1193.68,827.682 1192.98,837.159 1191.84,846.769 1190.3,856.502 1188.41,866.345 1186.19,876.289 1183.68,886.323 1180.91,896.436 1177.91,906.619 \n",
       "  1174.73,916.86 1171.39,927.148 1167.93,937.473 1164.39,947.825 1160.79,958.193 1157.18,968.567 1153.58,978.934 1150.04,989.286 1146.58,999.612 1143.24,1009.9 \n",
       "  1140.06,1020.14 1137.07,1030.32 1134.29,1040.44 1131.78,1050.47 1129.56,1060.42 1127.67,1070.26 1126.13,1079.99 1125,1089.6 1124.29,1099.08 1124.05,1108.41 \n",
       "  \n",
       "  \"/>\n",
       "<polyline clip-path=\"url(#clip832)\" style=\"stroke:#000000; stroke-linecap:butt; stroke-linejoin:round; stroke-width:4; stroke-opacity:1; fill:none\" points=\"\n",
       "  1193.93,818.347 1193.98,826.298 1194.15,834.414 1194.42,842.683 1194.78,851.092 1195.22,859.629 1195.74,868.282 1196.33,877.039 1196.98,885.887 1197.68,894.815 \n",
       "  1198.43,903.81 1199.21,912.86 1200.02,921.953 1200.85,931.076 1201.69,940.217 1202.54,949.365 1203.38,958.506 1204.21,967.629 1205.02,976.722 1205.8,985.772 \n",
       "  1206.55,994.767 1207.25,1003.69 1207.9,1012.54 1208.49,1021.3 1209.01,1029.95 1209.45,1038.49 1209.81,1046.9 1210.08,1055.17 1210.25,1063.28 1210.3,1071.24 \n",
       "  \n",
       "  \"/>\n",
       "<polyline clip-path=\"url(#clip832)\" style=\"stroke:#000000; stroke-linecap:butt; stroke-linejoin:round; stroke-width:4; stroke-opacity:1; fill:none\" points=\"\n",
       "  1193.93,818.347 1194.34,826.626 1195.53,834.899 1197.45,843.167 1200.04,851.431 1203.24,859.69 1206.99,867.946 1211.23,876.198 1215.91,884.447 1220.97,892.694 \n",
       "  1226.34,900.938 1231.98,909.18 1237.82,917.421 1243.8,925.661 1249.88,933.9 1255.98,942.14 1262.05,950.379 1268.03,958.619 1273.87,966.86 1279.51,975.102 \n",
       "  1284.89,983.347 1289.94,991.593 1294.62,999.842 1298.86,1008.09 1302.61,1016.35 1305.81,1024.61 1308.4,1032.87 1310.32,1041.14 1311.52,1049.41 1311.93,1057.69 \n",
       "  \n",
       "  \"/>\n",
       "<polyline clip-path=\"url(#clip832)\" style=\"stroke:#000000; stroke-linecap:butt; stroke-linejoin:round; stroke-width:4; stroke-opacity:1; fill:none\" points=\"\n",
       "  1193.93,818.347 1192.96,829.468 1190.15,839.997 1185.63,849.977 1179.55,859.452 1172.03,868.467 1163.21,877.064 1153.24,885.289 1142.24,893.184 1130.35,900.794 \n",
       "  1117.71,908.163 1104.46,915.334 1090.73,922.351 1076.66,929.259 1062.38,936.101 1048.04,942.921 1033.76,949.763 1019.69,956.671 1005.96,963.688 992.706,970.859 \n",
       "  980.068,978.228 968.18,985.838 957.18,993.733 947.204,1001.96 938.388,1010.56 930.869,1019.57 924.783,1029.05 920.267,1039.03 917.457,1049.55 916.49,1060.67 \n",
       "  \n",
       "  \"/>\n",
       "<polyline clip-path=\"url(#clip832)\" style=\"stroke:#000000; stroke-linecap:butt; stroke-linejoin:round; stroke-width:4; stroke-opacity:1; fill:none\" points=\"\n",
       "  916.49,1060.67 915.88,1070.78 914.107,1080.77 911.257,1090.65 907.417,1100.43 902.672,1110.11 897.109,1119.71 890.814,1129.24 883.872,1138.7 876.371,1148.1 \n",
       "  868.396,1157.45 860.034,1166.77 851.369,1176.05 842.49,1185.31 833.481,1194.56 824.43,1203.8 815.421,1213.05 806.542,1222.31 797.877,1231.59 789.515,1240.91 \n",
       "  781.54,1250.26 774.039,1259.66 767.097,1269.12 760.802,1278.65 755.239,1288.25 750.494,1297.93 746.654,1307.71 743.804,1317.59 742.031,1327.58 741.421,1337.68 \n",
       "  \n",
       "  \"/>\n",
       "<polyline clip-path=\"url(#clip832)\" style=\"stroke:#000000; stroke-linecap:butt; stroke-linejoin:round; stroke-width:4; stroke-opacity:1; fill:none\" points=\"\n",
       "  916.49,1060.67 916.28,1066.87 915.668,1073.13 914.686,1079.45 913.361,1085.84 911.725,1092.28 909.807,1098.77 907.636,1105.3 905.243,1111.87 902.656,1118.47 \n",
       "  899.906,1125.1 897.023,1131.75 894.035,1138.43 890.973,1145.11 887.867,1151.8 884.746,1158.5 881.639,1165.19 878.578,1171.88 875.59,1178.55 872.706,1185.2 \n",
       "  869.957,1191.83 867.37,1198.44 864.976,1205.01 862.806,1211.54 860.887,1218.02 859.251,1224.46 857.927,1230.85 856.944,1237.17 856.333,1243.44 856.123,1249.63 \n",
       "  \n",
       "  \"/>\n",
       "<polyline clip-path=\"url(#clip832)\" style=\"stroke:#000000; stroke-linecap:butt; stroke-linejoin:round; stroke-width:4; stroke-opacity:1; fill:none\" points=\"\n",
       "  916.49,1060.67 916.971,1069 918.368,1077.25 920.612,1085.43 923.638,1093.55 927.376,1101.61 931.758,1109.63 936.717,1117.59 942.186,1125.52 948.095,1133.4 \n",
       "  954.377,1141.26 960.965,1149.1 967.79,1156.92 974.785,1164.72 981.882,1172.51 989.013,1180.3 996.11,1188.1 1003.1,1195.9 1009.93,1203.72 1016.52,1211.55 \n",
       "  1022.8,1219.41 1028.71,1227.3 1034.18,1235.23 1039.14,1243.19 1043.52,1251.2 1047.26,1259.27 1050.28,1267.39 1052.53,1275.57 1053.92,1283.82 1054.41,1292.14 \n",
       "  \n",
       "  \"/>\n",
       "<polyline clip-path=\"url(#clip832)\" style=\"stroke:#000000; stroke-linecap:butt; stroke-linejoin:round; stroke-width:4; stroke-opacity:1; fill:none\" points=\"\n",
       "  916.49,1060.67 915.604,1070.73 913.03,1080.22 908.893,1089.19 903.317,1097.69 896.428,1105.75 888.352,1113.42 879.212,1120.73 869.134,1127.73 858.244,1134.47 \n",
       "  846.665,1140.97 834.524,1147.29 821.945,1153.46 809.054,1159.53 795.974,1165.54 782.833,1171.53 769.754,1177.54 756.862,1183.61 744.283,1189.78 732.142,1196.1 \n",
       "  720.564,1202.6 709.673,1209.34 699.595,1216.34 690.456,1223.65 682.379,1231.32 675.49,1239.38 669.915,1247.88 665.777,1256.85 663.203,1266.34 662.317,1276.4 \n",
       "  \n",
       "  \"/>\n",
       "<polyline clip-path=\"url(#clip832)\" style=\"stroke:#000000; stroke-linecap:butt; stroke-linejoin:round; stroke-width:4; stroke-opacity:1; fill:none\" points=\"\n",
       "  916.49,1060.67 916.06,1068.84 914.812,1076.98 912.805,1085.1 910.1,1093.19 906.758,1101.26 902.84,1109.31 898.406,1117.34 893.517,1125.35 888.234,1133.35 \n",
       "  882.617,1141.34 876.727,1149.33 870.625,1157.3 864.371,1165.27 858.027,1173.23 851.651,1181.2 845.307,1189.16 839.053,1197.13 832.951,1205.1 827.061,1213.08 \n",
       "  821.444,1221.08 816.161,1229.08 811.272,1237.09 806.838,1245.12 802.92,1253.17 799.578,1261.24 796.873,1269.33 794.866,1277.45 793.618,1285.59 793.188,1293.75 \n",
       "  \n",
       "  \"/>\n",
       "<polyline clip-path=\"url(#clip832)\" style=\"stroke:#000000; stroke-linecap:butt; stroke-linejoin:round; stroke-width:4; stroke-opacity:1; fill:none\" points=\"\n",
       "  916.49,1060.67 916.655,1069.27 917.133,1078.03 917.901,1086.92 918.937,1095.95 920.216,1105.1 921.716,1114.36 923.413,1123.71 925.285,1133.16 927.308,1142.67 \n",
       "  929.458,1152.25 931.713,1161.89 934.049,1171.56 936.443,1181.26 938.872,1190.98 941.313,1200.7 943.742,1210.42 946.136,1220.12 948.472,1229.79 950.727,1239.42 \n",
       "  952.877,1249 954.9,1258.52 956.771,1267.96 958.469,1277.32 959.969,1286.58 961.248,1295.72 962.284,1304.75 963.052,1313.65 963.53,1322.4 963.695,1331 \n",
       "  \n",
       "  \"/>\n",
       "<polyline clip-path=\"url(#clip832)\" style=\"stroke:#000000; stroke-linecap:butt; stroke-linejoin:round; stroke-width:4; stroke-opacity:1; fill:none\" points=\"\n",
       "  1193.93,818.347 1194.95,828.699 1197.93,838.363 1202.72,847.39 1209.17,855.831 1217.15,863.738 1226.49,871.16 1237.07,878.149 1248.74,884.756 1261.34,891.031 \n",
       "  1274.74,897.027 1288.79,902.793 1303.35,908.381 1318.27,913.841 1333.41,919.225 1348.62,924.584 1363.76,929.968 1378.68,935.428 1393.24,941.016 1407.29,946.782 \n",
       "  1420.69,952.778 1433.3,959.054 1444.96,965.661 1455.54,972.65 1464.89,980.072 1472.86,987.978 1479.31,996.419 1484.1,1005.45 1487.08,1015.11 1488.11,1025.46 \n",
       "  \n",
       "  \"/>\n",
       "<polyline clip-path=\"url(#clip832)\" style=\"stroke:#000000; stroke-linecap:butt; stroke-linejoin:round; stroke-width:4; stroke-opacity:1; fill:none\" points=\"\n",
       "  1488.11,1025.46 1488.41,1032.92 1489.3,1040.42 1490.74,1047.97 1492.67,1055.55 1495.06,1063.18 1497.85,1070.83 1501.02,1078.52 1504.51,1086.23 1508.28,1093.97 \n",
       "  1512.3,1101.73 1516.5,1109.5 1520.86,1117.28 1525.33,1125.07 1529.86,1132.87 1534.41,1140.67 1538.94,1148.47 1543.41,1156.26 1547.76,1164.05 1551.97,1171.82 \n",
       "  1555.98,1179.57 1559.75,1187.31 1563.25,1195.02 1566.41,1202.71 1569.21,1210.37 1571.6,1217.99 1573.53,1225.58 1574.96,1233.12 1575.85,1240.63 1576.16,1248.08 \n",
       "  \n",
       "  \"/>\n",
       "<polyline clip-path=\"url(#clip832)\" style=\"stroke:#000000; stroke-linecap:butt; stroke-linejoin:round; stroke-width:4; stroke-opacity:1; fill:none\" points=\"\n",
       "  1488.11,1025.46 1488.18,1035.03 1488.39,1044.79 1488.74,1054.74 1489.2,1064.86 1489.78,1075.13 1490.45,1085.54 1491.22,1096.07 1492.06,1106.71 1492.96,1117.45 \n",
       "  1493.93,1128.27 1494.94,1139.15 1495.99,1150.09 1497.07,1161.06 1498.16,1172.06 1499.26,1183.06 1500.35,1194.05 1501.42,1205.02 1502.47,1215.96 1503.48,1226.85 \n",
       "  1504.45,1237.66 1505.36,1248.4 1506.2,1259.05 1506.96,1269.58 1507.64,1279.99 1508.21,1290.26 1508.68,1300.37 1509.02,1310.32 1509.24,1320.09 1509.31,1329.65 \n",
       "  \n",
       "  \"/>\n",
       "<polyline clip-path=\"url(#clip832)\" style=\"stroke:#000000; stroke-linecap:butt; stroke-linejoin:round; stroke-width:4; stroke-opacity:1; fill:none\" points=\"\n",
       "  1488.11,1025.46 1488.98,1035.62 1491.5,1045.27 1495.57,1054.44 1501.04,1063.17 1507.8,1071.5 1515.74,1079.47 1524.71,1087.12 1534.61,1094.48 1545.3,1101.59 \n",
       "  1556.67,1108.5 1568.59,1115.23 1580.94,1121.83 1593.6,1128.33 1606.44,1134.78 1619.35,1141.21 1632.19,1147.66 1644.85,1154.16 1657.2,1160.76 1669.12,1167.49 \n",
       "  1680.49,1174.4 1691.18,1181.51 1701.08,1188.87 1710.05,1196.52 1717.98,1204.49 1724.75,1212.82 1730.22,1221.55 1734.29,1230.72 1736.81,1240.37 1737.68,1250.53 \n",
       "  \n",
       "  \"/>\n",
       "<polyline clip-path=\"url(#clip832)\" style=\"stroke:#000000; stroke-linecap:butt; stroke-linejoin:round; stroke-width:4; stroke-opacity:1; fill:none\" points=\"\n",
       "  1488.11,1025.46 1488.72,1034.31 1490.51,1042.95 1493.39,1051.4 1497.27,1059.66 1502.07,1067.76 1507.69,1075.72 1514.05,1083.54 1521.07,1091.24 1528.65,1098.85 \n",
       "  1536.71,1106.36 1545.16,1113.81 1553.91,1121.2 1562.89,1128.56 1571.99,1135.89 1581.14,1143.21 1590.24,1150.54 1599.22,1157.89 1607.97,1165.29 1616.42,1172.73 \n",
       "  1624.48,1180.25 1632.06,1187.85 1639.08,1195.56 1645.44,1203.38 1651.06,1211.33 1655.85,1219.44 1659.74,1227.7 1662.62,1236.15 1664.41,1244.79 1665.02,1253.64 \n",
       "  \n",
       "  \"/>\n",
       "<polyline clip-path=\"url(#clip832)\" style=\"stroke:#000000; stroke-linecap:butt; stroke-linejoin:round; stroke-width:4; stroke-opacity:1; fill:none\" points=\"\n",
       "  1488.11,1025.46 1487.8,1034.99 1486.89,1044.63 1485.44,1054.37 1483.49,1064.22 1481.08,1074.15 1478.25,1084.16 1475.05,1094.24 1471.52,1104.39 1467.7,1114.6 \n",
       "  1463.64,1124.84 1459.39,1135.13 1454.98,1145.45 1450.47,1155.79 1445.89,1166.14 1441.28,1176.49 1436.7,1186.85 1432.18,1197.18 1427.78,1207.5 1423.53,1217.79 \n",
       "  1419.47,1228.04 1415.65,1238.24 1412.12,1248.39 1408.92,1258.47 1406.09,1268.49 1403.68,1278.42 1401.73,1288.26 1400.28,1298.01 1399.37,1307.65 1399.06,1317.17 \n",
       "  \n",
       "  \"/>\n",
       "<path clip-path=\"url(#clip832)\" d=\"\n",
       "M1196.25 262.317 L1186.93 246.169 L1168.28 246.169 L1158.96 262.317 L1168.28 278.465 L1186.93 278.465 L1196.25 262.317 L1196.25 262.317  Z\n",
       "  \" fill=\"#009af9\" fill-rule=\"evenodd\" fill-opacity=\"1\"/>\n",
       "<polyline clip-path=\"url(#clip832)\" style=\"stroke:#000000; stroke-linecap:butt; stroke-linejoin:round; stroke-width:4; stroke-opacity:1; fill:none\" points=\"\n",
       "  1196.25,262.317 1186.93,246.169 1168.28,246.169 1158.96,262.317 1168.28,278.465 1186.93,278.465 1196.25,262.317 \n",
       "  \"/>\n",
       "<path clip-path=\"url(#clip832)\" d=\"\n",
       "M1130.56 447.369 L1114.33 419.254 L1081.86 419.254 L1065.63 447.369 L1081.86 475.485 L1114.33 475.485 L1130.56 447.369 L1130.56 447.369  Z\n",
       "  \" fill=\"#009af9\" fill-rule=\"evenodd\" fill-opacity=\"1\"/>\n",
       "<polyline clip-path=\"url(#clip832)\" style=\"stroke:#000000; stroke-linecap:butt; stroke-linejoin:round; stroke-width:4; stroke-opacity:1; fill:none\" points=\"\n",
       "  1130.56,447.369 1114.33,419.254 1081.86,419.254 1065.63,447.369 1081.86,475.485 1114.33,475.485 1130.56,447.369 \n",
       "  \"/>\n",
       "<path clip-path=\"url(#clip832)\" d=\"\n",
       "M1228.12 596.893 L1216.38 576.566 L1192.91 576.566 L1181.18 596.893 L1192.91 617.22 L1216.38 617.22 L1228.12 596.893 L1228.12 596.893  Z\n",
       "  \" fill=\"#009af9\" fill-rule=\"evenodd\" fill-opacity=\"1\"/>\n",
       "<polyline clip-path=\"url(#clip832)\" style=\"stroke:#000000; stroke-linecap:butt; stroke-linejoin:round; stroke-width:4; stroke-opacity:1; fill:none\" points=\"\n",
       "  1228.12,596.893 1216.38,576.566 1192.91,576.566 1181.18,596.893 1192.91,617.22 1216.38,617.22 1228.12,596.893 \n",
       "  \"/>\n",
       "<path clip-path=\"url(#clip832)\" d=\"\n",
       "M1230.65 818.347 L1212.29 786.542 L1175.56 786.542 L1157.2 818.347 L1175.56 850.152 L1212.29 850.152 L1230.65 818.347 L1230.65 818.347  Z\n",
       "  \" fill=\"#009af9\" fill-rule=\"evenodd\" fill-opacity=\"1\"/>\n",
       "<polyline clip-path=\"url(#clip832)\" style=\"stroke:#000000; stroke-linecap:butt; stroke-linejoin:round; stroke-width:4; stroke-opacity:1; fill:none\" points=\"\n",
       "  1230.65,818.347 1212.29,786.542 1175.56,786.542 1157.2,818.347 1175.56,850.152 1212.29,850.152 1230.65,818.347 \n",
       "  \"/>\n",
       "<path clip-path=\"url(#clip832)\" d=\"\n",
       "M1147.52 1108.41 L1135.78 1088.09 L1112.31 1088.09 L1100.57 1108.41 L1112.31 1128.74 L1135.78 1128.74 L1147.52 1108.41 L1147.52 1108.41  Z\n",
       "  \" fill=\"#009af9\" fill-rule=\"evenodd\" fill-opacity=\"1\"/>\n",
       "<polyline clip-path=\"url(#clip832)\" style=\"stroke:#000000; stroke-linecap:butt; stroke-linejoin:round; stroke-width:4; stroke-opacity:1; fill:none\" points=\"\n",
       "  1147.52,1108.41 1135.78,1088.09 1112.31,1088.09 1100.57,1108.41 1112.31,1128.74 1135.78,1128.74 1147.52,1108.41 \n",
       "  \"/>\n",
       "<path clip-path=\"url(#clip832)\" d=\"\n",
       "M1270.57 1071.24 L1240.43 1019.05 L1180.17 1019.05 L1150.04 1071.24 L1180.17 1123.42 L1240.43 1123.42 L1270.57 1071.24 L1270.57 1071.24  Z\n",
       "  \" fill=\"#009af9\" fill-rule=\"evenodd\" fill-opacity=\"1\"/>\n",
       "<polyline clip-path=\"url(#clip832)\" style=\"stroke:#000000; stroke-linecap:butt; stroke-linejoin:round; stroke-width:4; stroke-opacity:1; fill:none\" points=\"\n",
       "  1270.57,1071.24 1240.43,1019.05 1180.17,1019.05 1150.04,1071.24 1180.17,1123.42 1240.43,1123.42 1270.57,1071.24 \n",
       "  \"/>\n",
       "<path clip-path=\"url(#clip832)\" d=\"\n",
       "M1372.19 1057.69 L1342.06 1005.5 L1281.8 1005.5 L1251.67 1057.69 L1281.8 1109.88 L1342.06 1109.88 L1372.19 1057.69 L1372.19 1057.69  Z\n",
       "  \" fill=\"#009af9\" fill-rule=\"evenodd\" fill-opacity=\"1\"/>\n",
       "<polyline clip-path=\"url(#clip832)\" style=\"stroke:#000000; stroke-linecap:butt; stroke-linejoin:round; stroke-width:4; stroke-opacity:1; fill:none\" points=\"\n",
       "  1372.19,1057.69 1342.06,1005.5 1281.8,1005.5 1251.67,1057.69 1281.8,1109.88 1342.06,1109.88 1372.19,1057.69 \n",
       "  \"/>\n",
       "<path clip-path=\"url(#clip832)\" d=\"\n",
       "M948.955 1060.67 L932.722 1032.56 L900.258 1032.56 L884.026 1060.67 L900.258 1088.79 L932.722 1088.79 L948.955 1060.67 L948.955 1060.67  Z\n",
       "  \" fill=\"#009af9\" fill-rule=\"evenodd\" fill-opacity=\"1\"/>\n",
       "<polyline clip-path=\"url(#clip832)\" style=\"stroke:#000000; stroke-linecap:butt; stroke-linejoin:round; stroke-width:4; stroke-opacity:1; fill:none\" points=\"\n",
       "  948.955,1060.67 932.722,1032.56 900.258,1032.56 884.026,1060.67 900.258,1088.79 932.722,1088.79 948.955,1060.67 \n",
       "  \"/>\n",
       "<path clip-path=\"url(#clip832)\" d=\"\n",
       "M773.885 1337.68 L757.653 1309.57 L725.189 1309.57 L708.956 1337.68 L725.189 1365.8 L757.653 1365.8 L773.885 1337.68 L773.885 1337.68  Z\n",
       "  \" fill=\"#009af9\" fill-rule=\"evenodd\" fill-opacity=\"1\"/>\n",
       "<polyline clip-path=\"url(#clip832)\" style=\"stroke:#000000; stroke-linecap:butt; stroke-linejoin:round; stroke-width:4; stroke-opacity:1; fill:none\" points=\"\n",
       "  773.885,1337.68 757.653,1309.57 725.189,1309.57 708.956,1337.68 725.189,1365.8 757.653,1365.8 773.885,1337.68 \n",
       "  \"/>\n",
       "<path clip-path=\"url(#clip832)\" d=\"\n",
       "M888.587 1249.63 L872.355 1221.51 L839.89 1221.51 L823.658 1249.63 L839.89 1277.74 L872.355 1277.74 L888.587 1249.63 L888.587 1249.63  Z\n",
       "  \" fill=\"#009af9\" fill-rule=\"evenodd\" fill-opacity=\"1\"/>\n",
       "<polyline clip-path=\"url(#clip832)\" style=\"stroke:#000000; stroke-linecap:butt; stroke-linejoin:round; stroke-width:4; stroke-opacity:1; fill:none\" points=\"\n",
       "  888.587,1249.63 872.355,1221.51 839.89,1221.51 823.658,1249.63 839.89,1277.74 872.355,1277.74 888.587,1249.63 \n",
       "  \"/>\n",
       "<path clip-path=\"url(#clip832)\" d=\"\n",
       "M1082.46 1292.14 L1068.43 1267.84 L1040.38 1267.84 L1026.35 1292.14 L1040.38 1316.44 L1068.43 1316.44 L1082.46 1292.14 L1082.46 1292.14  Z\n",
       "  \" fill=\"#009af9\" fill-rule=\"evenodd\" fill-opacity=\"1\"/>\n",
       "<polyline clip-path=\"url(#clip832)\" style=\"stroke:#000000; stroke-linecap:butt; stroke-linejoin:round; stroke-width:4; stroke-opacity:1; fill:none\" points=\"\n",
       "  1082.46,1292.14 1068.43,1267.84 1040.38,1267.84 1026.35,1292.14 1040.38,1316.44 1068.43,1316.44 1082.46,1292.14 \n",
       "  \"/>\n",
       "<path clip-path=\"url(#clip832)\" d=\"\n",
       "M690.376 1276.4 L676.346 1252.1 L648.288 1252.1 L634.259 1276.4 L648.288 1300.69 L676.346 1300.69 L690.376 1276.4 L690.376 1276.4  Z\n",
       "  \" fill=\"#009af9\" fill-rule=\"evenodd\" fill-opacity=\"1\"/>\n",
       "<polyline clip-path=\"url(#clip832)\" style=\"stroke:#000000; stroke-linecap:butt; stroke-linejoin:round; stroke-width:4; stroke-opacity:1; fill:none\" points=\"\n",
       "  690.376,1276.4 676.346,1252.1 648.288,1252.1 634.259,1276.4 648.288,1300.69 676.346,1300.69 690.376,1276.4 \n",
       "  \"/>\n",
       "<path clip-path=\"url(#clip832)\" d=\"\n",
       "M821.246 1293.75 L807.217 1269.45 L779.159 1269.45 L765.129 1293.75 L779.159 1318.05 L807.217 1318.05 L821.246 1293.75 L821.246 1293.75  Z\n",
       "  \" fill=\"#009af9\" fill-rule=\"evenodd\" fill-opacity=\"1\"/>\n",
       "<polyline clip-path=\"url(#clip832)\" style=\"stroke:#000000; stroke-linecap:butt; stroke-linejoin:round; stroke-width:4; stroke-opacity:1; fill:none\" points=\"\n",
       "  821.246,1293.75 807.217,1269.45 779.159,1269.45 765.129,1293.75 779.159,1318.05 807.217,1318.05 821.246,1293.75 \n",
       "  \"/>\n",
       "<path clip-path=\"url(#clip832)\" d=\"\n",
       "M987.166 1331 L975.43 1310.67 L951.959 1310.67 L940.223 1331 L951.959 1351.33 L975.43 1351.33 L987.166 1331 L987.166 1331  Z\n",
       "  \" fill=\"#009af9\" fill-rule=\"evenodd\" fill-opacity=\"1\"/>\n",
       "<polyline clip-path=\"url(#clip832)\" style=\"stroke:#000000; stroke-linecap:butt; stroke-linejoin:round; stroke-width:4; stroke-opacity:1; fill:none\" points=\"\n",
       "  987.166,1331 975.43,1310.67 951.959,1310.67 940.223,1331 951.959,1351.33 975.43,1351.33 987.166,1331 \n",
       "  \"/>\n",
       "<path clip-path=\"url(#clip832)\" d=\"\n",
       "M1528.97 1025.46 L1508.54 990.071 L1467.67 990.071 L1447.24 1025.46 L1467.67 1060.85 L1508.54 1060.85 L1528.97 1025.46 L1528.97 1025.46  Z\n",
       "  \" fill=\"#009af9\" fill-rule=\"evenodd\" fill-opacity=\"1\"/>\n",
       "<polyline clip-path=\"url(#clip832)\" style=\"stroke:#000000; stroke-linecap:butt; stroke-linejoin:round; stroke-width:4; stroke-opacity:1; fill:none\" points=\"\n",
       "  1528.97,1025.46 1508.54,990.071 1467.67,990.071 1447.24,1025.46 1467.67,1060.85 1508.54,1060.85 1528.97,1025.46 \n",
       "  \"/>\n",
       "<path clip-path=\"url(#clip832)\" d=\"\n",
       "M1612.89 1248.08 L1594.52 1216.28 L1557.8 1216.28 L1539.44 1248.08 L1557.8 1279.89 L1594.52 1279.89 L1612.89 1248.08 L1612.89 1248.08  Z\n",
       "  \" fill=\"#009af9\" fill-rule=\"evenodd\" fill-opacity=\"1\"/>\n",
       "<polyline clip-path=\"url(#clip832)\" style=\"stroke:#000000; stroke-linecap:butt; stroke-linejoin:round; stroke-width:4; stroke-opacity:1; fill:none\" points=\"\n",
       "  1612.89,1248.08 1594.52,1216.28 1557.8,1216.28 1539.44,1248.08 1557.8,1279.89 1594.52,1279.89 1612.89,1248.08 \n",
       "  \"/>\n",
       "<path clip-path=\"url(#clip832)\" d=\"\n",
       "M1541.77 1329.65 L1525.54 1301.54 L1493.08 1301.54 L1476.84 1329.65 L1493.08 1357.77 L1525.54 1357.77 L1541.77 1329.65 L1541.77 1329.65  Z\n",
       "  \" fill=\"#009af9\" fill-rule=\"evenodd\" fill-opacity=\"1\"/>\n",
       "<polyline clip-path=\"url(#clip832)\" style=\"stroke:#000000; stroke-linecap:butt; stroke-linejoin:round; stroke-width:4; stroke-opacity:1; fill:none\" points=\"\n",
       "  1541.77,1329.65 1525.54,1301.54 1493.08,1301.54 1476.84,1329.65 1493.08,1357.77 1525.54,1357.77 1541.77,1329.65 \n",
       "  \"/>\n",
       "<path clip-path=\"url(#clip832)\" d=\"\n",
       "M1770.15 1250.53 L1753.92 1222.41 L1721.45 1222.41 L1705.22 1250.53 L1721.45 1278.64 L1753.92 1278.64 L1770.15 1250.53 L1770.15 1250.53  Z\n",
       "  \" fill=\"#009af9\" fill-rule=\"evenodd\" fill-opacity=\"1\"/>\n",
       "<polyline clip-path=\"url(#clip832)\" style=\"stroke:#000000; stroke-linecap:butt; stroke-linejoin:round; stroke-width:4; stroke-opacity:1; fill:none\" points=\"\n",
       "  1770.15,1250.53 1753.92,1222.41 1721.45,1222.41 1705.22,1250.53 1721.45,1278.64 1753.92,1278.64 1770.15,1250.53 \n",
       "  \"/>\n",
       "<path clip-path=\"url(#clip832)\" d=\"\n",
       "M1697.49 1253.64 L1681.26 1225.52 L1648.79 1225.52 L1632.56 1253.64 L1648.79 1281.75 L1681.26 1281.75 L1697.49 1253.64 L1697.49 1253.64  Z\n",
       "  \" fill=\"#009af9\" fill-rule=\"evenodd\" fill-opacity=\"1\"/>\n",
       "<polyline clip-path=\"url(#clip832)\" style=\"stroke:#000000; stroke-linecap:butt; stroke-linejoin:round; stroke-width:4; stroke-opacity:1; fill:none\" points=\"\n",
       "  1697.49,1253.64 1681.26,1225.52 1648.79,1225.52 1632.56,1253.64 1648.79,1281.75 1681.26,1281.75 1697.49,1253.64 \n",
       "  \"/>\n",
       "<path clip-path=\"url(#clip832)\" d=\"\n",
       "M1427.12 1317.17 L1413.09 1292.87 L1385.03 1292.87 L1371.01 1317.17 L1385.03 1341.47 L1413.09 1341.47 L1427.12 1317.17 L1427.12 1317.17  Z\n",
       "  \" fill=\"#009af9\" fill-rule=\"evenodd\" fill-opacity=\"1\"/>\n",
       "<polyline clip-path=\"url(#clip832)\" style=\"stroke:#000000; stroke-linecap:butt; stroke-linejoin:round; stroke-width:4; stroke-opacity:1; fill:none\" points=\"\n",
       "  1427.12,1317.17 1413.09,1292.87 1385.03,1292.87 1371.01,1317.17 1385.03,1341.47 1413.09,1341.47 1427.12,1317.17 \n",
       "  \"/>\n",
       "<circle clip-path=\"url(#clip832)\" style=\"fill:#009af9; stroke:none; fill-opacity:1\" cx=\"1177.61\" cy=\"262.317\" r=\"2\"/>\n",
       "<circle clip-path=\"url(#clip832)\" style=\"fill:#009af9; stroke:none; fill-opacity:1\" cx=\"1098.1\" cy=\"447.369\" r=\"2\"/>\n",
       "<circle clip-path=\"url(#clip832)\" style=\"fill:#009af9; stroke:none; fill-opacity:1\" cx=\"1204.65\" cy=\"596.893\" r=\"2\"/>\n",
       "<circle clip-path=\"url(#clip832)\" style=\"fill:#009af9; stroke:none; fill-opacity:1\" cx=\"1193.93\" cy=\"818.347\" r=\"2\"/>\n",
       "<circle clip-path=\"url(#clip832)\" style=\"fill:#009af9; stroke:none; fill-opacity:1\" cx=\"1124.05\" cy=\"1108.41\" r=\"2\"/>\n",
       "<circle clip-path=\"url(#clip832)\" style=\"fill:#009af9; stroke:none; fill-opacity:1\" cx=\"1210.3\" cy=\"1071.24\" r=\"2\"/>\n",
       "<circle clip-path=\"url(#clip832)\" style=\"fill:#009af9; stroke:none; fill-opacity:1\" cx=\"1311.93\" cy=\"1057.69\" r=\"2\"/>\n",
       "<circle clip-path=\"url(#clip832)\" style=\"fill:#009af9; stroke:none; fill-opacity:1\" cx=\"916.49\" cy=\"1060.67\" r=\"2\"/>\n",
       "<circle clip-path=\"url(#clip832)\" style=\"fill:#009af9; stroke:none; fill-opacity:1\" cx=\"741.421\" cy=\"1337.68\" r=\"2\"/>\n",
       "<circle clip-path=\"url(#clip832)\" style=\"fill:#009af9; stroke:none; fill-opacity:1\" cx=\"856.123\" cy=\"1249.63\" r=\"2\"/>\n",
       "<circle clip-path=\"url(#clip832)\" style=\"fill:#009af9; stroke:none; fill-opacity:1\" cx=\"1054.41\" cy=\"1292.14\" r=\"2\"/>\n",
       "<circle clip-path=\"url(#clip832)\" style=\"fill:#009af9; stroke:none; fill-opacity:1\" cx=\"662.317\" cy=\"1276.4\" r=\"2\"/>\n",
       "<circle clip-path=\"url(#clip832)\" style=\"fill:#009af9; stroke:none; fill-opacity:1\" cx=\"793.188\" cy=\"1293.75\" r=\"2\"/>\n",
       "<circle clip-path=\"url(#clip832)\" style=\"fill:#009af9; stroke:none; fill-opacity:1\" cx=\"963.695\" cy=\"1331\" r=\"2\"/>\n",
       "<circle clip-path=\"url(#clip832)\" style=\"fill:#009af9; stroke:none; fill-opacity:1\" cx=\"1488.11\" cy=\"1025.46\" r=\"2\"/>\n",
       "<circle clip-path=\"url(#clip832)\" style=\"fill:#009af9; stroke:none; fill-opacity:1\" cx=\"1576.16\" cy=\"1248.08\" r=\"2\"/>\n",
       "<circle clip-path=\"url(#clip832)\" style=\"fill:#009af9; stroke:none; fill-opacity:1\" cx=\"1509.31\" cy=\"1329.65\" r=\"2\"/>\n",
       "<circle clip-path=\"url(#clip832)\" style=\"fill:#009af9; stroke:none; fill-opacity:1\" cx=\"1737.68\" cy=\"1250.53\" r=\"2\"/>\n",
       "<circle clip-path=\"url(#clip832)\" style=\"fill:#009af9; stroke:none; fill-opacity:1\" cx=\"1665.02\" cy=\"1253.64\" r=\"2\"/>\n",
       "<circle clip-path=\"url(#clip832)\" style=\"fill:#009af9; stroke:none; fill-opacity:1\" cx=\"1399.06\" cy=\"1317.17\" r=\"2\"/>\n",
       "<path clip-path=\"url(#clip830)\" d=\"M1163.34 255.98 L1160.17 264.58 L1166.52 264.58 L1163.34 255.98 M1162.02 253.677 L1164.67 253.677 L1171.25 270.957 L1168.82 270.957 L1167.25 266.524 L1159.46 266.524 L1157.89 270.957 L1155.42 270.957 L1162.02 253.677 Z\" fill=\"#000000\" fill-rule=\"evenodd\" fill-opacity=\"1\" /><path clip-path=\"url(#clip830)\" d=\"M1184.46 263.133 L1184.46 270.957 L1182.33 270.957 L1182.33 263.203 Q1182.33 261.362 1181.61 260.448 Q1180.89 259.534 1179.46 259.534 Q1177.74 259.534 1176.74 260.633 Q1175.74 261.733 1175.74 263.631 L1175.74 270.957 L1173.6 270.957 L1173.6 257.994 L1175.74 257.994 L1175.74 260.008 Q1176.51 258.839 1177.54 258.261 Q1178.58 257.682 1179.93 257.682 Q1182.17 257.682 1183.31 259.071 Q1184.46 260.448 1184.46 263.133 Z\" fill=\"#000000\" fill-rule=\"evenodd\" fill-opacity=\"1\" /><path clip-path=\"url(#clip830)\" d=\"M1194.1 272.161 Q1193.2 274.476 1192.34 275.182 Q1191.48 275.888 1190.05 275.888 L1188.35 275.888 L1188.35 274.105 L1189.6 274.105 Q1190.48 274.105 1190.96 273.689 Q1191.45 273.272 1192.04 271.721 L1192.42 270.749 L1187.18 257.994 L1189.44 257.994 L1193.49 268.133 L1197.54 257.994 L1199.8 257.994 L1194.1 272.161 Z\" fill=\"#000000\" fill-rule=\"evenodd\" fill-opacity=\"1\" /><path clip-path=\"url(#clip830)\" d=\"M1051.65 438.729 L1054.8 438.729 L1062.46 453.185 L1062.46 438.729 L1064.73 438.729 L1064.73 456.009 L1061.58 456.009 L1053.92 441.553 L1053.92 456.009 L1051.65 456.009 L1051.65 438.729 Z\" fill=\"#000000\" fill-rule=\"evenodd\" fill-opacity=\"1\" /><path clip-path=\"url(#clip830)\" d=\"M1069.07 450.894 L1069.07 443.046 L1071.2 443.046 L1071.2 450.813 Q1071.2 452.653 1071.91 453.579 Q1072.63 454.493 1074.07 454.493 Q1075.79 454.493 1076.79 453.394 Q1077.79 452.294 1077.79 450.396 L1077.79 443.046 L1079.92 443.046 L1079.92 456.009 L1077.79 456.009 L1077.79 454.019 Q1077.02 455.199 1075.99 455.778 Q1074.97 456.345 1073.62 456.345 Q1071.38 456.345 1070.23 454.956 Q1069.07 453.567 1069.07 450.894 M1074.43 442.734 L1074.43 442.734 Z\" fill=\"#000000\" fill-rule=\"evenodd\" fill-opacity=\"1\" /><path clip-path=\"url(#clip830)\" d=\"M1094.4 445.535 Q1095.2 444.1 1096.31 443.417 Q1097.42 442.734 1098.93 442.734 Q1100.95 442.734 1102.05 444.158 Q1103.15 445.57 1103.15 448.185 L1103.15 456.009 L1101.01 456.009 L1101.01 448.255 Q1101.01 446.391 1100.35 445.489 Q1099.69 444.586 1098.34 444.586 Q1096.68 444.586 1095.72 445.685 Q1094.76 446.785 1094.76 448.683 L1094.76 456.009 L1092.62 456.009 L1092.62 448.255 Q1092.62 446.38 1091.96 445.489 Q1091.3 444.586 1089.92 444.586 Q1088.29 444.586 1087.33 445.697 Q1086.37 446.796 1086.37 448.683 L1086.37 456.009 L1084.23 456.009 L1084.23 443.046 L1086.37 443.046 L1086.37 445.06 Q1087.1 443.868 1088.12 443.301 Q1089.14 442.734 1090.54 442.734 Q1091.95 442.734 1092.93 443.452 Q1093.93 444.169 1094.4 445.535 Z\" fill=\"#000000\" fill-rule=\"evenodd\" fill-opacity=\"1\" /><path clip-path=\"url(#clip830)\" d=\"M1116.71 449.54 Q1116.71 447.19 1115.73 445.859 Q1114.77 444.516 1113.08 444.516 Q1111.39 444.516 1110.42 445.859 Q1109.46 447.19 1109.46 449.54 Q1109.46 451.889 1110.42 453.232 Q1111.39 454.563 1113.08 454.563 Q1114.77 454.563 1115.73 453.232 Q1116.71 451.889 1116.71 449.54 M1109.46 445.014 Q1110.13 443.857 1111.15 443.301 Q1112.18 442.734 1113.6 442.734 Q1115.97 442.734 1117.44 444.609 Q1118.92 446.484 1118.92 449.54 Q1118.92 452.595 1117.44 454.47 Q1115.97 456.345 1113.6 456.345 Q1112.18 456.345 1111.15 455.789 Q1110.13 455.222 1109.46 454.065 L1109.46 456.009 L1107.32 456.009 L1107.32 438 L1109.46 438 L1109.46 445.014 Z\" fill=\"#000000\" fill-rule=\"evenodd\" fill-opacity=\"1\" /><path clip-path=\"url(#clip830)\" d=\"M1133.53 448.996 L1133.53 450.037 L1123.74 450.037 Q1123.88 452.236 1125.06 453.394 Q1126.25 454.539 1128.37 454.539 Q1129.6 454.539 1130.75 454.239 Q1131.9 453.938 1133.04 453.336 L1133.04 455.35 Q1131.89 455.836 1130.69 456.09 Q1129.48 456.345 1128.25 456.345 Q1125.14 456.345 1123.33 454.539 Q1121.52 452.734 1121.52 449.655 Q1121.52 446.472 1123.23 444.609 Q1124.96 442.734 1127.88 442.734 Q1130.49 442.734 1132.01 444.424 Q1133.53 446.102 1133.53 448.996 M1131.41 448.371 Q1131.38 446.623 1130.42 445.581 Q1129.47 444.54 1127.9 444.54 Q1126.12 444.54 1125.04 445.546 Q1123.97 446.553 1123.81 448.382 L1131.41 448.371 Z\" fill=\"#000000\" fill-rule=\"evenodd\" fill-opacity=\"1\" /><path clip-path=\"url(#clip830)\" d=\"M1144.54 445.037 Q1144.18 444.829 1143.75 444.736 Q1143.34 444.632 1142.83 444.632 Q1141.02 444.632 1140.05 445.813 Q1139.09 446.982 1139.09 449.181 L1139.09 456.009 L1136.95 456.009 L1136.95 443.046 L1139.09 443.046 L1139.09 445.06 Q1139.76 443.88 1140.84 443.313 Q1141.91 442.734 1143.45 442.734 Q1143.67 442.734 1143.94 442.769 Q1144.21 442.792 1144.53 442.85 L1144.54 445.037 Z\" fill=\"#000000\" fill-rule=\"evenodd\" fill-opacity=\"1\" /><path clip-path=\"url(#clip830)\" d=\"M1189.57 597.431 Q1190.32 597.686 1191.02 598.519 Q1191.74 599.352 1192.46 600.811 L1194.83 605.533 L1192.32 605.533 L1190.11 601.1 Q1189.25 599.364 1188.44 598.797 Q1187.64 598.23 1186.26 598.23 L1183.71 598.23 L1183.71 605.533 L1181.37 605.533 L1181.37 588.253 L1186.65 588.253 Q1189.61 588.253 1191.07 589.491 Q1192.53 590.73 1192.53 593.23 Q1192.53 594.862 1191.77 595.938 Q1191.01 597.014 1189.57 597.431 M1183.71 590.174 L1183.71 596.308 L1186.65 596.308 Q1188.34 596.308 1189.2 595.533 Q1190.06 594.746 1190.06 593.23 Q1190.06 591.713 1189.2 590.95 Q1188.34 590.174 1186.65 590.174 L1183.71 590.174 Z\" fill=\"#000000\" fill-rule=\"evenodd\" fill-opacity=\"1\" /><path clip-path=\"url(#clip830)\" d=\"M1207.77 598.519 L1207.77 599.561 L1197.98 599.561 Q1198.12 601.76 1199.3 602.917 Q1200.49 604.063 1202.61 604.063 Q1203.84 604.063 1204.98 603.762 Q1206.14 603.461 1207.27 602.859 L1207.27 604.873 Q1206.13 605.359 1204.92 605.614 Q1203.72 605.868 1202.48 605.868 Q1199.38 605.868 1197.56 604.063 Q1195.76 602.257 1195.76 599.179 Q1195.76 595.996 1197.47 594.132 Q1199.2 592.257 1202.11 592.257 Q1204.73 592.257 1206.24 593.947 Q1207.77 595.625 1207.77 598.519 M1205.64 597.894 Q1205.62 596.146 1204.66 595.105 Q1203.71 594.063 1202.14 594.063 Q1200.35 594.063 1199.28 595.07 Q1198.21 596.077 1198.05 597.906 L1205.64 597.894 Z\" fill=\"#000000\" fill-rule=\"evenodd\" fill-opacity=\"1\" /><path clip-path=\"url(#clip830)\" d=\"M1217.16 599.017 Q1214.58 599.017 1213.58 599.607 Q1212.59 600.197 1212.59 601.621 Q1212.59 602.755 1213.33 603.426 Q1214.08 604.086 1215.36 604.086 Q1217.14 604.086 1218.2 602.836 Q1219.28 601.574 1219.28 599.491 L1219.28 599.017 L1217.16 599.017 M1221.41 598.137 L1221.41 605.533 L1219.28 605.533 L1219.28 603.565 Q1218.55 604.746 1217.46 605.313 Q1216.37 605.868 1214.8 605.868 Q1212.81 605.868 1211.63 604.757 Q1210.46 603.635 1210.46 601.76 Q1210.46 599.572 1211.92 598.461 Q1213.39 597.35 1216.29 597.35 L1219.28 597.35 L1219.28 597.142 Q1219.28 595.672 1218.3 594.873 Q1217.34 594.063 1215.6 594.063 Q1214.49 594.063 1213.43 594.329 Q1212.38 594.595 1211.41 595.128 L1211.41 593.16 Q1212.58 592.709 1213.67 592.489 Q1214.77 592.257 1215.82 592.257 Q1218.63 592.257 1220.02 593.716 Q1221.41 595.174 1221.41 598.137 Z\" fill=\"#000000\" fill-rule=\"evenodd\" fill-opacity=\"1\" /><path clip-path=\"url(#clip830)\" d=\"M1225.79 587.524 L1227.92 587.524 L1227.92 605.533 L1225.79 605.533 L1225.79 587.524 Z\" fill=\"#000000\" fill-rule=\"evenodd\" fill-opacity=\"1\" /><path clip-path=\"url(#clip830)\" d=\"M1152.46 809.707 L1154.79 809.707 L1154.79 826.987 L1152.46 826.987 L1152.46 809.707 Z\" fill=\"#000000\" fill-rule=\"evenodd\" fill-opacity=\"1\" /><path clip-path=\"url(#clip830)\" d=\"M1170.13 819.163 L1170.13 826.987 L1168 826.987 L1168 819.232 Q1168 817.392 1167.28 816.478 Q1166.57 815.563 1165.13 815.563 Q1163.41 815.563 1162.41 816.663 Q1161.41 817.762 1161.41 819.661 L1161.41 826.987 L1159.27 826.987 L1159.27 814.024 L1161.41 814.024 L1161.41 816.038 Q1162.18 814.869 1163.21 814.29 Q1164.25 813.711 1165.6 813.711 Q1167.84 813.711 1168.98 815.1 Q1170.13 816.478 1170.13 819.163 Z\" fill=\"#000000\" fill-rule=\"evenodd\" fill-opacity=\"1\" /><path clip-path=\"url(#clip830)\" d=\"M1176.48 810.343 L1176.48 814.024 L1180.87 814.024 L1180.87 815.679 L1176.48 815.679 L1176.48 822.716 Q1176.48 824.302 1176.91 824.753 Q1177.35 825.204 1178.68 825.204 L1180.87 825.204 L1180.87 826.987 L1178.68 826.987 Q1176.22 826.987 1175.28 826.073 Q1174.34 825.147 1174.34 822.716 L1174.34 815.679 L1172.78 815.679 L1172.78 814.024 L1174.34 814.024 L1174.34 810.343 L1176.48 810.343 Z\" fill=\"#000000\" fill-rule=\"evenodd\" fill-opacity=\"1\" /><path clip-path=\"url(#clip830)\" d=\"M1194.76 819.973 L1194.76 821.015 L1184.97 821.015 Q1185.11 823.214 1186.29 824.371 Q1187.48 825.517 1189.6 825.517 Q1190.82 825.517 1191.97 825.216 Q1193.13 824.915 1194.26 824.313 L1194.26 826.327 Q1193.12 826.813 1191.91 827.068 Q1190.71 827.323 1189.47 827.323 Q1186.37 827.323 1184.55 825.517 Q1182.75 823.711 1182.75 820.633 Q1182.75 817.45 1184.46 815.586 Q1186.18 813.711 1189.1 813.711 Q1191.72 813.711 1193.23 815.401 Q1194.76 817.08 1194.76 819.973 M1192.63 819.348 Q1192.61 817.6 1191.65 816.559 Q1190.7 815.517 1189.12 815.517 Q1187.34 815.517 1186.26 816.524 Q1185.2 817.531 1185.04 819.36 L1192.63 819.348 Z\" fill=\"#000000\" fill-rule=\"evenodd\" fill-opacity=\"1\" /><path clip-path=\"url(#clip830)\" d=\"M1206.79 820.355 Q1206.79 818.04 1205.82 816.767 Q1204.88 815.494 1203.15 815.494 Q1201.44 815.494 1200.48 816.767 Q1199.53 818.04 1199.53 820.355 Q1199.53 822.658 1200.48 823.931 Q1201.44 825.204 1203.15 825.204 Q1204.88 825.204 1205.82 823.931 Q1206.79 822.658 1206.79 820.355 M1208.91 825.378 Q1208.91 828.688 1207.44 830.297 Q1205.97 831.917 1202.94 831.917 Q1201.82 831.917 1200.82 831.744 Q1199.83 831.582 1198.89 831.235 L1198.89 829.163 Q1199.83 829.672 1200.74 829.915 Q1201.66 830.158 1202.61 830.158 Q1204.7 830.158 1205.74 829.059 Q1206.79 827.971 1206.79 825.76 L1206.79 824.707 Q1206.13 825.853 1205.1 826.42 Q1204.07 826.987 1202.63 826.987 Q1200.25 826.987 1198.79 825.17 Q1197.33 823.353 1197.33 820.355 Q1197.33 817.346 1198.79 815.529 Q1200.25 813.711 1202.63 813.711 Q1204.07 813.711 1205.1 814.279 Q1206.13 814.846 1206.79 815.992 L1206.79 814.024 L1208.91 814.024 L1208.91 825.378 Z\" fill=\"#000000\" fill-rule=\"evenodd\" fill-opacity=\"1\" /><path clip-path=\"url(#clip830)\" d=\"M1224.39 819.973 L1224.39 821.015 L1214.6 821.015 Q1214.74 823.214 1215.92 824.371 Q1217.11 825.517 1219.23 825.517 Q1220.45 825.517 1221.6 825.216 Q1222.76 824.915 1223.89 824.313 L1223.89 826.327 Q1222.75 826.813 1221.54 827.068 Q1220.34 827.323 1219.1 827.323 Q1216 827.323 1214.18 825.517 Q1212.38 823.711 1212.38 820.633 Q1212.38 817.45 1214.09 815.586 Q1215.81 813.711 1218.73 813.711 Q1221.35 813.711 1222.86 815.401 Q1224.39 817.08 1224.39 819.973 M1222.26 819.348 Q1222.24 817.6 1221.28 816.559 Q1220.33 815.517 1218.75 815.517 Q1216.97 815.517 1215.89 816.524 Q1214.83 817.531 1214.67 819.36 L1222.26 819.348 Z\" fill=\"#000000\" fill-rule=\"evenodd\" fill-opacity=\"1\" /><path clip-path=\"url(#clip830)\" d=\"M1235.4 816.015 Q1235.04 815.806 1234.61 815.714 Q1234.19 815.61 1233.68 815.61 Q1231.88 815.61 1230.91 816.79 Q1229.94 817.959 1229.94 820.158 L1229.94 826.987 L1227.8 826.987 L1227.8 814.024 L1229.94 814.024 L1229.94 816.038 Q1230.62 814.857 1231.69 814.29 Q1232.77 813.711 1234.31 813.711 Q1234.53 813.711 1234.79 813.746 Q1235.06 813.769 1235.38 813.827 L1235.4 816.015 Z\" fill=\"#000000\" fill-rule=\"evenodd\" fill-opacity=\"1\" /><path clip-path=\"url(#clip830)\" d=\"M1102.73 1108.8 L1102.73 1115.13 L1106.48 1115.13 Q1108.37 1115.13 1109.27 1114.36 Q1110.19 1113.57 1110.19 1111.96 Q1110.19 1110.34 1109.27 1109.58 Q1108.37 1108.8 1106.48 1108.8 L1102.73 1108.8 M1102.73 1101.69 L1102.73 1106.9 L1106.19 1106.9 Q1107.91 1106.9 1108.74 1106.27 Q1109.58 1105.62 1109.58 1104.3 Q1109.58 1102.99 1108.74 1102.34 Q1107.91 1101.69 1106.19 1101.69 L1102.73 1101.69 M1100.39 1099.77 L1106.37 1099.77 Q1109.04 1099.77 1110.49 1100.88 Q1111.93 1102 1111.93 1104.04 Q1111.93 1105.63 1111.19 1106.57 Q1110.45 1107.5 1109.02 1107.74 Q1110.74 1108.11 1111.69 1109.29 Q1112.65 1110.46 1112.65 1112.22 Q1112.65 1114.53 1111.08 1115.79 Q1109.5 1117.05 1106.6 1117.05 L1100.39 1117.05 L1100.39 1099.77 Z\" fill=\"#000000\" fill-rule=\"evenodd\" fill-opacity=\"1\" /><path clip-path=\"url(#clip830)\" d=\"M1121.59 1105.58 Q1119.87 1105.58 1118.88 1106.93 Q1117.88 1108.26 1117.88 1110.58 Q1117.88 1112.91 1118.87 1114.25 Q1119.86 1115.58 1121.59 1115.58 Q1123.29 1115.58 1124.28 1114.24 Q1125.28 1112.9 1125.28 1110.58 Q1125.28 1108.28 1124.28 1106.94 Q1123.29 1105.58 1121.59 1105.58 M1121.59 1103.78 Q1124.36 1103.78 1125.95 1105.58 Q1127.54 1107.39 1127.54 1110.58 Q1127.54 1113.77 1125.95 1115.58 Q1124.36 1117.39 1121.59 1117.39 Q1118.8 1117.39 1117.21 1115.58 Q1115.64 1113.77 1115.64 1110.58 Q1115.64 1107.39 1117.21 1105.58 Q1118.8 1103.78 1121.59 1103.78 Z\" fill=\"#000000\" fill-rule=\"evenodd\" fill-opacity=\"1\" /><path clip-path=\"url(#clip830)\" d=\"M1136.09 1105.58 Q1134.38 1105.58 1133.38 1106.93 Q1132.38 1108.26 1132.38 1110.58 Q1132.38 1112.91 1133.37 1114.25 Q1134.36 1115.58 1136.09 1115.58 Q1137.79 1115.58 1138.79 1114.24 Q1139.78 1112.9 1139.78 1110.58 Q1139.78 1108.28 1138.79 1106.94 Q1137.79 1105.58 1136.09 1105.58 M1136.09 1103.78 Q1138.87 1103.78 1140.45 1105.58 Q1142.04 1107.39 1142.04 1110.58 Q1142.04 1113.77 1140.45 1115.58 Q1138.87 1117.39 1136.09 1117.39 Q1133.3 1117.39 1131.71 1115.58 Q1130.14 1113.77 1130.14 1110.58 Q1130.14 1107.39 1131.71 1105.58 Q1133.3 1103.78 1136.09 1103.78 Z\" fill=\"#000000\" fill-rule=\"evenodd\" fill-opacity=\"1\" /><path clip-path=\"url(#clip830)\" d=\"M1145.57 1099.04 L1147.7 1099.04 L1147.7 1117.05 L1145.57 1117.05 L1145.57 1099.04 Z\" fill=\"#000000\" fill-rule=\"evenodd\" fill-opacity=\"1\" /><path clip-path=\"url(#clip830)\" d=\"M1140.56 1064.18 Q1138.01 1064.18 1136.51 1066.08 Q1135.01 1067.98 1135.01 1071.25 Q1135.01 1074.52 1136.51 1076.41 Q1138.01 1078.31 1140.56 1078.31 Q1143.1 1078.31 1144.59 1076.41 Q1146.08 1074.52 1146.08 1071.25 Q1146.08 1067.98 1144.59 1066.08 Q1143.1 1064.18 1140.56 1064.18 M1140.56 1062.28 Q1144.19 1062.28 1146.37 1064.72 Q1148.54 1067.16 1148.54 1071.25 Q1148.54 1075.34 1146.37 1077.78 Q1144.19 1080.21 1140.56 1080.21 Q1136.91 1080.21 1134.72 1077.78 Q1132.55 1075.35 1132.55 1071.25 Q1132.55 1067.16 1134.72 1064.72 Q1136.91 1062.28 1140.56 1062.28 Z\" fill=\"#000000\" fill-rule=\"evenodd\" fill-opacity=\"1\" /><path clip-path=\"url(#clip830)\" d=\"M1158.67 1061.87 L1158.67 1063.64 L1156.63 1063.64 Q1155.49 1063.64 1155.04 1064.1 Q1154.6 1064.56 1154.6 1065.77 L1154.6 1066.91 L1158.1 1066.91 L1158.1 1068.57 L1154.6 1068.57 L1154.6 1079.88 L1152.46 1079.88 L1152.46 1068.57 L1150.42 1068.57 L1150.42 1066.91 L1152.46 1066.91 L1152.46 1066.01 Q1152.46 1063.85 1153.46 1062.86 Q1154.47 1061.87 1156.66 1061.87 L1158.67 1061.87 Z\" fill=\"#000000\" fill-rule=\"evenodd\" fill-opacity=\"1\" /><path clip-path=\"url(#clip830)\" d=\"M1167.02 1061.87 L1167.02 1063.64 L1164.98 1063.64 Q1163.83 1063.64 1163.38 1064.1 Q1162.94 1064.56 1162.94 1065.77 L1162.94 1066.91 L1166.45 1066.91 L1166.45 1068.57 L1162.94 1068.57 L1162.94 1079.88 L1160.8 1079.88 L1160.8 1068.57 L1158.76 1068.57 L1158.76 1066.91 L1160.8 1066.91 L1160.8 1066.01 Q1160.8 1063.85 1161.81 1062.86 Q1162.81 1061.87 1165 1061.87 L1167.02 1061.87 Z\" fill=\"#000000\" fill-rule=\"evenodd\" fill-opacity=\"1\" /><path clip-path=\"url(#clip830)\" d=\"M1177.06 1067.29 L1177.06 1069.31 Q1176.16 1068.85 1175.19 1068.61 Q1174.22 1068.38 1173.17 1068.38 Q1171.59 1068.38 1170.79 1068.87 Q1170 1069.35 1170 1070.33 Q1170 1071.07 1170.57 1071.5 Q1171.14 1071.91 1172.85 1072.29 L1173.58 1072.46 Q1175.85 1072.94 1176.8 1073.83 Q1177.76 1074.71 1177.76 1076.3 Q1177.76 1078.1 1176.32 1079.16 Q1174.9 1080.21 1172.4 1080.21 Q1171.36 1080.21 1170.22 1080 Q1169.1 1079.81 1167.85 1079.4 L1167.85 1077.2 Q1169.03 1077.81 1170.18 1078.13 Q1171.32 1078.43 1172.44 1078.43 Q1173.95 1078.43 1174.76 1077.92 Q1175.57 1077.4 1175.57 1076.46 Q1175.57 1075.59 1174.98 1075.13 Q1174.4 1074.67 1172.42 1074.24 L1171.68 1074.06 Q1169.7 1073.65 1168.82 1072.79 Q1167.94 1071.92 1167.94 1070.42 Q1167.94 1068.59 1169.24 1067.6 Q1170.53 1066.6 1172.92 1066.6 Q1174.1 1066.6 1175.14 1066.77 Q1176.18 1066.95 1177.06 1067.29 Z\" fill=\"#000000\" fill-rule=\"evenodd\" fill-opacity=\"1\" /><path clip-path=\"url(#clip830)\" d=\"M1192.24 1072.86 L1192.24 1073.9 L1182.44 1073.9 Q1182.58 1076.1 1183.76 1077.26 Q1184.96 1078.41 1187.07 1078.41 Q1188.3 1078.41 1189.45 1078.1 Q1190.6 1077.8 1191.74 1077.2 L1191.74 1079.22 Q1190.59 1079.7 1189.39 1079.96 Q1188.19 1080.21 1186.95 1080.21 Q1183.84 1080.21 1182.03 1078.41 Q1180.22 1076.6 1180.22 1073.52 Q1180.22 1070.34 1181.94 1068.47 Q1183.66 1066.6 1186.58 1066.6 Q1189.19 1066.6 1190.71 1068.29 Q1192.24 1069.97 1192.24 1072.86 M1190.11 1072.24 Q1190.08 1070.49 1189.12 1069.45 Q1188.17 1068.41 1186.6 1068.41 Q1184.82 1068.41 1183.74 1069.41 Q1182.68 1070.42 1182.51 1072.25 L1190.11 1072.24 Z\" fill=\"#000000\" fill-rule=\"evenodd\" fill-opacity=\"1\" /><path clip-path=\"url(#clip830)\" d=\"M1197.84 1063.23 L1197.84 1066.91 L1202.22 1066.91 L1202.22 1068.57 L1197.84 1068.57 L1197.84 1075.6 Q1197.84 1077.19 1198.27 1077.64 Q1198.71 1078.09 1200.04 1078.09 L1202.22 1078.09 L1202.22 1079.88 L1200.04 1079.88 Q1197.57 1079.88 1196.63 1078.96 Q1195.7 1078.03 1195.7 1075.6 L1195.7 1068.57 L1194.13 1068.57 L1194.13 1066.91 L1195.7 1066.91 L1195.7 1063.23 L1197.84 1063.23 Z\" fill=\"#000000\" fill-rule=\"evenodd\" fill-opacity=\"1\" /><path clip-path=\"url(#clip830)\" d=\"M1205.12 1062.6 L1207.46 1062.6 L1207.46 1079.88 L1205.12 1079.88 L1205.12 1062.6 Z\" fill=\"#000000\" fill-rule=\"evenodd\" fill-opacity=\"1\" /><path clip-path=\"url(#clip830)\" d=\"M1222.79 1072.05 L1222.79 1079.88 L1220.66 1079.88 L1220.66 1072.12 Q1220.66 1070.28 1219.94 1069.37 Q1219.23 1068.45 1217.79 1068.45 Q1216.07 1068.45 1215.07 1069.55 Q1214.08 1070.65 1214.08 1072.55 L1214.08 1079.88 L1211.94 1079.88 L1211.94 1066.91 L1214.08 1066.91 L1214.08 1068.93 Q1214.84 1067.76 1215.87 1067.18 Q1216.91 1066.6 1218.27 1066.6 Q1220.5 1066.6 1221.65 1067.99 Q1222.79 1069.37 1222.79 1072.05 Z\" fill=\"#000000\" fill-rule=\"evenodd\" fill-opacity=\"1\" /><path clip-path=\"url(#clip830)\" d=\"M1229.15 1063.23 L1229.15 1066.91 L1233.53 1066.91 L1233.53 1068.57 L1229.15 1068.57 L1229.15 1075.6 Q1229.15 1077.19 1229.57 1077.64 Q1230.01 1078.09 1231.34 1078.09 L1233.53 1078.09 L1233.53 1079.88 L1231.34 1079.88 Q1228.88 1079.88 1227.94 1078.96 Q1227 1078.03 1227 1075.6 L1227 1068.57 L1225.44 1068.57 L1225.44 1066.91 L1227 1066.91 L1227 1063.23 L1229.15 1063.23 Z\" fill=\"#000000\" fill-rule=\"evenodd\" fill-opacity=\"1\" /><path clip-path=\"url(#clip830)\" d=\"M1247.42 1072.86 L1247.42 1073.9 L1237.63 1073.9 Q1237.77 1076.1 1238.95 1077.26 Q1240.14 1078.41 1242.26 1078.41 Q1243.49 1078.41 1244.63 1078.1 Q1245.79 1077.8 1246.92 1077.2 L1246.92 1079.22 Q1245.78 1079.7 1244.57 1079.96 Q1243.37 1080.21 1242.13 1080.21 Q1239.03 1080.21 1237.21 1078.41 Q1235.41 1076.6 1235.41 1073.52 Q1235.41 1070.34 1237.12 1068.47 Q1238.84 1066.6 1241.76 1066.6 Q1244.38 1066.6 1245.89 1068.29 Q1247.42 1069.97 1247.42 1072.86 M1245.29 1072.24 Q1245.27 1070.49 1244.31 1069.45 Q1243.36 1068.41 1241.78 1068.41 Q1240 1068.41 1238.93 1069.41 Q1237.86 1070.42 1237.7 1072.25 L1245.29 1072.24 Z\" fill=\"#000000\" fill-rule=\"evenodd\" fill-opacity=\"1\" /><path clip-path=\"url(#clip830)\" d=\"M1259.45 1073.24 Q1259.45 1070.93 1258.49 1069.66 Q1257.54 1068.38 1255.81 1068.38 Q1254.1 1068.38 1253.14 1069.66 Q1252.19 1070.93 1252.19 1073.24 Q1252.19 1075.55 1253.14 1076.82 Q1254.1 1078.09 1255.81 1078.09 Q1257.54 1078.09 1258.49 1076.82 Q1259.45 1075.55 1259.45 1073.24 M1261.58 1078.27 Q1261.58 1081.58 1260.11 1083.19 Q1258.64 1084.81 1255.6 1084.81 Q1254.48 1084.81 1253.49 1084.63 Q1252.49 1084.47 1251.55 1084.12 L1251.55 1082.05 Q1252.49 1082.56 1253.4 1082.8 Q1254.32 1083.05 1255.27 1083.05 Q1257.36 1083.05 1258.4 1081.95 Q1259.45 1080.86 1259.45 1078.65 L1259.45 1077.6 Q1258.79 1078.74 1257.76 1079.31 Q1256.73 1079.88 1255.29 1079.88 Q1252.91 1079.88 1251.45 1078.06 Q1249.99 1076.24 1249.99 1073.24 Q1249.99 1070.23 1251.45 1068.42 Q1252.91 1066.6 1255.29 1066.6 Q1256.73 1066.6 1257.76 1067.17 Q1258.79 1067.73 1259.45 1068.88 L1259.45 1066.91 L1261.58 1066.91 L1261.58 1078.27 Z\" fill=\"#000000\" fill-rule=\"evenodd\" fill-opacity=\"1\" /><path clip-path=\"url(#clip830)\" d=\"M1277.05 1072.86 L1277.05 1073.9 L1267.26 1073.9 Q1267.4 1076.1 1268.58 1077.26 Q1269.77 1078.41 1271.89 1078.41 Q1273.12 1078.41 1274.26 1078.1 Q1275.42 1077.8 1276.55 1077.2 L1276.55 1079.22 Q1275.41 1079.7 1274.2 1079.96 Q1273 1080.21 1271.76 1080.21 Q1268.66 1080.21 1266.84 1078.41 Q1265.04 1076.6 1265.04 1073.52 Q1265.04 1070.34 1266.75 1068.47 Q1268.47 1066.6 1271.39 1066.6 Q1274.01 1066.6 1275.52 1068.29 Q1277.05 1069.97 1277.05 1072.86 M1274.92 1072.24 Q1274.9 1070.49 1273.94 1069.45 Q1272.99 1068.41 1271.41 1068.41 Q1269.63 1068.41 1268.56 1069.41 Q1267.49 1070.42 1267.33 1072.25 L1274.92 1072.24 Z\" fill=\"#000000\" fill-rule=\"evenodd\" fill-opacity=\"1\" /><path clip-path=\"url(#clip830)\" d=\"M1288.06 1068.9 Q1287.7 1068.69 1287.27 1068.6 Q1286.85 1068.5 1286.34 1068.5 Q1284.54 1068.5 1283.57 1069.68 Q1282.61 1070.85 1282.61 1073.05 L1282.61 1079.88 L1280.46 1079.88 L1280.46 1066.91 L1282.61 1066.91 L1282.61 1068.93 Q1283.28 1067.75 1284.35 1067.18 Q1285.43 1066.6 1286.97 1066.6 Q1287.19 1066.6 1287.46 1066.63 Q1287.72 1066.66 1288.05 1066.72 L1288.06 1068.9 Z\" fill=\"#000000\" fill-rule=\"evenodd\" fill-opacity=\"1\" /><path clip-path=\"url(#clip830)\" d=\"M1242.18 1050.64 Q1239.64 1050.64 1238.13 1052.54 Q1236.64 1054.44 1236.64 1057.71 Q1236.64 1060.97 1238.13 1062.87 Q1239.64 1064.77 1242.18 1064.77 Q1244.73 1064.77 1246.21 1062.87 Q1247.7 1060.97 1247.7 1057.71 Q1247.7 1054.44 1246.21 1052.54 Q1244.73 1050.64 1242.18 1050.64 M1242.18 1048.74 Q1245.82 1048.74 1247.99 1051.18 Q1250.17 1053.61 1250.17 1057.71 Q1250.17 1061.8 1247.99 1064.24 Q1245.82 1066.67 1242.18 1066.67 Q1238.54 1066.67 1236.35 1064.24 Q1234.17 1061.81 1234.17 1057.71 Q1234.17 1053.61 1236.35 1051.18 Q1238.54 1048.74 1242.18 1048.74 Z\" fill=\"#000000\" fill-rule=\"evenodd\" fill-opacity=\"1\" /><path clip-path=\"url(#clip830)\" d=\"M1260.3 1048.32 L1260.3 1050.09 L1258.26 1050.09 Q1257.11 1050.09 1256.66 1050.56 Q1256.22 1051.02 1256.22 1052.22 L1256.22 1053.37 L1259.73 1053.37 L1259.73 1055.03 L1256.22 1055.03 L1256.22 1066.33 L1254.08 1066.33 L1254.08 1055.03 L1252.04 1055.03 L1252.04 1053.37 L1254.08 1053.37 L1254.08 1052.47 Q1254.08 1050.3 1255.09 1049.32 Q1256.1 1048.32 1258.28 1048.32 L1260.3 1048.32 Z\" fill=\"#000000\" fill-rule=\"evenodd\" fill-opacity=\"1\" /><path clip-path=\"url(#clip830)\" d=\"M1268.64 1048.32 L1268.64 1050.09 L1266.6 1050.09 Q1265.46 1050.09 1265.01 1050.56 Q1264.57 1051.02 1264.57 1052.22 L1264.57 1053.37 L1268.07 1053.37 L1268.07 1055.03 L1264.57 1055.03 L1264.57 1066.33 L1262.43 1066.33 L1262.43 1055.03 L1260.39 1055.03 L1260.39 1053.37 L1262.43 1053.37 L1262.43 1052.47 Q1262.43 1050.3 1263.43 1049.32 Q1264.44 1048.32 1266.63 1048.32 L1268.64 1048.32 Z\" fill=\"#000000\" fill-rule=\"evenodd\" fill-opacity=\"1\" /><path clip-path=\"url(#clip830)\" d=\"M1278.69 1053.75 L1278.69 1055.77 Q1277.78 1055.3 1276.81 1055.07 Q1275.84 1054.84 1274.8 1054.84 Q1273.21 1054.84 1272.41 1055.33 Q1271.63 1055.81 1271.63 1056.78 Q1271.63 1057.53 1272.19 1057.95 Q1272.76 1058.37 1274.47 1058.75 L1275.2 1058.91 Q1277.47 1059.4 1278.42 1060.29 Q1279.38 1061.17 1279.38 1062.76 Q1279.38 1064.56 1277.95 1065.62 Q1276.52 1066.67 1274.02 1066.67 Q1272.98 1066.67 1271.85 1066.46 Q1270.72 1066.26 1269.47 1065.86 L1269.47 1063.66 Q1270.66 1064.27 1271.8 1064.59 Q1272.95 1064.89 1274.07 1064.89 Q1275.57 1064.89 1276.38 1064.38 Q1277.19 1063.86 1277.19 1062.92 Q1277.19 1062.05 1276.6 1061.59 Q1276.03 1061.12 1274.05 1060.7 L1273.31 1060.52 Q1271.33 1060.11 1270.45 1059.25 Q1269.57 1058.38 1269.57 1056.88 Q1269.57 1055.05 1270.86 1054.05 Q1272.16 1053.06 1274.54 1053.06 Q1275.72 1053.06 1276.77 1053.23 Q1277.81 1053.41 1278.69 1053.75 Z\" fill=\"#000000\" fill-rule=\"evenodd\" fill-opacity=\"1\" /><path clip-path=\"url(#clip830)\" d=\"M1293.86 1059.32 L1293.86 1060.36 L1284.07 1060.36 Q1284.21 1062.56 1285.39 1063.72 Q1286.58 1064.86 1288.7 1064.86 Q1289.93 1064.86 1291.07 1064.56 Q1292.23 1064.26 1293.36 1063.66 L1293.36 1065.67 Q1292.22 1066.16 1291.01 1066.41 Q1289.81 1066.67 1288.57 1066.67 Q1285.47 1066.67 1283.65 1064.86 Q1281.85 1063.06 1281.85 1059.98 Q1281.85 1056.8 1283.56 1054.93 Q1285.28 1053.06 1288.2 1053.06 Q1290.82 1053.06 1292.33 1054.75 Q1293.86 1056.43 1293.86 1059.32 M1291.73 1058.69 Q1291.71 1056.95 1290.75 1055.9 Q1289.8 1054.86 1288.22 1054.86 Q1286.44 1054.86 1285.37 1055.87 Q1284.3 1056.88 1284.14 1058.71 L1291.73 1058.69 Z\" fill=\"#000000\" fill-rule=\"evenodd\" fill-opacity=\"1\" /><path clip-path=\"url(#clip830)\" d=\"M1299.46 1049.69 L1299.46 1053.37 L1303.85 1053.37 L1303.85 1055.03 L1299.46 1055.03 L1299.46 1062.06 Q1299.46 1063.65 1299.89 1064.1 Q1300.33 1064.55 1301.66 1064.55 L1303.85 1064.55 L1303.85 1066.33 L1301.66 1066.33 Q1299.2 1066.33 1298.26 1065.42 Q1297.32 1064.49 1297.32 1062.06 L1297.32 1055.03 L1295.76 1055.03 L1295.76 1053.37 L1297.32 1053.37 L1297.32 1049.69 L1299.46 1049.69 Z\" fill=\"#000000\" fill-rule=\"evenodd\" fill-opacity=\"1\" /><path clip-path=\"url(#clip830)\" d=\"M1306.74 1049.05 L1309.08 1049.05 L1309.08 1066.33 L1306.74 1066.33 L1306.74 1049.05 Z\" fill=\"#000000\" fill-rule=\"evenodd\" fill-opacity=\"1\" /><path clip-path=\"url(#clip830)\" d=\"M1324.42 1058.51 L1324.42 1066.33 L1322.29 1066.33 L1322.29 1058.58 Q1322.29 1056.74 1321.57 1055.82 Q1320.85 1054.91 1319.42 1054.91 Q1317.69 1054.91 1316.7 1056.01 Q1315.7 1057.11 1315.7 1059.01 L1315.7 1066.33 L1313.56 1066.33 L1313.56 1053.37 L1315.7 1053.37 L1315.7 1055.38 Q1316.47 1054.22 1317.5 1053.64 Q1318.54 1053.06 1319.89 1053.06 Q1322.12 1053.06 1323.27 1054.45 Q1324.42 1055.82 1324.42 1058.51 Z\" fill=\"#000000\" fill-rule=\"evenodd\" fill-opacity=\"1\" /><path clip-path=\"url(#clip830)\" d=\"M1330.77 1049.69 L1330.77 1053.37 L1335.16 1053.37 L1335.16 1055.03 L1330.77 1055.03 L1330.77 1062.06 Q1330.77 1063.65 1331.2 1064.1 Q1331.64 1064.55 1332.97 1064.55 L1335.16 1064.55 L1335.16 1066.33 L1332.97 1066.33 Q1330.5 1066.33 1329.57 1065.42 Q1328.63 1064.49 1328.63 1062.06 L1328.63 1055.03 L1327.07 1055.03 L1327.07 1053.37 L1328.63 1053.37 L1328.63 1049.69 L1330.77 1049.69 Z\" fill=\"#000000\" fill-rule=\"evenodd\" fill-opacity=\"1\" /><path clip-path=\"url(#clip830)\" d=\"M1349.05 1059.32 L1349.05 1060.36 L1339.25 1060.36 Q1339.39 1062.56 1340.57 1063.72 Q1341.77 1064.86 1343.88 1064.86 Q1345.11 1064.86 1346.26 1064.56 Q1347.41 1064.26 1348.55 1063.66 L1348.55 1065.67 Q1347.4 1066.16 1346.2 1066.41 Q1345 1066.67 1343.76 1066.67 Q1340.65 1066.67 1338.84 1064.86 Q1337.03 1063.06 1337.03 1059.98 Q1337.03 1056.8 1338.75 1054.93 Q1340.47 1053.06 1343.39 1053.06 Q1346 1053.06 1347.52 1054.75 Q1349.05 1056.43 1349.05 1059.32 M1346.92 1058.69 Q1346.89 1056.95 1345.93 1055.9 Q1344.98 1054.86 1343.41 1054.86 Q1341.63 1054.86 1340.55 1055.87 Q1339.49 1056.88 1339.32 1058.71 L1346.92 1058.69 Z\" fill=\"#000000\" fill-rule=\"evenodd\" fill-opacity=\"1\" /><path clip-path=\"url(#clip830)\" d=\"M1361.07 1059.7 Q1361.07 1057.39 1360.11 1056.11 Q1359.16 1054.84 1357.44 1054.84 Q1355.72 1054.84 1354.76 1056.11 Q1353.81 1057.39 1353.81 1059.7 Q1353.81 1062 1354.76 1063.28 Q1355.72 1064.55 1357.44 1064.55 Q1359.16 1064.55 1360.11 1063.28 Q1361.07 1062 1361.07 1059.7 M1363.2 1064.72 Q1363.2 1068.03 1361.73 1069.64 Q1360.26 1071.26 1357.23 1071.26 Q1356.11 1071.26 1355.11 1071.09 Q1354.12 1070.93 1353.18 1070.58 L1353.18 1068.51 Q1354.12 1069.02 1355.03 1069.26 Q1355.94 1069.5 1356.89 1069.5 Q1358.99 1069.5 1360.03 1068.4 Q1361.07 1067.32 1361.07 1065.11 L1361.07 1064.05 Q1360.41 1065.2 1359.38 1065.77 Q1358.35 1066.33 1356.92 1066.33 Q1354.53 1066.33 1353.07 1064.52 Q1351.62 1062.7 1351.62 1059.7 Q1351.62 1056.69 1353.07 1054.87 Q1354.53 1053.06 1356.92 1053.06 Q1358.35 1053.06 1359.38 1053.62 Q1360.41 1054.19 1361.07 1055.34 L1361.07 1053.37 L1363.2 1053.37 L1363.2 1064.72 Z\" fill=\"#000000\" fill-rule=\"evenodd\" fill-opacity=\"1\" /><path clip-path=\"url(#clip830)\" d=\"M1378.68 1059.32 L1378.68 1060.36 L1368.88 1060.36 Q1369.02 1062.56 1370.2 1063.72 Q1371.4 1064.86 1373.51 1064.86 Q1374.74 1064.86 1375.89 1064.56 Q1377.04 1064.26 1378.18 1063.66 L1378.18 1065.67 Q1377.03 1066.16 1375.83 1066.41 Q1374.62 1066.67 1373.39 1066.67 Q1370.28 1066.67 1368.47 1064.86 Q1366.66 1063.06 1366.66 1059.98 Q1366.66 1056.8 1368.37 1054.93 Q1370.1 1053.06 1373.02 1053.06 Q1375.63 1053.06 1377.15 1054.75 Q1378.68 1056.43 1378.68 1059.32 M1376.55 1058.69 Q1376.52 1056.95 1375.56 1055.9 Q1374.61 1054.86 1373.04 1054.86 Q1371.26 1054.86 1370.18 1055.87 Q1369.12 1056.88 1368.95 1058.71 L1376.55 1058.69 Z\" fill=\"#000000\" fill-rule=\"evenodd\" fill-opacity=\"1\" /><path clip-path=\"url(#clip830)\" d=\"M1389.68 1055.36 Q1389.32 1055.15 1388.9 1055.06 Q1388.48 1054.96 1387.97 1054.96 Q1386.16 1054.96 1385.19 1056.14 Q1384.23 1057.31 1384.23 1059.5 L1384.23 1066.33 L1382.09 1066.33 L1382.09 1053.37 L1384.23 1053.37 L1384.23 1055.38 Q1384.9 1054.2 1385.98 1053.64 Q1387.06 1053.06 1388.59 1053.06 Q1388.81 1053.06 1389.08 1053.09 Q1389.35 1053.12 1389.67 1053.17 L1389.68 1055.36 Z\" fill=\"#000000\" fill-rule=\"evenodd\" fill-opacity=\"1\" /><path clip-path=\"url(#clip830)\" d=\"M888.805 1052.6 L888.805 1054.88 Q887.474 1054.25 886.294 1053.93 Q885.113 1053.62 884.013 1053.62 Q882.104 1053.62 881.062 1054.36 Q880.032 1055.1 880.032 1056.47 Q880.032 1057.61 880.715 1058.2 Q881.409 1058.78 883.331 1059.14 L884.743 1059.43 Q887.358 1059.93 888.597 1061.19 Q889.847 1062.44 889.847 1064.55 Q889.847 1067.06 888.157 1068.35 Q886.479 1069.65 883.226 1069.65 Q882 1069.65 880.611 1069.37 Q879.233 1069.1 877.752 1068.55 L877.752 1066.14 Q879.175 1066.94 880.541 1067.35 Q881.907 1067.75 883.226 1067.75 Q885.229 1067.75 886.317 1066.97 Q887.405 1066.18 887.405 1064.72 Q887.405 1063.45 886.618 1062.73 Q885.842 1062.01 884.06 1061.65 L882.636 1061.38 Q880.02 1060.85 878.851 1059.74 Q877.682 1058.63 877.682 1056.65 Q877.682 1054.36 879.291 1053.04 Q880.912 1051.72 883.747 1051.72 Q884.963 1051.72 886.224 1051.94 Q887.486 1052.16 888.805 1052.6 Z\" fill=\"#000000\" fill-rule=\"evenodd\" fill-opacity=\"1\" /><path clip-path=\"url(#clip830)\" d=\"M893.4 1056.35 L895.53 1056.35 L895.53 1069.31 L893.4 1069.31 L893.4 1056.35 M893.4 1051.31 L895.53 1051.31 L895.53 1054 L893.4 1054 L893.4 1051.31 Z\" fill=\"#000000\" fill-rule=\"evenodd\" fill-opacity=\"1\" /><path clip-path=\"url(#clip830)\" d=\"M908.516 1062.68 Q908.516 1060.37 907.555 1059.1 Q906.606 1057.82 904.881 1057.82 Q903.168 1057.82 902.208 1059.1 Q901.259 1060.37 901.259 1062.68 Q901.259 1064.99 902.208 1066.26 Q903.168 1067.53 904.881 1067.53 Q906.606 1067.53 907.555 1066.26 Q908.516 1064.99 908.516 1062.68 M910.645 1067.71 Q910.645 1071.02 909.175 1072.63 Q907.705 1074.25 904.673 1074.25 Q903.55 1074.25 902.555 1074.07 Q901.56 1073.91 900.622 1073.56 L900.622 1071.49 Q901.56 1072 902.474 1072.24 Q903.388 1072.49 904.337 1072.49 Q906.432 1072.49 907.474 1071.39 Q908.516 1070.3 908.516 1068.09 L908.516 1067.03 Q907.856 1068.18 906.826 1068.75 Q905.796 1069.31 904.361 1069.31 Q901.976 1069.31 900.518 1067.5 Q899.06 1065.68 899.06 1062.68 Q899.06 1059.67 900.518 1057.86 Q901.976 1056.04 904.361 1056.04 Q905.796 1056.04 906.826 1056.61 Q907.856 1057.17 908.516 1058.32 L908.516 1056.35 L910.645 1056.35 L910.645 1067.71 Z\" fill=\"#000000\" fill-rule=\"evenodd\" fill-opacity=\"1\" /><path clip-path=\"url(#clip830)\" d=\"M925.807 1061.49 L925.807 1069.31 L923.678 1069.31 L923.678 1061.56 Q923.678 1059.72 922.96 1058.81 Q922.242 1057.89 920.807 1057.89 Q919.083 1057.89 918.087 1058.99 Q917.092 1060.09 917.092 1061.99 L917.092 1069.31 L914.951 1069.31 L914.951 1056.35 L917.092 1056.35 L917.092 1058.37 Q917.856 1057.2 918.886 1056.62 Q919.928 1056.04 921.282 1056.04 Q923.516 1056.04 924.661 1057.43 Q925.807 1058.81 925.807 1061.49 Z\" fill=\"#000000\" fill-rule=\"evenodd\" fill-opacity=\"1\" /><path clip-path=\"url(#clip830)\" d=\"M941.143 1062.3 L941.143 1063.34 L931.351 1063.34 Q931.49 1065.54 932.671 1066.7 Q933.863 1067.85 935.981 1067.85 Q937.208 1067.85 938.353 1067.54 Q939.511 1067.24 940.645 1066.64 L940.645 1068.66 Q939.499 1069.14 938.296 1069.4 Q937.092 1069.65 935.853 1069.65 Q932.752 1069.65 930.934 1067.85 Q929.129 1066.04 929.129 1062.96 Q929.129 1059.78 930.842 1057.91 Q932.566 1056.04 935.483 1056.04 Q938.099 1056.04 939.615 1057.73 Q941.143 1059.41 941.143 1062.3 M939.013 1061.68 Q938.99 1059.93 938.029 1058.89 Q937.08 1057.85 935.506 1057.85 Q933.724 1057.85 932.647 1058.85 Q931.583 1059.86 931.421 1061.69 L939.013 1061.68 Z\" fill=\"#000000\" fill-rule=\"evenodd\" fill-opacity=\"1\" /><path clip-path=\"url(#clip830)\" d=\"M953.168 1058.32 L953.168 1051.31 L955.298 1051.31 L955.298 1069.31 L953.168 1069.31 L953.168 1067.37 Q952.497 1068.53 951.467 1069.1 Q950.448 1069.65 949.013 1069.65 Q946.664 1069.65 945.182 1067.78 Q943.712 1065.9 943.712 1062.85 Q943.712 1059.79 945.182 1057.91 Q946.664 1056.04 949.013 1056.04 Q950.448 1056.04 951.467 1056.61 Q952.497 1057.16 953.168 1058.32 M945.911 1062.85 Q945.911 1065.19 946.872 1066.54 Q947.844 1067.87 949.534 1067.87 Q951.224 1067.87 952.196 1066.54 Q953.168 1065.19 953.168 1062.85 Q953.168 1060.5 952.196 1059.16 Q951.224 1057.82 949.534 1057.82 Q947.844 1057.82 946.872 1059.16 Q945.911 1060.5 945.911 1062.85 Z\" fill=\"#000000\" fill-rule=\"evenodd\" fill-opacity=\"1\" /><path clip-path=\"url(#clip830)\" d=\"M710.605 1338.07 L710.605 1344.4 L714.355 1344.4 Q716.242 1344.4 717.144 1343.63 Q718.059 1342.84 718.059 1341.23 Q718.059 1339.61 717.144 1338.85 Q716.242 1338.07 714.355 1338.07 L710.605 1338.07 M710.605 1330.96 L710.605 1336.17 L714.066 1336.17 Q715.779 1336.17 716.612 1335.54 Q717.457 1334.89 717.457 1333.57 Q717.457 1332.26 716.612 1331.61 Q715.779 1330.96 714.066 1330.96 L710.605 1330.96 M708.267 1329.04 L714.239 1329.04 Q716.913 1329.04 718.36 1330.15 Q719.806 1331.26 719.806 1333.31 Q719.806 1334.9 719.066 1335.84 Q718.325 1336.77 716.89 1337.01 Q718.614 1337.38 719.563 1338.56 Q720.524 1339.73 720.524 1341.48 Q720.524 1343.8 718.95 1345.06 Q717.376 1346.32 714.471 1346.32 L708.267 1346.32 L708.267 1329.04 Z\" fill=\"#000000\" fill-rule=\"evenodd\" fill-opacity=\"1\" /><path clip-path=\"url(#clip830)\" d=\"M724.436 1333.36 L726.566 1333.36 L726.566 1346.32 L724.436 1346.32 L724.436 1333.36 M724.436 1328.31 L726.566 1328.31 L726.566 1331.01 L724.436 1331.01 L724.436 1328.31 Z\" fill=\"#000000\" fill-rule=\"evenodd\" fill-opacity=\"1\" /><path clip-path=\"url(#clip830)\" d=\"M739.552 1339.69 Q739.552 1337.38 738.591 1336.1 Q737.642 1334.83 735.917 1334.83 Q734.204 1334.83 733.244 1336.1 Q732.295 1337.38 732.295 1339.69 Q732.295 1341.99 733.244 1343.27 Q734.204 1344.54 735.917 1344.54 Q737.642 1344.54 738.591 1343.27 Q739.552 1341.99 739.552 1339.69 M741.681 1344.71 Q741.681 1348.02 740.211 1349.63 Q738.741 1351.25 735.709 1351.25 Q734.586 1351.25 733.591 1351.08 Q732.596 1350.92 731.658 1350.57 L731.658 1348.5 Q732.596 1349.01 733.51 1349.25 Q734.424 1349.49 735.373 1349.49 Q737.468 1349.49 738.51 1348.39 Q739.552 1347.31 739.552 1345.1 L739.552 1344.04 Q738.892 1345.19 737.862 1345.76 Q736.832 1346.32 735.397 1346.32 Q733.012 1346.32 731.554 1344.51 Q730.096 1342.69 730.096 1339.69 Q730.096 1336.68 731.554 1334.86 Q733.012 1333.05 735.397 1333.05 Q736.832 1333.05 737.862 1333.61 Q738.892 1334.18 739.552 1335.33 L739.552 1333.36 L741.681 1333.36 L741.681 1344.71 Z\" fill=\"#000000\" fill-rule=\"evenodd\" fill-opacity=\"1\" /><path clip-path=\"url(#clip830)\" d=\"M746.16 1329.04 L748.498 1329.04 L748.498 1346.32 L746.16 1346.32 L746.16 1329.04 Z\" fill=\"#000000\" fill-rule=\"evenodd\" fill-opacity=\"1\" /><path clip-path=\"url(#clip830)\" d=\"M763.834 1338.5 L763.834 1346.32 L761.704 1346.32 L761.704 1338.57 Q761.704 1336.73 760.987 1335.81 Q760.269 1334.9 758.834 1334.9 Q757.109 1334.9 756.114 1336 Q755.119 1337.1 755.119 1339 L755.119 1346.32 L752.977 1346.32 L752.977 1333.36 L755.119 1333.36 L755.119 1335.37 Q755.883 1334.2 756.913 1333.63 Q757.954 1333.05 759.308 1333.05 Q761.542 1333.05 762.688 1334.44 Q763.834 1335.81 763.834 1338.5 Z\" fill=\"#000000\" fill-rule=\"evenodd\" fill-opacity=\"1\" /><path clip-path=\"url(#clip830)\" d=\"M770.188 1329.68 L770.188 1333.36 L774.575 1333.36 L774.575 1335.01 L770.188 1335.01 L770.188 1342.05 Q770.188 1343.64 770.616 1344.09 Q771.056 1344.54 772.387 1344.54 L774.575 1344.54 L774.575 1346.32 L772.387 1346.32 Q769.922 1346.32 768.984 1345.41 Q768.047 1344.48 768.047 1342.05 L768.047 1335.01 L766.484 1335.01 L766.484 1333.36 L768.047 1333.36 L768.047 1329.68 L770.188 1329.68 Z\" fill=\"#000000\" fill-rule=\"evenodd\" fill-opacity=\"1\" /><path clip-path=\"url(#clip830)\" d=\"M819.821 1240.99 L822.159 1240.99 L822.159 1258.27 L819.821 1258.27 L819.821 1240.99 Z\" fill=\"#000000\" fill-rule=\"evenodd\" fill-opacity=\"1\" /><path clip-path=\"url(#clip830)\" d=\"M837.494 1250.44 L837.494 1258.27 L835.365 1258.27 L835.365 1250.51 Q835.365 1248.67 834.647 1247.76 Q833.93 1246.84 832.494 1246.84 Q830.77 1246.84 829.774 1247.94 Q828.779 1249.04 828.779 1250.94 L828.779 1258.27 L826.638 1258.27 L826.638 1245.3 L828.779 1245.3 L828.779 1247.32 Q829.543 1246.15 830.573 1245.57 Q831.615 1244.99 832.969 1244.99 Q835.203 1244.99 836.348 1246.38 Q837.494 1247.76 837.494 1250.44 Z\" fill=\"#000000\" fill-rule=\"evenodd\" fill-opacity=\"1\" /><path clip-path=\"url(#clip830)\" d=\"M843.848 1241.62 L843.848 1245.3 L848.235 1245.3 L848.235 1246.96 L843.848 1246.96 L843.848 1254 Q843.848 1255.58 844.277 1256.03 Q844.716 1256.49 846.047 1256.49 L848.235 1256.49 L848.235 1258.27 L846.047 1258.27 Q843.582 1258.27 842.645 1257.35 Q841.707 1256.43 841.707 1254 L841.707 1246.96 L840.145 1246.96 L840.145 1245.3 L841.707 1245.3 L841.707 1241.62 L843.848 1241.62 Z\" fill=\"#000000\" fill-rule=\"evenodd\" fill-opacity=\"1\" /><path clip-path=\"url(#clip830)\" d=\"M851.742 1256.3 L855.561 1256.3 L855.561 1243.12 L851.406 1243.95 L851.406 1241.82 L855.538 1240.99 L857.876 1240.99 L857.876 1256.3 L861.696 1256.3 L861.696 1258.27 L851.742 1258.27 L851.742 1256.3 Z\" fill=\"#000000\" fill-rule=\"evenodd\" fill-opacity=\"1\" /><path clip-path=\"url(#clip830)\" d=\"M868.432 1256.3 L876.591 1256.3 L876.591 1258.27 L865.619 1258.27 L865.619 1256.3 Q866.95 1254.92 869.242 1252.61 Q871.545 1250.28 872.135 1249.61 Q873.258 1248.35 873.698 1247.48 Q874.149 1246.6 874.149 1245.76 Q874.149 1244.38 873.177 1243.51 Q872.216 1242.64 870.665 1242.64 Q869.566 1242.64 868.339 1243.02 Q867.124 1243.41 865.735 1244.18 L865.735 1241.82 Q867.147 1241.25 868.374 1240.96 Q869.601 1240.68 870.619 1240.68 Q873.304 1240.68 874.902 1242.02 Q876.499 1243.36 876.499 1245.61 Q876.499 1246.67 876.094 1247.63 Q875.7 1248.58 874.647 1249.88 Q874.358 1250.21 872.807 1251.82 Q871.256 1253.42 868.432 1256.3 Z\" fill=\"#000000\" fill-rule=\"evenodd\" fill-opacity=\"1\" /><path clip-path=\"url(#clip830)\" d=\"M886.499 1250.06 Q884.832 1250.06 883.871 1250.95 Q882.922 1251.84 882.922 1253.41 Q882.922 1254.97 883.871 1255.86 Q884.832 1256.75 886.499 1256.75 Q888.165 1256.75 889.126 1255.86 Q890.087 1254.96 890.087 1253.41 Q890.087 1251.84 889.126 1250.95 Q888.177 1250.06 886.499 1250.06 M884.161 1249.07 Q882.656 1248.7 881.811 1247.67 Q880.978 1246.64 880.978 1245.15 Q880.978 1243.08 882.448 1241.88 Q883.929 1240.68 886.499 1240.68 Q889.08 1240.68 890.55 1241.88 Q892.019 1243.08 892.019 1245.15 Q892.019 1246.64 891.175 1247.67 Q890.341 1248.7 888.848 1249.07 Q890.538 1249.46 891.475 1250.61 Q892.425 1251.75 892.425 1253.41 Q892.425 1255.92 890.885 1257.26 Q889.357 1258.6 886.499 1258.6 Q883.64 1258.6 882.101 1257.26 Q880.573 1255.92 880.573 1253.41 Q880.573 1251.75 881.522 1250.61 Q882.471 1249.46 884.161 1249.07 M883.304 1245.37 Q883.304 1246.72 884.138 1247.47 Q884.982 1248.22 886.499 1248.22 Q888.003 1248.22 888.848 1247.47 Q889.705 1246.72 889.705 1245.37 Q889.705 1244.03 888.848 1243.28 Q888.003 1242.53 886.499 1242.53 Q884.982 1242.53 884.138 1243.28 Q883.304 1244.03 883.304 1245.37 Z\" fill=\"#000000\" fill-rule=\"evenodd\" fill-opacity=\"1\" /><path clip-path=\"url(#clip830)\" d=\"M1025.58 1283.5 L1027.92 1283.5 L1027.92 1300.78 L1025.58 1300.78 L1025.58 1283.5 Z\" fill=\"#000000\" fill-rule=\"evenodd\" fill-opacity=\"1\" /><path clip-path=\"url(#clip830)\" d=\"M1043.25 1292.96 L1043.25 1300.78 L1041.12 1300.78 L1041.12 1293.03 Q1041.12 1291.19 1040.41 1290.27 Q1039.69 1289.36 1038.25 1289.36 Q1036.53 1289.36 1035.53 1290.46 Q1034.54 1291.56 1034.54 1293.45 L1034.54 1300.78 L1032.4 1300.78 L1032.4 1287.82 L1034.54 1287.82 L1034.54 1289.83 Q1035.3 1288.66 1036.33 1288.08 Q1037.37 1287.51 1038.73 1287.51 Q1040.96 1287.51 1042.11 1288.89 Q1043.25 1290.27 1043.25 1292.96 Z\" fill=\"#000000\" fill-rule=\"evenodd\" fill-opacity=\"1\" /><path clip-path=\"url(#clip830)\" d=\"M1049.61 1284.14 L1049.61 1287.82 L1053.99 1287.82 L1053.99 1289.47 L1049.61 1289.47 L1049.61 1296.51 Q1049.61 1298.1 1050.04 1298.55 Q1050.48 1299 1051.81 1299 L1053.99 1299 L1053.99 1300.78 L1051.81 1300.78 Q1049.34 1300.78 1048.4 1299.87 Q1047.47 1298.94 1047.47 1296.51 L1047.47 1289.47 L1045.9 1289.47 L1045.9 1287.82 L1047.47 1287.82 L1047.47 1284.14 L1049.61 1284.14 Z\" fill=\"#000000\" fill-rule=\"evenodd\" fill-opacity=\"1\" /><path clip-path=\"url(#clip830)\" d=\"M1057.5 1298.81 L1061.32 1298.81 L1061.32 1285.63 L1057.17 1286.46 L1057.17 1284.33 L1061.3 1283.5 L1063.64 1283.5 L1063.64 1298.81 L1067.45 1298.81 L1067.45 1300.78 L1057.5 1300.78 L1057.5 1298.81 Z\" fill=\"#000000\" fill-rule=\"evenodd\" fill-opacity=\"1\" /><path clip-path=\"url(#clip830)\" d=\"M1077.47 1291.21 Q1075.89 1291.21 1074.97 1292.29 Q1074.05 1293.36 1074.05 1295.24 Q1074.05 1297.1 1074.97 1298.19 Q1075.89 1299.27 1077.47 1299.27 Q1079.04 1299.27 1079.95 1298.19 Q1080.88 1297.1 1080.88 1295.24 Q1080.88 1293.36 1079.95 1292.29 Q1079.04 1291.21 1077.47 1291.21 M1082.11 1283.88 L1082.11 1286.01 Q1081.23 1285.6 1080.33 1285.38 Q1079.43 1285.16 1078.55 1285.16 Q1076.24 1285.16 1075.01 1286.72 Q1073.8 1288.28 1073.62 1291.44 Q1074.31 1290.43 1075.34 1289.9 Q1076.37 1289.36 1077.61 1289.36 Q1080.21 1289.36 1081.71 1290.94 Q1083.23 1292.52 1083.23 1295.24 Q1083.23 1297.9 1081.66 1299.51 Q1080.08 1301.12 1077.47 1301.12 Q1074.47 1301.12 1072.88 1298.83 Q1071.3 1296.52 1071.3 1292.16 Q1071.3 1288.06 1073.24 1285.63 Q1075.19 1283.19 1078.46 1283.19 Q1079.34 1283.19 1080.23 1283.36 Q1081.14 1283.54 1082.11 1283.88 Z\" fill=\"#000000\" fill-rule=\"evenodd\" fill-opacity=\"1\" /><path clip-path=\"url(#clip830)\" d=\"M633.932 1267.76 L636.27 1267.76 L636.27 1285.04 L633.932 1285.04 L633.932 1267.76 Z\" fill=\"#000000\" fill-rule=\"evenodd\" fill-opacity=\"1\" /><path clip-path=\"url(#clip830)\" d=\"M651.605 1277.21 L651.605 1285.04 L649.476 1285.04 L649.476 1277.28 Q649.476 1275.44 648.758 1274.53 Q648.041 1273.61 646.605 1273.61 Q644.881 1273.61 643.886 1274.71 Q642.89 1275.81 642.89 1277.71 L642.89 1285.04 L640.749 1285.04 L640.749 1272.07 L642.89 1272.07 L642.89 1274.09 Q643.654 1272.92 644.684 1272.34 Q645.726 1271.76 647.08 1271.76 Q649.314 1271.76 650.46 1273.15 Q651.605 1274.53 651.605 1277.21 Z\" fill=\"#000000\" fill-rule=\"evenodd\" fill-opacity=\"1\" /><path clip-path=\"url(#clip830)\" d=\"M657.96 1268.39 L657.96 1272.07 L662.346 1272.07 L662.346 1273.73 L657.96 1273.73 L657.96 1280.76 Q657.96 1282.35 658.388 1282.8 Q658.828 1283.25 660.159 1283.25 L662.346 1283.25 L662.346 1285.04 L660.159 1285.04 Q657.693 1285.04 656.756 1284.12 Q655.818 1283.19 655.818 1280.76 L655.818 1273.73 L654.256 1273.73 L654.256 1272.07 L655.818 1272.07 L655.818 1268.39 L657.96 1268.39 Z\" fill=\"#000000\" fill-rule=\"evenodd\" fill-opacity=\"1\" /><path clip-path=\"url(#clip830)\" d=\"M672.531 1275.72 Q674.21 1276.08 675.147 1277.21 Q676.096 1278.35 676.096 1280.01 Q676.096 1282.57 674.337 1283.97 Q672.578 1285.37 669.337 1285.37 Q668.249 1285.37 667.091 1285.15 Q665.946 1284.94 664.719 1284.51 L664.719 1282.26 Q665.691 1282.82 666.848 1283.11 Q668.006 1283.4 669.267 1283.4 Q671.466 1283.4 672.612 1282.54 Q673.77 1281.67 673.77 1280.01 Q673.77 1278.48 672.693 1277.63 Q671.629 1276.76 669.719 1276.76 L667.705 1276.76 L667.705 1274.84 L669.811 1274.84 Q671.536 1274.84 672.45 1274.16 Q673.365 1273.46 673.365 1272.16 Q673.365 1270.83 672.416 1270.13 Q671.478 1269.41 669.719 1269.41 Q668.758 1269.41 667.659 1269.62 Q666.559 1269.83 665.24 1270.27 L665.24 1268.18 Q666.571 1267.81 667.728 1267.63 Q668.897 1267.44 669.927 1267.44 Q672.589 1267.44 674.14 1268.66 Q675.691 1269.86 675.691 1271.92 Q675.691 1273.36 674.869 1274.35 Q674.047 1275.34 672.531 1275.72 Z\" fill=\"#000000\" fill-rule=\"evenodd\" fill-opacity=\"1\" /><path clip-path=\"url(#clip830)\" d=\"M682.543 1283.07 L690.702 1283.07 L690.702 1285.04 L679.73 1285.04 L679.73 1283.07 Q681.061 1281.69 683.353 1279.38 Q685.656 1277.05 686.246 1276.38 Q687.369 1275.12 687.809 1274.25 Q688.26 1273.37 688.26 1272.52 Q688.26 1271.15 687.288 1270.28 Q686.327 1269.41 684.777 1269.41 Q683.677 1269.41 682.45 1269.79 Q681.235 1270.17 679.846 1270.95 L679.846 1268.59 Q681.258 1268.02 682.485 1267.73 Q683.712 1267.44 684.73 1267.44 Q687.415 1267.44 689.013 1268.79 Q690.61 1270.13 690.61 1272.37 Q690.61 1273.44 690.205 1274.4 Q689.811 1275.35 688.758 1276.64 Q688.469 1276.98 686.918 1278.59 Q685.367 1280.19 682.543 1283.07 Z\" fill=\"#000000\" fill-rule=\"evenodd\" fill-opacity=\"1\" /><path clip-path=\"url(#clip830)\" d=\"M764.282 1285.11 L766.62 1285.11 L766.62 1302.39 L764.282 1302.39 L764.282 1285.11 Z\" fill=\"#000000\" fill-rule=\"evenodd\" fill-opacity=\"1\" /><path clip-path=\"url(#clip830)\" d=\"M781.955 1294.57 L781.955 1302.39 L779.826 1302.39 L779.826 1294.64 Q779.826 1292.8 779.108 1291.88 Q778.39 1290.97 776.955 1290.97 Q775.231 1290.97 774.235 1292.07 Q773.24 1293.17 773.24 1295.07 L773.24 1302.39 L771.099 1302.39 L771.099 1289.43 L773.24 1289.43 L773.24 1291.45 Q774.004 1290.28 775.034 1289.7 Q776.076 1289.12 777.43 1289.12 Q779.664 1289.12 780.809 1290.51 Q781.955 1291.88 781.955 1294.57 Z\" fill=\"#000000\" fill-rule=\"evenodd\" fill-opacity=\"1\" /><path clip-path=\"url(#clip830)\" d=\"M788.309 1285.75 L788.309 1289.43 L792.696 1289.43 L792.696 1291.09 L788.309 1291.09 L788.309 1298.12 Q788.309 1299.71 788.738 1300.16 Q789.177 1300.61 790.508 1300.61 L792.696 1300.61 L792.696 1302.39 L790.508 1302.39 Q788.043 1302.39 787.106 1301.48 Q786.168 1300.55 786.168 1298.12 L786.168 1291.09 L784.606 1291.09 L784.606 1289.43 L786.168 1289.43 L786.168 1285.75 L788.309 1285.75 Z\" fill=\"#000000\" fill-rule=\"evenodd\" fill-opacity=\"1\" /><path clip-path=\"url(#clip830)\" d=\"M801.087 1292.82 Q799.513 1292.82 798.587 1293.9 Q797.673 1294.98 797.673 1296.85 Q797.673 1298.71 798.587 1299.8 Q799.513 1300.88 801.087 1300.88 Q802.661 1300.88 803.576 1299.8 Q804.501 1298.71 804.501 1296.85 Q804.501 1294.98 803.576 1293.9 Q802.661 1292.82 801.087 1292.82 M805.728 1285.5 L805.728 1287.63 Q804.849 1287.21 803.946 1286.99 Q803.055 1286.77 802.175 1286.77 Q799.86 1286.77 798.633 1288.33 Q797.418 1289.89 797.245 1293.05 Q797.927 1292.05 798.958 1291.51 Q799.988 1290.97 801.226 1290.97 Q803.83 1290.97 805.335 1292.56 Q806.851 1294.13 806.851 1296.85 Q806.851 1299.51 805.277 1301.12 Q803.703 1302.73 801.087 1302.73 Q798.089 1302.73 796.504 1300.44 Q794.918 1298.13 794.918 1293.77 Q794.918 1289.67 796.863 1287.24 Q798.807 1284.8 802.082 1284.8 Q802.962 1284.8 803.853 1284.98 Q804.756 1285.15 805.728 1285.5 Z\" fill=\"#000000\" fill-rule=\"evenodd\" fill-opacity=\"1\" /><path clip-path=\"url(#clip830)\" d=\"M817.302 1287.15 L811.4 1296.38 L817.302 1296.38 L817.302 1287.15 M816.689 1285.11 L819.629 1285.11 L819.629 1296.38 L822.094 1296.38 L822.094 1298.32 L819.629 1298.32 L819.629 1302.39 L817.302 1302.39 L817.302 1298.32 L809.501 1298.32 L809.501 1296.06 L816.689 1285.11 Z\" fill=\"#000000\" fill-rule=\"evenodd\" fill-opacity=\"1\" /><path clip-path=\"url(#clip830)\" d=\"M942.474 1322.36 L944.812 1322.36 L944.812 1339.64 L942.474 1339.64 L942.474 1322.36 Z\" fill=\"#000000\" fill-rule=\"evenodd\" fill-opacity=\"1\" /><path clip-path=\"url(#clip830)\" d=\"M960.147 1331.82 L960.147 1339.64 L958.018 1339.64 L958.018 1331.89 Q958.018 1330.05 957.3 1329.13 Q956.582 1328.22 955.147 1328.22 Q953.423 1328.22 952.427 1329.32 Q951.432 1330.42 951.432 1332.31 L951.432 1339.64 L949.291 1339.64 L949.291 1326.68 L951.432 1326.68 L951.432 1328.69 Q952.196 1327.52 953.226 1326.94 Q954.268 1326.36 955.622 1326.36 Q957.856 1326.36 959.001 1327.75 Q960.147 1329.13 960.147 1331.82 Z\" fill=\"#000000\" fill-rule=\"evenodd\" fill-opacity=\"1\" /><path clip-path=\"url(#clip830)\" d=\"M966.501 1323 L966.501 1326.68 L970.888 1326.68 L970.888 1328.33 L966.501 1328.33 L966.501 1335.37 Q966.501 1336.96 966.93 1337.41 Q967.369 1337.86 968.7 1337.86 L970.888 1337.86 L970.888 1339.64 L968.7 1339.64 Q966.235 1339.64 965.298 1338.73 Q964.36 1337.8 964.36 1335.37 L964.36 1328.33 L962.798 1328.33 L962.798 1326.68 L964.36 1326.68 L964.36 1323 L966.501 1323 Z\" fill=\"#000000\" fill-rule=\"evenodd\" fill-opacity=\"1\" /><path clip-path=\"url(#clip830)\" d=\"M978.99 1331.43 Q977.323 1331.43 976.362 1332.33 Q975.413 1333.22 975.413 1334.78 Q975.413 1336.34 976.362 1337.23 Q977.323 1338.12 978.99 1338.12 Q980.656 1338.12 981.617 1337.23 Q982.578 1336.33 982.578 1334.78 Q982.578 1333.22 981.617 1332.33 Q980.668 1331.43 978.99 1331.43 M976.652 1330.44 Q975.147 1330.07 974.302 1329.04 Q973.469 1328.01 973.469 1326.53 Q973.469 1324.46 974.939 1323.25 Q976.42 1322.05 978.99 1322.05 Q981.571 1322.05 983.041 1323.25 Q984.511 1324.46 984.511 1326.53 Q984.511 1328.01 983.666 1329.04 Q982.832 1330.07 981.339 1330.44 Q983.029 1330.83 983.967 1331.98 Q984.916 1333.12 984.916 1334.78 Q984.916 1337.29 983.376 1338.63 Q981.849 1339.98 978.99 1339.98 Q976.131 1339.98 974.592 1338.63 Q973.064 1337.29 973.064 1334.78 Q973.064 1333.12 974.013 1331.98 Q974.962 1330.83 976.652 1330.44 M975.795 1326.75 Q975.795 1328.09 976.629 1328.84 Q977.474 1329.59 978.99 1329.59 Q980.494 1329.59 981.339 1328.84 Q982.196 1328.09 982.196 1326.75 Q982.196 1325.4 981.339 1324.65 Q980.494 1323.9 978.99 1323.9 Q977.474 1323.9 976.629 1324.65 Q975.795 1325.4 975.795 1326.75 Z\" fill=\"#000000\" fill-rule=\"evenodd\" fill-opacity=\"1\" /><path clip-path=\"url(#clip830)\" d=\"M1434.71 1016.82 L1437.06 1016.82 L1437.06 1027.32 Q1437.06 1030.1 1438.07 1031.32 Q1439.07 1032.54 1441.33 1032.54 Q1443.57 1032.54 1444.58 1031.32 Q1445.59 1030.1 1445.59 1027.32 L1445.59 1016.82 L1447.94 1016.82 L1447.94 1027.61 Q1447.94 1030.99 1446.26 1032.71 Q1444.59 1034.44 1441.33 1034.44 Q1438.05 1034.44 1436.38 1032.71 Q1434.71 1030.99 1434.71 1027.61 L1434.71 1016.82 Z\" fill=\"#000000\" fill-rule=\"evenodd\" fill-opacity=\"1\" /><path clip-path=\"url(#clip830)\" d=\"M1463.01 1026.28 L1463.01 1034.1 L1460.88 1034.1 L1460.88 1026.35 Q1460.88 1024.51 1460.16 1023.59 Q1459.44 1022.68 1458.01 1022.68 Q1456.28 1022.68 1455.29 1023.78 Q1454.29 1024.88 1454.29 1026.78 L1454.29 1034.1 L1452.15 1034.1 L1452.15 1021.14 L1454.29 1021.14 L1454.29 1023.15 Q1455.06 1021.98 1456.09 1021.41 Q1457.13 1020.83 1458.48 1020.83 Q1460.72 1020.83 1461.86 1022.22 Q1463.01 1023.59 1463.01 1026.28 Z\" fill=\"#000000\" fill-rule=\"evenodd\" fill-opacity=\"1\" /><path clip-path=\"url(#clip830)\" d=\"M1475.52 1021.52 L1475.52 1023.54 Q1474.62 1023.07 1473.64 1022.84 Q1472.67 1022.61 1471.63 1022.61 Q1470.04 1022.61 1469.25 1023.1 Q1468.46 1023.58 1468.46 1024.55 Q1468.46 1025.29 1469.03 1025.72 Q1469.59 1026.14 1471.31 1026.52 L1472.04 1026.68 Q1474.3 1027.17 1475.25 1028.06 Q1476.21 1028.94 1476.21 1030.53 Q1476.21 1032.33 1474.78 1033.38 Q1473.35 1034.44 1470.85 1034.44 Q1469.81 1034.44 1468.68 1034.23 Q1467.56 1034.03 1466.31 1033.63 L1466.31 1031.43 Q1467.49 1032.04 1468.63 1032.35 Q1469.78 1032.66 1470.9 1032.66 Q1472.41 1032.66 1473.22 1032.15 Q1474.03 1031.63 1474.03 1030.69 Q1474.03 1029.82 1473.44 1029.36 Q1472.86 1028.89 1470.88 1028.47 L1470.14 1028.29 Q1468.16 1027.88 1467.28 1027.02 Q1466.4 1026.15 1466.4 1024.65 Q1466.4 1022.82 1467.7 1021.82 Q1468.99 1020.83 1471.38 1020.83 Q1472.56 1020.83 1473.6 1021 Q1474.64 1021.17 1475.52 1021.52 Z\" fill=\"#000000\" fill-rule=\"evenodd\" fill-opacity=\"1\" /><path clip-path=\"url(#clip830)\" d=\"M1479.6 1021.14 L1481.73 1021.14 L1481.73 1034.1 L1479.6 1034.1 L1479.6 1021.14 M1479.6 1016.09 L1481.73 1016.09 L1481.73 1018.79 L1479.6 1018.79 L1479.6 1016.09 Z\" fill=\"#000000\" fill-rule=\"evenodd\" fill-opacity=\"1\" /><path clip-path=\"url(#clip830)\" d=\"M1494.72 1027.47 Q1494.72 1025.16 1493.76 1023.88 Q1492.81 1022.61 1491.09 1022.61 Q1489.37 1022.61 1488.41 1023.88 Q1487.46 1025.16 1487.46 1027.47 Q1487.46 1029.77 1488.41 1031.05 Q1489.37 1032.32 1491.09 1032.32 Q1492.81 1032.32 1493.76 1031.05 Q1494.72 1029.77 1494.72 1027.47 M1496.85 1032.49 Q1496.85 1035.8 1495.38 1037.41 Q1493.91 1039.03 1490.88 1039.03 Q1489.76 1039.03 1488.76 1038.86 Q1487.76 1038.7 1486.83 1038.35 L1486.83 1036.28 Q1487.76 1036.79 1488.68 1037.03 Q1489.59 1037.27 1490.54 1037.27 Q1492.64 1037.27 1493.68 1036.17 Q1494.72 1035.09 1494.72 1032.88 L1494.72 1031.82 Q1494.06 1032.97 1493.03 1033.54 Q1492 1034.1 1490.57 1034.1 Q1488.18 1034.1 1486.72 1032.29 Q1485.26 1030.47 1485.26 1027.47 Q1485.26 1024.46 1486.72 1022.64 Q1488.18 1020.83 1490.57 1020.83 Q1492 1020.83 1493.03 1021.39 Q1494.06 1021.96 1494.72 1023.11 L1494.72 1021.14 L1496.85 1021.14 L1496.85 1032.49 Z\" fill=\"#000000\" fill-rule=\"evenodd\" fill-opacity=\"1\" /><path clip-path=\"url(#clip830)\" d=\"M1512.01 1026.28 L1512.01 1034.1 L1509.88 1034.1 L1509.88 1026.35 Q1509.88 1024.51 1509.16 1023.59 Q1508.45 1022.68 1507.01 1022.68 Q1505.29 1022.68 1504.29 1023.78 Q1503.3 1024.88 1503.3 1026.78 L1503.3 1034.1 L1501.16 1034.1 L1501.16 1021.14 L1503.3 1021.14 L1503.3 1023.15 Q1504.06 1021.98 1505.09 1021.41 Q1506.13 1020.83 1507.49 1020.83 Q1509.72 1020.83 1510.87 1022.22 Q1512.01 1023.59 1512.01 1026.28 Z\" fill=\"#000000\" fill-rule=\"evenodd\" fill-opacity=\"1\" /><path clip-path=\"url(#clip830)\" d=\"M1527.35 1027.09 L1527.35 1028.13 L1517.56 1028.13 Q1517.69 1030.33 1518.88 1031.49 Q1520.07 1032.63 1522.19 1032.63 Q1523.41 1032.63 1524.56 1032.33 Q1525.72 1032.03 1526.85 1031.43 L1526.85 1033.44 Q1525.7 1033.93 1524.5 1034.18 Q1523.3 1034.44 1522.06 1034.44 Q1518.96 1034.44 1517.14 1032.63 Q1515.33 1030.83 1515.33 1027.75 Q1515.33 1024.57 1517.05 1022.7 Q1518.77 1020.83 1521.69 1020.83 Q1524.3 1020.83 1525.82 1022.52 Q1527.35 1024.2 1527.35 1027.09 M1525.22 1026.46 Q1525.19 1024.72 1524.23 1023.67 Q1523.29 1022.63 1521.71 1022.63 Q1519.93 1022.63 1518.85 1023.64 Q1517.79 1024.65 1517.63 1026.48 L1525.22 1026.46 Z\" fill=\"#000000\" fill-rule=\"evenodd\" fill-opacity=\"1\" /><path clip-path=\"url(#clip830)\" d=\"M1539.37 1023.11 L1539.37 1016.09 L1541.5 1016.09 L1541.5 1034.1 L1539.37 1034.1 L1539.37 1032.16 Q1538.7 1033.32 1537.67 1033.88 Q1536.65 1034.44 1535.22 1034.44 Q1532.87 1034.44 1531.39 1032.56 Q1529.92 1030.69 1529.92 1027.63 Q1529.92 1024.58 1531.39 1022.7 Q1532.87 1020.83 1535.22 1020.83 Q1536.65 1020.83 1537.67 1021.39 Q1538.7 1021.95 1539.37 1023.11 M1532.12 1027.63 Q1532.12 1029.98 1533.08 1031.32 Q1534.05 1032.66 1535.74 1032.66 Q1537.43 1032.66 1538.4 1031.32 Q1539.37 1029.98 1539.37 1027.63 Q1539.37 1025.28 1538.4 1023.95 Q1537.43 1022.61 1535.74 1022.61 Q1534.05 1022.61 1533.08 1023.95 Q1532.12 1025.28 1532.12 1027.63 Z\" fill=\"#000000\" fill-rule=\"evenodd\" fill-opacity=\"1\" /><path clip-path=\"url(#clip830)\" d=\"M1531.05 1239.44 L1533.4 1239.44 L1533.4 1249.94 Q1533.4 1252.72 1534.41 1253.94 Q1535.41 1255.16 1537.67 1255.16 Q1539.92 1255.16 1540.92 1253.94 Q1541.93 1252.72 1541.93 1249.94 L1541.93 1239.44 L1544.28 1239.44 L1544.28 1250.23 Q1544.28 1253.61 1542.6 1255.33 Q1540.94 1257.06 1537.67 1257.06 Q1534.4 1257.06 1532.72 1255.33 Q1531.05 1253.61 1531.05 1250.23 L1531.05 1239.44 Z\" fill=\"#000000\" fill-rule=\"evenodd\" fill-opacity=\"1\" /><path clip-path=\"url(#clip830)\" d=\"M1548.67 1239.44 L1551 1239.44 L1551 1256.72 L1548.67 1256.72 L1548.67 1239.44 Z\" fill=\"#000000\" fill-rule=\"evenodd\" fill-opacity=\"1\" /><path clip-path=\"url(#clip830)\" d=\"M1566.34 1248.9 L1566.34 1256.72 L1564.21 1256.72 L1564.21 1248.97 Q1564.21 1247.13 1563.49 1246.21 Q1562.78 1245.3 1561.34 1245.3 Q1559.62 1245.3 1558.62 1246.4 Q1557.62 1247.5 1557.62 1249.4 L1557.62 1256.72 L1555.48 1256.72 L1555.48 1243.76 L1557.62 1243.76 L1557.62 1245.77 Q1558.39 1244.6 1559.42 1244.03 Q1560.46 1243.45 1561.81 1243.45 Q1564.05 1243.45 1565.19 1244.84 Q1566.34 1246.21 1566.34 1248.9 Z\" fill=\"#000000\" fill-rule=\"evenodd\" fill-opacity=\"1\" /><path clip-path=\"url(#clip830)\" d=\"M1572.69 1240.08 L1572.69 1243.76 L1577.08 1243.76 L1577.08 1245.41 L1572.69 1245.41 L1572.69 1252.45 Q1572.69 1254.04 1573.12 1254.49 Q1573.56 1254.94 1574.89 1254.94 L1577.08 1254.94 L1577.08 1256.72 L1574.89 1256.72 Q1572.43 1256.72 1571.49 1255.81 Q1570.55 1254.88 1570.55 1252.45 L1570.55 1245.41 L1568.99 1245.41 L1568.99 1243.76 L1570.55 1243.76 L1570.55 1240.08 L1572.69 1240.08 Z\" fill=\"#000000\" fill-rule=\"evenodd\" fill-opacity=\"1\" /><path clip-path=\"url(#clip830)\" d=\"M1580.59 1254.75 L1584.41 1254.75 L1584.41 1241.57 L1580.25 1242.4 L1580.25 1240.28 L1584.38 1239.44 L1586.72 1239.44 L1586.72 1254.75 L1590.54 1254.75 L1590.54 1256.72 L1580.59 1256.72 L1580.59 1254.75 Z\" fill=\"#000000\" fill-rule=\"evenodd\" fill-opacity=\"1\" /><path clip-path=\"url(#clip830)\" d=\"M1597.28 1254.75 L1605.44 1254.75 L1605.44 1256.72 L1594.46 1256.72 L1594.46 1254.75 Q1595.8 1253.38 1598.09 1251.06 Q1600.39 1248.74 1600.98 1248.06 Q1602.1 1246.8 1602.54 1245.93 Q1602.99 1245.06 1602.99 1244.21 Q1602.99 1242.83 1602.02 1241.96 Q1601.06 1241.1 1599.51 1241.1 Q1598.41 1241.1 1597.18 1241.48 Q1595.97 1241.86 1594.58 1242.64 L1594.58 1240.28 Q1595.99 1239.71 1597.22 1239.42 Q1598.45 1239.13 1599.46 1239.13 Q1602.15 1239.13 1603.75 1240.47 Q1605.34 1241.81 1605.34 1244.06 Q1605.34 1245.12 1604.94 1246.09 Q1604.55 1247.03 1603.49 1248.33 Q1603.2 1248.67 1601.65 1250.28 Q1600.1 1251.87 1597.28 1254.75 Z\" fill=\"#000000\" fill-rule=\"evenodd\" fill-opacity=\"1\" /><path clip-path=\"url(#clip830)\" d=\"M1615.34 1248.52 Q1613.68 1248.52 1612.72 1249.41 Q1611.77 1250.3 1611.77 1251.86 Q1611.77 1253.42 1612.72 1254.31 Q1613.68 1255.21 1615.34 1255.21 Q1617.01 1255.21 1617.97 1254.31 Q1618.93 1253.41 1618.93 1251.86 Q1618.93 1250.3 1617.97 1249.41 Q1617.02 1248.52 1615.34 1248.52 M1613.01 1247.52 Q1611.5 1247.15 1610.66 1246.12 Q1609.82 1245.09 1609.82 1243.61 Q1609.82 1241.54 1611.29 1240.33 Q1612.77 1239.13 1615.34 1239.13 Q1617.93 1239.13 1619.4 1240.33 Q1620.87 1241.54 1620.87 1243.61 Q1620.87 1245.09 1620.02 1246.12 Q1619.19 1247.15 1617.69 1247.52 Q1619.38 1247.91 1620.32 1249.06 Q1621.27 1250.21 1621.27 1251.86 Q1621.27 1254.37 1619.73 1255.71 Q1618.2 1257.06 1615.34 1257.06 Q1612.49 1257.06 1610.95 1255.71 Q1609.42 1254.37 1609.42 1251.86 Q1609.42 1250.21 1610.37 1249.06 Q1611.32 1247.91 1613.01 1247.52 M1612.15 1243.83 Q1612.15 1245.17 1612.98 1245.92 Q1613.83 1246.68 1615.34 1246.68 Q1616.85 1246.68 1617.69 1245.92 Q1618.55 1245.17 1618.55 1243.83 Q1618.55 1242.49 1617.69 1241.73 Q1616.85 1240.98 1615.34 1240.98 Q1613.83 1240.98 1612.98 1241.73 Q1612.15 1242.49 1612.15 1243.83 Z\" fill=\"#000000\" fill-rule=\"evenodd\" fill-opacity=\"1\" /><path clip-path=\"url(#clip830)\" d=\"M1471.68 1321.01 L1474.03 1321.01 L1474.03 1331.51 Q1474.03 1334.29 1475.03 1335.51 Q1476.04 1336.73 1478.3 1336.73 Q1480.54 1336.73 1481.55 1335.51 Q1482.56 1334.29 1482.56 1331.51 L1482.56 1321.01 L1484.91 1321.01 L1484.91 1331.8 Q1484.91 1335.18 1483.23 1336.9 Q1481.56 1338.63 1478.3 1338.63 Q1475.02 1338.63 1473.34 1336.9 Q1471.68 1335.18 1471.68 1331.8 L1471.68 1321.01 Z\" fill=\"#000000\" fill-rule=\"evenodd\" fill-opacity=\"1\" /><path clip-path=\"url(#clip830)\" d=\"M1489.29 1321.01 L1491.63 1321.01 L1491.63 1338.29 L1489.29 1338.29 L1489.29 1321.01 Z\" fill=\"#000000\" fill-rule=\"evenodd\" fill-opacity=\"1\" /><path clip-path=\"url(#clip830)\" d=\"M1506.97 1330.47 L1506.97 1338.29 L1504.84 1338.29 L1504.84 1330.54 Q1504.84 1328.7 1504.12 1327.78 Q1503.4 1326.87 1501.97 1326.87 Q1500.24 1326.87 1499.25 1327.97 Q1498.25 1329.07 1498.25 1330.97 L1498.25 1338.29 L1496.11 1338.29 L1496.11 1325.33 L1498.25 1325.33 L1498.25 1327.34 Q1499.01 1326.17 1500.04 1325.6 Q1501.09 1325.02 1502.44 1325.02 Q1504.67 1325.02 1505.82 1326.41 Q1506.97 1327.78 1506.97 1330.47 Z\" fill=\"#000000\" fill-rule=\"evenodd\" fill-opacity=\"1\" /><path clip-path=\"url(#clip830)\" d=\"M1513.32 1321.65 L1513.32 1325.33 L1517.71 1325.33 L1517.71 1326.98 L1513.32 1326.98 L1513.32 1334.02 Q1513.32 1335.61 1513.75 1336.06 Q1514.19 1336.51 1515.52 1336.51 L1517.71 1336.51 L1517.71 1338.29 L1515.52 1338.29 Q1513.05 1338.29 1512.12 1337.38 Q1511.18 1336.45 1511.18 1334.02 L1511.18 1326.98 L1509.62 1326.98 L1509.62 1325.33 L1511.18 1325.33 L1511.18 1321.65 L1513.32 1321.65 Z\" fill=\"#000000\" fill-rule=\"evenodd\" fill-opacity=\"1\" /><path clip-path=\"url(#clip830)\" d=\"M1521.21 1336.32 L1525.03 1336.32 L1525.03 1323.14 L1520.88 1323.98 L1520.88 1321.85 L1525.01 1321.01 L1527.35 1321.01 L1527.35 1336.32 L1531.17 1336.32 L1531.17 1338.29 L1521.21 1338.29 L1521.21 1336.32 Z\" fill=\"#000000\" fill-rule=\"evenodd\" fill-opacity=\"1\" /><path clip-path=\"url(#clip830)\" d=\"M1541.18 1328.72 Q1539.6 1328.72 1538.68 1329.8 Q1537.76 1330.87 1537.76 1332.75 Q1537.76 1334.61 1538.68 1335.7 Q1539.6 1336.78 1541.18 1336.78 Q1542.75 1336.78 1543.67 1335.7 Q1544.59 1334.61 1544.59 1332.75 Q1544.59 1330.87 1543.67 1329.8 Q1542.75 1328.72 1541.18 1328.72 M1545.82 1321.39 L1545.82 1323.52 Q1544.94 1323.11 1544.04 1322.89 Q1543.15 1322.67 1542.27 1322.67 Q1539.95 1322.67 1538.72 1324.23 Q1537.51 1325.79 1537.34 1328.95 Q1538.02 1327.94 1539.05 1327.41 Q1540.08 1326.87 1541.32 1326.87 Q1543.92 1326.87 1545.43 1328.45 Q1546.94 1330.03 1546.94 1332.75 Q1546.94 1335.41 1545.37 1337.02 Q1543.79 1338.63 1541.18 1338.63 Q1538.18 1338.63 1536.6 1336.34 Q1535.01 1334.03 1535.01 1329.67 Q1535.01 1325.57 1536.95 1323.14 Q1538.9 1320.7 1542.17 1320.7 Q1543.05 1320.7 1543.94 1320.87 Q1544.85 1321.05 1545.82 1321.39 Z\" fill=\"#000000\" fill-rule=\"evenodd\" fill-opacity=\"1\" /><path clip-path=\"url(#clip830)\" d=\"M1700.49 1241.89 L1702.84 1241.89 L1702.84 1252.39 Q1702.84 1255.16 1703.85 1256.39 Q1704.85 1257.61 1707.11 1257.61 Q1709.36 1257.61 1710.36 1256.39 Q1711.37 1255.16 1711.37 1252.39 L1711.37 1241.89 L1713.72 1241.89 L1713.72 1252.68 Q1713.72 1256.05 1712.04 1257.78 Q1710.37 1259.5 1707.11 1259.5 Q1703.83 1259.5 1702.16 1257.78 Q1700.49 1256.05 1700.49 1252.68 L1700.49 1241.89 Z\" fill=\"#000000\" fill-rule=\"evenodd\" fill-opacity=\"1\" /><path clip-path=\"url(#clip830)\" d=\"M1718.11 1241.89 L1720.44 1241.89 L1720.44 1259.17 L1718.11 1259.17 L1718.11 1241.89 Z\" fill=\"#000000\" fill-rule=\"evenodd\" fill-opacity=\"1\" /><path clip-path=\"url(#clip830)\" d=\"M1735.78 1251.34 L1735.78 1259.17 L1733.65 1259.17 L1733.65 1251.41 Q1733.65 1249.57 1732.93 1248.66 Q1732.21 1247.74 1730.78 1247.74 Q1729.05 1247.74 1728.06 1248.84 Q1727.06 1249.94 1727.06 1251.84 L1727.06 1259.17 L1724.92 1259.17 L1724.92 1246.21 L1727.06 1246.21 L1727.06 1248.22 Q1727.83 1247.05 1728.86 1246.47 Q1729.9 1245.89 1731.25 1245.89 Q1733.49 1245.89 1734.63 1247.28 Q1735.78 1248.66 1735.78 1251.34 Z\" fill=\"#000000\" fill-rule=\"evenodd\" fill-opacity=\"1\" /><path clip-path=\"url(#clip830)\" d=\"M1742.13 1242.52 L1742.13 1246.21 L1746.52 1246.21 L1746.52 1247.86 L1742.13 1247.86 L1742.13 1254.9 Q1742.13 1256.48 1742.56 1256.93 Q1743 1257.39 1744.33 1257.39 L1746.52 1257.39 L1746.52 1259.17 L1744.33 1259.17 Q1741.87 1259.17 1740.93 1258.25 Q1739.99 1257.33 1739.99 1254.9 L1739.99 1247.86 L1738.43 1247.86 L1738.43 1246.21 L1739.99 1246.21 L1739.99 1242.52 L1742.13 1242.52 Z\" fill=\"#000000\" fill-rule=\"evenodd\" fill-opacity=\"1\" /><path clip-path=\"url(#clip830)\" d=\"M1756.7 1249.85 Q1758.38 1250.21 1759.32 1251.34 Q1760.27 1252.48 1760.27 1254.15 Q1760.27 1256.7 1758.51 1258.1 Q1756.75 1259.5 1753.51 1259.5 Q1752.42 1259.5 1751.26 1259.28 Q1750.12 1259.08 1748.89 1258.65 L1748.89 1256.39 Q1749.86 1256.96 1751.02 1257.25 Q1752.18 1257.54 1753.44 1257.54 Q1755.64 1257.54 1756.79 1256.67 Q1757.94 1255.8 1757.94 1254.15 Q1757.94 1252.62 1756.87 1251.76 Q1755.8 1250.89 1753.89 1250.89 L1751.88 1250.89 L1751.88 1248.97 L1753.98 1248.97 Q1755.71 1248.97 1756.62 1248.29 Q1757.54 1247.59 1757.54 1246.3 Q1757.54 1244.97 1756.59 1244.26 Q1755.65 1243.54 1753.89 1243.54 Q1752.93 1243.54 1751.83 1243.75 Q1750.73 1243.96 1749.41 1244.4 L1749.41 1242.32 Q1750.74 1241.95 1751.9 1241.76 Q1753.07 1241.58 1754.1 1241.58 Q1756.76 1241.58 1758.31 1242.79 Q1759.86 1243.99 1759.86 1246.05 Q1759.86 1247.49 1759.04 1248.49 Q1758.22 1249.47 1756.7 1249.85 Z\" fill=\"#000000\" fill-rule=\"evenodd\" fill-opacity=\"1\" /><path clip-path=\"url(#clip830)\" d=\"M1766.72 1257.2 L1774.88 1257.2 L1774.88 1259.17 L1763.9 1259.17 L1763.9 1257.2 Q1765.23 1255.82 1767.53 1253.51 Q1769.83 1251.18 1770.42 1250.51 Q1771.54 1249.25 1771.98 1248.38 Q1772.43 1247.5 1772.43 1246.66 Q1772.43 1245.28 1771.46 1244.41 Q1770.5 1243.54 1768.95 1243.54 Q1767.85 1243.54 1766.62 1243.93 Q1765.41 1244.31 1764.02 1245.08 L1764.02 1242.72 Q1765.43 1242.15 1766.66 1241.87 Q1767.89 1241.58 1768.9 1241.58 Q1771.59 1241.58 1773.19 1242.92 Q1774.78 1244.26 1774.78 1246.51 Q1774.78 1247.57 1774.38 1248.53 Q1773.98 1249.48 1772.93 1250.78 Q1772.64 1251.11 1771.09 1252.72 Q1769.54 1254.32 1766.72 1257.2 Z\" fill=\"#000000\" fill-rule=\"evenodd\" fill-opacity=\"1\" /><path clip-path=\"url(#clip830)\" d=\"M1627.31 1245 L1629.66 1245 L1629.66 1255.49 Q1629.66 1258.27 1630.67 1259.5 Q1631.67 1260.71 1633.93 1260.71 Q1636.18 1260.71 1637.18 1259.5 Q1638.19 1258.27 1638.19 1255.49 L1638.19 1245 L1640.54 1245 L1640.54 1255.78 Q1640.54 1259.16 1638.86 1260.89 Q1637.19 1262.61 1633.93 1262.61 Q1630.65 1262.61 1628.98 1260.89 Q1627.31 1259.16 1627.31 1255.78 L1627.31 1245 Z\" fill=\"#000000\" fill-rule=\"evenodd\" fill-opacity=\"1\" /><path clip-path=\"url(#clip830)\" d=\"M1644.93 1245 L1647.26 1245 L1647.26 1262.28 L1644.93 1262.28 L1644.93 1245 Z\" fill=\"#000000\" fill-rule=\"evenodd\" fill-opacity=\"1\" /><path clip-path=\"url(#clip830)\" d=\"M1662.6 1254.45 L1662.6 1262.28 L1660.47 1262.28 L1660.47 1254.52 Q1660.47 1252.68 1659.75 1251.77 Q1659.03 1250.85 1657.6 1250.85 Q1655.87 1250.85 1654.88 1251.95 Q1653.88 1253.05 1653.88 1254.95 L1653.88 1262.28 L1651.74 1262.28 L1651.74 1249.31 L1653.88 1249.31 L1653.88 1251.33 Q1654.65 1250.16 1655.68 1249.58 Q1656.72 1249 1658.07 1249 Q1660.31 1249 1661.45 1250.39 Q1662.6 1251.77 1662.6 1254.45 Z\" fill=\"#000000\" fill-rule=\"evenodd\" fill-opacity=\"1\" /><path clip-path=\"url(#clip830)\" d=\"M1668.95 1245.63 L1668.95 1249.31 L1673.34 1249.31 L1673.34 1250.97 L1668.95 1250.97 L1668.95 1258.01 Q1668.95 1259.59 1669.38 1260.04 Q1669.82 1260.49 1671.15 1260.49 L1673.34 1260.49 L1673.34 1262.28 L1671.15 1262.28 Q1668.69 1262.28 1667.75 1261.36 Q1666.81 1260.44 1666.81 1258.01 L1666.81 1250.97 L1665.25 1250.97 L1665.25 1249.31 L1666.81 1249.31 L1666.81 1245.63 L1668.95 1245.63 Z\" fill=\"#000000\" fill-rule=\"evenodd\" fill-opacity=\"1\" /><path clip-path=\"url(#clip830)\" d=\"M1681.73 1252.7 Q1680.16 1252.7 1679.23 1253.78 Q1678.32 1254.86 1678.32 1256.73 Q1678.32 1258.6 1679.23 1259.68 Q1680.16 1260.76 1681.73 1260.76 Q1683.3 1260.76 1684.22 1259.68 Q1685.14 1258.6 1685.14 1256.73 Q1685.14 1254.86 1684.22 1253.78 Q1683.3 1252.7 1681.73 1252.7 M1686.37 1245.38 L1686.37 1247.51 Q1685.49 1247.09 1684.59 1246.87 Q1683.7 1246.65 1682.82 1246.65 Q1680.5 1246.65 1679.28 1248.21 Q1678.06 1249.78 1677.89 1252.94 Q1678.57 1251.93 1679.6 1251.4 Q1680.63 1250.85 1681.87 1250.85 Q1684.47 1250.85 1685.98 1252.44 Q1687.49 1254.01 1687.49 1256.73 Q1687.49 1259.39 1685.92 1261 Q1684.35 1262.61 1681.73 1262.61 Q1678.73 1262.61 1677.15 1260.32 Q1675.56 1258.02 1675.56 1253.65 Q1675.56 1249.56 1677.51 1247.13 Q1679.45 1244.68 1682.73 1244.68 Q1683.61 1244.68 1684.5 1244.86 Q1685.4 1245.03 1686.37 1245.38 Z\" fill=\"#000000\" fill-rule=\"evenodd\" fill-opacity=\"1\" /><path clip-path=\"url(#clip830)\" d=\"M1697.95 1247.03 L1692.04 1256.26 L1697.95 1256.26 L1697.95 1247.03 M1697.33 1245 L1700.27 1245 L1700.27 1256.26 L1702.74 1256.26 L1702.74 1258.2 L1700.27 1258.2 L1700.27 1262.28 L1697.95 1262.28 L1697.95 1258.2 L1690.14 1258.2 L1690.14 1255.95 L1697.33 1245 Z\" fill=\"#000000\" fill-rule=\"evenodd\" fill-opacity=\"1\" /><path clip-path=\"url(#clip830)\" d=\"M1369.04 1308.53 L1371.38 1308.53 L1371.38 1319.03 Q1371.38 1321.81 1372.39 1323.03 Q1373.4 1324.25 1375.66 1324.25 Q1377.9 1324.25 1378.91 1323.03 Q1379.91 1321.81 1379.91 1319.03 L1379.91 1308.53 L1382.26 1308.53 L1382.26 1319.32 Q1382.26 1322.7 1380.59 1324.42 Q1378.92 1326.15 1375.66 1326.15 Q1372.38 1326.15 1370.7 1324.42 Q1369.04 1322.7 1369.04 1319.32 L1369.04 1308.53 Z\" fill=\"#000000\" fill-rule=\"evenodd\" fill-opacity=\"1\" /><path clip-path=\"url(#clip830)\" d=\"M1386.65 1308.53 L1388.99 1308.53 L1388.99 1325.81 L1386.65 1325.81 L1386.65 1308.53 Z\" fill=\"#000000\" fill-rule=\"evenodd\" fill-opacity=\"1\" /><path clip-path=\"url(#clip830)\" d=\"M1404.32 1317.99 L1404.32 1325.81 L1402.19 1325.81 L1402.19 1318.06 Q1402.19 1316.22 1401.48 1315.3 Q1400.76 1314.39 1399.32 1314.39 Q1397.6 1314.39 1396.6 1315.49 Q1395.61 1316.59 1395.61 1318.48 L1395.61 1325.81 L1393.47 1325.81 L1393.47 1312.85 L1395.61 1312.85 L1395.61 1314.86 Q1396.37 1313.69 1397.4 1313.11 Q1398.44 1312.54 1399.8 1312.54 Q1402.03 1312.54 1403.18 1313.92 Q1404.32 1315.3 1404.32 1317.99 Z\" fill=\"#000000\" fill-rule=\"evenodd\" fill-opacity=\"1\" /><path clip-path=\"url(#clip830)\" d=\"M1410.68 1309.17 L1410.68 1312.85 L1415.07 1312.85 L1415.07 1314.5 L1410.68 1314.5 L1410.68 1321.54 Q1410.68 1323.13 1411.11 1323.58 Q1411.55 1324.03 1412.88 1324.03 L1415.07 1324.03 L1415.07 1325.81 L1412.88 1325.81 Q1410.41 1325.81 1409.47 1324.9 Q1408.54 1323.97 1408.54 1321.54 L1408.54 1314.5 L1406.97 1314.5 L1406.97 1312.85 L1408.54 1312.85 L1408.54 1309.17 L1410.68 1309.17 Z\" fill=\"#000000\" fill-rule=\"evenodd\" fill-opacity=\"1\" /><path clip-path=\"url(#clip830)\" d=\"M1423.17 1317.61 Q1421.5 1317.61 1420.54 1318.5 Q1419.59 1319.39 1419.59 1320.95 Q1419.59 1322.51 1420.54 1323.4 Q1421.5 1324.3 1423.17 1324.3 Q1424.83 1324.3 1425.79 1323.4 Q1426.75 1322.5 1426.75 1320.95 Q1426.75 1319.39 1425.79 1318.5 Q1424.85 1317.61 1423.17 1317.61 M1420.83 1316.61 Q1419.32 1316.24 1418.48 1315.21 Q1417.65 1314.18 1417.65 1312.7 Q1417.65 1310.63 1419.12 1309.42 Q1420.6 1308.22 1423.17 1308.22 Q1425.75 1308.22 1427.22 1309.42 Q1428.69 1310.63 1428.69 1312.7 Q1428.69 1314.18 1427.84 1315.21 Q1427.01 1316.24 1425.52 1316.61 Q1427.21 1317 1428.14 1318.15 Q1429.09 1319.3 1429.09 1320.95 Q1429.09 1323.46 1427.55 1324.8 Q1426.03 1326.15 1423.17 1326.15 Q1420.31 1326.15 1418.77 1324.8 Q1417.24 1323.46 1417.24 1320.95 Q1417.24 1319.3 1418.19 1318.15 Q1419.14 1317 1420.83 1316.61 M1419.97 1312.92 Q1419.97 1314.26 1420.81 1315.01 Q1421.65 1315.77 1423.17 1315.77 Q1424.67 1315.77 1425.52 1315.01 Q1426.37 1314.26 1426.37 1312.92 Q1426.37 1311.58 1425.52 1310.82 Q1424.67 1310.07 1423.17 1310.07 Q1421.65 1310.07 1420.81 1310.82 Q1419.97 1311.58 1419.97 1312.92 Z\" fill=\"#000000\" fill-rule=\"evenodd\" fill-opacity=\"1\" /></svg>\n"
      ]
     },
     "execution_count": 8,
     "metadata": {},
     "output_type": "execute_result"
    }
   ],
   "source": [
    "using GraphRecipes, Plots\n",
    "\n",
    "gr(size=(600, 400))\n",
    "theme(:default)\n",
    "\n",
    "plot(Integer, method=:tree, fontsize=4)"
   ]
  },
  {
   "cell_type": "markdown",
   "metadata": {},
   "source": [
    "source: [Visualizing Graphs in Julia using Plots and PlotRecipes](http://www.breloff.com/Graphs/)"
   ]
  },
  {
   "cell_type": "markdown",
   "metadata": {},
   "source": [
    "### Unsigned integers\n",
    "\n",
    "* Model for $\\mathbb{N} \\cup \\{0\\}$.\n",
    "* For unsigned integers, the range is $[0,2^M-1]$.\n",
    "* Julia functions `typemin(T)` and `typemax(T)` give the lowest and highest representable number of a type `T` respectively"
   ]
  },
  {
   "cell_type": "code",
   "execution_count": 9,
   "metadata": {},
   "outputs": [
    {
     "name": "stdout",
     "output_type": "stream",
     "text": [
      "UInt8\t0\t255\n",
      "UInt16\t0\t65535\n",
      "UInt32\t0\t4294967295\n",
      "UInt64\t0\t18446744073709551615\n",
      "UInt128\t0\t340282366920938463463374607431768211455\n"
     ]
    }
   ],
   "source": [
    "for t in [UInt8, UInt16, UInt32, UInt64, UInt128]\n",
    "    println(t, '\\t', typemin(t), '\\t', typemax(t))\n",
    "end"
   ]
  },
  {
   "cell_type": "markdown",
   "metadata": {},
   "source": [
    "### Signed integers\n",
    "\n",
    "* Model of $\\mathbb{Z}$. Can do subtraction.\n",
    "\n",
    "* First bit (\"most significant bit\" or MSB) is the sign bit.  \n",
    "    - `0` for nonnegative numbers\n",
    "    - `1` for negative numbers  \n",
    "    \n",
    "* **Two's complement representation** for negative numbers. \n",
    "    - Set the sign bit to 1  \n",
    "    - Negate (`0`->`1`, `1`->`0`) the remaining bits\n",
    "    - Add to `1` to the result  \n",
    "    - Two's complement representation of a negative integer $x$ is the same as the unsigned integer $2^M - x$."
   ]
  },
  {
   "cell_type": "code",
   "execution_count": 10,
   "metadata": {},
   "outputs": [
    {
     "name": "stdout",
     "output_type": "stream",
     "text": [
      "typeof(5) = Int64\n",
      "bitstring(5) = \"0000000000000000000000000000000000000000000000000000000000000101\"\n",
      "bitstring(-5) = \"1111111111111111111111111111111111111111111111111111111111111011\"\n",
      "bitstring(UInt64(Int128(2) ^ 64 - 5)) == bitstring(-5) = true\n",
      "bitstring(2 * 5) = \"0000000000000000000000000000000000000000000000000000000000001010\"\n",
      "bitstring(2 * -5) = \"1111111111111111111111111111111111111111111111111111111111110110\"\n"
     ]
    }
   ],
   "source": [
    "@show typeof(5)\n",
    "@show bitstring(5)\n",
    "@show bitstring(-5)\n",
    "@show bitstring(UInt64(Int128(2)^64 - 5)) == bitstring(-5)\n",
    "@show bitstring(2 * 5) # shift bits of 5 to the left\n",
    "@show bitstring(2 * -5); # shift bits of -5 to left"
   ]
  },
  {
   "cell_type": "markdown",
   "metadata": {},
   "source": [
    "* Two's complement representation respects modular arithmetic nicely.  \n",
    "    Addition of any two signed integers are just bitwise addition, possibly modulo $2^M$\n",
    "    - $M=4$ case:\n",
    "    \n",
    "<img src=\"http://users.dickinson.edu/~braught/courses/cs251f02/classes/images/twosCompWheel.png\" width=\"400\" align=\"center\"/>    \n",
    "\n",
    "Source: [Signed Binary Numbers, Subtraction and Overflow](http://users.dickinson.edu/~braught/courses/cs251f02/classes/notes07.html) by Grant Braught"
   ]
  },
  {
   "cell_type": "markdown",
   "metadata": {},
   "source": [
    "* **Range** of representable integers by $M$-bit **signed integer** is $[-2^{M-1},2^{M-1}-1]$:"
   ]
  },
  {
   "cell_type": "code",
   "execution_count": 11,
   "metadata": {},
   "outputs": [
    {
     "data": {
      "text/plain": [
       "(-9223372036854775808, 9223372036854775807)"
      ]
     },
     "execution_count": 11,
     "metadata": {},
     "output_type": "execute_result"
    }
   ],
   "source": [
    "typemin(Int64), typemax(Int64)"
   ]
  },
  {
   "cell_type": "code",
   "execution_count": 12,
   "metadata": {},
   "outputs": [
    {
     "name": "stdout",
     "output_type": "stream",
     "text": [
      "Int8\t-128\t127\n",
      "Int16\t-32768\t32767\n",
      "Int32\t-2147483648\t2147483647\n",
      "Int64\t-9223372036854775808\t9223372036854775807\n",
      "Int128\t-170141183460469231731687303715884105728\t170141183460469231731687303715884105727\n"
     ]
    }
   ],
   "source": [
    "for T in [Int8, Int16, Int32, Int64, Int128]\n",
    "    println(T, '\\t', typemin(T), '\\t', typemax(T))\n",
    "end"
   ]
  },
  {
   "cell_type": "markdown",
   "metadata": {},
   "source": [
    "### `BigInt`\n",
    "\n",
    "Julia `BigInt` type is arbitrary precision."
   ]
  },
  {
   "cell_type": "code",
   "execution_count": 13,
   "metadata": {},
   "outputs": [
    {
     "name": "stdout",
     "output_type": "stream",
     "text": [
      "typemax(Int128) = 170141183460469231731687303715884105727\n",
      "typemax(Int128) + 1 = -170141183460469231731687303715884105728\n",
      "BigInt(typemax(Int128)) + 1 = 170141183460469231731687303715884105728\n"
     ]
    }
   ],
   "source": [
    "@show typemax(Int128)\n",
    "@show typemax(Int128) + 1 # overflow!\n",
    "@show BigInt(typemax(Int128)) + 1;"
   ]
  },
  {
   "cell_type": "markdown",
   "metadata": {},
   "source": [
    "### Overflow in integer arithmetic\n",
    "\n",
    "R reports `NA` for integer overflow.\n",
    "**Julia outputs the result according to modular arithmetic.**"
   ]
  },
  {
   "cell_type": "code",
   "execution_count": 14,
   "metadata": {},
   "outputs": [
    {
     "name": "stdout",
     "output_type": "stream",
     "text": [
      "typemax(Int32) = 2147483647\n",
      "typemax(Int32) + Int32(1) = -2147483648\n"
     ]
    }
   ],
   "source": [
    "@show typemax(Int32)\n",
    "@show typemax(Int32) + Int32(1); # modular arithmetics!"
   ]
  },
  {
   "cell_type": "code",
   "execution_count": 15,
   "metadata": {},
   "outputs": [
    {
     "data": {
      "text/plain": [
       "RObject{IntSxp}\n",
       "[1] 2147483647\n"
      ]
     },
     "execution_count": 15,
     "metadata": {},
     "output_type": "execute_result"
    }
   ],
   "source": [
    "using RCall\n",
    "# The largest integer R can hold\n",
    "R\"\"\"\n",
    ".Machine$integer.max \n",
    "\"\"\""
   ]
  },
  {
   "cell_type": "code",
   "execution_count": 16,
   "metadata": {},
   "outputs": [
    {
     "data": {
      "text/plain": [
       "RObject{IntSxp}\n",
       "[1] 2147483647\n"
      ]
     },
     "execution_count": 16,
     "metadata": {},
     "output_type": "execute_result"
    }
   ],
   "source": [
    "R\"\"\"\n",
    "M <- 32\n",
    "big <- 2^(M-1) - 1\n",
    "as.integer(big)\n",
    "\"\"\""
   ]
  },
  {
   "cell_type": "code",
   "execution_count": 17,
   "metadata": {},
   "outputs": [
    {
     "name": "stderr",
     "output_type": "stream",
     "text": [
      "┌ Warning: RCall.jl: Warning: NAs introduced by coercion to integer range\n",
      "└ @ RCall /Users/jhwon/.julia/packages/RCall/iMDW2/src/io.jl:160\n"
     ]
    },
    {
     "data": {
      "text/plain": [
       "RObject{IntSxp}\n",
       "[1] NA\n"
      ]
     },
     "execution_count": 17,
     "metadata": {},
     "output_type": "execute_result"
    }
   ],
   "source": [
    "R\"\"\"\n",
    "as.integer(big+1)\n",
    "\"\"\""
   ]
  },
  {
   "cell_type": "markdown",
   "metadata": {},
   "source": [
    "## Real numbers: floating-point number system\n",
    "\n",
    "Floating-point number system is a computer model for the real line $\\mathbb{R}$.\n",
    "\n",
    "* Most computer systems adopt the [IEEE 754 standard](https://en.wikipedia.org/wiki/IEEE_floating_point), established in 1985, for floating-point arithmetics.  \n",
    "For the history, see an [interview with William Kahan](http://www.cs.berkeley.edu/~wkahan/ieee754status/754story.html).\n",
    "\n",
    "* In the scientific notation, a real number is represented as\n",
    "$$\n",
    "\\pm d_1.d_2d_3 \\cdots d_p \\times b^e, \\quad 0 \\le d_i < b.\n",
    "$$\n",
    "Humans use the _base_ $b=10$ and _digits_ $d_i=0, 1, \\dotsc, 9$.\\\n",
    "    In computer, the base is $b=2$ and the digits $d_i$ are 0 or 1. The *exponent* $e$ is between $e_{\\min}$ and $e_{\\max}$.\n",
    "\n",
    "* **Normalized** vs **denormalized** numbers. For example, decimal number 18 is\n",
    "$$ +1.0010 \\times 2^4 \\quad (\\text{normalized})$$\n",
    "or, equivalently,\n",
    "$$ +0.1001 \\times 2^5 \\quad (\\text{denormalized}).$$\n",
    "\n",
    "* In the floating-number system, computer stores \n",
    "    - sign bit  \n",
    "    - the _fraction_ (or _mantissa_, or _significand_) of the **normalized** representation (except some special cases)\n",
    "    - the actual exponent plus a *bias*\n",
    "        + Because $e_{\\min}$ is likely negative and $e_{\\max}$ is positive, the exponent requires a sign. IEEE 754 handles the sign of the exponent by subtracting the bias from the value of the exponent evaluated as an unsigned integer."
   ]
  },
  {
   "cell_type": "markdown",
   "metadata": {},
   "source": [
    "* Julia provides `Float16` (half precision, implemented in software using `Float32`), `Float32` (single precision), `Float64` (double precision), and `BigFloat` (arbitrary precision)."
   ]
  },
  {
   "cell_type": "code",
   "execution_count": 18,
   "metadata": {},
   "outputs": [
    {
     "data": {
      "image/svg+xml": [
       "<?xml version=\"1.0\" encoding=\"utf-8\"?>\n",
       "<svg xmlns=\"http://www.w3.org/2000/svg\" xmlns:xlink=\"http://www.w3.org/1999/xlink\" width=\"600\" height=\"400\" viewBox=\"0 0 2400 1600\">\n",
       "<defs>\n",
       "  <clipPath id=\"clip860\">\n",
       "    <rect x=\"0\" y=\"0\" width=\"2400\" height=\"1600\"/>\n",
       "  </clipPath>\n",
       "</defs>\n",
       "<path clip-path=\"url(#clip860)\" d=\"\n",
       "M0 1600 L2400 1600 L2400 0 L0 0  Z\n",
       "  \" fill=\"#ffffff\" fill-rule=\"evenodd\" fill-opacity=\"1\"/>\n",
       "<defs>\n",
       "  <clipPath id=\"clip861\">\n",
       "    <rect x=\"480\" y=\"0\" width=\"1681\" height=\"1600\"/>\n",
       "  </clipPath>\n",
       "</defs>\n",
       "<path clip-path=\"url(#clip860)\" d=\"\n",
       "M447.244 1552.76 L1952.76 1552.76 L1952.76 47.2441 L447.244 47.2441  Z\n",
       "  \" fill=\"#ffffff\" fill-rule=\"evenodd\" fill-opacity=\"1\"/>\n",
       "<defs>\n",
       "  <clipPath id=\"clip862\">\n",
       "    <rect x=\"447\" y=\"47\" width=\"1507\" height=\"1507\"/>\n",
       "  </clipPath>\n",
       "</defs>\n",
       "<polyline clip-path=\"url(#clip862)\" style=\"stroke:#000000; stroke-linecap:butt; stroke-linejoin:round; stroke-width:4; stroke-opacity:1; fill:none\" points=\"\n",
       "  920.014,262.317 919.959,271.965 919.798,281.813 919.54,291.849 919.193,302.056 918.763,312.42 918.259,322.925 917.69,333.558 917.061,344.302 916.382,355.143 \n",
       "  915.66,366.067 914.903,377.057 914.119,388.1 913.315,399.181 912.5,410.283 911.68,421.393 910.865,432.496 910.061,443.576 909.277,454.619 908.52,465.61 \n",
       "  907.798,476.533 907.119,487.375 906.491,498.119 905.921,508.751 905.417,519.257 904.988,529.621 904.64,539.828 904.382,549.863 904.221,559.712 904.166,569.359 \n",
       "  \n",
       "  \"/>\n",
       "<polyline clip-path=\"url(#clip862)\" style=\"stroke:#000000; stroke-linecap:butt; stroke-linejoin:round; stroke-width:4; stroke-opacity:1; fill:none\" points=\"\n",
       "  904.166,569.359 905.414,577.193 909.041,584.506 914.87,591.338 922.725,597.726 932.43,603.709 943.809,609.325 956.685,614.614 970.883,619.614 986.226,624.363 \n",
       "  1002.54,628.9 1019.64,633.264 1037.36,637.492 1055.53,641.624 1073.95,645.699 1092.47,649.754 1110.89,653.828 1129.06,657.96 1146.78,662.189 1163.88,666.553 \n",
       "  1180.19,671.09 1195.54,675.839 1209.74,680.838 1222.61,686.127 1233.99,691.744 1243.7,697.727 1251.55,704.115 1257.38,710.946 1261.01,718.259 1262.25,726.093 \n",
       "  \n",
       "  \"/>\n",
       "<polyline clip-path=\"url(#clip862)\" style=\"stroke:#000000; stroke-linecap:butt; stroke-linejoin:round; stroke-width:4; stroke-opacity:1; fill:none\" points=\"\n",
       "  1262.25,726.093 1262.1,738.024 1261.66,750.19 1260.95,762.575 1260,775.161 1258.82,787.931 1257.44,800.867 1255.87,813.952 1254.15,827.167 1252.28,840.497 \n",
       "  1250.3,853.923 1248.22,867.427 1246.07,880.992 1243.86,894.602 1241.62,908.237 1239.37,921.882 1237.13,935.517 1234.93,949.126 1232.77,962.692 1230.7,976.196 \n",
       "  1228.71,989.622 1226.85,1002.95 1225.12,1016.17 1223.56,1029.25 1222.18,1042.19 1221,1054.96 1220.04,1067.54 1219.33,1079.93 1218.89,1092.1 1218.74,1104.03 \n",
       "  \n",
       "  \"/>\n",
       "<polyline clip-path=\"url(#clip862)\" style=\"stroke:#000000; stroke-linecap:butt; stroke-linejoin:round; stroke-width:4; stroke-opacity:1; fill:none\" points=\"\n",
       "  1218.74,1104.03 1219.48,1113.65 1221.64,1122.95 1225.1,1131.92 1229.76,1140.62 1235.53,1149.05 1242.28,1157.24 1249.93,1165.23 1258.36,1173.02 1267.47,1180.65 \n",
       "  1277.16,1188.15 1287.31,1195.53 1297.84,1202.83 1308.62,1210.07 1319.56,1217.26 1330.56,1224.45 1341.5,1231.64 1352.29,1238.88 1362.81,1246.17 1372.97,1253.56 \n",
       "  1382.65,1261.05 1391.76,1268.69 1400.19,1276.48 1407.84,1284.47 1414.6,1292.66 1420.36,1301.09 1425.03,1309.78 1428.49,1318.76 1430.64,1328.05 1431.38,1337.68 \n",
       "  \n",
       "  \"/>\n",
       "<polyline clip-path=\"url(#clip862)\" style=\"stroke:#000000; stroke-linecap:butt; stroke-linejoin:round; stroke-width:4; stroke-opacity:1; fill:none\" points=\"\n",
       "  1218.74,1104.03 1217.84,1114.15 1215.22,1123.69 1211,1132.69 1205.33,1141.19 1198.31,1149.24 1190.08,1156.87 1180.78,1164.14 1170.51,1171.08 1159.42,1177.74 \n",
       "  1147.63,1184.16 1135.26,1190.39 1122.45,1196.46 1109.32,1202.43 1096,1208.33 1082.62,1214.21 1069.3,1220.11 1056.17,1226.07 1043.36,1232.15 1030.99,1238.37 \n",
       "  1019.2,1244.79 1008.11,1251.45 997.844,1258.39 988.535,1265.66 980.31,1273.29 973.294,1281.34 967.615,1289.84 963.402,1298.84 960.78,1308.38 959.878,1318.51 \n",
       "  \n",
       "  \"/>\n",
       "<polyline clip-path=\"url(#clip862)\" style=\"stroke:#000000; stroke-linecap:butt; stroke-linejoin:round; stroke-width:4; stroke-opacity:1; fill:none\" points=\"\n",
       "  1218.74,1104.03 1220.55,1115.25 1225.81,1125.73 1234.25,1135.52 1245.64,1144.67 1259.7,1153.24 1276.19,1161.29 1294.85,1168.87 1315.43,1176.03 1337.66,1182.84 \n",
       "  1361.3,1189.34 1386.09,1195.59 1411.77,1201.65 1438.09,1207.57 1464.8,1213.41 1491.63,1219.22 1518.33,1225.06 1544.65,1230.98 1570.33,1237.03 1595.12,1243.29 \n",
       "  1618.76,1249.79 1641,1256.59 1661.57,1263.76 1680.23,1271.33 1696.72,1279.38 1710.79,1287.96 1722.17,1297.11 1730.62,1306.9 1735.87,1317.37 1737.68,1328.6 \n",
       "  \n",
       "  \"/>\n",
       "<polyline clip-path=\"url(#clip862)\" style=\"stroke:#000000; stroke-linecap:butt; stroke-linejoin:round; stroke-width:4; stroke-opacity:1; fill:none\" points=\"\n",
       "  1218.74,1104.03 1216.8,1113.82 1211.17,1122.97 1202.11,1131.51 1189.9,1139.5 1174.82,1146.99 1157.14,1154.01 1137.13,1160.63 1115.07,1166.88 1091.23,1172.82 \n",
       "  1065.88,1178.5 1039.31,1183.95 1011.77,1189.24 983.546,1194.41 954.914,1199.51 926.145,1204.58 897.513,1209.67 869.291,1214.84 841.754,1220.13 815.175,1225.59 \n",
       "  789.828,1231.26 765.987,1237.2 743.925,1243.46 723.917,1250.07 706.235,1257.1 691.155,1264.58 678.949,1272.57 669.892,1281.11 664.256,1290.26 662.317,1300.06 \n",
       "  \n",
       "  \"/>\n",
       "<path clip-path=\"url(#clip862)\" d=\"\n",
       "M947.983 262.317 L933.998 238.095 L906.029 238.095 L892.045 262.317 L906.029 286.539 L933.998 286.539 L947.983 262.317 L947.983 262.317  Z\n",
       "  \" fill=\"#009af9\" fill-rule=\"evenodd\" fill-opacity=\"1\"/>\n",
       "<polyline clip-path=\"url(#clip862)\" style=\"stroke:#000000; stroke-linecap:butt; stroke-linejoin:round; stroke-width:4; stroke-opacity:1; fill:none\" points=\"\n",
       "  947.983,262.317 933.998,238.095 906.029,238.095 892.045,262.317 906.029,286.539 933.998,286.539 947.983,262.317 \n",
       "  \"/>\n",
       "<path clip-path=\"url(#clip862)\" d=\"\n",
       "M952.863 569.359 L928.515 527.187 L879.818 527.187 L855.469 569.359 L879.818 611.532 L928.515 611.532 L952.863 569.359 L952.863 569.359  Z\n",
       "  \" fill=\"#009af9\" fill-rule=\"evenodd\" fill-opacity=\"1\"/>\n",
       "<polyline clip-path=\"url(#clip862)\" style=\"stroke:#000000; stroke-linecap:butt; stroke-linejoin:round; stroke-width:4; stroke-opacity:1; fill:none\" points=\"\n",
       "  952.863,569.359 928.515,527.187 879.818,527.187 855.469,569.359 879.818,611.532 928.515,611.532 952.863,569.359 \n",
       "  \"/>\n",
       "<path clip-path=\"url(#clip862)\" d=\"\n",
       "M1297.46 726.093 L1279.86 695.603 L1244.65 695.603 L1227.05 726.093 L1244.65 756.583 L1279.86 756.583 L1297.46 726.093 L1297.46 726.093  Z\n",
       "  \" fill=\"#009af9\" fill-rule=\"evenodd\" fill-opacity=\"1\"/>\n",
       "<polyline clip-path=\"url(#clip862)\" style=\"stroke:#000000; stroke-linecap:butt; stroke-linejoin:round; stroke-width:4; stroke-opacity:1; fill:none\" points=\"\n",
       "  1297.46,726.093 1279.86,695.603 1244.65,695.603 1227.05,726.093 1244.65,756.583 1279.86,756.583 1297.46,726.093 \n",
       "  \"/>\n",
       "<path clip-path=\"url(#clip862)\" d=\"\n",
       "M1309.13 1104.03 L1263.94 1025.74 L1173.55 1025.74 L1128.35 1104.03 L1173.55 1182.31 L1263.94 1182.31 L1309.13 1104.03 L1309.13 1104.03  Z\n",
       "  \" fill=\"#009af9\" fill-rule=\"evenodd\" fill-opacity=\"1\"/>\n",
       "<polyline clip-path=\"url(#clip862)\" style=\"stroke:#000000; stroke-linecap:butt; stroke-linejoin:round; stroke-width:4; stroke-opacity:1; fill:none\" points=\"\n",
       "  1309.13,1104.03 1263.94,1025.74 1173.55,1025.74 1128.35,1104.03 1173.55,1182.31 1263.94,1182.31 1309.13,1104.03 \n",
       "  \"/>\n",
       "<path clip-path=\"url(#clip862)\" d=\"\n",
       "M1492.68 1337.68 L1462.03 1284.6 L1400.73 1284.6 L1370.08 1337.68 L1400.73 1390.77 L1462.03 1390.77 L1492.68 1337.68 L1492.68 1337.68  Z\n",
       "  \" fill=\"#009af9\" fill-rule=\"evenodd\" fill-opacity=\"1\"/>\n",
       "<polyline clip-path=\"url(#clip862)\" style=\"stroke:#000000; stroke-linecap:butt; stroke-linejoin:round; stroke-width:4; stroke-opacity:1; fill:none\" points=\"\n",
       "  1492.68,1337.68 1462.03,1284.6 1400.73,1284.6 1370.08,1337.68 1400.73,1390.77 1462.03,1390.77 1492.68,1337.68 \n",
       "  \"/>\n",
       "<path clip-path=\"url(#clip862)\" d=\"\n",
       "M1014.97 1318.51 L987.422 1270.8 L932.334 1270.8 L904.79 1318.51 L932.334 1366.21 L987.422 1366.21 L1014.97 1318.51 L1014.97 1318.51  Z\n",
       "  \" fill=\"#009af9\" fill-rule=\"evenodd\" fill-opacity=\"1\"/>\n",
       "<polyline clip-path=\"url(#clip862)\" style=\"stroke:#000000; stroke-linecap:butt; stroke-linejoin:round; stroke-width:4; stroke-opacity:1; fill:none\" points=\"\n",
       "  1014.97,1318.51 987.422,1270.8 932.334,1270.8 904.79,1318.51 932.334,1366.21 987.422,1366.21 1014.97,1318.51 \n",
       "  \"/>\n",
       "<path clip-path=\"url(#clip862)\" d=\"\n",
       "M1792.77 1328.6 L1765.23 1280.89 L1710.14 1280.89 L1682.59 1328.6 L1710.14 1376.31 L1765.23 1376.31 L1792.77 1328.6 L1792.77 1328.6  Z\n",
       "  \" fill=\"#009af9\" fill-rule=\"evenodd\" fill-opacity=\"1\"/>\n",
       "<polyline clip-path=\"url(#clip862)\" style=\"stroke:#000000; stroke-linecap:butt; stroke-linejoin:round; stroke-width:4; stroke-opacity:1; fill:none\" points=\"\n",
       "  1792.77,1328.6 1765.23,1280.89 1710.14,1280.89 1682.59,1328.6 1710.14,1376.31 1765.23,1376.31 1792.77,1328.6 \n",
       "  \"/>\n",
       "<path clip-path=\"url(#clip862)\" d=\"\n",
       "M717.405 1300.06 L689.861 1252.35 L634.773 1252.35 L607.229 1300.06 L634.773 1347.77 L689.861 1347.77 L717.405 1300.06 L717.405 1300.06  Z\n",
       "  \" fill=\"#009af9\" fill-rule=\"evenodd\" fill-opacity=\"1\"/>\n",
       "<polyline clip-path=\"url(#clip862)\" style=\"stroke:#000000; stroke-linecap:butt; stroke-linejoin:round; stroke-width:4; stroke-opacity:1; fill:none\" points=\"\n",
       "  717.405,1300.06 689.861,1252.35 634.773,1252.35 607.229,1300.06 634.773,1347.77 689.861,1347.77 717.405,1300.06 \n",
       "  \"/>\n",
       "<circle clip-path=\"url(#clip862)\" style=\"fill:#009af9; stroke:none; fill-opacity:1\" cx=\"920.014\" cy=\"262.317\" r=\"2\"/>\n",
       "<circle clip-path=\"url(#clip862)\" style=\"fill:#009af9; stroke:none; fill-opacity:1\" cx=\"904.166\" cy=\"569.359\" r=\"2\"/>\n",
       "<circle clip-path=\"url(#clip862)\" style=\"fill:#009af9; stroke:none; fill-opacity:1\" cx=\"1262.25\" cy=\"726.093\" r=\"2\"/>\n",
       "<circle clip-path=\"url(#clip862)\" style=\"fill:#009af9; stroke:none; fill-opacity:1\" cx=\"1218.74\" cy=\"1104.03\" r=\"2\"/>\n",
       "<circle clip-path=\"url(#clip862)\" style=\"fill:#009af9; stroke:none; fill-opacity:1\" cx=\"1431.38\" cy=\"1337.68\" r=\"2\"/>\n",
       "<circle clip-path=\"url(#clip862)\" style=\"fill:#009af9; stroke:none; fill-opacity:1\" cx=\"959.878\" cy=\"1318.51\" r=\"2\"/>\n",
       "<circle clip-path=\"url(#clip862)\" style=\"fill:#009af9; stroke:none; fill-opacity:1\" cx=\"1737.68\" cy=\"1328.6\" r=\"2\"/>\n",
       "<circle clip-path=\"url(#clip862)\" style=\"fill:#009af9; stroke:none; fill-opacity:1\" cx=\"662.317\" cy=\"1300.06\" r=\"2\"/>\n",
       "<path clip-path=\"url(#clip860)\" d=\"M905.743 255.98 L902.572 264.58 L908.926 264.58 L905.743 255.98 M904.424 253.677 L907.074 253.677 L913.66 270.957 L911.229 270.957 L909.655 266.524 L901.866 266.524 L900.292 270.957 L897.826 270.957 L904.424 253.677 Z\" fill=\"#000000\" fill-rule=\"evenodd\" fill-opacity=\"1\" /><path clip-path=\"url(#clip860)\" d=\"M926.866 263.133 L926.866 270.957 L924.736 270.957 L924.736 263.203 Q924.736 261.362 924.018 260.448 Q923.301 259.534 921.866 259.534 Q920.141 259.534 919.146 260.633 Q918.15 261.733 918.15 263.631 L918.15 270.957 L916.009 270.957 L916.009 257.994 L918.15 257.994 L918.15 260.008 Q918.914 258.839 919.944 258.261 Q920.986 257.682 922.34 257.682 Q924.574 257.682 925.72 259.071 Q926.866 260.448 926.866 263.133 Z\" fill=\"#000000\" fill-rule=\"evenodd\" fill-opacity=\"1\" /><path clip-path=\"url(#clip860)\" d=\"M936.507 272.161 Q935.604 274.476 934.748 275.182 Q933.891 275.888 932.456 275.888 L930.755 275.888 L930.755 274.105 L932.005 274.105 Q932.884 274.105 933.37 273.689 Q933.856 273.272 934.447 271.721 L934.829 270.749 L929.586 257.994 L931.843 257.994 L935.893 268.133 L939.944 257.994 L942.201 257.994 L936.507 272.161 Z\" fill=\"#000000\" fill-rule=\"evenodd\" fill-opacity=\"1\" /><path clip-path=\"url(#clip860)\" d=\"M857.72 560.719 L860.868 560.719 L868.53 575.175 L868.53 560.719 L870.798 560.719 L870.798 577.999 L867.65 577.999 L859.988 563.543 L859.988 577.999 L857.72 577.999 L857.72 560.719 Z\" fill=\"#000000\" fill-rule=\"evenodd\" fill-opacity=\"1\" /><path clip-path=\"url(#clip860)\" d=\"M875.139 572.884 L875.139 565.036 L877.268 565.036 L877.268 572.803 Q877.268 574.643 877.986 575.569 Q878.703 576.483 880.139 576.483 Q881.863 576.483 882.859 575.384 Q883.865 574.284 883.865 572.386 L883.865 565.036 L885.995 565.036 L885.995 577.999 L883.865 577.999 L883.865 576.009 Q883.09 577.189 882.06 577.768 Q881.041 578.335 879.687 578.335 Q877.453 578.335 876.296 576.946 Q875.139 575.557 875.139 572.884 M880.497 564.724 L880.497 564.724 Z\" fill=\"#000000\" fill-rule=\"evenodd\" fill-opacity=\"1\" /><path clip-path=\"url(#clip860)\" d=\"M900.474 567.525 Q901.273 566.09 902.384 565.407 Q903.495 564.724 905 564.724 Q907.025 564.724 908.125 566.148 Q909.224 567.56 909.224 570.175 L909.224 577.999 L907.083 577.999 L907.083 570.245 Q907.083 568.381 906.423 567.479 Q905.763 566.576 904.409 566.576 Q902.754 566.576 901.794 567.675 Q900.833 568.775 900.833 570.673 L900.833 577.999 L898.692 577.999 L898.692 570.245 Q898.692 568.37 898.032 567.479 Q897.372 566.576 895.995 566.576 Q894.363 566.576 893.402 567.687 Q892.442 568.786 892.442 570.673 L892.442 577.999 L890.301 577.999 L890.301 565.036 L892.442 565.036 L892.442 567.05 Q893.171 565.858 894.189 565.291 Q895.208 564.724 896.608 564.724 Q898.02 564.724 899.004 565.442 Q900 566.159 900.474 567.525 Z\" fill=\"#000000\" fill-rule=\"evenodd\" fill-opacity=\"1\" /><path clip-path=\"url(#clip860)\" d=\"M922.777 571.529 Q922.777 569.18 921.805 567.849 Q920.844 566.506 919.155 566.506 Q917.465 566.506 916.493 567.849 Q915.532 569.18 915.532 571.529 Q915.532 573.879 916.493 575.222 Q917.465 576.553 919.155 576.553 Q920.844 576.553 921.805 575.222 Q922.777 573.879 922.777 571.529 M915.532 567.004 Q916.203 565.847 917.222 565.291 Q918.252 564.724 919.675 564.724 Q922.037 564.724 923.506 566.599 Q924.988 568.474 924.988 571.529 Q924.988 574.585 923.506 576.46 Q922.037 578.335 919.675 578.335 Q918.252 578.335 917.222 577.779 Q916.203 577.212 915.532 576.055 L915.532 577.999 L913.391 577.999 L913.391 559.99 L915.532 559.99 L915.532 567.004 Z\" fill=\"#000000\" fill-rule=\"evenodd\" fill-opacity=\"1\" /><path clip-path=\"url(#clip860)\" d=\"M939.606 570.986 L939.606 572.027 L929.814 572.027 Q929.953 574.226 931.134 575.384 Q932.326 576.529 934.444 576.529 Q935.671 576.529 936.817 576.229 Q937.974 575.928 939.108 575.326 L939.108 577.34 Q937.962 577.826 936.759 578.08 Q935.555 578.335 934.317 578.335 Q931.215 578.335 929.398 576.529 Q927.592 574.724 927.592 571.645 Q927.592 568.462 929.305 566.599 Q931.03 564.724 933.946 564.724 Q936.562 564.724 938.078 566.414 Q939.606 568.092 939.606 570.986 M937.476 570.361 Q937.453 568.613 936.492 567.571 Q935.543 566.53 933.969 566.53 Q932.187 566.53 931.111 567.536 Q930.046 568.543 929.884 570.372 L937.476 570.361 Z\" fill=\"#000000\" fill-rule=\"evenodd\" fill-opacity=\"1\" /><path clip-path=\"url(#clip860)\" d=\"M950.613 567.027 Q950.254 566.819 949.826 566.726 Q949.409 566.622 948.9 566.622 Q947.094 566.622 946.122 567.803 Q945.161 568.972 945.161 571.171 L945.161 577.999 L943.02 577.999 L943.02 565.036 L945.161 565.036 L945.161 567.05 Q945.833 565.87 946.909 565.303 Q947.985 564.724 949.525 564.724 Q949.745 564.724 950.011 564.759 Q950.277 564.782 950.601 564.84 L950.613 567.027 Z\" fill=\"#000000\" fill-rule=\"evenodd\" fill-opacity=\"1\" /><path clip-path=\"url(#clip860)\" d=\"M1247.17 726.631 Q1247.93 726.886 1248.63 727.719 Q1249.35 728.553 1250.07 730.011 L1252.44 734.733 L1249.93 734.733 L1247.72 730.3 Q1246.86 728.564 1246.05 727.997 Q1245.25 727.43 1243.86 727.43 L1241.32 727.43 L1241.32 734.733 L1238.98 734.733 L1238.98 717.453 L1244.26 717.453 Q1247.22 717.453 1248.68 718.692 Q1250.14 719.93 1250.14 722.43 Q1250.14 724.062 1249.37 725.138 Q1248.62 726.215 1247.17 726.631 M1241.32 719.375 L1241.32 725.509 L1244.26 725.509 Q1245.95 725.509 1246.8 724.733 Q1247.67 723.946 1247.67 722.43 Q1247.67 720.914 1246.8 720.15 Q1245.95 719.375 1244.26 719.375 L1241.32 719.375 Z\" fill=\"#000000\" fill-rule=\"evenodd\" fill-opacity=\"1\" /><path clip-path=\"url(#clip860)\" d=\"M1265.38 727.719 L1265.38 728.761 L1255.59 728.761 Q1255.73 730.96 1256.91 732.118 Q1258.1 733.263 1260.22 733.263 Q1261.44 733.263 1262.59 732.962 Q1263.75 732.662 1264.88 732.06 L1264.88 734.074 Q1263.74 734.56 1262.53 734.814 Q1261.33 735.069 1260.09 735.069 Q1256.99 735.069 1255.17 733.263 Q1253.37 731.458 1253.37 728.379 Q1253.37 725.196 1255.08 723.333 Q1256.8 721.458 1259.72 721.458 Q1262.34 721.458 1263.85 723.148 Q1265.38 724.826 1265.38 727.719 M1263.25 727.094 Q1263.23 725.347 1262.27 724.305 Q1261.32 723.263 1259.74 723.263 Q1257.96 723.263 1256.88 724.27 Q1255.82 725.277 1255.66 727.106 L1263.25 727.094 Z\" fill=\"#000000\" fill-rule=\"evenodd\" fill-opacity=\"1\" /><path clip-path=\"url(#clip860)\" d=\"M1274.77 728.217 Q1272.18 728.217 1271.19 728.807 Q1270.19 729.398 1270.19 730.821 Q1270.19 731.956 1270.93 732.627 Q1271.69 733.287 1272.97 733.287 Q1274.74 733.287 1275.81 732.037 Q1276.88 730.775 1276.88 728.692 L1276.88 728.217 L1274.77 728.217 M1279.01 727.338 L1279.01 734.733 L1276.88 734.733 L1276.88 732.766 Q1276.15 733.946 1275.07 734.513 Q1273.98 735.069 1272.4 735.069 Q1270.41 735.069 1269.23 733.958 Q1268.06 732.835 1268.06 730.96 Q1268.06 728.773 1269.52 727.662 Q1270.99 726.55 1273.9 726.55 L1276.88 726.55 L1276.88 726.342 Q1276.88 724.872 1275.91 724.074 Q1274.95 723.263 1273.2 723.263 Q1272.09 723.263 1271.04 723.53 Q1269.99 723.796 1269.01 724.328 L1269.01 722.361 Q1270.18 721.909 1271.28 721.689 Q1272.38 721.458 1273.42 721.458 Q1276.24 721.458 1277.62 722.916 Q1279.01 724.375 1279.01 727.338 Z\" fill=\"#000000\" fill-rule=\"evenodd\" fill-opacity=\"1\" /><path clip-path=\"url(#clip860)\" d=\"M1283.4 716.724 L1285.53 716.724 L1285.53 734.733 L1283.4 734.733 L1283.4 716.724 Z\" fill=\"#000000\" fill-rule=\"evenodd\" fill-opacity=\"1\" /><path clip-path=\"url(#clip860)\" d=\"M1148.01 1097.69 L1144.84 1106.29 L1151.2 1106.29 L1148.01 1097.69 M1146.69 1095.39 L1149.34 1095.39 L1155.93 1112.67 L1153.5 1112.67 L1151.92 1108.23 L1144.14 1108.23 L1142.56 1112.67 L1140.1 1112.67 L1146.69 1095.39 Z\" fill=\"#000000\" fill-rule=\"evenodd\" fill-opacity=\"1\" /><path clip-path=\"url(#clip860)\" d=\"M1167.67 1106.2 Q1167.67 1103.85 1166.69 1102.52 Q1165.73 1101.17 1164.04 1101.17 Q1162.35 1101.17 1161.38 1102.52 Q1160.42 1103.85 1160.42 1106.2 Q1160.42 1108.55 1161.38 1109.89 Q1162.35 1111.22 1164.04 1111.22 Q1165.73 1111.22 1166.69 1109.89 Q1167.67 1108.55 1167.67 1106.2 M1160.42 1101.67 Q1161.09 1100.51 1162.11 1099.96 Q1163.14 1099.39 1164.56 1099.39 Q1166.92 1099.39 1168.39 1101.27 Q1169.88 1103.14 1169.88 1106.2 Q1169.88 1109.25 1168.39 1111.13 Q1166.92 1113 1164.56 1113 Q1163.14 1113 1162.11 1112.45 Q1161.09 1111.88 1160.42 1110.72 L1160.42 1112.67 L1158.28 1112.67 L1158.28 1094.66 L1160.42 1094.66 L1160.42 1101.67 Z\" fill=\"#000000\" fill-rule=\"evenodd\" fill-opacity=\"1\" /><path clip-path=\"url(#clip860)\" d=\"M1181.67 1100.08 L1181.67 1102.1 Q1180.77 1101.64 1179.8 1101.4 Q1178.82 1101.17 1177.78 1101.17 Q1176.2 1101.17 1175.4 1101.66 Q1174.61 1102.14 1174.61 1103.12 Q1174.61 1103.86 1175.18 1104.29 Q1175.74 1104.7 1177.46 1105.08 L1178.19 1105.25 Q1180.45 1105.73 1181.4 1106.62 Q1182.36 1107.5 1182.36 1109.09 Q1182.36 1110.89 1180.93 1111.95 Q1179.51 1113 1177.01 1113 Q1175.96 1113 1174.83 1112.79 Q1173.71 1112.6 1172.46 1112.19 L1172.46 1109.99 Q1173.64 1110.61 1174.78 1110.92 Q1175.93 1111.22 1177.05 1111.22 Q1178.56 1111.22 1179.37 1110.71 Q1180.18 1110.19 1180.18 1109.25 Q1180.18 1108.38 1179.59 1107.92 Q1179.01 1107.46 1177.03 1107.03 L1176.29 1106.86 Q1174.31 1106.44 1173.43 1105.58 Q1172.55 1104.71 1172.55 1103.21 Q1172.55 1101.38 1173.85 1100.39 Q1175.14 1099.39 1177.53 1099.39 Q1178.71 1099.39 1179.75 1099.56 Q1180.79 1099.74 1181.67 1100.08 Z\" fill=\"#000000\" fill-rule=\"evenodd\" fill-opacity=\"1\" /><path clip-path=\"url(#clip860)\" d=\"M1187.86 1096.02 L1187.86 1099.7 L1192.25 1099.7 L1192.25 1101.36 L1187.86 1101.36 L1187.86 1108.39 Q1187.86 1109.98 1188.29 1110.43 Q1188.73 1110.88 1190.06 1110.88 L1192.25 1110.88 L1192.25 1112.67 L1190.06 1112.67 Q1187.6 1112.67 1186.66 1111.75 Q1185.72 1110.83 1185.72 1108.39 L1185.72 1101.36 L1184.16 1101.36 L1184.16 1099.7 L1185.72 1099.7 L1185.72 1096.02 L1187.86 1096.02 Z\" fill=\"#000000\" fill-rule=\"evenodd\" fill-opacity=\"1\" /><path clip-path=\"url(#clip860)\" d=\"M1202.56 1101.69 Q1202.2 1101.49 1201.77 1101.39 Q1201.36 1101.29 1200.85 1101.29 Q1199.04 1101.29 1198.07 1102.47 Q1197.11 1103.64 1197.11 1105.84 L1197.11 1112.67 L1194.97 1112.67 L1194.97 1099.7 L1197.11 1099.7 L1197.11 1101.72 Q1197.78 1100.54 1198.86 1099.97 Q1199.93 1099.39 1201.47 1099.39 Q1201.69 1099.39 1201.96 1099.42 Q1202.23 1099.45 1202.55 1099.51 L1202.56 1101.69 Z\" fill=\"#000000\" fill-rule=\"evenodd\" fill-opacity=\"1\" /><path clip-path=\"url(#clip860)\" d=\"M1210.69 1106.15 Q1208.11 1106.15 1207.11 1106.74 Q1206.11 1107.33 1206.11 1108.75 Q1206.11 1109.89 1206.86 1110.56 Q1207.61 1111.22 1208.89 1111.22 Q1210.66 1111.22 1211.73 1109.97 Q1212.8 1108.71 1212.8 1106.62 L1212.8 1106.15 L1210.69 1106.15 M1214.93 1105.27 L1214.93 1112.67 L1212.8 1112.67 L1212.8 1110.7 Q1212.07 1111.88 1210.99 1112.45 Q1209.9 1113 1208.32 1113 Q1206.33 1113 1205.15 1111.89 Q1203.98 1110.77 1203.98 1108.89 Q1203.98 1106.7 1205.44 1105.59 Q1206.91 1104.48 1209.82 1104.48 L1212.8 1104.48 L1212.8 1104.27 Q1212.8 1102.8 1211.83 1102.01 Q1210.87 1101.2 1209.12 1101.2 Q1208.01 1101.2 1206.96 1101.46 Q1205.91 1101.73 1204.93 1102.26 L1204.93 1100.29 Q1206.1 1099.84 1207.2 1099.62 Q1208.3 1099.39 1209.34 1099.39 Q1212.16 1099.39 1213.54 1100.85 Q1214.93 1102.31 1214.93 1105.27 Z\" fill=\"#000000\" fill-rule=\"evenodd\" fill-opacity=\"1\" /><path clip-path=\"url(#clip860)\" d=\"M1228.65 1100.2 L1228.65 1102.19 Q1227.75 1101.69 1226.83 1101.45 Q1225.93 1101.2 1225 1101.2 Q1222.93 1101.2 1221.79 1102.52 Q1220.64 1103.82 1220.64 1106.2 Q1220.64 1108.57 1221.79 1109.89 Q1222.93 1111.2 1225 1111.2 Q1225.93 1111.2 1226.83 1110.95 Q1227.75 1110.7 1228.65 1110.2 L1228.65 1112.17 Q1227.76 1112.58 1226.8 1112.79 Q1225.85 1113 1224.77 1113 Q1221.84 1113 1220.12 1111.16 Q1218.39 1109.32 1218.39 1106.2 Q1218.39 1103.02 1220.13 1101.21 Q1221.88 1099.39 1224.91 1099.39 Q1225.89 1099.39 1226.83 1099.6 Q1227.77 1099.8 1228.65 1100.2 Z\" fill=\"#000000\" fill-rule=\"evenodd\" fill-opacity=\"1\" /><path clip-path=\"url(#clip860)\" d=\"M1234.46 1096.02 L1234.46 1099.7 L1238.85 1099.7 L1238.85 1101.36 L1234.46 1101.36 L1234.46 1108.39 Q1234.46 1109.98 1234.89 1110.43 Q1235.33 1110.88 1236.66 1110.88 L1238.85 1110.88 L1238.85 1112.67 L1236.66 1112.67 Q1234.19 1112.67 1233.26 1111.75 Q1232.32 1110.83 1232.32 1108.39 L1232.32 1101.36 L1230.76 1101.36 L1230.76 1099.7 L1232.32 1099.7 L1232.32 1096.02 L1234.46 1096.02 Z\" fill=\"#000000\" fill-rule=\"evenodd\" fill-opacity=\"1\" /><path clip-path=\"url(#clip860)\" d=\"M1241.74 1095.39 L1251.67 1095.39 L1251.67 1097.35 L1244.08 1097.35 L1244.08 1102.45 L1250.93 1102.45 L1250.93 1104.41 L1244.08 1104.41 L1244.08 1112.67 L1241.74 1112.67 L1241.74 1095.39 Z\" fill=\"#000000\" fill-rule=\"evenodd\" fill-opacity=\"1\" /><path clip-path=\"url(#clip860)\" d=\"M1255.28 1094.66 L1257.41 1094.66 L1257.41 1112.67 L1255.28 1112.67 L1255.28 1094.66 Z\" fill=\"#000000\" fill-rule=\"evenodd\" fill-opacity=\"1\" /><path clip-path=\"url(#clip860)\" d=\"M1266.89 1101.2 Q1265.18 1101.2 1264.18 1102.54 Q1263.19 1103.87 1263.19 1106.2 Q1263.19 1108.52 1264.17 1109.86 Q1265.16 1111.2 1266.89 1111.2 Q1268.59 1111.2 1269.59 1109.85 Q1270.58 1108.51 1270.58 1106.2 Q1270.58 1103.89 1269.59 1102.55 Q1268.59 1101.2 1266.89 1101.2 M1266.89 1099.39 Q1269.67 1099.39 1271.25 1101.2 Q1272.84 1103 1272.84 1106.2 Q1272.84 1109.38 1271.25 1111.2 Q1269.67 1113 1266.89 1113 Q1264.1 1113 1262.51 1111.2 Q1260.94 1109.38 1260.94 1106.2 Q1260.94 1103 1262.51 1101.2 Q1264.1 1099.39 1266.89 1099.39 Z\" fill=\"#000000\" fill-rule=\"evenodd\" fill-opacity=\"1\" /><path clip-path=\"url(#clip860)\" d=\"M1282.26 1106.15 Q1279.68 1106.15 1278.68 1106.74 Q1277.69 1107.33 1277.69 1108.75 Q1277.69 1109.89 1278.43 1110.56 Q1279.18 1111.22 1280.47 1111.22 Q1282.24 1111.22 1283.3 1109.97 Q1284.38 1108.71 1284.38 1106.62 L1284.38 1106.15 L1282.26 1106.15 M1286.51 1105.27 L1286.51 1112.67 L1284.38 1112.67 L1284.38 1110.7 Q1283.65 1111.88 1282.56 1112.45 Q1281.47 1113 1279.9 1113 Q1277.91 1113 1276.73 1111.89 Q1275.56 1110.77 1275.56 1108.89 Q1275.56 1106.7 1277.02 1105.59 Q1278.49 1104.48 1281.39 1104.48 L1284.38 1104.48 L1284.38 1104.27 Q1284.38 1102.8 1283.41 1102.01 Q1282.44 1101.2 1280.7 1101.2 Q1279.59 1101.2 1278.53 1101.46 Q1277.48 1101.73 1276.51 1102.26 L1276.51 1100.29 Q1277.68 1099.84 1278.78 1099.62 Q1279.88 1099.39 1280.92 1099.39 Q1283.73 1099.39 1285.12 1100.85 Q1286.51 1102.31 1286.51 1105.27 Z\" fill=\"#000000\" fill-rule=\"evenodd\" fill-opacity=\"1\" /><path clip-path=\"url(#clip860)\" d=\"M1293 1096.02 L1293 1099.7 L1297.39 1099.7 L1297.39 1101.36 L1293 1101.36 L1293 1108.39 Q1293 1109.98 1293.43 1110.43 Q1293.87 1110.88 1295.2 1110.88 L1297.39 1110.88 L1297.39 1112.67 L1295.2 1112.67 Q1292.73 1112.67 1291.8 1111.75 Q1290.86 1110.83 1290.86 1108.39 L1290.86 1101.36 L1289.3 1101.36 L1289.3 1099.7 L1290.86 1099.7 L1290.86 1096.02 L1293 1096.02 Z\" fill=\"#000000\" fill-rule=\"evenodd\" fill-opacity=\"1\" /><path clip-path=\"url(#clip860)\" d=\"M1386.95 1338.07 L1386.95 1344.4 L1390.7 1344.4 Q1392.59 1344.4 1393.49 1343.63 Q1394.4 1342.84 1394.4 1341.23 Q1394.4 1339.61 1393.49 1338.85 Q1392.59 1338.07 1390.7 1338.07 L1386.95 1338.07 M1386.95 1330.96 L1386.95 1336.17 L1390.41 1336.17 Q1392.12 1336.17 1392.96 1335.54 Q1393.8 1334.89 1393.8 1333.57 Q1393.8 1332.26 1392.96 1331.61 Q1392.12 1330.96 1390.41 1330.96 L1386.95 1330.96 M1384.61 1329.04 L1390.58 1329.04 Q1393.26 1329.04 1394.7 1330.15 Q1396.15 1331.26 1396.15 1333.31 Q1396.15 1334.9 1395.41 1335.84 Q1394.67 1336.77 1393.23 1337.01 Q1394.96 1337.38 1395.91 1338.56 Q1396.87 1339.73 1396.87 1341.48 Q1396.87 1343.8 1395.29 1345.06 Q1393.72 1346.32 1390.81 1346.32 L1384.61 1346.32 L1384.61 1329.04 Z\" fill=\"#000000\" fill-rule=\"evenodd\" fill-opacity=\"1\" /><path clip-path=\"url(#clip860)\" d=\"M1400.78 1333.36 L1402.91 1333.36 L1402.91 1346.32 L1400.78 1346.32 L1400.78 1333.36 M1400.78 1328.31 L1402.91 1328.31 L1402.91 1331.01 L1400.78 1331.01 L1400.78 1328.31 Z\" fill=\"#000000\" fill-rule=\"evenodd\" fill-opacity=\"1\" /><path clip-path=\"url(#clip860)\" d=\"M1415.9 1339.69 Q1415.9 1337.38 1414.93 1336.1 Q1413.99 1334.83 1412.26 1334.83 Q1410.55 1334.83 1409.59 1336.1 Q1408.64 1337.38 1408.64 1339.69 Q1408.64 1341.99 1409.59 1343.27 Q1410.55 1344.54 1412.26 1344.54 Q1413.99 1344.54 1414.93 1343.27 Q1415.9 1341.99 1415.9 1339.69 M1418.03 1344.71 Q1418.03 1348.02 1416.56 1349.63 Q1415.09 1351.25 1412.05 1351.25 Q1410.93 1351.25 1409.93 1351.08 Q1408.94 1350.92 1408 1350.57 L1408 1348.5 Q1408.94 1349.01 1409.85 1349.25 Q1410.77 1349.49 1411.72 1349.49 Q1413.81 1349.49 1414.85 1348.39 Q1415.9 1347.31 1415.9 1345.1 L1415.9 1344.04 Q1415.24 1345.19 1414.21 1345.76 Q1413.18 1346.32 1411.74 1346.32 Q1409.36 1346.32 1407.9 1344.51 Q1406.44 1342.69 1406.44 1339.69 Q1406.44 1336.68 1407.9 1334.86 Q1409.36 1333.05 1411.74 1333.05 Q1413.18 1333.05 1414.21 1333.61 Q1415.24 1334.18 1415.9 1335.33 L1415.9 1333.36 L1418.03 1333.36 L1418.03 1344.71 Z\" fill=\"#000000\" fill-rule=\"evenodd\" fill-opacity=\"1\" /><path clip-path=\"url(#clip860)\" d=\"M1422.5 1329.04 L1432.43 1329.04 L1432.43 1331.01 L1424.84 1331.01 L1424.84 1336.1 L1431.69 1336.1 L1431.69 1338.07 L1424.84 1338.07 L1424.84 1346.32 L1422.5 1346.32 L1422.5 1329.04 Z\" fill=\"#000000\" fill-rule=\"evenodd\" fill-opacity=\"1\" /><path clip-path=\"url(#clip860)\" d=\"M1436.05 1328.31 L1438.18 1328.31 L1438.18 1346.32 L1436.05 1346.32 L1436.05 1328.31 Z\" fill=\"#000000\" fill-rule=\"evenodd\" fill-opacity=\"1\" /><path clip-path=\"url(#clip860)\" d=\"M1447.65 1334.85 Q1445.94 1334.85 1444.95 1336.2 Q1443.95 1337.53 1443.95 1339.85 Q1443.95 1342.18 1444.93 1343.52 Q1445.93 1344.85 1447.65 1344.85 Q1449.36 1344.85 1450.35 1343.51 Q1451.35 1342.17 1451.35 1339.85 Q1451.35 1337.55 1450.35 1336.21 Q1449.36 1334.85 1447.65 1334.85 M1447.65 1333.05 Q1450.43 1333.05 1452.02 1334.85 Q1453.6 1336.66 1453.6 1339.85 Q1453.6 1343.04 1452.02 1344.85 Q1450.43 1346.66 1447.65 1346.66 Q1444.87 1346.66 1443.28 1344.85 Q1441.71 1343.04 1441.71 1339.85 Q1441.71 1336.66 1443.28 1334.85 Q1444.87 1333.05 1447.65 1333.05 Z\" fill=\"#000000\" fill-rule=\"evenodd\" fill-opacity=\"1\" /><path clip-path=\"url(#clip860)\" d=\"M1463.02 1339.81 Q1460.44 1339.81 1459.45 1340.4 Q1458.45 1340.99 1458.45 1342.41 Q1458.45 1343.55 1459.19 1344.22 Q1459.95 1344.88 1461.23 1344.88 Q1463 1344.88 1464.07 1343.63 Q1465.14 1342.36 1465.14 1340.28 L1465.14 1339.81 L1463.02 1339.81 M1467.27 1338.93 L1467.27 1346.32 L1465.14 1346.32 L1465.14 1344.36 Q1464.41 1345.54 1463.33 1346.1 Q1462.24 1346.66 1460.66 1346.66 Q1458.67 1346.66 1457.49 1345.55 Q1456.32 1344.42 1456.32 1342.55 Q1456.32 1340.36 1457.78 1339.25 Q1459.25 1338.14 1462.16 1338.14 L1465.14 1338.14 L1465.14 1337.93 Q1465.14 1336.46 1464.17 1335.66 Q1463.21 1334.85 1461.46 1334.85 Q1460.35 1334.85 1459.3 1335.12 Q1458.24 1335.39 1457.27 1335.92 L1457.27 1333.95 Q1458.44 1333.5 1459.54 1333.28 Q1460.64 1333.05 1461.68 1333.05 Q1464.49 1333.05 1465.88 1334.51 Q1467.27 1335.96 1467.27 1338.93 Z\" fill=\"#000000\" fill-rule=\"evenodd\" fill-opacity=\"1\" /><path clip-path=\"url(#clip860)\" d=\"M1473.77 1329.68 L1473.77 1333.36 L1478.15 1333.36 L1478.15 1335.01 L1473.77 1335.01 L1473.77 1342.05 Q1473.77 1343.64 1474.19 1344.09 Q1474.63 1344.54 1475.96 1344.54 L1478.15 1344.54 L1478.15 1346.32 L1475.96 1346.32 Q1473.5 1346.32 1472.56 1345.41 Q1471.62 1344.48 1471.62 1342.05 L1471.62 1335.01 L1470.06 1335.01 L1470.06 1333.36 L1471.62 1333.36 L1471.62 1329.68 L1473.77 1329.68 Z\" fill=\"#000000\" fill-rule=\"evenodd\" fill-opacity=\"1\" /><path clip-path=\"url(#clip860)\" d=\"M917.436 1309.87 L927.366 1309.87 L927.366 1311.83 L919.774 1311.83 L919.774 1316.93 L926.626 1316.93 L926.626 1318.89 L919.774 1318.89 L919.774 1327.15 L917.436 1327.15 L917.436 1309.87 Z\" fill=\"#000000\" fill-rule=\"evenodd\" fill-opacity=\"1\" /><path clip-path=\"url(#clip860)\" d=\"M930.977 1309.14 L933.107 1309.14 L933.107 1327.15 L930.977 1327.15 L930.977 1309.14 Z\" fill=\"#000000\" fill-rule=\"evenodd\" fill-opacity=\"1\" /><path clip-path=\"url(#clip860)\" d=\"M942.586 1315.68 Q940.873 1315.68 939.878 1317.02 Q938.882 1318.35 938.882 1320.68 Q938.882 1323 939.866 1324.35 Q940.862 1325.68 942.586 1325.68 Q944.287 1325.68 945.283 1324.33 Q946.278 1322.99 946.278 1320.68 Q946.278 1318.37 945.283 1317.03 Q944.287 1315.68 942.586 1315.68 M942.586 1313.87 Q945.364 1313.87 946.95 1315.68 Q948.535 1317.48 948.535 1320.68 Q948.535 1323.86 946.95 1325.68 Q945.364 1327.48 942.586 1327.48 Q939.797 1327.48 938.211 1325.68 Q936.637 1323.86 936.637 1320.68 Q936.637 1317.48 938.211 1315.68 Q939.797 1313.87 942.586 1313.87 Z\" fill=\"#000000\" fill-rule=\"evenodd\" fill-opacity=\"1\" /><path clip-path=\"url(#clip860)\" d=\"M957.956 1320.63 Q955.375 1320.63 954.38 1321.22 Q953.385 1321.81 953.385 1323.23 Q953.385 1324.37 954.125 1325.04 Q954.878 1325.7 956.162 1325.7 Q957.933 1325.7 958.998 1324.45 Q960.074 1323.19 960.074 1321.1 L960.074 1320.63 L957.956 1320.63 M962.204 1319.75 L962.204 1327.15 L960.074 1327.15 L960.074 1325.18 Q959.345 1326.36 958.257 1326.93 Q957.169 1327.48 955.595 1327.48 Q953.605 1327.48 952.424 1326.37 Q951.255 1325.25 951.255 1323.37 Q951.255 1321.19 952.713 1320.07 Q954.183 1318.96 957.088 1318.96 L960.074 1318.96 L960.074 1318.76 Q960.074 1317.29 959.102 1316.49 Q958.142 1315.68 956.394 1315.68 Q955.283 1315.68 954.23 1315.94 Q953.176 1316.21 952.204 1316.74 L952.204 1314.77 Q953.373 1314.32 954.473 1314.1 Q955.572 1313.87 956.614 1313.87 Q959.426 1313.87 960.815 1315.33 Q962.204 1316.79 962.204 1319.75 Z\" fill=\"#000000\" fill-rule=\"evenodd\" fill-opacity=\"1\" /><path clip-path=\"url(#clip860)\" d=\"M968.697 1310.5 L968.697 1314.18 L973.084 1314.18 L973.084 1315.84 L968.697 1315.84 L968.697 1322.88 Q968.697 1324.46 969.125 1324.91 Q969.565 1325.36 970.896 1325.36 L973.084 1325.36 L973.084 1327.15 L970.896 1327.15 Q968.431 1327.15 967.493 1326.23 Q966.556 1325.31 966.556 1322.88 L966.556 1315.84 L964.993 1315.84 L964.993 1314.18 L966.556 1314.18 L966.556 1310.5 L968.697 1310.5 Z\" fill=\"#000000\" fill-rule=\"evenodd\" fill-opacity=\"1\" /><path clip-path=\"url(#clip860)\" d=\"M976.591 1325.18 L980.41 1325.18 L980.41 1312 L976.255 1312.83 L976.255 1310.7 L980.387 1309.87 L982.725 1309.87 L982.725 1325.18 L986.544 1325.18 L986.544 1327.15 L976.591 1327.15 L976.591 1325.18 Z\" fill=\"#000000\" fill-rule=\"evenodd\" fill-opacity=\"1\" /><path clip-path=\"url(#clip860)\" d=\"M996.556 1317.57 Q994.982 1317.57 994.056 1318.65 Q993.141 1319.73 993.141 1321.6 Q993.141 1323.47 994.056 1324.55 Q994.982 1325.63 996.556 1325.63 Q998.13 1325.63 999.044 1324.55 Q999.97 1323.47 999.97 1321.6 Q999.97 1319.73 999.044 1318.65 Q998.13 1317.57 996.556 1317.57 M1001.2 1310.25 L1001.2 1312.38 Q1000.32 1311.96 999.415 1311.74 Q998.523 1311.52 997.644 1311.52 Q995.329 1311.52 994.102 1313.08 Q992.887 1314.65 992.713 1317.81 Q993.396 1316.8 994.426 1316.27 Q995.456 1315.72 996.695 1315.72 Q999.299 1315.72 1000.8 1317.31 Q1002.32 1318.88 1002.32 1321.6 Q1002.32 1324.26 1000.75 1325.87 Q999.171 1327.48 996.556 1327.48 Q993.558 1327.48 991.972 1325.19 Q990.387 1322.89 990.387 1318.52 Q990.387 1314.43 992.331 1312 Q994.276 1309.55 997.551 1309.55 Q998.431 1309.55 999.322 1309.73 Q1000.22 1309.9 1001.2 1310.25 Z\" fill=\"#000000\" fill-rule=\"evenodd\" fill-opacity=\"1\" /><path clip-path=\"url(#clip860)\" d=\"M1695.68 1319.96 L1705.61 1319.96 L1705.61 1321.93 L1698.02 1321.93 L1698.02 1327.02 L1704.87 1327.02 L1704.87 1328.99 L1698.02 1328.99 L1698.02 1337.24 L1695.68 1337.24 L1695.68 1319.96 Z\" fill=\"#000000\" fill-rule=\"evenodd\" fill-opacity=\"1\" /><path clip-path=\"url(#clip860)\" d=\"M1709.22 1319.23 L1711.35 1319.23 L1711.35 1337.24 L1709.22 1337.24 L1709.22 1319.23 Z\" fill=\"#000000\" fill-rule=\"evenodd\" fill-opacity=\"1\" /><path clip-path=\"url(#clip860)\" d=\"M1720.83 1325.77 Q1719.12 1325.77 1718.12 1327.11 Q1717.13 1328.44 1717.13 1330.77 Q1717.13 1333.1 1718.11 1334.44 Q1719.11 1335.77 1720.83 1335.77 Q1722.53 1335.77 1723.53 1334.43 Q1724.52 1333.08 1724.52 1330.77 Q1724.52 1328.47 1723.53 1327.12 Q1722.53 1325.77 1720.83 1325.77 M1720.83 1323.96 Q1723.61 1323.96 1725.19 1325.77 Q1726.78 1327.57 1726.78 1330.77 Q1726.78 1333.95 1725.19 1335.77 Q1723.61 1337.57 1720.83 1337.57 Q1718.04 1337.57 1716.46 1335.77 Q1714.88 1333.95 1714.88 1330.77 Q1714.88 1327.57 1716.46 1325.77 Q1718.04 1323.96 1720.83 1323.96 Z\" fill=\"#000000\" fill-rule=\"evenodd\" fill-opacity=\"1\" /><path clip-path=\"url(#clip860)\" d=\"M1736.2 1330.72 Q1733.62 1330.72 1732.62 1331.31 Q1731.63 1331.9 1731.63 1333.33 Q1731.63 1334.46 1732.37 1335.13 Q1733.12 1335.79 1734.41 1335.79 Q1736.18 1335.79 1737.24 1334.54 Q1738.32 1333.28 1738.32 1331.2 L1738.32 1330.72 L1736.2 1330.72 M1740.45 1329.84 L1740.45 1337.24 L1738.32 1337.24 L1738.32 1335.27 Q1737.59 1336.45 1736.5 1337.02 Q1735.41 1337.57 1733.84 1337.57 Q1731.85 1337.57 1730.67 1336.46 Q1729.5 1335.34 1729.5 1333.47 Q1729.5 1331.28 1730.96 1330.17 Q1732.43 1329.06 1735.33 1329.06 L1738.32 1329.06 L1738.32 1328.85 Q1738.32 1327.38 1737.35 1326.58 Q1736.39 1325.77 1734.64 1325.77 Q1733.53 1325.77 1732.47 1326.04 Q1731.42 1326.3 1730.45 1326.83 L1730.45 1324.87 Q1731.62 1324.42 1732.72 1324.2 Q1733.82 1323.96 1734.86 1323.96 Q1737.67 1323.96 1739.06 1325.42 Q1740.45 1326.88 1740.45 1329.84 Z\" fill=\"#000000\" fill-rule=\"evenodd\" fill-opacity=\"1\" /><path clip-path=\"url(#clip860)\" d=\"M1746.94 1320.6 L1746.94 1324.28 L1751.33 1324.28 L1751.33 1325.93 L1746.94 1325.93 L1746.94 1332.97 Q1746.94 1334.55 1747.37 1335.01 Q1747.81 1335.46 1749.14 1335.46 L1751.33 1335.46 L1751.33 1337.24 L1749.14 1337.24 Q1746.68 1337.24 1745.74 1336.32 Q1744.8 1335.4 1744.8 1332.97 L1744.8 1325.93 L1743.24 1325.93 L1743.24 1324.28 L1744.8 1324.28 L1744.8 1320.6 L1746.94 1320.6 Z\" fill=\"#000000\" fill-rule=\"evenodd\" fill-opacity=\"1\" /><path clip-path=\"url(#clip860)\" d=\"M1761.51 1327.92 Q1763.19 1328.28 1764.13 1329.42 Q1765.08 1330.55 1765.08 1332.22 Q1765.08 1334.77 1763.32 1336.17 Q1761.56 1337.57 1758.32 1337.57 Q1757.23 1337.57 1756.07 1337.35 Q1754.93 1337.15 1753.7 1336.72 L1753.7 1334.46 Q1754.67 1335.03 1755.83 1335.32 Q1756.99 1335.61 1758.25 1335.61 Q1760.45 1335.61 1761.59 1334.74 Q1762.75 1333.87 1762.75 1332.22 Q1762.75 1330.69 1761.68 1329.83 Q1760.61 1328.96 1758.7 1328.96 L1756.69 1328.96 L1756.69 1327.04 L1758.79 1327.04 Q1760.52 1327.04 1761.43 1326.36 Q1762.35 1325.67 1762.35 1324.37 Q1762.35 1323.04 1761.4 1322.33 Q1760.46 1321.61 1758.7 1321.61 Q1757.74 1321.61 1756.64 1321.82 Q1755.54 1322.03 1754.22 1322.47 L1754.22 1320.39 Q1755.55 1320.02 1756.71 1319.83 Q1757.88 1319.65 1758.91 1319.65 Q1761.57 1319.65 1763.12 1320.86 Q1764.67 1322.07 1764.67 1324.13 Q1764.67 1325.56 1763.85 1326.56 Q1763.03 1327.54 1761.51 1327.92 Z\" fill=\"#000000\" fill-rule=\"evenodd\" fill-opacity=\"1\" /><path clip-path=\"url(#clip860)\" d=\"M1771.53 1335.27 L1779.68 1335.27 L1779.68 1337.24 L1768.71 1337.24 L1768.71 1335.27 Q1770.04 1333.89 1772.34 1331.58 Q1774.64 1329.25 1775.23 1328.58 Q1776.35 1327.32 1776.79 1326.45 Q1777.24 1325.57 1777.24 1324.73 Q1777.24 1323.35 1776.27 1322.48 Q1775.31 1321.61 1773.76 1321.61 Q1772.66 1321.61 1771.43 1322 Q1770.22 1322.38 1768.83 1323.15 L1768.83 1320.79 Q1770.24 1320.23 1771.47 1319.94 Q1772.69 1319.65 1773.71 1319.65 Q1776.4 1319.65 1778 1320.99 Q1779.59 1322.33 1779.59 1324.58 Q1779.59 1325.64 1779.19 1326.6 Q1778.79 1327.55 1777.74 1328.85 Q1777.45 1329.18 1775.9 1330.79 Q1774.35 1332.39 1771.53 1335.27 Z\" fill=\"#000000\" fill-rule=\"evenodd\" fill-opacity=\"1\" /><path clip-path=\"url(#clip860)\" d=\"M619.794 1291.42 L629.725 1291.42 L629.725 1293.39 L622.132 1293.39 L622.132 1298.48 L628.984 1298.48 L628.984 1300.45 L622.132 1300.45 L622.132 1308.7 L619.794 1308.7 L619.794 1291.42 Z\" fill=\"#000000\" fill-rule=\"evenodd\" fill-opacity=\"1\" /><path clip-path=\"url(#clip860)\" d=\"M633.336 1290.69 L635.466 1290.69 L635.466 1308.7 L633.336 1308.7 L633.336 1290.69 Z\" fill=\"#000000\" fill-rule=\"evenodd\" fill-opacity=\"1\" /><path clip-path=\"url(#clip860)\" d=\"M644.945 1297.23 Q643.232 1297.23 642.236 1298.57 Q641.241 1299.9 641.241 1302.23 Q641.241 1304.56 642.225 1305.9 Q643.22 1307.23 644.945 1307.23 Q646.646 1307.23 647.641 1305.89 Q648.637 1304.54 648.637 1302.23 Q648.637 1299.93 647.641 1298.58 Q646.646 1297.23 644.945 1297.23 M644.945 1295.42 Q647.722 1295.42 649.308 1297.23 Q650.894 1299.03 650.894 1302.23 Q650.894 1305.41 649.308 1307.23 Q647.722 1309.03 644.945 1309.03 Q642.155 1309.03 640.57 1307.23 Q638.996 1305.41 638.996 1302.23 Q638.996 1299.03 640.57 1297.23 Q642.155 1295.42 644.945 1295.42 Z\" fill=\"#000000\" fill-rule=\"evenodd\" fill-opacity=\"1\" /><path clip-path=\"url(#clip860)\" d=\"M660.315 1302.18 Q657.734 1302.18 656.739 1302.77 Q655.743 1303.36 655.743 1304.79 Q655.743 1305.92 656.484 1306.59 Q657.236 1307.25 658.521 1307.25 Q660.292 1307.25 661.357 1306 Q662.433 1304.74 662.433 1302.66 L662.433 1302.18 L660.315 1302.18 M664.563 1301.3 L664.563 1308.7 L662.433 1308.7 L662.433 1306.73 Q661.704 1307.91 660.616 1308.48 Q659.528 1309.03 657.954 1309.03 Q655.963 1309.03 654.783 1307.92 Q653.614 1306.8 653.614 1304.93 Q653.614 1302.74 655.072 1301.63 Q656.542 1300.52 659.447 1300.52 L662.433 1300.52 L662.433 1300.31 Q662.433 1298.84 661.461 1298.04 Q660.5 1297.23 658.752 1297.23 Q657.641 1297.23 656.588 1297.49 Q655.535 1297.76 654.563 1298.29 L654.563 1296.33 Q655.732 1295.87 656.831 1295.65 Q657.931 1295.42 658.972 1295.42 Q661.785 1295.42 663.174 1296.88 Q664.563 1298.34 664.563 1301.3 Z\" fill=\"#000000\" fill-rule=\"evenodd\" fill-opacity=\"1\" /><path clip-path=\"url(#clip860)\" d=\"M671.056 1292.06 L671.056 1295.74 L675.442 1295.74 L675.442 1297.39 L671.056 1297.39 L671.056 1304.43 Q671.056 1306.01 671.484 1306.46 Q671.924 1306.92 673.255 1306.92 L675.442 1306.92 L675.442 1308.7 L673.255 1308.7 Q670.789 1308.7 669.852 1307.78 Q668.914 1306.86 668.914 1304.43 L668.914 1297.39 L667.352 1297.39 L667.352 1295.74 L668.914 1295.74 L668.914 1292.06 L671.056 1292.06 Z\" fill=\"#000000\" fill-rule=\"evenodd\" fill-opacity=\"1\" /><path clip-path=\"url(#clip860)\" d=\"M683.833 1299.13 Q682.259 1299.13 681.333 1300.2 Q680.419 1301.28 680.419 1303.15 Q680.419 1305.02 681.333 1306.11 Q682.259 1307.18 683.833 1307.18 Q685.407 1307.18 686.322 1306.11 Q687.248 1305.02 687.248 1303.15 Q687.248 1301.28 686.322 1300.2 Q685.407 1299.13 683.833 1299.13 M688.474 1291.8 L688.474 1293.93 Q687.595 1293.51 686.692 1293.29 Q685.801 1293.07 684.921 1293.07 Q682.606 1293.07 681.38 1294.64 Q680.164 1296.2 679.991 1299.36 Q680.674 1298.35 681.704 1297.82 Q682.734 1297.27 683.972 1297.27 Q686.576 1297.27 688.081 1298.86 Q689.597 1300.43 689.597 1303.15 Q689.597 1305.82 688.023 1307.43 Q686.449 1309.03 683.833 1309.03 Q680.836 1309.03 679.25 1306.74 Q677.664 1304.44 677.664 1300.08 Q677.664 1295.98 679.609 1293.55 Q681.553 1291.11 684.829 1291.11 Q685.708 1291.11 686.599 1291.28 Q687.502 1291.45 688.474 1291.8 Z\" fill=\"#000000\" fill-rule=\"evenodd\" fill-opacity=\"1\" /><path clip-path=\"url(#clip860)\" d=\"M700.048 1293.46 L694.146 1302.68 L700.048 1302.68 L700.048 1293.46 M699.435 1291.42 L702.375 1291.42 L702.375 1302.68 L704.84 1302.68 L704.84 1304.62 L702.375 1304.62 L702.375 1308.7 L700.048 1308.7 L700.048 1304.62 L692.248 1304.62 L692.248 1302.37 L699.435 1291.42 Z\" fill=\"#000000\" fill-rule=\"evenodd\" fill-opacity=\"1\" /></svg>\n"
      ]
     },
     "execution_count": 18,
     "metadata": {},
     "output_type": "execute_result"
    }
   ],
   "source": [
    "using GraphRecipes, Plots\n",
    "\n",
    "#pyplot(size=(800, 600))\n",
    "gr(size=(600, 400))\n",
    "theme(:default)\n",
    "\n",
    "plot(AbstractFloat, method=:tree, fontsize=4)"
   ]
  },
  {
   "cell_type": "markdown",
   "metadata": {},
   "source": [
    "### Half precision (Float16)\n",
    "\n",
    "<img src=\"./half-precision-numbers.png\" width=\"300\" align=\"center\"/>\n",
    "\n",
    "Source: <https://en.wikipedia.org/wiki/Half-precision_floating-point_format>\n",
    "    \n",
    "- In Julia, `Float16` is the type for half precision numbers.\n",
    "\n",
    "- MSB is the sign bit.  \n",
    "\n",
    "- 10 significand bits (**fraction**=**mantissa**), hence $p=11$ (why?)\n",
    "\n",
    "- 5 exponent bits: $e_{\\max}=15$, $e_{\\min}=-14$, **bias**=15 = $01111_2$ for encoding:\n",
    "    + $e_{\\min} = \\mathbf{00001_2} - 01111_2 = -14_{10}$\n",
    "    + $e_{\\max} = \\mathbf{11110_2} - 01111_2 = 15_{10}$\n",
    "\n",
    "- $e_{\\text{min}}-1$ and $e_{\\text{max}}+1$ are reserved for special numbers.  \n",
    "\n",
    "- range of **magnitude**: $10^{\\pm 4}$ in decimal because $\\log_{10} (2^{15}) \\approx 4$.  \n",
    "\n",
    "- **Precision**: $\\log_{10}2^{11} \\approx 3.311$ decimal digits. \n",
    "\n",
    "$$\n",
    "(value) = (-1)^{b_{15}}\\times 2^{(\\sum_{j=1}^5 b_{15-j}2^{5-j}) - 15} \\times \\left( 1 + \\sum_{i=1}^{10}\\frac{b_{10-i}}{2^i}\\right)\n",
    "$$"
   ]
  },
  {
   "cell_type": "code",
   "execution_count": 19,
   "metadata": {},
   "outputs": [
    {
     "name": "stdout",
     "output_type": "stream",
     "text": [
      "Half precision:\n",
      "bitstring(Float16(5)) = \"0100010100000000\"\n",
      "bitstring(Float16(-5)) = \"1100010100000000\"\n"
     ]
    }
   ],
   "source": [
    "println(\"Half precision:\")\n",
    "@show bitstring(Float16(5)) # 5 in half precision\n",
    "@show bitstring(Float16(-5)); # -5 in half precision"
   ]
  },
  {
   "cell_type": "markdown",
   "metadata": {},
   "source": [
    "### Single precision (Float32)\n",
    "\n",
    "<img src=\"./single-precision-numbers.png\" width=\"600\" align=\"center\"/>\n",
    "\n",
    "Source: <https://en.wikipedia.org/wiki/Single-precision_floating-point_format>\n",
    "\n",
    "- In Julia, `Float32` is the type for single precision numbers.  \n",
    "\n",
    "- MSB is the sign bit.  \n",
    "\n",
    "- 23 significand bits ($p=24$).  \n",
    "\n",
    "- 8 exponent bits: $e_{\\max}=127$, $e_{\\min}=-126$, **bias**=127.  \n",
    "\n",
    "- $e_{\\text{min}}-1$ and $e_{\\text{max}}+1$ are reserved for special numbers.  \n",
    "\n",
    "- range of **magnitude**: $10^{\\pm 38}$ in decimal because $\\log_{10} (2^{127}) \\approx 38$.\n",
    "\n",
    "- **precision**: $\\log_{10}(2^{24}) \\approx 7.225$ decimal digits.  "
   ]
  },
  {
   "cell_type": "code",
   "execution_count": 20,
   "metadata": {},
   "outputs": [
    {
     "name": "stdout",
     "output_type": "stream",
     "text": [
      "Single precision:\n",
      "bitstring(Float32(5)) = \"01000000101000000000000000000000\"\n",
      "bitstring(Float32(-5)) = \"11000000101000000000000000000000\"\n"
     ]
    }
   ],
   "source": [
    "println(\"Single precision:\")\n",
    "@show bitstring(Float32(5)) # 5 in single precision\n",
    "@show bitstring(Float32(-5)); # -5 in single precision"
   ]
  },
  {
   "cell_type": "markdown",
   "metadata": {},
   "source": [
    "### Double precision (Float64)\n",
    "\n",
    "<img src=\"./double-precision-numbers.png\" width=\"600\" align=\"center\"/>\n",
    "\n",
    "Source: <https://en.wikipedia.org/wiki/Double-precision_floating-point_format>\n",
    "\n",
    "- Double precision (64 bits = 8 bytes) numbers are the dominant data type in scientific computing.\n",
    "      \n",
    "- In Julia, `Float64` is the type for double precision numbers.    \n",
    "\n",
    "- MSB is the sign bit.  \n",
    "\n",
    "- 52 significand bits ($p=53$).\n",
    "\n",
    "- 11 exponent bits: $e_{\\max}=1023$, $e_{\\min}=-1022$, **bias**=1023.  \n",
    "\n",
    "- $e_{\\text{min}}-1$ and $e_{\\text{max}}+1$ are reserved for special numbers.  \n",
    "\n",
    "- range of **magnitude**: $10^{\\pm 308}$ in decimal because $\\log_{10} (2^{1023}) \\approx 308$.  \n",
    "\n",
    "- **precision** to the $\\log_{10}(2^{53}) \\approx 15.95$ decimal point."
   ]
  },
  {
   "cell_type": "code",
   "execution_count": 21,
   "metadata": {},
   "outputs": [
    {
     "name": "stdout",
     "output_type": "stream",
     "text": [
      "Double precision:\n",
      "bitstring(Float64(5)) = \"0100000000010100000000000000000000000000000000000000000000000000\"\n",
      "bitstring(Float64(-5)) = \"1100000000010100000000000000000000000000000000000000000000000000\"\n"
     ]
    }
   ],
   "source": [
    "println(\"Double precision:\")\n",
    "@show bitstring(Float64(5)) # 5 in double precision\n",
    "@show bitstring(Float64(-5)); # -5 in double precision"
   ]
  },
  {
   "cell_type": "markdown",
   "metadata": {},
   "source": [
    "### Special floating-point numbers\n",
    "\n",
    "- Exponent $e_{\\max}+1$ plus a zero mantissa means $\\pm \\infty$."
   ]
  },
  {
   "cell_type": "code",
   "execution_count": 22,
   "metadata": {},
   "outputs": [
    {
     "name": "stdout",
     "output_type": "stream",
     "text": [
      "bitstring(Inf) = \"0111111111110000000000000000000000000000000000000000000000000000\"\n",
      "bitstring(-Inf) = \"1111111111110000000000000000000000000000000000000000000000000000\"\n"
     ]
    }
   ],
   "source": [
    "@show bitstring(Inf) # Inf in double precision\n",
    "@show bitstring(-Inf); # -Inf in double precision"
   ]
  },
  {
   "cell_type": "markdown",
   "metadata": {},
   "source": [
    "- Exponent $e_{\\max}+1$ plus a nonzero mantissa means `NaN`. `NaN` could be produced from `0 / 0`, `0 * Inf`, ...  \n",
    "\n",
    "- In general `NaN ≠ NaN` bitwise. Test whether a number is `NaN` by `isnan` function.  "
   ]
  },
  {
   "cell_type": "code",
   "execution_count": 23,
   "metadata": {},
   "outputs": [
    {
     "name": "stdout",
     "output_type": "stream",
     "text": [
      "bitstring(0 / 0) = \"1111111111111000000000000000000000000000000000000000000000000000\"\n",
      "bitstring(0Inf) = \"1111111111111000000000000000000000000000000000000000000000000000\"\n"
     ]
    }
   ],
   "source": [
    "@show bitstring(0 / 0) # NaN\n",
    "@show bitstring(0 * Inf); # NaN"
   ]
  },
  {
   "cell_type": "markdown",
   "metadata": {},
   "source": [
    "- Exponent $e_{\\min}-1$ with a zero mantissa represents the real number 0 (\"exact zero\").  \n",
    "    + Why do we need an exact zero?"
   ]
  },
  {
   "cell_type": "code",
   "execution_count": 24,
   "metadata": {},
   "outputs": [
    {
     "name": "stdout",
     "output_type": "stream",
     "text": [
      "bitstring(0.0) = \"0000000000000000000000000000000000000000000000000000000000000000\"\n"
     ]
    }
   ],
   "source": [
    "@show bitstring(0.0); # 0 in double precision "
   ]
  },
  {
   "cell_type": "markdown",
   "metadata": {},
   "source": [
    "- Exponent $e_{\\min}-1$ with a nonzero mantissa are for numbers less than $b^{e_{\\min}}$ (subnormal numbers).\n",
    "- Numbers are _denormalized_ in the range $(0,b^{e_{\\min}})$ -- **gradual underflow**. \n",
    "- For example, in half-precision, $e_{\\min}=-14$ but $2^{-24}$ is represented by $0.0000000001_2 \\times 2^{-14}$.\n",
    "- If floating point numbers are all normalized, the spacing between 0 and $b^{e_{\\min}}$ is just $b^{e_{\\min}}$, whereas the spacing between $b^{e_{\\min}}$ and $b^{e_{\\min}+1}$ is $b^{e_{\\min}-p+1}$. With subnormal numbers, the spacing between 0 and $b^{e_{\\min}}$ can be $b^{e_{\\min}-p+1}$, which is consistent with the spacing just above $b^{e_{\\min}}$."
   ]
  },
  {
   "cell_type": "code",
   "execution_count": 25,
   "metadata": {},
   "outputs": [
    {
     "name": "stdout",
     "output_type": "stream",
     "text": [
      "Float16(2 ^ -14) = Float16(6.104e-5)\n",
      "bitstring(Float16(2 ^ -14)) = \"0000010000000000\"\n",
      "Float16(2 ^ -24) = Float16(6.0e-8)\n",
      "bitstring(Float16(2 ^ -24)) = \"0000000000000001\"\n"
     ]
    }
   ],
   "source": [
    "@show Float16(2^(-14))  # emin=-14\n",
    "@show bitstring(Float16(2^(-14)));\n",
    "@show Float16(2^(-24))  # emin=-14\n",
    "@show bitstring(Float16(2^(-24))); # denormalized"
   ]
  },
  {
   "cell_type": "code",
   "execution_count": 26,
   "metadata": {},
   "outputs": [
    {
     "name": "stdout",
     "output_type": "stream",
     "text": [
      "nextfloat(Float16(0.0)) = Float16(6.0e-8)\n",
      "bitstring(nextfloat(Float16(0.0))) = \"0000000000000001\"\n"
     ]
    }
   ],
   "source": [
    "@show nextfloat(Float16(0.0)) # next representable number\n",
    "@show bitstring(nextfloat(Float16(0.0))); # denormalized"
   ]
  },
  {
   "cell_type": "markdown",
   "metadata": {},
   "source": [
    "### Rounding\n",
    "\n",
    "* Rounding is necessary whenever a number has more than $p$ significand bits. Most computer systems use the default IEEE 754 _round to nearest_ mode (also called _ties to even_ mode). Julia offers several [rounding modes](https://docs.julialang.org/en/v1/base/math/#Base.Rounding.RoundingMode), the default being [`RoundNearest`](https://docs.julialang.org/en/v1/base/math/#Base.Rounding.RoundNearest). \n",
    "\n",
    "* \"*Round to nearest, ties to even*\" rule: rounds to the nearest value; if the number falls midway, it is rounded to the nearest value with an even least significant digit (i.e., zero; default for IEEE 754 binary floating point numbers)\n",
    "\n",
    "* For example, the number 1/10 cannot be represented accurately as a (binary) floating point number:\n",
    "$$ 0.1 = 1.10011001\\dotsc_2 \\times 2^{-4} $$"
   ]
  },
  {
   "cell_type": "code",
   "execution_count": 27,
   "metadata": {},
   "outputs": [
    {
     "name": "stdout",
     "output_type": "stream",
     "text": [
      "bitstring(0.1) = \"0011111110111001100110011001100110011001100110011001100110011010\"\n",
      "bitstring(0.1f0) = \"00111101110011001100110011001101\"\n",
      "bitstring(Float16(0.1)) = \"0010111001100110\"\n"
     ]
    }
   ],
   "source": [
    "@show bitstring(0.1);  # double precision Float64\n",
    "@show bitstring(0.1f0); # single precision Float32, 1001 gets rounded to 101(0)\n",
    "@show bitstring(Float16(0.1)); # half precision Float16, 1001 gets rounded to 101(0)"
   ]
  },
  {
   "cell_type": "markdown",
   "metadata": {},
   "source": [
    "### Errors\n",
    "\n",
    "Rounding (more fundamentally, finite precision) incurs errors in floating porint computation. If a real number $x$ is represented by a floating point number $[x]$, then\n",
    "\n",
    "* Absolute error\n",
    "$$\n",
    "    | [x] - x |\n",
    "$$\n",
    "\n",
    "* Relative error\n",
    "$$\n",
    "    \\frac{| [x] - x |}{|x|}\n",
    "$$\n",
    "(if $x \\neq 0$).\n",
    "\n",
    "Of course, we want to ensure that the error after a computation is small."
   ]
  },
  {
   "cell_type": "markdown",
   "metadata": {},
   "source": [
    "### Machine epsilons\n",
    "\n",
    "- Floating-point numbers do not occur uniformly over the real number line\n",
    "    <img src=\"http://www.volkerschatz.com/science/pics/fltscale-wh.png\" width=\"700\" align=\"center\"/>\n",
    "        \n",
    "Source: [What you never wanted to know about floating point but will be forced to find out](http://www.volkerschatz.com/science/float.html)\n",
    "    \n",
    "- Same number of representible numbers in $(2^i, 2^{i+1}]$ as in $(2^{i+1}, 2^{i+2}]$. Within an interval, they are uniformly distributed.\n",
    "    \n",
    "- **Machine epsilons** are the spacings of numbers around 1: \n",
    "    + $\\epsilon_{\\max}$ = (smallest positive floating point number that added to 1 will give a result different from 1) = $\\frac{1}{2^p} + \\frac{1}{2^{2p-1}}$\n",
    "    + $\\epsilon_{\\min}$ = (smallest positive floating point number that subtracted from 1 will give a result different from 1) = $\\frac{1}{2^{p+1}} + \\frac{1}{2^{2p}}$.\n",
    "    + That is, $1 + \\epsilon_{\\max}$ is the number in the \"midway\" between 1 and the floating point number right next to it, etc.\n",
    "    \n",
    "    <img src=\"./machine_epsilons.png\" width=\"500\" align=\"center\"/>\n",
    "\n",
    "Source: *Computational Statistics*, James Gentle, Springer, New York, 2009.\n",
    "\n",
    "*Caution: the definition of $\\epsilon_{\\max}$ and $\\epsilon_{\\min}$ in this book is different from the lecture note.*\n",
    "    \n",
    "- Any real number in the interval $\\left[1 - \\frac{1}{2^{p+1}}, 1 + \\frac{1}{2^p}\\right]=[1.111\\dotsb1|1_2 \\times 2^{-1}, 1.000\\dotsb 0|1 \\times 2^0]$ is represented by a floating point number $1 = 1.00\\dotsc 0_2 \\times 2^0$ (assuming the \"ties to even\" rule: consider $p=2$ case).\n",
    "\n",
    "- Adding $\\frac{1}{2^p}$ to 1 won't reach the next representable floating point number  $1.00\\dotsc 01_2 \\times 2^0 = 1 + \\frac{1}{2^{p-1}}$. Hence $\\epsilon_{\\max} > \\frac{1}{2^p} = 1.00\\dotsc 0_2 \\times 2^{-p}$.\n",
    "\n",
    "- Adding the floating point number *next to* $\\frac{1}{2^p} = 1.00\\dotsc 0_2 \\times 2^{-p}$ to 1 WILL result in $1.00\\dotsc 01_2 \\times 2^0 = 1 + \\frac{1}{2^{p-1}}$, hence $\\epsilon_{\\max} = 1.00\\dotsb 01_2 \\times 2^{-p} = \\frac{1}{2^p} + \\frac{1}{2^{p+p-1}}$.\n",
    "\n",
    "- Subtracting $\\frac{1}{2^{p+1}}$ from 1 results in $1-\\frac{1}{2^{p+1}} = \\frac{1}{2} + \\frac{1}{2^2} + \\dotsb + \\frac{1}{2^p} + \\frac{1}{2^{p+1}}$, which is represented by the floating point number $1.00\\dotsb 0_2 \\times 2^{0} = 1$ by the \"ties to even\" rule. Hence $\\epsilon_{\\min} > \\frac{1}{2^{p+1}}$.\n",
    "\n",
    "- The smallest positive floating point number larger than $\\frac{1}{2^{p+1}}$ is $\\frac{1}{2^{p+1}} + \\frac{1}{2^{2p}}=1.00\\dotsc 1_2 \\times 2^{-p-1}$. Thus $\\epsilon_{\\min} = \\frac{1}{2^{p+1}} + \\frac{1}{2^{2p}}$."
   ]
  },
  {
   "cell_type": "markdown",
   "metadata": {},
   "source": [
    "### Machine precision\n",
    "\n",
    "* Machine epsilon is often called the machine precision.\n",
    "\n",
    "* If a positive real number $x \\in \\mathbb{R}$ is represented by $[x]$ in the floating point arithmetic, then \n",
    "$$\n",
    "    [x] = \\left( 1 + \\sum_{i=1}^{p-1}\\frac{d_{i+1}}{2^i}\\right) \\times 2^e.\n",
    "$$\n",
    "Thus $x - \\frac{2^e}{2^p} \\le [x] \\le x + \\frac{2^e}{2^p}$, \n",
    "and\n",
    "$$\n",
    "    \\begin{split}\n",
    "    \\frac{| x - [x] |}{|x|} &\\le \\frac{2^e}{2^p|x|} \\le \\frac{2^e}{2^p}\\frac{1}{[x]-2^e/2^p} \\\\\n",
    "                            &\\le \\frac{2^e}{2^p}\\frac{1}{2^e(1-1/2^p)}  \\quad (\\because [x] \\ge 2^e) \\\\\n",
    "                            &\\le \\frac{2^e}{2^p}\\frac{1}{2^e}(1 + \\frac{1}{2^{p-1}}) \\\\\n",
    "                            &= \\frac{1}{2^p} + \\frac{1}{2^{2p-1}} = \\epsilon_{\\max}.\n",
    "    \\end{split}\n",
    "$$\n",
    "That is, the **relative error** of the floating point representation $[x]$ of real number $x$ is bounded by $\\epsilon_{\\max}$."
   ]
  },
  {
   "cell_type": "code",
   "execution_count": 28,
   "metadata": {},
   "outputs": [
    {
     "name": "stdout",
     "output_type": "stream",
     "text": [
      "2 ^ -53 + 2 ^ -105 = 1.1102230246251568e-16\n",
      "1.0 + 2 ^ -53 = 1.0\n",
      "1.0 + (2 ^ -53 + 2 ^ -105) = 1.0000000000000002\n",
      "1.0 + 2 ^ -53 + 2 ^ -105 = 1.0\n",
      "Float32(2 ^ -24 + 2 ^ -47) = 5.960465f-8\n",
      "1.0f0 + Float32(2 ^ -24) = 1.0f0\n",
      "1.0f0 + Float32(2 ^ -24 + 2 ^ -47) = 1.0000001f0\n"
     ]
    }
   ],
   "source": [
    "@show 2^(-53) + 2^(-105);   # epsilon_max for Float64\n",
    "@show 1.0 + 2^(-53);\n",
    "@show 1.0 + (2^(-53) + 2^(-105));\n",
    "@show 1.0 + 2^(-53) + 2^(-105);  # why is the result?  See \"Catastrophic cancellation\"\n",
    "\n",
    "@show Float32(2^(-24) + 2^(-47)); # epsilon_max for Float32\n",
    "@show 1.0f0 + Float32(2^(-24));\n",
    "@show 1.0f0 + Float32(2^(-24) + 2^(-47));"
   ]
  },
  {
   "cell_type": "code",
   "execution_count": 29,
   "metadata": {},
   "outputs": [
    {
     "name": "stdout",
     "output_type": "stream",
     "text": [
      "2 ^ -54 + 2 ^ -106 = 5.551115123125784e-17\n",
      "1 - (2 ^ -54 + 2 ^ -106) = 0.9999999999999999\n",
      "bitstring(1.0) = \"0011111111110000000000000000000000000000000000000000000000000000\"\n",
      "bitstring(1 - (2 ^ -54 + 2 ^ -106)) = \"0011111111101111111111111111111111111111111111111111111111111111\"\n"
     ]
    },
    {
     "data": {
      "text/plain": [
       "\"0011111111101111111111111111111111111111111111111111111111111111\""
      ]
     },
     "execution_count": 29,
     "metadata": {},
     "output_type": "execute_result"
    }
   ],
   "source": [
    "@show 2^(-54) + 2^(-106);  # epsilon_min for Float64\n",
    "@show 1 - (2^(-54) + 2^(-106))\n",
    "@show bitstring(1.0)\n",
    "@show bitstring(1 - (2^(-54) + 2^(-106)))"
   ]
  },
  {
   "cell_type": "markdown",
   "metadata": {},
   "source": [
    "In Julia, `eps(x)` gives the distance between consecutive representable floating point values at `x`, i.e.,\n",
    "```Julia\n",
    "eps(x) == max(x-prevfloat(x), nextfloat(x)-x)\n",
    "```\n",
    "which is roughly twice the $\\epsilon_{\\max}$."
   ]
  },
  {
   "cell_type": "code",
   "execution_count": 30,
   "metadata": {},
   "outputs": [
    {
     "name": "stdout",
     "output_type": "stream",
     "text": [
      "eps(Float32) = 1.1920929f-7\n",
      "eps(Float64) = 2.220446049250313e-16\n",
      "eps(100.0) = 1.4210854715202004e-14\n",
      "eps(0.0) = 5.0e-324\n",
      "x = 1.25f0 = 1.25f0\n",
      "(prevfloat(x), x, nextfloat(x)) = (1.2499999f0, 1.25f0, 1.2500001f0)\n",
      "(bitstring(prevfloat(x)), bitstring(x), bitstring(nextfloat(x))) = (\"00111111100111111111111111111111\", \"00111111101000000000000000000000\", \"00111111101000000000000000000001\")\n"
     ]
    }
   ],
   "source": [
    "@show eps(Float32)  # machine epsilon for a floating point type, roughly twice our \\epsilon_{\\max}\n",
    "@show eps(Float64)  # same as eps()\n",
    "# eps(x) is the spacing after x\n",
    "@show eps(100.0)\n",
    "@show eps(0.0)\n",
    "# nextfloat(x) and prevfloat(x) give the neighbors of x\n",
    "@show x = 1.25f0\n",
    "@show prevfloat(x), x, nextfloat(x)\n",
    "@show bitstring(prevfloat(x)), bitstring(x), bitstring(nextfloat(x));"
   ]
  },
  {
   "cell_type": "markdown",
   "metadata": {},
   "source": [
    "* In R, the variable `.Machine` contains numerical characteristics of the machine. `double.eps` and `double.neg.eps` are roughly twice our $\\epsilon_{\\max}$ and $\\epsilon_{\\min}$, respectively."
   ]
  },
  {
   "cell_type": "code",
   "execution_count": 31,
   "metadata": {},
   "outputs": [
    {
     "data": {
      "text/plain": [
       "RObject{VecSxp}\n",
       "$double.eps\n",
       "[1] 2.220446e-16\n",
       "\n",
       "$double.neg.eps\n",
       "[1] 1.110223e-16\n",
       "\n",
       "$double.xmin\n",
       "[1] 2.225074e-308\n",
       "\n",
       "$double.xmax\n",
       "[1] 1.797693e+308\n",
       "\n",
       "$double.base\n",
       "[1] 2\n",
       "\n",
       "$double.digits\n",
       "[1] 53\n",
       "\n",
       "$double.rounding\n",
       "[1] 5\n",
       "\n",
       "$double.guard\n",
       "[1] 0\n",
       "\n",
       "$double.ulp.digits\n",
       "[1] -52\n",
       "\n",
       "$double.neg.ulp.digits\n",
       "[1] -53\n",
       "\n",
       "$double.exponent\n",
       "[1] 11\n",
       "\n",
       "$double.min.exp\n",
       "[1] -1022\n",
       "\n",
       "$double.max.exp\n",
       "[1] 1024\n",
       "\n",
       "$integer.max\n",
       "[1] 2147483647\n",
       "\n",
       "$sizeof.long\n",
       "[1] 8\n",
       "\n",
       "$sizeof.longlong\n",
       "[1] 8\n",
       "\n",
       "$sizeof.longdouble\n",
       "[1] 16\n",
       "\n",
       "$sizeof.pointer\n",
       "[1] 8\n",
       "\n",
       "$longdouble.eps\n",
       "[1] 1.084202e-19\n",
       "\n",
       "$longdouble.neg.eps\n",
       "[1] 5.421011e-20\n",
       "\n",
       "$longdouble.digits\n",
       "[1] 64\n",
       "\n",
       "$longdouble.rounding\n",
       "[1] 5\n",
       "\n",
       "$longdouble.guard\n",
       "[1] 0\n",
       "\n",
       "$longdouble.ulp.digits\n",
       "[1] -63\n",
       "\n",
       "$longdouble.neg.ulp.digits\n",
       "[1] -64\n",
       "\n",
       "$longdouble.exponent\n",
       "[1] 15\n",
       "\n",
       "$longdouble.min.exp\n",
       "[1] -16382\n",
       "\n",
       "$longdouble.max.exp\n",
       "[1] 16384\n",
       "\n"
      ]
     },
     "execution_count": 31,
     "metadata": {},
     "output_type": "execute_result"
    }
   ],
   "source": [
    "R\"\"\"\n",
    ".Machine\n",
    "\"\"\""
   ]
  },
  {
   "cell_type": "markdown",
   "metadata": {},
   "source": [
    "### Overflow and underflow of floating-point number\n",
    "\n",
    "* For double precision, the range is $\\pm 10^{\\pm 308}$. In most situations, underflow (magnitude of result is less than $10^{-308}$) is preferred over overflow (magnitude of result is larger than $10^{+308}$). Overflow produces $\\pm \\inf$. Underflow yields zeros or subnormal numbers. \n",
    "\n",
    "* E.g., the logit link function is\n",
    "$$p = \\frac{\\exp (x^T \\beta)}{1 + \\exp (x^T \\beta)} = \\frac{1}{1+\\exp(- x^T \\beta)}.$$\n",
    "The former expression can easily lead to `Inf / Inf = NaN`, while the latter expression leads to gradual underflow.\n",
    "\n",
    "* `floatmin` and `floatmax` functions gives largest and smallest _non-subnormal_ number represented by the given floating point type."
   ]
  },
  {
   "cell_type": "code",
   "execution_count": 32,
   "metadata": {},
   "outputs": [
    {
     "name": "stdout",
     "output_type": "stream",
     "text": [
      "Float16\t6.104e-5\t6.55e4\t-Inf\tInf\t0.000977\n",
      "Float32\t1.1754944e-38\t3.4028235e38\t-Inf\tInf\t1.1920929e-7\n",
      "Float64\t2.2250738585072014e-308\t1.7976931348623157e308\t-Inf\tInf\t2.220446049250313e-16\n"
     ]
    }
   ],
   "source": [
    "for T in [Float16, Float32, Float64]\n",
    "    println(T, '\\t', floatmin(T), '\\t', floatmax(T), '\\t', typemin(T), \n",
    "        '\\t', typemax(T), '\\t', eps(T))\n",
    "end"
   ]
  },
  {
   "cell_type": "markdown",
   "metadata": {},
   "source": [
    "* `BigFloat` in Julia offers arbitrary precision."
   ]
  },
  {
   "cell_type": "code",
   "execution_count": 33,
   "metadata": {},
   "outputs": [
    {
     "name": "stdout",
     "output_type": "stream",
     "text": [
      "precision(BigFloat) = 256\n",
      "floatmin(BigFloat) = 8.50969131174083613912978790962048280567755996982969624908264897850135431080301e-1388255822130839284\n",
      "floatmax(BigFloat) = 5.875653789111587590936911998878442589938516392745498308333779606469323584389875e+1388255822130839282\n"
     ]
    }
   ],
   "source": [
    "@show precision(BigFloat)\n",
    "@show floatmin(BigFloat)\n",
    "@show floatmax(BigFloat);"
   ]
  },
  {
   "cell_type": "code",
   "execution_count": 34,
   "metadata": {},
   "outputs": [
    {
     "name": "stdout",
     "output_type": "stream",
     "text": [
      "BigFloat(π) = 3.141592653589793238462643383279502884197169399375105820974944592307816406286198\n",
      "BigFloat(π) = 3.141592653589793238462643383279502884197169399375105820974944592307816406286208998628034825342117067982148086513282306647093844609550582231725359408128481117450284102701938521105559644622948954930381964428810975665933446128475648233786783165271201909145648566923460348610454326648213393607260249141273724586997\n"
     ]
    }
   ],
   "source": [
    "@show BigFloat(π); # default precision for BigFloat is 256 bits\n",
    "# set precision to 1024 bits\n",
    "setprecision(BigFloat, 1024) do \n",
    "    @show BigFloat(π)\n",
    "end;"
   ]
  },
  {
   "cell_type": "markdown",
   "metadata": {},
   "source": [
    "## Catastrophic cancellation\n",
    "\n",
    "> The result of computation is just the digits that represented the rounding.\n",
    "\n",
    "* **Scenario 1** (benign cancellation): Addition or subtraction of two numbers of widely different magnitudes: $a+b$ or $a-b$ where $a \\gg b$ or $a \\ll b$. We lose the precision in the number of smaller magnitude. Consider \n",
    "$$\\begin{eqnarray*}\n",
    "    a &=& x.xxx ... \\times 2^{30} \\\\  \n",
    "    b &=& y.yyy... \\times 2^{-30}\n",
    "\\end{eqnarray*}$$\n",
    "What happens when computer calculates $a+b$? We get $a+b=a$!"
   ]
  },
  {
   "cell_type": "code",
   "execution_count": 35,
   "metadata": {},
   "outputs": [
    {
     "name": "stdout",
     "output_type": "stream",
     "text": [
      "a = 2.0 ^ 30 = 1.073741824e9\n",
      "b = 2.0 ^ -30 = 9.313225746154785e-10\n",
      "a + b == a = true\n",
      "bitstring(a) = \"0100000111010000000000000000000000000000000000000000000000000000\"\n",
      "bitstring(a + b) = \"0100000111010000000000000000000000000000000000000000000000000000\"\n"
     ]
    }
   ],
   "source": [
    "@show a = 2.0^30\n",
    "@show b = 2.0^-30\n",
    "@show a + b == a\n",
    "@show bitstring(a)\n",
    "@show bitstring(a + b);"
   ]
  },
  {
   "cell_type": "markdown",
   "metadata": {},
   "source": [
    "Analysis: suppose we want to compute $x + y$, $x, y > 0$. Let the relative error of $x$ and $y$ be\n",
    "$$\n",
    "\\delta_x = \\frac{[x] - x}{x},\n",
    "\\quad\n",
    "\\delta_y = \\frac{[y] - y}{y}\n",
    ".\n",
    "$$\n",
    "What the computer actually calculates is $[x] + [y]$, which in turn is represented by $[ [x] + [y] ]$. The relative error of this representation is\n",
    "$$\n",
    "\\delta_{\\text{sum}} = \\frac{[[x]+[y]] - ([x]+[y])}{[x]+[y]}\n",
    ".\n",
    "$$\n",
    "Recall that $|\\delta_x|, |\\delta_y|, |\\delta_{\\text{sum}}| \\le \\epsilon_{\\max}$.\n",
    "\n",
    "We want to find a bound of the relative error of $[[x]+[y]]$ with respect to $x+y$.\n",
    "Since $|[x]+[y]| = |x(1+\\delta_x) + y(1+\\delta_y)| \\le |x+y|(1+\\epsilon_{\\max})$, we have\n",
    "$$\n",
    "\\begin{split}\n",
    "| [[x]+[y]]-(x+y) | &= | [[x]+[y]] - [x] - [y] + [x] - x + [y] - y | \\\\\n",
    "                   &\\le | [[x]+[y]] - [x] - [y] | +  | [x] - x | + | [y] - y | \\\\\n",
    "                   &= |\\delta_{\\text{sum}}([x]+[y])| + |\\delta_x x| + |\\delta_y y| \\\\\n",
    "                   &\\le \\epsilon_{\\max}(x+y)(1+\\epsilon_{\\max}) + \\epsilon_{\\max}x + \\epsilon_{\\max}y \\\\\n",
    "                   &\\approx 2\\epsilon_{\\max}(x+y)\n",
    "\\end{split}\n",
    "$$\n",
    "because $\\epsilon_{\\max}^2 \\approx 0$. Thus\n",
    "$$\n",
    "\\frac{| [[x]+[y]]-(x+y) |}{|x+y|} \\le 2\\epsilon_{\\max}\n",
    "$$\n",
    "approximately."
   ]
  },
  {
   "cell_type": "markdown",
   "metadata": {},
   "source": [
    "* **Scenario 2** (catastrophic cancellation): Subtraction of two nearly equal numbers eliminates significant digits.  $a-b$ where $a \\approx b$. Consider \n",
    "$$\\begin{eqnarray*}\n",
    "    a &=& x.xxxxxxxxxx1ssss  \\\\\n",
    "    b &=& x.xxxxxxxxxx0tttt\n",
    "\\end{eqnarray*}$$\n",
    "The result is $1.vvvvu...u$ where $u$ are unassigned digits."
   ]
  },
  {
   "cell_type": "code",
   "execution_count": 36,
   "metadata": {},
   "outputs": [
    {
     "name": "stdout",
     "output_type": "stream",
     "text": [
      "bitstring(a) = \"00111111100111100000011001010001\"\n",
      "bitstring(b) = \"00111111100111100000011001010000\"\n",
      "a - b = 1.1920929f-7\n",
      "bitstring(a - b) = \"00110100000000000000000000000000\"\n",
      "Float32(1 / 2 ^ 23) = 1.1920929f-7\n"
     ]
    }
   ],
   "source": [
    "a = 1.2345678f0 # rounding\n",
    "@show bitstring(a) # rounding\n",
    "b = 1.2345677f0\n",
    "@show bitstring(b)\n",
    "@show a - b # correct result should be 1f-7\n",
    "@show bitstring(a - b)   # must be 1.0000...0 x 2^(-23)\n",
    "@show Float32(1/2^23);"
   ]
  },
  {
   "cell_type": "markdown",
   "metadata": {},
   "source": [
    "Analysis: Let\n",
    "$$\n",
    "[x] = 1 + \\sum_{i=1}^{p-2}\\frac{d_{i+1}}{2^i} + \\frac{1}{2^{p-1}},\n",
    "\\quad\n",
    "[y] = 1 + \\sum_{i=1}^{p-2}\\frac{d_{i+1}}{2^i} + \\frac{0}{2^{p-1}}\n",
    ".\n",
    "$$\n",
    "\n",
    "* $[x]-[y] = \\frac{1}{2^{p-1}} = [[x]-[y]]$.\n",
    "\n",
    "* The true difference $x-y$ may lie anywhere in $(0, \\frac{1}{2^{p-2}}]$.\n",
    "\n",
    "* Relative error \n",
    "$$\n",
    "\\frac{|x-y -[[x]-[y]]|}{|x-y|}\n",
    "$$\n",
    "is unbounded -- no guarantee of any significant digit!"
   ]
  },
  {
   "cell_type": "markdown",
   "metadata": {},
   "source": [
    "* Implications for numerical computation\n",
    "    - Rule 1: add small numbers together before adding larger ones  \n",
    "    - Rule 2: add numbers of like magnitude together (paring). When all numbers are of same sign and similar magnitude, add in pairs so each stage the summands are of similar magnitude  \n",
    "    - Rule 3: avoid substraction of two numbers that are nearly equal"
   ]
  },
  {
   "cell_type": "markdown",
   "metadata": {},
   "source": [
    "### Algebraic laws\n",
    "\n",
    "Floating-point numbers may violate many algebraic laws we are familiar with, such associative and distributive laws. See the example in the Machine Epsilon section and HW1."
   ]
  },
  {
   "cell_type": "markdown",
   "metadata": {},
   "source": [
    "## Coditioning\n",
    "\n",
    "Consider solving a linear system $Ax=b$:\n",
    "\n",
    "$$\n",
    "\\begin{bmatrix} 1.000 & 0.500 \\\\ 0.667 & 0.333 \\end{bmatrix}\n",
    "\\begin{bmatrix} x_1 \\\\ x_2 \\end{bmatrix}\n",
    "=\n",
    "\\begin{bmatrix} 1.500 \\\\ 1.000 \\end{bmatrix}\n",
    ",\n",
    "$$\n",
    "\n",
    "whose solution is $(x_1, x_2) = (1.000, 1.000)$."
   ]
  },
  {
   "cell_type": "code",
   "execution_count": 37,
   "metadata": {},
   "outputs": [
    {
     "data": {
      "text/plain": [
       "2-element Vector{Float64}:\n",
       " 0.9999999999998335\n",
       " 1.000000000000333"
      ]
     },
     "execution_count": 37,
     "metadata": {},
     "output_type": "execute_result"
    }
   ],
   "source": [
    "A=[1.0 0.5; 0.667 0.333]; b = [1.5, 1.0]; A\\b"
   ]
  },
  {
   "cell_type": "markdown",
   "metadata": {},
   "source": [
    "If we *perturb* $b$ by 0.001, i.e., solve\n",
    "\n",
    "$$\n",
    "\\begin{bmatrix} 1.000 & 0.500 \\\\ 0.667 & 0.333 \\end{bmatrix}\n",
    "\\begin{bmatrix} x_1 \\\\ x_2 \\end{bmatrix}\n",
    "=\n",
    "\\begin{bmatrix} 1.500 \\\\ 0.999 \\end{bmatrix}\n",
    ",\n",
    "$$\n",
    "\n",
    "then the solution changes to $(x_1, x_2) = (0.000, 3.000)$."
   ]
  },
  {
   "cell_type": "code",
   "execution_count": 38,
   "metadata": {},
   "outputs": [
    {
     "data": {
      "text/plain": [
       "2-element Vector{Float64}:\n",
       " -1.6653345369377348e-13\n",
       "  3.000000000000333"
      ]
     },
     "execution_count": 38,
     "metadata": {},
     "output_type": "execute_result"
    }
   ],
   "source": [
    "b1 = [1.5, 0.999]; A\\b1"
   ]
  },
  {
   "cell_type": "markdown",
   "metadata": {},
   "source": [
    "If we instead perturb $A$ by 0.001, i.e., solve\n",
    "\n",
    "$$\n",
    "\\begin{bmatrix} 1.000 & 0.500 \\\\ 0.667 & 0.334 \\end{bmatrix}\n",
    "\\begin{bmatrix} x_1 \\\\ x_2 \\end{bmatrix}\n",
    "=\n",
    "\\begin{bmatrix} 1.500 \\\\ 1.000 \\end{bmatrix}\n",
    ",\n",
    "$$\n",
    "\n",
    "then this time the solution changes to $(x_1, x_2) = (2.000, -1.000)$."
   ]
  },
  {
   "cell_type": "code",
   "execution_count": 39,
   "metadata": {},
   "outputs": [
    {
     "data": {
      "text/plain": [
       "2-element Vector{Float64}:\n",
       "  2.0000000000001665\n",
       " -1.000000000000333"
      ]
     },
     "execution_count": 39,
     "metadata": {},
     "output_type": "execute_result"
    }
   ],
   "source": [
    "A1=[1.0 0.5; 0.667 0.334]; A1\\b"
   ]
  },
  {
   "cell_type": "markdown",
   "metadata": {},
   "source": [
    "In other words, an input perturbation of order $10^{-3}$ yield an output perturbation of order $10^0$. Thats 3 orders of magnutide of relative change!\n",
    "\n",
    "Floating point representation $[x]$ of a real number $x$ in a digital computer may introduce such input perturbation easily. The perturbation of output of a problem with respect to the input is called *conditioning*."
   ]
  },
  {
   "cell_type": "markdown",
   "metadata": {},
   "source": [
    "* Abstractly, a *problem* can be viewed as function $f: \\mathcal{X} \\to \\mathcal{Y}$ where $\\mathcal{X}$ is a normed vector space of data and $\\mathcal{Y}$ is a normed vector space of solutions.\n",
    "    - The problem of solving $Ax=b$ for fixed $b$ is $f: A \\mapsto A^{-1}b$ with $\\mathcal{X}=\\{M\\in\\mathbb{R}^{n\\times n}: M \\text{ is invertible} \\}$ and $\\mathcal{Y} = \\mathbb{R}^n$.\n",
    "    - The combination of a problem $f$ with a given data $x$ is called a *problem instance*, or simply problem unless no confusion occurs.\n",
    "    \n",
    "* A *well-conditioned* problem (instance) is one such that all small perturbations of $x$ lead to only small changes in $f(x)$.\n",
    "\n",
    "* An *ill-conditioned* problem is one such that some small perturbation of $x$ leads to a large change in $f(x)$.\n",
    "\n",
    "* The (relative) *condition number* $\\kappa=\\kappa(\\theta)$ of a problem is defined by\n",
    "$$\n",
    "    \\kappa = \\lim_{\\delta\\to 0}\\sup_{\\|\\delta \\theta\\|\\le \\delta}\\frac{\\|\\delta f\\|/\\|f(\\theta)\\|}{\\|\\delta \\theta\\|/\\|\\theta\\|}\n",
    "    ,\n",
    "$$\n",
    "where $\\delta f = f(\\theta + \\delta \\theta) - f(\\theta)$.\n",
    "\n",
    "* For the problem of solving $Ax=b$ for fixed $b$,  $f: A \\mapsto A^{-1}b$, it can be shown that the condition number of $f$ is\n",
    "$$\n",
    "    \\kappa = \\|A\\|\\|A^{-1}\\| =: \\kappa(A)\n",
    "    ,\n",
    "$$\n",
    "where $\\|A\\|$ is the matrix norm induced by vector norm $\\|\\cdot\\|$, i.e.,\n",
    "$$\n",
    "    \\|A\\| = \\sup_{x\\neq 0} \\frac{\\|Ax\\|}{\\|x\\|}.\n",
    "$$"
   ]
  },
  {
   "cell_type": "markdown",
   "metadata": {},
   "source": [
    "* To see this, recall $f(A) = A^{-1}b = x$. Since $b = Ax$ and the LHS is fixed, if a perturbation of the input $A \\to A + \\delta A$ yields a perturbation of the output $x \\to x + \\delta x$ or $f \\to f + \\delta f$, then we have\n",
    "$$\n",
    "    0 = (\\delta A) x + A \\delta x + (\\delta A) \\delta x \n",
    "$$\n",
    "or\n",
    "$$\n",
    "    \\delta x = -A^{-1}(\\delta A)x + o(\\Vert \\delta A \\Vert)\n",
    "    .\n",
    "$$\n",
    "That is, $\\delta f = f(A + \\delta A) - f(A) = - A^{-1}(\\delta A)A^{-1}b + o(\\Vert \\delta A \\Vert)$. Then\n",
    "$$\n",
    "\\begin{aligned}\n",
    "    \\kappa &= \\lim_{\\delta\\to 0}\\sup_{\\|\\delta A\\|\\le \\delta}\\frac{(\\Vert A^{-1}(\\delta A)A^{-1}b\\Vert + o(\\Vert \\delta A \\Vert)\\Vert) / \\Vert A^{-1}b \\Vert}{\\Vert \\delta A \\Vert / \\Vert A \\Vert}\n",
    "    =\n",
    "    \\lim_{\\delta\\to 0}\\sup_{\\|\\delta A\\|\\le \\delta} \\frac{\\Vert A^{-1}(\\delta A)A^{-1}b\\Vert / \\Vert A^{-1}b \\Vert}{\\Vert \\delta A \\Vert / \\Vert A \\Vert} + o(1)\n",
    "    \\\\\n",
    "    &=\n",
    "    \\lim_{\\delta\\to 0}\\sup_{\\|\\delta A\\|\\le \\delta} \\frac{\\Vert A^{-1}(\\delta A)A^{-1}b\\Vert / \\Vert A^{-1}b \\Vert}{\\Vert \\delta A \\Vert / \\Vert A \\Vert}\n",
    "    .\n",
    "\\end{aligned}\n",
    "$$\n",
    "From the property of a matrix norm (https://en.wikipedia.org/wiki/Matrix_norm),\n",
    "$$\n",
    "    \\frac{\\Vert A^{-1}(\\delta A)A^{-1}b\\Vert / \\Vert A^{-1}b \\Vert}{\\Vert \\delta A \\Vert / \\Vert A \\Vert}\n",
    "    \\le\n",
    "    \\frac{\\Vert A^{-1} \\Vert \\Vert \\delta A \\Vert \\Vert A^{-1}b\\Vert / \\Vert A^{-1}b \\Vert}{\\Vert \\delta A \\Vert / \\Vert A \\Vert}\n",
    "    = \\Vert A^{-1} \\Vert \\Vert A \\Vert\n",
    "    ,\n",
    "$$\n",
    "hence $\\kappa \\le \\Vert A^{-1} \\Vert \\Vert A \\Vert$.\n",
    "\\\n",
    "It can be shown that for any invertible $A$ and $b$, there exits a perturbation $\\delta A$ such that\n",
    "$$\n",
    "    \\frac{\\Vert A^{-1}(\\delta A)A^{-1}b\\Vert / \\Vert A^{-1}b \\Vert}{\\Vert \\delta A \\Vert / \\Vert A \\Vert}\n",
    "    = \\Vert A^{-1} \\Vert \\Vert A \\Vert\n",
    "    .\n",
    "$$\n",
    "It follows that $\\kappa \\ge \\Vert A^{-1} \\Vert \\Vert A \\Vert$."
   ]
  },
  {
   "cell_type": "markdown",
   "metadata": {},
   "source": [
    "* If Euclidean norm is used, then \n",
    "$$\n",
    "\\kappa(A) = \\sigma_{\\max}(A)/\\sigma_{\\min}(A),\n",
    "$$\n",
    "the ratio of the maximum and minimum singular values of $A$. "
   ]
  },
  {
   "cell_type": "markdown",
   "metadata": {},
   "source": [
    "In the above problem, the condition number is matrix $A$ (w.r.t. Euclidean norm) is"
   ]
  },
  {
   "cell_type": "code",
   "execution_count": 40,
   "metadata": {},
   "outputs": [
    {
     "data": {
      "text/plain": [
       "3611.5557231115513"
      ]
     },
     "execution_count": 40,
     "metadata": {},
     "output_type": "execute_result"
    }
   ],
   "source": [
    "using LinearAlgebra\n",
    "LinearAlgebra.cond(A)"
   ]
  },
  {
   "cell_type": "markdown",
   "metadata": {},
   "source": [
    "## Further readings\n",
    "\n",
    "* Section II.2, [Computational Statistics](https://link.springer.com/book/10.1007%2F978-0-387-98144-4) by James Gentle (2009).\n",
    "\n",
    "* Sections 1.5 and 2.2, [Applied Numerical Linear Algebra](https://doi.org/10.1137/1.9781611971446) by James W. Demmel (1997).\n",
    "\n",
    "* [What every computer scientist should know about floating-point arithmetic](https://www.itu.dk/~sestoft/bachelor/IEEE754_article.pdf) by David Goldberg (1991)."
   ]
  },
  {
   "cell_type": "markdown",
   "metadata": {},
   "source": [
    "## Acknowledgment\n",
    "\n",
    "Many parts of this lecture note is based on [Dr. Hua Zhou](http://hua-zhou.github.io)'s 2019 Spring Statistical Computing course notes available at <http://hua-zhou.github.io/teaching/biostatm280-2019spring/index.html>."
   ]
  }
 ],
 "metadata": {
  "kernelspec": {
   "display_name": "Julia 1.6.2",
   "language": "julia",
   "name": "julia-1.6"
  },
  "language_info": {
   "file_extension": ".jl",
   "mimetype": "application/julia",
   "name": "julia",
   "version": "1.6.2"
  },
  "toc": {
   "colors": {
    "hover_highlight": "#DAA520",
    "running_highlight": "#FF0000",
    "selected_highlight": "#FFD700"
   },
   "moveMenuLeft": true,
   "nav_menu": {
    "height": "250px",
    "width": "252px"
   },
   "navigate_menu": true,
   "number_sections": true,
   "sideBar": true,
   "skip_h1_title": true,
   "threshold": 4,
   "toc_cell": true,
   "toc_section_display": "block",
   "toc_window_display": true,
   "widenNotebook": false
  }
 },
 "nbformat": 4,
 "nbformat_minor": 4
}
