{
 "cells": [
  {
   "cell_type": "code",
   "execution_count": 1,
   "metadata": {},
   "outputs": [
    {
     "name": "stdout",
     "output_type": "stream",
     "text": [
      "Julia Version 1.6.2\n",
      "Commit 1b93d53fc4 (2021-07-14 15:36 UTC)\n",
      "Platform Info:\n",
      "  OS: macOS (x86_64-apple-darwin18.7.0)\n",
      "  CPU: Intel(R) Core(TM) i5-8279U CPU @ 2.40GHz\n",
      "  WORD_SIZE: 64\n",
      "  LIBM: libopenlibm\n",
      "  LLVM: libLLVM-11.0.1 (ORCJIT, skylake)\n"
     ]
    }
   ],
   "source": [
    "versioninfo()"
   ]
  },
  {
   "cell_type": "code",
   "execution_count": 2,
   "metadata": {
    "tags": []
   },
   "outputs": [
    {
     "name": "stderr",
     "output_type": "stream",
     "text": [
      "\u001b[32m\u001b[1m  Activating\u001b[22m\u001b[39m environment at `~/Dropbox/class/M1399.000200/2021/M1399_000200-2021fall/Project.toml`\n"
     ]
    },
    {
     "name": "stdout",
     "output_type": "stream",
     "text": [
      "\u001b[32m\u001b[1m      Status\u001b[22m\u001b[39m `~/Dropbox/class/M1399.000200/2021/M1399_000200-2021fall/Project.toml`\n",
      " \u001b[90m [7d9fca2a] \u001b[39mArpack v0.5.3\n",
      " \u001b[90m [6e4b80f9] \u001b[39mBenchmarkTools v1.1.4\n",
      " \u001b[90m [1e616198] \u001b[39mCOSMO v0.8.1\n",
      " \u001b[90m [f65535da] \u001b[39mConvex v0.14.13\n",
      " \u001b[90m [a93c6f00] \u001b[39mDataFrames v1.2.2\n",
      " \u001b[90m [31c24e10] \u001b[39mDistributions v0.24.18\n",
      " \u001b[90m [e2685f51] \u001b[39mECOS v0.12.3\n",
      " \u001b[90m [f6369f11] \u001b[39mForwardDiff v0.10.19\n",
      " \u001b[90m [28b8d3ca] \u001b[39mGR v0.58.1\n",
      " \u001b[90m [c91e804a] \u001b[39mGadfly v1.3.3\n",
      " \u001b[90m [bd48cda9] \u001b[39mGraphRecipes v0.5.7\n",
      " \u001b[90m [82e4d734] \u001b[39mImageIO v0.5.8\n",
      " \u001b[90m [6218d12a] \u001b[39mImageMagick v1.2.1\n",
      " \u001b[90m [916415d5] \u001b[39mImages v0.24.1\n",
      " \u001b[90m [b6b21f68] \u001b[39mIpopt v0.7.0\n",
      " \u001b[90m [42fd0dbc] \u001b[39mIterativeSolvers v0.9.1\n",
      " \u001b[90m [4076af6c] \u001b[39mJuMP v0.21.9\n",
      " \u001b[90m [b51810bb] \u001b[39mMatrixDepot v1.0.4\n",
      " \u001b[90m [1ec41992] \u001b[39mMosekTools v0.9.4\n",
      " \u001b[90m [76087f3c] \u001b[39mNLopt v0.6.3\n",
      " \u001b[90m [47be7bcc] \u001b[39mORCA v0.5.0\n",
      " \u001b[90m [a03496cd] \u001b[39mPlotlyBase v0.4.3\n",
      " \u001b[90m [f0f68f2c] \u001b[39mPlotlyJS v0.15.0\n",
      " \u001b[90m [91a5bcdd] \u001b[39mPlots v1.21.2\n",
      " \u001b[90m [438e738f] \u001b[39mPyCall v1.92.3\n",
      " \u001b[90m [d330b81b] \u001b[39mPyPlot v2.9.0\n",
      " \u001b[90m [dca85d43] \u001b[39mQuartzImageIO v0.7.3\n",
      " \u001b[90m [6f49c342] \u001b[39mRCall v0.13.12\n",
      " \u001b[90m [ce6b1742] \u001b[39mRDatasets v0.7.5\n",
      " \u001b[90m [c946c3f1] \u001b[39mSCS v0.7.1\n",
      " \u001b[90m [276daf66] \u001b[39mSpecialFunctions v1.6.1\n",
      " \u001b[90m [2913bbd2] \u001b[39mStatsBase v0.33.10\n",
      " \u001b[90m [b8865327] \u001b[39mUnicodePlots v2.0.1\n",
      " \u001b[90m [0f1e0344] \u001b[39mWebIO v0.8.15\n",
      " \u001b[90m [8f399da3] \u001b[39mLibdl\n",
      " \u001b[90m [2f01184e] \u001b[39mSparseArrays\n",
      " \u001b[90m [10745b16] \u001b[39mStatistics\n"
     ]
    }
   ],
   "source": [
    "using Pkg\n",
    "Pkg.activate(\"../..\")\n",
    "Pkg.status()"
   ]
  },
  {
   "cell_type": "markdown",
   "metadata": {},
   "source": [
    "# Computer arithmetics"
   ]
  },
  {
   "cell_type": "markdown",
   "metadata": {},
   "source": [
    "## Units of computer storage\n",
    "\n",
    "Humans use decimal digits (why?)\\\n",
    "Computers use binary digits (why?)\n",
    "\n",
    "* *Bit* = binary digit (coined by statistician [John Tukey](https://en.wikipedia.org/wiki/Bit#History)).  \n",
    "* *byte* = 8 bits.\n",
    "* KB = kilobyte = $10^3$ bytes; KiB = kibibyte = $2^{10}$ bytes.  \n",
    "* MB = megabyte = $10^6$ bytes; MiB = mebibyte = $2^{20}$ bytes.\n",
    "* GB = gigabyte = $10^9$ bytes. Typical RAM size.  \n",
    "* TB = terabyte = $10^{12}$ bytes. Typical hard drive size. Size of NYSE each trading session.    \n",
    "* PB = petabyte = $10^{15}$ bytes.  \n",
    "* EB = exabyte = $10^{18}$ bytes. Size of all healthcare data in 2011 is ~150 EB.    \n",
    "* ZB = zetabyte = $10^{21}$ bytes. \n",
    "\n",
    "Julia function `Base.summarysize` shows the amount of memory (in bytes) used by an object."
   ]
  },
  {
   "cell_type": "code",
   "execution_count": 3,
   "metadata": {},
   "outputs": [
    {
     "data": {
      "text/plain": [
       "80040"
      ]
     },
     "execution_count": 3,
     "metadata": {},
     "output_type": "execute_result"
    }
   ],
   "source": [
    "x = rand(100, 100)\n",
    "Base.summarysize(x)"
   ]
  },
  {
   "cell_type": "markdown",
   "metadata": {},
   "source": [
    "`varinfo()` function prints all variables in workspace and their sizes."
   ]
  },
  {
   "cell_type": "code",
   "execution_count": 4,
   "metadata": {},
   "outputs": [
    {
     "data": {
      "text/latex": [
       "\\begin{tabular}\n",
       "{l | r | l}\n",
       "name & size & summary \\\\\n",
       "\\hline\n",
       "Base &  & Module \\\\\n",
       "Core &  & Module \\\\\n",
       "Main &  & Module \\\\\n",
       "x & 78.164 KiB & 100×100 Matrix\\{Float64\\} \\\\\n",
       "\\end{tabular}\n"
      ],
      "text/markdown": [
       "| name |       size | summary                 |\n",
       "|:---- | ----------:|:----------------------- |\n",
       "| Base |            | Module                  |\n",
       "| Core |            | Module                  |\n",
       "| Main |            | Module                  |\n",
       "| x    | 78.164 KiB | 100×100 Matrix{Float64} |\n"
      ],
      "text/plain": [
       "  name       size summary                \n",
       "  –––– –––––––––– –––––––––––––––––––––––\n",
       "  Base            Module                 \n",
       "  Core            Module                 \n",
       "  Main            Module                 \n",
       "  x    78.164 KiB 100×100 Matrix{Float64}"
      ]
     },
     "execution_count": 4,
     "metadata": {},
     "output_type": "execute_result"
    }
   ],
   "source": [
    "varinfo() # similar to Matlab whos()"
   ]
  },
  {
   "cell_type": "markdown",
   "metadata": {},
   "source": [
    "## Storage of Characters\n",
    "\n",
    "* Plain text files are stored in the form of characters: `.jl`, `.r`, `.c`, `.cpp`, `.ipynb`, `.html`, `.tex`, ...  \n",
    "* ASCII (American Code for Information Interchange): 7 bits, only $2^7=128$ characters.  "
   ]
  },
  {
   "cell_type": "code",
   "execution_count": 5,
   "metadata": {},
   "outputs": [
    {
     "data": {
      "text/plain": [
       "128×2 Matrix{Any}:\n",
       "   0  '\\0'\n",
       "   1  '\\x01'\n",
       "   2  '\\x02'\n",
       "   3  '\\x03'\n",
       "   4  '\\x04'\n",
       "   5  '\\x05'\n",
       "   6  '\\x06'\n",
       "   7  '\\a'\n",
       "   8  '\\b'\n",
       "   9  '\\t'\n",
       "  10  '\\n'\n",
       "  11  '\\v'\n",
       "  12  '\\f'\n",
       "   ⋮  \n",
       " 116  't'\n",
       " 117  'u'\n",
       " 118  'v'\n",
       " 119  'w'\n",
       " 120  'x'\n",
       " 121  'y'\n",
       " 122  'z'\n",
       " 123  '{'\n",
       " 124  '|'\n",
       " 125  '}'\n",
       " 126  '~'\n",
       " 127  '\\x7f'"
      ]
     },
     "execution_count": 5,
     "metadata": {},
     "output_type": "execute_result"
    }
   ],
   "source": [
    "# integers 0, 1, ..., 127 and corresponding ascii character\n",
    "[0:127 Char.(0:127)]"
   ]
  },
  {
   "cell_type": "markdown",
   "metadata": {},
   "source": [
    "* Extended ASCII: 8 bits, $2^8=256$ characters.  "
   ]
  },
  {
   "cell_type": "code",
   "execution_count": 6,
   "metadata": {},
   "outputs": [
    {
     "data": {
      "text/plain": [
       "128×2 Matrix{Any}:\n",
       " 128  '\\u80'\n",
       " 129  '\\u81'\n",
       " 130  '\\u82'\n",
       " 131  '\\u83'\n",
       " 132  '\\u84'\n",
       " 133  '\\u85'\n",
       " 134  '\\u86'\n",
       " 135  '\\u87'\n",
       " 136  '\\u88'\n",
       " 137  '\\u89'\n",
       " 138  '\\u8a'\n",
       " 139  '\\u8b'\n",
       " 140  '\\u8c'\n",
       "   ⋮  \n",
       " 244  'ô'\n",
       " 245  'õ'\n",
       " 246  'ö'\n",
       " 247  '÷'\n",
       " 248  'ø'\n",
       " 249  'ù'\n",
       " 250  'ú'\n",
       " 251  'û'\n",
       " 252  'ü'\n",
       " 253  'ý'\n",
       " 254  'þ'\n",
       " 255  'ÿ'"
      ]
     },
     "execution_count": 6,
     "metadata": {},
     "output_type": "execute_result"
    }
   ],
   "source": [
    "# integers 128, 129, ..., 255 and corresponding extended ascii character\n",
    "# show(STDOUT, \"text/plain\", [128:255 Char.(128:255)])\n",
    "[128:255 Char.(128:255)]"
   ]
  },
  {
   "cell_type": "markdown",
   "metadata": {},
   "source": [
    "* Unicode: UTF-8, UTF-16 and UTF-32 support many more characters including foreign characters; last 7 digits conform to ASCII. \n",
    "\n",
    "* [UTF-8](https://en.wikipedia.org/wiki/UTF-8) is the current dominant character encoding on internet.  \n",
    "\n",
    "<img src=\"./unicode.png\" width=\"800\" align=\"center\"/>\n",
    "\n",
    "Source: [Google Blog](https://googleblog.blogspot.com/2012/02/unicode-over-60-percent-of-web.html)\n",
    "\n",
    "* Julia supports the full range of UTF-8 characters. You can type many Unicode math symbols by typing the backslashed LaTeX symbol name followed by tab. "
   ]
  },
  {
   "cell_type": "code",
   "execution_count": 7,
   "metadata": {},
   "outputs": [
    {
     "data": {
      "text/plain": [
       "0.0"
      ]
     },
     "execution_count": 7,
     "metadata": {},
     "output_type": "execute_result"
    }
   ],
   "source": [
    "# \\beta-<tab>\n",
    "β = 0.0\n",
    "# \\beta-<tab>-\\hat-<tab>\n",
    "β̂ = 0.0"
   ]
  },
  {
   "cell_type": "markdown",
   "metadata": {},
   "source": [
    "* For a table of unicode symbols that can be entered via tab completion of LaTeX-like abbreviations: <https://docs.julialang.org/en/v1.1/manual/unicode-input/#Unicode-Input-1>"
   ]
  },
  {
   "cell_type": "markdown",
   "metadata": {},
   "source": [
    "## Integers: fixed-point number system\n",
    "\n",
    "* Fixed-point number system is a computer model for integers $\\mathbb{Z}$. \n",
    "    - **Remember** that computer memory is finite whereas the cardinality of $\\mathbb{Z}$ is (countably) infinite.\n",
    "    - *Any* representation of numbers in computer *has to be* an approximation.\n",
    "\n",
    "* The number $M$ of bits and method of representing negative numbers vary from system to system. \n",
    "    - The `integer` type in R has $M=32$ (packages such as ‘bit64’support 64 bit integers). \n",
    "        + <https://www.r-bloggers.com/r-in-a-64-bit-world/>\n",
    "    - C has (`unsigned`) `char`, `int`, `short`, `long` (and `long long`), whose sizes depend on the machine.\n",
    "    - Matlab has `(u)int8`, `(u)int16`, `(u)int32`, `(u)int64`.  \n",
    "\n",
    "* Julia has even more integer types: "
   ]
  },
  {
   "cell_type": "code",
   "execution_count": 8,
   "metadata": {},
   "outputs": [
    {
     "data": {
      "image/svg+xml": [
       "<?xml version=\"1.0\" encoding=\"utf-8\"?>\n",
       "<svg xmlns=\"http://www.w3.org/2000/svg\" xmlns:xlink=\"http://www.w3.org/1999/xlink\" width=\"600\" height=\"400\" viewBox=\"0 0 2400 1600\">\n",
       "<defs>\n",
       "  <clipPath id=\"clip970\">\n",
       "    <rect x=\"0\" y=\"0\" width=\"2400\" height=\"1600\"/>\n",
       "  </clipPath>\n",
       "</defs>\n",
       "<path clip-path=\"url(#clip970)\" d=\"\n",
       "M0 1600 L2400 1600 L2400 0 L0 0  Z\n",
       "  \" fill=\"#ffffff\" fill-rule=\"evenodd\" fill-opacity=\"1\"/>\n",
       "<defs>\n",
       "  <clipPath id=\"clip971\">\n",
       "    <rect x=\"480\" y=\"0\" width=\"1681\" height=\"1600\"/>\n",
       "  </clipPath>\n",
       "</defs>\n",
       "<path clip-path=\"url(#clip970)\" d=\"\n",
       "M447.244 1552.76 L1952.76 1552.76 L1952.76 47.2441 L447.244 47.2441  Z\n",
       "  \" fill=\"#ffffff\" fill-rule=\"evenodd\" fill-opacity=\"1\"/>\n",
       "<defs>\n",
       "  <clipPath id=\"clip972\">\n",
       "    <rect x=\"447\" y=\"47\" width=\"1507\" height=\"1507\"/>\n",
       "  </clipPath>\n",
       "</defs>\n",
       "<polyline clip-path=\"url(#clip972)\" style=\"stroke:#000000; stroke-linecap:butt; stroke-linejoin:round; stroke-width:4; stroke-opacity:1; fill:none\" points=\"\n",
       "  1287.23,262.317 1286.92,268.58 1286.03,274.843 1284.6,281.107 1282.67,287.37 1280.29,293.633 1277.49,299.897 1274.33,306.161 1270.84,312.424 1267.08,318.688 \n",
       "  1263.07,324.952 1258.87,331.215 1254.52,337.479 1250.06,343.743 1245.53,350.007 1240.99,356.271 1236.46,362.534 1232,368.798 1227.65,375.062 1223.45,381.326 \n",
       "  1219.44,387.59 1215.68,393.853 1212.19,400.117 1209.03,406.381 1206.23,412.644 1203.85,418.907 1201.92,425.171 1200.49,431.434 1199.6,437.697 1199.29,443.96 \n",
       "  \n",
       "  \"/>\n",
       "<polyline clip-path=\"url(#clip972)\" style=\"stroke:#000000; stroke-linecap:butt; stroke-linejoin:round; stroke-width:4; stroke-opacity:1; fill:none\" points=\"\n",
       "  1199.29,443.96 1199.33,450.413 1199.44,457.001 1199.61,463.713 1199.85,470.54 1200.13,477.472 1200.47,484.499 1200.86,491.611 1201.28,498.797 1201.73,506.049 \n",
       "  1202.22,513.355 1202.73,520.706 1203.25,528.092 1203.79,535.504 1204.34,542.93 1204.89,550.361 1205.44,557.787 1205.98,565.198 1206.51,572.584 1207.02,579.936 \n",
       "  1207.5,587.242 1207.96,594.493 1208.38,601.68 1208.76,608.792 1209.1,615.818 1209.39,622.75 1209.62,629.578 1209.8,636.29 1209.9,642.877 1209.94,649.33 \n",
       "  \n",
       "  \"/>\n",
       "<polyline clip-path=\"url(#clip972)\" style=\"stroke:#000000; stroke-linecap:butt; stroke-linejoin:round; stroke-width:4; stroke-opacity:1; fill:none\" points=\"\n",
       "  1209.94,649.33 1209.95,655.069 1209.96,660.928 1209.99,666.901 1210.02,672.976 1210.06,679.146 1210.11,685.402 1210.16,691.734 1210.22,698.133 1210.28,704.591 \n",
       "  1210.35,711.098 1210.42,717.646 1210.49,724.225 1210.57,730.827 1210.64,737.442 1210.72,744.062 1210.79,750.677 1210.87,757.279 1210.94,763.858 1211.01,770.406 \n",
       "  1211.08,776.913 1211.14,783.371 1211.2,789.77 1211.26,796.102 1211.3,802.358 1211.34,808.528 1211.37,814.603 1211.4,820.576 1211.41,826.435 1211.42,832.174 \n",
       "  \n",
       "  \"/>\n",
       "<polyline clip-path=\"url(#clip972)\" style=\"stroke:#000000; stroke-linecap:butt; stroke-linejoin:round; stroke-width:4; stroke-opacity:1; fill:none\" points=\"\n",
       "  1211.42,832.174 1211.43,841.588 1211.45,851.202 1211.5,861.001 1211.55,870.969 1211.62,881.091 1211.7,891.355 1211.79,901.743 1211.9,912.242 1212.01,922.837 \n",
       "  1212.12,933.514 1212.25,944.256 1212.37,955.05 1212.5,965.882 1212.63,976.735 1212.77,987.596 1212.9,998.449 1213.03,1009.28 1213.15,1020.07 1213.28,1030.82 \n",
       "  1213.39,1041.49 1213.5,1052.09 1213.61,1062.59 1213.7,1072.98 1213.78,1083.24 1213.85,1093.36 1213.9,1103.33 1213.95,1113.13 1213.97,1122.74 1213.98,1132.16 \n",
       "  \n",
       "  \"/>\n",
       "<polyline clip-path=\"url(#clip972)\" style=\"stroke:#000000; stroke-linecap:butt; stroke-linejoin:round; stroke-width:4; stroke-opacity:1; fill:none\" points=\"\n",
       "  1211.42,832.174 1211.15,839.245 1210.37,846.377 1209.11,853.565 1207.41,860.805 1205.31,868.091 1202.85,875.419 1200.07,882.786 1197,890.186 1193.69,897.615 \n",
       "  1190.16,905.068 1186.46,912.542 1182.63,920.031 1178.71,927.532 1174.73,935.039 1170.73,942.548 1166.74,950.056 1162.82,957.556 1158.99,965.046 1155.29,972.519 \n",
       "  1151.77,979.973 1148.45,987.402 1145.38,994.802 1142.6,1002.17 1140.14,1009.5 1138.04,1016.78 1136.35,1024.02 1135.09,1031.21 1134.3,1038.34 1134.03,1045.41 \n",
       "  \n",
       "  \"/>\n",
       "<polyline clip-path=\"url(#clip972)\" style=\"stroke:#000000; stroke-linecap:butt; stroke-linejoin:round; stroke-width:4; stroke-opacity:1; fill:none\" points=\"\n",
       "  1211.42,832.174 1211.77,841.168 1212.79,850.232 1214.43,859.363 1216.64,868.554 1219.38,877.8 1222.58,887.096 1226.2,896.436 1230.2,905.817 1234.52,915.231 \n",
       "  1239.11,924.674 1243.93,934.141 1248.92,943.626 1254.03,953.124 1259.22,962.631 1264.43,972.14 1269.62,981.646 1274.73,991.144 1279.72,1000.63 1284.53,1010.1 \n",
       "  1289.12,1019.54 1293.44,1028.95 1297.44,1038.33 1301.07,1047.67 1304.27,1056.97 1307,1066.22 1309.21,1075.41 1310.85,1084.54 1311.87,1093.6 1312.23,1102.6 \n",
       "  \n",
       "  \"/>\n",
       "<polyline clip-path=\"url(#clip972)\" style=\"stroke:#000000; stroke-linecap:butt; stroke-linejoin:round; stroke-width:4; stroke-opacity:1; fill:none\" points=\"\n",
       "  1211.42,832.174 1210.46,843.705 1207.68,854.711 1203.21,865.231 1197.19,875.304 1189.75,884.969 1181.03,894.265 1171.16,903.23 1160.27,911.903 1148.51,920.324 \n",
       "  1136.01,928.532 1122.89,936.564 1109.31,944.46 1095.39,952.259 1081.26,960 1067.07,967.721 1052.94,975.461 1039.02,983.26 1025.43,991.157 1012.32,999.189 \n",
       "  999.815,1007.4 988.053,1015.82 977.168,1024.49 967.297,1033.46 958.574,1042.75 951.134,1052.42 945.113,1062.49 940.644,1073.01 937.864,1084.02 936.907,1095.55 \n",
       "  \n",
       "  \"/>\n",
       "<polyline clip-path=\"url(#clip972)\" style=\"stroke:#000000; stroke-linecap:butt; stroke-linejoin:round; stroke-width:4; stroke-opacity:1; fill:none\" points=\"\n",
       "  936.907,1095.55 936.627,1102.65 935.813,1109.81 934.505,1117.01 932.743,1124.26 930.565,1131.56 928.012,1138.89 925.122,1146.26 921.936,1153.66 918.493,1161.08 \n",
       "  914.833,1168.53 910.994,1175.99 907.018,1183.47 902.942,1190.95 898.807,1198.45 894.653,1205.94 890.518,1213.44 886.442,1220.92 882.465,1228.4 878.627,1235.87 \n",
       "  874.967,1243.31 871.524,1250.73 868.338,1258.13 865.448,1265.5 862.895,1272.83 860.717,1280.13 858.954,1287.38 857.646,1294.59 856.833,1301.74 856.553,1308.84 \n",
       "  \n",
       "  \"/>\n",
       "<polyline clip-path=\"url(#clip972)\" style=\"stroke:#000000; stroke-linecap:butt; stroke-linejoin:round; stroke-width:4; stroke-opacity:1; fill:none\" points=\"\n",
       "  936.907,1095.55 936.99,1101.73 937.229,1108.03 937.614,1114.45 938.133,1120.96 938.775,1127.58 939.526,1134.27 940.377,1141.05 941.315,1147.89 942.329,1154.79 \n",
       "  943.407,1161.74 944.537,1168.73 945.708,1175.76 946.908,1182.8 948.125,1189.86 949.349,1196.92 950.566,1203.98 951.766,1211.03 952.937,1218.05 954.067,1225.04 \n",
       "  955.145,1231.99 956.159,1238.89 957.097,1245.73 957.948,1252.51 958.699,1259.2 959.341,1265.82 959.86,1272.34 960.245,1278.75 960.484,1285.05 960.567,1291.23 \n",
       "  \n",
       "  \"/>\n",
       "<polyline clip-path=\"url(#clip972)\" style=\"stroke:#000000; stroke-linecap:butt; stroke-linejoin:round; stroke-width:4; stroke-opacity:1; fill:none\" points=\"\n",
       "  936.907,1095.55 935.95,1102.19 933.169,1108.39 928.7,1114.18 922.676,1119.59 915.234,1124.66 906.509,1129.42 896.635,1133.91 885.747,1138.15 873.982,1142.17 \n",
       "  861.474,1146.02 848.357,1149.72 834.768,1153.3 820.841,1156.8 806.711,1160.26 792.514,1163.7 778.384,1167.15 764.457,1170.65 750.867,1174.24 737.751,1177.94 \n",
       "  725.242,1181.78 713.477,1185.81 702.59,1190.05 692.716,1194.53 683.99,1199.29 676.548,1204.36 670.525,1209.78 666.055,1215.57 663.274,1221.77 662.317,1228.41 \n",
       "  \n",
       "  \"/>\n",
       "<polyline clip-path=\"url(#clip972)\" style=\"stroke:#000000; stroke-linecap:butt; stroke-linejoin:round; stroke-width:4; stroke-opacity:1; fill:none\" points=\"\n",
       "  936.907,1095.55 936.17,1103.02 934.026,1109.99 930.581,1116.51 925.938,1122.6 920.202,1128.31 913.477,1133.67 905.866,1138.71 897.475,1143.48 888.406,1148.01 \n",
       "  878.765,1152.34 868.656,1156.5 858.181,1160.54 847.447,1164.48 836.556,1168.36 825.613,1172.23 814.722,1176.12 803.988,1180.06 793.514,1184.09 783.404,1188.26 \n",
       "  773.763,1192.58 764.694,1197.11 756.303,1201.88 748.692,1206.93 741.967,1212.28 736.231,1217.99 731.588,1224.08 728.143,1230.6 726,1237.58 725.262,1245.05 \n",
       "  \n",
       "  \"/>\n",
       "<polyline clip-path=\"url(#clip972)\" style=\"stroke:#000000; stroke-linecap:butt; stroke-linejoin:round; stroke-width:4; stroke-opacity:1; fill:none\" points=\"\n",
       "  936.907,1095.55 936.405,1101.3 934.947,1106.74 932.603,1111.9 929.444,1116.8 925.541,1121.45 920.965,1125.88 915.786,1130.12 910.077,1134.19 903.906,1138.1 \n",
       "  897.346,1141.9 890.467,1145.58 883.341,1149.19 876.037,1152.74 868.626,1156.26 861.18,1159.76 853.77,1163.28 846.466,1166.83 839.339,1170.44 832.46,1174.13 \n",
       "  825.9,1177.92 819.73,1181.83 814.02,1185.9 808.842,1190.14 804.266,1194.57 800.363,1199.23 797.204,1204.12 794.86,1209.28 793.401,1214.72 792.899,1220.47 \n",
       "  \n",
       "  \"/>\n",
       "<polyline clip-path=\"url(#clip972)\" style=\"stroke:#000000; stroke-linecap:butt; stroke-linejoin:round; stroke-width:4; stroke-opacity:1; fill:none\" points=\"\n",
       "  936.907,1095.55 937.32,1101.94 938.519,1108.22 940.446,1114.4 943.043,1120.49 946.251,1126.5 950.013,1132.43 954.27,1138.29 958.963,1144.09 964.036,1149.84 \n",
       "  969.429,1155.55 975.083,1161.22 980.942,1166.86 986.946,1172.48 993.038,1178.09 999.159,1183.7 1005.25,1189.31 1011.25,1194.93 1017.11,1200.57 1022.77,1206.24 \n",
       "  1028.16,1211.95 1033.23,1217.7 1037.93,1223.5 1042.18,1229.36 1045.95,1235.29 1049.15,1241.3 1051.75,1247.39 1053.68,1253.57 1054.88,1259.85 1055.29,1266.24 \n",
       "  \n",
       "  \"/>\n",
       "<polyline clip-path=\"url(#clip972)\" style=\"stroke:#000000; stroke-linecap:butt; stroke-linejoin:round; stroke-width:4; stroke-opacity:1; fill:none\" points=\"\n",
       "  1211.42,832.174 1212.39,843.514 1215.2,854.287 1219.72,864.534 1225.81,874.298 1233.34,883.62 1242.16,892.542 1252.14,901.107 1263.15,909.357 1275.05,917.333 \n",
       "  1287.7,925.078 1300.97,932.634 1314.71,940.043 1328.79,947.347 1343.08,954.587 1357.44,961.807 1371.73,969.047 1385.81,976.351 1399.55,983.759 1412.82,991.315 \n",
       "  1425.47,999.06 1437.36,1007.04 1448.37,1015.29 1458.36,1023.85 1467.18,1032.77 1474.71,1042.1 1480.8,1051.86 1485.32,1062.11 1488.13,1072.88 1489.1,1084.22 \n",
       "  \n",
       "  \"/>\n",
       "<polyline clip-path=\"url(#clip972)\" style=\"stroke:#000000; stroke-linecap:butt; stroke-linejoin:round; stroke-width:4; stroke-opacity:1; fill:none\" points=\"\n",
       "  1489.1,1084.22 1489.72,1091.71 1491.52,1098.87 1494.41,1105.72 1498.3,1112.28 1503.11,1118.58 1508.75,1124.65 1515.13,1130.5 1522.17,1136.17 1529.78,1141.68 \n",
       "  1537.86,1147.05 1546.34,1152.3 1555.13,1157.48 1564.13,1162.58 1573.27,1167.66 1582.44,1172.72 1591.58,1177.79 1600.58,1182.9 1609.37,1188.07 1617.85,1193.33 \n",
       "  1625.93,1198.7 1633.54,1204.2 1640.58,1209.87 1646.96,1215.72 1652.6,1221.79 1657.41,1228.09 1661.3,1234.65 1664.19,1241.5 1665.99,1248.66 1666.61,1256.15 \n",
       "  \n",
       "  \"/>\n",
       "<polyline clip-path=\"url(#clip972)\" style=\"stroke:#000000; stroke-linecap:butt; stroke-linejoin:round; stroke-width:4; stroke-opacity:1; fill:none\" points=\"\n",
       "  1489.1,1084.22 1489.47,1092 1490.54,1099.79 1492.25,1107.59 1494.57,1115.41 1497.42,1123.23 1500.78,1131.06 1504.57,1138.9 1508.75,1146.74 1513.27,1154.59 \n",
       "  1518.07,1162.44 1523.11,1170.3 1528.33,1178.16 1533.68,1186.02 1539.11,1193.89 1544.56,1201.75 1549.99,1209.62 1555.33,1217.48 1560.55,1225.34 1565.59,1233.2 \n",
       "  1570.4,1241.06 1574.92,1248.91 1579.1,1256.75 1582.89,1264.59 1586.24,1272.42 1589.1,1280.24 1591.41,1288.05 1593.13,1295.85 1594.2,1303.64 1594.56,1311.42 \n",
       "  \n",
       "  \"/>\n",
       "<polyline clip-path=\"url(#clip972)\" style=\"stroke:#000000; stroke-linecap:butt; stroke-linejoin:round; stroke-width:4; stroke-opacity:1; fill:none\" points=\"\n",
       "  1489.1,1084.22 1489.97,1093.22 1492.48,1101.62 1496.53,1109.47 1501.98,1116.81 1508.72,1123.68 1516.62,1130.14 1525.56,1136.21 1535.41,1141.96 1546.07,1147.41 \n",
       "  1557.39,1152.62 1569.26,1157.64 1581.57,1162.5 1594.17,1167.24 1606.96,1171.92 1619.82,1176.58 1632.61,1181.26 1645.22,1186.01 1657.52,1190.87 1669.39,1195.88 \n",
       "  1680.72,1201.09 1691.37,1206.55 1701.22,1212.29 1710.16,1218.37 1718.06,1224.82 1724.8,1231.7 1730.25,1239.04 1734.3,1246.88 1736.82,1255.29 1737.68,1264.29 \n",
       "  \n",
       "  \"/>\n",
       "<polyline clip-path=\"url(#clip972)\" style=\"stroke:#000000; stroke-linecap:butt; stroke-linejoin:round; stroke-width:4; stroke-opacity:1; fill:none\" points=\"\n",
       "  1489.1,1084.22 1488.81,1090.88 1487.98,1097.58 1486.64,1104.3 1484.83,1111.06 1482.6,1117.83 1479.98,1124.64 1477.02,1131.46 1473.75,1138.3 1470.22,1145.16 \n",
       "  1466.47,1152.02 1462.53,1158.91 1458.45,1165.79 1454.27,1172.69 1450.03,1179.59 1445.77,1186.49 1441.53,1193.39 1437.36,1200.28 1433.28,1207.17 1429.34,1214.05 \n",
       "  1425.59,1220.92 1422.06,1227.78 1418.79,1234.62 1415.83,1241.44 1413.21,1248.24 1410.98,1255.02 1409.17,1261.77 1407.83,1268.5 1407,1275.19 1406.71,1281.86 \n",
       "  \n",
       "  \"/>\n",
       "<polyline clip-path=\"url(#clip972)\" style=\"stroke:#000000; stroke-linecap:butt; stroke-linejoin:round; stroke-width:4; stroke-opacity:1; fill:none\" points=\"\n",
       "  1489.1,1084.22 1489.1,1092.17 1489.1,1100.3 1489.11,1108.58 1489.12,1117 1489.13,1125.55 1489.14,1134.22 1489.15,1143 1489.17,1151.87 1489.19,1160.82 \n",
       "  1489.2,1169.84 1489.22,1178.92 1489.24,1188.04 1489.26,1197.19 1489.28,1206.36 1489.3,1215.54 1489.32,1224.71 1489.34,1233.86 1489.36,1242.98 1489.37,1252.06 \n",
       "  1489.39,1261.08 1489.41,1270.03 1489.42,1278.9 1489.44,1287.68 1489.45,1296.35 1489.46,1304.9 1489.47,1313.33 1489.47,1321.61 1489.48,1329.73 1489.48,1337.68 \n",
       "  \n",
       "  \"/>\n",
       "<path clip-path=\"url(#clip972)\" d=\"\n",
       "M1305.87 262.317 L1296.55 246.169 L1277.9 246.169 L1268.58 262.317 L1277.9 278.465 L1296.55 278.465 L1305.87 262.317 L1305.87 262.317  Z\n",
       "  \" fill=\"#009af9\" fill-rule=\"evenodd\" fill-opacity=\"1\"/>\n",
       "<polyline clip-path=\"url(#clip972)\" style=\"stroke:#000000; stroke-linecap:butt; stroke-linejoin:round; stroke-width:4; stroke-opacity:1; fill:none\" points=\"\n",
       "  1305.87,262.317 1296.55,246.169 1277.9,246.169 1268.58,262.317 1277.9,278.465 1296.55,278.465 1305.87,262.317 \n",
       "  \"/>\n",
       "<path clip-path=\"url(#clip972)\" d=\"\n",
       "M1231.76 443.96 L1215.53 415.845 L1183.06 415.845 L1166.83 443.96 L1183.06 472.075 L1215.53 472.075 L1231.76 443.96 L1231.76 443.96  Z\n",
       "  \" fill=\"#009af9\" fill-rule=\"evenodd\" fill-opacity=\"1\"/>\n",
       "<polyline clip-path=\"url(#clip972)\" style=\"stroke:#000000; stroke-linecap:butt; stroke-linejoin:round; stroke-width:4; stroke-opacity:1; fill:none\" points=\"\n",
       "  1231.76,443.96 1215.53,415.845 1183.06,415.845 1166.83,443.96 1183.06,472.075 1215.53,472.075 1231.76,443.96 \n",
       "  \"/>\n",
       "<path clip-path=\"url(#clip972)\" d=\"\n",
       "M1233.41 649.33 L1221.68 629.004 L1198.21 629.004 L1186.47 649.33 L1198.21 669.657 L1221.68 669.657 L1233.41 649.33 L1233.41 649.33  Z\n",
       "  \" fill=\"#009af9\" fill-rule=\"evenodd\" fill-opacity=\"1\"/>\n",
       "<polyline clip-path=\"url(#clip972)\" style=\"stroke:#000000; stroke-linecap:butt; stroke-linejoin:round; stroke-width:4; stroke-opacity:1; fill:none\" points=\"\n",
       "  1233.41,649.33 1221.68,629.004 1198.21,629.004 1186.47,649.33 1198.21,669.657 1221.68,669.657 1233.41,649.33 \n",
       "  \"/>\n",
       "<path clip-path=\"url(#clip972)\" d=\"\n",
       "M1248.14 832.174 L1229.78 800.369 L1193.06 800.369 L1174.69 832.174 L1193.06 863.979 L1229.78 863.979 L1248.14 832.174 L1248.14 832.174  Z\n",
       "  \" fill=\"#009af9\" fill-rule=\"evenodd\" fill-opacity=\"1\"/>\n",
       "<polyline clip-path=\"url(#clip972)\" style=\"stroke:#000000; stroke-linecap:butt; stroke-linejoin:round; stroke-width:4; stroke-opacity:1; fill:none\" points=\"\n",
       "  1248.14,832.174 1229.78,800.369 1193.06,800.369 1174.69,832.174 1193.06,863.979 1229.78,863.979 1248.14,832.174 \n",
       "  \"/>\n",
       "<path clip-path=\"url(#clip972)\" d=\"\n",
       "M1237.45 1132.16 L1225.72 1111.83 L1202.25 1111.83 L1190.51 1132.16 L1202.25 1152.48 L1225.72 1152.48 L1237.45 1132.16 L1237.45 1132.16  Z\n",
       "  \" fill=\"#009af9\" fill-rule=\"evenodd\" fill-opacity=\"1\"/>\n",
       "<polyline clip-path=\"url(#clip972)\" style=\"stroke:#000000; stroke-linecap:butt; stroke-linejoin:round; stroke-width:4; stroke-opacity:1; fill:none\" points=\"\n",
       "  1237.45,1132.16 1225.72,1111.83 1202.25,1111.83 1190.51,1132.16 1202.25,1152.48 1225.72,1152.48 1237.45,1132.16 \n",
       "  \"/>\n",
       "<path clip-path=\"url(#clip972)\" d=\"\n",
       "M1194.3 1045.41 L1164.17 993.225 L1103.9 993.225 L1073.77 1045.41 L1103.9 1097.6 L1164.17 1097.6 L1194.3 1045.41 L1194.3 1045.41  Z\n",
       "  \" fill=\"#009af9\" fill-rule=\"evenodd\" fill-opacity=\"1\"/>\n",
       "<polyline clip-path=\"url(#clip972)\" style=\"stroke:#000000; stroke-linecap:butt; stroke-linejoin:round; stroke-width:4; stroke-opacity:1; fill:none\" points=\"\n",
       "  1194.3,1045.41 1164.17,993.225 1103.9,993.225 1073.77,1045.41 1103.9,1097.6 1164.17,1097.6 1194.3,1045.41 \n",
       "  \"/>\n",
       "<path clip-path=\"url(#clip972)\" d=\"\n",
       "M1372.49 1102.6 L1342.36 1050.41 L1282.09 1050.41 L1251.96 1102.6 L1282.09 1154.79 L1342.36 1154.79 L1372.49 1102.6 L1372.49 1102.6  Z\n",
       "  \" fill=\"#009af9\" fill-rule=\"evenodd\" fill-opacity=\"1\"/>\n",
       "<polyline clip-path=\"url(#clip972)\" style=\"stroke:#000000; stroke-linecap:butt; stroke-linejoin:round; stroke-width:4; stroke-opacity:1; fill:none\" points=\"\n",
       "  1372.49,1102.6 1342.36,1050.41 1282.09,1050.41 1251.96,1102.6 1282.09,1154.79 1342.36,1154.79 1372.49,1102.6 \n",
       "  \"/>\n",
       "<path clip-path=\"url(#clip972)\" d=\"\n",
       "M969.372 1095.55 L953.14 1067.43 L920.675 1067.43 L904.443 1095.55 L920.675 1123.66 L953.14 1123.66 L969.372 1095.55 L969.372 1095.55  Z\n",
       "  \" fill=\"#009af9\" fill-rule=\"evenodd\" fill-opacity=\"1\"/>\n",
       "<polyline clip-path=\"url(#clip972)\" style=\"stroke:#000000; stroke-linecap:butt; stroke-linejoin:round; stroke-width:4; stroke-opacity:1; fill:none\" points=\"\n",
       "  969.372,1095.55 953.14,1067.43 920.675,1067.43 904.443,1095.55 920.675,1123.66 953.14,1123.66 969.372,1095.55 \n",
       "  \"/>\n",
       "<path clip-path=\"url(#clip972)\" d=\"\n",
       "M889.017 1308.84 L872.785 1280.73 L840.32 1280.73 L824.088 1308.84 L840.32 1336.96 L872.785 1336.96 L889.017 1308.84 L889.017 1308.84  Z\n",
       "  \" fill=\"#009af9\" fill-rule=\"evenodd\" fill-opacity=\"1\"/>\n",
       "<polyline clip-path=\"url(#clip972)\" style=\"stroke:#000000; stroke-linecap:butt; stroke-linejoin:round; stroke-width:4; stroke-opacity:1; fill:none\" points=\"\n",
       "  889.017,1308.84 872.785,1280.73 840.32,1280.73 824.088,1308.84 840.32,1336.96 872.785,1336.96 889.017,1308.84 \n",
       "  \"/>\n",
       "<path clip-path=\"url(#clip972)\" d=\"\n",
       "M993.031 1291.23 L976.799 1263.12 L944.335 1263.12 L928.102 1291.23 L944.335 1319.35 L976.799 1319.35 L993.031 1291.23 L993.031 1291.23  Z\n",
       "  \" fill=\"#009af9\" fill-rule=\"evenodd\" fill-opacity=\"1\"/>\n",
       "<polyline clip-path=\"url(#clip972)\" style=\"stroke:#000000; stroke-linecap:butt; stroke-linejoin:round; stroke-width:4; stroke-opacity:1; fill:none\" points=\"\n",
       "  993.031,1291.23 976.799,1263.12 944.335,1263.12 928.102,1291.23 944.335,1319.35 976.799,1319.35 993.031,1291.23 \n",
       "  \"/>\n",
       "<path clip-path=\"url(#clip972)\" d=\"\n",
       "M690.376 1228.41 L676.346 1204.11 L648.288 1204.11 L634.259 1228.41 L648.288 1252.71 L676.346 1252.71 L690.376 1228.41 L690.376 1228.41  Z\n",
       "  \" fill=\"#009af9\" fill-rule=\"evenodd\" fill-opacity=\"1\"/>\n",
       "<polyline clip-path=\"url(#clip972)\" style=\"stroke:#000000; stroke-linecap:butt; stroke-linejoin:round; stroke-width:4; stroke-opacity:1; fill:none\" points=\"\n",
       "  690.376,1228.41 676.346,1204.11 648.288,1204.11 634.259,1228.41 648.288,1252.71 676.346,1252.71 690.376,1228.41 \n",
       "  \"/>\n",
       "<path clip-path=\"url(#clip972)\" d=\"\n",
       "M753.32 1245.05 L739.291 1220.75 L711.233 1220.75 L697.203 1245.05 L711.233 1269.35 L739.291 1269.35 L753.32 1245.05 L753.32 1245.05  Z\n",
       "  \" fill=\"#009af9\" fill-rule=\"evenodd\" fill-opacity=\"1\"/>\n",
       "<polyline clip-path=\"url(#clip972)\" style=\"stroke:#000000; stroke-linecap:butt; stroke-linejoin:round; stroke-width:4; stroke-opacity:1; fill:none\" points=\"\n",
       "  753.32,1245.05 739.291,1220.75 711.233,1220.75 697.203,1245.05 711.233,1269.35 739.291,1269.35 753.32,1245.05 \n",
       "  \"/>\n",
       "<path clip-path=\"url(#clip972)\" d=\"\n",
       "M820.958 1220.47 L806.929 1196.18 L778.87 1196.18 L764.841 1220.47 L778.87 1244.77 L806.929 1244.77 L820.958 1220.47 L820.958 1220.47  Z\n",
       "  \" fill=\"#009af9\" fill-rule=\"evenodd\" fill-opacity=\"1\"/>\n",
       "<polyline clip-path=\"url(#clip972)\" style=\"stroke:#000000; stroke-linecap:butt; stroke-linejoin:round; stroke-width:4; stroke-opacity:1; fill:none\" points=\"\n",
       "  820.958,1220.47 806.929,1196.18 778.87,1196.18 764.841,1220.47 778.87,1244.77 806.929,1244.77 820.958,1220.47 \n",
       "  \"/>\n",
       "<path clip-path=\"url(#clip972)\" d=\"\n",
       "M1078.76 1266.24 L1067.03 1245.91 L1043.55 1245.91 L1031.82 1266.24 L1043.55 1286.57 L1067.03 1286.57 L1078.76 1266.24 L1078.76 1266.24  Z\n",
       "  \" fill=\"#009af9\" fill-rule=\"evenodd\" fill-opacity=\"1\"/>\n",
       "<polyline clip-path=\"url(#clip972)\" style=\"stroke:#000000; stroke-linecap:butt; stroke-linejoin:round; stroke-width:4; stroke-opacity:1; fill:none\" points=\"\n",
       "  1078.76,1266.24 1067.03,1245.91 1043.55,1245.91 1031.82,1266.24 1043.55,1286.57 1067.03,1286.57 1078.76,1266.24 \n",
       "  \"/>\n",
       "<path clip-path=\"url(#clip972)\" d=\"\n",
       "M1529.97 1084.22 L1509.53 1048.83 L1468.67 1048.83 L1448.23 1084.22 L1468.67 1119.61 L1509.53 1119.61 L1529.97 1084.22 L1529.97 1084.22  Z\n",
       "  \" fill=\"#009af9\" fill-rule=\"evenodd\" fill-opacity=\"1\"/>\n",
       "<polyline clip-path=\"url(#clip972)\" style=\"stroke:#000000; stroke-linecap:butt; stroke-linejoin:round; stroke-width:4; stroke-opacity:1; fill:none\" points=\"\n",
       "  1529.97,1084.22 1509.53,1048.83 1468.67,1048.83 1448.23,1084.22 1468.67,1119.61 1509.53,1119.61 1529.97,1084.22 \n",
       "  \"/>\n",
       "<path clip-path=\"url(#clip972)\" d=\"\n",
       "M1703.34 1256.15 L1684.97 1224.35 L1648.25 1224.35 L1629.88 1256.15 L1648.25 1287.96 L1684.97 1287.96 L1703.34 1256.15 L1703.34 1256.15  Z\n",
       "  \" fill=\"#009af9\" fill-rule=\"evenodd\" fill-opacity=\"1\"/>\n",
       "<polyline clip-path=\"url(#clip972)\" style=\"stroke:#000000; stroke-linecap:butt; stroke-linejoin:round; stroke-width:4; stroke-opacity:1; fill:none\" points=\"\n",
       "  1703.34,1256.15 1684.97,1224.35 1648.25,1224.35 1629.88,1256.15 1648.25,1287.96 1684.97,1287.96 1703.34,1256.15 \n",
       "  \"/>\n",
       "<path clip-path=\"url(#clip972)\" d=\"\n",
       "M1627.03 1311.42 L1610.8 1283.31 L1578.33 1283.31 L1562.1 1311.42 L1578.33 1339.54 L1610.8 1339.54 L1627.03 1311.42 L1627.03 1311.42  Z\n",
       "  \" fill=\"#009af9\" fill-rule=\"evenodd\" fill-opacity=\"1\"/>\n",
       "<polyline clip-path=\"url(#clip972)\" style=\"stroke:#000000; stroke-linecap:butt; stroke-linejoin:round; stroke-width:4; stroke-opacity:1; fill:none\" points=\"\n",
       "  1627.03,1311.42 1610.8,1283.31 1578.33,1283.31 1562.1,1311.42 1578.33,1339.54 1610.8,1339.54 1627.03,1311.42 \n",
       "  \"/>\n",
       "<path clip-path=\"url(#clip972)\" d=\"\n",
       "M1770.15 1264.29 L1753.92 1236.17 L1721.45 1236.17 L1705.22 1264.29 L1721.45 1292.4 L1753.92 1292.4 L1770.15 1264.29 L1770.15 1264.29  Z\n",
       "  \" fill=\"#009af9\" fill-rule=\"evenodd\" fill-opacity=\"1\"/>\n",
       "<polyline clip-path=\"url(#clip972)\" style=\"stroke:#000000; stroke-linecap:butt; stroke-linejoin:round; stroke-width:4; stroke-opacity:1; fill:none\" points=\"\n",
       "  1770.15,1264.29 1753.92,1236.17 1721.45,1236.17 1705.22,1264.29 1721.45,1292.4 1753.92,1292.4 1770.15,1264.29 \n",
       "  \"/>\n",
       "<path clip-path=\"url(#clip972)\" d=\"\n",
       "M1439.17 1281.86 L1422.94 1253.74 L1390.48 1253.74 L1374.24 1281.86 L1390.48 1309.97 L1422.94 1309.97 L1439.17 1281.86 L1439.17 1281.86  Z\n",
       "  \" fill=\"#009af9\" fill-rule=\"evenodd\" fill-opacity=\"1\"/>\n",
       "<polyline clip-path=\"url(#clip972)\" style=\"stroke:#000000; stroke-linecap:butt; stroke-linejoin:round; stroke-width:4; stroke-opacity:1; fill:none\" points=\"\n",
       "  1439.17,1281.86 1422.94,1253.74 1390.48,1253.74 1374.24,1281.86 1390.48,1309.97 1422.94,1309.97 1439.17,1281.86 \n",
       "  \"/>\n",
       "<path clip-path=\"url(#clip972)\" d=\"\n",
       "M1517.54 1337.68 L1503.51 1313.38 L1475.45 1313.38 L1461.42 1337.68 L1475.45 1361.98 L1503.51 1361.98 L1517.54 1337.68 L1517.54 1337.68  Z\n",
       "  \" fill=\"#009af9\" fill-rule=\"evenodd\" fill-opacity=\"1\"/>\n",
       "<polyline clip-path=\"url(#clip972)\" style=\"stroke:#000000; stroke-linecap:butt; stroke-linejoin:round; stroke-width:4; stroke-opacity:1; fill:none\" points=\"\n",
       "  1517.54,1337.68 1503.51,1313.38 1475.45,1313.38 1461.42,1337.68 1475.45,1361.98 1503.51,1361.98 1517.54,1337.68 \n",
       "  \"/>\n",
       "<circle clip-path=\"url(#clip972)\" style=\"fill:#009af9; stroke:none; fill-opacity:1\" cx=\"1287.23\" cy=\"262.317\" r=\"2\"/>\n",
       "<circle clip-path=\"url(#clip972)\" style=\"fill:#009af9; stroke:none; fill-opacity:1\" cx=\"1199.29\" cy=\"443.96\" r=\"2\"/>\n",
       "<circle clip-path=\"url(#clip972)\" style=\"fill:#009af9; stroke:none; fill-opacity:1\" cx=\"1209.94\" cy=\"649.33\" r=\"2\"/>\n",
       "<circle clip-path=\"url(#clip972)\" style=\"fill:#009af9; stroke:none; fill-opacity:1\" cx=\"1211.42\" cy=\"832.174\" r=\"2\"/>\n",
       "<circle clip-path=\"url(#clip972)\" style=\"fill:#009af9; stroke:none; fill-opacity:1\" cx=\"1213.98\" cy=\"1132.16\" r=\"2\"/>\n",
       "<circle clip-path=\"url(#clip972)\" style=\"fill:#009af9; stroke:none; fill-opacity:1\" cx=\"1134.03\" cy=\"1045.41\" r=\"2\"/>\n",
       "<circle clip-path=\"url(#clip972)\" style=\"fill:#009af9; stroke:none; fill-opacity:1\" cx=\"1312.23\" cy=\"1102.6\" r=\"2\"/>\n",
       "<circle clip-path=\"url(#clip972)\" style=\"fill:#009af9; stroke:none; fill-opacity:1\" cx=\"936.907\" cy=\"1095.55\" r=\"2\"/>\n",
       "<circle clip-path=\"url(#clip972)\" style=\"fill:#009af9; stroke:none; fill-opacity:1\" cx=\"856.553\" cy=\"1308.84\" r=\"2\"/>\n",
       "<circle clip-path=\"url(#clip972)\" style=\"fill:#009af9; stroke:none; fill-opacity:1\" cx=\"960.567\" cy=\"1291.23\" r=\"2\"/>\n",
       "<circle clip-path=\"url(#clip972)\" style=\"fill:#009af9; stroke:none; fill-opacity:1\" cx=\"662.317\" cy=\"1228.41\" r=\"2\"/>\n",
       "<circle clip-path=\"url(#clip972)\" style=\"fill:#009af9; stroke:none; fill-opacity:1\" cx=\"725.262\" cy=\"1245.05\" r=\"2\"/>\n",
       "<circle clip-path=\"url(#clip972)\" style=\"fill:#009af9; stroke:none; fill-opacity:1\" cx=\"792.899\" cy=\"1220.47\" r=\"2\"/>\n",
       "<circle clip-path=\"url(#clip972)\" style=\"fill:#009af9; stroke:none; fill-opacity:1\" cx=\"1055.29\" cy=\"1266.24\" r=\"2\"/>\n",
       "<circle clip-path=\"url(#clip972)\" style=\"fill:#009af9; stroke:none; fill-opacity:1\" cx=\"1489.1\" cy=\"1084.22\" r=\"2\"/>\n",
       "<circle clip-path=\"url(#clip972)\" style=\"fill:#009af9; stroke:none; fill-opacity:1\" cx=\"1666.61\" cy=\"1256.15\" r=\"2\"/>\n",
       "<circle clip-path=\"url(#clip972)\" style=\"fill:#009af9; stroke:none; fill-opacity:1\" cx=\"1594.56\" cy=\"1311.42\" r=\"2\"/>\n",
       "<circle clip-path=\"url(#clip972)\" style=\"fill:#009af9; stroke:none; fill-opacity:1\" cx=\"1737.68\" cy=\"1264.29\" r=\"2\"/>\n",
       "<circle clip-path=\"url(#clip972)\" style=\"fill:#009af9; stroke:none; fill-opacity:1\" cx=\"1406.71\" cy=\"1281.86\" r=\"2\"/>\n",
       "<circle clip-path=\"url(#clip972)\" style=\"fill:#009af9; stroke:none; fill-opacity:1\" cx=\"1489.48\" cy=\"1337.68\" r=\"2\"/>\n",
       "<path clip-path=\"url(#clip970)\" d=\"M1272.95 255.98 L1269.78 264.58 L1276.14 264.58 L1272.95 255.98 M1271.64 253.677 L1274.29 253.677 L1280.87 270.957 L1278.44 270.957 L1276.87 266.524 L1269.08 266.524 L1267.5 270.957 L1265.04 270.957 L1271.64 253.677 Z\" fill=\"#000000\" fill-rule=\"evenodd\" fill-opacity=\"1\" /><path clip-path=\"url(#clip970)\" d=\"M1294.08 263.133 L1294.08 270.957 L1291.95 270.957 L1291.95 263.203 Q1291.95 261.362 1291.23 260.448 Q1290.51 259.534 1289.08 259.534 Q1287.35 259.534 1286.36 260.633 Q1285.36 261.733 1285.36 263.631 L1285.36 270.957 L1283.22 270.957 L1283.22 257.994 L1285.36 257.994 L1285.36 260.008 Q1286.13 258.839 1287.16 258.261 Q1288.2 257.682 1289.55 257.682 Q1291.79 257.682 1292.93 259.071 Q1294.08 260.448 1294.08 263.133 Z\" fill=\"#000000\" fill-rule=\"evenodd\" fill-opacity=\"1\" /><path clip-path=\"url(#clip970)\" d=\"M1303.72 272.161 Q1302.82 274.476 1301.96 275.182 Q1301.1 275.888 1299.67 275.888 L1297.97 275.888 L1297.97 274.105 L1299.22 274.105 Q1300.1 274.105 1300.58 273.689 Q1301.07 273.272 1301.66 271.721 L1302.04 270.749 L1296.8 257.994 L1299.05 257.994 L1303.11 268.133 L1307.16 257.994 L1309.41 257.994 L1303.72 272.161 Z\" fill=\"#000000\" fill-rule=\"evenodd\" fill-opacity=\"1\" /><path clip-path=\"url(#clip970)\" d=\"M1152.85 435.32 L1156 435.32 L1163.66 449.776 L1163.66 435.32 L1165.93 435.32 L1165.93 452.6 L1162.78 452.6 L1155.12 438.144 L1155.12 452.6 L1152.85 452.6 L1152.85 435.32 Z\" fill=\"#000000\" fill-rule=\"evenodd\" fill-opacity=\"1\" /><path clip-path=\"url(#clip970)\" d=\"M1170.27 447.485 L1170.27 439.637 L1172.4 439.637 L1172.4 447.404 Q1172.4 449.244 1173.11 450.17 Q1173.83 451.084 1175.27 451.084 Q1176.99 451.084 1177.99 449.985 Q1178.99 448.885 1178.99 446.987 L1178.99 439.637 L1181.12 439.637 L1181.12 452.6 L1178.99 452.6 L1178.99 450.61 Q1178.22 451.79 1177.19 452.369 Q1176.17 452.936 1174.82 452.936 Q1172.58 452.936 1171.42 451.547 Q1170.27 450.158 1170.27 447.485 M1175.63 439.325 L1175.63 439.325 Z\" fill=\"#000000\" fill-rule=\"evenodd\" fill-opacity=\"1\" /><path clip-path=\"url(#clip970)\" d=\"M1195.6 442.126 Q1196.4 440.691 1197.51 440.008 Q1198.62 439.325 1200.13 439.325 Q1202.15 439.325 1203.25 440.748 Q1204.35 442.16 1204.35 444.776 L1204.35 452.6 L1202.21 452.6 L1202.21 444.846 Q1202.21 442.982 1201.55 442.079 Q1200.89 441.177 1199.54 441.177 Q1197.88 441.177 1196.92 442.276 Q1195.96 443.376 1195.96 445.274 L1195.96 452.6 L1193.82 452.6 L1193.82 444.846 Q1193.82 442.971 1193.16 442.079 Q1192.5 441.177 1191.12 441.177 Q1189.49 441.177 1188.53 442.288 Q1187.57 443.387 1187.57 445.274 L1187.57 452.6 L1185.43 452.6 L1185.43 439.637 L1187.57 439.637 L1187.57 441.651 Q1188.3 440.459 1189.32 439.892 Q1190.34 439.325 1191.74 439.325 Q1193.15 439.325 1194.13 440.042 Q1195.13 440.76 1195.6 442.126 Z\" fill=\"#000000\" fill-rule=\"evenodd\" fill-opacity=\"1\" /><path clip-path=\"url(#clip970)\" d=\"M1217.91 446.13 Q1217.91 443.781 1216.93 442.45 Q1215.97 441.107 1214.28 441.107 Q1212.59 441.107 1211.62 442.45 Q1210.66 443.781 1210.66 446.13 Q1210.66 448.48 1211.62 449.822 Q1212.59 451.153 1214.28 451.153 Q1215.97 451.153 1216.93 449.822 Q1217.91 448.48 1217.91 446.13 M1210.66 441.605 Q1211.33 440.448 1212.35 439.892 Q1213.38 439.325 1214.8 439.325 Q1217.16 439.325 1218.63 441.2 Q1220.12 443.075 1220.12 446.13 Q1220.12 449.186 1218.63 451.061 Q1217.16 452.936 1214.8 452.936 Q1213.38 452.936 1212.35 452.38 Q1211.33 451.813 1210.66 450.656 L1210.66 452.6 L1208.52 452.6 L1208.52 434.591 L1210.66 434.591 L1210.66 441.605 Z\" fill=\"#000000\" fill-rule=\"evenodd\" fill-opacity=\"1\" /><path clip-path=\"url(#clip970)\" d=\"M1234.73 445.586 L1234.73 446.628 L1224.94 446.628 Q1225.08 448.827 1226.26 449.985 Q1227.45 451.13 1229.57 451.13 Q1230.8 451.13 1231.94 450.829 Q1233.1 450.528 1234.24 449.927 L1234.24 451.941 Q1233.09 452.427 1231.89 452.681 Q1230.68 452.936 1229.44 452.936 Q1226.34 452.936 1224.53 451.13 Q1222.72 449.325 1222.72 446.246 Q1222.72 443.063 1224.43 441.2 Q1226.16 439.325 1229.07 439.325 Q1231.69 439.325 1233.21 441.015 Q1234.73 442.693 1234.73 445.586 M1232.6 444.961 Q1232.58 443.214 1231.62 442.172 Q1230.67 441.13 1229.1 441.13 Q1227.31 441.13 1226.24 442.137 Q1225.17 443.144 1225.01 444.973 L1232.6 444.961 Z\" fill=\"#000000\" fill-rule=\"evenodd\" fill-opacity=\"1\" /><path clip-path=\"url(#clip970)\" d=\"M1245.74 441.628 Q1245.38 441.42 1244.95 441.327 Q1244.54 441.223 1244.03 441.223 Q1242.22 441.223 1241.25 442.404 Q1240.29 443.573 1240.29 445.772 L1240.29 452.6 L1238.15 452.6 L1238.15 439.637 L1240.29 439.637 L1240.29 441.651 Q1240.96 440.471 1242.04 439.904 Q1243.11 439.325 1244.65 439.325 Q1244.87 439.325 1245.14 439.36 Q1245.41 439.383 1245.73 439.441 L1245.74 441.628 Z\" fill=\"#000000\" fill-rule=\"evenodd\" fill-opacity=\"1\" /><path clip-path=\"url(#clip970)\" d=\"M1194.86 649.869 Q1195.61 650.123 1196.32 650.956 Q1197.04 651.79 1197.75 653.248 L1200.13 657.97 L1197.62 657.97 L1195.4 653.537 Q1194.55 651.801 1193.74 651.234 Q1192.94 650.667 1191.55 650.667 L1189 650.667 L1189 657.97 L1186.67 657.97 L1186.67 640.69 L1191.94 640.69 Q1194.91 640.69 1196.37 641.929 Q1197.82 643.167 1197.82 645.667 Q1197.82 647.299 1197.06 648.375 Q1196.31 649.452 1194.86 649.869 M1189 642.612 L1189 648.746 L1191.94 648.746 Q1193.63 648.746 1194.49 647.97 Q1195.36 647.183 1195.36 645.667 Q1195.36 644.151 1194.49 643.387 Q1193.63 642.612 1191.94 642.612 L1189 642.612 Z\" fill=\"#000000\" fill-rule=\"evenodd\" fill-opacity=\"1\" /><path clip-path=\"url(#clip970)\" d=\"M1213.07 650.956 L1213.07 651.998 L1203.27 651.998 Q1203.41 654.197 1204.59 655.355 Q1205.79 656.5 1207.9 656.5 Q1209.13 656.5 1210.28 656.199 Q1211.43 655.899 1212.57 655.297 L1212.57 657.311 Q1211.42 657.797 1210.22 658.051 Q1209.02 658.306 1207.78 658.306 Q1204.68 658.306 1202.86 656.5 Q1201.05 654.695 1201.05 651.616 Q1201.05 648.433 1202.77 646.57 Q1204.49 644.695 1207.41 644.695 Q1210.02 644.695 1211.54 646.385 Q1213.07 648.063 1213.07 650.956 M1210.94 650.331 Q1210.91 648.584 1209.95 647.542 Q1209 646.5 1207.43 646.5 Q1205.65 646.5 1204.57 647.507 Q1203.51 648.514 1203.34 650.343 L1210.94 650.331 Z\" fill=\"#000000\" fill-rule=\"evenodd\" fill-opacity=\"1\" /><path clip-path=\"url(#clip970)\" d=\"M1222.45 651.454 Q1219.87 651.454 1218.88 652.044 Q1217.88 652.635 1217.88 654.058 Q1217.88 655.193 1218.62 655.864 Q1219.37 656.524 1220.66 656.524 Q1222.43 656.524 1223.49 655.274 Q1224.57 654.012 1224.57 651.929 L1224.57 651.454 L1222.45 651.454 M1226.7 650.575 L1226.7 657.97 L1224.57 657.97 L1224.57 656.003 Q1223.84 657.183 1222.75 657.75 Q1221.67 658.306 1220.09 658.306 Q1218.1 658.306 1216.92 657.195 Q1215.75 656.072 1215.75 654.197 Q1215.75 652.01 1217.21 650.899 Q1218.68 649.787 1221.58 649.787 L1224.57 649.787 L1224.57 649.579 Q1224.57 648.109 1223.6 647.311 Q1222.64 646.5 1220.89 646.5 Q1219.78 646.5 1218.73 646.767 Q1217.67 647.033 1216.7 647.565 L1216.7 645.598 Q1217.87 645.146 1218.97 644.926 Q1220.07 644.695 1221.11 644.695 Q1223.92 644.695 1225.31 646.153 Q1226.7 647.612 1226.7 650.575 Z\" fill=\"#000000\" fill-rule=\"evenodd\" fill-opacity=\"1\" /><path clip-path=\"url(#clip970)\" d=\"M1231.09 639.961 L1233.22 639.961 L1233.22 657.97 L1231.09 657.97 L1231.09 639.961 Z\" fill=\"#000000\" fill-rule=\"evenodd\" fill-opacity=\"1\" /><path clip-path=\"url(#clip970)\" d=\"M1169.95 823.534 L1172.29 823.534 L1172.29 840.814 L1169.95 840.814 L1169.95 823.534 Z\" fill=\"#000000\" fill-rule=\"evenodd\" fill-opacity=\"1\" /><path clip-path=\"url(#clip970)\" d=\"M1187.62 832.99 L1187.62 840.814 L1185.49 840.814 L1185.49 833.059 Q1185.49 831.219 1184.78 830.304 Q1184.06 829.39 1182.62 829.39 Q1180.9 829.39 1179.9 830.49 Q1178.91 831.589 1178.91 833.487 L1178.91 840.814 L1176.77 840.814 L1176.77 827.851 L1178.91 827.851 L1178.91 829.865 Q1179.67 828.696 1180.7 828.117 Q1181.74 827.538 1183.1 827.538 Q1185.33 827.538 1186.48 828.927 Q1187.62 830.304 1187.62 832.99 Z\" fill=\"#000000\" fill-rule=\"evenodd\" fill-opacity=\"1\" /><path clip-path=\"url(#clip970)\" d=\"M1193.98 824.17 L1193.98 827.851 L1198.36 827.851 L1198.36 829.506 L1193.98 829.506 L1193.98 836.543 Q1193.98 838.129 1194.41 838.58 Q1194.85 839.031 1196.18 839.031 L1198.36 839.031 L1198.36 840.814 L1196.18 840.814 Q1193.71 840.814 1192.77 839.899 Q1191.84 838.973 1191.84 836.543 L1191.84 829.506 L1190.27 829.506 L1190.27 827.851 L1191.84 827.851 L1191.84 824.17 L1193.98 824.17 Z\" fill=\"#000000\" fill-rule=\"evenodd\" fill-opacity=\"1\" /><path clip-path=\"url(#clip970)\" d=\"M1212.25 833.8 L1212.25 834.842 L1202.46 834.842 Q1202.6 837.041 1203.78 838.198 Q1204.97 839.344 1207.09 839.344 Q1208.32 839.344 1209.46 839.043 Q1210.62 838.742 1211.75 838.14 L1211.75 840.154 Q1210.61 840.64 1209.41 840.895 Q1208.2 841.149 1206.96 841.149 Q1203.86 841.149 1202.04 839.344 Q1200.24 837.538 1200.24 834.46 Q1200.24 831.277 1201.95 829.413 Q1203.68 827.538 1206.59 827.538 Q1209.21 827.538 1210.72 829.228 Q1212.25 830.906 1212.25 833.8 M1210.12 833.175 Q1210.1 831.427 1209.14 830.386 Q1208.19 829.344 1206.62 829.344 Q1204.83 829.344 1203.76 830.351 Q1202.69 831.358 1202.53 833.186 L1210.12 833.175 Z\" fill=\"#000000\" fill-rule=\"evenodd\" fill-opacity=\"1\" /><path clip-path=\"url(#clip970)\" d=\"M1224.28 834.182 Q1224.28 831.867 1223.32 830.594 Q1222.37 829.321 1220.64 829.321 Q1218.93 829.321 1217.97 830.594 Q1217.02 831.867 1217.02 834.182 Q1217.02 836.485 1217.97 837.758 Q1218.93 839.031 1220.64 839.031 Q1222.37 839.031 1223.32 837.758 Q1224.28 836.485 1224.28 834.182 M1226.41 839.205 Q1226.41 842.515 1224.94 844.124 Q1223.47 845.744 1220.44 845.744 Q1219.31 845.744 1218.32 845.571 Q1217.32 845.409 1216.38 845.061 L1216.38 842.99 Q1217.32 843.499 1218.24 843.742 Q1219.15 843.985 1220.1 843.985 Q1222.19 843.985 1223.24 842.885 Q1224.28 841.797 1224.28 839.587 L1224.28 838.534 Q1223.62 839.679 1222.59 840.247 Q1221.56 840.814 1220.12 840.814 Q1217.74 840.814 1216.28 838.997 Q1214.82 837.179 1214.82 834.182 Q1214.82 831.173 1216.28 829.355 Q1217.74 827.538 1220.12 827.538 Q1221.56 827.538 1222.59 828.105 Q1223.62 828.673 1224.28 829.818 L1224.28 827.851 L1226.41 827.851 L1226.41 839.205 Z\" fill=\"#000000\" fill-rule=\"evenodd\" fill-opacity=\"1\" /><path clip-path=\"url(#clip970)\" d=\"M1241.88 833.8 L1241.88 834.842 L1232.09 834.842 Q1232.23 837.041 1233.41 838.198 Q1234.6 839.344 1236.72 839.344 Q1237.95 839.344 1239.09 839.043 Q1240.25 838.742 1241.38 838.14 L1241.38 840.154 Q1240.24 840.64 1239.03 840.895 Q1237.83 841.149 1236.59 841.149 Q1233.49 841.149 1231.67 839.344 Q1229.87 837.538 1229.87 834.46 Q1229.87 831.277 1231.58 829.413 Q1233.31 827.538 1236.22 827.538 Q1238.84 827.538 1240.35 829.228 Q1241.88 830.906 1241.88 833.8 M1239.75 833.175 Q1239.73 831.427 1238.77 830.386 Q1237.82 829.344 1236.25 829.344 Q1234.46 829.344 1233.39 830.351 Q1232.32 831.358 1232.16 833.186 L1239.75 833.175 Z\" fill=\"#000000\" fill-rule=\"evenodd\" fill-opacity=\"1\" /><path clip-path=\"url(#clip970)\" d=\"M1252.89 829.842 Q1252.53 829.633 1252.1 829.541 Q1251.69 829.436 1251.18 829.436 Q1249.37 829.436 1248.4 830.617 Q1247.44 831.786 1247.44 833.985 L1247.44 840.814 L1245.3 840.814 L1245.3 827.851 L1247.44 827.851 L1247.44 829.865 Q1248.11 828.684 1249.19 828.117 Q1250.26 827.538 1251.8 827.538 Q1252.02 827.538 1252.29 827.573 Q1252.55 827.596 1252.88 827.654 L1252.89 829.842 Z\" fill=\"#000000\" fill-rule=\"evenodd\" fill-opacity=\"1\" /><path clip-path=\"url(#clip970)\" d=\"M1192.67 1132.54 L1192.67 1138.88 L1196.42 1138.88 Q1198.3 1138.88 1199.21 1138.1 Q1200.12 1137.31 1200.12 1135.7 Q1200.12 1134.08 1199.21 1133.32 Q1198.3 1132.54 1196.42 1132.54 L1192.67 1132.54 M1192.67 1125.44 L1192.67 1130.65 L1196.13 1130.65 Q1197.84 1130.65 1198.67 1130.01 Q1199.52 1129.36 1199.52 1128.04 Q1199.52 1126.73 1198.67 1126.09 Q1197.84 1125.44 1196.13 1125.44 L1192.67 1125.44 M1190.33 1123.52 L1196.3 1123.52 Q1198.98 1123.52 1200.42 1124.63 Q1201.87 1125.74 1201.87 1127.79 Q1201.87 1129.37 1201.13 1130.31 Q1200.39 1131.25 1198.95 1131.48 Q1200.68 1131.85 1201.63 1133.03 Q1202.59 1134.2 1202.59 1135.96 Q1202.59 1138.27 1201.01 1139.54 Q1199.44 1140.8 1196.53 1140.8 L1190.33 1140.8 L1190.33 1123.52 Z\" fill=\"#000000\" fill-rule=\"evenodd\" fill-opacity=\"1\" /><path clip-path=\"url(#clip970)\" d=\"M1211.52 1129.33 Q1209.81 1129.33 1208.81 1130.67 Q1207.82 1132 1207.82 1134.33 Q1207.82 1136.65 1208.8 1138 Q1209.8 1139.33 1211.52 1139.33 Q1213.22 1139.33 1214.22 1137.98 Q1215.21 1136.64 1215.21 1134.33 Q1215.21 1132.02 1214.22 1130.68 Q1213.22 1129.33 1211.52 1129.33 M1211.52 1127.52 Q1214.3 1127.52 1215.89 1129.33 Q1217.47 1131.13 1217.47 1134.33 Q1217.47 1137.51 1215.89 1139.33 Q1214.3 1141.13 1211.52 1141.13 Q1208.73 1141.13 1207.15 1139.33 Q1205.57 1137.51 1205.57 1134.33 Q1205.57 1131.13 1207.15 1129.33 Q1208.73 1127.52 1211.52 1127.52 Z\" fill=\"#000000\" fill-rule=\"evenodd\" fill-opacity=\"1\" /><path clip-path=\"url(#clip970)\" d=\"M1226.02 1129.33 Q1224.31 1129.33 1223.32 1130.67 Q1222.32 1132 1222.32 1134.33 Q1222.32 1136.65 1223.3 1138 Q1224.3 1139.33 1226.02 1139.33 Q1227.73 1139.33 1228.72 1137.98 Q1229.72 1136.64 1229.72 1134.33 Q1229.72 1132.02 1228.72 1130.68 Q1227.73 1129.33 1226.02 1129.33 M1226.02 1127.52 Q1228.8 1127.52 1230.39 1129.33 Q1231.97 1131.13 1231.97 1134.33 Q1231.97 1137.51 1230.39 1139.33 Q1228.8 1141.13 1226.02 1141.13 Q1223.23 1141.13 1221.65 1139.33 Q1220.07 1137.51 1220.07 1134.33 Q1220.07 1131.13 1221.65 1129.33 Q1223.23 1127.52 1226.02 1127.52 Z\" fill=\"#000000\" fill-rule=\"evenodd\" fill-opacity=\"1\" /><path clip-path=\"url(#clip970)\" d=\"M1235.5 1122.79 L1237.63 1122.79 L1237.63 1140.8 L1235.5 1140.8 L1235.5 1122.79 Z\" fill=\"#000000\" fill-rule=\"evenodd\" fill-opacity=\"1\" /><path clip-path=\"url(#clip970)\" d=\"M1064.29 1038.36 Q1061.74 1038.36 1060.24 1040.26 Q1058.75 1042.16 1058.75 1045.43 Q1058.75 1048.7 1060.24 1050.59 Q1061.74 1052.49 1064.29 1052.49 Q1066.84 1052.49 1068.32 1050.59 Q1069.81 1048.7 1069.81 1045.43 Q1069.81 1042.16 1068.32 1040.26 Q1066.84 1038.36 1064.29 1038.36 M1064.29 1036.46 Q1067.92 1036.46 1070.1 1038.9 Q1072.28 1041.33 1072.28 1045.43 Q1072.28 1049.52 1070.1 1051.96 Q1067.92 1054.39 1064.29 1054.39 Q1060.64 1054.39 1058.46 1051.96 Q1056.28 1049.53 1056.28 1045.43 Q1056.28 1041.33 1058.46 1038.9 Q1060.64 1036.46 1064.29 1036.46 Z\" fill=\"#000000\" fill-rule=\"evenodd\" fill-opacity=\"1\" /><path clip-path=\"url(#clip970)\" d=\"M1082.4 1036.04 L1082.4 1037.82 L1080.37 1037.82 Q1079.22 1037.82 1078.77 1038.28 Q1078.33 1038.74 1078.33 1039.95 L1078.33 1041.09 L1081.84 1041.09 L1081.84 1042.75 L1078.33 1042.75 L1078.33 1054.05 L1076.19 1054.05 L1076.19 1042.75 L1074.15 1042.75 L1074.15 1041.09 L1076.19 1041.09 L1076.19 1040.19 Q1076.19 1038.02 1077.19 1037.04 Q1078.2 1036.04 1080.39 1036.04 L1082.4 1036.04 Z\" fill=\"#000000\" fill-rule=\"evenodd\" fill-opacity=\"1\" /><path clip-path=\"url(#clip970)\" d=\"M1090.75 1036.04 L1090.75 1037.82 L1088.71 1037.82 Q1087.56 1037.82 1087.11 1038.28 Q1086.67 1038.74 1086.67 1039.95 L1086.67 1041.09 L1090.18 1041.09 L1090.18 1042.75 L1086.67 1042.75 L1086.67 1054.05 L1084.53 1054.05 L1084.53 1042.75 L1082.5 1042.75 L1082.5 1041.09 L1084.53 1041.09 L1084.53 1040.19 Q1084.53 1038.02 1085.54 1037.04 Q1086.55 1036.04 1088.73 1036.04 L1090.75 1036.04 Z\" fill=\"#000000\" fill-rule=\"evenodd\" fill-opacity=\"1\" /><path clip-path=\"url(#clip970)\" d=\"M1100.79 1041.47 L1100.79 1043.49 Q1099.89 1043.02 1098.92 1042.79 Q1097.95 1042.56 1096.9 1042.56 Q1095.32 1042.56 1094.52 1043.05 Q1093.73 1043.53 1093.73 1044.51 Q1093.73 1045.25 1094.3 1045.67 Q1094.87 1046.09 1096.58 1046.47 L1097.31 1046.63 Q1099.58 1047.12 1100.53 1048.01 Q1101.49 1048.89 1101.49 1050.48 Q1101.49 1052.28 1100.05 1053.34 Q1098.63 1054.39 1096.13 1054.39 Q1095.09 1054.39 1093.95 1054.18 Q1092.83 1053.98 1091.58 1053.58 L1091.58 1051.38 Q1092.76 1051.99 1093.91 1052.31 Q1095.05 1052.61 1096.18 1052.61 Q1097.68 1052.61 1098.49 1052.1 Q1099.3 1051.58 1099.3 1050.64 Q1099.3 1049.77 1098.71 1049.31 Q1098.13 1048.85 1096.15 1048.42 L1095.41 1048.24 Q1093.43 1047.83 1092.55 1046.97 Q1091.67 1046.1 1091.67 1044.6 Q1091.67 1042.77 1092.97 1041.77 Q1094.27 1040.78 1096.65 1040.78 Q1097.83 1040.78 1098.87 1040.95 Q1099.91 1041.13 1100.79 1041.47 Z\" fill=\"#000000\" fill-rule=\"evenodd\" fill-opacity=\"1\" /><path clip-path=\"url(#clip970)\" d=\"M1115.97 1047.04 L1115.97 1048.08 L1106.18 1048.08 Q1106.31 1050.28 1107.5 1051.44 Q1108.69 1052.58 1110.81 1052.58 Q1112.03 1052.58 1113.18 1052.28 Q1114.34 1051.98 1115.47 1051.38 L1115.47 1053.39 Q1114.32 1053.88 1113.12 1054.13 Q1111.92 1054.39 1110.68 1054.39 Q1107.58 1054.39 1105.76 1052.58 Q1103.95 1050.78 1103.95 1047.7 Q1103.95 1044.52 1105.67 1042.65 Q1107.39 1040.78 1110.31 1040.78 Q1112.92 1040.78 1114.44 1042.47 Q1115.97 1044.15 1115.97 1047.04 M1113.84 1046.41 Q1113.81 1044.67 1112.85 1043.63 Q1111.9 1042.58 1110.33 1042.58 Q1108.55 1042.58 1107.47 1043.59 Q1106.41 1044.6 1106.25 1046.43 L1113.84 1046.41 Z\" fill=\"#000000\" fill-rule=\"evenodd\" fill-opacity=\"1\" /><path clip-path=\"url(#clip970)\" d=\"M1121.57 1037.41 L1121.57 1041.09 L1125.96 1041.09 L1125.96 1042.75 L1121.57 1042.75 L1121.57 1049.78 Q1121.57 1051.37 1122 1051.82 Q1122.44 1052.27 1123.77 1052.27 L1125.96 1052.27 L1125.96 1054.05 L1123.77 1054.05 Q1121.3 1054.05 1120.37 1053.14 Q1119.43 1052.21 1119.43 1049.78 L1119.43 1042.75 L1117.87 1042.75 L1117.87 1041.09 L1119.43 1041.09 L1119.43 1037.41 L1121.57 1037.41 Z\" fill=\"#000000\" fill-rule=\"evenodd\" fill-opacity=\"1\" /><path clip-path=\"url(#clip970)\" d=\"M1128.85 1036.77 L1131.19 1036.77 L1131.19 1054.05 L1128.85 1054.05 L1128.85 1036.77 Z\" fill=\"#000000\" fill-rule=\"evenodd\" fill-opacity=\"1\" /><path clip-path=\"url(#clip970)\" d=\"M1146.52 1046.23 L1146.52 1054.05 L1144.39 1054.05 L1144.39 1046.3 Q1144.39 1044.46 1143.68 1043.54 Q1142.96 1042.63 1141.52 1042.63 Q1139.8 1042.63 1138.8 1043.73 Q1137.81 1044.83 1137.81 1046.73 L1137.81 1054.05 L1135.67 1054.05 L1135.67 1041.09 L1137.81 1041.09 L1137.81 1043.1 Q1138.57 1041.94 1139.6 1041.36 Q1140.64 1040.78 1142 1040.78 Q1144.23 1040.78 1145.38 1042.17 Q1146.52 1043.54 1146.52 1046.23 Z\" fill=\"#000000\" fill-rule=\"evenodd\" fill-opacity=\"1\" /><path clip-path=\"url(#clip970)\" d=\"M1152.88 1037.41 L1152.88 1041.09 L1157.26 1041.09 L1157.26 1042.75 L1152.88 1042.75 L1152.88 1049.78 Q1152.88 1051.37 1153.31 1051.82 Q1153.74 1052.27 1155.08 1052.27 L1157.26 1052.27 L1157.26 1054.05 L1155.08 1054.05 Q1152.61 1054.05 1151.67 1053.14 Q1150.74 1052.21 1150.74 1049.78 L1150.74 1042.75 L1149.17 1042.75 L1149.17 1041.09 L1150.74 1041.09 L1150.74 1037.41 L1152.88 1037.41 Z\" fill=\"#000000\" fill-rule=\"evenodd\" fill-opacity=\"1\" /><path clip-path=\"url(#clip970)\" d=\"M1171.15 1047.04 L1171.15 1048.08 L1161.36 1048.08 Q1161.5 1050.28 1162.68 1051.44 Q1163.87 1052.58 1165.99 1052.58 Q1167.22 1052.58 1168.36 1052.28 Q1169.52 1051.98 1170.65 1051.38 L1170.65 1053.39 Q1169.51 1053.88 1168.31 1054.13 Q1167.1 1054.39 1165.86 1054.39 Q1162.76 1054.39 1160.94 1052.58 Q1159.14 1050.78 1159.14 1047.7 Q1159.14 1044.52 1160.85 1042.65 Q1162.58 1040.78 1165.49 1040.78 Q1168.11 1040.78 1169.62 1042.47 Q1171.15 1044.15 1171.15 1047.04 M1169.02 1046.41 Q1169 1044.67 1168.04 1043.63 Q1167.09 1042.58 1165.52 1042.58 Q1163.73 1042.58 1162.66 1043.59 Q1161.59 1044.6 1161.43 1046.43 L1169.02 1046.41 Z\" fill=\"#000000\" fill-rule=\"evenodd\" fill-opacity=\"1\" /><path clip-path=\"url(#clip970)\" d=\"M1183.18 1047.42 Q1183.18 1045.11 1182.22 1043.83 Q1181.27 1042.56 1179.54 1042.56 Q1177.83 1042.56 1176.87 1043.83 Q1175.92 1045.11 1175.92 1047.42 Q1175.92 1049.73 1176.87 1051 Q1177.83 1052.27 1179.54 1052.27 Q1181.27 1052.27 1182.22 1051 Q1183.18 1049.73 1183.18 1047.42 M1185.31 1052.45 Q1185.31 1055.76 1183.84 1057.36 Q1182.37 1058.98 1179.34 1058.98 Q1178.21 1058.98 1177.22 1058.81 Q1176.22 1058.65 1175.28 1058.3 L1175.28 1056.23 Q1176.22 1056.74 1177.14 1056.98 Q1178.05 1057.23 1179 1057.23 Q1181.09 1057.23 1182.14 1056.13 Q1183.18 1055.04 1183.18 1052.83 L1183.18 1051.77 Q1182.52 1052.92 1181.49 1053.49 Q1180.46 1054.05 1179.02 1054.05 Q1176.64 1054.05 1175.18 1052.24 Q1173.72 1050.42 1173.72 1047.42 Q1173.72 1044.41 1175.18 1042.6 Q1176.64 1040.78 1179.02 1040.78 Q1180.46 1040.78 1181.49 1041.35 Q1182.52 1041.91 1183.18 1043.06 L1183.18 1041.09 L1185.31 1041.09 L1185.31 1052.45 Z\" fill=\"#000000\" fill-rule=\"evenodd\" fill-opacity=\"1\" /><path clip-path=\"url(#clip970)\" d=\"M1200.78 1047.04 L1200.78 1048.08 L1190.99 1048.08 Q1191.13 1050.28 1192.31 1051.44 Q1193.5 1052.58 1195.62 1052.58 Q1196.85 1052.58 1197.99 1052.28 Q1199.15 1051.98 1200.28 1051.38 L1200.28 1053.39 Q1199.14 1053.88 1197.93 1054.13 Q1196.73 1054.39 1195.49 1054.39 Q1192.39 1054.39 1190.57 1052.58 Q1188.77 1050.78 1188.77 1047.7 Q1188.77 1044.52 1190.48 1042.65 Q1192.21 1040.78 1195.12 1040.78 Q1197.74 1040.78 1199.25 1042.47 Q1200.78 1044.15 1200.78 1047.04 M1198.65 1046.41 Q1198.63 1044.67 1197.67 1043.63 Q1196.72 1042.58 1195.15 1042.58 Q1193.36 1042.58 1192.29 1043.59 Q1191.22 1044.6 1191.06 1046.43 L1198.65 1046.41 Z\" fill=\"#000000\" fill-rule=\"evenodd\" fill-opacity=\"1\" /><path clip-path=\"url(#clip970)\" d=\"M1211.79 1043.08 Q1211.43 1042.87 1211 1042.78 Q1210.58 1042.68 1210.08 1042.68 Q1208.27 1042.68 1207.3 1043.86 Q1206.34 1045.03 1206.34 1047.23 L1206.34 1054.05 L1204.2 1054.05 L1204.2 1041.09 L1206.34 1041.09 L1206.34 1043.1 Q1207.01 1041.92 1208.08 1041.36 Q1209.16 1040.78 1210.7 1040.78 Q1210.92 1040.78 1211.19 1040.81 Q1211.45 1040.84 1211.78 1040.89 L1211.79 1043.08 Z\" fill=\"#000000\" fill-rule=\"evenodd\" fill-opacity=\"1\" /><path clip-path=\"url(#clip970)\" d=\"M1242.48 1095.54 Q1239.93 1095.54 1238.43 1097.44 Q1236.94 1099.34 1236.94 1102.61 Q1236.94 1105.88 1238.43 1107.78 Q1239.93 1109.67 1242.48 1109.67 Q1245.03 1109.67 1246.51 1107.78 Q1248 1105.88 1248 1102.61 Q1248 1099.34 1246.51 1097.44 Q1245.03 1095.54 1242.48 1095.54 M1242.48 1093.64 Q1246.11 1093.64 1248.29 1096.09 Q1250.47 1098.52 1250.47 1102.61 Q1250.47 1106.7 1248.29 1109.14 Q1246.11 1111.57 1242.48 1111.57 Q1238.83 1111.57 1236.65 1109.14 Q1234.47 1106.71 1234.47 1102.61 Q1234.47 1098.52 1236.65 1096.09 Q1238.83 1093.64 1242.48 1093.64 Z\" fill=\"#000000\" fill-rule=\"evenodd\" fill-opacity=\"1\" /><path clip-path=\"url(#clip970)\" d=\"M1260.59 1093.23 L1260.59 1095 L1258.56 1095 Q1257.41 1095 1256.96 1095.46 Q1256.52 1095.92 1256.52 1097.13 L1256.52 1098.27 L1260.03 1098.27 L1260.03 1099.93 L1256.52 1099.93 L1256.52 1111.24 L1254.38 1111.24 L1254.38 1099.93 L1252.34 1099.93 L1252.34 1098.27 L1254.38 1098.27 L1254.38 1097.37 Q1254.38 1095.21 1255.39 1094.22 Q1256.39 1093.23 1258.58 1093.23 L1260.59 1093.23 Z\" fill=\"#000000\" fill-rule=\"evenodd\" fill-opacity=\"1\" /><path clip-path=\"url(#clip970)\" d=\"M1268.94 1093.23 L1268.94 1095 L1266.9 1095 Q1265.76 1095 1265.3 1095.46 Q1264.86 1095.92 1264.86 1097.13 L1264.86 1098.27 L1268.37 1098.27 L1268.37 1099.93 L1264.86 1099.93 L1264.86 1111.24 L1262.72 1111.24 L1262.72 1099.93 L1260.69 1099.93 L1260.69 1098.27 L1262.72 1098.27 L1262.72 1097.37 Q1262.72 1095.21 1263.73 1094.22 Q1264.74 1093.23 1266.93 1093.23 L1268.94 1093.23 Z\" fill=\"#000000\" fill-rule=\"evenodd\" fill-opacity=\"1\" /><path clip-path=\"url(#clip970)\" d=\"M1278.99 1098.66 L1278.99 1100.67 Q1278.08 1100.21 1277.11 1099.98 Q1276.14 1099.74 1275.1 1099.74 Q1273.51 1099.74 1272.71 1100.23 Q1271.93 1100.72 1271.93 1101.69 Q1271.93 1102.43 1272.49 1102.86 Q1273.06 1103.27 1274.77 1103.66 L1275.5 1103.82 Q1277.77 1104.3 1278.72 1105.19 Q1279.68 1106.07 1279.68 1107.66 Q1279.68 1109.47 1278.24 1110.52 Q1276.82 1111.57 1274.32 1111.57 Q1273.28 1111.57 1272.14 1111.36 Q1271.02 1111.17 1269.77 1110.76 L1269.77 1108.56 Q1270.95 1109.18 1272.1 1109.49 Q1273.24 1109.79 1274.37 1109.79 Q1275.87 1109.79 1276.68 1109.28 Q1277.49 1108.76 1277.49 1107.82 Q1277.49 1106.95 1276.9 1106.49 Q1276.32 1106.03 1274.34 1105.6 L1273.6 1105.43 Q1271.62 1105.01 1270.74 1104.15 Q1269.86 1103.29 1269.86 1101.78 Q1269.86 1099.95 1271.16 1098.96 Q1272.46 1097.96 1274.84 1097.96 Q1276.02 1097.96 1277.06 1098.13 Q1278.11 1098.31 1278.99 1098.66 Z\" fill=\"#000000\" fill-rule=\"evenodd\" fill-opacity=\"1\" /><path clip-path=\"url(#clip970)\" d=\"M1294.16 1104.22 L1294.16 1105.26 L1284.37 1105.26 Q1284.51 1107.46 1285.69 1108.62 Q1286.88 1109.77 1289 1109.77 Q1290.22 1109.77 1291.37 1109.47 Q1292.53 1109.16 1293.66 1108.56 L1293.66 1110.58 Q1292.52 1111.06 1291.31 1111.32 Q1290.11 1111.57 1288.87 1111.57 Q1285.77 1111.57 1283.95 1109.77 Q1282.14 1107.96 1282.14 1104.88 Q1282.14 1101.7 1283.86 1099.84 Q1285.58 1097.96 1288.5 1097.96 Q1291.11 1097.96 1292.63 1099.65 Q1294.16 1101.33 1294.16 1104.22 M1292.03 1103.6 Q1292.01 1101.85 1291.05 1100.81 Q1290.1 1099.77 1288.52 1099.77 Q1286.74 1099.77 1285.66 1100.77 Q1284.6 1101.78 1284.44 1103.61 L1292.03 1103.6 Z\" fill=\"#000000\" fill-rule=\"evenodd\" fill-opacity=\"1\" /><path clip-path=\"url(#clip970)\" d=\"M1299.76 1094.59 L1299.76 1098.27 L1304.15 1098.27 L1304.15 1099.93 L1299.76 1099.93 L1299.76 1106.97 Q1299.76 1108.55 1300.19 1109 Q1300.63 1109.45 1301.96 1109.45 L1304.15 1109.45 L1304.15 1111.24 L1301.96 1111.24 Q1299.49 1111.24 1298.56 1110.32 Q1297.62 1109.4 1297.62 1106.97 L1297.62 1099.93 L1296.06 1099.93 L1296.06 1098.27 L1297.62 1098.27 L1297.62 1094.59 L1299.76 1094.59 Z\" fill=\"#000000\" fill-rule=\"evenodd\" fill-opacity=\"1\" /><path clip-path=\"url(#clip970)\" d=\"M1307.04 1093.96 L1309.38 1093.96 L1309.38 1111.24 L1307.04 1111.24 L1307.04 1093.96 Z\" fill=\"#000000\" fill-rule=\"evenodd\" fill-opacity=\"1\" /><path clip-path=\"url(#clip970)\" d=\"M1324.71 1103.41 L1324.71 1111.24 L1322.58 1111.24 L1322.58 1103.48 Q1322.58 1101.64 1321.87 1100.73 Q1321.15 1099.81 1319.71 1099.81 Q1317.99 1099.81 1316.99 1100.91 Q1316 1102.01 1316 1103.91 L1316 1111.24 L1313.86 1111.24 L1313.86 1098.27 L1316 1098.27 L1316 1100.29 Q1316.76 1099.12 1317.79 1098.54 Q1318.83 1097.96 1320.19 1097.96 Q1322.42 1097.96 1323.57 1099.35 Q1324.71 1100.73 1324.71 1103.41 Z\" fill=\"#000000\" fill-rule=\"evenodd\" fill-opacity=\"1\" /><path clip-path=\"url(#clip970)\" d=\"M1331.07 1094.59 L1331.07 1098.27 L1335.45 1098.27 L1335.45 1099.93 L1331.07 1099.93 L1331.07 1106.97 Q1331.07 1108.55 1331.5 1109 Q1331.94 1109.45 1333.27 1109.45 L1335.45 1109.45 L1335.45 1111.24 L1333.27 1111.24 Q1330.8 1111.24 1329.86 1110.32 Q1328.93 1109.4 1328.93 1106.97 L1328.93 1099.93 L1327.36 1099.93 L1327.36 1098.27 L1328.93 1098.27 L1328.93 1094.59 L1331.07 1094.59 Z\" fill=\"#000000\" fill-rule=\"evenodd\" fill-opacity=\"1\" /><path clip-path=\"url(#clip970)\" d=\"M1349.34 1104.22 L1349.34 1105.26 L1339.55 1105.26 Q1339.69 1107.46 1340.87 1108.62 Q1342.06 1109.77 1344.18 1109.77 Q1345.41 1109.77 1346.55 1109.47 Q1347.71 1109.16 1348.85 1108.56 L1348.85 1110.58 Q1347.7 1111.06 1346.5 1111.32 Q1345.29 1111.57 1344.05 1111.57 Q1340.95 1111.57 1339.14 1109.77 Q1337.33 1107.96 1337.33 1104.88 Q1337.33 1101.7 1339.04 1099.84 Q1340.77 1097.96 1343.68 1097.96 Q1346.3 1097.96 1347.82 1099.65 Q1349.34 1101.33 1349.34 1104.22 M1347.21 1103.6 Q1347.19 1101.85 1346.23 1100.81 Q1345.28 1099.77 1343.71 1099.77 Q1341.92 1099.77 1340.85 1100.77 Q1339.78 1101.78 1339.62 1103.61 L1347.21 1103.6 Z\" fill=\"#000000\" fill-rule=\"evenodd\" fill-opacity=\"1\" /><path clip-path=\"url(#clip970)\" d=\"M1361.37 1104.6 Q1361.37 1102.29 1360.41 1101.02 Q1359.46 1099.74 1357.73 1099.74 Q1356.02 1099.74 1355.06 1101.02 Q1354.11 1102.29 1354.11 1104.6 Q1354.11 1106.91 1355.06 1108.18 Q1356.02 1109.45 1357.73 1109.45 Q1359.46 1109.45 1360.41 1108.18 Q1361.37 1106.91 1361.37 1104.6 M1363.5 1109.63 Q1363.5 1112.94 1362.03 1114.55 Q1360.56 1116.17 1357.53 1116.17 Q1356.4 1116.17 1355.41 1115.99 Q1354.41 1115.83 1353.48 1115.48 L1353.48 1113.41 Q1354.41 1113.92 1355.33 1114.16 Q1356.24 1114.41 1357.19 1114.41 Q1359.29 1114.41 1360.33 1113.31 Q1361.37 1112.22 1361.37 1110.01 L1361.37 1108.96 Q1360.71 1110.1 1359.68 1110.67 Q1358.65 1111.24 1357.21 1111.24 Q1354.83 1111.24 1353.37 1109.42 Q1351.91 1107.6 1351.91 1104.6 Q1351.91 1101.6 1353.37 1099.78 Q1354.83 1097.96 1357.21 1097.96 Q1358.65 1097.96 1359.68 1098.53 Q1360.71 1099.1 1361.37 1100.24 L1361.37 1098.27 L1363.5 1098.27 L1363.5 1109.63 Z\" fill=\"#000000\" fill-rule=\"evenodd\" fill-opacity=\"1\" /><path clip-path=\"url(#clip970)\" d=\"M1378.97 1104.22 L1378.97 1105.26 L1369.18 1105.26 Q1369.32 1107.46 1370.5 1108.62 Q1371.69 1109.77 1373.81 1109.77 Q1375.04 1109.77 1376.18 1109.47 Q1377.34 1109.16 1378.48 1108.56 L1378.48 1110.58 Q1377.33 1111.06 1376.13 1111.32 Q1374.92 1111.57 1373.68 1111.57 Q1370.58 1111.57 1368.76 1109.77 Q1366.96 1107.96 1366.96 1104.88 Q1366.96 1101.7 1368.67 1099.84 Q1370.4 1097.96 1373.31 1097.96 Q1375.93 1097.96 1377.45 1099.65 Q1378.97 1101.33 1378.97 1104.22 M1376.84 1103.6 Q1376.82 1101.85 1375.86 1100.81 Q1374.91 1099.77 1373.34 1099.77 Q1371.55 1099.77 1370.48 1100.77 Q1369.41 1101.78 1369.25 1103.61 L1376.84 1103.6 Z\" fill=\"#000000\" fill-rule=\"evenodd\" fill-opacity=\"1\" /><path clip-path=\"url(#clip970)\" d=\"M1389.98 1100.26 Q1389.62 1100.06 1389.19 1099.96 Q1388.78 1099.86 1388.27 1099.86 Q1386.46 1099.86 1385.49 1101.04 Q1384.53 1102.21 1384.53 1104.41 L1384.53 1111.24 L1382.39 1111.24 L1382.39 1098.27 L1384.53 1098.27 L1384.53 1100.29 Q1385.2 1099.11 1386.28 1098.54 Q1387.35 1097.96 1388.89 1097.96 Q1389.11 1097.96 1389.38 1098 Q1389.64 1098.02 1389.97 1098.08 L1389.98 1100.26 Z\" fill=\"#000000\" fill-rule=\"evenodd\" fill-opacity=\"1\" /><path clip-path=\"url(#clip970)\" d=\"M909.222 1087.47 L909.222 1089.75 Q907.891 1089.12 906.711 1088.8 Q905.53 1088.49 904.431 1088.49 Q902.521 1088.49 901.479 1089.23 Q900.449 1089.97 900.449 1091.34 Q900.449 1092.49 901.132 1093.08 Q901.826 1093.65 903.748 1094.01 L905.16 1094.3 Q907.775 1094.8 909.014 1096.06 Q910.264 1097.31 910.264 1099.42 Q910.264 1101.93 908.574 1103.23 Q906.896 1104.52 903.644 1104.52 Q902.417 1104.52 901.028 1104.24 Q899.65 1103.97 898.169 1103.42 L898.169 1101.02 Q899.593 1101.81 900.958 1102.22 Q902.324 1102.62 903.644 1102.62 Q905.646 1102.62 906.734 1101.84 Q907.822 1101.05 907.822 1099.59 Q907.822 1098.32 907.035 1097.6 Q906.259 1096.88 904.477 1096.52 L903.053 1096.25 Q900.438 1095.73 899.269 1094.61 Q898.1 1093.5 898.1 1091.52 Q898.1 1089.23 899.708 1087.91 Q901.329 1086.59 904.164 1086.59 Q905.38 1086.59 906.641 1086.81 Q907.903 1087.03 909.222 1087.47 Z\" fill=\"#000000\" fill-rule=\"evenodd\" fill-opacity=\"1\" /><path clip-path=\"url(#clip970)\" d=\"M913.817 1091.22 L915.947 1091.22 L915.947 1104.19 L913.817 1104.19 L913.817 1091.22 M913.817 1086.18 L915.947 1086.18 L915.947 1088.87 L913.817 1088.87 L913.817 1086.18 Z\" fill=\"#000000\" fill-rule=\"evenodd\" fill-opacity=\"1\" /><path clip-path=\"url(#clip970)\" d=\"M928.933 1097.55 Q928.933 1095.24 927.972 1093.97 Q927.023 1092.69 925.298 1092.69 Q923.586 1092.69 922.625 1093.97 Q921.676 1095.24 921.676 1097.55 Q921.676 1099.86 922.625 1101.13 Q923.586 1102.4 925.298 1102.4 Q927.023 1102.4 927.972 1101.13 Q928.933 1099.86 928.933 1097.55 M931.062 1102.58 Q931.062 1105.89 929.592 1107.5 Q928.123 1109.12 925.09 1109.12 Q923.967 1109.12 922.972 1108.94 Q921.977 1108.78 921.039 1108.43 L921.039 1106.36 Q921.977 1106.87 922.891 1107.11 Q923.805 1107.36 924.755 1107.36 Q926.849 1107.36 927.891 1106.26 Q928.933 1105.17 928.933 1102.96 L928.933 1101.91 Q928.273 1103.05 927.243 1103.62 Q926.213 1104.19 924.778 1104.19 Q922.393 1104.19 920.935 1102.37 Q919.477 1100.55 919.477 1097.55 Q919.477 1094.55 920.935 1092.73 Q922.393 1090.91 924.778 1090.91 Q926.213 1090.91 927.243 1091.48 Q928.273 1092.05 928.933 1093.19 L928.933 1091.22 L931.062 1091.22 L931.062 1102.58 Z\" fill=\"#000000\" fill-rule=\"evenodd\" fill-opacity=\"1\" /><path clip-path=\"url(#clip970)\" d=\"M946.224 1096.36 L946.224 1104.19 L944.095 1104.19 L944.095 1096.43 Q944.095 1094.59 943.377 1093.68 Q942.66 1092.76 941.224 1092.76 Q939.5 1092.76 938.504 1093.86 Q937.509 1094.96 937.509 1096.86 L937.509 1104.19 L935.368 1104.19 L935.368 1091.22 L937.509 1091.22 L937.509 1093.24 Q938.273 1092.07 939.303 1091.49 Q940.345 1090.91 941.699 1090.91 Q943.933 1090.91 945.078 1092.3 Q946.224 1093.68 946.224 1096.36 Z\" fill=\"#000000\" fill-rule=\"evenodd\" fill-opacity=\"1\" /><path clip-path=\"url(#clip970)\" d=\"M961.56 1097.17 L961.56 1098.21 L951.768 1098.21 Q951.907 1100.41 953.088 1101.57 Q954.28 1102.72 956.398 1102.72 Q957.625 1102.72 958.771 1102.42 Q959.928 1102.11 961.062 1101.51 L961.062 1103.53 Q959.916 1104.01 958.713 1104.27 Q957.509 1104.52 956.271 1104.52 Q953.169 1104.52 951.352 1102.72 Q949.546 1100.91 949.546 1097.83 Q949.546 1094.65 951.259 1092.79 Q952.984 1090.91 955.9 1090.91 Q958.516 1090.91 960.032 1092.6 Q961.56 1094.28 961.56 1097.17 M959.43 1096.55 Q959.407 1094.8 958.446 1093.76 Q957.497 1092.72 955.923 1092.72 Q954.141 1092.72 953.065 1093.72 Q952 1094.73 951.838 1096.56 L959.43 1096.55 Z\" fill=\"#000000\" fill-rule=\"evenodd\" fill-opacity=\"1\" /><path clip-path=\"url(#clip970)\" d=\"M973.585 1093.19 L973.585 1086.18 L975.715 1086.18 L975.715 1104.19 L973.585 1104.19 L973.585 1102.24 Q972.914 1103.4 971.884 1103.97 Q970.865 1104.52 969.43 1104.52 Q967.081 1104.52 965.599 1102.65 Q964.129 1100.77 964.129 1097.72 Q964.129 1094.66 965.599 1092.79 Q967.081 1090.91 969.43 1090.91 Q970.865 1090.91 971.884 1091.48 Q972.914 1092.03 973.585 1093.19 M966.328 1097.72 Q966.328 1100.07 967.289 1101.41 Q968.261 1102.74 969.951 1102.74 Q971.641 1102.74 972.613 1101.41 Q973.585 1100.07 973.585 1097.72 Q973.585 1095.37 972.613 1094.04 Q971.641 1092.69 969.951 1092.69 Q968.261 1092.69 967.289 1094.04 Q966.328 1095.37 966.328 1097.72 Z\" fill=\"#000000\" fill-rule=\"evenodd\" fill-opacity=\"1\" /><path clip-path=\"url(#clip970)\" d=\"M825.737 1309.23 L825.737 1315.56 L829.487 1315.56 Q831.373 1315.56 832.276 1314.79 Q833.19 1314 833.19 1312.39 Q833.19 1310.77 832.276 1310.01 Q831.373 1309.23 829.487 1309.23 L825.737 1309.23 M825.737 1302.12 L825.737 1307.33 L829.197 1307.33 Q830.91 1307.33 831.744 1306.7 Q832.589 1306.05 832.589 1304.73 Q832.589 1303.42 831.744 1302.77 Q830.91 1302.12 829.197 1302.12 L825.737 1302.12 M823.399 1300.2 L829.371 1300.2 Q832.045 1300.2 833.491 1301.31 Q834.938 1302.43 834.938 1304.47 Q834.938 1306.06 834.197 1307 Q833.457 1307.94 832.021 1308.17 Q833.746 1308.54 834.695 1309.72 Q835.656 1310.89 835.656 1312.65 Q835.656 1314.96 834.082 1316.22 Q832.508 1317.48 829.603 1317.48 L823.399 1317.48 L823.399 1300.2 Z\" fill=\"#000000\" fill-rule=\"evenodd\" fill-opacity=\"1\" /><path clip-path=\"url(#clip970)\" d=\"M839.568 1304.52 L841.697 1304.52 L841.697 1317.48 L839.568 1317.48 L839.568 1304.52 M839.568 1299.47 L841.697 1299.47 L841.697 1302.17 L839.568 1302.17 L839.568 1299.47 Z\" fill=\"#000000\" fill-rule=\"evenodd\" fill-opacity=\"1\" /><path clip-path=\"url(#clip970)\" d=\"M854.683 1310.85 Q854.683 1308.54 853.723 1307.26 Q852.774 1305.99 851.049 1305.99 Q849.336 1305.99 848.376 1307.26 Q847.426 1308.54 847.426 1310.85 Q847.426 1313.16 848.376 1314.43 Q849.336 1315.7 851.049 1315.7 Q852.774 1315.7 853.723 1314.43 Q854.683 1313.16 854.683 1310.85 M856.813 1315.87 Q856.813 1319.19 855.343 1320.79 Q853.873 1322.41 850.841 1322.41 Q849.718 1322.41 848.723 1322.24 Q847.727 1322.08 846.79 1321.73 L846.79 1319.66 Q847.727 1320.17 848.642 1320.41 Q849.556 1320.65 850.505 1320.65 Q852.6 1320.65 853.642 1319.56 Q854.683 1318.47 854.683 1316.26 L854.683 1315.2 Q854.024 1316.35 852.994 1316.92 Q851.963 1317.48 850.528 1317.48 Q848.144 1317.48 846.686 1315.67 Q845.227 1313.85 845.227 1310.85 Q845.227 1307.84 846.686 1306.03 Q848.144 1304.21 850.528 1304.21 Q851.963 1304.21 852.994 1304.78 Q854.024 1305.34 854.683 1306.49 L854.683 1304.52 L856.813 1304.52 L856.813 1315.87 Z\" fill=\"#000000\" fill-rule=\"evenodd\" fill-opacity=\"1\" /><path clip-path=\"url(#clip970)\" d=\"M861.292 1300.2 L863.63 1300.2 L863.63 1317.48 L861.292 1317.48 L861.292 1300.2 Z\" fill=\"#000000\" fill-rule=\"evenodd\" fill-opacity=\"1\" /><path clip-path=\"url(#clip970)\" d=\"M878.966 1309.66 L878.966 1317.48 L876.836 1317.48 L876.836 1309.73 Q876.836 1307.89 876.118 1306.97 Q875.401 1306.06 873.966 1306.06 Q872.241 1306.06 871.246 1307.16 Q870.25 1308.26 870.25 1310.16 L870.25 1317.48 L868.109 1317.48 L868.109 1304.52 L870.25 1304.52 L870.25 1306.53 Q871.014 1305.37 872.044 1304.79 Q873.086 1304.21 874.44 1304.21 Q876.674 1304.21 877.82 1305.6 Q878.966 1306.97 878.966 1309.66 Z\" fill=\"#000000\" fill-rule=\"evenodd\" fill-opacity=\"1\" /><path clip-path=\"url(#clip970)\" d=\"M885.32 1300.84 L885.32 1304.52 L889.706 1304.52 L889.706 1306.18 L885.32 1306.18 L885.32 1313.21 Q885.32 1314.8 885.748 1315.25 Q886.188 1315.7 887.519 1315.7 L889.706 1315.7 L889.706 1317.48 L887.519 1317.48 Q885.054 1317.48 884.116 1316.57 Q883.179 1315.64 883.179 1313.21 L883.179 1306.18 L881.616 1306.18 L881.616 1304.52 L883.179 1304.52 L883.179 1300.84 L885.32 1300.84 Z\" fill=\"#000000\" fill-rule=\"evenodd\" fill-opacity=\"1\" /><path clip-path=\"url(#clip970)\" d=\"M924.265 1282.59 L926.603 1282.59 L926.603 1299.87 L924.265 1299.87 L924.265 1282.59 Z\" fill=\"#000000\" fill-rule=\"evenodd\" fill-opacity=\"1\" /><path clip-path=\"url(#clip970)\" d=\"M941.938 1292.05 L941.938 1299.87 L939.809 1299.87 L939.809 1292.12 Q939.809 1290.28 939.091 1289.37 Q938.374 1288.45 936.938 1288.45 Q935.214 1288.45 934.219 1289.55 Q933.223 1290.65 933.223 1292.55 L933.223 1299.87 L931.082 1299.87 L931.082 1286.91 L933.223 1286.91 L933.223 1288.93 Q933.987 1287.76 935.017 1287.18 Q936.059 1286.6 937.413 1286.6 Q939.647 1286.6 940.793 1287.99 Q941.938 1289.37 941.938 1292.05 Z\" fill=\"#000000\" fill-rule=\"evenodd\" fill-opacity=\"1\" /><path clip-path=\"url(#clip970)\" d=\"M948.293 1283.23 L948.293 1286.91 L952.679 1286.91 L952.679 1288.57 L948.293 1288.57 L948.293 1295.6 Q948.293 1297.19 948.721 1297.64 Q949.161 1298.09 950.492 1298.09 L952.679 1298.09 L952.679 1299.87 L950.492 1299.87 Q948.026 1299.87 947.089 1298.96 Q946.151 1298.03 946.151 1295.6 L946.151 1288.57 L944.589 1288.57 L944.589 1286.91 L946.151 1286.91 L946.151 1283.23 L948.293 1283.23 Z\" fill=\"#000000\" fill-rule=\"evenodd\" fill-opacity=\"1\" /><path clip-path=\"url(#clip970)\" d=\"M956.186 1297.91 L960.005 1297.91 L960.005 1284.72 L955.85 1285.56 L955.85 1283.43 L959.982 1282.59 L962.32 1282.59 L962.32 1297.91 L966.14 1297.91 L966.14 1299.87 L956.186 1299.87 L956.186 1297.91 Z\" fill=\"#000000\" fill-rule=\"evenodd\" fill-opacity=\"1\" /><path clip-path=\"url(#clip970)\" d=\"M972.876 1297.91 L981.035 1297.91 L981.035 1299.87 L970.063 1299.87 L970.063 1297.91 Q971.394 1296.53 973.686 1294.22 Q975.989 1291.89 976.579 1291.22 Q977.702 1289.96 978.142 1289.09 Q978.593 1288.21 978.593 1287.36 Q978.593 1285.99 977.621 1285.12 Q976.66 1284.25 975.11 1284.25 Q974.01 1284.25 972.783 1284.63 Q971.568 1285.01 970.179 1285.79 L970.179 1283.43 Q971.591 1282.86 972.818 1282.57 Q974.045 1282.28 975.063 1282.28 Q977.748 1282.28 979.346 1283.62 Q980.943 1284.97 980.943 1287.21 Q980.943 1288.28 980.538 1289.24 Q980.144 1290.19 979.091 1291.48 Q978.802 1291.82 977.251 1293.43 Q975.7 1295.03 972.876 1297.91 Z\" fill=\"#000000\" fill-rule=\"evenodd\" fill-opacity=\"1\" /><path clip-path=\"url(#clip970)\" d=\"M990.943 1291.67 Q989.276 1291.67 988.315 1292.56 Q987.366 1293.45 987.366 1295.01 Q987.366 1296.58 988.315 1297.47 Q989.276 1298.36 990.943 1298.36 Q992.609 1298.36 993.57 1297.47 Q994.531 1296.56 994.531 1295.01 Q994.531 1293.45 993.57 1292.56 Q992.621 1291.67 990.943 1291.67 M988.605 1290.67 Q987.1 1290.3 986.255 1289.27 Q985.422 1288.24 985.422 1286.76 Q985.422 1284.69 986.892 1283.49 Q988.373 1282.28 990.943 1282.28 Q993.524 1282.28 994.994 1283.49 Q996.464 1284.69 996.464 1286.76 Q996.464 1288.24 995.619 1289.27 Q994.785 1290.3 993.292 1290.67 Q994.982 1291.07 995.92 1292.21 Q996.869 1293.36 996.869 1295.01 Q996.869 1297.53 995.329 1298.87 Q993.802 1300.21 990.943 1300.21 Q988.084 1300.21 986.545 1298.87 Q985.017 1297.53 985.017 1295.01 Q985.017 1293.36 985.966 1292.21 Q986.915 1291.07 988.605 1290.67 M987.748 1286.98 Q987.748 1288.32 988.582 1289.08 Q989.427 1289.83 990.943 1289.83 Q992.447 1289.83 993.292 1289.08 Q994.149 1288.32 994.149 1286.98 Q994.149 1285.64 993.292 1284.89 Q992.447 1284.13 990.943 1284.13 Q989.427 1284.13 988.582 1284.89 Q987.748 1285.64 987.748 1286.98 Z\" fill=\"#000000\" fill-rule=\"evenodd\" fill-opacity=\"1\" /><path clip-path=\"url(#clip970)\" d=\"M633.492 1219.77 L635.83 1219.77 L635.83 1237.05 L633.492 1237.05 L633.492 1219.77 Z\" fill=\"#000000\" fill-rule=\"evenodd\" fill-opacity=\"1\" /><path clip-path=\"url(#clip970)\" d=\"M651.166 1229.22 L651.166 1237.05 L649.036 1237.05 L649.036 1229.29 Q649.036 1227.45 648.318 1226.54 Q647.601 1225.62 646.166 1225.62 Q644.441 1225.62 643.446 1226.72 Q642.45 1227.82 642.45 1229.72 L642.45 1237.05 L640.309 1237.05 L640.309 1224.08 L642.45 1224.08 L642.45 1226.1 Q643.214 1224.93 644.244 1224.35 Q645.286 1223.77 646.64 1223.77 Q648.874 1223.77 650.02 1225.16 Q651.166 1226.54 651.166 1229.22 Z\" fill=\"#000000\" fill-rule=\"evenodd\" fill-opacity=\"1\" /><path clip-path=\"url(#clip970)\" d=\"M657.52 1220.4 L657.52 1224.08 L661.906 1224.08 L661.906 1225.74 L657.52 1225.74 L657.52 1232.78 Q657.52 1234.36 657.948 1234.81 Q658.388 1235.26 659.719 1235.26 L661.906 1235.26 L661.906 1237.05 L659.719 1237.05 Q657.254 1237.05 656.316 1236.13 Q655.379 1235.21 655.379 1232.78 L655.379 1225.74 L653.816 1225.74 L653.816 1224.08 L655.379 1224.08 L655.379 1220.4 L657.52 1220.4 Z\" fill=\"#000000\" fill-rule=\"evenodd\" fill-opacity=\"1\" /><path clip-path=\"url(#clip970)\" d=\"M665.413 1235.08 L669.233 1235.08 L669.233 1221.9 L665.078 1222.73 L665.078 1220.6 L669.21 1219.77 L671.547 1219.77 L671.547 1235.08 L675.367 1235.08 L675.367 1237.05 L665.413 1237.05 L665.413 1235.08 Z\" fill=\"#000000\" fill-rule=\"evenodd\" fill-opacity=\"1\" /><path clip-path=\"url(#clip970)\" d=\"M685.378 1227.48 Q683.804 1227.48 682.878 1228.55 Q681.964 1229.63 681.964 1231.5 Q681.964 1233.37 682.878 1234.45 Q683.804 1235.53 685.378 1235.53 Q686.952 1235.53 687.867 1234.45 Q688.793 1233.37 688.793 1231.5 Q688.793 1229.63 687.867 1228.55 Q686.952 1227.48 685.378 1227.48 M690.02 1220.15 L690.02 1222.28 Q689.14 1221.86 688.237 1221.64 Q687.346 1221.42 686.466 1221.42 Q684.152 1221.42 682.925 1222.98 Q681.709 1224.55 681.536 1227.71 Q682.219 1226.7 683.249 1226.17 Q684.279 1225.62 685.517 1225.62 Q688.121 1225.62 689.626 1227.21 Q691.142 1228.78 691.142 1231.5 Q691.142 1234.17 689.568 1235.77 Q687.994 1237.38 685.378 1237.38 Q682.381 1237.38 680.795 1235.09 Q679.209 1232.79 679.209 1228.42 Q679.209 1224.33 681.154 1221.9 Q683.098 1219.45 686.374 1219.45 Q687.253 1219.45 688.145 1219.63 Q689.047 1219.8 690.02 1220.15 Z\" fill=\"#000000\" fill-rule=\"evenodd\" fill-opacity=\"1\" /><path clip-path=\"url(#clip970)\" d=\"M696.877 1236.41 L699.215 1236.41 L699.215 1253.69 L696.877 1253.69 L696.877 1236.41 Z\" fill=\"#000000\" fill-rule=\"evenodd\" fill-opacity=\"1\" /><path clip-path=\"url(#clip970)\" d=\"M714.55 1245.86 L714.55 1253.69 L712.421 1253.69 L712.421 1245.93 Q712.421 1244.09 711.703 1243.18 Q710.985 1242.27 709.55 1242.27 Q707.826 1242.27 706.83 1243.36 Q705.835 1244.46 705.835 1246.36 L705.835 1253.69 L703.694 1253.69 L703.694 1240.73 L705.835 1240.73 L705.835 1242.74 Q706.599 1241.57 707.629 1240.99 Q708.671 1240.41 710.025 1240.41 Q712.258 1240.41 713.404 1241.8 Q714.55 1243.18 714.55 1245.86 Z\" fill=\"#000000\" fill-rule=\"evenodd\" fill-opacity=\"1\" /><path clip-path=\"url(#clip970)\" d=\"M720.904 1237.05 L720.904 1240.73 L725.291 1240.73 L725.291 1242.38 L720.904 1242.38 L720.904 1249.42 Q720.904 1251 721.333 1251.46 Q721.772 1251.91 723.103 1251.91 L725.291 1251.91 L725.291 1253.69 L723.103 1253.69 Q720.638 1253.69 719.701 1252.77 Q718.763 1251.85 718.763 1249.42 L718.763 1242.38 L717.201 1242.38 L717.201 1240.73 L718.763 1240.73 L718.763 1237.05 L720.904 1237.05 Z\" fill=\"#000000\" fill-rule=\"evenodd\" fill-opacity=\"1\" /><path clip-path=\"url(#clip970)\" d=\"M735.476 1244.37 Q737.154 1244.73 738.092 1245.86 Q739.041 1247 739.041 1248.67 Q739.041 1251.22 737.282 1252.62 Q735.522 1254.02 732.282 1254.02 Q731.194 1254.02 730.036 1253.8 Q728.89 1253.6 727.664 1253.17 L727.664 1250.91 Q728.636 1251.48 729.793 1251.77 Q730.951 1252.06 732.212 1252.06 Q734.411 1252.06 735.557 1251.19 Q736.714 1250.32 736.714 1248.67 Q736.714 1247.14 735.638 1246.28 Q734.573 1245.41 732.663 1245.41 L730.65 1245.41 L730.65 1243.49 L732.756 1243.49 Q734.481 1243.49 735.395 1242.81 Q736.309 1242.11 736.309 1240.82 Q736.309 1239.49 735.36 1238.78 Q734.423 1238.06 732.663 1238.06 Q731.703 1238.06 730.603 1238.27 Q729.504 1238.48 728.184 1238.92 L728.184 1236.84 Q729.515 1236.47 730.673 1236.28 Q731.842 1236.1 732.872 1236.1 Q735.534 1236.1 737.085 1237.31 Q738.636 1238.52 738.636 1240.58 Q738.636 1242.01 737.814 1243.01 Q736.992 1243.99 735.476 1244.37 Z\" fill=\"#000000\" fill-rule=\"evenodd\" fill-opacity=\"1\" /><path clip-path=\"url(#clip970)\" d=\"M745.487 1251.72 L753.647 1251.72 L753.647 1253.69 L742.675 1253.69 L742.675 1251.72 Q744.006 1250.34 746.298 1248.03 Q748.601 1245.7 749.191 1245.03 Q750.314 1243.77 750.754 1242.9 Q751.205 1242.02 751.205 1241.18 Q751.205 1239.8 750.233 1238.93 Q749.272 1238.06 747.721 1238.06 Q746.622 1238.06 745.395 1238.45 Q744.18 1238.83 742.791 1239.6 L742.791 1237.24 Q744.203 1236.68 745.43 1236.39 Q746.656 1236.1 747.675 1236.1 Q750.36 1236.1 751.957 1237.44 Q753.555 1238.78 753.555 1241.03 Q753.555 1242.09 753.149 1243.05 Q752.756 1244 751.703 1245.3 Q751.413 1245.63 749.862 1247.24 Q748.312 1248.84 745.487 1251.72 Z\" fill=\"#000000\" fill-rule=\"evenodd\" fill-opacity=\"1\" /><path clip-path=\"url(#clip970)\" d=\"M763.993 1211.83 L766.331 1211.83 L766.331 1229.11 L763.993 1229.11 L763.993 1211.83 Z\" fill=\"#000000\" fill-rule=\"evenodd\" fill-opacity=\"1\" /><path clip-path=\"url(#clip970)\" d=\"M781.667 1221.29 L781.667 1229.11 L779.537 1229.11 L779.537 1221.36 Q779.537 1219.52 778.82 1218.61 Q778.102 1217.69 776.667 1217.69 Q774.942 1217.69 773.947 1218.79 Q772.952 1219.89 772.952 1221.79 L772.952 1229.11 L770.81 1229.11 L770.81 1216.15 L772.952 1216.15 L772.952 1218.17 Q773.716 1217 774.746 1216.42 Q775.787 1215.84 777.141 1215.84 Q779.375 1215.84 780.521 1217.23 Q781.667 1218.61 781.667 1221.29 Z\" fill=\"#000000\" fill-rule=\"evenodd\" fill-opacity=\"1\" /><path clip-path=\"url(#clip970)\" d=\"M788.021 1212.47 L788.021 1216.15 L792.408 1216.15 L792.408 1217.81 L788.021 1217.81 L788.021 1224.84 Q788.021 1226.43 788.449 1226.88 Q788.889 1227.33 790.22 1227.33 L792.408 1227.33 L792.408 1229.11 L790.22 1229.11 Q787.755 1229.11 786.817 1228.2 Q785.88 1227.27 785.88 1224.84 L785.88 1217.81 L784.317 1217.81 L784.317 1216.15 L785.88 1216.15 L785.88 1212.47 L788.021 1212.47 Z\" fill=\"#000000\" fill-rule=\"evenodd\" fill-opacity=\"1\" /><path clip-path=\"url(#clip970)\" d=\"M800.799 1219.54 Q799.225 1219.54 798.299 1220.62 Q797.384 1221.7 797.384 1223.57 Q797.384 1225.43 798.299 1226.52 Q799.225 1227.6 800.799 1227.6 Q802.373 1227.6 803.287 1226.52 Q804.213 1225.43 804.213 1223.57 Q804.213 1221.7 803.287 1220.62 Q802.373 1219.54 800.799 1219.54 M805.44 1212.22 L805.44 1214.35 Q804.56 1213.93 803.658 1213.71 Q802.766 1213.49 801.887 1213.49 Q799.572 1213.49 798.345 1215.05 Q797.13 1216.62 796.956 1219.77 Q797.639 1218.77 798.669 1218.24 Q799.699 1217.69 800.938 1217.69 Q803.542 1217.69 805.046 1219.28 Q806.563 1220.85 806.563 1223.57 Q806.563 1226.23 804.989 1227.84 Q803.414 1229.45 800.799 1229.45 Q797.801 1229.45 796.215 1227.16 Q794.63 1224.86 794.63 1220.49 Q794.63 1216.4 796.574 1213.96 Q798.519 1211.52 801.794 1211.52 Q802.674 1211.52 803.565 1211.7 Q804.468 1211.87 805.44 1212.22 Z\" fill=\"#000000\" fill-rule=\"evenodd\" fill-opacity=\"1\" /><path clip-path=\"url(#clip970)\" d=\"M817.014 1213.87 L811.111 1223.1 L817.014 1223.1 L817.014 1213.87 M816.401 1211.83 L819.34 1211.83 L819.34 1223.1 L821.806 1223.1 L821.806 1225.04 L819.34 1225.04 L819.34 1229.11 L817.014 1229.11 L817.014 1225.04 L809.213 1225.04 L809.213 1222.78 L816.401 1211.83 Z\" fill=\"#000000\" fill-rule=\"evenodd\" fill-opacity=\"1\" /><path clip-path=\"url(#clip970)\" d=\"M1034.07 1257.6 L1036.41 1257.6 L1036.41 1274.88 L1034.07 1274.88 L1034.07 1257.6 Z\" fill=\"#000000\" fill-rule=\"evenodd\" fill-opacity=\"1\" /><path clip-path=\"url(#clip970)\" d=\"M1051.74 1267.06 L1051.74 1274.88 L1049.61 1274.88 L1049.61 1267.13 Q1049.61 1265.29 1048.89 1264.37 Q1048.18 1263.46 1046.74 1263.46 Q1045.02 1263.46 1044.02 1264.56 Q1043.03 1265.66 1043.03 1267.55 L1043.03 1274.88 L1040.89 1274.88 L1040.89 1261.92 L1043.03 1261.92 L1043.03 1263.93 Q1043.79 1262.76 1044.82 1262.18 Q1045.86 1261.6 1047.22 1261.6 Q1049.45 1261.6 1050.6 1262.99 Q1051.74 1264.37 1051.74 1267.06 Z\" fill=\"#000000\" fill-rule=\"evenodd\" fill-opacity=\"1\" /><path clip-path=\"url(#clip970)\" d=\"M1058.1 1258.24 L1058.1 1261.92 L1062.48 1261.92 L1062.48 1263.57 L1058.1 1263.57 L1058.1 1270.61 Q1058.1 1272.19 1058.52 1272.65 Q1058.96 1273.1 1060.3 1273.1 L1062.48 1273.1 L1062.48 1274.88 L1060.3 1274.88 Q1057.83 1274.88 1056.89 1273.97 Q1055.96 1273.04 1055.96 1270.61 L1055.96 1263.57 L1054.39 1263.57 L1054.39 1261.92 L1055.96 1261.92 L1055.96 1258.24 L1058.1 1258.24 Z\" fill=\"#000000\" fill-rule=\"evenodd\" fill-opacity=\"1\" /><path clip-path=\"url(#clip970)\" d=\"M1070.58 1266.67 Q1068.92 1266.67 1067.96 1267.57 Q1067.01 1268.46 1067.01 1270.02 Q1067.01 1271.58 1067.96 1272.47 Q1068.92 1273.36 1070.58 1273.36 Q1072.25 1273.36 1073.21 1272.47 Q1074.17 1271.57 1074.17 1270.02 Q1074.17 1268.46 1073.21 1267.57 Q1072.26 1266.67 1070.58 1266.67 M1068.25 1265.68 Q1066.74 1265.31 1065.9 1264.28 Q1065.06 1263.25 1065.06 1261.77 Q1065.06 1259.69 1066.53 1258.49 Q1068.02 1257.29 1070.58 1257.29 Q1073.17 1257.29 1074.64 1258.49 Q1076.11 1259.69 1076.11 1261.77 Q1076.11 1263.25 1075.26 1264.28 Q1074.43 1265.31 1072.93 1265.68 Q1074.62 1266.07 1075.56 1267.22 Q1076.51 1268.36 1076.51 1270.02 Q1076.51 1272.53 1074.97 1273.87 Q1073.44 1275.22 1070.58 1275.22 Q1067.73 1275.22 1066.19 1273.87 Q1064.66 1272.53 1064.66 1270.02 Q1064.66 1268.36 1065.61 1267.22 Q1066.56 1266.07 1068.25 1265.68 M1067.39 1261.99 Q1067.39 1263.33 1068.22 1264.08 Q1069.07 1264.83 1070.58 1264.83 Q1072.09 1264.83 1072.93 1264.08 Q1073.79 1263.33 1073.79 1261.99 Q1073.79 1260.64 1072.93 1259.89 Q1072.09 1259.14 1070.58 1259.14 Q1069.07 1259.14 1068.22 1259.89 Q1067.39 1260.64 1067.39 1261.99 Z\" fill=\"#000000\" fill-rule=\"evenodd\" fill-opacity=\"1\" /><path clip-path=\"url(#clip970)\" d=\"M1435.7 1075.58 L1438.05 1075.58 L1438.05 1086.08 Q1438.05 1088.86 1439.06 1090.08 Q1440.07 1091.3 1442.32 1091.3 Q1444.57 1091.3 1445.58 1090.08 Q1446.58 1088.86 1446.58 1086.08 L1446.58 1075.58 L1448.93 1075.58 L1448.93 1086.37 Q1448.93 1089.75 1447.25 1091.47 Q1445.59 1093.2 1442.32 1093.2 Q1439.05 1093.2 1437.37 1091.47 Q1435.7 1089.75 1435.7 1086.37 L1435.7 1075.58 Z\" fill=\"#000000\" fill-rule=\"evenodd\" fill-opacity=\"1\" /><path clip-path=\"url(#clip970)\" d=\"M1464 1085.04 L1464 1092.86 L1461.87 1092.86 L1461.87 1085.11 Q1461.87 1083.27 1461.15 1082.35 Q1460.44 1081.44 1459 1081.44 Q1457.28 1081.44 1456.28 1082.54 Q1455.29 1083.64 1455.29 1085.53 L1455.29 1092.86 L1453.14 1092.86 L1453.14 1079.9 L1455.29 1079.9 L1455.29 1081.91 Q1456.05 1080.74 1457.08 1080.16 Q1458.12 1079.58 1459.48 1079.58 Q1461.71 1079.58 1462.86 1080.97 Q1464 1082.35 1464 1085.04 Z\" fill=\"#000000\" fill-rule=\"evenodd\" fill-opacity=\"1\" /><path clip-path=\"url(#clip970)\" d=\"M1476.51 1080.28 L1476.51 1082.29 Q1475.61 1081.83 1474.64 1081.6 Q1473.67 1081.37 1472.62 1081.37 Q1471.04 1081.37 1470.24 1081.85 Q1469.45 1082.34 1469.45 1083.31 Q1469.45 1084.05 1470.02 1084.48 Q1470.59 1084.9 1472.3 1085.28 L1473.03 1085.44 Q1475.3 1085.93 1476.25 1086.82 Q1477.21 1087.7 1477.21 1089.28 Q1477.21 1091.09 1475.77 1092.14 Q1474.35 1093.2 1471.85 1093.2 Q1470.81 1093.2 1469.67 1092.99 Q1468.55 1092.79 1467.3 1092.39 L1467.3 1090.19 Q1468.48 1090.8 1469.63 1091.11 Q1470.77 1091.41 1471.89 1091.41 Q1473.4 1091.41 1474.21 1090.9 Q1475.02 1090.38 1475.02 1089.45 Q1475.02 1088.58 1474.43 1088.11 Q1473.85 1087.65 1471.87 1087.22 L1471.13 1087.05 Q1469.15 1086.63 1468.27 1085.78 Q1467.39 1084.91 1467.39 1083.4 Q1467.39 1081.58 1468.69 1080.58 Q1469.99 1079.58 1472.37 1079.58 Q1473.55 1079.58 1474.59 1079.76 Q1475.63 1079.93 1476.51 1080.28 Z\" fill=\"#000000\" fill-rule=\"evenodd\" fill-opacity=\"1\" /><path clip-path=\"url(#clip970)\" d=\"M1480.6 1079.9 L1482.73 1079.9 L1482.73 1092.86 L1480.6 1092.86 L1480.6 1079.9 M1480.6 1074.85 L1482.73 1074.85 L1482.73 1077.55 L1480.6 1077.55 L1480.6 1074.85 Z\" fill=\"#000000\" fill-rule=\"evenodd\" fill-opacity=\"1\" /><path clip-path=\"url(#clip970)\" d=\"M1495.71 1086.23 Q1495.71 1083.91 1494.75 1082.64 Q1493.8 1081.37 1492.08 1081.37 Q1490.37 1081.37 1489.41 1082.64 Q1488.46 1083.91 1488.46 1086.23 Q1488.46 1088.53 1489.41 1089.8 Q1490.37 1091.08 1492.08 1091.08 Q1493.8 1091.08 1494.75 1089.8 Q1495.71 1088.53 1495.71 1086.23 M1497.84 1091.25 Q1497.84 1094.56 1496.37 1096.17 Q1494.9 1097.79 1491.87 1097.79 Q1490.75 1097.79 1489.75 1097.62 Q1488.76 1097.45 1487.82 1097.11 L1487.82 1095.04 Q1488.76 1095.55 1489.67 1095.79 Q1490.59 1096.03 1491.54 1096.03 Q1493.63 1096.03 1494.67 1094.93 Q1495.71 1093.84 1495.71 1091.63 L1495.71 1090.58 Q1495.05 1091.73 1494.02 1092.29 Q1492.99 1092.86 1491.56 1092.86 Q1489.17 1092.86 1487.72 1091.04 Q1486.26 1089.23 1486.26 1086.23 Q1486.26 1083.22 1487.72 1081.4 Q1489.17 1079.58 1491.56 1079.58 Q1492.99 1079.58 1494.02 1080.15 Q1495.05 1080.72 1495.71 1081.86 L1495.71 1079.9 L1497.84 1079.9 L1497.84 1091.25 Z\" fill=\"#000000\" fill-rule=\"evenodd\" fill-opacity=\"1\" /><path clip-path=\"url(#clip970)\" d=\"M1513.01 1085.04 L1513.01 1092.86 L1510.88 1092.86 L1510.88 1085.11 Q1510.88 1083.27 1510.16 1082.35 Q1509.44 1081.44 1508.01 1081.44 Q1506.28 1081.44 1505.29 1082.54 Q1504.29 1083.64 1504.29 1085.53 L1504.29 1092.86 L1502.15 1092.86 L1502.15 1079.9 L1504.29 1079.9 L1504.29 1081.91 Q1505.05 1080.74 1506.08 1080.16 Q1507.13 1079.58 1508.48 1079.58 Q1510.71 1079.58 1511.86 1080.97 Q1513.01 1082.35 1513.01 1085.04 Z\" fill=\"#000000\" fill-rule=\"evenodd\" fill-opacity=\"1\" /><path clip-path=\"url(#clip970)\" d=\"M1528.34 1085.85 L1528.34 1086.89 L1518.55 1086.89 Q1518.69 1089.09 1519.87 1090.24 Q1521.06 1091.39 1523.18 1091.39 Q1524.41 1091.39 1525.55 1091.09 Q1526.71 1090.79 1527.84 1090.19 L1527.84 1092.2 Q1526.7 1092.69 1525.49 1092.94 Q1524.29 1093.2 1523.05 1093.2 Q1519.95 1093.2 1518.13 1091.39 Q1516.33 1089.58 1516.33 1086.51 Q1516.33 1083.32 1518.04 1081.46 Q1519.76 1079.58 1522.68 1079.58 Q1525.3 1079.58 1526.81 1081.27 Q1528.34 1082.95 1528.34 1085.85 M1526.21 1085.22 Q1526.19 1083.47 1525.23 1082.43 Q1524.28 1081.39 1522.7 1081.39 Q1520.92 1081.39 1519.85 1082.4 Q1518.78 1083.4 1518.62 1085.23 L1526.21 1085.22 Z\" fill=\"#000000\" fill-rule=\"evenodd\" fill-opacity=\"1\" /><path clip-path=\"url(#clip970)\" d=\"M1540.37 1081.86 L1540.37 1074.85 L1542.5 1074.85 L1542.5 1092.86 L1540.37 1092.86 L1540.37 1090.92 Q1539.7 1092.07 1538.67 1092.64 Q1537.65 1093.2 1536.21 1093.2 Q1533.86 1093.2 1532.38 1091.32 Q1530.91 1089.45 1530.91 1086.39 Q1530.91 1083.33 1532.38 1081.46 Q1533.86 1079.58 1536.21 1079.58 Q1537.65 1079.58 1538.67 1080.15 Q1539.7 1080.71 1540.37 1081.86 M1533.11 1086.39 Q1533.11 1088.74 1534.07 1090.08 Q1535.04 1091.41 1536.73 1091.41 Q1538.42 1091.41 1539.39 1090.08 Q1540.37 1088.74 1540.37 1086.39 Q1540.37 1084.04 1539.39 1082.71 Q1538.42 1081.37 1536.73 1081.37 Q1535.04 1081.37 1534.07 1082.71 Q1533.11 1084.04 1533.11 1086.39 Z\" fill=\"#000000\" fill-rule=\"evenodd\" fill-opacity=\"1\" /><path clip-path=\"url(#clip970)\" d=\"M1621.5 1247.51 L1623.85 1247.51 L1623.85 1258.01 Q1623.85 1260.79 1624.86 1262.01 Q1625.86 1263.23 1628.12 1263.23 Q1630.37 1263.23 1631.37 1262.01 Q1632.38 1260.79 1632.38 1258.01 L1632.38 1247.51 L1634.73 1247.51 L1634.73 1258.3 Q1634.73 1261.68 1633.05 1263.4 Q1631.38 1265.13 1628.12 1265.13 Q1624.84 1265.13 1623.17 1263.4 Q1621.5 1261.68 1621.5 1258.3 L1621.5 1247.51 Z\" fill=\"#000000\" fill-rule=\"evenodd\" fill-opacity=\"1\" /><path clip-path=\"url(#clip970)\" d=\"M1639.12 1247.51 L1641.45 1247.51 L1641.45 1264.79 L1639.12 1264.79 L1639.12 1247.51 Z\" fill=\"#000000\" fill-rule=\"evenodd\" fill-opacity=\"1\" /><path clip-path=\"url(#clip970)\" d=\"M1656.79 1256.97 L1656.79 1264.79 L1654.66 1264.79 L1654.66 1257.04 Q1654.66 1255.2 1653.94 1254.28 Q1653.22 1253.37 1651.79 1253.37 Q1650.06 1253.37 1649.07 1254.47 Q1648.07 1255.57 1648.07 1257.47 L1648.07 1264.79 L1645.93 1264.79 L1645.93 1251.83 L1648.07 1251.83 L1648.07 1253.84 Q1648.84 1252.67 1649.87 1252.1 Q1650.91 1251.52 1652.26 1251.52 Q1654.5 1251.52 1655.64 1252.91 Q1656.79 1254.28 1656.79 1256.97 Z\" fill=\"#000000\" fill-rule=\"evenodd\" fill-opacity=\"1\" /><path clip-path=\"url(#clip970)\" d=\"M1663.14 1248.15 L1663.14 1251.83 L1667.53 1251.83 L1667.53 1253.48 L1663.14 1253.48 L1663.14 1260.52 Q1663.14 1262.11 1663.57 1262.56 Q1664.01 1263.01 1665.34 1263.01 L1667.53 1263.01 L1667.53 1264.79 L1665.34 1264.79 Q1662.88 1264.79 1661.94 1263.88 Q1661 1262.95 1661 1260.52 L1661 1253.48 L1659.44 1253.48 L1659.44 1251.83 L1661 1251.83 L1661 1248.15 L1663.14 1248.15 Z\" fill=\"#000000\" fill-rule=\"evenodd\" fill-opacity=\"1\" /><path clip-path=\"url(#clip970)\" d=\"M1671.04 1262.82 L1674.86 1262.82 L1674.86 1249.64 L1670.7 1250.48 L1670.7 1248.35 L1674.83 1247.51 L1677.17 1247.51 L1677.17 1262.82 L1680.99 1262.82 L1680.99 1264.79 L1671.04 1264.79 L1671.04 1262.82 Z\" fill=\"#000000\" fill-rule=\"evenodd\" fill-opacity=\"1\" /><path clip-path=\"url(#clip970)\" d=\"M1687.73 1262.82 L1695.89 1262.82 L1695.89 1264.79 L1684.91 1264.79 L1684.91 1262.82 Q1686.25 1261.45 1688.54 1259.13 Q1690.84 1256.81 1691.43 1256.13 Q1692.55 1254.87 1692.99 1254.01 Q1693.44 1253.13 1693.44 1252.28 Q1693.44 1250.9 1692.47 1250.04 Q1691.51 1249.17 1689.96 1249.17 Q1688.86 1249.17 1687.63 1249.55 Q1686.42 1249.93 1685.03 1250.71 L1685.03 1248.35 Q1686.44 1247.78 1687.67 1247.49 Q1688.9 1247.2 1689.91 1247.2 Q1692.6 1247.2 1694.2 1248.54 Q1695.79 1249.89 1695.79 1252.13 Q1695.79 1253.2 1695.39 1254.16 Q1695 1255.1 1693.94 1256.4 Q1693.65 1256.74 1692.1 1258.35 Q1690.55 1259.94 1687.73 1262.82 Z\" fill=\"#000000\" fill-rule=\"evenodd\" fill-opacity=\"1\" /><path clip-path=\"url(#clip970)\" d=\"M1705.79 1256.59 Q1704.13 1256.59 1703.17 1257.48 Q1702.22 1258.37 1702.22 1259.93 Q1702.22 1261.49 1703.17 1262.38 Q1704.13 1263.28 1705.79 1263.28 Q1707.46 1263.28 1708.42 1262.38 Q1709.38 1261.48 1709.38 1259.93 Q1709.38 1258.37 1708.42 1257.48 Q1707.47 1256.59 1705.79 1256.59 M1703.46 1255.59 Q1701.95 1255.22 1701.11 1254.19 Q1700.27 1253.16 1700.27 1251.68 Q1700.27 1249.61 1701.74 1248.4 Q1703.22 1247.2 1705.79 1247.2 Q1708.37 1247.2 1709.84 1248.4 Q1711.31 1249.61 1711.31 1251.68 Q1711.31 1253.16 1710.47 1254.19 Q1709.64 1255.22 1708.14 1255.59 Q1709.83 1255.98 1710.77 1257.13 Q1711.72 1258.28 1711.72 1259.93 Q1711.72 1262.44 1710.18 1263.79 Q1708.65 1265.13 1705.79 1265.13 Q1702.93 1265.13 1701.4 1263.79 Q1699.87 1262.44 1699.87 1259.93 Q1699.87 1258.28 1700.82 1257.13 Q1701.77 1255.98 1703.46 1255.59 M1702.6 1251.9 Q1702.6 1253.24 1703.43 1253.99 Q1704.28 1254.75 1705.79 1254.75 Q1707.3 1254.75 1708.14 1253.99 Q1709 1253.24 1709 1251.9 Q1709 1250.56 1708.14 1249.8 Q1707.3 1249.05 1705.79 1249.05 Q1704.28 1249.05 1703.43 1249.8 Q1702.6 1250.56 1702.6 1251.9 Z\" fill=\"#000000\" fill-rule=\"evenodd\" fill-opacity=\"1\" /><path clip-path=\"url(#clip970)\" d=\"M1556.93 1302.78 L1559.28 1302.78 L1559.28 1313.28 Q1559.28 1316.06 1560.29 1317.29 Q1561.3 1318.5 1563.55 1318.5 Q1565.8 1318.5 1566.8 1317.29 Q1567.81 1316.06 1567.81 1313.28 L1567.81 1302.78 L1570.16 1302.78 L1570.16 1313.57 Q1570.16 1316.95 1568.48 1318.68 Q1566.82 1320.4 1563.55 1320.4 Q1560.28 1320.4 1558.6 1318.68 Q1556.93 1316.95 1556.93 1313.57 L1556.93 1302.78 Z\" fill=\"#000000\" fill-rule=\"evenodd\" fill-opacity=\"1\" /><path clip-path=\"url(#clip970)\" d=\"M1574.55 1302.78 L1576.89 1302.78 L1576.89 1320.06 L1574.55 1320.06 L1574.55 1302.78 Z\" fill=\"#000000\" fill-rule=\"evenodd\" fill-opacity=\"1\" /><path clip-path=\"url(#clip970)\" d=\"M1592.22 1312.24 L1592.22 1320.06 L1590.09 1320.06 L1590.09 1312.31 Q1590.09 1310.47 1589.37 1309.55 Q1588.66 1308.64 1587.22 1308.64 Q1585.5 1308.64 1584.5 1309.74 Q1583.51 1310.84 1583.51 1312.74 L1583.51 1320.06 L1581.36 1320.06 L1581.36 1307.1 L1583.51 1307.1 L1583.51 1309.12 Q1584.27 1307.95 1585.3 1307.37 Q1586.34 1306.79 1587.7 1306.79 Q1589.93 1306.79 1591.08 1308.18 Q1592.22 1309.55 1592.22 1312.24 Z\" fill=\"#000000\" fill-rule=\"evenodd\" fill-opacity=\"1\" /><path clip-path=\"url(#clip970)\" d=\"M1598.58 1303.42 L1598.58 1307.1 L1602.96 1307.1 L1602.96 1308.76 L1598.58 1308.76 L1598.58 1315.79 Q1598.58 1317.38 1599 1317.83 Q1599.44 1318.28 1600.77 1318.28 L1602.96 1318.28 L1602.96 1320.06 L1600.77 1320.06 Q1598.31 1320.06 1597.37 1319.15 Q1596.43 1318.22 1596.43 1315.79 L1596.43 1308.76 L1594.87 1308.76 L1594.87 1307.1 L1596.43 1307.1 L1596.43 1303.42 L1598.58 1303.42 Z\" fill=\"#000000\" fill-rule=\"evenodd\" fill-opacity=\"1\" /><path clip-path=\"url(#clip970)\" d=\"M1606.47 1318.1 L1610.29 1318.1 L1610.29 1304.91 L1606.13 1305.75 L1606.13 1303.62 L1610.26 1302.78 L1612.6 1302.78 L1612.6 1318.1 L1616.42 1318.1 L1616.42 1320.06 L1606.47 1320.06 L1606.47 1318.1 Z\" fill=\"#000000\" fill-rule=\"evenodd\" fill-opacity=\"1\" /><path clip-path=\"url(#clip970)\" d=\"M1626.43 1310.49 Q1624.86 1310.49 1623.93 1311.57 Q1623.02 1312.65 1623.02 1314.52 Q1623.02 1316.38 1623.93 1317.47 Q1624.86 1318.55 1626.43 1318.55 Q1628.01 1318.55 1628.92 1317.47 Q1629.85 1316.38 1629.85 1314.52 Q1629.85 1312.65 1628.92 1311.57 Q1628.01 1310.49 1626.43 1310.49 M1631.07 1303.17 L1631.07 1305.3 Q1630.2 1304.88 1629.29 1304.66 Q1628.4 1304.44 1627.52 1304.44 Q1625.21 1304.44 1623.98 1306 Q1622.76 1307.56 1622.59 1310.72 Q1623.27 1309.72 1624.3 1309.18 Q1625.33 1308.64 1626.57 1308.64 Q1629.18 1308.64 1630.68 1310.23 Q1632.2 1311.8 1632.2 1314.52 Q1632.2 1317.18 1630.62 1318.79 Q1629.05 1320.4 1626.43 1320.4 Q1623.44 1320.4 1621.85 1318.11 Q1620.26 1315.8 1620.26 1311.44 Q1620.26 1307.34 1622.21 1304.91 Q1624.15 1302.47 1627.43 1302.47 Q1628.31 1302.47 1629.2 1302.65 Q1630.1 1302.82 1631.07 1303.17 Z\" fill=\"#000000\" fill-rule=\"evenodd\" fill-opacity=\"1\" /><path clip-path=\"url(#clip970)\" d=\"M1700.49 1255.65 L1702.84 1255.65 L1702.84 1266.14 Q1702.84 1268.92 1703.85 1270.15 Q1704.85 1271.36 1707.11 1271.36 Q1709.36 1271.36 1710.36 1270.15 Q1711.37 1268.92 1711.37 1266.14 L1711.37 1255.65 L1713.72 1255.65 L1713.72 1266.43 Q1713.72 1269.81 1712.04 1271.54 Q1710.37 1273.26 1707.11 1273.26 Q1703.83 1273.26 1702.16 1271.54 Q1700.49 1269.81 1700.49 1266.43 L1700.49 1255.65 Z\" fill=\"#000000\" fill-rule=\"evenodd\" fill-opacity=\"1\" /><path clip-path=\"url(#clip970)\" d=\"M1718.11 1255.65 L1720.44 1255.65 L1720.44 1272.93 L1718.11 1272.93 L1718.11 1255.65 Z\" fill=\"#000000\" fill-rule=\"evenodd\" fill-opacity=\"1\" /><path clip-path=\"url(#clip970)\" d=\"M1735.78 1265.1 L1735.78 1272.93 L1733.65 1272.93 L1733.65 1265.17 Q1733.65 1263.33 1732.93 1262.42 Q1732.21 1261.5 1730.78 1261.5 Q1729.05 1261.5 1728.06 1262.6 Q1727.06 1263.7 1727.06 1265.6 L1727.06 1272.93 L1724.92 1272.93 L1724.92 1259.96 L1727.06 1259.96 L1727.06 1261.98 Q1727.83 1260.81 1728.86 1260.23 Q1729.9 1259.65 1731.25 1259.65 Q1733.49 1259.65 1734.63 1261.04 Q1735.78 1262.42 1735.78 1265.1 Z\" fill=\"#000000\" fill-rule=\"evenodd\" fill-opacity=\"1\" /><path clip-path=\"url(#clip970)\" d=\"M1742.13 1256.28 L1742.13 1259.96 L1746.52 1259.96 L1746.52 1261.62 L1742.13 1261.62 L1742.13 1268.66 Q1742.13 1270.24 1742.56 1270.69 Q1743 1271.14 1744.33 1271.14 L1746.52 1271.14 L1746.52 1272.93 L1744.33 1272.93 Q1741.87 1272.93 1740.93 1272.01 Q1739.99 1271.09 1739.99 1268.66 L1739.99 1261.62 L1738.43 1261.62 L1738.43 1259.96 L1739.99 1259.96 L1739.99 1256.28 L1742.13 1256.28 Z\" fill=\"#000000\" fill-rule=\"evenodd\" fill-opacity=\"1\" /><path clip-path=\"url(#clip970)\" d=\"M1756.7 1263.61 Q1758.38 1263.97 1759.32 1265.1 Q1760.27 1266.24 1760.27 1267.9 Q1760.27 1270.46 1758.51 1271.86 Q1756.75 1273.26 1753.51 1273.26 Q1752.42 1273.26 1751.26 1273.04 Q1750.12 1272.83 1748.89 1272.41 L1748.89 1270.15 Q1749.86 1270.72 1751.02 1271.01 Q1752.18 1271.29 1753.44 1271.29 Q1755.64 1271.29 1756.79 1270.43 Q1757.94 1269.56 1757.94 1267.9 Q1757.94 1266.38 1756.87 1265.52 Q1755.8 1264.65 1753.89 1264.65 L1751.88 1264.65 L1751.88 1262.73 L1753.98 1262.73 Q1755.71 1262.73 1756.62 1262.05 Q1757.54 1261.35 1757.54 1260.06 Q1757.54 1258.73 1756.59 1258.02 Q1755.65 1257.3 1753.89 1257.3 Q1752.93 1257.3 1751.83 1257.51 Q1750.73 1257.72 1749.41 1258.16 L1749.41 1256.07 Q1750.74 1255.7 1751.9 1255.52 Q1753.07 1255.33 1754.1 1255.33 Q1756.76 1255.33 1758.31 1256.55 Q1759.86 1257.75 1759.86 1259.81 Q1759.86 1261.25 1759.04 1262.24 Q1758.22 1263.23 1756.7 1263.61 Z\" fill=\"#000000\" fill-rule=\"evenodd\" fill-opacity=\"1\" /><path clip-path=\"url(#clip970)\" d=\"M1766.72 1270.96 L1774.88 1270.96 L1774.88 1272.93 L1763.9 1272.93 L1763.9 1270.96 Q1765.23 1269.58 1767.53 1267.27 Q1769.83 1264.94 1770.42 1264.27 Q1771.54 1263.01 1771.98 1262.14 Q1772.43 1261.26 1772.43 1260.41 Q1772.43 1259.04 1771.46 1258.17 Q1770.5 1257.3 1768.95 1257.3 Q1767.85 1257.3 1766.62 1257.68 Q1765.41 1258.07 1764.02 1258.84 L1764.02 1256.48 Q1765.43 1255.91 1766.66 1255.62 Q1767.89 1255.33 1768.9 1255.33 Q1771.59 1255.33 1773.19 1256.68 Q1774.78 1258.02 1774.78 1260.26 Q1774.78 1261.33 1774.38 1262.29 Q1773.98 1263.24 1772.93 1264.54 Q1772.64 1264.87 1771.09 1266.48 Q1769.54 1268.08 1766.72 1270.96 Z\" fill=\"#000000\" fill-rule=\"evenodd\" fill-opacity=\"1\" /><path clip-path=\"url(#clip970)\" d=\"M1369 1273.22 L1371.34 1273.22 L1371.34 1283.71 Q1371.34 1286.49 1372.35 1287.72 Q1373.36 1288.93 1375.62 1288.93 Q1377.86 1288.93 1378.87 1287.72 Q1379.87 1286.49 1379.87 1283.71 L1379.87 1273.22 L1382.22 1273.22 L1382.22 1284 Q1382.22 1287.38 1380.55 1289.11 Q1378.88 1290.83 1375.62 1290.83 Q1372.34 1290.83 1370.66 1289.11 Q1369 1287.38 1369 1284 L1369 1273.22 Z\" fill=\"#000000\" fill-rule=\"evenodd\" fill-opacity=\"1\" /><path clip-path=\"url(#clip970)\" d=\"M1386.61 1273.22 L1388.95 1273.22 L1388.95 1290.5 L1386.61 1290.5 L1386.61 1273.22 Z\" fill=\"#000000\" fill-rule=\"evenodd\" fill-opacity=\"1\" /><path clip-path=\"url(#clip970)\" d=\"M1404.28 1282.67 L1404.28 1290.5 L1402.15 1290.5 L1402.15 1282.74 Q1402.15 1280.9 1401.44 1279.99 Q1400.72 1279.07 1399.28 1279.07 Q1397.56 1279.07 1396.56 1280.17 Q1395.57 1281.27 1395.57 1283.17 L1395.57 1290.5 L1393.43 1290.5 L1393.43 1277.53 L1395.57 1277.53 L1395.57 1279.55 Q1396.33 1278.38 1397.36 1277.8 Q1398.4 1277.22 1399.76 1277.22 Q1401.99 1277.22 1403.14 1278.61 Q1404.28 1279.99 1404.28 1282.67 Z\" fill=\"#000000\" fill-rule=\"evenodd\" fill-opacity=\"1\" /><path clip-path=\"url(#clip970)\" d=\"M1410.64 1273.85 L1410.64 1277.53 L1415.02 1277.53 L1415.02 1279.19 L1410.64 1279.19 L1410.64 1286.22 Q1410.64 1287.81 1411.07 1288.26 Q1411.51 1288.71 1412.84 1288.71 L1415.02 1288.71 L1415.02 1290.5 L1412.84 1290.5 Q1410.37 1290.5 1409.43 1289.58 Q1408.5 1288.66 1408.5 1286.22 L1408.5 1279.19 L1406.93 1279.19 L1406.93 1277.53 L1408.5 1277.53 L1408.5 1273.85 L1410.64 1273.85 Z\" fill=\"#000000\" fill-rule=\"evenodd\" fill-opacity=\"1\" /><path clip-path=\"url(#clip970)\" d=\"M1423.42 1280.92 Q1421.84 1280.92 1420.92 1282 Q1420 1283.08 1420 1284.95 Q1420 1286.82 1420.92 1287.9 Q1421.84 1288.98 1423.42 1288.98 Q1424.99 1288.98 1425.9 1287.9 Q1426.83 1286.82 1426.83 1284.95 Q1426.83 1283.08 1425.9 1282 Q1424.99 1280.92 1423.42 1280.92 M1428.06 1273.6 L1428.06 1275.73 Q1427.18 1275.31 1426.27 1275.09 Q1425.38 1274.87 1424.5 1274.87 Q1422.19 1274.87 1420.96 1276.43 Q1419.75 1278 1419.57 1281.16 Q1420.26 1280.15 1421.29 1279.62 Q1422.32 1279.07 1423.55 1279.07 Q1426.16 1279.07 1427.66 1280.66 Q1429.18 1282.23 1429.18 1284.95 Q1429.18 1287.61 1427.61 1289.22 Q1426.03 1290.83 1423.42 1290.83 Q1420.42 1290.83 1418.83 1288.54 Q1417.25 1286.24 1417.25 1281.87 Q1417.25 1277.78 1419.19 1275.35 Q1421.14 1272.9 1424.41 1272.9 Q1425.29 1272.9 1426.18 1273.08 Q1427.09 1273.25 1428.06 1273.6 Z\" fill=\"#000000\" fill-rule=\"evenodd\" fill-opacity=\"1\" /><path clip-path=\"url(#clip970)\" d=\"M1439.63 1275.25 L1433.73 1284.48 L1439.63 1284.48 L1439.63 1275.25 M1439.02 1273.22 L1441.96 1273.22 L1441.96 1284.48 L1444.42 1284.48 L1444.42 1286.42 L1441.96 1286.42 L1441.96 1290.5 L1439.63 1290.5 L1439.63 1286.42 L1431.83 1286.42 L1431.83 1284.16 L1439.02 1273.22 Z\" fill=\"#000000\" fill-rule=\"evenodd\" fill-opacity=\"1\" /><path clip-path=\"url(#clip970)\" d=\"M1459.45 1329.04 L1461.8 1329.04 L1461.8 1339.54 Q1461.8 1342.32 1462.8 1343.55 Q1463.81 1344.76 1466.07 1344.76 Q1468.31 1344.76 1469.32 1343.55 Q1470.33 1342.32 1470.33 1339.54 L1470.33 1329.04 L1472.68 1329.04 L1472.68 1339.83 Q1472.68 1343.21 1471 1344.93 Q1469.33 1346.66 1466.07 1346.66 Q1462.79 1346.66 1461.11 1344.93 Q1459.45 1343.21 1459.45 1339.83 L1459.45 1329.04 Z\" fill=\"#000000\" fill-rule=\"evenodd\" fill-opacity=\"1\" /><path clip-path=\"url(#clip970)\" d=\"M1477.06 1329.04 L1479.4 1329.04 L1479.4 1346.32 L1477.06 1346.32 L1477.06 1329.04 Z\" fill=\"#000000\" fill-rule=\"evenodd\" fill-opacity=\"1\" /><path clip-path=\"url(#clip970)\" d=\"M1494.74 1338.5 L1494.74 1346.32 L1492.61 1346.32 L1492.61 1338.57 Q1492.61 1336.73 1491.89 1335.81 Q1491.17 1334.9 1489.74 1334.9 Q1488.01 1334.9 1487.02 1336 Q1486.02 1337.1 1486.02 1339 L1486.02 1346.32 L1483.88 1346.32 L1483.88 1333.36 L1486.02 1333.36 L1486.02 1335.37 Q1486.79 1334.2 1487.82 1333.63 Q1488.86 1333.05 1490.21 1333.05 Q1492.45 1333.05 1493.59 1334.44 Q1494.74 1335.81 1494.74 1338.5 Z\" fill=\"#000000\" fill-rule=\"evenodd\" fill-opacity=\"1\" /><path clip-path=\"url(#clip970)\" d=\"M1501.09 1329.68 L1501.09 1333.36 L1505.48 1333.36 L1505.48 1335.01 L1501.09 1335.01 L1501.09 1342.05 Q1501.09 1343.64 1501.52 1344.09 Q1501.96 1344.54 1503.29 1344.54 L1505.48 1344.54 L1505.48 1346.32 L1503.29 1346.32 Q1500.83 1346.32 1499.89 1345.41 Q1498.95 1344.48 1498.95 1342.05 L1498.95 1335.01 L1497.39 1335.01 L1497.39 1333.36 L1498.95 1333.36 L1498.95 1329.68 L1501.09 1329.68 Z\" fill=\"#000000\" fill-rule=\"evenodd\" fill-opacity=\"1\" /><path clip-path=\"url(#clip970)\" d=\"M1513.58 1338.12 Q1511.91 1338.12 1510.95 1339.01 Q1510 1339.9 1510 1341.46 Q1510 1343.02 1510.95 1343.92 Q1511.91 1344.81 1513.58 1344.81 Q1515.25 1344.81 1516.21 1343.92 Q1517.17 1343.01 1517.17 1341.46 Q1517.17 1339.9 1516.21 1339.01 Q1515.26 1338.12 1513.58 1338.12 M1511.24 1337.12 Q1509.74 1336.75 1508.89 1335.72 Q1508.06 1334.69 1508.06 1333.21 Q1508.06 1331.14 1509.53 1329.93 Q1511.01 1328.73 1513.58 1328.73 Q1516.16 1328.73 1517.63 1329.93 Q1519.1 1331.14 1519.1 1333.21 Q1519.1 1334.69 1518.26 1335.72 Q1517.42 1336.75 1515.93 1337.12 Q1517.62 1337.51 1518.56 1338.66 Q1519.51 1339.81 1519.51 1341.46 Q1519.51 1343.97 1517.97 1345.32 Q1516.44 1346.66 1513.58 1346.66 Q1510.72 1346.66 1509.18 1345.32 Q1507.65 1343.97 1507.65 1341.46 Q1507.65 1339.81 1508.6 1338.66 Q1509.55 1337.51 1511.24 1337.12 M1510.39 1333.43 Q1510.39 1334.77 1511.22 1335.52 Q1512.06 1336.28 1513.58 1336.28 Q1515.08 1336.28 1515.93 1335.52 Q1516.79 1334.77 1516.79 1333.43 Q1516.79 1332.09 1515.93 1331.33 Q1515.08 1330.58 1513.58 1330.58 Q1512.06 1330.58 1511.22 1331.33 Q1510.39 1332.09 1510.39 1333.43 Z\" fill=\"#000000\" fill-rule=\"evenodd\" fill-opacity=\"1\" /></svg>\n"
      ]
     },
     "execution_count": 8,
     "metadata": {},
     "output_type": "execute_result"
    }
   ],
   "source": [
    "using GraphRecipes, Plots\n",
    "\n",
    "gr(size=(600, 400))\n",
    "theme(:default)\n",
    "\n",
    "plot(Integer, method=:tree, fontsize=4)"
   ]
  },
  {
   "cell_type": "markdown",
   "metadata": {},
   "source": [
    "source: [Visualizing Graphs in Julia using Plots and PlotRecipes](http://www.breloff.com/Graphs/)"
   ]
  },
  {
   "cell_type": "markdown",
   "metadata": {},
   "source": [
    "### Unsigned integers\n",
    "\n",
    "* Model for $\\mathbb{N} \\cup \\{0\\}$.\n",
    "* For unsigned integers, the range is $[0,2^M-1]$.\n",
    "* Julia functions `typemin(T)` and `typemax(T)` give the lowest and highest representable number of a type `T` respectively"
   ]
  },
  {
   "cell_type": "code",
   "execution_count": 9,
   "metadata": {},
   "outputs": [
    {
     "name": "stdout",
     "output_type": "stream",
     "text": [
      "UInt8\t0\t255\n",
      "UInt16\t0\t65535\n",
      "UInt32\t0\t4294967295\n",
      "UInt64\t0\t18446744073709551615\n",
      "UInt128\t0\t340282366920938463463374607431768211455\n"
     ]
    }
   ],
   "source": [
    "for t in [UInt8, UInt16, UInt32, UInt64, UInt128]\n",
    "    println(t, '\\t', typemin(t), '\\t', typemax(t))\n",
    "end"
   ]
  },
  {
   "cell_type": "markdown",
   "metadata": {},
   "source": [
    "### Signed integers\n",
    "\n",
    "* Model of $\\mathbb{Z}$. Can do subtraction.\n",
    "\n",
    "* First bit (\"most significant bit\" or MSB) is the sign bit.  \n",
    "    - `0` for nonnegative numbers\n",
    "    - `1` for negative numbers  \n",
    "    \n",
    "* **Two's complement representation** for negative numbers. \n",
    "    - Set the sign bit to 1  \n",
    "    - Negate (`0`->`1`, `1`->`0`) the remaining bits\n",
    "    - Add to `1` to the result  \n",
    "    - Two's complement representation of a negative integer $x$ is the same as the unsigned integer $2^M - x$."
   ]
  },
  {
   "cell_type": "code",
   "execution_count": 10,
   "metadata": {},
   "outputs": [
    {
     "name": "stdout",
     "output_type": "stream",
     "text": [
      "typeof(5) = Int64\n",
      "bitstring(5) = \"0000000000000000000000000000000000000000000000000000000000000101\"\n",
      "bitstring(-5) = \"1111111111111111111111111111111111111111111111111111111111111011\"\n",
      "bitstring(UInt64(Int128(2) ^ 64 - 5)) == bitstring(-5) = true\n",
      "bitstring(2 * 5) = \"0000000000000000000000000000000000000000000000000000000000001010\"\n",
      "bitstring(2 * -5) = \"1111111111111111111111111111111111111111111111111111111111110110\"\n"
     ]
    }
   ],
   "source": [
    "@show typeof(5)\n",
    "@show bitstring(5)\n",
    "@show bitstring(-5)\n",
    "@show bitstring(UInt64(Int128(2)^64 - 5)) == bitstring(-5)\n",
    "@show bitstring(2 * 5) # shift bits of 5 to the left\n",
    "@show bitstring(2 * -5); # shift bits of -5 to left"
   ]
  },
  {
   "cell_type": "markdown",
   "metadata": {},
   "source": [
    "* Two's complement representation respects modular arithmetic nicely.  \n",
    "    Addition of any two signed integers are just bitwise addition, possibly modulo $2^M$\n",
    "    - $M=4$ case:\n",
    "    \n",
    "<img src=\"http://users.dickinson.edu/~braught/courses/cs251f02/classes/images/twosCompWheel.png\" width=\"400\" align=\"center\"/>    \n",
    "\n",
    "Source: [Signed Binary Numbers, Subtraction and Overflow](http://users.dickinson.edu/~braught/courses/cs251f02/classes/notes07.html) by Grant Braught"
   ]
  },
  {
   "cell_type": "markdown",
   "metadata": {},
   "source": [
    "* **Range** of representable integers by $M$-bit **signed integer** is $[-2^{M-1},2^{M-1}-1]$:"
   ]
  },
  {
   "cell_type": "code",
   "execution_count": 11,
   "metadata": {},
   "outputs": [
    {
     "data": {
      "text/plain": [
       "(-9223372036854775808, 9223372036854775807)"
      ]
     },
     "execution_count": 11,
     "metadata": {},
     "output_type": "execute_result"
    }
   ],
   "source": [
    "typemin(Int64), typemax(Int64)"
   ]
  },
  {
   "cell_type": "code",
   "execution_count": 12,
   "metadata": {},
   "outputs": [
    {
     "name": "stdout",
     "output_type": "stream",
     "text": [
      "Int8\t-128\t127\n",
      "Int16\t-32768\t32767\n",
      "Int32\t-2147483648\t2147483647\n",
      "Int64\t-9223372036854775808\t9223372036854775807\n",
      "Int128\t-170141183460469231731687303715884105728\t170141183460469231731687303715884105727\n"
     ]
    }
   ],
   "source": [
    "for T in [Int8, Int16, Int32, Int64, Int128]\n",
    "    println(T, '\\t', typemin(T), '\\t', typemax(T))\n",
    "end"
   ]
  },
  {
   "cell_type": "markdown",
   "metadata": {},
   "source": [
    "### `BigInt`\n",
    "\n",
    "Julia `BigInt` type is arbitrary precision."
   ]
  },
  {
   "cell_type": "code",
   "execution_count": 13,
   "metadata": {},
   "outputs": [
    {
     "name": "stdout",
     "output_type": "stream",
     "text": [
      "typemax(Int128) = 170141183460469231731687303715884105727\n",
      "typemax(Int128) + 1 = -170141183460469231731687303715884105728\n",
      "BigInt(typemax(Int128)) + 1 = 170141183460469231731687303715884105728\n"
     ]
    }
   ],
   "source": [
    "@show typemax(Int128)\n",
    "@show typemax(Int128) + 1 # overflow!\n",
    "@show BigInt(typemax(Int128)) + 1;"
   ]
  },
  {
   "cell_type": "markdown",
   "metadata": {},
   "source": [
    "### Overflow in integer arithmetic\n",
    "\n",
    "R reports `NA` for integer overflow.\n",
    "**Julia outputs the result according to modular arithmetic.**"
   ]
  },
  {
   "cell_type": "code",
   "execution_count": 14,
   "metadata": {},
   "outputs": [
    {
     "name": "stdout",
     "output_type": "stream",
     "text": [
      "typemax(Int32) = 2147483647\n",
      "typemax(Int32) + Int32(1) = -2147483648\n"
     ]
    }
   ],
   "source": [
    "@show typemax(Int32)\n",
    "@show typemax(Int32) + Int32(1); # modular arithmetics!"
   ]
  },
  {
   "cell_type": "code",
   "execution_count": 15,
   "metadata": {},
   "outputs": [
    {
     "data": {
      "text/plain": [
       "RObject{IntSxp}\n",
       "[1] 2147483647\n"
      ]
     },
     "execution_count": 15,
     "metadata": {},
     "output_type": "execute_result"
    }
   ],
   "source": [
    "using RCall\n",
    "# The largest integer R can hold\n",
    "R\"\"\"\n",
    ".Machine$integer.max \n",
    "\"\"\""
   ]
  },
  {
   "cell_type": "code",
   "execution_count": 16,
   "metadata": {},
   "outputs": [
    {
     "data": {
      "text/plain": [
       "RObject{IntSxp}\n",
       "[1] 2147483647\n"
      ]
     },
     "execution_count": 16,
     "metadata": {},
     "output_type": "execute_result"
    }
   ],
   "source": [
    "R\"\"\"\n",
    "M <- 32\n",
    "big <- 2^(M-1) - 1\n",
    "as.integer(big)\n",
    "\"\"\""
   ]
  },
  {
   "cell_type": "code",
   "execution_count": 17,
   "metadata": {},
   "outputs": [
    {
     "name": "stderr",
     "output_type": "stream",
     "text": [
      "┌ Warning: RCall.jl: Warning: NAs introduced by coercion to integer range\n",
      "└ @ RCall /Users/jhwon/.julia/packages/RCall/iMDW2/src/io.jl:160\n"
     ]
    },
    {
     "data": {
      "text/plain": [
       "RObject{IntSxp}\n",
       "[1] NA\n"
      ]
     },
     "execution_count": 17,
     "metadata": {},
     "output_type": "execute_result"
    }
   ],
   "source": [
    "R\"\"\"\n",
    "as.integer(big+1)\n",
    "\"\"\""
   ]
  },
  {
   "cell_type": "markdown",
   "metadata": {},
   "source": [
    "## Real numbers: floating-point number system\n",
    "\n",
    "Floating-point number system is a computer model for the real line $\\mathbb{R}$.\n",
    "\n",
    "* Most computer systems adopt the [IEEE 754 standard](https://en.wikipedia.org/wiki/IEEE_floating_point), established in 1985, for floating-point arithmetics.  \n",
    "For the history, see an [interview with William Kahan](http://www.cs.berkeley.edu/~wkahan/ieee754status/754story.html).\n",
    "\n",
    "* In the scientific notation, a real number is represented as\n",
    "$$\n",
    "\\pm d_1.d_2d_3 \\cdots d_p \\times b^e, \\quad 0 \\le d_i < b.\n",
    "$$\n",
    "Humans use the _base_ $b=10$ and _digits_ $d_i=0, 1, \\dotsc, 9$.\\\n",
    "    In computer, the base is $b=2$ and the digits $d_i$ are 0 or 1. The *exponent* $e$ is between $e_{\\min}$ and $e_{\\max}$.\n",
    "\n",
    "* **Normalized** vs **denormalized** numbers. For example, decimal number 18 is\n",
    "$$ +1.0010 \\times 2^4 \\quad (\\text{normalized})$$\n",
    "or, equivalently,\n",
    "$$ +0.1001 \\times 2^5 \\quad (\\text{denormalized}).$$\n",
    "\n",
    "* In the floating-number system, computer stores \n",
    "    - sign bit  \n",
    "    - the _fraction_ (or _mantissa_, or _significand_) of the **normalized** representation (except some special cases)\n",
    "    - the actual exponent plus a *bias*\n",
    "        + Because $e_{\\min}$ is likely negative and $e_{\\max}$ is positive, the exponent requires a sign. IEEE 754 handles the sign of the exponent by subtracting the bias from the value of the exponent evaluated as an unsigned integer."
   ]
  },
  {
   "cell_type": "markdown",
   "metadata": {},
   "source": [
    "* Julia provides `Float16` (half precision, implemented in software using `Float32`), `Float32` (single precision), `Float64` (double precision), and `BigFloat` (arbitrary precision)."
   ]
  },
  {
   "cell_type": "code",
   "execution_count": 18,
   "metadata": {},
   "outputs": [
    {
     "data": {
      "image/svg+xml": [
       "<?xml version=\"1.0\" encoding=\"utf-8\"?>\n",
       "<svg xmlns=\"http://www.w3.org/2000/svg\" xmlns:xlink=\"http://www.w3.org/1999/xlink\" width=\"600\" height=\"400\" viewBox=\"0 0 2400 1600\">\n",
       "<defs>\n",
       "  <clipPath id=\"clip000\">\n",
       "    <rect x=\"0\" y=\"0\" width=\"2400\" height=\"1600\"/>\n",
       "  </clipPath>\n",
       "</defs>\n",
       "<path clip-path=\"url(#clip000)\" d=\"\n",
       "M0 1600 L2400 1600 L2400 0 L0 0  Z\n",
       "  \" fill=\"#ffffff\" fill-rule=\"evenodd\" fill-opacity=\"1\"/>\n",
       "<defs>\n",
       "  <clipPath id=\"clip001\">\n",
       "    <rect x=\"480\" y=\"0\" width=\"1681\" height=\"1600\"/>\n",
       "  </clipPath>\n",
       "</defs>\n",
       "<path clip-path=\"url(#clip000)\" d=\"\n",
       "M447.244 1552.76 L1952.76 1552.76 L1952.76 47.2441 L447.244 47.2441  Z\n",
       "  \" fill=\"#ffffff\" fill-rule=\"evenodd\" fill-opacity=\"1\"/>\n",
       "<defs>\n",
       "  <clipPath id=\"clip002\">\n",
       "    <rect x=\"447\" y=\"47\" width=\"1507\" height=\"1507\"/>\n",
       "  </clipPath>\n",
       "</defs>\n",
       "<polyline clip-path=\"url(#clip002)\" style=\"stroke:#000000; stroke-linecap:butt; stroke-linejoin:round; stroke-width:4; stroke-opacity:1; fill:none\" points=\"\n",
       "  1532.77,262.317 1531.36,269.059 1527.24,275.353 1520.63,281.232 1511.72,286.73 1500.71,291.879 1487.81,296.713 1473.2,301.265 1457.1,305.567 1439.69,309.655 \n",
       "  1421.19,313.559 1401.79,317.315 1381.69,320.954 1361.09,324.51 1340.19,328.017 1319.19,331.507 1298.29,335.013 1277.68,338.569 1257.58,342.208 1238.18,345.964 \n",
       "  1219.68,349.869 1202.28,353.956 1186.17,358.259 1171.57,362.81 1158.66,367.644 1147.65,372.793 1138.74,378.291 1132.13,384.17 1128.02,390.464 1126.6,397.206 \n",
       "  \n",
       "  \"/>\n",
       "<polyline clip-path=\"url(#clip002)\" style=\"stroke:#000000; stroke-linecap:butt; stroke-linejoin:round; stroke-width:4; stroke-opacity:1; fill:none\" points=\"\n",
       "  1126.6,397.206 1126.64,410.667 1126.76,424.412 1126.96,438.42 1127.23,452.67 1127.56,467.14 1127.94,481.81 1128.38,496.659 1128.86,511.666 1129.38,526.809 \n",
       "  1129.94,542.067 1130.52,557.42 1131.12,572.847 1131.73,588.327 1132.36,603.838 1132.99,619.359 1133.61,634.87 1134.23,650.349 1134.83,665.776 1135.41,681.129 \n",
       "  1135.96,696.388 1136.48,711.531 1136.96,726.537 1137.4,741.386 1137.79,756.056 1138.11,770.527 1138.38,784.776 1138.58,798.784 1138.7,812.529 1138.74,825.991 \n",
       "  \n",
       "  \"/>\n",
       "<polyline clip-path=\"url(#clip002)\" style=\"stroke:#000000; stroke-linecap:butt; stroke-linejoin:round; stroke-width:4; stroke-opacity:1; fill:none\" points=\"\n",
       "  1138.74,825.991 1138.9,835.103 1139.37,844.384 1140.12,853.821 1141.12,863.402 1142.37,873.115 1143.83,882.946 1145.48,892.884 1147.3,902.915 1149.27,913.028 \n",
       "  1151.36,923.21 1153.56,933.448 1155.83,943.73 1158.16,954.043 1160.52,964.375 1162.9,974.713 1165.26,985.044 1167.59,995.357 1169.86,1005.64 1172.06,1015.88 \n",
       "  1174.15,1026.06 1176.12,1036.17 1177.94,1046.2 1179.59,1056.14 1181.05,1065.97 1182.29,1075.69 1183.3,1085.27 1184.05,1094.7 1184.51,1103.98 1184.67,1113.1 \n",
       "  \n",
       "  \"/>\n",
       "<polyline clip-path=\"url(#clip002)\" style=\"stroke:#000000; stroke-linecap:butt; stroke-linejoin:round; stroke-width:4; stroke-opacity:1; fill:none\" points=\"\n",
       "  1184.67,1113.1 1186.6,1123.78 1192.2,1133.75 1201.2,1143.07 1213.33,1151.78 1228.32,1159.94 1245.89,1167.6 1265.78,1174.81 1287.71,1181.63 1311.4,1188.1 \n",
       "  1336.59,1194.29 1363.01,1200.24 1390.38,1206.01 1418.42,1211.64 1446.88,1217.2 1475.47,1222.73 1503.93,1228.28 1531.98,1233.92 1559.35,1239.68 1585.76,1245.63 \n",
       "  1610.95,1251.82 1634.65,1258.3 1656.58,1265.12 1676.46,1272.33 1694.03,1279.99 1709.02,1288.15 1721.15,1296.86 1730.15,1306.17 1735.76,1316.14 1737.68,1326.83 \n",
       "  \n",
       "  \"/>\n",
       "<polyline clip-path=\"url(#clip002)\" style=\"stroke:#000000; stroke-linecap:butt; stroke-linejoin:round; stroke-width:4; stroke-opacity:1; fill:none\" points=\"\n",
       "  1184.67,1113.1 1185.92,1120.33 1189.53,1127.09 1195.34,1133.39 1203.17,1139.29 1212.85,1144.82 1224.19,1150.01 1237.03,1154.89 1251.19,1159.51 1266.48,1163.89 \n",
       "  1282.75,1168.08 1299.8,1172.11 1317.47,1176.02 1335.57,1179.83 1353.94,1183.6 1372.4,1187.34 1390.77,1191.11 1408.88,1194.92 1426.55,1198.83 1443.6,1202.86 \n",
       "  1459.86,1207.05 1475.16,1211.43 1489.31,1216.05 1502.15,1220.93 1513.5,1226.12 1523.17,1231.65 1531,1237.55 1536.81,1243.85 1540.43,1250.61 1541.67,1257.84 \n",
       "  \n",
       "  \"/>\n",
       "<polyline clip-path=\"url(#clip002)\" style=\"stroke:#000000; stroke-linecap:butt; stroke-linejoin:round; stroke-width:4; stroke-opacity:1; fill:none\" points=\"\n",
       "  1184.67,1113.1 1183.92,1122.51 1181.74,1131.56 1178.24,1140.25 1173.51,1148.63 1167.67,1156.72 1160.83,1164.55 1153.09,1172.14 1144.55,1179.53 1135.32,1186.73 \n",
       "  1125.51,1193.79 1115.22,1200.72 1104.57,1207.55 1093.64,1214.31 1082.56,1221.04 1071.43,1227.74 1060.35,1234.47 1049.42,1241.23 1038.77,1248.06 1028.48,1254.99 \n",
       "  1018.67,1262.05 1009.44,1269.25 1000.9,1276.64 993.159,1284.23 986.316,1292.06 980.48,1300.15 975.756,1308.53 972.25,1317.22 970.069,1326.27 969.319,1335.68 \n",
       "  \n",
       "  \"/>\n",
       "<polyline clip-path=\"url(#clip002)\" style=\"stroke:#000000; stroke-linecap:butt; stroke-linejoin:round; stroke-width:4; stroke-opacity:1; fill:none\" points=\"\n",
       "  1184.67,1113.1 1182.85,1124.32 1177.56,1134.8 1169.06,1144.59 1157.6,1153.74 1143.44,1162.32 1126.84,1170.36 1108.06,1177.94 1087.35,1185.11 1064.97,1191.91 \n",
       "  1041.17,1198.41 1016.22,1204.67 990.371,1210.73 963.878,1216.65 936.998,1222.48 909.991,1228.29 883.112,1234.13 856.618,1240.05 830.767,1246.11 805.815,1252.37 \n",
       "  782.02,1258.87 759.639,1265.67 738.928,1272.84 720.145,1280.42 703.546,1288.46 689.389,1297.04 677.931,1306.19 669.428,1315.98 664.138,1326.46 662.317,1337.68 \n",
       "  \n",
       "  \"/>\n",
       "<path clip-path=\"url(#clip002)\" d=\"\n",
       "M1560.74 262.317 L1546.76 238.095 L1518.79 238.095 L1504.8 262.317 L1518.79 286.539 L1546.76 286.539 L1560.74 262.317 L1560.74 262.317  Z\n",
       "  \" fill=\"#009af9\" fill-rule=\"evenodd\" fill-opacity=\"1\"/>\n",
       "<polyline clip-path=\"url(#clip002)\" style=\"stroke:#000000; stroke-linecap:butt; stroke-linejoin:round; stroke-width:4; stroke-opacity:1; fill:none\" points=\"\n",
       "  1560.74,262.317 1546.76,238.095 1518.79,238.095 1504.8,262.317 1518.79,286.539 1546.76,286.539 1560.74,262.317 \n",
       "  \"/>\n",
       "<path clip-path=\"url(#clip002)\" d=\"\n",
       "M1175.3 397.206 L1150.95 355.033 L1102.25 355.033 L1077.9 397.206 L1102.25 439.379 L1150.95 439.379 L1175.3 397.206 L1175.3 397.206  Z\n",
       "  \" fill=\"#009af9\" fill-rule=\"evenodd\" fill-opacity=\"1\"/>\n",
       "<polyline clip-path=\"url(#clip002)\" style=\"stroke:#000000; stroke-linecap:butt; stroke-linejoin:round; stroke-width:4; stroke-opacity:1; fill:none\" points=\"\n",
       "  1175.3,397.206 1150.95,355.033 1102.25,355.033 1077.9,397.206 1102.25,439.379 1150.95,439.379 1175.3,397.206 \n",
       "  \"/>\n",
       "<path clip-path=\"url(#clip002)\" d=\"\n",
       "M1173.95 825.991 L1156.35 795.5 L1121.14 795.5 L1103.54 825.991 L1121.14 856.481 L1156.35 856.481 L1173.95 825.991 L1173.95 825.991  Z\n",
       "  \" fill=\"#009af9\" fill-rule=\"evenodd\" fill-opacity=\"1\"/>\n",
       "<polyline clip-path=\"url(#clip002)\" style=\"stroke:#000000; stroke-linecap:butt; stroke-linejoin:round; stroke-width:4; stroke-opacity:1; fill:none\" points=\"\n",
       "  1173.95,825.991 1156.35,795.5 1121.14,795.5 1103.54,825.991 1121.14,856.481 1156.35,856.481 1173.95,825.991 \n",
       "  \"/>\n",
       "<path clip-path=\"url(#clip002)\" d=\"\n",
       "M1275.07 1113.1 L1229.87 1034.81 L1139.48 1034.81 L1094.28 1113.1 L1139.48 1191.38 L1229.87 1191.38 L1275.07 1113.1 L1275.07 1113.1  Z\n",
       "  \" fill=\"#009af9\" fill-rule=\"evenodd\" fill-opacity=\"1\"/>\n",
       "<polyline clip-path=\"url(#clip002)\" style=\"stroke:#000000; stroke-linecap:butt; stroke-linejoin:round; stroke-width:4; stroke-opacity:1; fill:none\" points=\"\n",
       "  1275.07,1113.1 1229.87,1034.81 1139.48,1034.81 1094.28,1113.1 1139.48,1191.38 1229.87,1191.38 1275.07,1113.1 \n",
       "  \"/>\n",
       "<path clip-path=\"url(#clip002)\" d=\"\n",
       "M1798.98 1326.83 L1768.33 1273.74 L1707.03 1273.74 L1676.38 1326.83 L1707.03 1379.91 L1768.33 1379.91 L1798.98 1326.83 L1798.98 1326.83  Z\n",
       "  \" fill=\"#009af9\" fill-rule=\"evenodd\" fill-opacity=\"1\"/>\n",
       "<polyline clip-path=\"url(#clip002)\" style=\"stroke:#000000; stroke-linecap:butt; stroke-linejoin:round; stroke-width:4; stroke-opacity:1; fill:none\" points=\"\n",
       "  1798.98,1326.83 1768.33,1273.74 1707.03,1273.74 1676.38,1326.83 1707.03,1379.91 1768.33,1379.91 1798.98,1326.83 \n",
       "  \"/>\n",
       "<path clip-path=\"url(#clip002)\" d=\"\n",
       "M1596.76 1257.84 L1569.22 1210.14 L1514.13 1210.14 L1486.59 1257.84 L1514.13 1305.55 L1569.22 1305.55 L1596.76 1257.84 L1596.76 1257.84  Z\n",
       "  \" fill=\"#009af9\" fill-rule=\"evenodd\" fill-opacity=\"1\"/>\n",
       "<polyline clip-path=\"url(#clip002)\" style=\"stroke:#000000; stroke-linecap:butt; stroke-linejoin:round; stroke-width:4; stroke-opacity:1; fill:none\" points=\"\n",
       "  1596.76,1257.84 1569.22,1210.14 1514.13,1210.14 1486.59,1257.84 1514.13,1305.55 1569.22,1305.55 1596.76,1257.84 \n",
       "  \"/>\n",
       "<path clip-path=\"url(#clip002)\" d=\"\n",
       "M1024.41 1335.68 L996.863 1287.97 L941.775 1287.97 L914.23 1335.68 L941.775 1383.39 L996.863 1383.39 L1024.41 1335.68 L1024.41 1335.68  Z\n",
       "  \" fill=\"#009af9\" fill-rule=\"evenodd\" fill-opacity=\"1\"/>\n",
       "<polyline clip-path=\"url(#clip002)\" style=\"stroke:#000000; stroke-linecap:butt; stroke-linejoin:round; stroke-width:4; stroke-opacity:1; fill:none\" points=\"\n",
       "  1024.41,1335.68 996.863,1287.97 941.775,1287.97 914.23,1335.68 941.775,1383.39 996.863,1383.39 1024.41,1335.68 \n",
       "  \"/>\n",
       "<path clip-path=\"url(#clip002)\" d=\"\n",
       "M717.405 1337.68 L689.861 1289.98 L634.773 1289.98 L607.229 1337.68 L634.773 1385.39 L689.861 1385.39 L717.405 1337.68 L717.405 1337.68  Z\n",
       "  \" fill=\"#009af9\" fill-rule=\"evenodd\" fill-opacity=\"1\"/>\n",
       "<polyline clip-path=\"url(#clip002)\" style=\"stroke:#000000; stroke-linecap:butt; stroke-linejoin:round; stroke-width:4; stroke-opacity:1; fill:none\" points=\"\n",
       "  717.405,1337.68 689.861,1289.98 634.773,1289.98 607.229,1337.68 634.773,1385.39 689.861,1385.39 717.405,1337.68 \n",
       "  \"/>\n",
       "<circle clip-path=\"url(#clip002)\" style=\"fill:#009af9; stroke:none; fill-opacity:1\" cx=\"1532.77\" cy=\"262.317\" r=\"2\"/>\n",
       "<circle clip-path=\"url(#clip002)\" style=\"fill:#009af9; stroke:none; fill-opacity:1\" cx=\"1126.6\" cy=\"397.206\" r=\"2\"/>\n",
       "<circle clip-path=\"url(#clip002)\" style=\"fill:#009af9; stroke:none; fill-opacity:1\" cx=\"1138.74\" cy=\"825.991\" r=\"2\"/>\n",
       "<circle clip-path=\"url(#clip002)\" style=\"fill:#009af9; stroke:none; fill-opacity:1\" cx=\"1184.67\" cy=\"1113.1\" r=\"2\"/>\n",
       "<circle clip-path=\"url(#clip002)\" style=\"fill:#009af9; stroke:none; fill-opacity:1\" cx=\"1737.68\" cy=\"1326.83\" r=\"2\"/>\n",
       "<circle clip-path=\"url(#clip002)\" style=\"fill:#009af9; stroke:none; fill-opacity:1\" cx=\"1541.67\" cy=\"1257.84\" r=\"2\"/>\n",
       "<circle clip-path=\"url(#clip002)\" style=\"fill:#009af9; stroke:none; fill-opacity:1\" cx=\"969.319\" cy=\"1335.68\" r=\"2\"/>\n",
       "<circle clip-path=\"url(#clip002)\" style=\"fill:#009af9; stroke:none; fill-opacity:1\" cx=\"662.317\" cy=\"1337.68\" r=\"2\"/>\n",
       "<path clip-path=\"url(#clip000)\" d=\"M1518.5 255.98 L1515.33 264.58 L1521.69 264.58 L1518.5 255.98 M1517.18 253.677 L1519.83 253.677 L1526.42 270.957 L1523.99 270.957 L1522.41 266.524 L1514.63 266.524 L1513.05 270.957 L1510.59 270.957 L1517.18 253.677 Z\" fill=\"#000000\" fill-rule=\"evenodd\" fill-opacity=\"1\" /><path clip-path=\"url(#clip000)\" d=\"M1539.63 263.133 L1539.63 270.957 L1537.5 270.957 L1537.5 263.203 Q1537.5 261.362 1536.78 260.448 Q1536.06 259.534 1534.63 259.534 Q1532.9 259.534 1531.91 260.633 Q1530.91 261.733 1530.91 263.631 L1530.91 270.957 L1528.77 270.957 L1528.77 257.994 L1530.91 257.994 L1530.91 260.008 Q1531.67 258.839 1532.7 258.261 Q1533.75 257.682 1535.1 257.682 Q1537.33 257.682 1538.48 259.071 Q1539.63 260.448 1539.63 263.133 Z\" fill=\"#000000\" fill-rule=\"evenodd\" fill-opacity=\"1\" /><path clip-path=\"url(#clip000)\" d=\"M1549.27 272.161 Q1548.36 274.476 1547.51 275.182 Q1546.65 275.888 1545.22 275.888 L1543.51 275.888 L1543.51 274.105 L1544.76 274.105 Q1545.64 274.105 1546.13 273.689 Q1546.62 273.272 1547.21 271.721 L1547.59 270.749 L1542.34 257.994 L1544.6 257.994 L1548.65 268.133 L1552.7 257.994 L1554.96 257.994 L1549.27 272.161 Z\" fill=\"#000000\" fill-rule=\"evenodd\" fill-opacity=\"1\" /><path clip-path=\"url(#clip000)\" d=\"M1080.15 388.566 L1083.3 388.566 L1090.96 403.022 L1090.96 388.566 L1093.23 388.566 L1093.23 405.846 L1090.08 405.846 L1082.42 391.39 L1082.42 405.846 L1080.15 405.846 L1080.15 388.566 Z\" fill=\"#000000\" fill-rule=\"evenodd\" fill-opacity=\"1\" /><path clip-path=\"url(#clip000)\" d=\"M1097.57 400.73 L1097.57 392.883 L1099.7 392.883 L1099.7 400.649 Q1099.7 402.489 1100.42 403.415 Q1101.14 404.33 1102.57 404.33 Q1104.3 404.33 1105.29 403.23 Q1106.3 402.131 1106.3 400.233 L1106.3 392.883 L1108.43 392.883 L1108.43 405.846 L1106.3 405.846 L1106.3 403.855 Q1105.52 405.036 1104.49 405.614 Q1103.47 406.182 1102.12 406.182 Q1099.89 406.182 1098.73 404.793 Q1097.57 403.404 1097.57 400.73 M1102.93 392.571 L1102.93 392.571 Z\" fill=\"#000000\" fill-rule=\"evenodd\" fill-opacity=\"1\" /><path clip-path=\"url(#clip000)\" d=\"M1122.91 395.371 Q1123.71 393.936 1124.82 393.253 Q1125.93 392.571 1127.43 392.571 Q1129.46 392.571 1130.56 393.994 Q1131.66 395.406 1131.66 398.022 L1131.66 405.846 L1129.52 405.846 L1129.52 398.091 Q1129.52 396.228 1128.86 395.325 Q1128.2 394.422 1126.84 394.422 Q1125.19 394.422 1124.23 395.522 Q1123.27 396.621 1123.27 398.52 L1123.27 405.846 L1121.13 405.846 L1121.13 398.091 Q1121.13 396.216 1120.47 395.325 Q1119.81 394.422 1118.43 394.422 Q1116.8 394.422 1115.84 395.534 Q1114.88 396.633 1114.88 398.52 L1114.88 405.846 L1112.73 405.846 L1112.73 392.883 L1114.88 392.883 L1114.88 394.897 Q1115.6 393.705 1116.62 393.138 Q1117.64 392.571 1119.04 392.571 Q1120.45 392.571 1121.44 393.288 Q1122.43 394.006 1122.91 395.371 Z\" fill=\"#000000\" fill-rule=\"evenodd\" fill-opacity=\"1\" /><path clip-path=\"url(#clip000)\" d=\"M1145.21 399.376 Q1145.21 397.027 1144.24 395.696 Q1143.28 394.353 1141.59 394.353 Q1139.9 394.353 1138.93 395.696 Q1137.97 397.027 1137.97 399.376 Q1137.97 401.726 1138.93 403.068 Q1139.9 404.399 1141.59 404.399 Q1143.28 404.399 1144.24 403.068 Q1145.21 401.726 1145.21 399.376 M1137.97 394.851 Q1138.64 393.693 1139.66 393.138 Q1140.69 392.571 1142.11 392.571 Q1144.47 392.571 1145.94 394.446 Q1147.42 396.321 1147.42 399.376 Q1147.42 402.432 1145.94 404.307 Q1144.47 406.182 1142.11 406.182 Q1140.69 406.182 1139.66 405.626 Q1138.64 405.059 1137.97 403.902 L1137.97 405.846 L1135.82 405.846 L1135.82 387.837 L1137.97 387.837 L1137.97 394.851 Z\" fill=\"#000000\" fill-rule=\"evenodd\" fill-opacity=\"1\" /><path clip-path=\"url(#clip000)\" d=\"M1162.04 398.832 L1162.04 399.874 L1152.25 399.874 Q1152.39 402.073 1153.57 403.23 Q1154.76 404.376 1156.88 404.376 Q1158.1 404.376 1159.25 404.075 Q1160.41 403.774 1161.54 403.172 L1161.54 405.186 Q1160.4 405.672 1159.19 405.927 Q1157.99 406.182 1156.75 406.182 Q1153.65 406.182 1151.83 404.376 Q1150.03 402.571 1150.03 399.492 Q1150.03 396.309 1151.74 394.446 Q1153.46 392.571 1156.38 392.571 Q1159 392.571 1160.51 394.26 Q1162.04 395.939 1162.04 398.832 M1159.91 398.207 Q1159.89 396.459 1158.93 395.418 Q1157.98 394.376 1156.4 394.376 Q1154.62 394.376 1153.54 395.383 Q1152.48 396.39 1152.32 398.219 L1159.91 398.207 Z\" fill=\"#000000\" fill-rule=\"evenodd\" fill-opacity=\"1\" /><path clip-path=\"url(#clip000)\" d=\"M1173.05 394.874 Q1172.69 394.665 1172.26 394.573 Q1171.84 394.469 1171.33 394.469 Q1169.53 394.469 1168.56 395.649 Q1167.59 396.818 1167.59 399.017 L1167.59 405.846 L1165.45 405.846 L1165.45 392.883 L1167.59 392.883 L1167.59 394.897 Q1168.27 393.716 1169.34 393.149 Q1170.42 392.571 1171.96 392.571 Q1172.18 392.571 1172.44 392.605 Q1172.71 392.628 1173.03 392.686 L1173.05 394.874 Z\" fill=\"#000000\" fill-rule=\"evenodd\" fill-opacity=\"1\" /><path clip-path=\"url(#clip000)\" d=\"M1123.66 826.529 Q1124.42 826.783 1125.12 827.617 Q1125.84 828.45 1126.56 829.908 L1128.93 834.631 L1126.42 834.631 L1124.21 830.198 Q1123.35 828.462 1122.54 827.894 Q1121.74 827.327 1120.35 827.327 L1117.81 827.327 L1117.81 834.631 L1115.47 834.631 L1115.47 817.351 L1120.75 817.351 Q1123.71 817.351 1125.17 818.589 Q1126.63 819.827 1126.63 822.327 Q1126.63 823.959 1125.86 825.036 Q1125.11 826.112 1123.66 826.529 M1117.81 819.272 L1117.81 825.406 L1120.75 825.406 Q1122.44 825.406 1123.29 824.631 Q1124.16 823.844 1124.16 822.327 Q1124.16 820.811 1123.29 820.047 Q1122.44 819.272 1120.75 819.272 L1117.81 819.272 Z\" fill=\"#000000\" fill-rule=\"evenodd\" fill-opacity=\"1\" /><path clip-path=\"url(#clip000)\" d=\"M1141.87 827.617 L1141.87 828.658 L1132.08 828.658 Q1132.22 830.857 1133.4 832.015 Q1134.59 833.161 1136.71 833.161 Q1137.93 833.161 1139.08 832.86 Q1140.24 832.559 1141.37 831.957 L1141.37 833.971 Q1140.23 834.457 1139.02 834.712 Q1137.82 834.966 1136.58 834.966 Q1133.48 834.966 1131.66 833.161 Q1129.86 831.355 1129.86 828.276 Q1129.86 825.094 1131.57 823.23 Q1133.29 821.355 1136.21 821.355 Q1138.83 821.355 1140.34 823.045 Q1141.87 824.723 1141.87 827.617 M1139.74 826.992 Q1139.72 825.244 1138.76 824.202 Q1137.81 823.161 1136.23 823.161 Q1134.45 823.161 1133.37 824.168 Q1132.31 825.175 1132.15 827.003 L1139.74 826.992 Z\" fill=\"#000000\" fill-rule=\"evenodd\" fill-opacity=\"1\" /><path clip-path=\"url(#clip000)\" d=\"M1151.26 828.114 Q1148.67 828.114 1147.68 828.705 Q1146.68 829.295 1146.68 830.719 Q1146.68 831.853 1147.42 832.524 Q1148.18 833.184 1149.46 833.184 Q1151.23 833.184 1152.3 831.934 Q1153.37 830.672 1153.37 828.589 L1153.37 828.114 L1151.26 828.114 M1155.5 827.235 L1155.5 834.631 L1153.37 834.631 L1153.37 832.663 Q1152.64 833.843 1151.56 834.411 Q1150.47 834.966 1148.89 834.966 Q1146.9 834.966 1145.72 833.855 Q1144.55 832.732 1144.55 830.857 Q1144.55 828.67 1146.01 827.559 Q1147.48 826.448 1150.39 826.448 L1153.37 826.448 L1153.37 826.239 Q1153.37 824.769 1152.4 823.971 Q1151.44 823.161 1149.69 823.161 Q1148.58 823.161 1147.53 823.427 Q1146.48 823.693 1145.5 824.225 L1145.5 822.258 Q1146.67 821.807 1147.77 821.587 Q1148.87 821.355 1149.91 821.355 Q1152.73 821.355 1154.11 822.813 Q1155.5 824.272 1155.5 827.235 Z\" fill=\"#000000\" fill-rule=\"evenodd\" fill-opacity=\"1\" /><path clip-path=\"url(#clip000)\" d=\"M1159.89 816.621 L1162.02 816.621 L1162.02 834.631 L1159.89 834.631 L1159.89 816.621 Z\" fill=\"#000000\" fill-rule=\"evenodd\" fill-opacity=\"1\" /><path clip-path=\"url(#clip000)\" d=\"M1113.94 1106.76 L1110.77 1115.36 L1117.13 1115.36 L1113.94 1106.76 M1112.62 1104.46 L1115.27 1104.46 L1121.86 1121.74 L1119.43 1121.74 L1117.86 1117.3 L1110.07 1117.3 L1108.49 1121.74 L1106.03 1121.74 L1112.62 1104.46 Z\" fill=\"#000000\" fill-rule=\"evenodd\" fill-opacity=\"1\" /><path clip-path=\"url(#clip000)\" d=\"M1133.6 1115.27 Q1133.6 1112.92 1132.62 1111.59 Q1131.66 1110.24 1129.97 1110.24 Q1128.28 1110.24 1127.31 1111.59 Q1126.35 1112.92 1126.35 1115.27 Q1126.35 1117.62 1127.31 1118.96 Q1128.28 1120.29 1129.97 1120.29 Q1131.66 1120.29 1132.62 1118.96 Q1133.6 1117.62 1133.6 1115.27 M1126.35 1110.74 Q1127.02 1109.58 1128.04 1109.03 Q1129.07 1108.46 1130.49 1108.46 Q1132.86 1108.46 1134.33 1110.34 Q1135.81 1112.21 1135.81 1115.27 Q1135.81 1118.32 1134.33 1120.2 Q1132.86 1122.07 1130.49 1122.07 Q1129.07 1122.07 1128.04 1121.52 Q1127.02 1120.95 1126.35 1119.79 L1126.35 1121.74 L1124.21 1121.74 L1124.21 1103.73 L1126.35 1103.73 L1126.35 1110.74 Z\" fill=\"#000000\" fill-rule=\"evenodd\" fill-opacity=\"1\" /><path clip-path=\"url(#clip000)\" d=\"M1147.6 1109.16 L1147.6 1111.17 Q1146.7 1110.71 1145.73 1110.48 Q1144.75 1110.24 1143.71 1110.24 Q1142.13 1110.24 1141.33 1110.73 Q1140.54 1111.22 1140.54 1112.19 Q1140.54 1112.93 1141.11 1113.36 Q1141.67 1113.77 1143.39 1114.16 L1144.12 1114.32 Q1146.39 1114.8 1147.33 1115.7 Q1148.29 1116.57 1148.29 1118.16 Q1148.29 1119.97 1146.86 1121.02 Q1145.44 1122.07 1142.94 1122.07 Q1141.89 1122.07 1140.76 1121.86 Q1139.64 1121.67 1138.39 1121.26 L1138.39 1119.06 Q1139.57 1119.68 1140.71 1119.99 Q1141.86 1120.29 1142.98 1120.29 Q1144.49 1120.29 1145.3 1119.78 Q1146.11 1119.26 1146.11 1118.32 Q1146.11 1117.45 1145.52 1116.99 Q1144.94 1116.53 1142.96 1116.1 L1142.22 1115.93 Q1140.24 1115.51 1139.36 1114.65 Q1138.48 1113.79 1138.48 1112.28 Q1138.48 1110.45 1139.78 1109.46 Q1141.07 1108.46 1143.46 1108.46 Q1144.64 1108.46 1145.68 1108.63 Q1146.72 1108.81 1147.6 1109.16 Z\" fill=\"#000000\" fill-rule=\"evenodd\" fill-opacity=\"1\" /><path clip-path=\"url(#clip000)\" d=\"M1153.79 1105.09 L1153.79 1108.77 L1158.18 1108.77 L1158.18 1110.43 L1153.79 1110.43 L1153.79 1117.47 Q1153.79 1119.05 1154.22 1119.5 Q1154.66 1119.95 1155.99 1119.95 L1158.18 1119.95 L1158.18 1121.74 L1155.99 1121.74 Q1153.53 1121.74 1152.59 1120.82 Q1151.65 1119.9 1151.65 1117.47 L1151.65 1110.43 L1150.09 1110.43 L1150.09 1108.77 L1151.65 1108.77 L1151.65 1105.09 L1153.79 1105.09 Z\" fill=\"#000000\" fill-rule=\"evenodd\" fill-opacity=\"1\" /><path clip-path=\"url(#clip000)\" d=\"M1168.49 1110.76 Q1168.13 1110.56 1167.7 1110.46 Q1167.29 1110.36 1166.78 1110.36 Q1164.97 1110.36 1164 1111.54 Q1163.04 1112.71 1163.04 1114.91 L1163.04 1121.74 L1160.9 1121.74 L1160.9 1108.77 L1163.04 1108.77 L1163.04 1110.79 Q1163.71 1109.61 1164.79 1109.04 Q1165.86 1108.46 1167.4 1108.46 Q1167.62 1108.46 1167.89 1108.5 Q1168.16 1108.52 1168.48 1108.58 L1168.49 1110.76 Z\" fill=\"#000000\" fill-rule=\"evenodd\" fill-opacity=\"1\" /><path clip-path=\"url(#clip000)\" d=\"M1176.62 1115.22 Q1174.04 1115.22 1173.04 1115.81 Q1172.04 1116.4 1172.04 1117.82 Q1172.04 1118.96 1172.79 1119.63 Q1173.54 1120.29 1174.82 1120.29 Q1176.59 1120.29 1177.66 1119.04 Q1178.73 1117.78 1178.73 1115.7 L1178.73 1115.22 L1176.62 1115.22 M1180.86 1114.34 L1180.86 1121.74 L1178.73 1121.74 L1178.73 1119.77 Q1178.01 1120.95 1176.92 1121.52 Q1175.83 1122.07 1174.26 1122.07 Q1172.26 1122.07 1171.08 1120.96 Q1169.92 1119.84 1169.92 1117.96 Q1169.92 1115.78 1171.37 1114.66 Q1172.84 1113.55 1175.75 1113.55 L1178.73 1113.55 L1178.73 1113.35 Q1178.73 1111.88 1177.76 1111.08 Q1176.8 1110.27 1175.05 1110.27 Q1173.94 1110.27 1172.89 1110.53 Q1171.84 1110.8 1170.86 1111.33 L1170.86 1109.36 Q1172.03 1108.91 1173.13 1108.69 Q1174.23 1108.46 1175.27 1108.46 Q1178.09 1108.46 1179.48 1109.92 Q1180.86 1111.38 1180.86 1114.34 Z\" fill=\"#000000\" fill-rule=\"evenodd\" fill-opacity=\"1\" /><path clip-path=\"url(#clip000)\" d=\"M1194.58 1109.27 L1194.58 1111.26 Q1193.68 1110.76 1192.76 1110.52 Q1191.86 1110.27 1190.93 1110.27 Q1188.86 1110.27 1187.72 1111.59 Q1186.57 1112.89 1186.57 1115.27 Q1186.57 1117.64 1187.72 1118.96 Q1188.86 1120.27 1190.93 1120.27 Q1191.86 1120.27 1192.76 1120.02 Q1193.68 1119.77 1194.58 1119.27 L1194.58 1121.24 Q1193.69 1121.66 1192.73 1121.86 Q1191.78 1122.07 1190.7 1122.07 Q1187.77 1122.07 1186.05 1120.23 Q1184.32 1118.39 1184.32 1115.27 Q1184.32 1112.1 1186.06 1110.28 Q1187.81 1108.46 1190.84 1108.46 Q1191.82 1108.46 1192.76 1108.67 Q1193.7 1108.87 1194.58 1109.27 Z\" fill=\"#000000\" fill-rule=\"evenodd\" fill-opacity=\"1\" /><path clip-path=\"url(#clip000)\" d=\"M1200.39 1105.09 L1200.39 1108.77 L1204.78 1108.77 L1204.78 1110.43 L1200.39 1110.43 L1200.39 1117.47 Q1200.39 1119.05 1200.82 1119.5 Q1201.26 1119.95 1202.59 1119.95 L1204.78 1119.95 L1204.78 1121.74 L1202.59 1121.74 Q1200.12 1121.74 1199.19 1120.82 Q1198.25 1119.9 1198.25 1117.47 L1198.25 1110.43 L1196.69 1110.43 L1196.69 1108.77 L1198.25 1108.77 L1198.25 1105.09 L1200.39 1105.09 Z\" fill=\"#000000\" fill-rule=\"evenodd\" fill-opacity=\"1\" /><path clip-path=\"url(#clip000)\" d=\"M1207.67 1104.46 L1217.6 1104.46 L1217.6 1106.42 L1210.01 1106.42 L1210.01 1111.52 L1216.86 1111.52 L1216.86 1113.48 L1210.01 1113.48 L1210.01 1121.74 L1207.67 1121.74 L1207.67 1104.46 Z\" fill=\"#000000\" fill-rule=\"evenodd\" fill-opacity=\"1\" /><path clip-path=\"url(#clip000)\" d=\"M1221.21 1103.73 L1223.34 1103.73 L1223.34 1121.74 L1221.21 1121.74 L1221.21 1103.73 Z\" fill=\"#000000\" fill-rule=\"evenodd\" fill-opacity=\"1\" /><path clip-path=\"url(#clip000)\" d=\"M1232.82 1110.27 Q1231.11 1110.27 1230.11 1111.61 Q1229.12 1112.94 1229.12 1115.27 Q1229.12 1117.59 1230.1 1118.94 Q1231.1 1120.27 1232.82 1120.27 Q1234.52 1120.27 1235.52 1118.92 Q1236.51 1117.58 1236.51 1115.27 Q1236.51 1112.96 1235.52 1111.62 Q1234.52 1110.27 1232.82 1110.27 M1232.82 1108.46 Q1235.6 1108.46 1237.18 1110.27 Q1238.77 1112.07 1238.77 1115.27 Q1238.77 1118.45 1237.18 1120.27 Q1235.6 1122.07 1232.82 1122.07 Q1230.03 1122.07 1228.44 1120.27 Q1226.87 1118.45 1226.87 1115.27 Q1226.87 1112.07 1228.44 1110.27 Q1230.03 1108.46 1232.82 1108.46 Z\" fill=\"#000000\" fill-rule=\"evenodd\" fill-opacity=\"1\" /><path clip-path=\"url(#clip000)\" d=\"M1248.19 1115.22 Q1245.61 1115.22 1244.61 1115.81 Q1243.62 1116.4 1243.62 1117.82 Q1243.62 1118.96 1244.36 1119.63 Q1245.11 1120.29 1246.4 1120.29 Q1248.17 1120.29 1249.23 1119.04 Q1250.31 1117.78 1250.31 1115.7 L1250.31 1115.22 L1248.19 1115.22 M1252.44 1114.34 L1252.44 1121.74 L1250.31 1121.74 L1250.31 1119.77 Q1249.58 1120.95 1248.49 1121.52 Q1247.4 1122.07 1245.83 1122.07 Q1243.84 1122.07 1242.66 1120.96 Q1241.49 1119.84 1241.49 1117.96 Q1241.49 1115.78 1242.95 1114.66 Q1244.42 1113.55 1247.32 1113.55 L1250.31 1113.55 L1250.31 1113.35 Q1250.31 1111.88 1249.34 1111.08 Q1248.38 1110.27 1246.63 1110.27 Q1245.52 1110.27 1244.46 1110.53 Q1243.41 1110.8 1242.44 1111.33 L1242.44 1109.36 Q1243.61 1108.91 1244.71 1108.69 Q1245.81 1108.46 1246.85 1108.46 Q1249.66 1108.46 1251.05 1109.92 Q1252.44 1111.38 1252.44 1114.34 Z\" fill=\"#000000\" fill-rule=\"evenodd\" fill-opacity=\"1\" /><path clip-path=\"url(#clip000)\" d=\"M1258.93 1105.09 L1258.93 1108.77 L1263.32 1108.77 L1263.32 1110.43 L1258.93 1110.43 L1258.93 1117.47 Q1258.93 1119.05 1259.36 1119.5 Q1259.8 1119.95 1261.13 1119.95 L1263.32 1119.95 L1263.32 1121.74 L1261.13 1121.74 Q1258.66 1121.74 1257.73 1120.82 Q1256.79 1119.9 1256.79 1117.47 L1256.79 1110.43 L1255.23 1110.43 L1255.23 1108.77 L1256.79 1108.77 L1256.79 1105.09 L1258.93 1105.09 Z\" fill=\"#000000\" fill-rule=\"evenodd\" fill-opacity=\"1\" /><path clip-path=\"url(#clip000)\" d=\"M1693.25 1327.21 L1693.25 1333.55 L1697 1333.55 Q1698.89 1333.55 1699.79 1332.77 Q1700.7 1331.98 1700.7 1330.37 Q1700.7 1328.75 1699.79 1327.99 Q1698.89 1327.21 1697 1327.21 L1693.25 1327.21 M1693.25 1320.11 L1693.25 1325.32 L1696.71 1325.32 Q1698.42 1325.32 1699.26 1324.68 Q1700.1 1324.03 1700.1 1322.71 Q1700.1 1321.4 1699.26 1320.76 Q1698.42 1320.11 1696.71 1320.11 L1693.25 1320.11 M1690.91 1318.19 L1696.88 1318.19 Q1699.56 1318.19 1701 1319.3 Q1702.45 1320.41 1702.45 1322.46 Q1702.45 1324.04 1701.71 1324.98 Q1700.97 1325.92 1699.53 1326.15 Q1701.26 1326.52 1702.21 1327.7 Q1703.17 1328.87 1703.17 1330.63 Q1703.17 1332.94 1701.6 1334.21 Q1700.02 1335.47 1697.12 1335.47 L1690.91 1335.47 L1690.91 1318.19 Z\" fill=\"#000000\" fill-rule=\"evenodd\" fill-opacity=\"1\" /><path clip-path=\"url(#clip000)\" d=\"M1707.08 1322.5 L1709.21 1322.5 L1709.21 1335.47 L1707.08 1335.47 L1707.08 1322.5 M1707.08 1317.46 L1709.21 1317.46 L1709.21 1320.15 L1707.08 1320.15 L1707.08 1317.46 Z\" fill=\"#000000\" fill-rule=\"evenodd\" fill-opacity=\"1\" /><path clip-path=\"url(#clip000)\" d=\"M1722.2 1328.83 Q1722.2 1326.52 1721.24 1325.25 Q1720.29 1323.97 1718.56 1323.97 Q1716.85 1323.97 1715.89 1325.25 Q1714.94 1326.52 1714.94 1328.83 Q1714.94 1331.14 1715.89 1332.41 Q1716.85 1333.68 1718.56 1333.68 Q1720.29 1333.68 1721.24 1332.41 Q1722.2 1331.14 1722.2 1328.83 M1724.33 1333.86 Q1724.33 1337.17 1722.86 1338.78 Q1721.39 1340.4 1718.35 1340.4 Q1717.23 1340.4 1716.24 1340.22 Q1715.24 1340.06 1714.3 1339.71 L1714.3 1337.64 Q1715.24 1338.15 1716.16 1338.39 Q1717.07 1338.64 1718.02 1338.64 Q1720.11 1338.64 1721.16 1337.54 Q1722.2 1336.45 1722.2 1334.24 L1722.2 1333.19 Q1721.54 1334.33 1720.51 1334.9 Q1719.48 1335.47 1718.04 1335.47 Q1715.66 1335.47 1714.2 1333.65 Q1712.74 1331.83 1712.74 1328.83 Q1712.74 1325.83 1714.2 1324.01 Q1715.66 1322.19 1718.04 1322.19 Q1719.48 1322.19 1720.51 1322.76 Q1721.54 1323.33 1722.2 1324.47 L1722.2 1322.5 L1724.33 1322.5 L1724.33 1333.86 Z\" fill=\"#000000\" fill-rule=\"evenodd\" fill-opacity=\"1\" /><path clip-path=\"url(#clip000)\" d=\"M1728.81 1318.19 L1738.74 1318.19 L1738.74 1320.15 L1731.14 1320.15 L1731.14 1325.25 L1738 1325.25 L1738 1327.21 L1731.14 1327.21 L1731.14 1335.47 L1728.81 1335.47 L1728.81 1318.19 Z\" fill=\"#000000\" fill-rule=\"evenodd\" fill-opacity=\"1\" /><path clip-path=\"url(#clip000)\" d=\"M1742.35 1317.46 L1744.48 1317.46 L1744.48 1335.47 L1742.35 1335.47 L1742.35 1317.46 Z\" fill=\"#000000\" fill-rule=\"evenodd\" fill-opacity=\"1\" /><path clip-path=\"url(#clip000)\" d=\"M1753.96 1324 Q1752.24 1324 1751.25 1325.34 Q1750.25 1326.67 1750.25 1329 Q1750.25 1331.32 1751.24 1332.67 Q1752.23 1334 1753.96 1334 Q1755.66 1334 1756.65 1332.65 Q1757.65 1331.31 1757.65 1329 Q1757.65 1326.69 1756.65 1325.35 Q1755.66 1324 1753.96 1324 M1753.96 1322.19 Q1756.73 1322.19 1758.32 1324 Q1759.9 1325.8 1759.9 1329 Q1759.9 1332.18 1758.32 1334 Q1756.73 1335.8 1753.96 1335.8 Q1751.17 1335.8 1749.58 1334 Q1748.01 1332.18 1748.01 1329 Q1748.01 1325.8 1749.58 1324 Q1751.17 1322.19 1753.96 1322.19 Z\" fill=\"#000000\" fill-rule=\"evenodd\" fill-opacity=\"1\" /><path clip-path=\"url(#clip000)\" d=\"M1769.33 1328.95 Q1766.75 1328.95 1765.75 1329.54 Q1764.75 1330.13 1764.75 1331.55 Q1764.75 1332.69 1765.5 1333.36 Q1766.25 1334.02 1767.53 1334.02 Q1769.3 1334.02 1770.37 1332.77 Q1771.44 1331.51 1771.44 1329.43 L1771.44 1328.95 L1769.33 1328.95 M1773.57 1328.07 L1773.57 1335.47 L1771.44 1335.47 L1771.44 1333.5 Q1770.72 1334.68 1769.63 1335.25 Q1768.54 1335.8 1766.97 1335.8 Q1764.97 1335.8 1763.79 1334.69 Q1762.62 1333.57 1762.62 1331.69 Q1762.62 1329.51 1764.08 1328.4 Q1765.55 1327.28 1768.46 1327.28 L1771.44 1327.28 L1771.44 1327.08 Q1771.44 1325.61 1770.47 1324.81 Q1769.51 1324 1767.76 1324 Q1766.65 1324 1765.6 1324.26 Q1764.55 1324.53 1763.57 1325.06 L1763.57 1323.09 Q1764.74 1322.64 1765.84 1322.42 Q1766.94 1322.19 1767.98 1322.19 Q1770.8 1322.19 1772.18 1323.65 Q1773.57 1325.11 1773.57 1328.07 Z\" fill=\"#000000\" fill-rule=\"evenodd\" fill-opacity=\"1\" /><path clip-path=\"url(#clip000)\" d=\"M1780.07 1318.82 L1780.07 1322.5 L1784.45 1322.5 L1784.45 1324.16 L1780.07 1324.16 L1780.07 1331.2 Q1780.07 1332.78 1780.5 1333.23 Q1780.93 1333.68 1782.27 1333.68 L1784.45 1333.68 L1784.45 1335.47 L1782.27 1335.47 Q1779.8 1335.47 1778.86 1334.55 Q1777.93 1333.63 1777.93 1331.2 L1777.93 1324.16 L1776.36 1324.16 L1776.36 1322.5 L1777.93 1322.5 L1777.93 1318.82 L1780.07 1318.82 Z\" fill=\"#000000\" fill-rule=\"evenodd\" fill-opacity=\"1\" /><path clip-path=\"url(#clip000)\" d=\"M1499.23 1249.2 L1509.16 1249.2 L1509.16 1251.17 L1501.57 1251.17 L1501.57 1256.26 L1508.42 1256.26 L1508.42 1258.23 L1501.57 1258.23 L1501.57 1266.48 L1499.23 1266.48 L1499.23 1249.2 Z\" fill=\"#000000\" fill-rule=\"evenodd\" fill-opacity=\"1\" /><path clip-path=\"url(#clip000)\" d=\"M1512.77 1248.47 L1514.9 1248.47 L1514.9 1266.48 L1512.77 1266.48 L1512.77 1248.47 Z\" fill=\"#000000\" fill-rule=\"evenodd\" fill-opacity=\"1\" /><path clip-path=\"url(#clip000)\" d=\"M1524.38 1255.01 Q1522.67 1255.01 1521.67 1256.36 Q1520.68 1257.69 1520.68 1260.01 Q1520.68 1262.34 1521.66 1263.68 Q1522.66 1265.01 1524.38 1265.01 Q1526.08 1265.01 1527.08 1263.67 Q1528.07 1262.33 1528.07 1260.01 Q1528.07 1257.71 1527.08 1256.37 Q1526.08 1255.01 1524.38 1255.01 M1524.38 1253.21 Q1527.16 1253.21 1528.75 1255.01 Q1530.33 1256.82 1530.33 1260.01 Q1530.33 1263.2 1528.75 1265.01 Q1527.16 1266.82 1524.38 1266.82 Q1521.59 1266.82 1520.01 1265.01 Q1518.43 1263.2 1518.43 1260.01 Q1518.43 1256.82 1520.01 1255.01 Q1521.59 1253.21 1524.38 1253.21 Z\" fill=\"#000000\" fill-rule=\"evenodd\" fill-opacity=\"1\" /><path clip-path=\"url(#clip000)\" d=\"M1539.75 1259.97 Q1537.17 1259.97 1536.18 1260.56 Q1535.18 1261.15 1535.18 1262.57 Q1535.18 1263.71 1535.92 1264.38 Q1536.67 1265.04 1537.96 1265.04 Q1539.73 1265.04 1540.79 1263.79 Q1541.87 1262.52 1541.87 1260.44 L1541.87 1259.97 L1539.75 1259.97 M1544 1259.09 L1544 1266.48 L1541.87 1266.48 L1541.87 1264.52 Q1541.14 1265.7 1540.05 1266.26 Q1538.97 1266.82 1537.39 1266.82 Q1535.4 1266.82 1534.22 1265.71 Q1533.05 1264.58 1533.05 1262.71 Q1533.05 1260.52 1534.51 1259.41 Q1535.98 1258.3 1538.88 1258.3 L1541.87 1258.3 L1541.87 1258.09 Q1541.87 1256.62 1540.9 1255.82 Q1539.94 1255.01 1538.19 1255.01 Q1537.08 1255.01 1536.03 1255.28 Q1534.97 1255.55 1534 1256.08 L1534 1254.11 Q1535.17 1253.66 1536.27 1253.44 Q1537.37 1253.21 1538.41 1253.21 Q1541.22 1253.21 1542.61 1254.67 Q1544 1256.12 1544 1259.09 Z\" fill=\"#000000\" fill-rule=\"evenodd\" fill-opacity=\"1\" /><path clip-path=\"url(#clip000)\" d=\"M1550.49 1249.84 L1550.49 1253.52 L1554.88 1253.52 L1554.88 1255.18 L1550.49 1255.18 L1550.49 1262.21 Q1550.49 1263.8 1550.92 1264.25 Q1551.36 1264.7 1552.69 1264.7 L1554.88 1264.7 L1554.88 1266.48 L1552.69 1266.48 Q1550.23 1266.48 1549.29 1265.57 Q1548.35 1264.64 1548.35 1262.21 L1548.35 1255.18 L1546.79 1255.18 L1546.79 1253.52 L1548.35 1253.52 L1548.35 1249.84 L1550.49 1249.84 Z\" fill=\"#000000\" fill-rule=\"evenodd\" fill-opacity=\"1\" /><path clip-path=\"url(#clip000)\" d=\"M1558.39 1264.52 L1562.21 1264.52 L1562.21 1251.33 L1558.05 1252.17 L1558.05 1250.04 L1562.18 1249.2 L1564.52 1249.2 L1564.52 1264.52 L1568.34 1264.52 L1568.34 1266.48 L1558.39 1266.48 L1558.39 1264.52 Z\" fill=\"#000000\" fill-rule=\"evenodd\" fill-opacity=\"1\" /><path clip-path=\"url(#clip000)\" d=\"M1578.35 1256.91 Q1576.78 1256.91 1575.85 1257.99 Q1574.94 1259.06 1574.94 1260.94 Q1574.94 1262.8 1575.85 1263.89 Q1576.78 1264.97 1578.35 1264.97 Q1579.93 1264.97 1580.84 1263.89 Q1581.77 1262.8 1581.77 1260.94 Q1581.77 1259.06 1580.84 1257.99 Q1579.93 1256.91 1578.35 1256.91 M1582.99 1249.59 L1582.99 1251.71 Q1582.11 1251.3 1581.21 1251.08 Q1580.32 1250.86 1579.44 1250.86 Q1577.12 1250.86 1575.9 1252.42 Q1574.68 1253.98 1574.51 1257.14 Q1575.19 1256.14 1576.22 1255.6 Q1577.25 1255.06 1578.49 1255.06 Q1581.09 1255.06 1582.6 1256.65 Q1584.12 1258.22 1584.12 1260.94 Q1584.12 1263.6 1582.54 1265.21 Q1580.97 1266.82 1578.35 1266.82 Q1575.35 1266.82 1573.77 1264.53 Q1572.18 1262.22 1572.18 1257.86 Q1572.18 1253.76 1574.13 1251.33 Q1576.07 1248.89 1579.35 1248.89 Q1580.23 1248.89 1581.12 1249.06 Q1582.02 1249.24 1582.99 1249.59 Z\" fill=\"#000000\" fill-rule=\"evenodd\" fill-opacity=\"1\" /><path clip-path=\"url(#clip000)\" d=\"M927.317 1327.04 L937.247 1327.04 L937.247 1329.01 L929.655 1329.01 L929.655 1334.1 L936.506 1334.1 L936.506 1336.07 L929.655 1336.07 L929.655 1344.32 L927.317 1344.32 L927.317 1327.04 Z\" fill=\"#000000\" fill-rule=\"evenodd\" fill-opacity=\"1\" /><path clip-path=\"url(#clip000)\" d=\"M940.858 1326.31 L942.988 1326.31 L942.988 1344.32 L940.858 1344.32 L940.858 1326.31 Z\" fill=\"#000000\" fill-rule=\"evenodd\" fill-opacity=\"1\" /><path clip-path=\"url(#clip000)\" d=\"M952.467 1332.85 Q950.754 1332.85 949.759 1334.2 Q948.763 1335.53 948.763 1337.85 Q948.763 1340.18 949.747 1341.52 Q950.742 1342.85 952.467 1342.85 Q954.168 1342.85 955.164 1341.51 Q956.159 1340.17 956.159 1337.85 Q956.159 1335.55 955.164 1334.21 Q954.168 1332.85 952.467 1332.85 M952.467 1331.05 Q955.245 1331.05 956.83 1332.85 Q958.416 1334.66 958.416 1337.85 Q958.416 1341.04 956.83 1342.85 Q955.245 1344.66 952.467 1344.66 Q949.678 1344.66 948.092 1342.85 Q946.518 1341.04 946.518 1337.85 Q946.518 1334.66 948.092 1332.85 Q949.678 1331.05 952.467 1331.05 Z\" fill=\"#000000\" fill-rule=\"evenodd\" fill-opacity=\"1\" /><path clip-path=\"url(#clip000)\" d=\"M967.837 1337.81 Q965.256 1337.81 964.261 1338.4 Q963.265 1338.99 963.265 1340.41 Q963.265 1341.54 964.006 1342.22 Q964.758 1342.88 966.043 1342.88 Q967.814 1342.88 968.879 1341.63 Q969.955 1340.36 969.955 1338.28 L969.955 1337.81 L967.837 1337.81 M972.085 1336.93 L972.085 1344.32 L969.955 1344.32 L969.955 1342.36 Q969.226 1343.54 968.138 1344.1 Q967.05 1344.66 965.476 1344.66 Q963.485 1344.66 962.305 1343.55 Q961.136 1342.42 961.136 1340.55 Q961.136 1338.36 962.594 1337.25 Q964.064 1336.14 966.969 1336.14 L969.955 1336.14 L969.955 1335.93 Q969.955 1334.46 968.983 1333.66 Q968.022 1332.85 966.275 1332.85 Q965.164 1332.85 964.11 1333.12 Q963.057 1333.39 962.085 1333.92 L962.085 1331.95 Q963.254 1331.5 964.353 1331.28 Q965.453 1331.05 966.495 1331.05 Q969.307 1331.05 970.696 1332.51 Q972.085 1333.96 972.085 1336.93 Z\" fill=\"#000000\" fill-rule=\"evenodd\" fill-opacity=\"1\" /><path clip-path=\"url(#clip000)\" d=\"M978.578 1327.68 L978.578 1331.36 L982.964 1331.36 L982.964 1333.01 L978.578 1333.01 L978.578 1340.05 Q978.578 1341.64 979.006 1342.09 Q979.446 1342.54 980.777 1342.54 L982.964 1342.54 L982.964 1344.32 L980.777 1344.32 Q978.312 1344.32 977.374 1343.41 Q976.437 1342.48 976.437 1340.05 L976.437 1333.01 L974.874 1333.01 L974.874 1331.36 L976.437 1331.36 L976.437 1327.68 L978.578 1327.68 Z\" fill=\"#000000\" fill-rule=\"evenodd\" fill-opacity=\"1\" /><path clip-path=\"url(#clip000)\" d=\"M993.15 1335.01 Q994.828 1335.36 995.765 1336.5 Q996.714 1337.63 996.714 1339.3 Q996.714 1341.86 994.955 1343.26 Q993.196 1344.66 989.955 1344.66 Q988.867 1344.66 987.71 1344.44 Q986.564 1344.23 985.337 1343.8 L985.337 1341.54 Q986.309 1342.11 987.467 1342.4 Q988.624 1342.69 989.886 1342.69 Q992.085 1342.69 993.231 1341.82 Q994.388 1340.95 994.388 1339.3 Q994.388 1337.77 993.312 1336.92 Q992.247 1336.05 990.337 1336.05 L988.323 1336.05 L988.323 1334.13 L990.43 1334.13 Q992.154 1334.13 993.069 1333.44 Q993.983 1332.75 993.983 1331.45 Q993.983 1330.12 993.034 1329.42 Q992.096 1328.7 990.337 1328.7 Q989.376 1328.7 988.277 1328.91 Q987.177 1329.11 985.858 1329.55 L985.858 1327.47 Q987.189 1327.1 988.346 1326.92 Q989.515 1326.73 990.545 1326.73 Q993.207 1326.73 994.758 1327.95 Q996.309 1329.15 996.309 1331.21 Q996.309 1332.64 995.487 1333.64 Q994.666 1334.62 993.15 1335.01 Z\" fill=\"#000000\" fill-rule=\"evenodd\" fill-opacity=\"1\" /><path clip-path=\"url(#clip000)\" d=\"M1003.16 1342.36 L1011.32 1342.36 L1011.32 1344.32 L1000.35 1344.32 L1000.35 1342.36 Q1001.68 1340.98 1003.97 1338.66 Q1006.27 1336.34 1006.86 1335.67 Q1007.99 1334.4 1008.43 1333.54 Q1008.88 1332.66 1008.88 1331.81 Q1008.88 1330.43 1007.91 1329.57 Q1006.95 1328.7 1005.39 1328.7 Q1004.3 1328.7 1003.07 1329.08 Q1001.85 1329.46 1000.46 1330.24 L1000.46 1327.88 Q1001.88 1327.31 1003.1 1327.02 Q1004.33 1326.73 1005.35 1326.73 Q1008.03 1326.73 1009.63 1328.07 Q1011.23 1329.42 1011.23 1331.66 Q1011.23 1332.73 1010.82 1333.69 Q1010.43 1334.64 1009.38 1335.93 Q1009.09 1336.27 1007.54 1337.88 Q1005.99 1339.47 1003.16 1342.36 Z\" fill=\"#000000\" fill-rule=\"evenodd\" fill-opacity=\"1\" /><path clip-path=\"url(#clip000)\" d=\"M619.794 1329.04 L629.725 1329.04 L629.725 1331.01 L622.132 1331.01 L622.132 1336.1 L628.984 1336.1 L628.984 1338.07 L622.132 1338.07 L622.132 1346.32 L619.794 1346.32 L619.794 1329.04 Z\" fill=\"#000000\" fill-rule=\"evenodd\" fill-opacity=\"1\" /><path clip-path=\"url(#clip000)\" d=\"M633.336 1328.31 L635.466 1328.31 L635.466 1346.32 L633.336 1346.32 L633.336 1328.31 Z\" fill=\"#000000\" fill-rule=\"evenodd\" fill-opacity=\"1\" /><path clip-path=\"url(#clip000)\" d=\"M644.945 1334.85 Q643.232 1334.85 642.236 1336.2 Q641.241 1337.53 641.241 1339.85 Q641.241 1342.18 642.225 1343.52 Q643.22 1344.85 644.945 1344.85 Q646.646 1344.85 647.641 1343.51 Q648.637 1342.17 648.637 1339.85 Q648.637 1337.55 647.641 1336.21 Q646.646 1334.85 644.945 1334.85 M644.945 1333.05 Q647.722 1333.05 649.308 1334.85 Q650.894 1336.66 650.894 1339.85 Q650.894 1343.04 649.308 1344.85 Q647.722 1346.66 644.945 1346.66 Q642.155 1346.66 640.57 1344.85 Q638.996 1343.04 638.996 1339.85 Q638.996 1336.66 640.57 1334.85 Q642.155 1333.05 644.945 1333.05 Z\" fill=\"#000000\" fill-rule=\"evenodd\" fill-opacity=\"1\" /><path clip-path=\"url(#clip000)\" d=\"M660.315 1339.81 Q657.734 1339.81 656.739 1340.4 Q655.743 1340.99 655.743 1342.41 Q655.743 1343.55 656.484 1344.22 Q657.236 1344.88 658.521 1344.88 Q660.292 1344.88 661.357 1343.63 Q662.433 1342.36 662.433 1340.28 L662.433 1339.81 L660.315 1339.81 M664.563 1338.93 L664.563 1346.32 L662.433 1346.32 L662.433 1344.36 Q661.704 1345.54 660.616 1346.1 Q659.528 1346.66 657.954 1346.66 Q655.963 1346.66 654.783 1345.55 Q653.614 1344.42 653.614 1342.55 Q653.614 1340.36 655.072 1339.25 Q656.542 1338.14 659.447 1338.14 L662.433 1338.14 L662.433 1337.93 Q662.433 1336.46 661.461 1335.66 Q660.5 1334.85 658.752 1334.85 Q657.641 1334.85 656.588 1335.12 Q655.535 1335.39 654.563 1335.92 L654.563 1333.95 Q655.732 1333.5 656.831 1333.28 Q657.931 1333.05 658.972 1333.05 Q661.785 1333.05 663.174 1334.51 Q664.563 1335.96 664.563 1338.93 Z\" fill=\"#000000\" fill-rule=\"evenodd\" fill-opacity=\"1\" /><path clip-path=\"url(#clip000)\" d=\"M671.056 1329.68 L671.056 1333.36 L675.442 1333.36 L675.442 1335.01 L671.056 1335.01 L671.056 1342.05 Q671.056 1343.64 671.484 1344.09 Q671.924 1344.54 673.255 1344.54 L675.442 1344.54 L675.442 1346.32 L673.255 1346.32 Q670.789 1346.32 669.852 1345.41 Q668.914 1344.48 668.914 1342.05 L668.914 1335.01 L667.352 1335.01 L667.352 1333.36 L668.914 1333.36 L668.914 1329.68 L671.056 1329.68 Z\" fill=\"#000000\" fill-rule=\"evenodd\" fill-opacity=\"1\" /><path clip-path=\"url(#clip000)\" d=\"M683.833 1336.75 Q682.259 1336.75 681.333 1337.83 Q680.419 1338.9 680.419 1340.78 Q680.419 1342.64 681.333 1343.73 Q682.259 1344.81 683.833 1344.81 Q685.407 1344.81 686.322 1343.73 Q687.248 1342.64 687.248 1340.78 Q687.248 1338.9 686.322 1337.83 Q685.407 1336.75 683.833 1336.75 M688.474 1329.42 L688.474 1331.55 Q687.595 1331.14 686.692 1330.92 Q685.801 1330.7 684.921 1330.7 Q682.606 1330.7 681.38 1332.26 Q680.164 1333.82 679.991 1336.98 Q680.674 1335.98 681.704 1335.44 Q682.734 1334.9 683.972 1334.9 Q686.576 1334.9 688.081 1336.48 Q689.597 1338.06 689.597 1340.78 Q689.597 1343.44 688.023 1345.05 Q686.449 1346.66 683.833 1346.66 Q680.836 1346.66 679.25 1344.37 Q677.664 1342.06 677.664 1337.7 Q677.664 1333.6 679.609 1331.17 Q681.553 1328.73 684.829 1328.73 Q685.708 1328.73 686.599 1328.9 Q687.502 1329.08 688.474 1329.42 Z\" fill=\"#000000\" fill-rule=\"evenodd\" fill-opacity=\"1\" /><path clip-path=\"url(#clip000)\" d=\"M700.048 1331.08 L694.146 1340.3 L700.048 1340.3 L700.048 1331.08 M699.435 1329.04 L702.375 1329.04 L702.375 1340.3 L704.84 1340.3 L704.84 1342.25 L702.375 1342.25 L702.375 1346.32 L700.048 1346.32 L700.048 1342.25 L692.248 1342.25 L692.248 1339.99 L699.435 1329.04 Z\" fill=\"#000000\" fill-rule=\"evenodd\" fill-opacity=\"1\" /></svg>\n"
      ]
     },
     "execution_count": 18,
     "metadata": {},
     "output_type": "execute_result"
    }
   ],
   "source": [
    "using GraphRecipes, Plots\n",
    "\n",
    "#pyplot(size=(800, 600))\n",
    "gr(size=(600, 400))\n",
    "theme(:default)\n",
    "\n",
    "plot(AbstractFloat, method=:tree, fontsize=4)"
   ]
  },
  {
   "cell_type": "markdown",
   "metadata": {},
   "source": [
    "### Half precision (Float16)\n",
    "\n",
    "<img src=\"./half-precision-numbers.png\" width=\"300\" align=\"center\"/>\n",
    "\n",
    "Source: <https://en.wikipedia.org/wiki/Half-precision_floating-point_format>\n",
    "    \n",
    "- In Julia, `Float16` is the type for half precision numbers.\n",
    "\n",
    "- MSB is the sign bit.  \n",
    "\n",
    "- 10 significand bits (**fraction**=**mantissa**), hence $p=11$ (why?)\n",
    "\n",
    "- 5 exponent bits: $e_{\\max}=15$, $e_{\\min}=-14$, **bias**=15 = $01111_2$ for encoding:\n",
    "    + $e_{\\min} = \\mathbf{00001_2} - 01111_2 = -14_{10}$\n",
    "    + $e_{\\max} = \\mathbf{11110_2} - 01111_2 = 15_{10}$\n",
    "\n",
    "- $e_{\\text{min}}-1$ and $e_{\\text{max}}+1$ are reserved for special numbers.  \n",
    "\n",
    "- range of **magnitude**: $10^{\\pm 4}$ in decimal because $\\log_{10} (2^{15}) \\approx 4$.  \n",
    "\n",
    "- **Precision**: $\\log_{10}2^{11} \\approx 3.311$ decimal digits. \n",
    "\n",
    "$$\n",
    "(value) = (-1)^{b_{15}}\\times 2^{(\\sum_{j=1}^5 b_{15-j}2^{5-j}) - 15} \\times \\left( 1 + \\sum_{i=1}^{10}\\frac{b_{10-i}}{2^i}\\right)\n",
    "$$"
   ]
  },
  {
   "cell_type": "code",
   "execution_count": 19,
   "metadata": {},
   "outputs": [
    {
     "name": "stdout",
     "output_type": "stream",
     "text": [
      "Half precision:\n",
      "bitstring(Float16(5)) = \"0100010100000000\"\n",
      "bitstring(Float16(-5)) = \"1100010100000000\"\n"
     ]
    }
   ],
   "source": [
    "println(\"Half precision:\")\n",
    "@show bitstring(Float16(5)) # 5 in half precision\n",
    "@show bitstring(Float16(-5)); # -5 in half precision"
   ]
  },
  {
   "cell_type": "markdown",
   "metadata": {},
   "source": [
    "### Single precision (Float32)\n",
    "\n",
    "<img src=\"./single-precision-numbers.png\" width=\"600\" align=\"center\"/>\n",
    "\n",
    "Source: <https://en.wikipedia.org/wiki/Single-precision_floating-point_format>\n",
    "\n",
    "- In Julia, `Float32` is the type for single precision numbers.  \n",
    "\n",
    "- MSB is the sign bit.  \n",
    "\n",
    "- 23 significand bits ($p=24$).  \n",
    "\n",
    "- 8 exponent bits: $e_{\\max}=127$, $e_{\\min}=-126$, **bias**=127.  \n",
    "\n",
    "- $e_{\\text{min}}-1$ and $e_{\\text{max}}+1$ are reserved for special numbers.  \n",
    "\n",
    "- range of **magnitude**: $10^{\\pm 38}$ in decimal because $\\log_{10} (2^{127}) \\approx 38$.\n",
    "\n",
    "- **precision**: $\\log_{10}(2^{24}) \\approx 7.225$ decimal digits.  "
   ]
  },
  {
   "cell_type": "code",
   "execution_count": 20,
   "metadata": {},
   "outputs": [
    {
     "name": "stdout",
     "output_type": "stream",
     "text": [
      "Single precision:\n",
      "bitstring(Float32(5)) = \"01000000101000000000000000000000\"\n",
      "bitstring(Float32(-5)) = \"11000000101000000000000000000000\"\n"
     ]
    }
   ],
   "source": [
    "println(\"Single precision:\")\n",
    "@show bitstring(Float32(5)) # 5 in single precision\n",
    "@show bitstring(Float32(-5)); # -5 in single precision"
   ]
  },
  {
   "cell_type": "markdown",
   "metadata": {},
   "source": [
    "### Double precision (Float64)\n",
    "\n",
    "<img src=\"./double-precision-numbers.png\" width=\"600\" align=\"center\"/>\n",
    "\n",
    "Source: <https://en.wikipedia.org/wiki/Double-precision_floating-point_format>\n",
    "\n",
    "- Double precision (64 bits = 8 bytes) numbers are the dominant data type in scientific computing.\n",
    "      \n",
    "- In Julia, `Float64` is the type for double precision numbers.    \n",
    "\n",
    "- MSB is the sign bit.  \n",
    "\n",
    "- 52 significand bits ($p=53$).\n",
    "\n",
    "- 11 exponent bits: $e_{\\max}=1023$, $e_{\\min}=-1022$, **bias**=1023.  \n",
    "\n",
    "- $e_{\\text{min}}-1$ and $e_{\\text{max}}+1$ are reserved for special numbers.  \n",
    "\n",
    "- range of **magnitude**: $10^{\\pm 308}$ in decimal because $\\log_{10} (2^{1023}) \\approx 308$.  \n",
    "\n",
    "- **precision** to the $\\log_{10}(2^{53}) \\approx 15.95$ decimal point."
   ]
  },
  {
   "cell_type": "code",
   "execution_count": 21,
   "metadata": {},
   "outputs": [
    {
     "name": "stdout",
     "output_type": "stream",
     "text": [
      "Double precision:\n",
      "bitstring(Float64(5)) = \"0100000000010100000000000000000000000000000000000000000000000000\"\n",
      "bitstring(Float64(-5)) = \"1100000000010100000000000000000000000000000000000000000000000000\"\n"
     ]
    }
   ],
   "source": [
    "println(\"Double precision:\")\n",
    "@show bitstring(Float64(5)) # 5 in double precision\n",
    "@show bitstring(Float64(-5)); # -5 in double precision"
   ]
  },
  {
   "cell_type": "markdown",
   "metadata": {},
   "source": [
    "### Special floating-point numbers\n",
    "\n",
    "- Exponent $e_{\\max}+1$ plus a zero mantissa means $\\pm \\infty$."
   ]
  },
  {
   "cell_type": "code",
   "execution_count": 22,
   "metadata": {},
   "outputs": [
    {
     "name": "stdout",
     "output_type": "stream",
     "text": [
      "bitstring(Inf) = \"0111111111110000000000000000000000000000000000000000000000000000\"\n",
      "bitstring(-Inf) = \"1111111111110000000000000000000000000000000000000000000000000000\"\n"
     ]
    }
   ],
   "source": [
    "@show bitstring(Inf) # Inf in double precision\n",
    "@show bitstring(-Inf); # -Inf in double precision"
   ]
  },
  {
   "cell_type": "markdown",
   "metadata": {},
   "source": [
    "- Exponent $e_{\\max}+1$ plus a nonzero mantissa means `NaN`. `NaN` could be produced from `0 / 0`, `0 * Inf`, ...  \n",
    "\n",
    "- In general `NaN ≠ NaN` bitwise. Test whether a number is `NaN` by `isnan` function.  "
   ]
  },
  {
   "cell_type": "code",
   "execution_count": 23,
   "metadata": {},
   "outputs": [
    {
     "name": "stdout",
     "output_type": "stream",
     "text": [
      "bitstring(0 / 0) = \"1111111111111000000000000000000000000000000000000000000000000000\"\n",
      "bitstring(0Inf) = \"1111111111111000000000000000000000000000000000000000000000000000\"\n"
     ]
    }
   ],
   "source": [
    "@show bitstring(0 / 0) # NaN\n",
    "@show bitstring(0 * Inf); # NaN"
   ]
  },
  {
   "cell_type": "markdown",
   "metadata": {},
   "source": [
    "- Exponent $e_{\\min}-1$ with a zero mantissa represents the real number 0 (\"exact zero\").  \n",
    "    + Why do we need an exact zero?"
   ]
  },
  {
   "cell_type": "code",
   "execution_count": 24,
   "metadata": {},
   "outputs": [
    {
     "name": "stdout",
     "output_type": "stream",
     "text": [
      "bitstring(0.0) = \"0000000000000000000000000000000000000000000000000000000000000000\"\n"
     ]
    }
   ],
   "source": [
    "@show bitstring(0.0); # 0 in double precision "
   ]
  },
  {
   "cell_type": "markdown",
   "metadata": {},
   "source": [
    "- Exponent $e_{\\min}-1$ with a nonzero mantissa are for numbers less than $b^{e_{\\min}}$ (subnormal numbers).\n",
    "- Numbers are _denormalized_ in the range $(0,b^{e_{\\min}})$ -- **gradual underflow**. \n",
    "- For example, in half-precision, $e_{\\min}=-14$ but $2^{-24}$ is represented by $0.0000000001_2 \\times 2^{-14}$.\n",
    "- If floating point numbers are all normalized, the spacing between 0 and $b^{e_{\\min}}$ is just $b^{e_{\\min}}$, whereas the spacing between $b^{e_{\\min}}$ and $b^{e_{\\min}+1}$ is $b^{e_{\\min}-p+1}$. With subnormal numbers, the spacing between 0 and $b^{e_{\\min}}$ can be $b^{e_{\\min}-p}$, which is more consistent with the spacing just above $b^{e_{\\min}}$."
   ]
  },
  {
   "cell_type": "code",
   "execution_count": 25,
   "metadata": {},
   "outputs": [
    {
     "name": "stdout",
     "output_type": "stream",
     "text": [
      "Float16(2 ^ -14) = Float16(6.104e-5)\n",
      "bitstring(Float16(2 ^ -14)) = \"0000010000000000\"\n",
      "Float16(2 ^ -24) = Float16(6.0e-8)\n",
      "bitstring(Float16(2 ^ -24)) = \"0000000000000001\"\n"
     ]
    }
   ],
   "source": [
    "@show Float16(2^(-14))  # emin=-14\n",
    "@show bitstring(Float16(2^(-14)));\n",
    "@show Float16(2^(-24))  # emin=-14\n",
    "@show bitstring(Float16(2^(-24))); # denormalized"
   ]
  },
  {
   "cell_type": "code",
   "execution_count": 26,
   "metadata": {},
   "outputs": [
    {
     "name": "stdout",
     "output_type": "stream",
     "text": [
      "nextfloat(Float16(0.0)) = Float16(6.0e-8)\n",
      "bitstring(nextfloat(Float16(0.0))) = \"0000000000000001\"\n"
     ]
    }
   ],
   "source": [
    "@show nextfloat(Float16(0.0)) # next representable number\n",
    "@show bitstring(nextfloat(Float16(0.0))); # denormalized"
   ]
  },
  {
   "cell_type": "markdown",
   "metadata": {},
   "source": [
    "### Rounding\n",
    "\n",
    "* Rounding is necessary whenever a number has more than $p$ significand bits. Most computer systems use the default IEEE 754 _round to nearest_ mode (also called _ties to even_ mode). Julia offers several [rounding modes](https://docs.julialang.org/en/v1/base/math/#Base.Rounding.RoundingMode), the default being [`RoundNearest`](https://docs.julialang.org/en/v1/base/math/#Base.Rounding.RoundNearest). \n",
    "\n",
    "* \"*Round to nearest, ties to even*\" rule: rounds to the nearest value; if the number falls midway, it is rounded to the nearest value with an even least significant digit (i.e., zero; default for IEEE 754 binary floating point numbers)\n",
    "\n",
    "* For example, the number 1/10 cannot be represented accurately as a (binary) floating point number:\n",
    "$$ 0.1 = 1.10011001\\dotsc_2 \\times 2^{-4} $$"
   ]
  },
  {
   "cell_type": "code",
   "execution_count": 27,
   "metadata": {},
   "outputs": [
    {
     "name": "stdout",
     "output_type": "stream",
     "text": [
      "bitstring(0.1) = \"0011111110111001100110011001100110011001100110011001100110011010\"\n",
      "bitstring(0.1f0) = \"00111101110011001100110011001101\"\n",
      "bitstring(Float16(0.1)) = \"0010111001100110\"\n"
     ]
    }
   ],
   "source": [
    "@show bitstring(0.1);  # double precision Float64\n",
    "@show bitstring(0.1f0); # single precision Float32, 1001 gets rounded to 101(0)\n",
    "@show bitstring(Float16(0.1)); # half precision Float16, 1001 gets rounded to 101(0)"
   ]
  },
  {
   "cell_type": "markdown",
   "metadata": {},
   "source": [
    "### Errors\n",
    "\n",
    "Rounding (more fundamentally, finite precision) incurs errors in floating porint computation. If a real number $x$ is represented by a floating point number $[x]$, then\n",
    "\n",
    "* Absolute error\n",
    "$$\n",
    "    | [x] - x |\n",
    "$$\n",
    "\n",
    "* Relative error\n",
    "$$\n",
    "    \\frac{| [x] - x |}{|x|}\n",
    "$$\n",
    "(if $x \\neq 0$).\n",
    "\n",
    "Of course, we want to ensure that the error after a computation is small."
   ]
  },
  {
   "cell_type": "markdown",
   "metadata": {},
   "source": [
    "### Machine epsilons\n",
    "\n",
    "- Floating-point numbers do not occur uniformly over the real number line\n",
    "    <img src=\"http://www.volkerschatz.com/science/pics/fltscale-wh.png\" width=\"700\" align=\"center\"/>\n",
    "        \n",
    "Source: [What you never wanted to know about floating point but will be forced to find out](http://www.volkerschatz.com/science/float.html)\n",
    "    \n",
    "- Same number of representible numbers in $(2^i, 2^{i+1}]$ as in $(2^{i+1}, 2^{i+2}]$. Within an interval, they are uniformly distributed.\n",
    "    \n",
    "- **Machine epsilons** are the spacings of numbers around 1: \n",
    "    + $\\epsilon_{\\max}$ = (smallest positive floating point number that added to 1 will give a result different from 1) = $\\frac{1}{2^p} + \\frac{1}{2^{2p-1}}$\n",
    "    + $\\epsilon_{\\min}$ = (smallest positive floating point number that subtracted from 1 will give a result different from 1) = $\\frac{1}{2^{p+1}} + \\frac{1}{2^{2p}}$.\n",
    "    + That is, $1 + \\epsilon_{\\max}$ is the number in the \"midway\" between 1 and the floating point number right next to it, etc.\n",
    "    \n",
    "    <img src=\"./machine_epsilons.png\" width=\"500\" align=\"center\"/>\n",
    "\n",
    "Source: *Computational Statistics*, James Gentle, Springer, New York, 2009.\n",
    "\n",
    "*Caution: the definition of $\\epsilon_{\\max}$ and $\\epsilon_{\\min}$ in this book is different from the lecture note.*\n",
    "    \n",
    "- Any real number in the interval $\\left[1 - \\frac{1}{2^{p+1}}, 1 + \\frac{1}{2^p}\\right]=[1.111\\dotsb1|1_2 \\times 2^{-1}, 1.000\\dotsb 0|1 \\times 2^0]$ is represented by a floating point number $1 = 1.00\\dotsc 0_2 \\times 2^0$ (assuming the \"ties to even\" rule: consider $p=2$ case).\n",
    "\n",
    "- Adding $\\frac{1}{2^p}$ to 1 won't reach the next representable floating point number  $1.00\\dotsc 01_2 \\times 2^0 = 1 + \\frac{1}{2^{p-1}}$. Hence $\\epsilon_{\\max} > \\frac{1}{2^p} = 1.00\\dotsc 0_2 \\times 2^{-p}$.\n",
    "\n",
    "- Adding the floating point number *next to* $\\frac{1}{2^p} = 1.00\\dotsc 0_2 \\times 2^{-p}$ to 1 WILL result in $1.00\\dotsc 01_2 \\times 2^0 = 1 + \\frac{1}{2^{p-1}}$, hence $\\epsilon_{\\max} = 1.00\\dotsb 01_2 \\times 2^{-p} = \\frac{1}{2^p} + \\frac{1}{2^{p+p-1}}$.\n",
    "\n",
    "- Subtracting $\\frac{1}{2^{p+1}}$ from 1 results in $1-\\frac{1}{2^{p+1}} = \\frac{1}{2} + \\frac{1}{2^2} + \\dotsb + \\frac{1}{2^p} + \\frac{1}{2^{p+1}}$, which is represented by the floating point number $1.00\\dotsb 0_2 \\times 2^{0} = 1$ by the \"ties to even\" rule. Hence $\\epsilon_{\\min} > \\frac{1}{2^{p+1}}$.\n",
    "\n",
    "- The smallest positive floating point number larger than $\\frac{1}{2^{p+1}}$ is $\\frac{1}{2^{p+1}} + \\frac{1}{2^{2p}}=1.00\\dotsc 1_2 \\times 2^{-p-1}$. Thus $\\epsilon_{\\min} = \\frac{1}{2^{p+1}} + \\frac{1}{2^{2p}}$."
   ]
  },
  {
   "cell_type": "markdown",
   "metadata": {},
   "source": [
    "### Machine precision\n",
    "\n",
    "* Machine epsilon is often called the machine precision.\n",
    "\n",
    "* If a positive real number $x \\in \\mathbb{R}$ is represented by $[x]$ in the floating point arithmetic, then \n",
    "$$\n",
    "    [x] = \\left( 1 + \\sum_{i=1}^{p-1}\\frac{b_{i+1}}{2^i}\\right) \\times 2^e.\n",
    "$$\n",
    "Thus $x - \\frac{2^e}{2^p} < [x] \\le x + \\frac{2^e}{2^p}$, \n",
    "and\n",
    "$$\n",
    "    \\begin{split}\n",
    "    \\frac{| x - [x] |}{|x|} &\\le \\frac{2^e}{2^p|x|} \\le \\frac{2^e}{2^p}\\frac{1}{[x]-2^e/2^p} \\\\\n",
    "                            &\\le \\frac{2^e}{2^p}\\frac{1}{2^e(1-1/2^p)}  \\quad (\\because [x] \\ge 2^e) \\\\\n",
    "                            &\\le \\frac{2^e}{2^p}\\frac{1}{2^e}(1 + \\frac{1}{2^{p-1}}) \\\\\n",
    "                            &= \\frac{1}{2^p} + \\frac{1}{2^{2p-1}} = \\epsilon_{\\max}.\n",
    "    \\end{split}\n",
    "$$\n",
    "That is, the **relative error** of the floating point representation $[x]$ of real number $x$ is bounded by $\\epsilon_{\\max}$."
   ]
  },
  {
   "cell_type": "code",
   "execution_count": 28,
   "metadata": {},
   "outputs": [
    {
     "name": "stdout",
     "output_type": "stream",
     "text": [
      "2 ^ -53 + 2 ^ -105 = 1.1102230246251568e-16\n",
      "1.0 + 2 ^ -53 = 1.0\n",
      "1.0 + (2 ^ -53 + 2 ^ -105) = 1.0000000000000002\n",
      "1.0 + 2 ^ -53 + 2 ^ -105 = 1.0\n",
      "Float32(2 ^ -24 + 2 ^ -47) = 5.960465f-8\n",
      "1.0f0 + Float32(2 ^ -24) = 1.0f0\n",
      "1.0f0 + Float32(2 ^ -24 + 2 ^ -47) = 1.0000001f0\n"
     ]
    }
   ],
   "source": [
    "@show 2^(-53) + 2^(-105);   # epsilon_max for Float64\n",
    "@show 1.0 + 2^(-53);\n",
    "@show 1.0 + (2^(-53) + 2^(-105));\n",
    "@show 1.0 + 2^(-53) + 2^(-105);  # why is the result?  See \"Catastrophic cancellation\"\n",
    "\n",
    "@show Float32(2^(-24) + 2^(-47)); # epsilon_max for Float32\n",
    "@show 1.0f0 + Float32(2^(-24));\n",
    "@show 1.0f0 + Float32(2^(-24) + 2^(-47));"
   ]
  },
  {
   "cell_type": "code",
   "execution_count": 29,
   "metadata": {},
   "outputs": [
    {
     "name": "stdout",
     "output_type": "stream",
     "text": [
      "2 ^ -54 + 2 ^ -106 = 5.551115123125784e-17\n",
      "1 - (2 ^ -54 + 2 ^ -106) = 0.9999999999999999\n",
      "bitstring(1.0) = \"0011111111110000000000000000000000000000000000000000000000000000\"\n",
      "bitstring(1 - (2 ^ -54 + 2 ^ -106)) = \"0011111111101111111111111111111111111111111111111111111111111111\"\n"
     ]
    },
    {
     "data": {
      "text/plain": [
       "\"0011111111101111111111111111111111111111111111111111111111111111\""
      ]
     },
     "execution_count": 29,
     "metadata": {},
     "output_type": "execute_result"
    }
   ],
   "source": [
    "@show 2^(-54) + 2^(-106);  # epsilon_min for Float64\n",
    "@show 1 - (2^(-54) + 2^(-106))\n",
    "@show bitstring(1.0)\n",
    "@show bitstring(1 - (2^(-54) + 2^(-106)))"
   ]
  },
  {
   "cell_type": "markdown",
   "metadata": {},
   "source": [
    "In Julia, `eps(x)` gives the distance between consecutive representable floating point values at `x`, i.e.,\n",
    "```Julia\n",
    "eps(x) == max(x-prevfloat(x), nextfloat(x)-x)\n",
    "```\n",
    "which is roughly twice the $\\epsilon_{\\max}$."
   ]
  },
  {
   "cell_type": "code",
   "execution_count": 30,
   "metadata": {},
   "outputs": [
    {
     "name": "stdout",
     "output_type": "stream",
     "text": [
      "eps(Float32) = 1.1920929f-7\n",
      "eps(Float64) = 2.220446049250313e-16\n",
      "eps(100.0) = 1.4210854715202004e-14\n",
      "eps(0.0) = 5.0e-324\n",
      "x = 1.25f0 = 1.25f0\n",
      "(prevfloat(x), x, nextfloat(x)) = (1.2499999f0, 1.25f0, 1.2500001f0)\n",
      "(bitstring(prevfloat(x)), bitstring(x), bitstring(nextfloat(x))) = (\"00111111100111111111111111111111\", \"00111111101000000000000000000000\", \"00111111101000000000000000000001\")\n"
     ]
    }
   ],
   "source": [
    "@show eps(Float32)  # machine epsilon for a floating point type, roughly twice our \\epsilon_{\\max}\n",
    "@show eps(Float64)  # same as eps()\n",
    "# eps(x) is the spacing after x\n",
    "@show eps(100.0)\n",
    "@show eps(0.0)\n",
    "# nextfloat(x) and prevfloat(x) give the neighbors of x\n",
    "@show x = 1.25f0\n",
    "@show prevfloat(x), x, nextfloat(x)\n",
    "@show bitstring(prevfloat(x)), bitstring(x), bitstring(nextfloat(x));"
   ]
  },
  {
   "cell_type": "markdown",
   "metadata": {},
   "source": [
    "* In R, the variable `.Machine` contains numerical characteristics of the machine. `double.eps` and `double.neg.eps` are roughly twice our $\\epsilon_{\\max}$ and $\\epsilon_{\\min}$, respectively."
   ]
  },
  {
   "cell_type": "code",
   "execution_count": 31,
   "metadata": {},
   "outputs": [
    {
     "data": {
      "text/plain": [
       "RObject{VecSxp}\n",
       "$double.eps\n",
       "[1] 2.220446e-16\n",
       "\n",
       "$double.neg.eps\n",
       "[1] 1.110223e-16\n",
       "\n",
       "$double.xmin\n",
       "[1] 2.225074e-308\n",
       "\n",
       "$double.xmax\n",
       "[1] 1.797693e+308\n",
       "\n",
       "$double.base\n",
       "[1] 2\n",
       "\n",
       "$double.digits\n",
       "[1] 53\n",
       "\n",
       "$double.rounding\n",
       "[1] 5\n",
       "\n",
       "$double.guard\n",
       "[1] 0\n",
       "\n",
       "$double.ulp.digits\n",
       "[1] -52\n",
       "\n",
       "$double.neg.ulp.digits\n",
       "[1] -53\n",
       "\n",
       "$double.exponent\n",
       "[1] 11\n",
       "\n",
       "$double.min.exp\n",
       "[1] -1022\n",
       "\n",
       "$double.max.exp\n",
       "[1] 1024\n",
       "\n",
       "$integer.max\n",
       "[1] 2147483647\n",
       "\n",
       "$sizeof.long\n",
       "[1] 8\n",
       "\n",
       "$sizeof.longlong\n",
       "[1] 8\n",
       "\n",
       "$sizeof.longdouble\n",
       "[1] 16\n",
       "\n",
       "$sizeof.pointer\n",
       "[1] 8\n",
       "\n",
       "$longdouble.eps\n",
       "[1] 1.084202e-19\n",
       "\n",
       "$longdouble.neg.eps\n",
       "[1] 5.421011e-20\n",
       "\n",
       "$longdouble.digits\n",
       "[1] 64\n",
       "\n",
       "$longdouble.rounding\n",
       "[1] 5\n",
       "\n",
       "$longdouble.guard\n",
       "[1] 0\n",
       "\n",
       "$longdouble.ulp.digits\n",
       "[1] -63\n",
       "\n",
       "$longdouble.neg.ulp.digits\n",
       "[1] -64\n",
       "\n",
       "$longdouble.exponent\n",
       "[1] 15\n",
       "\n",
       "$longdouble.min.exp\n",
       "[1] -16382\n",
       "\n",
       "$longdouble.max.exp\n",
       "[1] 16384\n",
       "\n"
      ]
     },
     "execution_count": 31,
     "metadata": {},
     "output_type": "execute_result"
    }
   ],
   "source": [
    "R\"\"\"\n",
    ".Machine\n",
    "\"\"\""
   ]
  },
  {
   "cell_type": "markdown",
   "metadata": {},
   "source": [
    "### Overflow and underflow of floating-point number\n",
    "\n",
    "* For double precision, the range is $\\pm 10^{\\pm 308}$. In most situations, underflow (magnitude of result is less than $10^{-308}$) is preferred over overflow (magnitude of result is larger than $10^{+308}$). Overflow produces $\\pm \\inf$. Underflow yields zeros or subnormal numbers. \n",
    "\n",
    "* E.g., the logit link function is\n",
    "$$p = \\frac{\\exp (x^T \\beta)}{1 + \\exp (x^T \\beta)} = \\frac{1}{1+\\exp(- x^T \\beta)}.$$\n",
    "The former expression can easily lead to `Inf / Inf = NaN`, while the latter expression leads to gradual underflow.\n",
    "\n",
    "* `floatmin` and `floatmax` functions gives largest and smallest _non-submormal_ number represented by the given floating point type."
   ]
  },
  {
   "cell_type": "code",
   "execution_count": 32,
   "metadata": {},
   "outputs": [
    {
     "name": "stdout",
     "output_type": "stream",
     "text": [
      "Float16\t6.104e-5\t6.55e4\t-Inf\tInf\t0.000977\n",
      "Float32\t1.1754944e-38\t3.4028235e38\t-Inf\tInf\t1.1920929e-7\n",
      "Float64\t2.2250738585072014e-308\t1.7976931348623157e308\t-Inf\tInf\t2.220446049250313e-16\n"
     ]
    }
   ],
   "source": [
    "for T in [Float16, Float32, Float64]\n",
    "    println(T, '\\t', floatmin(T), '\\t', floatmax(T), '\\t', typemin(T), \n",
    "        '\\t', typemax(T), '\\t', eps(T))\n",
    "end"
   ]
  },
  {
   "cell_type": "markdown",
   "metadata": {},
   "source": [
    "* `BigFloat` in Julia offers arbitrary precision."
   ]
  },
  {
   "cell_type": "code",
   "execution_count": 33,
   "metadata": {},
   "outputs": [
    {
     "name": "stdout",
     "output_type": "stream",
     "text": [
      "precision(BigFloat) = 256\n",
      "floatmin(BigFloat) = 8.50969131174083613912978790962048280567755996982969624908264897850135431080301e-1388255822130839284\n",
      "floatmax(BigFloat) = 5.875653789111587590936911998878442589938516392745498308333779606469323584389875e+1388255822130839282\n"
     ]
    }
   ],
   "source": [
    "@show precision(BigFloat)\n",
    "@show floatmin(BigFloat)\n",
    "@show floatmax(BigFloat);"
   ]
  },
  {
   "cell_type": "code",
   "execution_count": 34,
   "metadata": {},
   "outputs": [
    {
     "name": "stdout",
     "output_type": "stream",
     "text": [
      "BigFloat(π) = 3.141592653589793238462643383279502884197169399375105820974944592307816406286198\n",
      "BigFloat(π) = 3.141592653589793238462643383279502884197169399375105820974944592307816406286208998628034825342117067982148086513282306647093844609550582231725359408128481117450284102701938521105559644622948954930381964428810975665933446128475648233786783165271201909145648566923460348610454326648213393607260249141273724586997\n"
     ]
    }
   ],
   "source": [
    "@show BigFloat(π); # default precision for BigFloat is 256 bits\n",
    "# set precision to 1024 bits\n",
    "setprecision(BigFloat, 1024) do \n",
    "    @show BigFloat(π)\n",
    "end;"
   ]
  },
  {
   "cell_type": "markdown",
   "metadata": {},
   "source": [
    "## Catastrophic cancellation\n",
    "\n",
    "> The result of computation is just the digits that represented the rounding.\n",
    "\n",
    "* **Scenario 1** (benign cancellation): Addition or subtraction of two numbers of widely different magnitudes: $a+b$ or $a-b$ where $a \\gg b$ or $a \\ll b$. We lose the precision in the number of smaller magnitude. Consider \n",
    "$$\\begin{eqnarray*}\n",
    "    a &=& x.xxx ... \\times 2^{30} \\\\  \n",
    "    b &=& y.yyy... \\times 2^{-30}\n",
    "\\end{eqnarray*}$$\n",
    "What happens when computer calculates $a+b$? We get $a+b=a$!"
   ]
  },
  {
   "cell_type": "code",
   "execution_count": 35,
   "metadata": {},
   "outputs": [
    {
     "name": "stdout",
     "output_type": "stream",
     "text": [
      "a = 2.0 ^ 30 = 1.073741824e9\n",
      "b = 2.0 ^ -30 = 9.313225746154785e-10\n",
      "a + b == a = true\n",
      "bitstring(a) = \"0100000111010000000000000000000000000000000000000000000000000000\"\n",
      "bitstring(a + b) = \"0100000111010000000000000000000000000000000000000000000000000000\"\n"
     ]
    }
   ],
   "source": [
    "@show a = 2.0^30\n",
    "@show b = 2.0^-30\n",
    "@show a + b == a\n",
    "@show bitstring(a)\n",
    "@show bitstring(a + b);"
   ]
  },
  {
   "cell_type": "markdown",
   "metadata": {},
   "source": [
    "Analysis: suppose we want to compute $x + y$, $x, y > 0$. Let the relative error of $x$ and $y$ be\n",
    "$$\n",
    "\\delta_x = \\frac{[x] - x}{x},\n",
    "\\quad\n",
    "\\delta_y = \\frac{[y] - y}{y}\n",
    ".\n",
    "$$\n",
    "What the computer actually calculates is $[x] + [y]$, which in turn is represented by $[ [x] + [y] ]$. The relative error of this representation is\n",
    "$$\n",
    "\\delta_{\\text{sum}} = \\frac{[[x]+[y]] - ([x]+[y])}{[x]+[y]}\n",
    ".\n",
    "$$\n",
    "Recall that $|\\delta_x|, |\\delta_y|, |\\delta_{\\text{sum}}| \\le \\epsilon_{\\max}$.\n",
    "\n",
    "We want to find a bound of the relative error of $[[x]+[y]]$ with respect to $x+y$.\n",
    "Since $|[x]+[y]| = |x(1+\\delta_x) + y(1+\\delta_y)| \\le |x+y|(1+\\epsilon_{\\max})$, we have\n",
    "$$\n",
    "\\begin{split}\n",
    "| [[x]+[y]]-(x+y) | &= | [[x]+[y]] - [x] - [y] + [x] - x + [y] - y | \\\\\n",
    "                   &\\le | [[x]+[y]] - [x] - [y] | +  | [x] - x | + | [y] - y | \\\\\n",
    "                   &\\le |\\delta_{\\text{sum}}([x]+[y])| + |\\delta_x x| + |\\delta_y y| \\\\\n",
    "                   &\\le \\epsilon_{\\max}(x+y)(1+\\epsilon_{\\max}) + \\epsilon_{\\max}x + \\epsilon_{\\max}y \\\\\n",
    "                   &\\approx 2\\epsilon_{\\max}(x+y)\n",
    "\\end{split}\n",
    "$$\n",
    "because $\\epsilon_{\\max}^2 \\approx 0$. Thus\n",
    "$$\n",
    "\\frac{| [[x]+[y]]-(x+y) |}{|x+y|} \\le 2\\epsilon_{\\max}\n",
    "$$\n",
    "approximately."
   ]
  },
  {
   "cell_type": "markdown",
   "metadata": {},
   "source": [
    "* **Scenario 2** (catastrophic cancellation): Subtraction of two nearly equal numbers eliminates significant digits.  $a-b$ where $a \\approx b$. Consider \n",
    "$$\\begin{eqnarray*}\n",
    "    a &=& x.xxxxxxxxxx1ssss  \\\\\n",
    "    b &=& x.xxxxxxxxxx0tttt\n",
    "\\end{eqnarray*}$$\n",
    "The result is $1.vvvvu...u$ where $u$ are unassigned digits."
   ]
  },
  {
   "cell_type": "code",
   "execution_count": 36,
   "metadata": {},
   "outputs": [
    {
     "name": "stdout",
     "output_type": "stream",
     "text": [
      "bitstring(a) = \"00111111100111100000011001010001\"\n",
      "bitstring(b) = \"00111111100111100000011001010000\"\n",
      "a - b = 1.1920929f-7\n",
      "bitstring(a - b) = \"00110100000000000000000000000000\"\n",
      "Float32(1 / 2 ^ 23) = 1.1920929f-7\n"
     ]
    }
   ],
   "source": [
    "a = 1.2345678f0 # rounding\n",
    "@show bitstring(a) # rounding\n",
    "b = 1.2345677f0\n",
    "@show bitstring(b)\n",
    "@show a - b # correct result should be 1f-7\n",
    "@show bitstring(a - b)   # must be 1.0000...0 x 2^(-23)\n",
    "@show Float32(1/2^23);"
   ]
  },
  {
   "cell_type": "markdown",
   "metadata": {},
   "source": [
    "Analysis: Let\n",
    "$$\n",
    "[x] = 1 + \\sum_{i=1}^{p-2}\\frac{d_{i+1}}{2^i} + \\frac{1}{2^{p-1}},\n",
    "\\quad\n",
    "[y] = 1 + \\sum_{i=1}^{p-2}\\frac{d_{i+1}}{2^i} + \\frac{0}{2^{p-1}}\n",
    ".\n",
    "$$\n",
    "\n",
    "* $[x]-[y] = \\frac{1}{2^{p-1}} = [[x]-[y]]$.\n",
    "\n",
    "* The true difference $x-y$ may lie anywhere in $(0, \\frac{1}{2^{p-2}}+\\frac{1}{2^{2p}}]$.\n",
    "\n",
    "* Relative error \n",
    "$$\n",
    "\\frac{|x-y -[[x]-[y]]|}{|x-y|}\n",
    "$$\n",
    "is unbounded -- no guarantee of any significant digit!"
   ]
  },
  {
   "cell_type": "markdown",
   "metadata": {},
   "source": [
    "* Implications for numerical computation\n",
    "    - Rule 1: add small numbers together before adding larger ones  \n",
    "    - Rule 2: add numbers of like magnitude together (paring). When all numbers are of same sign and similar magnitude, add in pairs so each stage the summands are of similar magnitude  \n",
    "    - Rule 3: avoid substraction of two numbers that are nearly equal"
   ]
  },
  {
   "cell_type": "markdown",
   "metadata": {},
   "source": [
    "### Algebraic laws\n",
    "\n",
    "Floating-point numbers may violate many algebraic laws we are familiar with, such associative and distributive laws. See the example in the Machine Epsilon section and HW1."
   ]
  },
  {
   "cell_type": "markdown",
   "metadata": {},
   "source": [
    "## Coditioning\n",
    "\n",
    "Condiser solving a linear system $Ax=b$:\n",
    "\n",
    "$$\n",
    "\\begin{bmatrix} 1.000 & 0.500 \\\\ 0.667 & 0.333 \\end{bmatrix}\n",
    "\\begin{bmatrix} x_1 \\\\ x_2 \\end{bmatrix}\n",
    "=\n",
    "\\begin{bmatrix} 1.500 \\\\ 1.000 \\end{bmatrix}\n",
    ",\n",
    "$$\n",
    "\n",
    "whose solution is $(x_1, x_2) = (1.000, 1.000)$."
   ]
  },
  {
   "cell_type": "code",
   "execution_count": 37,
   "metadata": {},
   "outputs": [
    {
     "data": {
      "text/plain": [
       "2-element Vector{Float64}:\n",
       " 0.9999999999998335\n",
       " 1.000000000000333"
      ]
     },
     "execution_count": 37,
     "metadata": {},
     "output_type": "execute_result"
    }
   ],
   "source": [
    "A=[1.0 0.5; 0.667 0.333]; b = [1.5, 1.0]; A\\b"
   ]
  },
  {
   "cell_type": "markdown",
   "metadata": {},
   "source": [
    "If we *perturb* $b$ by 0.001, i.e., solve\n",
    "\n",
    "$$\n",
    "\\begin{bmatrix} 1.000 & 0.500 \\\\ 0.667 & 0.333 \\end{bmatrix}\n",
    "\\begin{bmatrix} x_1 \\\\ x_2 \\end{bmatrix}\n",
    "=\n",
    "\\begin{bmatrix} 1.500 \\\\ 0.999 \\end{bmatrix}\n",
    ",\n",
    "$$\n",
    "\n",
    "then the solution changes to $(x_1, x_2) = (0.000, 3.000)$."
   ]
  },
  {
   "cell_type": "code",
   "execution_count": 38,
   "metadata": {},
   "outputs": [
    {
     "data": {
      "text/plain": [
       "2-element Vector{Float64}:\n",
       " -1.6653345369377348e-13\n",
       "  3.000000000000333"
      ]
     },
     "execution_count": 38,
     "metadata": {},
     "output_type": "execute_result"
    }
   ],
   "source": [
    "b1 = [1.5, 0.999]; A\\b1"
   ]
  },
  {
   "cell_type": "markdown",
   "metadata": {},
   "source": [
    "If we instead perturb $A$ by 0.001, i.e., solve\n",
    "\n",
    "$$\n",
    "\\begin{bmatrix} 1.000 & 0.500 \\\\ 0.667 & 0.334 \\end{bmatrix}\n",
    "\\begin{bmatrix} x_1 \\\\ x_2 \\end{bmatrix}\n",
    "=\n",
    "\\begin{bmatrix} 1.500 \\\\ 1.000 \\end{bmatrix}\n",
    ",\n",
    "$$\n",
    "\n",
    "then this time the solution changes to $(x_1, x_2) = (2.000, -1.000)$."
   ]
  },
  {
   "cell_type": "code",
   "execution_count": 39,
   "metadata": {},
   "outputs": [
    {
     "data": {
      "text/plain": [
       "2-element Vector{Float64}:\n",
       "  2.0000000000001665\n",
       " -1.000000000000333"
      ]
     },
     "execution_count": 39,
     "metadata": {},
     "output_type": "execute_result"
    }
   ],
   "source": [
    "A1=[1.0 0.5; 0.667 0.334]; A1\\b"
   ]
  },
  {
   "cell_type": "markdown",
   "metadata": {},
   "source": [
    "In other words, an input perturbation of order $10^{-3}$ yield an output perturbation of order $10^0$. Thats 3 orders of magnutides of relative change!\n",
    "\n",
    "Floating point representation $[x]$ of a real number $x$ in a digital computer may introduce such input perturbation easily. The perturbation of output of a problem with respect to the input is called *conditioning*."
   ]
  },
  {
   "cell_type": "markdown",
   "metadata": {},
   "source": [
    "* Abstractly, a *problem* can be viewed as function $f: X \\to Y$ where $X$ is a normed vector space of data and $Y$ is a normed vector space of solutions.\n",
    "    - The problem of solving $Ax=b$ for fixed $b$ is $f: A \\mapsto A^{-1}b$ with $X=\\{M\\in\\mathbb{R}^{n\\times n}: M \\text{ is invertible} \\}$ and $Y = \\mathbb{R}^n$.\n",
    "    - The combination of a problem $f$ with a given data $x$ is called a *problem instance*, or simply problem unless no confusion occurs.\n",
    "    \n",
    "* A *well-conditioned* problem (instance) is one such that all small perturbations of $x$ lead to only small changes in $f(x)$.\n",
    "\n",
    "* An *ill-conditioned* problem is one such that some small perturbation of $x$ leads to a large change in $f(x)$.\n",
    "\n",
    "* The (relative) *condition number* $\\kappa=\\kappa(x)$ of a problem is defined by\n",
    "$$\n",
    "    \\kappa = \\lim_{\\delta\\to 0}\\sup_{\\|\\delta x\\|\\le \\delta}\\frac{\\|\\delta f\\|/\\|f(x)\\|}{\\|\\delta x\\|/\\|x\\|}\n",
    "    = \\sup_{\\delta x} \\frac{\\|\\delta f\\|/\\|f(x)\\|}{\\|\\delta x\\|/\\|x\\|}\n",
    "$$\n",
    "\n",
    "* For the problem of solving $Ax=b$ for fixed $b$,  $f: A \\mapsto A^{-1}b$, it can be shown that the condition number of $f$ is\n",
    "$$\n",
    "    \\kappa = \\|A\\|\\|A^{-1}\\| =: \\kappa(A)\n",
    "    ,\n",
    "$$\n",
    "where $\\|A\\|$ is the matrix norm induced by vector norm $\\|\\cdot\\|$, i.e.,\n",
    "$$\n",
    "    \\|A\\| = \\sup_{x\\neq 0} \\frac{\\|Ax\\|}{\\|x\\|}.\n",
    "$$\n",
    "If 2-norm is used, then \n",
    "$$\n",
    "\\kappa(A) = \\sigma_{\\max}(A)/\\sigma_{\\min}(A),\n",
    "$$\n",
    "the ratio of the maximum and minimum singular values of $A$. To see this, let $x=A^{-1}b$. Then perturbation $A \\to A+\\delta A$ yields $x \\to x + \\delta x$. If both are small,\n",
    "$$\n",
    "(\\delta A)x + A(\\delta x) = 0\n",
    "$$\n",
    "or $\\delta x = -A^{-1}(\\delta A) x$. Then\n",
    "$$\n",
    "\\frac{\\|\\delta x\\|/\\|x\\|}{\\|\\delta A\\|/\\|A\\|} \\le \\frac{\\|A^{-1}\\|\\|\\delta A\\|\\|A\\|}{\\|\\delta A\\|}\n",
    "= \\|A^{-1}\\|\\|A\\|.\n",
    "$$\n",
    "The inequality holds with equality if $\\delta A$ satisfies \n",
    "$$\n",
    "\\|A^{-1}(\\delta A)x \\| = \\|A^{-1}\\|\\|\\delta A\\|\\|x\\|\n",
    ".\n",
    "$$\n",
    "It can be shown that for any invertible $A$ and $b$, such perturbation $\\delta A$ exists (HW2)."
   ]
  },
  {
   "cell_type": "markdown",
   "metadata": {},
   "source": [
    "In the above problem, the condition number is matrix $A$ (w.r.t. Euclidean norm) is"
   ]
  },
  {
   "cell_type": "code",
   "execution_count": 40,
   "metadata": {},
   "outputs": [
    {
     "data": {
      "text/plain": [
       "3611.5557231115513"
      ]
     },
     "execution_count": 40,
     "metadata": {},
     "output_type": "execute_result"
    }
   ],
   "source": [
    "using LinearAlgebra\n",
    "LinearAlgebra.cond(A)"
   ]
  },
  {
   "cell_type": "markdown",
   "metadata": {},
   "source": [
    "## Further readings\n",
    "\n",
    "* Section II.2, [Computational Statistics](https://link.springer.com/book/10.1007%2F978-0-387-98144-4) by James Gentle (2009).\n",
    "\n",
    "* Sections 1.5 and 2.2, [Applied Numerical Linear Algebra](https://doi.org/10.1137/1.9781611971446) by James W. Demmel (1997).\n",
    "\n",
    "* [What every computer scientist should know about floating-point arithmetic](https://www.itu.dk/~sestoft/bachelor/IEEE754_article.pdf) by David Goldberg (1991)."
   ]
  },
  {
   "cell_type": "markdown",
   "metadata": {},
   "source": [
    "## Acknowledgment\n",
    "\n",
    "Many parts of this lecture note is based on [Dr. Hua Zhou](http://hua-zhou.github.io)'s 2019 Spring Statistical Computing course notes available at <http://hua-zhou.github.io/teaching/biostatm280-2019spring/index.html>."
   ]
  }
 ],
 "metadata": {
  "kernelspec": {
   "display_name": "Julia 1.6.2",
   "language": "julia",
   "name": "julia-1.6"
  },
  "language_info": {
   "file_extension": ".jl",
   "mimetype": "application/julia",
   "name": "julia",
   "version": "1.6.2"
  },
  "toc": {
   "colors": {
    "hover_highlight": "#DAA520",
    "running_highlight": "#FF0000",
    "selected_highlight": "#FFD700"
   },
   "moveMenuLeft": true,
   "nav_menu": {
    "height": "250px",
    "width": "252px"
   },
   "navigate_menu": true,
   "number_sections": true,
   "sideBar": true,
   "skip_h1_title": true,
   "threshold": 4,
   "toc_cell": true,
   "toc_section_display": "block",
   "toc_window_display": true,
   "widenNotebook": false
  }
 },
 "nbformat": 4,
 "nbformat_minor": 4
}
