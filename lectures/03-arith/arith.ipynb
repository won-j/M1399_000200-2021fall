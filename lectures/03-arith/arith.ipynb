{
 "cells": [
  {
   "cell_type": "code",
   "execution_count": 41,
   "metadata": {},
   "outputs": [
    {
     "name": "stdout",
     "output_type": "stream",
     "text": [
      "Julia Version 1.6.2\n",
      "Commit 1b93d53fc4 (2021-07-14 15:36 UTC)\n",
      "Platform Info:\n",
      "  OS: macOS (x86_64-apple-darwin18.7.0)\n",
      "  CPU: Intel(R) Core(TM) i5-8279U CPU @ 2.40GHz\n",
      "  WORD_SIZE: 64\n",
      "  LIBM: libopenlibm\n",
      "  LLVM: libLLVM-11.0.1 (ORCJIT, skylake)\n"
     ]
    }
   ],
   "source": [
    "versioninfo()"
   ]
  },
  {
   "cell_type": "code",
   "execution_count": 42,
   "metadata": {
    "tags": []
   },
   "outputs": [
    {
     "name": "stderr",
     "output_type": "stream",
     "text": [
      "\u001b[32m\u001b[1m  Activating\u001b[22m\u001b[39m environment at `~/Dropbox/class/M1399.000200/2021/M1399_000200-2021fall/Project.toml`\n"
     ]
    },
    {
     "name": "stdout",
     "output_type": "stream",
     "text": [
      "\u001b[32m\u001b[1m      Status\u001b[22m\u001b[39m `~/Dropbox/class/M1399.000200/2021/M1399_000200-2021fall/Project.toml`\n",
      " \u001b[90m [7d9fca2a] \u001b[39mArpack v0.5.3\n",
      " \u001b[90m [6e4b80f9] \u001b[39mBenchmarkTools v1.1.4\n",
      " \u001b[90m [1e616198] \u001b[39mCOSMO v0.8.1\n",
      " \u001b[90m [f65535da] \u001b[39mConvex v0.14.13\n",
      " \u001b[90m [a93c6f00] \u001b[39mDataFrames v1.2.2\n",
      " \u001b[90m [31c24e10] \u001b[39mDistributions v0.24.18\n",
      " \u001b[90m [e2685f51] \u001b[39mECOS v0.12.3\n",
      " \u001b[90m [f6369f11] \u001b[39mForwardDiff v0.10.19\n",
      " \u001b[90m [28b8d3ca] \u001b[39mGR v0.58.1\n",
      " \u001b[90m [c91e804a] \u001b[39mGadfly v1.3.3\n",
      " \u001b[90m [bd48cda9] \u001b[39mGraphRecipes v0.5.7\n",
      " \u001b[90m [82e4d734] \u001b[39mImageIO v0.5.8\n",
      " \u001b[90m [6218d12a] \u001b[39mImageMagick v1.2.1\n",
      " \u001b[90m [916415d5] \u001b[39mImages v0.24.1\n",
      " \u001b[90m [b6b21f68] \u001b[39mIpopt v0.7.0\n",
      " \u001b[90m [42fd0dbc] \u001b[39mIterativeSolvers v0.9.1\n",
      " \u001b[90m [4076af6c] \u001b[39mJuMP v0.21.9\n",
      " \u001b[90m [b51810bb] \u001b[39mMatrixDepot v1.0.4\n",
      " \u001b[90m [1ec41992] \u001b[39mMosekTools v0.9.4\n",
      " \u001b[90m [76087f3c] \u001b[39mNLopt v0.6.3\n",
      " \u001b[90m [47be7bcc] \u001b[39mORCA v0.5.0\n",
      " \u001b[90m [a03496cd] \u001b[39mPlotlyBase v0.4.3\n",
      " \u001b[90m [f0f68f2c] \u001b[39mPlotlyJS v0.15.0\n",
      " \u001b[90m [91a5bcdd] \u001b[39mPlots v1.21.2\n",
      " \u001b[90m [438e738f] \u001b[39mPyCall v1.92.3\n",
      " \u001b[90m [d330b81b] \u001b[39mPyPlot v2.9.0\n",
      " \u001b[90m [dca85d43] \u001b[39mQuartzImageIO v0.7.3\n",
      " \u001b[90m [6f49c342] \u001b[39mRCall v0.13.12\n",
      " \u001b[90m [ce6b1742] \u001b[39mRDatasets v0.7.5\n",
      " \u001b[90m [c946c3f1] \u001b[39mSCS v0.7.1\n",
      " \u001b[90m [276daf66] \u001b[39mSpecialFunctions v1.6.1\n",
      " \u001b[90m [2913bbd2] \u001b[39mStatsBase v0.33.10\n",
      " \u001b[90m [b8865327] \u001b[39mUnicodePlots v2.0.1\n",
      " \u001b[90m [0f1e0344] \u001b[39mWebIO v0.8.15\n",
      " \u001b[90m [8f399da3] \u001b[39mLibdl\n",
      " \u001b[90m [2f01184e] \u001b[39mSparseArrays\n",
      " \u001b[90m [10745b16] \u001b[39mStatistics\n"
     ]
    }
   ],
   "source": [
    "using Pkg\n",
    "Pkg.activate(\"../..\")\n",
    "Pkg.status()"
   ]
  },
  {
   "cell_type": "markdown",
   "metadata": {},
   "source": [
    "# Computer arithmetics"
   ]
  },
  {
   "cell_type": "markdown",
   "metadata": {},
   "source": [
    "## Units of computer storage\n",
    "\n",
    "Humans use decimal digits (why?)\\\n",
    "Computers use binary digits (why?)\n",
    "\n",
    "* *Bit* = binary digit (coined by statistician [John Tukey](https://en.wikipedia.org/wiki/Bit#History)).  \n",
    "* *byte* = 8 bits.\n",
    "* KB = kilobyte = $10^3$ bytes; KiB = kibibyte = $2^{10}$ bytes.  \n",
    "* MB = megabyte = $10^6$ bytes; MiB = mebibyte = $2^{20}$ bytes.\n",
    "* GB = gigabyte = $10^9$ bytes. Typical RAM size.  \n",
    "* TB = terabyte = $10^{12}$ bytes. Typical hard drive size. Size of NYSE each trading session.    \n",
    "* PB = petabyte = $10^{15}$ bytes.  \n",
    "* EB = exabyte = $10^{18}$ bytes. Size of all healthcare data in 2011 is ~150 EB.    \n",
    "* ZB = zetabyte = $10^{21}$ bytes. \n",
    "\n",
    "Julia function `Base.summarysize` shows the amount of memory (in bytes) used by an object."
   ]
  },
  {
   "cell_type": "code",
   "execution_count": 43,
   "metadata": {},
   "outputs": [
    {
     "data": {
      "text/plain": [
       "80040"
      ]
     },
     "execution_count": 43,
     "metadata": {},
     "output_type": "execute_result"
    }
   ],
   "source": [
    "x = rand(100, 100)\n",
    "Base.summarysize(x)"
   ]
  },
  {
   "cell_type": "markdown",
   "metadata": {},
   "source": [
    "`varinfo()` function prints all variables in workspace and their sizes."
   ]
  },
  {
   "cell_type": "code",
   "execution_count": 44,
   "metadata": {},
   "outputs": [
    {
     "data": {
      "text/latex": [
       "\\begin{tabular}\n",
       "{l | r | l}\n",
       "name & size & summary \\\\\n",
       "\\hline\n",
       "A & 72 bytes & 2×2 Matrix\\{Float64\\} \\\\\n",
       "A1 & 72 bytes & 2×2 Matrix\\{Float64\\} \\\\\n",
       "Base &  & Module \\\\\n",
       "Core &  & Module \\\\\n",
       "Main &  & Module \\\\\n",
       "a & 4 bytes & Float32 \\\\\n",
       "b & 56 bytes & 2-element Vector\\{Float64\\} \\\\\n",
       "b1 & 56 bytes & 2-element Vector\\{Float64\\} \\\\\n",
       "x & 78.164 KiB & 100×100 Matrix\\{Float64\\} \\\\\n",
       "β & 8 bytes & Float64 \\\\\n",
       "β̂ & 8 bytes & Float64 \\\\\n",
       "\\end{tabular}\n"
      ],
      "text/markdown": [
       "| name |       size | summary                   |\n",
       "|:---- | ----------:|:------------------------- |\n",
       "| A    |   72 bytes | 2×2 Matrix{Float64}       |\n",
       "| A1   |   72 bytes | 2×2 Matrix{Float64}       |\n",
       "| Base |            | Module                    |\n",
       "| Core |            | Module                    |\n",
       "| Main |            | Module                    |\n",
       "| a    |    4 bytes | Float32                   |\n",
       "| b    |   56 bytes | 2-element Vector{Float64} |\n",
       "| b1   |   56 bytes | 2-element Vector{Float64} |\n",
       "| x    | 78.164 KiB | 100×100 Matrix{Float64}   |\n",
       "| β    |    8 bytes | Float64                   |\n",
       "| β̂   |    8 bytes | Float64                   |\n"
      ],
      "text/plain": [
       "  name       size summary                  \n",
       "  –––– –––––––––– –––––––––––––––––––––––––\n",
       "  A      72 bytes 2×2 Matrix{Float64}      \n",
       "  A1     72 bytes 2×2 Matrix{Float64}      \n",
       "  Base            Module                   \n",
       "  Core            Module                   \n",
       "  Main            Module                   \n",
       "  a       4 bytes Float32                  \n",
       "  b      56 bytes 2-element Vector{Float64}\n",
       "  b1     56 bytes 2-element Vector{Float64}\n",
       "  x    78.164 KiB 100×100 Matrix{Float64}  \n",
       "  β       8 bytes Float64                  \n",
       "  β̂      8 bytes Float64                  "
      ]
     },
     "execution_count": 44,
     "metadata": {},
     "output_type": "execute_result"
    }
   ],
   "source": [
    "varinfo() # similar to Matlab whos()"
   ]
  },
  {
   "cell_type": "markdown",
   "metadata": {},
   "source": [
    "## Storage of Characters\n",
    "\n",
    "* Plain text files are stored in the form of characters: `.jl`, `.r`, `.c`, `.cpp`, `.ipynb`, `.html`, `.tex`, ...  \n",
    "* ASCII (American Code for Information Interchange): 7 bits, only $2^7=128$ characters.  "
   ]
  },
  {
   "cell_type": "code",
   "execution_count": 45,
   "metadata": {},
   "outputs": [
    {
     "data": {
      "text/plain": [
       "128×2 Matrix{Any}:\n",
       "   0  '\\0'\n",
       "   1  '\\x01'\n",
       "   2  '\\x02'\n",
       "   3  '\\x03'\n",
       "   4  '\\x04'\n",
       "   5  '\\x05'\n",
       "   6  '\\x06'\n",
       "   7  '\\a'\n",
       "   8  '\\b'\n",
       "   9  '\\t'\n",
       "  10  '\\n'\n",
       "  11  '\\v'\n",
       "  12  '\\f'\n",
       "   ⋮  \n",
       " 116  't'\n",
       " 117  'u'\n",
       " 118  'v'\n",
       " 119  'w'\n",
       " 120  'x'\n",
       " 121  'y'\n",
       " 122  'z'\n",
       " 123  '{'\n",
       " 124  '|'\n",
       " 125  '}'\n",
       " 126  '~'\n",
       " 127  '\\x7f'"
      ]
     },
     "execution_count": 45,
     "metadata": {},
     "output_type": "execute_result"
    }
   ],
   "source": [
    "# integers 0, 1, ..., 127 and corresponding ascii character\n",
    "[0:127 Char.(0:127)]"
   ]
  },
  {
   "cell_type": "markdown",
   "metadata": {},
   "source": [
    "* Extended ASCII: 8 bits, $2^8=256$ characters.  "
   ]
  },
  {
   "cell_type": "code",
   "execution_count": 46,
   "metadata": {},
   "outputs": [
    {
     "data": {
      "text/plain": [
       "128×2 Matrix{Any}:\n",
       " 128  '\\u80'\n",
       " 129  '\\u81'\n",
       " 130  '\\u82'\n",
       " 131  '\\u83'\n",
       " 132  '\\u84'\n",
       " 133  '\\u85'\n",
       " 134  '\\u86'\n",
       " 135  '\\u87'\n",
       " 136  '\\u88'\n",
       " 137  '\\u89'\n",
       " 138  '\\u8a'\n",
       " 139  '\\u8b'\n",
       " 140  '\\u8c'\n",
       "   ⋮  \n",
       " 244  'ô'\n",
       " 245  'õ'\n",
       " 246  'ö'\n",
       " 247  '÷'\n",
       " 248  'ø'\n",
       " 249  'ù'\n",
       " 250  'ú'\n",
       " 251  'û'\n",
       " 252  'ü'\n",
       " 253  'ý'\n",
       " 254  'þ'\n",
       " 255  'ÿ'"
      ]
     },
     "execution_count": 46,
     "metadata": {},
     "output_type": "execute_result"
    }
   ],
   "source": [
    "# integers 128, 129, ..., 255 and corresponding extended ascii character\n",
    "# show(STDOUT, \"text/plain\", [128:255 Char.(128:255)])\n",
    "[128:255 Char.(128:255)]"
   ]
  },
  {
   "cell_type": "markdown",
   "metadata": {},
   "source": [
    "* Unicode: UTF-8, UTF-16 and UTF-32 support many more characters including foreign characters; last 7 digits conform to ASCII. \n",
    "\n",
    "* [UTF-8](https://en.wikipedia.org/wiki/UTF-8) is the current dominant character encoding on internet.  \n",
    "\n",
    "<img src=\"./unicode.png\" width=\"800\" align=\"center\"/>\n",
    "\n",
    "Source: [Google Blog](https://googleblog.blogspot.com/2012/02/unicode-over-60-percent-of-web.html)\n",
    "\n",
    "* Julia supports the full range of UTF-8 characters. You can type many Unicode math symbols by typing the backslashed LaTeX symbol name followed by tab. "
   ]
  },
  {
   "cell_type": "code",
   "execution_count": 47,
   "metadata": {},
   "outputs": [
    {
     "data": {
      "text/plain": [
       "0.0"
      ]
     },
     "execution_count": 47,
     "metadata": {},
     "output_type": "execute_result"
    }
   ],
   "source": [
    "# \\beta-<tab>\n",
    "β = 0.0\n",
    "# \\beta-<tab>-\\hat-<tab>\n",
    "β̂ = 0.0"
   ]
  },
  {
   "cell_type": "markdown",
   "metadata": {},
   "source": [
    "* For a table of unicode symbols that can be entered via tab completion of LaTeX-like abbreviations: <https://docs.julialang.org/en/v1.1/manual/unicode-input/#Unicode-Input-1>"
   ]
  },
  {
   "cell_type": "markdown",
   "metadata": {},
   "source": [
    "## Integers: fixed-point number system\n",
    "\n",
    "* Fixed-point number system is a computer model for integers $\\mathbb{Z}$. \n",
    "    - **Remember** that computer memory is finite whereas the cardinality of $\\mathbb{Z}$ is (countably) infinite.\n",
    "    - *Any* representation of numbers in computer *has to be* an approximation.\n",
    "\n",
    "* The number $M$ of bits and method of representing negative numbers vary from system to system. \n",
    "    - The `integer` type in R has $M=32$ (packages such as ‘bit64’support 64 bit integers). \n",
    "        + <https://www.r-bloggers.com/r-in-a-64-bit-world/>\n",
    "    - C has (`unsigned`) `char`, `int`, `short`, `long` (and `long long`), whose sizes depend on the machine.\n",
    "    - Matlab has `(u)int8`, `(u)int16`, `(u)int32`, `(u)int64`.  \n",
    "\n",
    "* Julia has even more integer types: "
   ]
  },
  {
   "cell_type": "code",
   "execution_count": 48,
   "metadata": {},
   "outputs": [
    {
     "data": {
      "image/svg+xml": [
       "<?xml version=\"1.0\" encoding=\"utf-8\"?>\n",
       "<svg xmlns=\"http://www.w3.org/2000/svg\" xmlns:xlink=\"http://www.w3.org/1999/xlink\" width=\"600\" height=\"400\" viewBox=\"0 0 2400 1600\">\n",
       "<defs>\n",
       "  <clipPath id=\"clip030\">\n",
       "    <rect x=\"0\" y=\"0\" width=\"2400\" height=\"1600\"/>\n",
       "  </clipPath>\n",
       "</defs>\n",
       "<path clip-path=\"url(#clip030)\" d=\"\n",
       "M0 1600 L2400 1600 L2400 0 L0 0  Z\n",
       "  \" fill=\"#ffffff\" fill-rule=\"evenodd\" fill-opacity=\"1\"/>\n",
       "<defs>\n",
       "  <clipPath id=\"clip031\">\n",
       "    <rect x=\"480\" y=\"0\" width=\"1681\" height=\"1600\"/>\n",
       "  </clipPath>\n",
       "</defs>\n",
       "<path clip-path=\"url(#clip030)\" d=\"\n",
       "M447.244 1552.76 L1952.76 1552.76 L1952.76 47.2441 L447.244 47.2441  Z\n",
       "  \" fill=\"#ffffff\" fill-rule=\"evenodd\" fill-opacity=\"1\"/>\n",
       "<defs>\n",
       "  <clipPath id=\"clip032\">\n",
       "    <rect x=\"447\" y=\"47\" width=\"1507\" height=\"1507\"/>\n",
       "  </clipPath>\n",
       "</defs>\n",
       "<polyline clip-path=\"url(#clip032)\" style=\"stroke:#000000; stroke-linecap:butt; stroke-linejoin:round; stroke-width:4; stroke-opacity:1; fill:none\" points=\"\n",
       "  1266.92,262.317 1266.6,268.56 1265.66,274.786 1264.15,280.997 1262.12,287.195 1259.61,293.379 1256.66,299.553 1253.33,305.716 1249.65,311.87 1245.68,318.016 \n",
       "  1241.46,324.155 1237.03,330.289 1232.45,336.419 1227.75,342.546 1222.98,348.671 1218.18,354.796 1213.41,360.921 1208.71,367.048 1204.13,373.178 1199.7,379.312 \n",
       "  1195.48,385.451 1191.51,391.597 1187.83,397.751 1184.5,403.914 1181.55,410.088 1179.04,416.272 1177.01,422.47 1175.5,428.681 1174.56,434.907 1174.24,441.15 \n",
       "  \n",
       "  \"/>\n",
       "<polyline clip-path=\"url(#clip032)\" style=\"stroke:#000000; stroke-linecap:butt; stroke-linejoin:round; stroke-width:4; stroke-opacity:1; fill:none\" points=\"\n",
       "  1174.24,441.15 1174.21,449.449 1174.12,457.923 1173.97,466.559 1173.78,475.344 1173.54,484.265 1173.26,493.308 1172.94,502.462 1172.59,511.712 1172.21,521.047 \n",
       "  1171.81,530.453 1171.39,539.917 1170.95,549.426 1170.5,558.968 1170.05,568.529 1169.59,578.096 1169.13,587.657 1168.69,597.199 1168.25,606.708 1167.83,616.173 \n",
       "  1167.42,625.578 1167.04,634.913 1166.69,644.164 1166.38,653.317 1166.1,662.361 1165.86,671.281 1165.66,680.066 1165.52,688.702 1165.43,697.176 1165.4,705.475 \n",
       "  \n",
       "  \"/>\n",
       "<polyline clip-path=\"url(#clip032)\" style=\"stroke:#000000; stroke-linecap:butt; stroke-linejoin:round; stroke-width:4; stroke-opacity:1; fill:none\" points=\"\n",
       "  1165.4,705.475 1165.56,709.834 1166.03,714.233 1166.79,718.669 1167.81,723.139 1169.07,727.639 1170.55,732.168 1172.23,736.722 1174.07,741.298 1176.07,745.893 \n",
       "  1178.19,750.504 1180.41,755.128 1182.72,759.763 1185.08,764.405 1187.48,769.052 1189.88,773.7 1192.28,778.347 1194.64,782.989 1196.95,787.624 1199.17,792.248 \n",
       "  1201.29,796.86 1203.29,801.455 1205.13,806.031 1206.81,810.584 1208.29,815.113 1209.55,819.614 1210.57,824.083 1211.33,828.519 1211.8,832.918 1211.96,837.277 \n",
       "  \n",
       "  \"/>\n",
       "<polyline clip-path=\"url(#clip032)\" style=\"stroke:#000000; stroke-linecap:butt; stroke-linejoin:round; stroke-width:4; stroke-opacity:1; fill:none\" points=\"\n",
       "  1211.96,837.277 1212.37,844.098 1213.55,850.845 1215.44,857.524 1218,864.141 1221.16,870.7 1224.86,877.207 1229.05,883.668 1233.66,890.088 1238.65,896.473 \n",
       "  1243.96,902.828 1249.52,909.158 1255.29,915.47 1261.19,921.767 1267.19,928.057 1273.21,934.343 1279.2,940.633 1285.11,946.93 1290.88,953.242 1296.44,959.572 \n",
       "  1301.74,965.927 1306.74,972.311 1311.35,978.732 1315.54,985.193 1319.24,991.7 1322.4,998.259 1324.95,1004.88 1326.85,1011.55 1328.03,1018.3 1328.44,1025.12 \n",
       "  \n",
       "  \"/>\n",
       "<polyline clip-path=\"url(#clip032)\" style=\"stroke:#000000; stroke-linecap:butt; stroke-linejoin:round; stroke-width:4; stroke-opacity:1; fill:none\" points=\"\n",
       "  1211.96,837.277 1211.95,843.867 1211.91,850.597 1211.85,857.455 1211.77,864.432 1211.67,871.517 1211.55,878.701 1211.42,885.972 1211.27,893.32 1211.11,900.736 \n",
       "  1210.94,908.208 1210.76,915.727 1210.58,923.281 1210.39,930.862 1210.2,938.458 1210.01,946.059 1209.82,953.655 1209.63,961.236 1209.45,968.79 1209.27,976.309 \n",
       "  1209.1,983.781 1208.94,991.197 1208.79,998.545 1208.66,1005.82 1208.54,1013 1208.44,1020.09 1208.36,1027.06 1208.3,1033.92 1208.26,1040.65 1208.25,1047.24 \n",
       "  \n",
       "  \"/>\n",
       "<polyline clip-path=\"url(#clip032)\" style=\"stroke:#000000; stroke-linecap:butt; stroke-linejoin:round; stroke-width:4; stroke-opacity:1; fill:none\" points=\"\n",
       "  1211.96,837.277 1211.56,844.781 1210.38,852.248 1208.49,859.682 1205.93,867.084 1202.78,874.459 1199.09,881.807 1194.9,889.133 1190.29,896.439 1185.31,903.727 \n",
       "  1180.01,911 1174.46,918.261 1168.7,925.512 1162.8,932.757 1156.82,939.998 1150.8,947.237 1144.82,954.478 1138.92,961.723 1133.16,968.974 1127.61,976.235 \n",
       "  1122.31,983.508 1117.33,990.796 1112.72,998.102 1108.53,1005.43 1104.84,1012.78 1101.69,1020.15 1099.13,1027.55 1097.24,1034.99 1096.06,1042.45 1095.66,1049.96 \n",
       "  \n",
       "  \"/>\n",
       "<polyline clip-path=\"url(#clip032)\" style=\"stroke:#000000; stroke-linecap:butt; stroke-linejoin:round; stroke-width:4; stroke-opacity:1; fill:none\" points=\"\n",
       "  1211.96,837.277 1212.91,847.918 1215.65,857.951 1220.06,867.421 1226.01,876.374 1233.36,884.855 1241.97,892.907 1251.72,900.577 1262.47,907.91 1274.08,914.95 \n",
       "  1286.43,921.742 1299.38,928.332 1312.79,934.764 1326.54,941.084 1340.49,947.336 1354.5,953.566 1368.45,959.818 1382.2,966.138 1395.61,972.571 1408.56,979.16 \n",
       "  1420.91,985.953 1432.53,992.993 1443.27,1000.33 1453.02,1008 1461.63,1016.05 1468.98,1024.53 1474.93,1033.48 1479.34,1042.95 1482.08,1052.98 1483.03,1063.63 \n",
       "  \n",
       "  \"/>\n",
       "<polyline clip-path=\"url(#clip032)\" style=\"stroke:#000000; stroke-linecap:butt; stroke-linejoin:round; stroke-width:4; stroke-opacity:1; fill:none\" points=\"\n",
       "  1483.03,1063.63 1482.84,1071.95 1482.31,1080.42 1481.45,1089.01 1480.29,1097.73 1478.86,1106.56 1477.19,1115.48 1475.29,1124.5 1473.2,1133.59 1470.94,1142.76 \n",
       "  1468.53,1151.98 1466.01,1161.24 1463.4,1170.55 1460.72,1179.88 1458.01,1189.22 1455.28,1198.57 1452.57,1207.92 1449.89,1217.25 1447.28,1226.55 1444.76,1235.82 \n",
       "  1442.35,1245.04 1440.09,1254.2 1438,1263.3 1436.1,1272.31 1434.43,1281.24 1433,1290.07 1431.84,1298.78 1430.98,1307.38 1430.44,1315.85 1430.26,1324.17 \n",
       "  \n",
       "  \"/>\n",
       "<polyline clip-path=\"url(#clip032)\" style=\"stroke:#000000; stroke-linecap:butt; stroke-linejoin:round; stroke-width:4; stroke-opacity:1; fill:none\" points=\"\n",
       "  1483.03,1063.63 1483.55,1073.29 1485.06,1082.9 1487.49,1092.47 1490.76,1102.01 1494.8,1111.51 1499.55,1120.98 1504.91,1130.42 1510.83,1139.83 1517.22,1149.23 \n",
       "  1524.02,1158.6 1531.14,1167.96 1538.53,1177.31 1546.09,1186.65 1553.77,1195.99 1561.49,1205.32 1569.16,1214.66 1576.73,1224 1584.11,1233.34 1591.24,1242.71 \n",
       "  1598.04,1252.08 1604.43,1261.47 1610.35,1270.89 1615.71,1280.33 1620.45,1289.8 1624.5,1299.3 1627.77,1308.83 1630.2,1318.41 1631.71,1328.02 1632.23,1337.68 \n",
       "  \n",
       "  \"/>\n",
       "<polyline clip-path=\"url(#clip032)\" style=\"stroke:#000000; stroke-linecap:butt; stroke-linejoin:round; stroke-width:4; stroke-opacity:1; fill:none\" points=\"\n",
       "  1483.03,1063.63 1483.18,1072.14 1483.61,1080.81 1484.3,1089.62 1485.24,1098.57 1486.39,1107.64 1487.74,1116.83 1489.27,1126.11 1490.96,1135.48 1492.79,1144.93 \n",
       "  1494.73,1154.44 1496.76,1164.01 1498.87,1173.61 1501.03,1183.25 1503.22,1192.9 1505.42,1202.56 1507.61,1212.21 1509.77,1221.85 1511.88,1231.45 1513.91,1241.02 \n",
       "  1515.85,1250.53 1517.67,1259.98 1519.36,1269.35 1520.89,1278.63 1522.25,1287.82 1523.4,1296.89 1524.33,1305.84 1525.03,1314.65 1525.46,1323.32 1525.61,1331.83 \n",
       "  \n",
       "  \"/>\n",
       "<polyline clip-path=\"url(#clip032)\" style=\"stroke:#000000; stroke-linecap:butt; stroke-linejoin:round; stroke-width:4; stroke-opacity:1; fill:none\" points=\"\n",
       "  1483.03,1063.63 1482.52,1073.1 1481.02,1082.53 1478.63,1091.91 1475.4,1101.26 1471.41,1110.56 1466.73,1119.84 1461.43,1129.08 1455.59,1138.3 1449.28,1147.49 \n",
       "  1442.58,1156.67 1435.54,1165.83 1428.25,1174.97 1420.78,1184.11 1413.21,1193.25 1405.59,1202.38 1398.02,1211.51 1390.55,1220.65 1383.26,1229.8 1376.23,1238.95 \n",
       "  1369.52,1248.13 1363.21,1257.32 1357.37,1266.54 1352.07,1275.79 1347.4,1285.06 1343.4,1294.37 1340.17,1303.71 1337.78,1313.09 1336.29,1322.52 1335.77,1332 \n",
       "  \n",
       "  \"/>\n",
       "<polyline clip-path=\"url(#clip032)\" style=\"stroke:#000000; stroke-linecap:butt; stroke-linejoin:round; stroke-width:4; stroke-opacity:1; fill:none\" points=\"\n",
       "  1483.03,1063.63 1483.92,1072.39 1486.5,1080.58 1490.64,1088.22 1496.23,1095.37 1503.13,1102.06 1511.22,1108.35 1520.38,1114.27 1530.47,1119.86 1541.39,1125.18 \n",
       "  1552.99,1130.25 1565.15,1135.14 1577.75,1139.87 1590.67,1144.49 1603.77,1149.05 1616.94,1153.59 1630.04,1158.15 1642.96,1162.77 1655.56,1167.5 1667.73,1172.39 \n",
       "  1679.33,1177.46 1690.24,1182.78 1700.33,1188.37 1709.49,1194.29 1717.58,1200.58 1724.48,1207.27 1730.07,1214.42 1734.22,1222.06 1736.8,1230.25 1737.68,1239.01 \n",
       "  \n",
       "  \"/>\n",
       "<polyline clip-path=\"url(#clip032)\" style=\"stroke:#000000; stroke-linecap:butt; stroke-linejoin:round; stroke-width:4; stroke-opacity:1; fill:none\" points=\"\n",
       "  1483.03,1063.63 1483.62,1070.83 1485.33,1077.72 1488.07,1084.33 1491.78,1090.67 1496.35,1096.77 1501.71,1102.66 1507.78,1108.34 1514.48,1113.86 1521.71,1119.22 \n",
       "  1529.4,1124.46 1537.46,1129.6 1545.81,1134.65 1554.38,1139.65 1563.06,1144.61 1571.79,1149.56 1580.47,1154.53 1589.04,1159.52 1597.39,1164.58 1605.45,1169.71 \n",
       "  1613.14,1174.95 1620.37,1180.32 1627.07,1185.83 1633.14,1191.52 1638.5,1197.4 1643.07,1203.5 1646.78,1209.85 1649.52,1216.45 1651.23,1223.35 1651.82,1230.55 \n",
       "  \n",
       "  \"/>\n",
       "<polyline clip-path=\"url(#clip032)\" style=\"stroke:#000000; stroke-linecap:butt; stroke-linejoin:round; stroke-width:4; stroke-opacity:1; fill:none\" points=\"\n",
       "  1211.96,837.277 1210.95,849.067 1207.99,860.245 1203.24,870.856 1196.83,880.945 1188.92,890.558 1179.65,899.74 1169.15,908.536 1157.58,916.992 1145.07,925.152 \n",
       "  1131.77,933.064 1117.83,940.771 1103.38,948.32 1088.58,955.755 1073.55,963.122 1058.46,970.466 1043.44,977.833 1028.64,985.268 1014.19,992.816 1000.25,1000.52 \n",
       "  986.948,1008.44 974.441,1016.6 962.867,1025.05 952.37,1033.85 943.095,1043.03 935.183,1052.64 928.78,1062.73 924.028,1073.34 921.072,1084.52 920.055,1096.31 \n",
       "  \n",
       "  \"/>\n",
       "<polyline clip-path=\"url(#clip032)\" style=\"stroke:#000000; stroke-linecap:butt; stroke-linejoin:round; stroke-width:4; stroke-opacity:1; fill:none\" points=\"\n",
       "  920.055,1096.31 920.387,1101.39 921.354,1106.39 922.909,1111.29 925.003,1116.12 927.591,1120.88 930.626,1125.57 934.059,1130.21 937.845,1134.8 941.937,1139.34 \n",
       "  946.287,1143.84 950.848,1148.31 955.574,1152.76 960.417,1157.19 965.33,1161.61 970.268,1166.03 975.181,1170.45 980.024,1174.88 984.75,1179.33 989.311,1183.8 \n",
       "  993.661,1188.31 997.753,1192.85 1001.54,1197.43 1004.97,1202.07 1008.01,1206.76 1010.59,1211.52 1012.69,1216.35 1014.24,1221.26 1015.21,1226.25 1015.54,1231.33 \n",
       "  \n",
       "  \"/>\n",
       "<polyline clip-path=\"url(#clip032)\" style=\"stroke:#000000; stroke-linecap:butt; stroke-linejoin:round; stroke-width:4; stroke-opacity:1; fill:none\" points=\"\n",
       "  920.055,1096.31 919.414,1104.5 917.551,1112.39 914.557,1119.99 910.523,1127.34 905.538,1134.45 899.694,1141.34 893.081,1148.05 885.789,1154.58 877.909,1160.97 \n",
       "  869.531,1167.23 860.746,1173.4 851.644,1179.48 842.316,1185.51 832.852,1191.51 823.343,1197.49 813.879,1203.48 804.551,1209.51 795.449,1215.6 786.664,1221.76 \n",
       "  778.286,1228.03 770.406,1234.41 763.114,1240.95 756.501,1247.65 750.657,1254.55 745.672,1261.66 741.638,1269 738.644,1276.61 736.781,1284.49 736.14,1292.68 \n",
       "  \n",
       "  \"/>\n",
       "<polyline clip-path=\"url(#clip032)\" style=\"stroke:#000000; stroke-linecap:butt; stroke-linejoin:round; stroke-width:4; stroke-opacity:1; fill:none\" points=\"\n",
       "  920.055,1096.31 919.641,1102.71 918.439,1109.01 916.507,1115.21 913.903,1121.31 910.687,1127.33 906.915,1133.27 902.647,1139.14 897.941,1144.96 892.856,1150.72 \n",
       "  887.449,1156.44 881.78,1162.12 875.906,1167.77 869.886,1173.41 863.779,1179.03 857.642,1184.64 851.535,1190.26 845.515,1195.9 839.641,1201.55 833.972,1207.23 \n",
       "  828.565,1212.95 823.48,1218.71 818.774,1224.53 814.506,1230.4 810.735,1236.34 807.518,1242.36 804.914,1248.46 802.982,1254.66 801.78,1260.95 801.367,1267.36 \n",
       "  \n",
       "  \"/>\n",
       "<polyline clip-path=\"url(#clip032)\" style=\"stroke:#000000; stroke-linecap:butt; stroke-linejoin:round; stroke-width:4; stroke-opacity:1; fill:none\" points=\"\n",
       "  920.055,1096.31 919.156,1104.75 916.546,1112.62 912.351,1119.98 906.697,1126.86 899.712,1133.3 891.522,1139.35 882.254,1145.05 872.035,1150.43 860.991,1155.54 \n",
       "  849.251,1160.43 836.939,1165.13 824.184,1169.68 811.111,1174.13 797.849,1178.52 784.523,1182.89 771.26,1187.28 758.188,1191.73 745.433,1196.28 733.121,1200.98 \n",
       "  721.38,1205.87 710.337,1210.98 700.118,1216.36 690.85,1222.06 682.66,1228.11 675.675,1234.55 670.021,1241.43 665.826,1248.79 663.215,1256.66 662.317,1265.1 \n",
       "  \n",
       "  \"/>\n",
       "<polyline clip-path=\"url(#clip032)\" style=\"stroke:#000000; stroke-linecap:butt; stroke-linejoin:round; stroke-width:4; stroke-opacity:1; fill:none\" points=\"\n",
       "  920.055,1096.31 919.947,1101.19 919.634,1106.15 919.131,1111.18 918.453,1116.29 917.616,1121.46 916.634,1126.69 915.523,1131.97 914.298,1137.3 912.974,1142.67 \n",
       "  911.566,1148.07 910.09,1153.5 908.561,1158.95 906.993,1164.41 905.403,1169.89 903.806,1175.36 902.216,1180.84 900.649,1186.3 899.119,1191.75 897.643,1197.18 \n",
       "  896.236,1202.58 894.912,1207.95 893.687,1213.28 892.575,1218.56 891.594,1223.79 890.756,1228.96 890.078,1234.07 889.575,1239.1 889.262,1244.06 889.155,1248.94 \n",
       "  \n",
       "  \"/>\n",
       "<path clip-path=\"url(#clip032)\" d=\"\n",
       "M1285.57 262.317 L1276.25 246.169 L1257.6 246.169 L1248.28 262.317 L1257.6 278.465 L1276.25 278.465 L1285.57 262.317 L1285.57 262.317  Z\n",
       "  \" fill=\"#009af9\" fill-rule=\"evenodd\" fill-opacity=\"1\"/>\n",
       "<polyline clip-path=\"url(#clip032)\" style=\"stroke:#000000; stroke-linecap:butt; stroke-linejoin:round; stroke-width:4; stroke-opacity:1; fill:none\" points=\"\n",
       "  1285.57,262.317 1276.25,246.169 1257.6,246.169 1248.28,262.317 1257.6,278.465 1276.25,278.465 1285.57,262.317 \n",
       "  \"/>\n",
       "<path clip-path=\"url(#clip032)\" d=\"\n",
       "M1206.7 441.15 L1190.47 413.035 L1158.01 413.035 L1141.77 441.15 L1158.01 469.265 L1190.47 469.265 L1206.7 441.15 L1206.7 441.15  Z\n",
       "  \" fill=\"#009af9\" fill-rule=\"evenodd\" fill-opacity=\"1\"/>\n",
       "<polyline clip-path=\"url(#clip032)\" style=\"stroke:#000000; stroke-linecap:butt; stroke-linejoin:round; stroke-width:4; stroke-opacity:1; fill:none\" points=\"\n",
       "  1206.7,441.15 1190.47,413.035 1158.01,413.035 1141.77,441.15 1158.01,469.265 1190.47,469.265 1206.7,441.15 \n",
       "  \"/>\n",
       "<path clip-path=\"url(#clip032)\" d=\"\n",
       "M1188.87 705.475 L1177.13 685.149 L1153.66 685.149 L1141.93 705.475 L1153.66 725.802 L1177.13 725.802 L1188.87 705.475 L1188.87 705.475  Z\n",
       "  \" fill=\"#009af9\" fill-rule=\"evenodd\" fill-opacity=\"1\"/>\n",
       "<polyline clip-path=\"url(#clip032)\" style=\"stroke:#000000; stroke-linecap:butt; stroke-linejoin:round; stroke-width:4; stroke-opacity:1; fill:none\" points=\"\n",
       "  1188.87,705.475 1177.13,685.149 1153.66,685.149 1141.93,705.475 1153.66,725.802 1177.13,725.802 1188.87,705.475 \n",
       "  \"/>\n",
       "<path clip-path=\"url(#clip032)\" d=\"\n",
       "M1248.69 837.277 L1230.33 805.472 L1193.6 805.472 L1175.24 837.277 L1193.6 869.082 L1230.33 869.082 L1248.69 837.277 L1248.69 837.277  Z\n",
       "  \" fill=\"#009af9\" fill-rule=\"evenodd\" fill-opacity=\"1\"/>\n",
       "<polyline clip-path=\"url(#clip032)\" style=\"stroke:#000000; stroke-linecap:butt; stroke-linejoin:round; stroke-width:4; stroke-opacity:1; fill:none\" points=\"\n",
       "  1248.69,837.277 1230.33,805.472 1193.6,805.472 1175.24,837.277 1193.6,869.082 1230.33,869.082 1248.69,837.277 \n",
       "  \"/>\n",
       "<path clip-path=\"url(#clip032)\" d=\"\n",
       "M1351.91 1025.12 L1340.17 1004.8 L1316.7 1004.8 L1304.96 1025.12 L1316.7 1045.45 L1340.17 1045.45 L1351.91 1025.12 L1351.91 1025.12  Z\n",
       "  \" fill=\"#009af9\" fill-rule=\"evenodd\" fill-opacity=\"1\"/>\n",
       "<polyline clip-path=\"url(#clip032)\" style=\"stroke:#000000; stroke-linecap:butt; stroke-linejoin:round; stroke-width:4; stroke-opacity:1; fill:none\" points=\"\n",
       "  1351.91,1025.12 1340.17,1004.8 1316.7,1004.8 1304.96,1025.12 1316.7,1045.45 1340.17,1045.45 1351.91,1025.12 \n",
       "  \"/>\n",
       "<path clip-path=\"url(#clip032)\" d=\"\n",
       "M1268.51 1047.24 L1238.38 995.052 L1178.12 995.052 L1147.99 1047.24 L1178.12 1099.43 L1238.38 1099.43 L1268.51 1047.24 L1268.51 1047.24  Z\n",
       "  \" fill=\"#009af9\" fill-rule=\"evenodd\" fill-opacity=\"1\"/>\n",
       "<polyline clip-path=\"url(#clip032)\" style=\"stroke:#000000; stroke-linecap:butt; stroke-linejoin:round; stroke-width:4; stroke-opacity:1; fill:none\" points=\"\n",
       "  1268.51,1047.24 1238.38,995.052 1178.12,995.052 1147.99,1047.24 1178.12,1099.43 1238.38,1099.43 1268.51,1047.24 \n",
       "  \"/>\n",
       "<path clip-path=\"url(#clip032)\" d=\"\n",
       "M1155.92 1049.96 L1125.79 997.77 L1065.53 997.77 L1035.4 1049.96 L1065.53 1102.15 L1125.79 1102.15 L1155.92 1049.96 L1155.92 1049.96  Z\n",
       "  \" fill=\"#009af9\" fill-rule=\"evenodd\" fill-opacity=\"1\"/>\n",
       "<polyline clip-path=\"url(#clip032)\" style=\"stroke:#000000; stroke-linecap:butt; stroke-linejoin:round; stroke-width:4; stroke-opacity:1; fill:none\" points=\"\n",
       "  1155.92,1049.96 1125.79,997.77 1065.53,997.77 1035.4,1049.96 1065.53,1102.15 1125.79,1102.15 1155.92,1049.96 1155.92,1049.96 \n",
       "  \"/>\n",
       "<path clip-path=\"url(#clip032)\" d=\"\n",
       "M1515.49 1063.63 L1499.26 1035.51 L1466.8 1035.51 L1450.56 1063.63 L1466.8 1091.74 L1499.26 1091.74 L1515.49 1063.63 L1515.49 1063.63  Z\n",
       "  \" fill=\"#009af9\" fill-rule=\"evenodd\" fill-opacity=\"1\"/>\n",
       "<polyline clip-path=\"url(#clip032)\" style=\"stroke:#000000; stroke-linecap:butt; stroke-linejoin:round; stroke-width:4; stroke-opacity:1; fill:none\" points=\"\n",
       "  1515.49,1063.63 1499.26,1035.51 1466.8,1035.51 1450.56,1063.63 1466.8,1091.74 1499.26,1091.74 1515.49,1063.63 \n",
       "  \"/>\n",
       "<path clip-path=\"url(#clip032)\" d=\"\n",
       "M1462.73 1324.17 L1446.49 1296.05 L1414.03 1296.05 L1397.8 1324.17 L1414.03 1352.28 L1446.49 1352.28 L1462.73 1324.17 L1462.73 1324.17  Z\n",
       "  \" fill=\"#009af9\" fill-rule=\"evenodd\" fill-opacity=\"1\"/>\n",
       "<polyline clip-path=\"url(#clip032)\" style=\"stroke:#000000; stroke-linecap:butt; stroke-linejoin:round; stroke-width:4; stroke-opacity:1; fill:none\" points=\"\n",
       "  1462.73,1324.17 1446.49,1296.05 1414.03,1296.05 1397.8,1324.17 1414.03,1352.28 1446.49,1352.28 1462.73,1324.17 \n",
       "  \"/>\n",
       "<path clip-path=\"url(#clip032)\" d=\"\n",
       "M1664.69 1337.68 L1648.46 1309.57 L1616 1309.57 L1599.76 1337.68 L1616 1365.8 L1648.46 1365.8 L1664.69 1337.68 L1664.69 1337.68  Z\n",
       "  \" fill=\"#009af9\" fill-rule=\"evenodd\" fill-opacity=\"1\"/>\n",
       "<polyline clip-path=\"url(#clip032)\" style=\"stroke:#000000; stroke-linecap:butt; stroke-linejoin:round; stroke-width:4; stroke-opacity:1; fill:none\" points=\"\n",
       "  1664.69,1337.68 1648.46,1309.57 1616,1309.57 1599.76,1337.68 1616,1365.8 1648.46,1365.8 1664.69,1337.68 \n",
       "  \"/>\n",
       "<path clip-path=\"url(#clip032)\" d=\"\n",
       "M1553.66 1331.83 L1539.64 1307.53 L1511.58 1307.53 L1497.55 1331.83 L1511.58 1356.13 L1539.64 1356.13 L1553.66 1331.83 L1553.66 1331.83  Z\n",
       "  \" fill=\"#009af9\" fill-rule=\"evenodd\" fill-opacity=\"1\"/>\n",
       "<polyline clip-path=\"url(#clip032)\" style=\"stroke:#000000; stroke-linecap:butt; stroke-linejoin:round; stroke-width:4; stroke-opacity:1; fill:none\" points=\"\n",
       "  1553.66,1331.83 1539.64,1307.53 1511.58,1307.53 1497.55,1331.83 1511.58,1356.13 1539.64,1356.13 1553.66,1331.83 \n",
       "  \"/>\n",
       "<path clip-path=\"url(#clip032)\" d=\"\n",
       "M1363.83 1332 L1349.8 1307.7 L1321.74 1307.7 L1307.71 1332 L1321.74 1356.3 L1349.8 1356.3 L1363.83 1332 L1363.83 1332  Z\n",
       "  \" fill=\"#009af9\" fill-rule=\"evenodd\" fill-opacity=\"1\"/>\n",
       "<polyline clip-path=\"url(#clip032)\" style=\"stroke:#000000; stroke-linecap:butt; stroke-linejoin:round; stroke-width:4; stroke-opacity:1; fill:none\" points=\"\n",
       "  1363.83,1332 1349.8,1307.7 1321.74,1307.7 1307.71,1332 1321.74,1356.3 1349.8,1356.3 1363.83,1332 \n",
       "  \"/>\n",
       "<path clip-path=\"url(#clip032)\" d=\"\n",
       "M1765.74 1239.01 L1751.71 1214.71 L1723.65 1214.71 L1709.62 1239.01 L1723.65 1263.31 L1751.71 1263.31 L1765.74 1239.01 L1765.74 1239.01  Z\n",
       "  \" fill=\"#009af9\" fill-rule=\"evenodd\" fill-opacity=\"1\"/>\n",
       "<polyline clip-path=\"url(#clip032)\" style=\"stroke:#000000; stroke-linecap:butt; stroke-linejoin:round; stroke-width:4; stroke-opacity:1; fill:none\" points=\"\n",
       "  1765.74,1239.01 1751.71,1214.71 1723.65,1214.71 1709.62,1239.01 1723.65,1263.31 1751.71,1263.31 1765.74,1239.01 \n",
       "  \"/>\n",
       "<path clip-path=\"url(#clip032)\" d=\"\n",
       "M1675.29 1230.55 L1663.56 1210.23 L1640.09 1210.23 L1628.35 1230.55 L1640.09 1250.88 L1663.56 1250.88 L1675.29 1230.55 L1675.29 1230.55  Z\n",
       "  \" fill=\"#009af9\" fill-rule=\"evenodd\" fill-opacity=\"1\"/>\n",
       "<polyline clip-path=\"url(#clip032)\" style=\"stroke:#000000; stroke-linecap:butt; stroke-linejoin:round; stroke-width:4; stroke-opacity:1; fill:none\" points=\"\n",
       "  1675.29,1230.55 1663.56,1210.23 1640.09,1210.23 1628.35,1230.55 1640.09,1250.88 1663.56,1250.88 1675.29,1230.55 \n",
       "  \"/>\n",
       "<path clip-path=\"url(#clip032)\" d=\"\n",
       "M960.92 1096.31 L940.488 1060.92 L899.622 1060.92 L879.189 1096.31 L899.622 1131.7 L940.488 1131.7 L960.92 1096.31 L960.92 1096.31  Z\n",
       "  \" fill=\"#009af9\" fill-rule=\"evenodd\" fill-opacity=\"1\"/>\n",
       "<polyline clip-path=\"url(#clip032)\" style=\"stroke:#000000; stroke-linecap:butt; stroke-linejoin:round; stroke-width:4; stroke-opacity:1; fill:none\" points=\"\n",
       "  960.92,1096.31 940.488,1060.92 899.622,1060.92 879.189,1096.31 899.622,1131.7 940.488,1131.7 960.92,1096.31 \n",
       "  \"/>\n",
       "<path clip-path=\"url(#clip032)\" d=\"\n",
       "M1052.27 1231.33 L1033.91 1199.53 L997.181 1199.53 L978.818 1231.33 L997.181 1263.14 L1033.91 1263.14 L1052.27 1231.33 L1052.27 1231.33  Z\n",
       "  \" fill=\"#009af9\" fill-rule=\"evenodd\" fill-opacity=\"1\"/>\n",
       "<polyline clip-path=\"url(#clip032)\" style=\"stroke:#000000; stroke-linecap:butt; stroke-linejoin:round; stroke-width:4; stroke-opacity:1; fill:none\" points=\"\n",
       "  1052.27,1231.33 1033.91,1199.53 997.181,1199.53 978.818,1231.33 997.181,1263.14 1033.91,1263.14 1052.27,1231.33 \n",
       "  \"/>\n",
       "<path clip-path=\"url(#clip032)\" d=\"\n",
       "M768.605 1292.68 L752.373 1264.57 L719.908 1264.57 L703.676 1292.68 L719.908 1320.8 L752.373 1320.8 L768.605 1292.68 L768.605 1292.68  Z\n",
       "  \" fill=\"#009af9\" fill-rule=\"evenodd\" fill-opacity=\"1\"/>\n",
       "<polyline clip-path=\"url(#clip032)\" style=\"stroke:#000000; stroke-linecap:butt; stroke-linejoin:round; stroke-width:4; stroke-opacity:1; fill:none\" points=\"\n",
       "  768.605,1292.68 752.373,1264.57 719.908,1264.57 703.676,1292.68 719.908,1320.8 752.373,1320.8 768.605,1292.68 \n",
       "  \"/>\n",
       "<path clip-path=\"url(#clip032)\" d=\"\n",
       "M833.831 1267.36 L817.599 1239.24 L785.134 1239.24 L768.902 1267.36 L785.134 1295.47 L817.599 1295.47 L833.831 1267.36 L833.831 1267.36  Z\n",
       "  \" fill=\"#009af9\" fill-rule=\"evenodd\" fill-opacity=\"1\"/>\n",
       "<polyline clip-path=\"url(#clip032)\" style=\"stroke:#000000; stroke-linecap:butt; stroke-linejoin:round; stroke-width:4; stroke-opacity:1; fill:none\" points=\"\n",
       "  833.831,1267.36 817.599,1239.24 785.134,1239.24 768.902,1267.36 785.134,1295.47 817.599,1295.47 833.831,1267.36 \n",
       "  \"/>\n",
       "<path clip-path=\"url(#clip032)\" d=\"\n",
       "M694.782 1265.1 L678.549 1236.98 L646.085 1236.98 L629.853 1265.1 L646.085 1293.21 L678.549 1293.21 L694.782 1265.1 L694.782 1265.1  Z\n",
       "  \" fill=\"#009af9\" fill-rule=\"evenodd\" fill-opacity=\"1\"/>\n",
       "<polyline clip-path=\"url(#clip032)\" style=\"stroke:#000000; stroke-linecap:butt; stroke-linejoin:round; stroke-width:4; stroke-opacity:1; fill:none\" points=\"\n",
       "  694.782,1265.1 678.549,1236.98 646.085,1236.98 629.853,1265.1 646.085,1293.21 678.549,1293.21 694.782,1265.1 \n",
       "  \"/>\n",
       "<path clip-path=\"url(#clip032)\" d=\"\n",
       "M917.213 1248.94 L903.184 1224.64 L875.125 1224.64 L861.096 1248.94 L875.125 1273.24 L903.184 1273.24 L917.213 1248.94 L917.213 1248.94  Z\n",
       "  \" fill=\"#009af9\" fill-rule=\"evenodd\" fill-opacity=\"1\"/>\n",
       "<polyline clip-path=\"url(#clip032)\" style=\"stroke:#000000; stroke-linecap:butt; stroke-linejoin:round; stroke-width:4; stroke-opacity:1; fill:none\" points=\"\n",
       "  917.213,1248.94 903.184,1224.64 875.125,1224.64 861.096,1248.94 875.125,1273.24 903.184,1273.24 917.213,1248.94 \n",
       "  \"/>\n",
       "<circle clip-path=\"url(#clip032)\" style=\"fill:#009af9; stroke:none; fill-opacity:1\" cx=\"1266.92\" cy=\"262.317\" r=\"2\"/>\n",
       "<circle clip-path=\"url(#clip032)\" style=\"fill:#009af9; stroke:none; fill-opacity:1\" cx=\"1174.24\" cy=\"441.15\" r=\"2\"/>\n",
       "<circle clip-path=\"url(#clip032)\" style=\"fill:#009af9; stroke:none; fill-opacity:1\" cx=\"1165.4\" cy=\"705.475\" r=\"2\"/>\n",
       "<circle clip-path=\"url(#clip032)\" style=\"fill:#009af9; stroke:none; fill-opacity:1\" cx=\"1211.96\" cy=\"837.277\" r=\"2\"/>\n",
       "<circle clip-path=\"url(#clip032)\" style=\"fill:#009af9; stroke:none; fill-opacity:1\" cx=\"1328.44\" cy=\"1025.12\" r=\"2\"/>\n",
       "<circle clip-path=\"url(#clip032)\" style=\"fill:#009af9; stroke:none; fill-opacity:1\" cx=\"1208.25\" cy=\"1047.24\" r=\"2\"/>\n",
       "<circle clip-path=\"url(#clip032)\" style=\"fill:#009af9; stroke:none; fill-opacity:1\" cx=\"1095.66\" cy=\"1049.96\" r=\"2\"/>\n",
       "<circle clip-path=\"url(#clip032)\" style=\"fill:#009af9; stroke:none; fill-opacity:1\" cx=\"1483.03\" cy=\"1063.63\" r=\"2\"/>\n",
       "<circle clip-path=\"url(#clip032)\" style=\"fill:#009af9; stroke:none; fill-opacity:1\" cx=\"1430.26\" cy=\"1324.17\" r=\"2\"/>\n",
       "<circle clip-path=\"url(#clip032)\" style=\"fill:#009af9; stroke:none; fill-opacity:1\" cx=\"1632.23\" cy=\"1337.68\" r=\"2\"/>\n",
       "<circle clip-path=\"url(#clip032)\" style=\"fill:#009af9; stroke:none; fill-opacity:1\" cx=\"1525.61\" cy=\"1331.83\" r=\"2\"/>\n",
       "<circle clip-path=\"url(#clip032)\" style=\"fill:#009af9; stroke:none; fill-opacity:1\" cx=\"1335.77\" cy=\"1332\" r=\"2\"/>\n",
       "<circle clip-path=\"url(#clip032)\" style=\"fill:#009af9; stroke:none; fill-opacity:1\" cx=\"1737.68\" cy=\"1239.01\" r=\"2\"/>\n",
       "<circle clip-path=\"url(#clip032)\" style=\"fill:#009af9; stroke:none; fill-opacity:1\" cx=\"1651.82\" cy=\"1230.55\" r=\"2\"/>\n",
       "<circle clip-path=\"url(#clip032)\" style=\"fill:#009af9; stroke:none; fill-opacity:1\" cx=\"920.055\" cy=\"1096.31\" r=\"2\"/>\n",
       "<circle clip-path=\"url(#clip032)\" style=\"fill:#009af9; stroke:none; fill-opacity:1\" cx=\"1015.54\" cy=\"1231.33\" r=\"2\"/>\n",
       "<circle clip-path=\"url(#clip032)\" style=\"fill:#009af9; stroke:none; fill-opacity:1\" cx=\"736.14\" cy=\"1292.68\" r=\"2\"/>\n",
       "<circle clip-path=\"url(#clip032)\" style=\"fill:#009af9; stroke:none; fill-opacity:1\" cx=\"801.367\" cy=\"1267.36\" r=\"2\"/>\n",
       "<circle clip-path=\"url(#clip032)\" style=\"fill:#009af9; stroke:none; fill-opacity:1\" cx=\"662.317\" cy=\"1265.1\" r=\"2\"/>\n",
       "<circle clip-path=\"url(#clip032)\" style=\"fill:#009af9; stroke:none; fill-opacity:1\" cx=\"889.155\" cy=\"1248.94\" r=\"2\"/>\n",
       "<path clip-path=\"url(#clip030)\" d=\"M1252.65 255.98 L1249.48 264.58 L1255.83 264.58 L1252.65 255.98 M1251.33 253.677 L1253.98 253.677 L1260.57 270.957 L1258.14 270.957 L1256.56 266.524 L1248.77 266.524 L1247.2 270.957 L1244.73 270.957 L1251.33 253.677 Z\" fill=\"#000000\" fill-rule=\"evenodd\" fill-opacity=\"1\" /><path clip-path=\"url(#clip030)\" d=\"M1273.77 263.133 L1273.77 270.957 L1271.64 270.957 L1271.64 263.203 Q1271.64 261.362 1270.93 260.448 Q1270.21 259.534 1268.77 259.534 Q1267.05 259.534 1266.05 260.633 Q1265.06 261.733 1265.06 263.631 L1265.06 270.957 L1262.92 270.957 L1262.92 257.994 L1265.06 257.994 L1265.06 260.008 Q1265.82 258.839 1266.85 258.261 Q1267.89 257.682 1269.25 257.682 Q1271.48 257.682 1272.63 259.071 Q1273.77 260.448 1273.77 263.133 Z\" fill=\"#000000\" fill-rule=\"evenodd\" fill-opacity=\"1\" /><path clip-path=\"url(#clip030)\" d=\"M1283.42 272.161 Q1282.51 274.476 1281.66 275.182 Q1280.8 275.888 1279.36 275.888 L1277.66 275.888 L1277.66 274.105 L1278.91 274.105 Q1279.79 274.105 1280.28 273.689 Q1280.76 273.272 1281.36 271.721 L1281.74 270.749 L1276.49 257.994 L1278.75 257.994 L1282.8 268.133 L1286.85 257.994 L1289.11 257.994 L1283.42 272.161 Z\" fill=\"#000000\" fill-rule=\"evenodd\" fill-opacity=\"1\" /><path clip-path=\"url(#clip030)\" d=\"M1127.79 432.51 L1130.94 432.51 L1138.6 446.966 L1138.6 432.51 L1140.87 432.51 L1140.87 449.79 L1137.72 449.79 L1130.06 435.334 L1130.06 449.79 L1127.79 449.79 L1127.79 432.51 Z\" fill=\"#000000\" fill-rule=\"evenodd\" fill-opacity=\"1\" /><path clip-path=\"url(#clip030)\" d=\"M1145.21 444.674 L1145.21 436.827 L1147.34 436.827 L1147.34 444.593 Q1147.34 446.433 1148.06 447.359 Q1148.77 448.274 1150.21 448.274 Q1151.93 448.274 1152.93 447.174 Q1153.94 446.075 1153.94 444.176 L1153.94 436.827 L1156.07 436.827 L1156.07 449.79 L1153.94 449.79 L1153.94 447.799 Q1153.16 448.98 1152.13 449.558 Q1151.11 450.125 1149.76 450.125 Q1147.52 450.125 1146.37 448.737 Q1145.21 447.348 1145.21 444.674 M1150.57 436.514 L1150.57 436.514 Z\" fill=\"#000000\" fill-rule=\"evenodd\" fill-opacity=\"1\" /><path clip-path=\"url(#clip030)\" d=\"M1170.55 439.315 Q1171.34 437.88 1172.45 437.197 Q1173.57 436.514 1175.07 436.514 Q1177.1 436.514 1178.2 437.938 Q1179.3 439.35 1179.3 441.966 L1179.3 449.79 L1177.15 449.79 L1177.15 442.035 Q1177.15 440.172 1176.49 439.269 Q1175.83 438.366 1174.48 438.366 Q1172.83 438.366 1171.86 439.466 Q1170.9 440.565 1170.9 442.463 L1170.9 449.79 L1168.76 449.79 L1168.76 442.035 Q1168.76 440.16 1168.1 439.269 Q1167.44 438.366 1166.07 438.366 Q1164.43 438.366 1163.47 439.477 Q1162.51 440.577 1162.51 442.463 L1162.51 449.79 L1160.37 449.79 L1160.37 436.827 L1162.51 436.827 L1162.51 438.841 Q1163.24 437.649 1164.26 437.082 Q1165.28 436.514 1166.68 436.514 Q1168.09 436.514 1169.08 437.232 Q1170.07 437.95 1170.55 439.315 Z\" fill=\"#000000\" fill-rule=\"evenodd\" fill-opacity=\"1\" /><path clip-path=\"url(#clip030)\" d=\"M1192.85 443.32 Q1192.85 440.97 1191.88 439.639 Q1190.92 438.297 1189.23 438.297 Q1187.54 438.297 1186.56 439.639 Q1185.6 440.97 1185.6 443.32 Q1185.6 445.669 1186.56 447.012 Q1187.54 448.343 1189.23 448.343 Q1190.92 448.343 1191.88 447.012 Q1192.85 445.669 1192.85 443.32 M1185.6 438.795 Q1186.27 437.637 1187.29 437.082 Q1188.32 436.514 1189.75 436.514 Q1192.11 436.514 1193.58 438.389 Q1195.06 440.264 1195.06 443.32 Q1195.06 446.376 1193.58 448.25 Q1192.11 450.125 1189.75 450.125 Q1188.32 450.125 1187.29 449.57 Q1186.27 449.003 1185.6 447.845 L1185.6 449.79 L1183.46 449.79 L1183.46 431.781 L1185.6 431.781 L1185.6 438.795 Z\" fill=\"#000000\" fill-rule=\"evenodd\" fill-opacity=\"1\" /><path clip-path=\"url(#clip030)\" d=\"M1209.68 442.776 L1209.68 443.818 L1199.89 443.818 Q1200.02 446.017 1201.2 447.174 Q1202.4 448.32 1204.51 448.32 Q1205.74 448.32 1206.89 448.019 Q1208.04 447.718 1209.18 447.116 L1209.18 449.13 Q1208.03 449.616 1206.83 449.871 Q1205.63 450.125 1204.39 450.125 Q1201.29 450.125 1199.47 448.32 Q1197.66 446.514 1197.66 443.436 Q1197.66 440.253 1199.38 438.389 Q1201.1 436.514 1204.02 436.514 Q1206.63 436.514 1208.15 438.204 Q1209.68 439.882 1209.68 442.776 M1207.55 442.151 Q1207.52 440.403 1206.56 439.362 Q1205.61 438.32 1204.04 438.32 Q1202.26 438.32 1201.18 439.327 Q1200.12 440.334 1199.95 442.163 L1207.55 442.151 Z\" fill=\"#000000\" fill-rule=\"evenodd\" fill-opacity=\"1\" /><path clip-path=\"url(#clip030)\" d=\"M1220.68 438.818 Q1220.33 438.609 1219.9 438.517 Q1219.48 438.413 1218.97 438.413 Q1217.17 438.413 1216.19 439.593 Q1215.23 440.762 1215.23 442.961 L1215.23 449.79 L1213.09 449.79 L1213.09 436.827 L1215.23 436.827 L1215.23 438.841 Q1215.9 437.66 1216.98 437.093 Q1218.06 436.514 1219.6 436.514 Q1219.82 436.514 1220.08 436.549 Q1220.35 436.572 1220.67 436.63 L1220.68 438.818 Z\" fill=\"#000000\" fill-rule=\"evenodd\" fill-opacity=\"1\" /><path clip-path=\"url(#clip030)\" d=\"M1150.32 706.013 Q1151.07 706.268 1151.78 707.101 Q1152.49 707.935 1153.21 709.393 L1155.58 714.115 L1153.07 714.115 L1150.86 709.682 Q1150 707.946 1149.19 707.379 Q1148.4 706.812 1147.01 706.812 L1144.46 706.812 L1144.46 714.115 L1142.12 714.115 L1142.12 696.835 L1147.4 696.835 Q1150.36 696.835 1151.82 698.074 Q1153.28 699.312 1153.28 701.812 Q1153.28 703.444 1152.52 704.52 Q1151.76 705.597 1150.32 706.013 M1144.46 698.757 L1144.46 704.891 L1147.4 704.891 Q1149.09 704.891 1149.95 704.115 Q1150.81 703.328 1150.81 701.812 Q1150.81 700.296 1149.95 699.532 Q1149.09 698.757 1147.4 698.757 L1144.46 698.757 Z\" fill=\"#000000\" fill-rule=\"evenodd\" fill-opacity=\"1\" /><path clip-path=\"url(#clip030)\" d=\"M1168.52 707.101 L1168.52 708.143 L1158.73 708.143 Q1158.87 710.342 1160.05 711.5 Q1161.24 712.645 1163.36 712.645 Q1164.59 712.645 1165.73 712.344 Q1166.89 712.043 1168.03 711.442 L1168.03 713.456 Q1166.88 713.942 1165.68 714.196 Q1164.47 714.451 1163.23 714.451 Q1160.13 714.451 1158.31 712.645 Q1156.51 710.84 1156.51 707.761 Q1156.51 704.578 1158.22 702.715 Q1159.95 700.84 1162.86 700.84 Q1165.48 700.84 1167 702.53 Q1168.52 704.208 1168.52 707.101 M1166.39 706.476 Q1166.37 704.729 1165.41 703.687 Q1164.46 702.645 1162.89 702.645 Q1161.1 702.645 1160.03 703.652 Q1158.96 704.659 1158.8 706.488 L1166.39 706.476 Z\" fill=\"#000000\" fill-rule=\"evenodd\" fill-opacity=\"1\" /><path clip-path=\"url(#clip030)\" d=\"M1177.91 707.599 Q1175.33 707.599 1174.33 708.189 Q1173.34 708.78 1173.34 710.203 Q1173.34 711.337 1174.08 712.009 Q1174.83 712.668 1176.12 712.668 Q1177.89 712.668 1178.95 711.418 Q1180.03 710.157 1180.03 708.074 L1180.03 707.599 L1177.91 707.599 M1182.16 706.719 L1182.16 714.115 L1180.03 714.115 L1180.03 712.148 Q1179.3 713.328 1178.21 713.895 Q1177.12 714.451 1175.55 714.451 Q1173.56 714.451 1172.38 713.34 Q1171.21 712.217 1171.21 710.342 Q1171.21 708.155 1172.67 707.044 Q1174.14 705.932 1177.04 705.932 L1180.03 705.932 L1180.03 705.724 Q1180.03 704.254 1179.06 703.456 Q1178.09 702.645 1176.35 702.645 Q1175.24 702.645 1174.18 702.912 Q1173.13 703.178 1172.16 703.71 L1172.16 701.743 Q1173.33 701.291 1174.43 701.071 Q1175.53 700.84 1176.57 700.84 Q1179.38 700.84 1180.77 702.298 Q1182.16 703.757 1182.16 706.719 Z\" fill=\"#000000\" fill-rule=\"evenodd\" fill-opacity=\"1\" /><path clip-path=\"url(#clip030)\" d=\"M1186.54 696.106 L1188.67 696.106 L1188.67 714.115 L1186.54 714.115 L1186.54 696.106 Z\" fill=\"#000000\" fill-rule=\"evenodd\" fill-opacity=\"1\" /><path clip-path=\"url(#clip030)\" d=\"M1170.49 828.637 L1172.83 828.637 L1172.83 845.917 L1170.49 845.917 L1170.49 828.637 Z\" fill=\"#000000\" fill-rule=\"evenodd\" fill-opacity=\"1\" /><path clip-path=\"url(#clip030)\" d=\"M1188.17 838.093 L1188.17 845.917 L1186.04 845.917 L1186.04 838.162 Q1186.04 836.322 1185.32 835.408 Q1184.6 834.493 1183.17 834.493 Q1181.44 834.493 1180.45 835.593 Q1179.45 836.692 1179.45 838.591 L1179.45 845.917 L1177.31 845.917 L1177.31 832.954 L1179.45 832.954 L1179.45 834.968 Q1180.22 833.799 1181.25 833.22 Q1182.29 832.642 1183.64 832.642 Q1185.87 832.642 1187.02 834.03 Q1188.17 835.408 1188.17 838.093 Z\" fill=\"#000000\" fill-rule=\"evenodd\" fill-opacity=\"1\" /><path clip-path=\"url(#clip030)\" d=\"M1194.52 829.274 L1194.52 832.954 L1198.91 832.954 L1198.91 834.609 L1194.52 834.609 L1194.52 841.646 Q1194.52 843.232 1194.95 843.683 Q1195.39 844.135 1196.72 844.135 L1198.91 844.135 L1198.91 845.917 L1196.72 845.917 Q1194.25 845.917 1193.32 845.003 Q1192.38 844.077 1192.38 841.646 L1192.38 834.609 L1190.82 834.609 L1190.82 832.954 L1192.38 832.954 L1192.38 829.274 L1194.52 829.274 Z\" fill=\"#000000\" fill-rule=\"evenodd\" fill-opacity=\"1\" /><path clip-path=\"url(#clip030)\" d=\"M1212.8 838.903 L1212.8 839.945 L1203 839.945 Q1203.14 842.144 1204.32 843.301 Q1205.52 844.447 1207.63 844.447 Q1208.86 844.447 1210.01 844.146 Q1211.16 843.845 1212.3 843.243 L1212.3 845.257 Q1211.15 845.743 1209.95 845.998 Q1208.75 846.253 1207.51 846.253 Q1204.4 846.253 1202.59 844.447 Q1200.78 842.642 1200.78 839.563 Q1200.78 836.38 1202.5 834.517 Q1204.22 832.642 1207.14 832.642 Q1209.75 832.642 1211.27 834.331 Q1212.8 836.01 1212.8 838.903 M1210.67 838.278 Q1210.64 836.53 1209.68 835.489 Q1208.73 834.447 1207.16 834.447 Q1205.38 834.447 1204.3 835.454 Q1203.24 836.461 1203.07 838.29 L1210.67 838.278 Z\" fill=\"#000000\" fill-rule=\"evenodd\" fill-opacity=\"1\" /><path clip-path=\"url(#clip030)\" d=\"M1224.82 839.285 Q1224.82 836.97 1223.86 835.697 Q1222.91 834.424 1221.19 834.424 Q1219.47 834.424 1218.51 835.697 Q1217.56 836.97 1217.56 839.285 Q1217.56 841.588 1218.51 842.861 Q1219.47 844.135 1221.19 844.135 Q1222.91 844.135 1223.86 842.861 Q1224.82 841.588 1224.82 839.285 M1226.95 844.308 Q1226.95 847.618 1225.48 849.227 Q1224.01 850.848 1220.98 850.848 Q1219.86 850.848 1218.86 850.674 Q1217.87 850.512 1216.93 850.165 L1216.93 848.093 Q1217.87 848.602 1218.78 848.845 Q1219.69 849.088 1220.64 849.088 Q1222.74 849.088 1223.78 847.989 Q1224.82 846.901 1224.82 844.69 L1224.82 843.637 Q1224.16 844.783 1223.13 845.35 Q1222.1 845.917 1220.67 845.917 Q1218.28 845.917 1216.82 844.1 Q1215.37 842.283 1215.37 839.285 Q1215.37 836.276 1216.82 834.459 Q1218.28 832.642 1220.67 832.642 Q1222.1 832.642 1223.13 833.209 Q1224.16 833.776 1224.82 834.922 L1224.82 832.954 L1226.95 832.954 L1226.95 844.308 Z\" fill=\"#000000\" fill-rule=\"evenodd\" fill-opacity=\"1\" /><path clip-path=\"url(#clip030)\" d=\"M1242.43 838.903 L1242.43 839.945 L1232.63 839.945 Q1232.77 842.144 1233.95 843.301 Q1235.15 844.447 1237.26 844.447 Q1238.49 844.447 1239.64 844.146 Q1240.79 843.845 1241.93 843.243 L1241.93 845.257 Q1240.78 845.743 1239.58 845.998 Q1238.37 846.253 1237.14 846.253 Q1234.03 846.253 1232.22 844.447 Q1230.41 842.642 1230.41 839.563 Q1230.41 836.38 1232.12 834.517 Q1233.85 832.642 1236.77 832.642 Q1239.38 832.642 1240.9 834.331 Q1242.43 836.01 1242.43 838.903 M1240.3 838.278 Q1240.27 836.53 1239.31 835.489 Q1238.36 834.447 1236.79 834.447 Q1235.01 834.447 1233.93 835.454 Q1232.87 836.461 1232.7 838.29 L1240.3 838.278 Z\" fill=\"#000000\" fill-rule=\"evenodd\" fill-opacity=\"1\" /><path clip-path=\"url(#clip030)\" d=\"M1253.43 834.945 Q1253.07 834.736 1252.65 834.644 Q1252.23 834.54 1251.72 834.54 Q1249.91 834.54 1248.94 835.72 Q1247.98 836.889 1247.98 839.088 L1247.98 845.917 L1245.84 845.917 L1245.84 832.954 L1247.98 832.954 L1247.98 834.968 Q1248.65 833.787 1249.73 833.22 Q1250.8 832.642 1252.34 832.642 Q1252.56 832.642 1252.83 832.676 Q1253.1 832.699 1253.42 832.757 L1253.43 834.945 Z\" fill=\"#000000\" fill-rule=\"evenodd\" fill-opacity=\"1\" /><path clip-path=\"url(#clip030)\" d=\"M1307.12 1025.51 L1307.12 1031.84 L1310.87 1031.84 Q1312.76 1031.84 1313.66 1031.07 Q1314.58 1030.28 1314.58 1028.67 Q1314.58 1027.05 1313.66 1026.29 Q1312.76 1025.51 1310.87 1025.51 L1307.12 1025.51 M1307.12 1018.4 L1307.12 1023.61 L1310.58 1023.61 Q1312.3 1023.61 1313.13 1022.98 Q1313.97 1022.33 1313.97 1021.01 Q1313.97 1019.7 1313.13 1019.05 Q1312.3 1018.4 1310.58 1018.4 L1307.12 1018.4 M1304.78 1016.48 L1310.76 1016.48 Q1313.43 1016.48 1314.88 1017.59 Q1316.32 1018.71 1316.32 1020.75 Q1316.32 1022.34 1315.58 1023.28 Q1314.84 1024.21 1313.41 1024.45 Q1315.13 1024.82 1316.08 1026 Q1317.04 1027.17 1317.04 1028.92 Q1317.04 1031.24 1315.47 1032.5 Q1313.89 1033.76 1310.99 1033.76 L1304.78 1033.76 L1304.78 1016.48 Z\" fill=\"#000000\" fill-rule=\"evenodd\" fill-opacity=\"1\" /><path clip-path=\"url(#clip030)\" d=\"M1325.98 1022.29 Q1324.26 1022.29 1323.27 1023.64 Q1322.27 1024.97 1322.27 1027.29 Q1322.27 1029.62 1323.26 1030.96 Q1324.25 1032.29 1325.98 1032.29 Q1327.68 1032.29 1328.67 1030.95 Q1329.67 1029.61 1329.67 1027.29 Q1329.67 1024.99 1328.67 1023.65 Q1327.68 1022.29 1325.98 1022.29 M1325.98 1020.49 Q1328.75 1020.49 1330.34 1022.29 Q1331.93 1024.1 1331.93 1027.29 Q1331.93 1030.48 1330.34 1032.29 Q1328.75 1034.1 1325.98 1034.1 Q1323.19 1034.1 1321.6 1032.29 Q1320.03 1030.48 1320.03 1027.29 Q1320.03 1024.1 1321.6 1022.29 Q1323.19 1020.49 1325.98 1020.49 Z\" fill=\"#000000\" fill-rule=\"evenodd\" fill-opacity=\"1\" /><path clip-path=\"url(#clip030)\" d=\"M1340.48 1022.29 Q1338.77 1022.29 1337.77 1023.64 Q1336.78 1024.97 1336.78 1027.29 Q1336.78 1029.62 1337.76 1030.96 Q1338.75 1032.29 1340.48 1032.29 Q1342.18 1032.29 1343.18 1030.95 Q1344.17 1029.61 1344.17 1027.29 Q1344.17 1024.99 1343.18 1023.65 Q1342.18 1022.29 1340.48 1022.29 M1340.48 1020.49 Q1343.26 1020.49 1344.84 1022.29 Q1346.43 1024.1 1346.43 1027.29 Q1346.43 1030.48 1344.84 1032.29 Q1343.26 1034.1 1340.48 1034.1 Q1337.69 1034.1 1336.1 1032.29 Q1334.53 1030.48 1334.53 1027.29 Q1334.53 1024.1 1336.1 1022.29 Q1337.69 1020.49 1340.48 1020.49 Z\" fill=\"#000000\" fill-rule=\"evenodd\" fill-opacity=\"1\" /><path clip-path=\"url(#clip030)\" d=\"M1349.96 1015.75 L1352.09 1015.75 L1352.09 1033.76 L1349.96 1033.76 L1349.96 1015.75 Z\" fill=\"#000000\" fill-rule=\"evenodd\" fill-opacity=\"1\" /><path clip-path=\"url(#clip030)\" d=\"M1138.5 1040.19 Q1135.96 1040.19 1134.45 1042.08 Q1132.96 1043.98 1132.96 1047.26 Q1132.96 1050.52 1134.45 1052.42 Q1135.96 1054.32 1138.5 1054.32 Q1141.05 1054.32 1142.53 1052.42 Q1144.02 1050.52 1144.02 1047.26 Q1144.02 1043.98 1142.53 1042.08 Q1141.05 1040.19 1138.5 1040.19 M1138.5 1038.29 Q1142.14 1038.29 1144.31 1040.73 Q1146.49 1043.16 1146.49 1047.26 Q1146.49 1051.34 1144.31 1053.79 Q1142.14 1056.22 1138.5 1056.22 Q1134.86 1056.22 1132.67 1053.79 Q1130.49 1051.35 1130.49 1047.26 Q1130.49 1043.16 1132.67 1040.73 Q1134.86 1038.29 1138.5 1038.29 Z\" fill=\"#000000\" fill-rule=\"evenodd\" fill-opacity=\"1\" /><path clip-path=\"url(#clip030)\" d=\"M1156.62 1037.87 L1156.62 1039.64 L1154.58 1039.64 Q1153.43 1039.64 1152.98 1040.1 Q1152.54 1040.57 1152.54 1041.77 L1152.54 1042.92 L1156.05 1042.92 L1156.05 1044.57 L1152.54 1044.57 L1152.54 1055.88 L1150.4 1055.88 L1150.4 1044.57 L1148.36 1044.57 L1148.36 1042.92 L1150.4 1042.92 L1150.4 1042.01 Q1150.4 1039.85 1151.41 1038.87 Q1152.41 1037.87 1154.6 1037.87 L1156.62 1037.87 Z\" fill=\"#000000\" fill-rule=\"evenodd\" fill-opacity=\"1\" /><path clip-path=\"url(#clip030)\" d=\"M1164.96 1037.87 L1164.96 1039.64 L1162.92 1039.64 Q1161.78 1039.64 1161.33 1040.1 Q1160.89 1040.57 1160.89 1041.77 L1160.89 1042.92 L1164.39 1042.92 L1164.39 1044.57 L1160.89 1044.57 L1160.89 1055.88 L1158.75 1055.88 L1158.75 1044.57 L1156.71 1044.57 L1156.71 1042.92 L1158.75 1042.92 L1158.75 1042.01 Q1158.75 1039.85 1159.75 1038.87 Q1160.76 1037.87 1162.95 1037.87 L1164.96 1037.87 Z\" fill=\"#000000\" fill-rule=\"evenodd\" fill-opacity=\"1\" /><path clip-path=\"url(#clip030)\" d=\"M1175.01 1043.3 L1175.01 1045.31 Q1174.1 1044.85 1173.13 1044.62 Q1172.16 1044.39 1171.12 1044.39 Q1169.53 1044.39 1168.73 1044.87 Q1167.95 1045.36 1167.95 1046.33 Q1167.95 1047.07 1168.51 1047.5 Q1169.08 1047.92 1170.79 1048.3 L1171.52 1048.46 Q1173.79 1048.95 1174.74 1049.84 Q1175.7 1050.72 1175.7 1052.3 Q1175.7 1054.11 1174.27 1055.16 Q1172.84 1056.22 1170.34 1056.22 Q1169.3 1056.22 1168.17 1056.01 Q1167.04 1055.81 1165.79 1055.41 L1165.79 1053.21 Q1166.97 1053.82 1168.12 1054.13 Q1169.27 1054.43 1170.39 1054.43 Q1171.89 1054.43 1172.7 1053.92 Q1173.51 1053.4 1173.51 1052.47 Q1173.51 1051.6 1172.92 1051.13 Q1172.35 1050.67 1170.37 1050.24 L1169.63 1050.07 Q1167.65 1049.65 1166.77 1048.8 Q1165.89 1047.93 1165.89 1046.42 Q1165.89 1044.6 1167.18 1043.6 Q1168.48 1042.6 1170.86 1042.6 Q1172.04 1042.6 1173.09 1042.78 Q1174.13 1042.95 1175.01 1043.3 Z\" fill=\"#000000\" fill-rule=\"evenodd\" fill-opacity=\"1\" /><path clip-path=\"url(#clip030)\" d=\"M1190.18 1048.87 L1190.18 1049.91 L1180.39 1049.91 Q1180.53 1052.11 1181.71 1053.26 Q1182.9 1054.41 1185.02 1054.41 Q1186.25 1054.41 1187.39 1054.11 Q1188.55 1053.81 1189.68 1053.21 L1189.68 1055.22 Q1188.54 1055.71 1187.33 1055.96 Q1186.13 1056.22 1184.89 1056.22 Q1181.79 1056.22 1179.97 1054.41 Q1178.17 1052.6 1178.17 1049.53 Q1178.17 1046.34 1179.88 1044.48 Q1181.6 1042.6 1184.52 1042.6 Q1187.14 1042.6 1188.65 1044.29 Q1190.18 1045.97 1190.18 1048.87 M1188.05 1048.24 Q1188.03 1046.49 1187.07 1045.45 Q1186.12 1044.41 1184.54 1044.41 Q1182.76 1044.41 1181.69 1045.42 Q1180.62 1046.42 1180.46 1048.25 L1188.05 1048.24 Z\" fill=\"#000000\" fill-rule=\"evenodd\" fill-opacity=\"1\" /><path clip-path=\"url(#clip030)\" d=\"M1195.78 1039.24 L1195.78 1042.92 L1200.17 1042.92 L1200.17 1044.57 L1195.78 1044.57 L1195.78 1051.61 Q1195.78 1053.19 1196.21 1053.65 Q1196.65 1054.1 1197.98 1054.1 L1200.17 1054.1 L1200.17 1055.88 L1197.98 1055.88 Q1195.52 1055.88 1194.58 1054.97 Q1193.64 1054.04 1193.64 1051.61 L1193.64 1044.57 L1192.08 1044.57 L1192.08 1042.92 L1193.64 1042.92 L1193.64 1039.24 L1195.78 1039.24 Z\" fill=\"#000000\" fill-rule=\"evenodd\" fill-opacity=\"1\" /><path clip-path=\"url(#clip030)\" d=\"M1203.06 1038.6 L1205.4 1038.6 L1205.4 1055.88 L1203.06 1055.88 L1203.06 1038.6 Z\" fill=\"#000000\" fill-rule=\"evenodd\" fill-opacity=\"1\" /><path clip-path=\"url(#clip030)\" d=\"M1220.74 1048.06 L1220.74 1055.88 L1218.61 1055.88 L1218.61 1048.13 Q1218.61 1046.29 1217.89 1045.37 Q1217.17 1044.46 1215.74 1044.46 Q1214.01 1044.46 1213.02 1045.56 Q1212.02 1046.66 1212.02 1048.55 L1212.02 1055.88 L1209.88 1055.88 L1209.88 1042.92 L1212.02 1042.92 L1212.02 1044.93 Q1212.78 1043.76 1213.82 1043.18 Q1214.86 1042.6 1216.21 1042.6 Q1218.44 1042.6 1219.59 1043.99 Q1220.74 1045.37 1220.74 1048.06 Z\" fill=\"#000000\" fill-rule=\"evenodd\" fill-opacity=\"1\" /><path clip-path=\"url(#clip030)\" d=\"M1227.09 1039.24 L1227.09 1042.92 L1231.48 1042.92 L1231.48 1044.57 L1227.09 1044.57 L1227.09 1051.61 Q1227.09 1053.19 1227.52 1053.65 Q1227.96 1054.1 1229.29 1054.1 L1231.48 1054.1 L1231.48 1055.88 L1229.29 1055.88 Q1226.82 1055.88 1225.89 1054.97 Q1224.95 1054.04 1224.95 1051.61 L1224.95 1044.57 L1223.39 1044.57 L1223.39 1042.92 L1224.95 1042.92 L1224.95 1039.24 L1227.09 1039.24 Z\" fill=\"#000000\" fill-rule=\"evenodd\" fill-opacity=\"1\" /><path clip-path=\"url(#clip030)\" d=\"M1245.37 1048.87 L1245.37 1049.91 L1235.57 1049.91 Q1235.71 1052.11 1236.89 1053.26 Q1238.09 1054.41 1240.2 1054.41 Q1241.43 1054.41 1242.58 1054.11 Q1243.73 1053.81 1244.87 1053.21 L1244.87 1055.22 Q1243.72 1055.71 1242.52 1055.96 Q1241.31 1056.22 1240.08 1056.22 Q1236.97 1056.22 1235.16 1054.41 Q1233.35 1052.6 1233.35 1049.53 Q1233.35 1046.34 1235.06 1044.48 Q1236.79 1042.6 1239.71 1042.6 Q1242.32 1042.6 1243.84 1044.29 Q1245.37 1045.97 1245.37 1048.87 M1243.24 1048.24 Q1243.21 1046.49 1242.25 1045.45 Q1241.3 1044.41 1239.73 1044.41 Q1237.95 1044.41 1236.87 1045.42 Q1235.81 1046.42 1235.64 1048.25 L1243.24 1048.24 Z\" fill=\"#000000\" fill-rule=\"evenodd\" fill-opacity=\"1\" /><path clip-path=\"url(#clip030)\" d=\"M1257.39 1049.25 Q1257.39 1046.93 1256.43 1045.66 Q1255.48 1044.39 1253.76 1044.39 Q1252.04 1044.39 1251.08 1045.66 Q1250.13 1046.93 1250.13 1049.25 Q1250.13 1051.55 1251.08 1052.82 Q1252.04 1054.1 1253.76 1054.1 Q1255.48 1054.1 1256.43 1052.82 Q1257.39 1051.55 1257.39 1049.25 M1259.52 1054.27 Q1259.52 1057.58 1258.05 1059.19 Q1256.58 1060.81 1253.55 1060.81 Q1252.43 1060.81 1251.43 1060.64 Q1250.44 1060.47 1249.5 1060.13 L1249.5 1058.06 Q1250.44 1058.57 1251.35 1058.81 Q1252.26 1059.05 1253.21 1059.05 Q1255.31 1059.05 1256.35 1057.95 Q1257.39 1056.86 1257.39 1054.65 L1257.39 1053.6 Q1256.73 1054.75 1255.7 1055.31 Q1254.67 1055.88 1253.24 1055.88 Q1250.85 1055.88 1249.39 1054.06 Q1247.94 1052.25 1247.94 1049.25 Q1247.94 1046.24 1249.39 1044.42 Q1250.85 1042.6 1253.24 1042.6 Q1254.67 1042.6 1255.7 1043.17 Q1256.73 1043.74 1257.39 1044.88 L1257.39 1042.92 L1259.52 1042.92 L1259.52 1054.27 Z\" fill=\"#000000\" fill-rule=\"evenodd\" fill-opacity=\"1\" /><path clip-path=\"url(#clip030)\" d=\"M1275 1048.87 L1275 1049.91 L1265.2 1049.91 Q1265.34 1052.11 1266.52 1053.26 Q1267.72 1054.41 1269.83 1054.41 Q1271.06 1054.41 1272.21 1054.11 Q1273.36 1053.81 1274.5 1053.21 L1274.5 1055.22 Q1273.35 1055.71 1272.15 1055.96 Q1270.94 1056.22 1269.71 1056.22 Q1266.6 1056.22 1264.79 1054.41 Q1262.98 1052.6 1262.98 1049.53 Q1262.98 1046.34 1264.69 1044.48 Q1266.42 1042.6 1269.34 1042.6 Q1271.95 1042.6 1273.47 1044.29 Q1275 1045.97 1275 1048.87 M1272.87 1048.24 Q1272.84 1046.49 1271.88 1045.45 Q1270.93 1044.41 1269.36 1044.41 Q1267.58 1044.41 1266.5 1045.42 Q1265.44 1046.42 1265.27 1048.25 L1272.87 1048.24 Z\" fill=\"#000000\" fill-rule=\"evenodd\" fill-opacity=\"1\" /><path clip-path=\"url(#clip030)\" d=\"M1286 1044.91 Q1285.64 1044.7 1285.22 1044.61 Q1284.8 1044.5 1284.29 1044.5 Q1282.48 1044.5 1281.51 1045.68 Q1280.55 1046.85 1280.55 1049.05 L1280.55 1055.88 L1278.41 1055.88 L1278.41 1042.92 L1280.55 1042.92 L1280.55 1044.93 Q1281.22 1043.75 1282.3 1043.18 Q1283.37 1042.6 1284.91 1042.6 Q1285.13 1042.6 1285.4 1042.64 Q1285.67 1042.66 1285.99 1042.72 L1286 1044.91 Z\" fill=\"#000000\" fill-rule=\"evenodd\" fill-opacity=\"1\" /><path clip-path=\"url(#clip030)\" d=\"M1025.91 1042.9 Q1023.37 1042.9 1021.86 1044.8 Q1020.37 1046.7 1020.37 1049.98 Q1020.37 1053.24 1021.86 1055.14 Q1023.37 1057.04 1025.91 1057.04 Q1028.46 1057.04 1029.94 1055.14 Q1031.43 1053.24 1031.43 1049.98 Q1031.43 1046.7 1029.94 1044.8 Q1028.46 1042.9 1025.91 1042.9 M1025.91 1041.01 Q1029.55 1041.01 1031.72 1043.45 Q1033.9 1045.88 1033.9 1049.98 Q1033.9 1054.06 1031.72 1056.5 Q1029.55 1058.93 1025.91 1058.93 Q1022.27 1058.93 1020.08 1056.5 Q1017.9 1054.07 1017.9 1049.98 Q1017.9 1045.88 1020.08 1043.45 Q1022.27 1041.01 1025.91 1041.01 Z\" fill=\"#000000\" fill-rule=\"evenodd\" fill-opacity=\"1\" /><path clip-path=\"url(#clip030)\" d=\"M1044.03 1040.59 L1044.03 1042.36 L1041.99 1042.36 Q1040.84 1042.36 1040.39 1042.82 Q1039.95 1043.29 1039.95 1044.49 L1039.95 1045.64 L1043.46 1045.64 L1043.46 1047.29 L1039.95 1047.29 L1039.95 1058.6 L1037.81 1058.6 L1037.81 1047.29 L1035.77 1047.29 L1035.77 1045.64 L1037.81 1045.64 L1037.81 1044.73 Q1037.81 1042.57 1038.82 1041.58 Q1039.82 1040.59 1042.01 1040.59 L1044.03 1040.59 Z\" fill=\"#000000\" fill-rule=\"evenodd\" fill-opacity=\"1\" /><path clip-path=\"url(#clip030)\" d=\"M1052.37 1040.59 L1052.37 1042.36 L1050.33 1042.36 Q1049.19 1042.36 1048.74 1042.82 Q1048.3 1043.29 1048.3 1044.49 L1048.3 1045.64 L1051.8 1045.64 L1051.8 1047.29 L1048.3 1047.29 L1048.3 1058.6 L1046.16 1058.6 L1046.16 1047.29 L1044.12 1047.29 L1044.12 1045.64 L1046.16 1045.64 L1046.16 1044.73 Q1046.16 1042.57 1047.16 1041.58 Q1048.17 1040.59 1050.36 1040.59 L1052.37 1040.59 Z\" fill=\"#000000\" fill-rule=\"evenodd\" fill-opacity=\"1\" /><path clip-path=\"url(#clip030)\" d=\"M1062.42 1046.02 L1062.42 1048.03 Q1061.51 1047.57 1060.54 1047.34 Q1059.57 1047.11 1058.53 1047.11 Q1056.94 1047.11 1056.14 1047.59 Q1055.36 1048.08 1055.36 1049.05 Q1055.36 1049.79 1055.92 1050.22 Q1056.49 1050.64 1058.2 1051.02 L1058.93 1051.18 Q1061.2 1051.67 1062.15 1052.56 Q1063.11 1053.44 1063.11 1055.02 Q1063.11 1056.83 1061.68 1057.88 Q1060.25 1058.93 1057.75 1058.93 Q1056.71 1058.93 1055.58 1058.73 Q1054.45 1058.53 1053.2 1058.12 L1053.2 1055.92 Q1054.38 1056.54 1055.53 1056.85 Q1056.68 1057.15 1057.8 1057.15 Q1059.3 1057.15 1060.11 1056.64 Q1060.92 1056.12 1060.92 1055.18 Q1060.92 1054.32 1060.33 1053.85 Q1059.76 1053.39 1057.78 1052.96 L1057.04 1052.79 Q1055.06 1052.37 1054.18 1051.51 Q1053.3 1050.65 1053.3 1049.14 Q1053.3 1047.31 1054.59 1046.32 Q1055.89 1045.32 1058.27 1045.32 Q1059.45 1045.32 1060.5 1045.5 Q1061.54 1045.67 1062.42 1046.02 Z\" fill=\"#000000\" fill-rule=\"evenodd\" fill-opacity=\"1\" /><path clip-path=\"url(#clip030)\" d=\"M1077.59 1051.58 L1077.59 1052.63 L1067.8 1052.63 Q1067.94 1054.82 1069.12 1055.98 Q1070.31 1057.13 1072.43 1057.13 Q1073.66 1057.13 1074.8 1056.83 Q1075.96 1056.53 1077.09 1055.92 L1077.09 1057.94 Q1075.95 1058.42 1074.74 1058.68 Q1073.54 1058.93 1072.3 1058.93 Q1069.2 1058.93 1067.38 1057.13 Q1065.58 1055.32 1065.58 1052.24 Q1065.58 1049.06 1067.29 1047.2 Q1069.01 1045.32 1071.93 1045.32 Q1074.55 1045.32 1076.06 1047.01 Q1077.59 1048.69 1077.59 1051.58 M1075.46 1050.96 Q1075.44 1049.21 1074.48 1048.17 Q1073.53 1047.13 1071.95 1047.13 Q1070.17 1047.13 1069.1 1048.14 Q1068.03 1049.14 1067.87 1050.97 L1075.46 1050.96 Z\" fill=\"#000000\" fill-rule=\"evenodd\" fill-opacity=\"1\" /><path clip-path=\"url(#clip030)\" d=\"M1083.19 1041.95 L1083.19 1045.64 L1087.58 1045.64 L1087.58 1047.29 L1083.19 1047.29 L1083.19 1054.33 Q1083.19 1055.91 1083.62 1056.36 Q1084.06 1056.82 1085.39 1056.82 L1087.58 1056.82 L1087.58 1058.6 L1085.39 1058.6 Q1082.93 1058.6 1081.99 1057.68 Q1081.05 1056.76 1081.05 1054.33 L1081.05 1047.29 L1079.49 1047.29 L1079.49 1045.64 L1081.05 1045.64 L1081.05 1041.95 L1083.19 1041.95 Z\" fill=\"#000000\" fill-rule=\"evenodd\" fill-opacity=\"1\" /><path clip-path=\"url(#clip030)\" d=\"M1090.47 1041.32 L1092.81 1041.32 L1092.81 1058.6 L1090.47 1058.6 L1090.47 1041.32 Z\" fill=\"#000000\" fill-rule=\"evenodd\" fill-opacity=\"1\" /><path clip-path=\"url(#clip030)\" d=\"M1108.15 1050.77 L1108.15 1058.6 L1106.02 1058.6 L1106.02 1050.84 Q1106.02 1049 1105.3 1048.09 Q1104.58 1047.17 1103.15 1047.17 Q1101.42 1047.17 1100.43 1048.27 Q1099.43 1049.37 1099.43 1051.27 L1099.43 1058.6 L1097.29 1058.6 L1097.29 1045.64 L1099.43 1045.64 L1099.43 1047.65 Q1100.19 1046.48 1101.22 1045.9 Q1102.27 1045.32 1103.62 1045.32 Q1105.85 1045.32 1107 1046.71 Q1108.15 1048.09 1108.15 1050.77 Z\" fill=\"#000000\" fill-rule=\"evenodd\" fill-opacity=\"1\" /><path clip-path=\"url(#clip030)\" d=\"M1114.5 1041.95 L1114.5 1045.64 L1118.89 1045.64 L1118.89 1047.29 L1114.5 1047.29 L1114.5 1054.33 Q1114.5 1055.91 1114.93 1056.36 Q1115.37 1056.82 1116.7 1056.82 L1118.89 1056.82 L1118.89 1058.6 L1116.7 1058.6 Q1114.23 1058.6 1113.3 1057.68 Q1112.36 1056.76 1112.36 1054.33 L1112.36 1047.29 L1110.8 1047.29 L1110.8 1045.64 L1112.36 1045.64 L1112.36 1041.95 L1114.5 1041.95 Z\" fill=\"#000000\" fill-rule=\"evenodd\" fill-opacity=\"1\" /><path clip-path=\"url(#clip030)\" d=\"M1132.78 1051.58 L1132.78 1052.63 L1122.98 1052.63 Q1123.12 1054.82 1124.3 1055.98 Q1125.5 1057.13 1127.61 1057.13 Q1128.84 1057.13 1129.99 1056.83 Q1131.14 1056.53 1132.28 1055.92 L1132.28 1057.94 Q1131.13 1058.42 1129.93 1058.68 Q1128.72 1058.93 1127.49 1058.93 Q1124.38 1058.93 1122.57 1057.13 Q1120.76 1055.32 1120.76 1052.24 Q1120.76 1049.06 1122.47 1047.2 Q1124.2 1045.32 1127.12 1045.32 Q1129.73 1045.32 1131.25 1047.01 Q1132.78 1048.69 1132.78 1051.58 M1130.65 1050.96 Q1130.62 1049.21 1129.66 1048.17 Q1128.71 1047.13 1127.14 1047.13 Q1125.36 1047.13 1124.28 1048.14 Q1123.22 1049.14 1123.05 1050.97 L1130.65 1050.96 Z\" fill=\"#000000\" fill-rule=\"evenodd\" fill-opacity=\"1\" /><path clip-path=\"url(#clip030)\" d=\"M1144.8 1051.97 Q1144.8 1049.65 1143.84 1048.38 Q1142.89 1047.11 1141.17 1047.11 Q1139.45 1047.11 1138.49 1048.38 Q1137.54 1049.65 1137.54 1051.97 Q1137.54 1054.27 1138.49 1055.54 Q1139.45 1056.82 1141.17 1056.82 Q1142.89 1056.82 1143.84 1055.54 Q1144.8 1054.27 1144.8 1051.97 M1146.93 1056.99 Q1146.93 1060.3 1145.46 1061.91 Q1143.99 1063.53 1140.96 1063.53 Q1139.84 1063.53 1138.84 1063.36 Q1137.85 1063.19 1136.91 1062.85 L1136.91 1060.77 Q1137.85 1061.28 1138.76 1061.53 Q1139.67 1061.77 1140.62 1061.77 Q1142.72 1061.77 1143.76 1060.67 Q1144.8 1059.58 1144.8 1057.37 L1144.8 1056.32 Q1144.14 1057.46 1143.11 1058.03 Q1142.08 1058.6 1140.65 1058.6 Q1138.26 1058.6 1136.8 1056.78 Q1135.35 1054.96 1135.35 1051.97 Q1135.35 1048.96 1136.8 1047.14 Q1138.26 1045.32 1140.65 1045.32 Q1142.08 1045.32 1143.11 1045.89 Q1144.14 1046.46 1144.8 1047.6 L1144.8 1045.64 L1146.93 1045.64 L1146.93 1056.99 Z\" fill=\"#000000\" fill-rule=\"evenodd\" fill-opacity=\"1\" /><path clip-path=\"url(#clip030)\" d=\"M1162.41 1051.58 L1162.41 1052.63 L1152.61 1052.63 Q1152.75 1054.82 1153.93 1055.98 Q1155.13 1057.13 1157.24 1057.13 Q1158.47 1057.13 1159.62 1056.83 Q1160.77 1056.53 1161.91 1055.92 L1161.91 1057.94 Q1160.76 1058.42 1159.56 1058.68 Q1158.35 1058.93 1157.12 1058.93 Q1154.01 1058.93 1152.2 1057.13 Q1150.39 1055.32 1150.39 1052.24 Q1150.39 1049.06 1152.1 1047.2 Q1153.83 1045.32 1156.75 1045.32 Q1159.36 1045.32 1160.88 1047.01 Q1162.41 1048.69 1162.41 1051.58 M1160.28 1050.96 Q1160.25 1049.21 1159.29 1048.17 Q1158.34 1047.13 1156.77 1047.13 Q1154.99 1047.13 1153.91 1048.14 Q1152.84 1049.14 1152.68 1050.97 L1160.28 1050.96 Z\" fill=\"#000000\" fill-rule=\"evenodd\" fill-opacity=\"1\" /><path clip-path=\"url(#clip030)\" d=\"M1173.41 1047.63 Q1173.05 1047.42 1172.62 1047.33 Q1172.21 1047.22 1171.7 1047.22 Q1169.89 1047.22 1168.92 1048.4 Q1167.96 1049.57 1167.96 1051.77 L1167.96 1058.6 L1165.82 1058.6 L1165.82 1045.64 L1167.96 1045.64 L1167.96 1047.65 Q1168.63 1046.47 1169.71 1045.9 Q1170.78 1045.32 1172.32 1045.32 Q1172.54 1045.32 1172.81 1045.36 Q1173.08 1045.38 1173.4 1045.44 L1173.41 1047.63 Z\" fill=\"#000000\" fill-rule=\"evenodd\" fill-opacity=\"1\" /><path clip-path=\"url(#clip030)\" d=\"M1455.34 1055.55 L1455.34 1057.83 Q1454.01 1057.2 1452.83 1056.88 Q1451.65 1056.57 1450.55 1056.57 Q1448.64 1056.57 1447.6 1057.31 Q1446.57 1058.05 1446.57 1059.42 Q1446.57 1060.56 1447.25 1061.15 Q1447.95 1061.73 1449.87 1062.09 L1451.28 1062.38 Q1453.9 1062.88 1455.14 1064.14 Q1456.39 1065.39 1456.39 1067.5 Q1456.39 1070.01 1454.7 1071.31 Q1453.02 1072.6 1449.76 1072.6 Q1448.54 1072.6 1447.15 1072.32 Q1445.77 1072.05 1444.29 1071.5 L1444.29 1069.09 Q1445.71 1069.89 1447.08 1070.3 Q1448.45 1070.7 1449.76 1070.7 Q1451.77 1070.7 1452.86 1069.92 Q1453.94 1069.13 1453.94 1067.67 Q1453.94 1066.4 1453.16 1065.68 Q1452.38 1064.96 1450.6 1064.6 L1449.17 1064.33 Q1446.56 1063.81 1445.39 1062.69 Q1444.22 1061.58 1444.22 1059.6 Q1444.22 1057.31 1445.83 1055.99 Q1447.45 1054.67 1450.29 1054.67 Q1451.5 1054.67 1452.76 1054.89 Q1454.02 1055.11 1455.34 1055.55 Z\" fill=\"#000000\" fill-rule=\"evenodd\" fill-opacity=\"1\" /><path clip-path=\"url(#clip030)\" d=\"M1459.94 1059.3 L1462.07 1059.3 L1462.07 1072.27 L1459.94 1072.27 L1459.94 1059.3 M1459.94 1054.26 L1462.07 1054.26 L1462.07 1056.95 L1459.94 1056.95 L1459.94 1054.26 Z\" fill=\"#000000\" fill-rule=\"evenodd\" fill-opacity=\"1\" /><path clip-path=\"url(#clip030)\" d=\"M1475.05 1065.63 Q1475.05 1063.32 1474.09 1062.05 Q1473.14 1060.77 1471.42 1060.77 Q1469.71 1060.77 1468.75 1062.05 Q1467.8 1063.32 1467.8 1065.63 Q1467.8 1067.94 1468.75 1069.21 Q1469.71 1070.48 1471.42 1070.48 Q1473.14 1070.48 1474.09 1069.21 Q1475.05 1067.94 1475.05 1065.63 M1477.18 1070.66 Q1477.18 1073.97 1475.71 1075.58 Q1474.24 1077.2 1471.21 1077.2 Q1470.09 1077.2 1469.09 1077.02 Q1468.1 1076.86 1467.16 1076.51 L1467.16 1074.44 Q1468.1 1074.95 1469.01 1075.19 Q1469.93 1075.44 1470.88 1075.44 Q1472.97 1075.44 1474.01 1074.34 Q1475.05 1073.25 1475.05 1071.04 L1475.05 1069.99 Q1474.39 1071.13 1473.36 1071.7 Q1472.33 1072.27 1470.9 1072.27 Q1468.51 1072.27 1467.06 1070.45 Q1465.6 1068.63 1465.6 1065.63 Q1465.6 1062.62 1467.06 1060.81 Q1468.51 1058.99 1470.9 1058.99 Q1472.33 1058.99 1473.36 1059.56 Q1474.39 1060.12 1475.05 1061.27 L1475.05 1059.3 L1477.18 1059.3 L1477.18 1070.66 Z\" fill=\"#000000\" fill-rule=\"evenodd\" fill-opacity=\"1\" /><path clip-path=\"url(#clip030)\" d=\"M1492.35 1064.44 L1492.35 1072.27 L1490.22 1072.27 L1490.22 1064.51 Q1490.22 1062.67 1489.5 1061.76 Q1488.78 1060.84 1487.35 1060.84 Q1485.62 1060.84 1484.63 1061.94 Q1483.63 1063.04 1483.63 1064.94 L1483.63 1072.27 L1481.49 1072.27 L1481.49 1059.3 L1483.63 1059.3 L1483.63 1061.32 Q1484.39 1060.15 1485.42 1059.57 Q1486.47 1058.99 1487.82 1058.99 Q1490.05 1058.99 1491.2 1060.38 Q1492.35 1061.76 1492.35 1064.44 Z\" fill=\"#000000\" fill-rule=\"evenodd\" fill-opacity=\"1\" /><path clip-path=\"url(#clip030)\" d=\"M1507.68 1065.25 L1507.68 1066.29 L1497.89 1066.29 Q1498.03 1068.49 1499.21 1069.65 Q1500.4 1070.8 1502.52 1070.8 Q1503.75 1070.8 1504.89 1070.49 Q1506.05 1070.19 1507.18 1069.59 L1507.18 1071.61 Q1506.04 1072.09 1504.83 1072.35 Q1503.63 1072.6 1502.39 1072.6 Q1499.29 1072.6 1497.47 1070.8 Q1495.67 1068.99 1495.67 1065.91 Q1495.67 1062.73 1497.38 1060.87 Q1499.1 1058.99 1502.02 1058.99 Q1504.64 1058.99 1506.15 1060.68 Q1507.68 1062.36 1507.68 1065.25 M1505.55 1064.63 Q1505.53 1062.88 1504.57 1061.84 Q1503.62 1060.8 1502.04 1060.8 Q1500.26 1060.8 1499.19 1061.8 Q1498.12 1062.81 1497.96 1064.64 L1505.55 1064.63 Z\" fill=\"#000000\" fill-rule=\"evenodd\" fill-opacity=\"1\" /><path clip-path=\"url(#clip030)\" d=\"M1519.71 1061.27 L1519.71 1054.26 L1521.84 1054.26 L1521.84 1072.27 L1519.71 1072.27 L1519.71 1070.32 Q1519.04 1071.48 1518.01 1072.05 Q1516.99 1072.6 1515.55 1072.6 Q1513.2 1072.6 1511.72 1070.73 Q1510.25 1068.85 1510.25 1065.8 Q1510.25 1062.74 1511.72 1060.87 Q1513.2 1058.99 1515.55 1058.99 Q1516.99 1058.99 1518.01 1059.56 Q1519.04 1060.11 1519.71 1061.27 M1512.45 1065.8 Q1512.45 1068.15 1513.41 1069.49 Q1514.38 1070.82 1516.07 1070.82 Q1517.76 1070.82 1518.73 1069.49 Q1519.71 1068.15 1519.71 1065.8 Q1519.71 1063.45 1518.73 1062.12 Q1517.76 1060.77 1516.07 1060.77 Q1514.38 1060.77 1513.41 1062.12 Q1512.45 1063.45 1512.45 1065.8 Z\" fill=\"#000000\" fill-rule=\"evenodd\" fill-opacity=\"1\" /><path clip-path=\"url(#clip030)\" d=\"M1399.45 1324.56 L1399.45 1330.89 L1403.2 1330.89 Q1405.08 1330.89 1405.98 1330.11 Q1406.9 1329.33 1406.9 1327.72 Q1406.9 1326.1 1405.98 1325.33 Q1405.08 1324.56 1403.2 1324.56 L1399.45 1324.56 M1399.45 1317.45 L1399.45 1322.66 L1402.91 1322.66 Q1404.62 1322.66 1405.45 1322.02 Q1406.3 1321.37 1406.3 1320.05 Q1406.3 1318.75 1405.45 1318.1 Q1404.62 1317.45 1402.91 1317.45 L1399.45 1317.45 M1397.11 1315.53 L1403.08 1315.53 Q1405.75 1315.53 1407.2 1316.64 Q1408.65 1317.75 1408.65 1319.8 Q1408.65 1321.39 1407.91 1322.32 Q1407.17 1323.26 1405.73 1323.49 Q1407.45 1323.86 1408.4 1325.04 Q1409.36 1326.21 1409.36 1327.97 Q1409.36 1330.29 1407.79 1331.55 Q1406.22 1332.81 1403.31 1332.81 L1397.11 1332.81 L1397.11 1315.53 Z\" fill=\"#000000\" fill-rule=\"evenodd\" fill-opacity=\"1\" /><path clip-path=\"url(#clip030)\" d=\"M1413.28 1319.85 L1415.41 1319.85 L1415.41 1332.81 L1413.28 1332.81 L1413.28 1319.85 M1413.28 1314.8 L1415.41 1314.8 L1415.41 1317.5 L1413.28 1317.5 L1413.28 1314.8 Z\" fill=\"#000000\" fill-rule=\"evenodd\" fill-opacity=\"1\" /><path clip-path=\"url(#clip030)\" d=\"M1428.39 1326.18 Q1428.39 1323.86 1427.43 1322.59 Q1426.48 1321.32 1424.76 1321.32 Q1423.04 1321.32 1422.08 1322.59 Q1421.13 1323.86 1421.13 1326.18 Q1421.13 1328.48 1422.08 1329.75 Q1423.04 1331.03 1424.76 1331.03 Q1426.48 1331.03 1427.43 1329.75 Q1428.39 1328.48 1428.39 1326.18 M1430.52 1331.2 Q1430.52 1334.51 1429.05 1336.12 Q1427.58 1337.74 1424.55 1337.74 Q1423.43 1337.74 1422.43 1337.57 Q1421.44 1337.4 1420.5 1337.06 L1420.5 1334.99 Q1421.44 1335.49 1422.35 1335.74 Q1423.26 1335.98 1424.21 1335.98 Q1426.31 1335.98 1427.35 1334.88 Q1428.39 1333.79 1428.39 1331.58 L1428.39 1330.53 Q1427.73 1331.67 1426.7 1332.24 Q1425.67 1332.81 1424.24 1332.81 Q1421.85 1332.81 1420.39 1330.99 Q1418.94 1329.18 1418.94 1326.18 Q1418.94 1323.17 1420.39 1321.35 Q1421.85 1319.53 1424.24 1319.53 Q1425.67 1319.53 1426.7 1320.1 Q1427.73 1320.67 1428.39 1321.81 L1428.39 1319.85 L1430.52 1319.85 L1430.52 1331.2 Z\" fill=\"#000000\" fill-rule=\"evenodd\" fill-opacity=\"1\" /><path clip-path=\"url(#clip030)\" d=\"M1435 1315.53 L1437.34 1315.53 L1437.34 1332.81 L1435 1332.81 L1435 1315.53 Z\" fill=\"#000000\" fill-rule=\"evenodd\" fill-opacity=\"1\" /><path clip-path=\"url(#clip030)\" d=\"M1452.67 1324.99 L1452.67 1332.81 L1450.54 1332.81 L1450.54 1325.05 Q1450.54 1323.21 1449.83 1322.3 Q1449.11 1321.39 1447.67 1321.39 Q1445.95 1321.39 1444.95 1322.49 Q1443.96 1323.58 1443.96 1325.48 L1443.96 1332.81 L1441.82 1332.81 L1441.82 1319.85 L1443.96 1319.85 L1443.96 1321.86 Q1444.72 1320.69 1445.75 1320.11 Q1446.79 1319.53 1448.15 1319.53 Q1450.38 1319.53 1451.53 1320.92 Q1452.67 1322.3 1452.67 1324.99 Z\" fill=\"#000000\" fill-rule=\"evenodd\" fill-opacity=\"1\" /><path clip-path=\"url(#clip030)\" d=\"M1459.03 1316.17 L1459.03 1319.85 L1463.41 1319.85 L1463.41 1321.5 L1459.03 1321.5 L1459.03 1328.54 Q1459.03 1330.12 1459.46 1330.58 Q1459.9 1331.03 1461.23 1331.03 L1463.41 1331.03 L1463.41 1332.81 L1461.23 1332.81 Q1458.76 1332.81 1457.82 1331.89 Q1456.89 1330.97 1456.89 1328.54 L1456.89 1321.5 L1455.32 1321.5 L1455.32 1319.85 L1456.89 1319.85 L1456.89 1316.17 L1459.03 1316.17 Z\" fill=\"#000000\" fill-rule=\"evenodd\" fill-opacity=\"1\" /><path clip-path=\"url(#clip030)\" d=\"M1595.93 1329.04 L1598.26 1329.04 L1598.26 1346.32 L1595.93 1346.32 L1595.93 1329.04 Z\" fill=\"#000000\" fill-rule=\"evenodd\" fill-opacity=\"1\" /><path clip-path=\"url(#clip030)\" d=\"M1613.6 1338.5 L1613.6 1346.32 L1611.47 1346.32 L1611.47 1338.57 Q1611.47 1336.73 1610.75 1335.81 Q1610.03 1334.9 1608.6 1334.9 Q1606.88 1334.9 1605.88 1336 Q1604.88 1337.1 1604.88 1339 L1604.88 1346.32 L1602.74 1346.32 L1602.74 1333.36 L1604.88 1333.36 L1604.88 1335.37 Q1605.65 1334.2 1606.68 1333.63 Q1607.72 1333.05 1609.07 1333.05 Q1611.31 1333.05 1612.45 1334.44 Q1613.6 1335.81 1613.6 1338.5 Z\" fill=\"#000000\" fill-rule=\"evenodd\" fill-opacity=\"1\" /><path clip-path=\"url(#clip030)\" d=\"M1619.95 1329.68 L1619.95 1333.36 L1624.34 1333.36 L1624.34 1335.01 L1619.95 1335.01 L1619.95 1342.05 Q1619.95 1343.64 1620.38 1344.09 Q1620.82 1344.54 1622.15 1344.54 L1624.34 1344.54 L1624.34 1346.32 L1622.15 1346.32 Q1619.69 1346.32 1618.75 1345.41 Q1617.81 1344.48 1617.81 1342.05 L1617.81 1335.01 L1616.25 1335.01 L1616.25 1333.36 L1617.81 1333.36 L1617.81 1329.68 L1619.95 1329.68 Z\" fill=\"#000000\" fill-rule=\"evenodd\" fill-opacity=\"1\" /><path clip-path=\"url(#clip030)\" d=\"M1627.85 1344.36 L1631.67 1344.36 L1631.67 1331.17 L1627.51 1332.01 L1627.51 1329.88 L1631.64 1329.04 L1633.98 1329.04 L1633.98 1344.36 L1637.8 1344.36 L1637.8 1346.32 L1627.85 1346.32 L1627.85 1344.36 Z\" fill=\"#000000\" fill-rule=\"evenodd\" fill-opacity=\"1\" /><path clip-path=\"url(#clip030)\" d=\"M1644.54 1344.36 L1652.7 1344.36 L1652.7 1346.32 L1641.72 1346.32 L1641.72 1344.36 Q1643.06 1342.98 1645.35 1340.66 Q1647.65 1338.34 1648.24 1337.67 Q1649.36 1336.4 1649.8 1335.54 Q1650.25 1334.66 1650.25 1333.81 Q1650.25 1332.43 1649.28 1331.57 Q1648.32 1330.7 1646.77 1330.7 Q1645.67 1330.7 1644.44 1331.08 Q1643.23 1331.46 1641.84 1332.24 L1641.84 1329.88 Q1643.25 1329.31 1644.48 1329.02 Q1645.71 1328.73 1646.72 1328.73 Q1649.41 1328.73 1651.01 1330.07 Q1652.6 1331.42 1652.6 1333.66 Q1652.6 1334.73 1652.2 1335.69 Q1651.81 1336.64 1650.75 1337.93 Q1650.46 1338.27 1648.91 1339.88 Q1647.36 1341.47 1644.54 1344.36 Z\" fill=\"#000000\" fill-rule=\"evenodd\" fill-opacity=\"1\" /><path clip-path=\"url(#clip030)\" d=\"M1662.6 1338.12 Q1660.94 1338.12 1659.98 1339.01 Q1659.03 1339.9 1659.03 1341.46 Q1659.03 1343.02 1659.98 1343.92 Q1660.94 1344.81 1662.6 1344.81 Q1664.27 1344.81 1665.23 1343.92 Q1666.19 1343.01 1666.19 1341.46 Q1666.19 1339.9 1665.23 1339.01 Q1664.28 1338.12 1662.6 1338.12 M1660.27 1337.12 Q1658.76 1336.75 1657.92 1335.72 Q1657.08 1334.69 1657.08 1333.21 Q1657.08 1331.14 1658.55 1329.93 Q1660.03 1328.73 1662.6 1328.73 Q1665.18 1328.73 1666.65 1329.93 Q1668.12 1331.14 1668.12 1333.21 Q1668.12 1334.69 1667.28 1335.72 Q1666.45 1336.75 1664.95 1337.12 Q1666.64 1337.51 1667.58 1338.66 Q1668.53 1339.81 1668.53 1341.46 Q1668.53 1343.97 1666.99 1345.32 Q1665.46 1346.66 1662.6 1346.66 Q1659.75 1346.66 1658.21 1345.32 Q1656.68 1343.97 1656.68 1341.46 Q1656.68 1339.81 1657.63 1338.66 Q1658.58 1337.51 1660.27 1337.12 M1659.41 1333.43 Q1659.41 1334.77 1660.24 1335.52 Q1661.09 1336.28 1662.6 1336.28 Q1664.11 1336.28 1664.95 1335.52 Q1665.81 1334.77 1665.81 1333.43 Q1665.81 1332.09 1664.95 1331.33 Q1664.11 1330.58 1662.6 1330.58 Q1661.09 1330.58 1660.24 1331.33 Q1659.41 1332.09 1659.41 1333.43 Z\" fill=\"#000000\" fill-rule=\"evenodd\" fill-opacity=\"1\" /><path clip-path=\"url(#clip030)\" d=\"M1496.78 1323.19 L1499.12 1323.19 L1499.12 1340.47 L1496.78 1340.47 L1496.78 1323.19 Z\" fill=\"#000000\" fill-rule=\"evenodd\" fill-opacity=\"1\" /><path clip-path=\"url(#clip030)\" d=\"M1514.45 1332.65 L1514.45 1340.47 L1512.33 1340.47 L1512.33 1332.72 Q1512.33 1330.88 1511.61 1329.96 Q1510.89 1329.05 1509.45 1329.05 Q1507.73 1329.05 1506.73 1330.15 Q1505.74 1331.25 1505.74 1333.15 L1505.74 1340.47 L1503.6 1340.47 L1503.6 1327.51 L1505.74 1327.51 L1505.74 1329.52 Q1506.5 1328.36 1507.53 1327.78 Q1508.58 1327.2 1509.93 1327.2 Q1512.16 1327.2 1513.31 1328.59 Q1514.45 1329.96 1514.45 1332.65 Z\" fill=\"#000000\" fill-rule=\"evenodd\" fill-opacity=\"1\" /><path clip-path=\"url(#clip030)\" d=\"M1520.81 1323.83 L1520.81 1327.51 L1525.2 1327.51 L1525.2 1329.17 L1520.81 1329.17 L1520.81 1336.2 Q1520.81 1337.79 1521.24 1338.24 Q1521.68 1338.69 1523.01 1338.69 L1525.2 1338.69 L1525.2 1340.47 L1523.01 1340.47 Q1520.54 1340.47 1519.61 1339.56 Q1518.67 1338.63 1518.67 1336.2 L1518.67 1329.17 L1517.11 1329.17 L1517.11 1327.51 L1518.67 1327.51 L1518.67 1323.83 L1520.81 1323.83 Z\" fill=\"#000000\" fill-rule=\"evenodd\" fill-opacity=\"1\" /><path clip-path=\"url(#clip030)\" d=\"M1528.7 1338.51 L1532.52 1338.51 L1532.52 1325.32 L1528.37 1326.16 L1528.37 1324.03 L1532.5 1323.19 L1534.84 1323.19 L1534.84 1338.51 L1538.66 1338.51 L1538.66 1340.47 L1528.7 1340.47 L1528.7 1338.51 Z\" fill=\"#000000\" fill-rule=\"evenodd\" fill-opacity=\"1\" /><path clip-path=\"url(#clip030)\" d=\"M1548.67 1330.9 Q1547.09 1330.9 1546.17 1331.98 Q1545.25 1333.05 1545.25 1334.93 Q1545.25 1336.79 1546.17 1337.88 Q1547.09 1338.96 1548.67 1338.96 Q1550.24 1338.96 1551.16 1337.88 Q1552.08 1336.79 1552.08 1334.93 Q1552.08 1333.05 1551.16 1331.98 Q1550.24 1330.9 1548.67 1330.9 M1553.31 1323.58 L1553.31 1325.71 Q1552.43 1325.29 1551.53 1325.07 Q1550.63 1324.85 1549.76 1324.85 Q1547.44 1324.85 1546.21 1326.41 Q1545 1327.97 1544.82 1331.13 Q1545.51 1330.13 1546.54 1329.59 Q1547.57 1329.05 1548.81 1329.05 Q1551.41 1329.05 1552.92 1330.64 Q1554.43 1332.21 1554.43 1334.93 Q1554.43 1337.59 1552.86 1339.2 Q1551.28 1340.81 1548.67 1340.81 Q1545.67 1340.81 1544.08 1338.52 Q1542.5 1336.21 1542.5 1331.85 Q1542.5 1327.75 1544.44 1325.32 Q1546.39 1322.88 1549.66 1322.88 Q1550.54 1322.88 1551.43 1323.05 Q1552.34 1323.23 1553.31 1323.58 Z\" fill=\"#000000\" fill-rule=\"evenodd\" fill-opacity=\"1\" /><path clip-path=\"url(#clip030)\" d=\"M1307.39 1323.36 L1309.72 1323.36 L1309.72 1340.64 L1307.39 1340.64 L1307.39 1323.36 Z\" fill=\"#000000\" fill-rule=\"evenodd\" fill-opacity=\"1\" /><path clip-path=\"url(#clip030)\" d=\"M1325.06 1332.81 L1325.06 1340.64 L1322.93 1340.64 L1322.93 1332.88 Q1322.93 1331.04 1322.21 1330.13 Q1321.5 1329.21 1320.06 1329.21 Q1318.34 1329.21 1317.34 1330.31 Q1316.35 1331.41 1316.35 1333.31 L1316.35 1340.64 L1314.2 1340.64 L1314.2 1327.67 L1316.35 1327.67 L1316.35 1329.69 Q1317.11 1328.52 1318.14 1327.94 Q1319.18 1327.36 1320.54 1327.36 Q1322.77 1327.36 1323.91 1328.75 Q1325.06 1330.13 1325.06 1332.81 Z\" fill=\"#000000\" fill-rule=\"evenodd\" fill-opacity=\"1\" /><path clip-path=\"url(#clip030)\" d=\"M1331.41 1323.99 L1331.41 1327.67 L1335.8 1327.67 L1335.8 1329.33 L1331.41 1329.33 L1331.41 1336.37 Q1331.41 1337.95 1331.84 1338.4 Q1332.28 1338.85 1333.61 1338.85 L1335.8 1338.85 L1335.8 1340.64 L1333.61 1340.64 Q1331.15 1340.64 1330.21 1339.72 Q1329.27 1338.8 1329.27 1336.37 L1329.27 1329.33 L1327.71 1329.33 L1327.71 1327.67 L1329.27 1327.67 L1329.27 1323.99 L1331.41 1323.99 Z\" fill=\"#000000\" fill-rule=\"evenodd\" fill-opacity=\"1\" /><path clip-path=\"url(#clip030)\" d=\"M1345.99 1331.32 Q1347.66 1331.68 1348.6 1332.81 Q1349.55 1333.95 1349.55 1335.61 Q1349.55 1338.17 1347.79 1339.57 Q1346.03 1340.97 1342.79 1340.97 Q1341.7 1340.97 1340.55 1340.75 Q1339.4 1340.54 1338.17 1340.12 L1338.17 1337.86 Q1339.15 1338.43 1340.3 1338.72 Q1341.46 1339.01 1342.72 1339.01 Q1344.92 1339.01 1346.07 1338.14 Q1347.22 1337.27 1347.22 1335.61 Q1347.22 1334.09 1346.15 1333.23 Q1345.08 1332.36 1343.17 1332.36 L1341.16 1332.36 L1341.16 1330.44 L1343.27 1330.44 Q1344.99 1330.44 1345.91 1329.76 Q1346.82 1329.06 1346.82 1327.77 Q1346.82 1326.44 1345.87 1325.73 Q1344.93 1325.01 1343.17 1325.01 Q1342.21 1325.01 1341.11 1325.22 Q1340.01 1325.43 1338.69 1325.87 L1338.69 1323.79 Q1340.03 1323.41 1341.18 1323.23 Q1342.35 1323.04 1343.38 1323.04 Q1346.04 1323.04 1347.6 1324.26 Q1349.15 1325.46 1349.15 1327.52 Q1349.15 1328.96 1348.32 1329.95 Q1347.5 1330.94 1345.99 1331.32 Z\" fill=\"#000000\" fill-rule=\"evenodd\" fill-opacity=\"1\" /><path clip-path=\"url(#clip030)\" d=\"M1356 1338.67 L1364.16 1338.67 L1364.16 1340.64 L1353.19 1340.64 L1353.19 1338.67 Q1354.52 1337.29 1356.81 1334.98 Q1359.11 1332.65 1359.7 1331.98 Q1360.82 1330.72 1361.26 1329.85 Q1361.72 1328.97 1361.72 1328.13 Q1361.72 1326.75 1360.74 1325.88 Q1359.78 1325.01 1358.23 1325.01 Q1357.13 1325.01 1355.91 1325.39 Q1354.69 1325.78 1353.3 1326.55 L1353.3 1324.19 Q1354.71 1323.62 1355.94 1323.33 Q1357.17 1323.04 1358.19 1323.04 Q1360.87 1323.04 1362.47 1324.39 Q1364.06 1325.73 1364.06 1327.97 Q1364.06 1329.04 1363.66 1330 Q1363.27 1330.95 1362.21 1332.25 Q1361.92 1332.58 1360.37 1334.19 Q1358.82 1335.79 1356 1338.67 Z\" fill=\"#000000\" fill-rule=\"evenodd\" fill-opacity=\"1\" /><path clip-path=\"url(#clip030)\" d=\"M1708.78 1230.37 L1711.11 1230.37 L1711.11 1247.65 L1708.78 1247.65 L1708.78 1230.37 Z\" fill=\"#000000\" fill-rule=\"evenodd\" fill-opacity=\"1\" /><path clip-path=\"url(#clip030)\" d=\"M1726.45 1239.83 L1726.45 1247.65 L1724.32 1247.65 L1724.32 1239.9 Q1724.32 1238.06 1723.6 1237.14 Q1722.89 1236.23 1721.45 1236.23 Q1719.73 1236.23 1718.73 1237.33 Q1717.73 1238.43 1717.73 1240.33 L1717.73 1247.65 L1715.59 1247.65 L1715.59 1234.69 L1717.73 1234.69 L1717.73 1236.7 Q1718.5 1235.53 1719.53 1234.96 Q1720.57 1234.38 1721.92 1234.38 Q1724.16 1234.38 1725.3 1235.77 Q1726.45 1237.14 1726.45 1239.83 Z\" fill=\"#000000\" fill-rule=\"evenodd\" fill-opacity=\"1\" /><path clip-path=\"url(#clip030)\" d=\"M1732.8 1231.01 L1732.8 1234.69 L1737.19 1234.69 L1737.19 1236.34 L1732.8 1236.34 L1732.8 1243.38 Q1732.8 1244.97 1733.23 1245.42 Q1733.67 1245.87 1735 1245.87 L1737.19 1245.87 L1737.19 1247.65 L1735 1247.65 Q1732.54 1247.65 1731.6 1246.74 Q1730.66 1245.81 1730.66 1243.38 L1730.66 1236.34 L1729.1 1236.34 L1729.1 1234.69 L1730.66 1234.69 L1730.66 1231.01 L1732.8 1231.01 Z\" fill=\"#000000\" fill-rule=\"evenodd\" fill-opacity=\"1\" /><path clip-path=\"url(#clip030)\" d=\"M1745.58 1238.08 Q1744.01 1238.08 1743.08 1239.16 Q1742.17 1240.23 1742.17 1242.11 Q1742.17 1243.97 1743.08 1245.06 Q1744.01 1246.14 1745.58 1246.14 Q1747.16 1246.14 1748.07 1245.06 Q1749 1243.97 1749 1242.11 Q1749 1240.23 1748.07 1239.16 Q1747.16 1238.08 1745.58 1238.08 M1750.22 1230.75 L1750.22 1232.88 Q1749.34 1232.47 1748.44 1232.25 Q1747.55 1232.03 1746.67 1232.03 Q1744.36 1232.03 1743.13 1233.59 Q1741.91 1235.15 1741.74 1238.31 Q1742.42 1237.31 1743.45 1236.77 Q1744.48 1236.23 1745.72 1236.23 Q1748.33 1236.23 1749.83 1237.81 Q1751.35 1239.39 1751.35 1242.11 Q1751.35 1244.77 1749.77 1246.38 Q1748.2 1247.99 1745.58 1247.99 Q1742.58 1247.99 1741 1245.7 Q1739.41 1243.39 1739.41 1239.03 Q1739.41 1234.93 1741.36 1232.5 Q1743.3 1230.06 1746.58 1230.06 Q1747.46 1230.06 1748.35 1230.23 Q1749.25 1230.41 1750.22 1230.75 Z\" fill=\"#000000\" fill-rule=\"evenodd\" fill-opacity=\"1\" /><path clip-path=\"url(#clip030)\" d=\"M1761.8 1232.41 L1755.89 1241.63 L1761.8 1241.63 L1761.8 1232.41 M1761.18 1230.37 L1764.12 1230.37 L1764.12 1241.63 L1766.59 1241.63 L1766.59 1243.58 L1764.12 1243.58 L1764.12 1247.65 L1761.8 1247.65 L1761.8 1243.58 L1754 1243.58 L1754 1241.32 L1761.18 1230.37 Z\" fill=\"#000000\" fill-rule=\"evenodd\" fill-opacity=\"1\" /><path clip-path=\"url(#clip030)\" d=\"M1630.6 1221.91 L1632.94 1221.91 L1632.94 1239.19 L1630.6 1239.19 L1630.6 1221.91 Z\" fill=\"#000000\" fill-rule=\"evenodd\" fill-opacity=\"1\" /><path clip-path=\"url(#clip030)\" d=\"M1648.27 1231.37 L1648.27 1239.19 L1646.15 1239.19 L1646.15 1231.44 Q1646.15 1229.6 1645.43 1228.68 Q1644.71 1227.77 1643.27 1227.77 Q1641.55 1227.77 1640.55 1228.87 Q1639.56 1229.97 1639.56 1231.87 L1639.56 1239.19 L1637.42 1239.19 L1637.42 1226.23 L1639.56 1226.23 L1639.56 1228.24 Q1640.32 1227.07 1641.35 1226.5 Q1642.4 1225.92 1643.75 1225.92 Q1645.98 1225.92 1647.13 1227.31 Q1648.27 1228.68 1648.27 1231.37 Z\" fill=\"#000000\" fill-rule=\"evenodd\" fill-opacity=\"1\" /><path clip-path=\"url(#clip030)\" d=\"M1654.63 1222.55 L1654.63 1226.23 L1659.02 1226.23 L1659.02 1227.88 L1654.63 1227.88 L1654.63 1234.92 Q1654.63 1236.51 1655.06 1236.96 Q1655.5 1237.41 1656.83 1237.41 L1659.02 1237.41 L1659.02 1239.19 L1656.83 1239.19 Q1654.36 1239.19 1653.43 1238.28 Q1652.49 1237.35 1652.49 1234.92 L1652.49 1227.88 L1650.93 1227.88 L1650.93 1226.23 L1652.49 1226.23 L1652.49 1222.55 L1654.63 1222.55 Z\" fill=\"#000000\" fill-rule=\"evenodd\" fill-opacity=\"1\" /><path clip-path=\"url(#clip030)\" d=\"M1667.12 1230.99 Q1665.45 1230.99 1664.49 1231.88 Q1663.54 1232.77 1663.54 1234.33 Q1663.54 1235.89 1664.49 1236.78 Q1665.45 1237.68 1667.12 1237.68 Q1668.78 1237.68 1669.74 1236.78 Q1670.71 1235.88 1670.71 1234.33 Q1670.71 1232.77 1669.74 1231.88 Q1668.8 1230.99 1667.12 1230.99 M1664.78 1229.99 Q1663.27 1229.62 1662.43 1228.59 Q1661.6 1227.56 1661.6 1226.08 Q1661.6 1224.01 1663.07 1222.8 Q1664.55 1221.6 1667.12 1221.6 Q1669.7 1221.6 1671.17 1222.8 Q1672.64 1224.01 1672.64 1226.08 Q1672.64 1227.56 1671.79 1228.59 Q1670.96 1229.62 1669.47 1229.99 Q1671.16 1230.38 1672.09 1231.53 Q1673.04 1232.68 1673.04 1234.33 Q1673.04 1236.84 1671.5 1238.18 Q1669.98 1239.53 1667.12 1239.53 Q1664.26 1239.53 1662.72 1238.18 Q1661.19 1236.84 1661.19 1234.33 Q1661.19 1232.68 1662.14 1231.53 Q1663.09 1230.38 1664.78 1229.99 M1663.92 1226.3 Q1663.92 1227.64 1664.76 1228.39 Q1665.6 1229.15 1667.12 1229.15 Q1668.62 1229.15 1669.47 1228.39 Q1670.32 1227.64 1670.32 1226.3 Q1670.32 1224.96 1669.47 1224.2 Q1668.62 1223.45 1667.12 1223.45 Q1665.6 1223.45 1664.76 1224.2 Q1663.92 1224.96 1663.92 1226.3 Z\" fill=\"#000000\" fill-rule=\"evenodd\" fill-opacity=\"1\" /><path clip-path=\"url(#clip030)\" d=\"M866.658 1087.67 L869.007 1087.67 L869.007 1098.17 Q869.007 1100.95 870.014 1102.17 Q871.021 1103.39 873.278 1103.39 Q875.524 1103.39 876.531 1102.17 Q877.537 1100.95 877.537 1098.17 L877.537 1087.67 L879.887 1087.67 L879.887 1098.46 Q879.887 1101.84 878.209 1103.56 Q876.542 1105.29 873.278 1105.29 Q870.003 1105.29 868.325 1103.56 Q866.658 1101.84 866.658 1098.46 L866.658 1087.67 Z\" fill=\"#000000\" fill-rule=\"evenodd\" fill-opacity=\"1\" /><path clip-path=\"url(#clip030)\" d=\"M894.956 1097.13 L894.956 1104.95 L892.827 1104.95 L892.827 1097.2 Q892.827 1095.36 892.109 1094.44 Q891.392 1093.53 889.956 1093.53 Q888.232 1093.53 887.236 1094.63 Q886.241 1095.73 886.241 1097.62 L886.241 1104.95 L884.1 1104.95 L884.1 1091.99 L886.241 1091.99 L886.241 1094 Q887.005 1092.83 888.035 1092.25 Q889.077 1091.68 890.431 1091.68 Q892.665 1091.68 893.811 1093.06 Q894.956 1094.44 894.956 1097.13 Z\" fill=\"#000000\" fill-rule=\"evenodd\" fill-opacity=\"1\" /><path clip-path=\"url(#clip030)\" d=\"M907.468 1092.37 L907.468 1094.38 Q906.565 1093.92 905.593 1093.69 Q904.621 1093.46 903.579 1093.46 Q901.993 1093.46 901.195 1093.94 Q900.408 1094.43 900.408 1095.4 Q900.408 1096.14 900.975 1096.57 Q901.542 1096.99 903.255 1097.37 L903.984 1097.53 Q906.253 1098.02 907.202 1098.91 Q908.162 1099.79 908.162 1101.37 Q908.162 1103.18 906.727 1104.23 Q905.304 1105.29 902.804 1105.29 Q901.762 1105.29 900.628 1105.08 Q899.505 1104.88 898.255 1104.48 L898.255 1102.28 Q899.435 1102.89 900.581 1103.2 Q901.727 1103.5 902.85 1103.5 Q904.354 1103.5 905.165 1102.99 Q905.975 1102.47 905.975 1101.54 Q905.975 1100.67 905.385 1100.21 Q904.806 1099.74 902.827 1099.31 L902.086 1099.14 Q900.107 1098.72 899.227 1097.87 Q898.348 1097 898.348 1095.49 Q898.348 1093.67 899.644 1092.67 Q900.94 1091.68 903.324 1091.68 Q904.505 1091.68 905.547 1091.85 Q906.588 1092.02 907.468 1092.37 Z\" fill=\"#000000\" fill-rule=\"evenodd\" fill-opacity=\"1\" /><path clip-path=\"url(#clip030)\" d=\"M911.553 1091.99 L913.683 1091.99 L913.683 1104.95 L911.553 1104.95 L911.553 1091.99 M911.553 1086.94 L913.683 1086.94 L913.683 1089.64 L911.553 1089.64 L911.553 1086.94 Z\" fill=\"#000000\" fill-rule=\"evenodd\" fill-opacity=\"1\" /><path clip-path=\"url(#clip030)\" d=\"M926.669 1098.32 Q926.669 1096 925.708 1094.73 Q924.759 1093.46 923.035 1093.46 Q921.322 1093.46 920.361 1094.73 Q919.412 1096 919.412 1098.32 Q919.412 1100.62 920.361 1101.89 Q921.322 1103.17 923.035 1103.17 Q924.759 1103.17 925.708 1101.89 Q926.669 1100.62 926.669 1098.32 M928.799 1103.34 Q928.799 1106.65 927.329 1108.26 Q925.859 1109.88 922.827 1109.88 Q921.704 1109.88 920.709 1109.71 Q919.713 1109.55 918.776 1109.2 L918.776 1107.13 Q919.713 1107.64 920.627 1107.88 Q921.542 1108.12 922.491 1108.12 Q924.586 1108.12 925.627 1107.02 Q926.669 1105.93 926.669 1103.72 L926.669 1102.67 Q926.009 1103.82 924.979 1104.38 Q923.949 1104.95 922.514 1104.95 Q920.13 1104.95 918.671 1103.13 Q917.213 1101.32 917.213 1098.32 Q917.213 1095.31 918.671 1093.49 Q920.13 1091.68 922.514 1091.68 Q923.949 1091.68 924.979 1092.24 Q926.009 1092.81 926.669 1093.96 L926.669 1091.99 L928.799 1091.99 L928.799 1103.34 Z\" fill=\"#000000\" fill-rule=\"evenodd\" fill-opacity=\"1\" /><path clip-path=\"url(#clip030)\" d=\"M943.961 1097.13 L943.961 1104.95 L941.831 1104.95 L941.831 1097.2 Q941.831 1095.36 941.113 1094.44 Q940.396 1093.53 938.961 1093.53 Q937.236 1093.53 936.241 1094.63 Q935.245 1095.73 935.245 1097.62 L935.245 1104.95 L933.104 1104.95 L933.104 1091.99 L935.245 1091.99 L935.245 1094 Q936.009 1092.83 937.039 1092.25 Q938.081 1091.68 939.435 1091.68 Q941.669 1091.68 942.815 1093.06 Q943.961 1094.44 943.961 1097.13 Z\" fill=\"#000000\" fill-rule=\"evenodd\" fill-opacity=\"1\" /><path clip-path=\"url(#clip030)\" d=\"M959.296 1097.94 L959.296 1098.98 L949.505 1098.98 Q949.644 1101.18 950.824 1102.33 Q952.016 1103.48 954.134 1103.48 Q955.361 1103.48 956.507 1103.18 Q957.664 1102.88 958.799 1102.28 L958.799 1104.29 Q957.653 1104.78 956.449 1105.03 Q955.245 1105.29 954.007 1105.29 Q950.905 1105.29 949.088 1103.48 Q947.282 1101.68 947.282 1098.6 Q947.282 1095.41 948.995 1093.55 Q950.72 1091.68 953.637 1091.68 Q956.252 1091.68 957.769 1093.36 Q959.296 1095.04 959.296 1097.94 M957.167 1097.31 Q957.144 1095.56 956.183 1094.52 Q955.234 1093.48 953.66 1093.48 Q951.877 1093.48 950.801 1094.49 Q949.736 1095.49 949.574 1097.32 L957.167 1097.31 Z\" fill=\"#000000\" fill-rule=\"evenodd\" fill-opacity=\"1\" /><path clip-path=\"url(#clip030)\" d=\"M971.322 1093.96 L971.322 1086.94 L973.451 1086.94 L973.451 1104.95 L971.322 1104.95 L971.322 1103.01 Q970.65 1104.16 969.62 1104.73 Q968.602 1105.29 967.167 1105.29 Q964.817 1105.29 963.336 1103.41 Q961.866 1101.54 961.866 1098.48 Q961.866 1095.43 963.336 1093.55 Q964.817 1091.68 967.167 1091.68 Q968.602 1091.68 969.62 1092.24 Q970.65 1092.8 971.322 1093.96 M964.065 1098.48 Q964.065 1100.83 965.025 1102.17 Q965.998 1103.5 967.687 1103.5 Q969.377 1103.5 970.349 1102.17 Q971.322 1100.83 971.322 1098.48 Q971.322 1096.13 970.349 1094.8 Q969.377 1093.46 967.687 1093.46 Q965.998 1093.46 965.025 1094.8 Q964.065 1096.13 964.065 1098.48 Z\" fill=\"#000000\" fill-rule=\"evenodd\" fill-opacity=\"1\" /><path clip-path=\"url(#clip030)\" d=\"M970.434 1222.69 L972.783 1222.69 L972.783 1233.19 Q972.783 1235.97 973.79 1237.19 Q974.797 1238.41 977.054 1238.41 Q979.299 1238.41 980.306 1237.19 Q981.313 1235.97 981.313 1233.19 L981.313 1222.69 L983.663 1222.69 L983.663 1233.48 Q983.663 1236.86 981.985 1238.58 Q980.318 1240.31 977.054 1240.31 Q973.779 1240.31 972.1 1238.58 Q970.434 1236.86 970.434 1233.48 L970.434 1222.69 Z\" fill=\"#000000\" fill-rule=\"evenodd\" fill-opacity=\"1\" /><path clip-path=\"url(#clip030)\" d=\"M988.049 1222.69 L990.387 1222.69 L990.387 1239.97 L988.049 1239.97 L988.049 1222.69 Z\" fill=\"#000000\" fill-rule=\"evenodd\" fill-opacity=\"1\" /><path clip-path=\"url(#clip030)\" d=\"M1005.72 1232.15 L1005.72 1239.97 L1003.59 1239.97 L1003.59 1232.22 Q1003.59 1230.38 1002.88 1229.46 Q1002.16 1228.55 1000.72 1228.55 Q998.998 1228.55 998.003 1229.65 Q997.008 1230.75 997.008 1232.65 L997.008 1239.97 L994.867 1239.97 L994.867 1227.01 L997.008 1227.01 L997.008 1229.02 Q997.772 1227.85 998.802 1227.28 Q999.843 1226.7 1001.2 1226.7 Q1003.43 1226.7 1004.58 1228.09 Q1005.72 1229.46 1005.72 1232.15 Z\" fill=\"#000000\" fill-rule=\"evenodd\" fill-opacity=\"1\" /><path clip-path=\"url(#clip030)\" d=\"M1012.08 1223.33 L1012.08 1227.01 L1016.46 1227.01 L1016.46 1228.66 L1012.08 1228.66 L1012.08 1235.7 Q1012.08 1237.29 1012.51 1237.74 Q1012.95 1238.19 1014.28 1238.19 L1016.46 1238.19 L1016.46 1239.97 L1014.28 1239.97 Q1011.81 1239.97 1010.87 1239.06 Q1009.94 1238.13 1009.94 1235.7 L1009.94 1228.66 L1008.37 1228.66 L1008.37 1227.01 L1009.94 1227.01 L1009.94 1223.33 L1012.08 1223.33 Z\" fill=\"#000000\" fill-rule=\"evenodd\" fill-opacity=\"1\" /><path clip-path=\"url(#clip030)\" d=\"M1019.97 1238 L1023.79 1238 L1023.79 1224.82 L1019.63 1225.66 L1019.63 1223.53 L1023.77 1222.69 L1026.1 1222.69 L1026.1 1238 L1029.92 1238 L1029.92 1239.97 L1019.97 1239.97 L1019.97 1238 Z\" fill=\"#000000\" fill-rule=\"evenodd\" fill-opacity=\"1\" /><path clip-path=\"url(#clip030)\" d=\"M1036.66 1238 L1044.82 1238 L1044.82 1239.97 L1033.85 1239.97 L1033.85 1238 Q1035.18 1236.63 1037.47 1234.31 Q1039.77 1231.99 1040.36 1231.31 Q1041.49 1230.05 1041.93 1229.19 Q1042.38 1228.31 1042.38 1227.46 Q1042.38 1226.08 1041.41 1225.22 Q1040.44 1224.35 1038.89 1224.35 Q1037.79 1224.35 1036.57 1224.73 Q1035.35 1225.11 1033.96 1225.89 L1033.96 1223.53 Q1035.38 1222.96 1036.6 1222.67 Q1037.83 1222.38 1038.85 1222.38 Q1041.53 1222.38 1043.13 1223.72 Q1044.73 1225.06 1044.73 1227.31 Q1044.73 1228.37 1044.32 1229.34 Q1043.93 1230.28 1042.88 1231.58 Q1042.59 1231.92 1041.04 1233.53 Q1039.48 1235.12 1036.66 1238 Z\" fill=\"#000000\" fill-rule=\"evenodd\" fill-opacity=\"1\" /><path clip-path=\"url(#clip030)\" d=\"M1054.73 1231.77 Q1053.06 1231.77 1052.1 1232.66 Q1051.15 1233.55 1051.15 1235.11 Q1051.15 1236.67 1052.1 1237.56 Q1053.06 1238.46 1054.73 1238.46 Q1056.39 1238.46 1057.35 1237.56 Q1058.32 1236.66 1058.32 1235.11 Q1058.32 1233.55 1057.35 1232.66 Q1056.41 1231.77 1054.73 1231.77 M1052.39 1230.77 Q1050.88 1230.4 1050.04 1229.37 Q1049.21 1228.34 1049.21 1226.86 Q1049.21 1224.79 1050.68 1223.58 Q1052.16 1222.38 1054.73 1222.38 Q1057.31 1222.38 1058.78 1223.58 Q1060.25 1224.79 1060.25 1226.86 Q1060.25 1228.34 1059.4 1229.37 Q1058.57 1230.4 1057.08 1230.77 Q1058.77 1231.16 1059.7 1232.31 Q1060.65 1233.46 1060.65 1235.11 Q1060.65 1237.62 1059.11 1238.97 Q1057.59 1240.31 1054.73 1240.31 Q1051.87 1240.31 1050.33 1238.97 Q1048.8 1237.62 1048.8 1235.11 Q1048.8 1233.46 1049.75 1232.31 Q1050.7 1231.16 1052.39 1230.77 M1051.53 1227.08 Q1051.53 1228.42 1052.37 1229.17 Q1053.21 1229.93 1054.73 1229.93 Q1056.23 1229.93 1057.08 1229.17 Q1057.93 1228.42 1057.93 1227.08 Q1057.93 1225.74 1057.08 1224.98 Q1056.23 1224.23 1054.73 1224.23 Q1053.21 1224.23 1052.37 1224.98 Q1051.53 1225.74 1051.53 1227.08 Z\" fill=\"#000000\" fill-rule=\"evenodd\" fill-opacity=\"1\" /><path clip-path=\"url(#clip030)\" d=\"M698.507 1284.04 L700.857 1284.04 L700.857 1294.54 Q700.857 1297.32 701.864 1298.55 Q702.871 1299.76 705.128 1299.76 Q707.373 1299.76 708.38 1298.55 Q709.387 1297.32 709.387 1294.54 L709.387 1284.04 L711.737 1284.04 L711.737 1294.83 Q711.737 1298.21 710.058 1299.94 Q708.392 1301.66 705.128 1301.66 Q701.852 1301.66 700.174 1299.94 Q698.507 1298.21 698.507 1294.83 L698.507 1284.04 Z\" fill=\"#000000\" fill-rule=\"evenodd\" fill-opacity=\"1\" /><path clip-path=\"url(#clip030)\" d=\"M716.123 1284.04 L718.461 1284.04 L718.461 1301.32 L716.123 1301.32 L716.123 1284.04 Z\" fill=\"#000000\" fill-rule=\"evenodd\" fill-opacity=\"1\" /><path clip-path=\"url(#clip030)\" d=\"M733.797 1293.5 L733.797 1301.32 L731.667 1301.32 L731.667 1293.57 Q731.667 1291.73 730.949 1290.82 Q730.232 1289.9 728.797 1289.9 Q727.072 1289.9 726.077 1291 Q725.081 1292.1 725.081 1294 L725.081 1301.32 L722.94 1301.32 L722.94 1288.36 L725.081 1288.36 L725.081 1290.38 Q725.845 1289.21 726.875 1288.63 Q727.917 1288.05 729.271 1288.05 Q731.505 1288.05 732.651 1289.44 Q733.797 1290.82 733.797 1293.5 Z\" fill=\"#000000\" fill-rule=\"evenodd\" fill-opacity=\"1\" /><path clip-path=\"url(#clip030)\" d=\"M740.151 1284.68 L740.151 1288.36 L744.537 1288.36 L744.537 1290.02 L740.151 1290.02 L740.151 1297.05 Q740.151 1298.64 740.579 1299.09 Q741.019 1299.54 742.35 1299.54 L744.537 1299.54 L744.537 1301.32 L742.35 1301.32 Q739.885 1301.32 738.947 1300.41 Q738.01 1299.48 738.01 1297.05 L738.01 1290.02 L736.447 1290.02 L736.447 1288.36 L738.01 1288.36 L738.01 1284.68 L740.151 1284.68 Z\" fill=\"#000000\" fill-rule=\"evenodd\" fill-opacity=\"1\" /><path clip-path=\"url(#clip030)\" d=\"M748.044 1299.36 L751.864 1299.36 L751.864 1286.17 L747.709 1287.01 L747.709 1284.88 L751.84 1284.04 L754.178 1284.04 L754.178 1299.36 L757.998 1299.36 L757.998 1301.32 L748.044 1301.32 L748.044 1299.36 Z\" fill=\"#000000\" fill-rule=\"evenodd\" fill-opacity=\"1\" /><path clip-path=\"url(#clip030)\" d=\"M768.009 1291.75 Q766.435 1291.75 765.509 1292.83 Q764.595 1293.91 764.595 1295.78 Q764.595 1297.64 765.509 1298.73 Q766.435 1299.81 768.009 1299.81 Q769.583 1299.81 770.498 1298.73 Q771.424 1297.64 771.424 1295.78 Q771.424 1293.91 770.498 1292.83 Q769.583 1291.75 768.009 1291.75 M772.651 1284.43 L772.651 1286.56 Q771.771 1286.14 770.868 1285.92 Q769.977 1285.7 769.097 1285.7 Q766.783 1285.7 765.556 1287.26 Q764.34 1288.83 764.167 1291.98 Q764.85 1290.98 765.88 1290.45 Q766.91 1289.9 768.148 1289.9 Q770.752 1289.9 772.257 1291.49 Q773.773 1293.06 773.773 1295.78 Q773.773 1298.44 772.199 1300.05 Q770.625 1301.66 768.009 1301.66 Q765.012 1301.66 763.426 1299.37 Q761.84 1297.07 761.84 1292.7 Q761.84 1288.61 763.785 1286.17 Q765.729 1283.73 769.005 1283.73 Q769.884 1283.73 770.776 1283.91 Q771.678 1284.08 772.651 1284.43 Z\" fill=\"#000000\" fill-rule=\"evenodd\" fill-opacity=\"1\" /><path clip-path=\"url(#clip030)\" d=\"M764.174 1258.72 L766.523 1258.72 L766.523 1269.22 Q766.523 1271.99 767.53 1273.22 Q768.537 1274.44 770.794 1274.44 Q773.039 1274.44 774.046 1273.22 Q775.053 1271.99 775.053 1269.22 L775.053 1258.72 L777.403 1258.72 L777.403 1269.51 Q777.403 1272.89 775.724 1274.61 Q774.058 1276.33 770.794 1276.33 Q767.518 1276.33 765.84 1274.61 Q764.174 1272.89 764.174 1269.51 L764.174 1258.72 Z\" fill=\"#000000\" fill-rule=\"evenodd\" fill-opacity=\"1\" /><path clip-path=\"url(#clip030)\" d=\"M781.789 1258.72 L784.127 1258.72 L784.127 1276 L781.789 1276 L781.789 1258.72 Z\" fill=\"#000000\" fill-rule=\"evenodd\" fill-opacity=\"1\" /><path clip-path=\"url(#clip030)\" d=\"M799.463 1268.18 L799.463 1276 L797.333 1276 L797.333 1268.24 Q797.333 1266.4 796.616 1265.49 Q795.898 1264.58 794.463 1264.58 Q792.738 1264.58 791.743 1265.68 Q790.748 1266.77 790.748 1268.67 L790.748 1276 L788.606 1276 L788.606 1263.04 L790.748 1263.04 L790.748 1265.05 Q791.511 1263.88 792.541 1263.3 Q793.583 1262.72 794.937 1262.72 Q797.171 1262.72 798.317 1264.11 Q799.463 1265.49 799.463 1268.18 Z\" fill=\"#000000\" fill-rule=\"evenodd\" fill-opacity=\"1\" /><path clip-path=\"url(#clip030)\" d=\"M805.817 1259.36 L805.817 1263.04 L810.203 1263.04 L810.203 1264.69 L805.817 1264.69 L805.817 1271.73 Q805.817 1273.31 806.245 1273.77 Q806.685 1274.22 808.016 1274.22 L810.203 1274.22 L810.203 1276 L808.016 1276 Q805.551 1276 804.613 1275.08 Q803.676 1274.16 803.676 1271.73 L803.676 1264.69 L802.113 1264.69 L802.113 1263.04 L803.676 1263.04 L803.676 1259.36 L805.817 1259.36 Z\" fill=\"#000000\" fill-rule=\"evenodd\" fill-opacity=\"1\" /><path clip-path=\"url(#clip030)\" d=\"M820.389 1266.68 Q822.067 1267.04 823.004 1268.18 Q823.953 1269.31 823.953 1270.98 Q823.953 1273.53 822.194 1274.93 Q820.435 1276.33 817.194 1276.33 Q816.106 1276.33 814.949 1276.11 Q813.803 1275.91 812.576 1275.48 L812.576 1273.22 Q813.548 1273.79 814.706 1274.08 Q815.863 1274.37 817.125 1274.37 Q819.324 1274.37 820.47 1273.5 Q821.627 1272.63 821.627 1270.98 Q821.627 1269.45 820.551 1268.59 Q819.486 1267.72 817.576 1267.72 L815.562 1267.72 L815.562 1265.8 L817.669 1265.8 Q819.393 1265.8 820.308 1265.12 Q821.222 1264.43 821.222 1263.13 Q821.222 1261.8 820.273 1261.09 Q819.335 1260.37 817.576 1260.37 Q816.615 1260.37 815.516 1260.58 Q814.416 1260.79 813.097 1261.23 L813.097 1259.15 Q814.428 1258.78 815.585 1258.59 Q816.754 1258.41 817.784 1258.41 Q820.446 1258.41 821.997 1259.62 Q823.548 1260.83 823.548 1262.89 Q823.548 1264.32 822.726 1265.32 Q821.905 1266.3 820.389 1266.68 Z\" fill=\"#000000\" fill-rule=\"evenodd\" fill-opacity=\"1\" /><path clip-path=\"url(#clip030)\" d=\"M830.4 1274.03 L838.56 1274.03 L838.56 1276 L827.588 1276 L827.588 1274.03 Q828.919 1272.65 831.21 1270.34 Q833.513 1268.01 834.104 1267.34 Q835.226 1266.08 835.666 1265.21 Q836.118 1264.33 836.118 1263.49 Q836.118 1262.11 835.145 1261.24 Q834.185 1260.37 832.634 1260.37 Q831.534 1260.37 830.307 1260.76 Q829.092 1261.14 827.703 1261.91 L827.703 1259.55 Q829.115 1258.99 830.342 1258.7 Q831.569 1258.41 832.588 1258.41 Q835.273 1258.41 836.87 1259.75 Q838.467 1261.09 838.467 1263.34 Q838.467 1264.4 838.062 1265.36 Q837.669 1266.31 836.615 1267.61 Q836.326 1267.94 834.775 1269.55 Q833.224 1271.15 830.4 1274.03 Z\" fill=\"#000000\" fill-rule=\"evenodd\" fill-opacity=\"1\" /><path clip-path=\"url(#clip030)\" d=\"M624.603 1256.46 L626.953 1256.46 L626.953 1266.96 Q626.953 1269.74 627.96 1270.96 Q628.967 1272.18 631.224 1272.18 Q633.469 1272.18 634.476 1270.96 Q635.483 1269.74 635.483 1266.96 L635.483 1256.46 L637.832 1256.46 L637.832 1267.25 Q637.832 1270.63 636.154 1272.35 Q634.487 1274.08 631.224 1274.08 Q627.948 1274.08 626.27 1272.35 Q624.603 1270.63 624.603 1267.25 L624.603 1256.46 Z\" fill=\"#000000\" fill-rule=\"evenodd\" fill-opacity=\"1\" /><path clip-path=\"url(#clip030)\" d=\"M642.219 1256.46 L644.557 1256.46 L644.557 1273.74 L642.219 1273.74 L642.219 1256.46 Z\" fill=\"#000000\" fill-rule=\"evenodd\" fill-opacity=\"1\" /><path clip-path=\"url(#clip030)\" d=\"M659.892 1265.92 L659.892 1273.74 L657.763 1273.74 L657.763 1265.99 Q657.763 1264.14 657.045 1263.23 Q656.328 1262.32 654.892 1262.32 Q653.168 1262.32 652.173 1263.42 Q651.177 1264.52 651.177 1266.41 L651.177 1273.74 L649.036 1273.74 L649.036 1260.78 L651.177 1260.78 L651.177 1262.79 Q651.941 1261.62 652.971 1261.04 Q654.013 1260.46 655.367 1260.46 Q657.601 1260.46 658.747 1261.85 Q659.892 1263.23 659.892 1265.92 Z\" fill=\"#000000\" fill-rule=\"evenodd\" fill-opacity=\"1\" /><path clip-path=\"url(#clip030)\" d=\"M666.247 1257.1 L666.247 1260.78 L670.633 1260.78 L670.633 1262.43 L666.247 1262.43 L666.247 1269.47 Q666.247 1271.05 666.675 1271.51 Q667.115 1271.96 668.446 1271.96 L670.633 1271.96 L670.633 1273.74 L668.446 1273.74 Q665.98 1273.74 665.043 1272.83 Q664.105 1271.9 664.105 1269.47 L664.105 1262.43 L662.543 1262.43 L662.543 1260.78 L664.105 1260.78 L664.105 1257.1 L666.247 1257.1 Z\" fill=\"#000000\" fill-rule=\"evenodd\" fill-opacity=\"1\" /><path clip-path=\"url(#clip030)\" d=\"M679.024 1264.17 Q677.45 1264.17 676.524 1265.24 Q675.61 1266.32 675.61 1268.2 Q675.61 1270.06 676.524 1271.15 Q677.45 1272.22 679.024 1272.22 Q680.598 1272.22 681.513 1271.15 Q682.439 1270.06 682.439 1268.2 Q682.439 1266.32 681.513 1265.24 Q680.598 1264.17 679.024 1264.17 M683.665 1256.84 L683.665 1258.97 Q682.786 1258.55 681.883 1258.33 Q680.992 1258.11 680.112 1258.11 Q677.797 1258.11 676.571 1259.68 Q675.355 1261.24 675.182 1264.4 Q675.865 1263.39 676.895 1262.86 Q677.925 1262.32 679.163 1262.32 Q681.767 1262.32 683.272 1263.9 Q684.788 1265.48 684.788 1268.2 Q684.788 1270.86 683.214 1272.47 Q681.64 1274.08 679.024 1274.08 Q676.027 1274.08 674.441 1271.78 Q672.855 1269.48 672.855 1265.12 Q672.855 1261.02 674.8 1258.59 Q676.744 1256.15 680.02 1256.15 Q680.899 1256.15 681.79 1256.32 Q682.693 1256.49 683.665 1256.84 Z\" fill=\"#000000\" fill-rule=\"evenodd\" fill-opacity=\"1\" /><path clip-path=\"url(#clip030)\" d=\"M695.239 1258.5 L689.337 1267.72 L695.239 1267.72 L695.239 1258.5 M694.626 1256.46 L697.566 1256.46 L697.566 1267.72 L700.031 1267.72 L700.031 1269.67 L697.566 1269.67 L697.566 1273.74 L695.239 1273.74 L695.239 1269.67 L687.439 1269.67 L687.439 1267.41 L694.626 1256.46 Z\" fill=\"#000000\" fill-rule=\"evenodd\" fill-opacity=\"1\" /><path clip-path=\"url(#clip030)\" d=\"M859.126 1240.3 L861.475 1240.3 L861.475 1250.8 Q861.475 1253.57 862.482 1254.8 Q863.489 1256.02 865.746 1256.02 Q867.992 1256.02 868.999 1254.8 Q870.006 1253.57 870.006 1250.8 L870.006 1240.3 L872.355 1240.3 L872.355 1251.09 Q872.355 1254.47 870.677 1256.19 Q869.01 1257.91 865.746 1257.91 Q862.471 1257.91 860.793 1256.19 Q859.126 1254.47 859.126 1251.09 L859.126 1240.3 Z\" fill=\"#000000\" fill-rule=\"evenodd\" fill-opacity=\"1\" /><path clip-path=\"url(#clip030)\" d=\"M876.742 1240.3 L879.08 1240.3 L879.08 1257.58 L876.742 1257.58 L876.742 1240.3 Z\" fill=\"#000000\" fill-rule=\"evenodd\" fill-opacity=\"1\" /><path clip-path=\"url(#clip030)\" d=\"M894.415 1249.76 L894.415 1257.58 L892.285 1257.58 L892.285 1249.82 Q892.285 1247.98 891.568 1247.07 Q890.85 1246.16 889.415 1246.16 Q887.691 1246.16 886.695 1247.26 Q885.7 1248.35 885.7 1250.25 L885.7 1257.58 L883.559 1257.58 L883.559 1244.62 L885.7 1244.62 L885.7 1246.63 Q886.464 1245.46 887.494 1244.88 Q888.535 1244.3 889.89 1244.3 Q892.123 1244.3 893.269 1245.69 Q894.415 1247.07 894.415 1249.76 Z\" fill=\"#000000\" fill-rule=\"evenodd\" fill-opacity=\"1\" /><path clip-path=\"url(#clip030)\" d=\"M900.769 1240.94 L900.769 1244.62 L905.156 1244.62 L905.156 1246.27 L900.769 1246.27 L900.769 1253.31 Q900.769 1254.89 901.197 1255.35 Q901.637 1255.8 902.968 1255.8 L905.156 1255.8 L905.156 1257.58 L902.968 1257.58 Q900.503 1257.58 899.566 1256.66 Q898.628 1255.74 898.628 1253.31 L898.628 1246.27 L897.066 1246.27 L897.066 1244.62 L898.628 1244.62 L898.628 1240.94 L900.769 1240.94 Z\" fill=\"#000000\" fill-rule=\"evenodd\" fill-opacity=\"1\" /><path clip-path=\"url(#clip030)\" d=\"M913.258 1249.37 Q911.591 1249.37 910.63 1250.26 Q909.681 1251.16 909.681 1252.72 Q909.681 1254.28 910.63 1255.17 Q911.591 1256.06 913.258 1256.06 Q914.924 1256.06 915.885 1255.17 Q916.846 1254.27 916.846 1252.72 Q916.846 1251.16 915.885 1250.26 Q914.936 1249.37 913.258 1249.37 M910.92 1248.38 Q909.415 1248.01 908.57 1246.98 Q907.737 1245.95 907.737 1244.47 Q907.737 1242.39 909.207 1241.19 Q910.688 1239.99 913.258 1239.99 Q915.839 1239.99 917.308 1241.19 Q918.778 1242.39 918.778 1244.47 Q918.778 1245.95 917.933 1246.98 Q917.1 1248.01 915.607 1248.38 Q917.297 1248.77 918.234 1249.92 Q919.183 1251.06 919.183 1252.72 Q919.183 1255.23 917.644 1256.57 Q916.116 1257.91 913.258 1257.91 Q910.399 1257.91 908.859 1256.57 Q907.332 1255.23 907.332 1252.72 Q907.332 1251.06 908.281 1249.92 Q909.23 1248.77 910.92 1248.38 M910.063 1244.69 Q910.063 1246.03 910.896 1246.78 Q911.741 1247.53 913.258 1247.53 Q914.762 1247.53 915.607 1246.78 Q916.464 1246.03 916.464 1244.69 Q916.464 1243.34 915.607 1242.59 Q914.762 1241.84 913.258 1241.84 Q911.741 1241.84 910.896 1242.59 Q910.063 1243.34 910.063 1244.69 Z\" fill=\"#000000\" fill-rule=\"evenodd\" fill-opacity=\"1\" /></svg>\n"
      ]
     },
     "execution_count": 48,
     "metadata": {},
     "output_type": "execute_result"
    }
   ],
   "source": [
    "using GraphRecipes, Plots\n",
    "\n",
    "gr(size=(600, 400))\n",
    "theme(:default)\n",
    "\n",
    "plot(Integer, method=:tree, fontsize=4)"
   ]
  },
  {
   "cell_type": "markdown",
   "metadata": {},
   "source": [
    "source: [Visualizing Graphs in Julia using Plots and PlotRecipes](http://www.breloff.com/Graphs/)"
   ]
  },
  {
   "cell_type": "markdown",
   "metadata": {},
   "source": [
    "### Unsigned integers\n",
    "\n",
    "* Model for $\\mathbb{N} \\cup \\{0\\}$.\n",
    "* For unsigned integers, the range is $[0,2^M-1]$.\n",
    "* Julia functions `typemin(T)` and `typemax(T)` give the lowest and highest representable number of a type `T` respectively"
   ]
  },
  {
   "cell_type": "code",
   "execution_count": 49,
   "metadata": {},
   "outputs": [
    {
     "name": "stdout",
     "output_type": "stream",
     "text": [
      "UInt8\t0\t255\n",
      "UInt16\t0\t65535\n",
      "UInt32\t0\t4294967295\n",
      "UInt64\t0\t18446744073709551615\n",
      "UInt128\t0\t340282366920938463463374607431768211455\n"
     ]
    }
   ],
   "source": [
    "for t in [UInt8, UInt16, UInt32, UInt64, UInt128]\n",
    "    println(t, '\\t', typemin(t), '\\t', typemax(t))\n",
    "end"
   ]
  },
  {
   "cell_type": "markdown",
   "metadata": {},
   "source": [
    "### Signed integers\n",
    "\n",
    "* Model of $\\mathbb{Z}$. Can do subtraction.\n",
    "\n",
    "* First bit (\"most significant bit\" or MSB) is the sign bit.  \n",
    "    - `0` for nonnegative numbers\n",
    "    - `1` for negative numbers  \n",
    "    \n",
    "* **Two's complement representation** for negative numbers. \n",
    "    - Set the sign bit to 1  \n",
    "    - Negate (`0`->`1`, `1`->`0`) the remaining bits\n",
    "    - Add to `1` to the result  \n",
    "    - Two's complement representation of a negative integer $x$ is the same as the unsigned integer $2^M - x$."
   ]
  },
  {
   "cell_type": "code",
   "execution_count": 50,
   "metadata": {},
   "outputs": [
    {
     "name": "stdout",
     "output_type": "stream",
     "text": [
      "typeof(5) = Int64\n",
      "bitstring(5) = \"0000000000000000000000000000000000000000000000000000000000000101\"\n",
      "bitstring(-5) = \"1111111111111111111111111111111111111111111111111111111111111011\"\n",
      "bitstring(UInt64(Int128(2) ^ 64 - 5)) == bitstring(-5) = true\n",
      "bitstring(2 * 5) = \"0000000000000000000000000000000000000000000000000000000000001010\"\n",
      "bitstring(2 * -5) = \"1111111111111111111111111111111111111111111111111111111111110110\"\n"
     ]
    }
   ],
   "source": [
    "@show typeof(5)\n",
    "@show bitstring(5)\n",
    "@show bitstring(-5)\n",
    "@show bitstring(UInt64(Int128(2)^64 - 5)) == bitstring(-5)\n",
    "@show bitstring(2 * 5) # shift bits of 5 to the left\n",
    "@show bitstring(2 * -5); # shift bits of -5 to left"
   ]
  },
  {
   "cell_type": "markdown",
   "metadata": {},
   "source": [
    "* Two's complement representation respects modular arithmetic nicely.  \n",
    "    Addition of any two signed integers are just bitwise addition, possibly modulo $2^M$\n",
    "    - $M=4$ case:\n",
    "    \n",
    "<img src=\"http://users.dickinson.edu/~braught/courses/cs251f02/classes/images/twosCompWheel.png\" width=\"400\" align=\"center\"/>    \n",
    "\n",
    "Source: [Signed Binary Numbers, Subtraction and Overflow](http://users.dickinson.edu/~braught/courses/cs251f02/classes/notes07.html) by Grant Braught"
   ]
  },
  {
   "cell_type": "markdown",
   "metadata": {},
   "source": [
    "* **Range** of representable integers by $M$-bit **signed integer** is $[-2^{M-1},2^{M-1}-1]$:"
   ]
  },
  {
   "cell_type": "code",
   "execution_count": 51,
   "metadata": {},
   "outputs": [
    {
     "data": {
      "text/plain": [
       "(-9223372036854775808, 9223372036854775807)"
      ]
     },
     "execution_count": 51,
     "metadata": {},
     "output_type": "execute_result"
    }
   ],
   "source": [
    "typemin(Int64), typemax(Int64)"
   ]
  },
  {
   "cell_type": "code",
   "execution_count": 52,
   "metadata": {},
   "outputs": [
    {
     "name": "stdout",
     "output_type": "stream",
     "text": [
      "Int8\t-128\t127\n",
      "Int16\t-32768\t32767\n",
      "Int32\t-2147483648\t2147483647\n",
      "Int64\t-9223372036854775808\t9223372036854775807\n",
      "Int128\t-170141183460469231731687303715884105728\t170141183460469231731687303715884105727\n"
     ]
    }
   ],
   "source": [
    "for T in [Int8, Int16, Int32, Int64, Int128]\n",
    "    println(T, '\\t', typemin(T), '\\t', typemax(T))\n",
    "end"
   ]
  },
  {
   "cell_type": "markdown",
   "metadata": {},
   "source": [
    "### `BigInt`\n",
    "\n",
    "Julia `BigInt` type is arbitrary precision."
   ]
  },
  {
   "cell_type": "code",
   "execution_count": 53,
   "metadata": {},
   "outputs": [
    {
     "name": "stdout",
     "output_type": "stream",
     "text": [
      "typemax(Int128) = 170141183460469231731687303715884105727\n",
      "typemax(Int128) + 1 = -170141183460469231731687303715884105728\n",
      "BigInt(typemax(Int128)) + 1 = 170141183460469231731687303715884105728\n"
     ]
    }
   ],
   "source": [
    "@show typemax(Int128)\n",
    "@show typemax(Int128) + 1 # overflow!\n",
    "@show BigInt(typemax(Int128)) + 1;"
   ]
  },
  {
   "cell_type": "markdown",
   "metadata": {},
   "source": [
    "### Overflow in integer arithmetic\n",
    "\n",
    "R reports `NA` for integer overflow.\n",
    "**Julia outputs the result according to modular arithmetic.**"
   ]
  },
  {
   "cell_type": "code",
   "execution_count": 54,
   "metadata": {},
   "outputs": [
    {
     "name": "stdout",
     "output_type": "stream",
     "text": [
      "typemax(Int32) = 2147483647\n",
      "typemax(Int32) + Int32(1) = -2147483648\n"
     ]
    }
   ],
   "source": [
    "@show typemax(Int32)\n",
    "@show typemax(Int32) + Int32(1); # modular arithmetics!"
   ]
  },
  {
   "cell_type": "code",
   "execution_count": 55,
   "metadata": {},
   "outputs": [
    {
     "data": {
      "text/plain": [
       "RObject{IntSxp}\n",
       "[1] 2147483647\n"
      ]
     },
     "execution_count": 55,
     "metadata": {},
     "output_type": "execute_result"
    }
   ],
   "source": [
    "using RCall\n",
    "# The largest integer R can hold\n",
    "R\"\"\"\n",
    ".Machine$integer.max \n",
    "\"\"\""
   ]
  },
  {
   "cell_type": "code",
   "execution_count": 56,
   "metadata": {},
   "outputs": [
    {
     "data": {
      "text/plain": [
       "RObject{IntSxp}\n",
       "[1] 2147483647\n"
      ]
     },
     "execution_count": 56,
     "metadata": {},
     "output_type": "execute_result"
    }
   ],
   "source": [
    "R\"\"\"\n",
    "M <- 32\n",
    "big <- 2^(M-1) - 1\n",
    "as.integer(big)\n",
    "\"\"\""
   ]
  },
  {
   "cell_type": "code",
   "execution_count": 57,
   "metadata": {},
   "outputs": [
    {
     "name": "stderr",
     "output_type": "stream",
     "text": [
      "┌ Warning: RCall.jl: Warning: NAs introduced by coercion to integer range\n",
      "└ @ RCall /Users/jhwon/.julia/packages/RCall/iMDW2/src/io.jl:160\n"
     ]
    },
    {
     "data": {
      "text/plain": [
       "RObject{IntSxp}\n",
       "[1] NA\n"
      ]
     },
     "execution_count": 57,
     "metadata": {},
     "output_type": "execute_result"
    }
   ],
   "source": [
    "R\"\"\"\n",
    "as.integer(big+1)\n",
    "\"\"\""
   ]
  },
  {
   "cell_type": "markdown",
   "metadata": {},
   "source": [
    "## Real numbers: floating-point number system\n",
    "\n",
    "Floating-point number system is a computer model for the real line $\\mathbb{R}$.\n",
    "\n",
    "* Most computer systems adopt the [IEEE 754 standard](https://en.wikipedia.org/wiki/IEEE_floating_point), established in 1985, for floating-point arithmetics.  \n",
    "For the history, see an [interview with William Kahan](http://www.cs.berkeley.edu/~wkahan/ieee754status/754story.html).\n",
    "\n",
    "* In the scientific notation, a real number is represented as\n",
    "$$\n",
    "\\pm d_1.d_2d_3 \\cdots d_p \\times b^e, \\quad 0 \\le d_i < b.\n",
    "$$\n",
    "Humans use the _base_ $b=10$ and _digits_ $d_i=0, 1, \\dotsc, 9$.\\\n",
    "    In computer, the base is $b=2$ and the digits $d_i$ are 0 or 1. The *exponent* $e$ is between $e_{\\min}$ and $e_{\\max}$.\n",
    "\n",
    "* **Normalized** vs **denormalized** numbers. For example, decimal number 18 is\n",
    "$$ +1.0010 \\times 2^4 \\quad (\\text{normalized})$$\n",
    "or, equivalently,\n",
    "$$ +0.1001 \\times 2^5 \\quad (\\text{denormalized}).$$\n",
    "\n",
    "* In the floating-number system, computer stores \n",
    "    - sign bit  \n",
    "    - the _fraction_ (or _mantissa_, or _significand_) of the **normalized** representation (except some special cases)\n",
    "    - the actual exponent plus a *bias*\n",
    "        + Because $e_{\\min}$ is likely negative and $e_{\\max}$ is positive, the exponent requires a sign. IEEE 754 handles the sign of the exponent by subtracting the bias from the value of the exponent evaluated as an unsigned integer."
   ]
  },
  {
   "cell_type": "markdown",
   "metadata": {},
   "source": [
    "* Julia provides `Float16` (half precision, implemented in software using `Float32`), `Float32` (single precision), `Float64` (double precision), and `BigFloat` (arbitrary precision)."
   ]
  },
  {
   "cell_type": "code",
   "execution_count": 58,
   "metadata": {},
   "outputs": [
    {
     "data": {
      "image/svg+xml": [
       "<?xml version=\"1.0\" encoding=\"utf-8\"?>\n",
       "<svg xmlns=\"http://www.w3.org/2000/svg\" xmlns:xlink=\"http://www.w3.org/1999/xlink\" width=\"600\" height=\"400\" viewBox=\"0 0 2400 1600\">\n",
       "<defs>\n",
       "  <clipPath id=\"clip060\">\n",
       "    <rect x=\"0\" y=\"0\" width=\"2400\" height=\"1600\"/>\n",
       "  </clipPath>\n",
       "</defs>\n",
       "<path clip-path=\"url(#clip060)\" d=\"\n",
       "M0 1600 L2400 1600 L2400 0 L0 0  Z\n",
       "  \" fill=\"#ffffff\" fill-rule=\"evenodd\" fill-opacity=\"1\"/>\n",
       "<defs>\n",
       "  <clipPath id=\"clip061\">\n",
       "    <rect x=\"480\" y=\"0\" width=\"1681\" height=\"1600\"/>\n",
       "  </clipPath>\n",
       "</defs>\n",
       "<path clip-path=\"url(#clip060)\" d=\"\n",
       "M447.244 1552.76 L1952.76 1552.76 L1952.76 47.2441 L447.244 47.2441  Z\n",
       "  \" fill=\"#ffffff\" fill-rule=\"evenodd\" fill-opacity=\"1\"/>\n",
       "<defs>\n",
       "  <clipPath id=\"clip062\">\n",
       "    <rect x=\"447\" y=\"47\" width=\"1507\" height=\"1507\"/>\n",
       "  </clipPath>\n",
       "</defs>\n",
       "<polyline clip-path=\"url(#clip062)\" style=\"stroke:#000000; stroke-linecap:butt; stroke-linejoin:round; stroke-width:4; stroke-opacity:1; fill:none\" points=\"\n",
       "  1137.64,262.317 1137.55,269.795 1137.29,277.422 1136.87,285.187 1136.3,293.079 1135.6,301.087 1134.78,309.2 1133.86,317.407 1132.84,325.697 1131.73,334.058 \n",
       "  1130.56,342.481 1129.33,350.953 1128.05,359.463 1126.75,368.001 1125.42,376.556 1124.09,385.116 1122.76,393.671 1121.45,402.209 1120.18,410.72 1118.95,419.192 \n",
       "  1117.77,427.614 1116.67,435.976 1115.65,444.265 1114.72,452.472 1113.9,460.585 1113.2,468.593 1112.64,476.485 1112.22,484.25 1111.96,491.877 1111.87,499.355 \n",
       "  \n",
       "  \"/>\n",
       "<polyline clip-path=\"url(#clip062)\" style=\"stroke:#000000; stroke-linecap:butt; stroke-linejoin:round; stroke-width:4; stroke-opacity:1; fill:none\" points=\"\n",
       "  1111.87,499.355 1111.81,510.184 1111.62,521.239 1111.33,532.503 1110.93,543.96 1110.43,555.592 1109.86,567.384 1109.2,579.317 1108.48,591.377 1107.7,603.545 \n",
       "  1106.87,615.805 1106,628.141 1105.1,640.535 1104.18,652.971 1103.25,665.433 1102.3,677.902 1101.37,690.364 1100.45,702.8 1099.55,715.194 1098.68,727.53 \n",
       "  1097.85,739.79 1097.07,751.958 1096.35,764.018 1095.69,775.951 1095.12,787.743 1094.62,799.375 1094.22,810.832 1093.93,822.096 1093.74,833.151 1093.68,843.98 \n",
       "  \n",
       "  \"/>\n",
       "<polyline clip-path=\"url(#clip062)\" style=\"stroke:#000000; stroke-linecap:butt; stroke-linejoin:round; stroke-width:4; stroke-opacity:1; fill:none\" points=\"\n",
       "  1093.68,843.98 1094.02,850.912 1095.02,857.842 1096.61,864.77 1098.77,871.696 1101.43,878.62 1104.55,885.542 1108.08,892.463 1111.97,899.382 1116.17,906.3 \n",
       "  1120.64,913.218 1125.33,920.134 1130.19,927.05 1135.17,933.965 1140.22,940.88 1145.29,947.795 1150.34,954.71 1155.32,961.625 1160.18,968.54 1164.87,975.457 \n",
       "  1169.34,982.374 1173.54,989.292 1177.43,996.211 1180.96,1003.13 1184.08,1010.05 1186.74,1016.98 1188.89,1023.9 1190.49,1030.83 1191.49,1037.76 1191.83,1044.69 \n",
       "  \n",
       "  \"/>\n",
       "<polyline clip-path=\"url(#clip062)\" style=\"stroke:#000000; stroke-linecap:butt; stroke-linejoin:round; stroke-width:4; stroke-opacity:1; fill:none\" points=\"\n",
       "  1191.83,1044.69 1190.86,1055.52 1188.05,1065.72 1183.52,1075.33 1177.43,1084.4 1169.9,1092.98 1161.07,1101.11 1151.07,1108.85 1140.06,1116.23 1128.15,1123.31 \n",
       "  1115.49,1130.12 1102.22,1136.73 1088.47,1143.18 1074.37,1149.5 1060.08,1155.76 1045.71,1161.99 1031.41,1168.25 1017.32,1174.57 1003.56,1181.02 990.291,1187.63 \n",
       "  977.633,1194.44 965.727,1201.52 954.71,1208.9 944.718,1216.64 935.888,1224.77 928.357,1233.35 922.262,1242.42 917.739,1252.03 914.925,1262.23 913.956,1273.06 \n",
       "  \n",
       "  \"/>\n",
       "<polyline clip-path=\"url(#clip062)\" style=\"stroke:#000000; stroke-linecap:butt; stroke-linejoin:round; stroke-width:4; stroke-opacity:1; fill:none\" points=\"\n",
       "  1191.83,1044.69 1189.98,1059.34 1184.62,1073.01 1176,1085.78 1164.38,1097.72 1150.03,1108.9 1133.21,1119.4 1114.17,1129.29 1093.17,1138.64 1070.48,1147.52 \n",
       "  1046.36,1156 1021.07,1164.15 994.865,1172.06 968.009,1179.78 940.761,1187.4 913.384,1194.98 886.136,1202.6 859.28,1210.32 833.075,1218.22 807.781,1226.38 \n",
       "  783.66,1234.86 760.972,1243.74 739.978,1253.09 720.937,1262.97 704.111,1273.47 689.76,1284.66 678.145,1296.6 669.525,1309.37 664.163,1323.04 662.317,1337.68 \n",
       "  \n",
       "  \"/>\n",
       "<polyline clip-path=\"url(#clip062)\" style=\"stroke:#000000; stroke-linecap:butt; stroke-linejoin:round; stroke-width:4; stroke-opacity:1; fill:none\" points=\"\n",
       "  1191.83,1044.69 1192.6,1054.82 1194.85,1064.61 1198.47,1074.07 1203.34,1083.25 1209.36,1092.15 1216.41,1100.81 1224.4,1109.25 1233.2,1117.5 1242.72,1125.59 \n",
       "  1252.84,1133.54 1263.44,1141.37 1274.43,1149.11 1285.7,1156.78 1297.13,1164.42 1308.61,1172.05 1320.04,1179.69 1331.3,1187.37 1342.29,1195.11 1352.9,1202.94 \n",
       "  1363.01,1210.88 1372.53,1218.97 1381.33,1227.22 1389.32,1235.66 1396.38,1244.33 1402.4,1253.23 1407.27,1262.4 1410.88,1271.87 1413.13,1281.65 1413.91,1291.78 \n",
       "  \n",
       "  \"/>\n",
       "<polyline clip-path=\"url(#clip062)\" style=\"stroke:#000000; stroke-linecap:butt; stroke-linejoin:round; stroke-width:4; stroke-opacity:1; fill:none\" points=\"\n",
       "  1191.83,1044.69 1193.73,1057.44 1199.26,1069.33 1208.14,1080.44 1220.12,1090.84 1234.91,1100.57 1252.26,1109.7 1271.89,1118.31 1293.53,1126.44 1316.92,1134.16 \n",
       "  1341.78,1141.54 1367.86,1148.64 1394.87,1155.52 1422.56,1162.24 1450.64,1168.87 1478.87,1175.46 1506.96,1182.09 1534.64,1188.81 1561.65,1195.69 1587.73,1202.79 \n",
       "  1612.59,1210.17 1635.98,1217.89 1657.63,1226.03 1677.25,1234.63 1694.6,1243.77 1709.39,1253.5 1721.37,1263.89 1730.25,1275 1735.78,1286.9 1737.68,1299.64 \n",
       "  \n",
       "  \"/>\n",
       "<path clip-path=\"url(#clip062)\" d=\"\n",
       "M1165.61 262.317 L1151.62 238.095 L1123.65 238.095 L1109.67 262.317 L1123.65 286.539 L1151.62 286.539 L1165.61 262.317 L1165.61 262.317  Z\n",
       "  \" fill=\"#009af9\" fill-rule=\"evenodd\" fill-opacity=\"1\"/>\n",
       "<polyline clip-path=\"url(#clip062)\" style=\"stroke:#000000; stroke-linecap:butt; stroke-linejoin:round; stroke-width:4; stroke-opacity:1; fill:none\" points=\"\n",
       "  1165.61,262.317 1151.62,238.095 1123.65,238.095 1109.67,262.317 1123.65,286.539 1151.62,286.539 1165.61,262.317 \n",
       "  \"/>\n",
       "<path clip-path=\"url(#clip062)\" d=\"\n",
       "M1160.57 499.355 L1136.22 457.183 L1087.52 457.183 L1063.17 499.355 L1087.52 541.528 L1136.22 541.528 L1160.57 499.355 L1160.57 499.355  Z\n",
       "  \" fill=\"#009af9\" fill-rule=\"evenodd\" fill-opacity=\"1\"/>\n",
       "<polyline clip-path=\"url(#clip062)\" style=\"stroke:#000000; stroke-linecap:butt; stroke-linejoin:round; stroke-width:4; stroke-opacity:1; fill:none\" points=\"\n",
       "  1160.57,499.355 1136.22,457.183 1087.52,457.183 1063.17,499.355 1087.52,541.528 1136.22,541.528 1160.57,499.355 \n",
       "  \"/>\n",
       "<path clip-path=\"url(#clip062)\" d=\"\n",
       "M1128.89 843.98 L1111.28 813.489 L1076.08 813.489 L1058.47 843.98 L1076.08 874.47 L1111.28 874.47 L1128.89 843.98 L1128.89 843.98  Z\n",
       "  \" fill=\"#009af9\" fill-rule=\"evenodd\" fill-opacity=\"1\"/>\n",
       "<polyline clip-path=\"url(#clip062)\" style=\"stroke:#000000; stroke-linecap:butt; stroke-linejoin:round; stroke-width:4; stroke-opacity:1; fill:none\" points=\"\n",
       "  1128.89,843.98 1111.28,813.489 1076.08,813.489 1058.47,843.98 1076.08,874.47 1111.28,874.47 1128.89,843.98 \n",
       "  \"/>\n",
       "<path clip-path=\"url(#clip062)\" d=\"\n",
       "M1282.22 1044.69 L1237.02 966.412 L1146.63 966.412 L1101.43 1044.69 L1146.63 1122.98 L1237.02 1122.98 L1282.22 1044.69 L1282.22 1044.69  Z\n",
       "  \" fill=\"#009af9\" fill-rule=\"evenodd\" fill-opacity=\"1\"/>\n",
       "<polyline clip-path=\"url(#clip062)\" style=\"stroke:#000000; stroke-linecap:butt; stroke-linejoin:round; stroke-width:4; stroke-opacity:1; fill:none\" points=\"\n",
       "  1282.22,1044.69 1237.02,966.412 1146.63,966.412 1101.43,1044.69 1146.63,1122.98 1237.02,1122.98 1282.22,1044.69 \n",
       "  \"/>\n",
       "<path clip-path=\"url(#clip062)\" d=\"\n",
       "M975.255 1273.06 L944.606 1219.97 L883.307 1219.97 L852.657 1273.06 L883.307 1326.14 L944.606 1326.14 L975.255 1273.06 L975.255 1273.06  Z\n",
       "  \" fill=\"#009af9\" fill-rule=\"evenodd\" fill-opacity=\"1\"/>\n",
       "<polyline clip-path=\"url(#clip062)\" style=\"stroke:#000000; stroke-linecap:butt; stroke-linejoin:round; stroke-width:4; stroke-opacity:1; fill:none\" points=\"\n",
       "  975.255,1273.06 944.606,1219.97 883.307,1219.97 852.657,1273.06 883.307,1326.14 944.606,1326.14 975.255,1273.06 \n",
       "  \"/>\n",
       "<path clip-path=\"url(#clip062)\" d=\"\n",
       "M717.405 1337.68 L689.861 1289.98 L634.773 1289.98 L607.229 1337.68 L634.773 1385.39 L689.861 1385.39 L717.405 1337.68 L717.405 1337.68  Z\n",
       "  \" fill=\"#009af9\" fill-rule=\"evenodd\" fill-opacity=\"1\"/>\n",
       "<polyline clip-path=\"url(#clip062)\" style=\"stroke:#000000; stroke-linecap:butt; stroke-linejoin:round; stroke-width:4; stroke-opacity:1; fill:none\" points=\"\n",
       "  717.405,1337.68 689.861,1289.98 634.773,1289.98 607.229,1337.68 634.773,1385.39 689.861,1385.39 717.405,1337.68 \n",
       "  \"/>\n",
       "<path clip-path=\"url(#clip062)\" d=\"\n",
       "M1468.99 1291.78 L1441.45 1244.07 L1386.36 1244.07 L1358.82 1291.78 L1386.36 1339.49 L1441.45 1339.49 L1468.99 1291.78 L1468.99 1291.78  Z\n",
       "  \" fill=\"#009af9\" fill-rule=\"evenodd\" fill-opacity=\"1\"/>\n",
       "<polyline clip-path=\"url(#clip062)\" style=\"stroke:#000000; stroke-linecap:butt; stroke-linejoin:round; stroke-width:4; stroke-opacity:1; fill:none\" points=\"\n",
       "  1468.99,1291.78 1441.45,1244.07 1386.36,1244.07 1358.82,1291.78 1386.36,1339.49 1441.45,1339.49 1468.99,1291.78 \n",
       "  \"/>\n",
       "<path clip-path=\"url(#clip062)\" d=\"\n",
       "M1792.77 1299.64 L1765.23 1251.93 L1710.14 1251.93 L1682.59 1299.64 L1710.14 1347.35 L1765.23 1347.35 L1792.77 1299.64 L1792.77 1299.64  Z\n",
       "  \" fill=\"#009af9\" fill-rule=\"evenodd\" fill-opacity=\"1\"/>\n",
       "<polyline clip-path=\"url(#clip062)\" style=\"stroke:#000000; stroke-linecap:butt; stroke-linejoin:round; stroke-width:4; stroke-opacity:1; fill:none\" points=\"\n",
       "  1792.77,1299.64 1765.23,1251.93 1710.14,1251.93 1682.59,1299.64 1710.14,1347.35 1765.23,1347.35 1792.77,1299.64 \n",
       "  \"/>\n",
       "<circle clip-path=\"url(#clip062)\" style=\"fill:#009af9; stroke:none; fill-opacity:1\" cx=\"1137.64\" cy=\"262.317\" r=\"2\"/>\n",
       "<circle clip-path=\"url(#clip062)\" style=\"fill:#009af9; stroke:none; fill-opacity:1\" cx=\"1111.87\" cy=\"499.355\" r=\"2\"/>\n",
       "<circle clip-path=\"url(#clip062)\" style=\"fill:#009af9; stroke:none; fill-opacity:1\" cx=\"1093.68\" cy=\"843.98\" r=\"2\"/>\n",
       "<circle clip-path=\"url(#clip062)\" style=\"fill:#009af9; stroke:none; fill-opacity:1\" cx=\"1191.83\" cy=\"1044.69\" r=\"2\"/>\n",
       "<circle clip-path=\"url(#clip062)\" style=\"fill:#009af9; stroke:none; fill-opacity:1\" cx=\"913.956\" cy=\"1273.06\" r=\"2\"/>\n",
       "<circle clip-path=\"url(#clip062)\" style=\"fill:#009af9; stroke:none; fill-opacity:1\" cx=\"662.317\" cy=\"1337.68\" r=\"2\"/>\n",
       "<circle clip-path=\"url(#clip062)\" style=\"fill:#009af9; stroke:none; fill-opacity:1\" cx=\"1413.91\" cy=\"1291.78\" r=\"2\"/>\n",
       "<circle clip-path=\"url(#clip062)\" style=\"fill:#009af9; stroke:none; fill-opacity:1\" cx=\"1737.68\" cy=\"1299.64\" r=\"2\"/>\n",
       "<path clip-path=\"url(#clip060)\" d=\"M1123.37 255.98 L1120.2 264.58 L1126.55 264.58 L1123.37 255.98 M1122.05 253.677 L1124.7 253.677 L1131.28 270.957 L1128.85 270.957 L1127.28 266.524 L1119.49 266.524 L1117.92 270.957 L1115.45 270.957 L1122.05 253.677 Z\" fill=\"#000000\" fill-rule=\"evenodd\" fill-opacity=\"1\" /><path clip-path=\"url(#clip060)\" d=\"M1144.49 263.133 L1144.49 270.957 L1142.36 270.957 L1142.36 263.203 Q1142.36 261.362 1141.64 260.448 Q1140.92 259.534 1139.49 259.534 Q1137.76 259.534 1136.77 260.633 Q1135.77 261.733 1135.77 263.631 L1135.77 270.957 L1133.63 270.957 L1133.63 257.994 L1135.77 257.994 L1135.77 260.008 Q1136.54 258.839 1137.57 258.261 Q1138.61 257.682 1139.96 257.682 Q1142.2 257.682 1143.34 259.071 Q1144.49 260.448 1144.49 263.133 Z\" fill=\"#000000\" fill-rule=\"evenodd\" fill-opacity=\"1\" /><path clip-path=\"url(#clip060)\" d=\"M1154.13 272.161 Q1153.23 274.476 1152.37 275.182 Q1151.51 275.888 1150.08 275.888 L1148.38 275.888 L1148.38 274.105 L1149.63 274.105 Q1150.51 274.105 1150.99 273.689 Q1151.48 273.272 1152.07 271.721 L1152.45 270.749 L1147.21 257.994 L1149.47 257.994 L1153.52 268.133 L1157.57 257.994 L1159.82 257.994 L1154.13 272.161 Z\" fill=\"#000000\" fill-rule=\"evenodd\" fill-opacity=\"1\" /><path clip-path=\"url(#clip060)\" d=\"M1065.42 490.715 L1068.57 490.715 L1076.23 505.171 L1076.23 490.715 L1078.5 490.715 L1078.5 507.995 L1075.35 507.995 L1067.69 493.539 L1067.69 507.995 L1065.42 507.995 L1065.42 490.715 Z\" fill=\"#000000\" fill-rule=\"evenodd\" fill-opacity=\"1\" /><path clip-path=\"url(#clip060)\" d=\"M1082.84 502.88 L1082.84 495.033 L1084.97 495.033 L1084.97 502.799 Q1084.97 504.639 1085.69 505.565 Q1086.41 506.479 1087.84 506.479 Q1089.57 506.479 1090.56 505.38 Q1091.57 504.28 1091.57 502.382 L1091.57 495.033 L1093.7 495.033 L1093.7 507.995 L1091.57 507.995 L1091.57 506.005 Q1090.79 507.185 1089.76 507.764 Q1088.74 508.331 1087.39 508.331 Q1085.16 508.331 1084 506.942 Q1082.84 505.553 1082.84 502.88 M1088.2 494.72 L1088.2 494.72 Z\" fill=\"#000000\" fill-rule=\"evenodd\" fill-opacity=\"1\" /><path clip-path=\"url(#clip060)\" d=\"M1108.18 497.521 Q1108.98 496.086 1110.09 495.403 Q1111.2 494.72 1112.7 494.72 Q1114.73 494.72 1115.83 496.144 Q1116.93 497.556 1116.93 500.171 L1116.93 507.995 L1114.79 507.995 L1114.79 500.241 Q1114.79 498.377 1114.13 497.475 Q1113.47 496.572 1112.11 496.572 Q1110.46 496.572 1109.5 497.671 Q1108.54 498.771 1108.54 500.669 L1108.54 507.995 L1106.39 507.995 L1106.39 500.241 Q1106.39 498.366 1105.74 497.475 Q1105.08 496.572 1103.7 496.572 Q1102.07 496.572 1101.11 497.683 Q1100.14 498.783 1100.14 500.669 L1100.14 507.995 L1098 507.995 L1098 495.033 L1100.14 495.033 L1100.14 497.046 Q1100.87 495.854 1101.89 495.287 Q1102.91 494.72 1104.31 494.72 Q1105.72 494.72 1106.71 495.438 Q1107.7 496.155 1108.18 497.521 Z\" fill=\"#000000\" fill-rule=\"evenodd\" fill-opacity=\"1\" /><path clip-path=\"url(#clip060)\" d=\"M1130.48 501.526 Q1130.48 499.176 1129.51 497.845 Q1128.55 496.502 1126.86 496.502 Q1125.17 496.502 1124.2 497.845 Q1123.23 499.176 1123.23 501.526 Q1123.23 503.875 1124.2 505.218 Q1125.17 506.549 1126.86 506.549 Q1128.55 506.549 1129.51 505.218 Q1130.48 503.875 1130.48 501.526 M1123.23 497 Q1123.91 495.843 1124.92 495.287 Q1125.95 494.72 1127.38 494.72 Q1129.74 494.72 1131.21 496.595 Q1132.69 498.47 1132.69 501.526 Q1132.69 504.581 1131.21 506.456 Q1129.74 508.331 1127.38 508.331 Q1125.95 508.331 1124.92 507.776 Q1123.91 507.208 1123.23 506.051 L1123.23 507.995 L1121.09 507.995 L1121.09 489.986 L1123.23 489.986 L1123.23 497 Z\" fill=\"#000000\" fill-rule=\"evenodd\" fill-opacity=\"1\" /><path clip-path=\"url(#clip060)\" d=\"M1147.31 500.982 L1147.31 502.023 L1137.52 502.023 Q1137.66 504.222 1138.84 505.38 Q1140.03 506.526 1142.15 506.526 Q1143.37 506.526 1144.52 506.225 Q1145.68 505.924 1146.81 505.322 L1146.81 507.336 Q1145.67 507.822 1144.46 508.076 Q1143.26 508.331 1142.02 508.331 Q1138.92 508.331 1137.1 506.526 Q1135.3 504.72 1135.3 501.641 Q1135.3 498.458 1137.01 496.595 Q1138.73 494.72 1141.65 494.72 Q1144.26 494.72 1145.78 496.41 Q1147.31 498.088 1147.31 500.982 M1145.18 500.357 Q1145.16 498.609 1144.2 497.567 Q1143.25 496.526 1141.67 496.526 Q1139.89 496.526 1138.81 497.533 Q1137.75 498.539 1137.59 500.368 L1145.18 500.357 Z\" fill=\"#000000\" fill-rule=\"evenodd\" fill-opacity=\"1\" /><path clip-path=\"url(#clip060)\" d=\"M1158.32 497.023 Q1157.96 496.815 1157.53 496.722 Q1157.11 496.618 1156.6 496.618 Q1154.8 496.618 1153.83 497.799 Q1152.86 498.968 1152.86 501.167 L1152.86 507.995 L1150.72 507.995 L1150.72 495.033 L1152.86 495.033 L1152.86 497.046 Q1153.54 495.866 1154.61 495.299 Q1155.69 494.72 1157.23 494.72 Q1157.45 494.72 1157.71 494.755 Q1157.98 494.778 1158.3 494.836 L1158.32 497.023 Z\" fill=\"#000000\" fill-rule=\"evenodd\" fill-opacity=\"1\" /><path clip-path=\"url(#clip060)\" d=\"M1078.6 844.518 Q1079.35 844.772 1080.06 845.606 Q1080.78 846.439 1081.49 847.897 L1083.87 852.62 L1081.35 852.62 L1079.14 848.187 Q1078.29 846.451 1077.48 845.883 Q1076.68 845.316 1075.29 845.316 L1072.74 845.316 L1072.74 852.62 L1070.41 852.62 L1070.41 835.34 L1075.68 835.34 Q1078.65 835.34 1080.1 836.578 Q1081.56 837.816 1081.56 840.316 Q1081.56 841.948 1080.8 843.025 Q1080.05 844.101 1078.6 844.518 M1072.74 837.261 L1072.74 843.395 L1075.68 843.395 Q1077.37 843.395 1078.23 842.62 Q1079.1 841.833 1079.1 840.316 Q1079.1 838.8 1078.23 838.036 Q1077.37 837.261 1075.68 837.261 L1072.74 837.261 Z\" fill=\"#000000\" fill-rule=\"evenodd\" fill-opacity=\"1\" /><path clip-path=\"url(#clip060)\" d=\"M1096.81 845.606 L1096.81 846.647 L1087.01 846.647 Q1087.15 848.846 1088.33 850.004 Q1089.53 851.15 1091.64 851.15 Q1092.87 851.15 1094.02 850.849 Q1095.17 850.548 1096.31 849.946 L1096.31 851.96 Q1095.16 852.446 1093.96 852.701 Q1092.75 852.955 1091.52 852.955 Q1088.41 852.955 1086.6 851.15 Q1084.79 849.344 1084.79 846.265 Q1084.79 843.083 1086.5 841.219 Q1088.23 839.344 1091.15 839.344 Q1093.76 839.344 1095.28 841.034 Q1096.81 842.712 1096.81 845.606 M1094.68 844.981 Q1094.65 843.233 1093.69 842.191 Q1092.74 841.15 1091.17 841.15 Q1089.39 841.15 1088.31 842.157 Q1087.25 843.164 1087.08 844.992 L1094.68 844.981 Z\" fill=\"#000000\" fill-rule=\"evenodd\" fill-opacity=\"1\" /><path clip-path=\"url(#clip060)\" d=\"M1106.19 846.103 Q1103.61 846.103 1102.62 846.694 Q1101.62 847.284 1101.62 848.707 Q1101.62 849.842 1102.36 850.513 Q1103.11 851.173 1104.4 851.173 Q1106.17 851.173 1107.23 849.923 Q1108.31 848.661 1108.31 846.578 L1108.31 846.103 L1106.19 846.103 M1110.44 845.224 L1110.44 852.62 L1108.31 852.62 L1108.31 850.652 Q1107.58 851.832 1106.49 852.4 Q1105.4 852.955 1103.83 852.955 Q1101.84 852.955 1100.66 851.844 Q1099.49 850.721 1099.49 848.846 Q1099.49 846.659 1100.95 845.548 Q1102.42 844.437 1105.32 844.437 L1108.31 844.437 L1108.31 844.228 Q1108.31 842.758 1107.34 841.96 Q1106.38 841.15 1104.63 841.15 Q1103.52 841.15 1102.47 841.416 Q1101.41 841.682 1100.44 842.214 L1100.44 840.247 Q1101.61 839.796 1102.71 839.576 Q1103.81 839.344 1104.85 839.344 Q1107.66 839.344 1109.05 840.802 Q1110.44 842.261 1110.44 845.224 Z\" fill=\"#000000\" fill-rule=\"evenodd\" fill-opacity=\"1\" /><path clip-path=\"url(#clip060)\" d=\"M1114.83 834.61 L1116.96 834.61 L1116.96 852.62 L1114.83 852.62 L1114.83 834.61 Z\" fill=\"#000000\" fill-rule=\"evenodd\" fill-opacity=\"1\" /><path clip-path=\"url(#clip060)\" d=\"M1121.1 1038.36 L1117.93 1046.96 L1124.28 1046.96 L1121.1 1038.36 M1119.78 1036.05 L1122.43 1036.05 L1129.02 1053.33 L1126.59 1053.33 L1125.01 1048.9 L1117.22 1048.9 L1115.65 1053.33 L1113.18 1053.33 L1119.78 1036.05 Z\" fill=\"#000000\" fill-rule=\"evenodd\" fill-opacity=\"1\" /><path clip-path=\"url(#clip060)\" d=\"M1140.75 1046.86 Q1140.75 1044.52 1139.78 1043.18 Q1138.82 1041.84 1137.13 1041.84 Q1135.44 1041.84 1134.47 1043.18 Q1133.51 1044.52 1133.51 1046.86 Q1133.51 1049.21 1134.47 1050.56 Q1135.44 1051.89 1137.13 1051.89 Q1138.82 1051.89 1139.78 1050.56 Q1140.75 1049.21 1140.75 1046.86 M1133.51 1042.34 Q1134.18 1041.18 1135.2 1040.63 Q1136.23 1040.06 1137.65 1040.06 Q1140.01 1040.06 1141.48 1041.93 Q1142.96 1043.81 1142.96 1046.86 Q1142.96 1049.92 1141.48 1051.8 Q1140.01 1053.67 1137.65 1053.67 Q1136.23 1053.67 1135.2 1053.11 Q1134.18 1052.55 1133.51 1051.39 L1133.51 1053.33 L1131.37 1053.33 L1131.37 1035.33 L1133.51 1035.33 L1133.51 1042.34 Z\" fill=\"#000000\" fill-rule=\"evenodd\" fill-opacity=\"1\" /><path clip-path=\"url(#clip060)\" d=\"M1154.76 1040.75 L1154.76 1042.77 Q1153.85 1042.3 1152.88 1042.07 Q1151.91 1041.84 1150.87 1041.84 Q1149.28 1041.84 1148.48 1042.33 Q1147.7 1042.81 1147.7 1043.79 Q1147.7 1044.53 1148.26 1044.96 Q1148.83 1045.37 1150.54 1045.75 L1151.27 1045.92 Q1153.54 1046.4 1154.49 1047.29 Q1155.45 1048.17 1155.45 1049.76 Q1155.45 1051.56 1154.02 1052.62 Q1152.59 1053.67 1150.09 1053.67 Q1149.05 1053.67 1147.92 1053.46 Q1146.79 1053.27 1145.54 1052.86 L1145.54 1050.66 Q1146.72 1051.27 1147.87 1051.59 Q1149.02 1051.89 1150.14 1051.89 Q1151.64 1051.89 1152.45 1051.38 Q1153.26 1050.86 1153.26 1049.92 Q1153.26 1049.05 1152.67 1048.59 Q1152.09 1048.13 1150.11 1047.7 L1149.37 1047.52 Q1147.4 1047.11 1146.52 1046.25 Q1145.64 1045.38 1145.64 1043.88 Q1145.64 1042.05 1146.93 1041.05 Q1148.23 1040.06 1150.61 1040.06 Q1151.79 1040.06 1152.83 1040.23 Q1153.88 1040.41 1154.76 1040.75 Z\" fill=\"#000000\" fill-rule=\"evenodd\" fill-opacity=\"1\" /><path clip-path=\"url(#clip060)\" d=\"M1160.95 1036.69 L1160.95 1040.37 L1165.33 1040.37 L1165.33 1042.03 L1160.95 1042.03 L1160.95 1049.06 Q1160.95 1050.65 1161.38 1051.1 Q1161.82 1051.55 1163.15 1051.55 L1165.33 1051.55 L1165.33 1053.33 L1163.15 1053.33 Q1160.68 1053.33 1159.74 1052.42 Q1158.81 1051.49 1158.81 1049.06 L1158.81 1042.03 L1157.24 1042.03 L1157.24 1040.37 L1158.81 1040.37 L1158.81 1036.69 L1160.95 1036.69 Z\" fill=\"#000000\" fill-rule=\"evenodd\" fill-opacity=\"1\" /><path clip-path=\"url(#clip060)\" d=\"M1175.65 1042.36 Q1175.29 1042.15 1174.86 1042.06 Q1174.44 1041.96 1173.93 1041.96 Q1172.13 1041.96 1171.16 1043.14 Q1170.2 1044.31 1170.2 1046.51 L1170.2 1053.33 L1168.05 1053.33 L1168.05 1040.37 L1170.2 1040.37 L1170.2 1042.39 Q1170.87 1041.21 1171.94 1040.64 Q1173.02 1040.06 1174.56 1040.06 Q1174.78 1040.06 1175.05 1040.09 Q1175.31 1040.12 1175.64 1040.18 L1175.65 1042.36 Z\" fill=\"#000000\" fill-rule=\"evenodd\" fill-opacity=\"1\" /><path clip-path=\"url(#clip060)\" d=\"M1183.77 1046.82 Q1181.19 1046.82 1180.2 1047.41 Q1179.2 1048 1179.2 1049.42 Q1179.2 1050.56 1179.94 1051.23 Q1180.69 1051.89 1181.98 1051.89 Q1183.75 1051.89 1184.81 1050.64 Q1185.89 1049.38 1185.89 1047.29 L1185.89 1046.82 L1183.77 1046.82 M1188.02 1045.94 L1188.02 1053.33 L1185.89 1053.33 L1185.89 1051.37 Q1185.16 1052.55 1184.07 1053.11 Q1182.99 1053.67 1181.41 1053.67 Q1179.42 1053.67 1178.24 1052.56 Q1177.07 1051.44 1177.07 1049.56 Q1177.07 1047.37 1178.53 1046.26 Q1180 1045.15 1182.9 1045.15 L1185.89 1045.15 L1185.89 1044.94 Q1185.89 1043.47 1184.92 1042.68 Q1183.96 1041.86 1182.21 1041.86 Q1181.1 1041.86 1180.05 1042.13 Q1178.99 1042.4 1178.02 1042.93 L1178.02 1040.96 Q1179.19 1040.51 1180.29 1040.29 Q1181.39 1040.06 1182.43 1040.06 Q1185.24 1040.06 1186.63 1041.52 Q1188.02 1042.98 1188.02 1045.94 Z\" fill=\"#000000\" fill-rule=\"evenodd\" fill-opacity=\"1\" /><path clip-path=\"url(#clip060)\" d=\"M1201.74 1040.87 L1201.74 1042.86 Q1200.83 1042.36 1199.92 1042.12 Q1199.02 1041.86 1198.09 1041.86 Q1196.02 1041.86 1194.87 1043.18 Q1193.73 1044.49 1193.73 1046.86 Q1193.73 1049.24 1194.87 1050.56 Q1196.02 1051.86 1198.09 1051.86 Q1199.02 1051.86 1199.92 1051.62 Q1200.83 1051.37 1201.74 1050.87 L1201.74 1052.84 Q1200.84 1053.25 1199.88 1053.46 Q1198.93 1053.67 1197.86 1053.67 Q1194.93 1053.67 1193.21 1051.83 Q1191.48 1049.99 1191.48 1046.86 Q1191.48 1043.69 1193.22 1041.88 Q1194.96 1040.06 1198 1040.06 Q1198.98 1040.06 1199.92 1040.27 Q1200.86 1040.46 1201.74 1040.87 Z\" fill=\"#000000\" fill-rule=\"evenodd\" fill-opacity=\"1\" /><path clip-path=\"url(#clip060)\" d=\"M1207.55 1036.69 L1207.55 1040.37 L1211.93 1040.37 L1211.93 1042.03 L1207.55 1042.03 L1207.55 1049.06 Q1207.55 1050.65 1207.97 1051.1 Q1208.41 1051.55 1209.74 1051.55 L1211.93 1051.55 L1211.93 1053.33 L1209.74 1053.33 Q1207.28 1053.33 1206.34 1052.42 Q1205.4 1051.49 1205.4 1049.06 L1205.4 1042.03 L1203.84 1042.03 L1203.84 1040.37 L1205.4 1040.37 L1205.4 1036.69 L1207.55 1036.69 Z\" fill=\"#000000\" fill-rule=\"evenodd\" fill-opacity=\"1\" /><path clip-path=\"url(#clip060)\" d=\"M1214.83 1036.05 L1224.76 1036.05 L1224.76 1038.02 L1217.16 1038.02 L1217.16 1043.11 L1224.02 1043.11 L1224.02 1045.08 L1217.16 1045.08 L1217.16 1053.33 L1214.83 1053.33 L1214.83 1036.05 Z\" fill=\"#000000\" fill-rule=\"evenodd\" fill-opacity=\"1\" /><path clip-path=\"url(#clip060)\" d=\"M1228.37 1035.33 L1230.5 1035.33 L1230.5 1053.33 L1228.37 1053.33 L1228.37 1035.33 Z\" fill=\"#000000\" fill-rule=\"evenodd\" fill-opacity=\"1\" /><path clip-path=\"url(#clip060)\" d=\"M1239.98 1041.86 Q1238.26 1041.86 1237.27 1043.21 Q1236.27 1044.54 1236.27 1046.86 Q1236.27 1049.19 1237.26 1050.53 Q1238.25 1051.86 1239.98 1051.86 Q1241.68 1051.86 1242.67 1050.52 Q1243.67 1049.18 1243.67 1046.86 Q1243.67 1044.56 1242.67 1043.22 Q1241.68 1041.86 1239.98 1041.86 M1239.98 1040.06 Q1242.75 1040.06 1244.34 1041.86 Q1245.92 1043.67 1245.92 1046.86 Q1245.92 1050.05 1244.34 1051.86 Q1242.75 1053.67 1239.98 1053.67 Q1237.19 1053.67 1235.6 1051.86 Q1234.03 1050.05 1234.03 1046.86 Q1234.03 1043.67 1235.6 1041.86 Q1237.19 1040.06 1239.98 1040.06 Z\" fill=\"#000000\" fill-rule=\"evenodd\" fill-opacity=\"1\" /><path clip-path=\"url(#clip060)\" d=\"M1255.35 1046.82 Q1252.76 1046.82 1251.77 1047.41 Q1250.77 1048 1250.77 1049.42 Q1250.77 1050.56 1251.51 1051.23 Q1252.27 1051.89 1253.55 1051.89 Q1255.32 1051.89 1256.39 1050.64 Q1257.46 1049.38 1257.46 1047.29 L1257.46 1046.82 L1255.35 1046.82 M1259.59 1045.94 L1259.59 1053.33 L1257.46 1053.33 L1257.46 1051.37 Q1256.73 1052.55 1255.65 1053.11 Q1254.56 1053.67 1252.98 1053.67 Q1250.99 1053.67 1249.81 1052.56 Q1248.64 1051.44 1248.64 1049.56 Q1248.64 1047.37 1250.1 1046.26 Q1251.57 1045.15 1254.48 1045.15 L1257.46 1045.15 L1257.46 1044.94 Q1257.46 1043.47 1256.49 1042.68 Q1255.53 1041.86 1253.78 1041.86 Q1252.67 1041.86 1251.62 1042.13 Q1250.57 1042.4 1249.59 1042.93 L1249.59 1040.96 Q1250.76 1040.51 1251.86 1040.29 Q1252.96 1040.06 1254 1040.06 Q1256.82 1040.06 1258.2 1041.52 Q1259.59 1042.98 1259.59 1045.94 Z\" fill=\"#000000\" fill-rule=\"evenodd\" fill-opacity=\"1\" /><path clip-path=\"url(#clip060)\" d=\"M1266.09 1036.69 L1266.09 1040.37 L1270.47 1040.37 L1270.47 1042.03 L1266.09 1042.03 L1266.09 1049.06 Q1266.09 1050.65 1266.51 1051.1 Q1266.95 1051.55 1268.29 1051.55 L1270.47 1051.55 L1270.47 1053.33 L1268.29 1053.33 Q1265.82 1053.33 1264.88 1052.42 Q1263.95 1051.49 1263.95 1049.06 L1263.95 1042.03 L1262.38 1042.03 L1262.38 1040.37 L1263.95 1040.37 L1263.95 1036.69 L1266.09 1036.69 Z\" fill=\"#000000\" fill-rule=\"evenodd\" fill-opacity=\"1\" /><path clip-path=\"url(#clip060)\" d=\"M869.524 1273.44 L869.524 1279.77 L873.274 1279.77 Q875.16 1279.77 876.063 1279 Q876.977 1278.21 876.977 1276.6 Q876.977 1274.98 876.063 1274.22 Q875.16 1273.44 873.274 1273.44 L869.524 1273.44 M869.524 1266.34 L869.524 1271.55 L872.984 1271.55 Q874.697 1271.55 875.531 1270.91 Q876.375 1270.26 876.375 1268.94 Q876.375 1267.63 875.531 1266.98 Q874.697 1266.34 872.984 1266.34 L869.524 1266.34 M867.186 1264.42 L873.158 1264.42 Q875.831 1264.42 877.278 1265.53 Q878.725 1266.64 878.725 1268.69 Q878.725 1270.27 877.984 1271.21 Q877.243 1272.15 875.808 1272.38 Q877.533 1272.75 878.482 1273.93 Q879.443 1275.1 879.443 1276.86 Q879.443 1279.17 877.868 1280.43 Q876.294 1281.7 873.389 1281.7 L867.186 1281.7 L867.186 1264.42 Z\" fill=\"#000000\" fill-rule=\"evenodd\" fill-opacity=\"1\" /><path clip-path=\"url(#clip060)\" d=\"M883.355 1268.73 L885.484 1268.73 L885.484 1281.7 L883.355 1281.7 L883.355 1268.73 M883.355 1263.69 L885.484 1263.69 L885.484 1266.38 L883.355 1266.38 L883.355 1263.69 Z\" fill=\"#000000\" fill-rule=\"evenodd\" fill-opacity=\"1\" /><path clip-path=\"url(#clip060)\" d=\"M898.47 1275.06 Q898.47 1272.75 897.51 1271.48 Q896.56 1270.2 894.836 1270.2 Q893.123 1270.2 892.162 1271.48 Q891.213 1272.75 891.213 1275.06 Q891.213 1277.37 892.162 1278.64 Q893.123 1279.91 894.836 1279.91 Q896.56 1279.91 897.51 1278.64 Q898.47 1277.37 898.47 1275.06 M900.6 1280.09 Q900.6 1283.4 899.13 1285.01 Q897.66 1286.63 894.628 1286.63 Q893.505 1286.63 892.51 1286.45 Q891.514 1286.29 890.577 1285.94 L890.577 1283.87 Q891.514 1284.38 892.429 1284.62 Q893.343 1284.87 894.292 1284.87 Q896.387 1284.87 897.429 1283.77 Q898.47 1282.68 898.47 1280.47 L898.47 1279.42 Q897.81 1280.56 896.78 1281.13 Q895.75 1281.7 894.315 1281.7 Q891.931 1281.7 890.473 1279.88 Q889.014 1278.06 889.014 1275.06 Q889.014 1272.05 890.473 1270.24 Q891.931 1268.42 894.315 1268.42 Q895.75 1268.42 896.78 1268.99 Q897.81 1269.55 898.47 1270.7 L898.47 1268.73 L900.6 1268.73 L900.6 1280.09 Z\" fill=\"#000000\" fill-rule=\"evenodd\" fill-opacity=\"1\" /><path clip-path=\"url(#clip060)\" d=\"M905.079 1264.42 L915.009 1264.42 L915.009 1266.38 L907.417 1266.38 L907.417 1271.48 L914.269 1271.48 L914.269 1273.44 L907.417 1273.44 L907.417 1281.7 L905.079 1281.7 L905.079 1264.42 Z\" fill=\"#000000\" fill-rule=\"evenodd\" fill-opacity=\"1\" /><path clip-path=\"url(#clip060)\" d=\"M918.621 1263.69 L920.75 1263.69 L920.75 1281.7 L918.621 1281.7 L918.621 1263.69 Z\" fill=\"#000000\" fill-rule=\"evenodd\" fill-opacity=\"1\" /><path clip-path=\"url(#clip060)\" d=\"M930.229 1270.23 Q928.516 1270.23 927.521 1271.57 Q926.526 1272.9 926.526 1275.23 Q926.526 1277.55 927.509 1278.89 Q928.505 1280.23 930.229 1280.23 Q931.931 1280.23 932.926 1278.88 Q933.921 1277.54 933.921 1275.23 Q933.921 1272.92 932.926 1271.58 Q931.931 1270.23 930.229 1270.23 M930.229 1268.42 Q933.007 1268.42 934.593 1270.23 Q936.178 1272.03 936.178 1275.23 Q936.178 1278.41 934.593 1280.23 Q933.007 1282.03 930.229 1282.03 Q927.44 1282.03 925.854 1280.23 Q924.28 1278.41 924.28 1275.23 Q924.28 1272.03 925.854 1270.23 Q927.44 1268.42 930.229 1268.42 Z\" fill=\"#000000\" fill-rule=\"evenodd\" fill-opacity=\"1\" /><path clip-path=\"url(#clip060)\" d=\"M945.6 1275.18 Q943.019 1275.18 942.023 1275.77 Q941.028 1276.36 941.028 1277.78 Q941.028 1278.92 941.769 1279.59 Q942.521 1280.25 943.806 1280.25 Q945.576 1280.25 946.641 1279 Q947.718 1277.74 947.718 1275.65 L947.718 1275.18 L945.6 1275.18 M949.847 1274.3 L949.847 1281.7 L947.718 1281.7 L947.718 1279.73 Q946.988 1280.91 945.901 1281.48 Q944.813 1282.03 943.238 1282.03 Q941.248 1282.03 940.067 1280.92 Q938.898 1279.8 938.898 1277.92 Q938.898 1275.73 940.357 1274.62 Q941.826 1273.51 944.732 1273.51 L947.718 1273.51 L947.718 1273.3 Q947.718 1271.83 946.745 1271.04 Q945.785 1270.23 944.037 1270.23 Q942.926 1270.23 941.873 1270.49 Q940.82 1270.76 939.847 1271.29 L939.847 1269.32 Q941.016 1268.87 942.116 1268.65 Q943.215 1268.42 944.257 1268.42 Q947.069 1268.42 948.458 1269.88 Q949.847 1271.34 949.847 1274.3 Z\" fill=\"#000000\" fill-rule=\"evenodd\" fill-opacity=\"1\" /><path clip-path=\"url(#clip060)\" d=\"M956.34 1265.05 L956.34 1268.73 L960.727 1268.73 L960.727 1270.39 L956.34 1270.39 L956.34 1277.42 Q956.34 1279.01 956.769 1279.46 Q957.208 1279.91 958.539 1279.91 L960.727 1279.91 L960.727 1281.7 L958.539 1281.7 Q956.074 1281.7 955.137 1280.78 Q954.199 1279.86 954.199 1277.42 L954.199 1270.39 L952.637 1270.39 L952.637 1268.73 L954.199 1268.73 L954.199 1265.05 L956.34 1265.05 Z\" fill=\"#000000\" fill-rule=\"evenodd\" fill-opacity=\"1\" /><path clip-path=\"url(#clip060)\" d=\"M619.875 1329.04 L629.806 1329.04 L629.806 1331.01 L622.213 1331.01 L622.213 1336.1 L629.065 1336.1 L629.065 1338.07 L622.213 1338.07 L622.213 1346.32 L619.875 1346.32 L619.875 1329.04 Z\" fill=\"#000000\" fill-rule=\"evenodd\" fill-opacity=\"1\" /><path clip-path=\"url(#clip060)\" d=\"M633.417 1328.31 L635.547 1328.31 L635.547 1346.32 L633.417 1346.32 L633.417 1328.31 Z\" fill=\"#000000\" fill-rule=\"evenodd\" fill-opacity=\"1\" /><path clip-path=\"url(#clip060)\" d=\"M645.026 1334.85 Q643.313 1334.85 642.317 1336.2 Q641.322 1337.53 641.322 1339.85 Q641.322 1342.18 642.306 1343.52 Q643.301 1344.85 645.026 1344.85 Q646.727 1344.85 647.722 1343.51 Q648.718 1342.17 648.718 1339.85 Q648.718 1337.55 647.722 1336.21 Q646.727 1334.85 645.026 1334.85 M645.026 1333.05 Q647.803 1333.05 649.389 1334.85 Q650.975 1336.66 650.975 1339.85 Q650.975 1343.04 649.389 1344.85 Q647.803 1346.66 645.026 1346.66 Q642.236 1346.66 640.651 1344.85 Q639.077 1343.04 639.077 1339.85 Q639.077 1336.66 640.651 1334.85 Q642.236 1333.05 645.026 1333.05 Z\" fill=\"#000000\" fill-rule=\"evenodd\" fill-opacity=\"1\" /><path clip-path=\"url(#clip060)\" d=\"M660.396 1339.81 Q657.815 1339.81 656.82 1340.4 Q655.824 1340.99 655.824 1342.41 Q655.824 1343.55 656.565 1344.22 Q657.317 1344.88 658.602 1344.88 Q660.373 1344.88 661.438 1343.63 Q662.514 1342.36 662.514 1340.28 L662.514 1339.81 L660.396 1339.81 M664.644 1338.93 L664.644 1346.32 L662.514 1346.32 L662.514 1344.36 Q661.785 1345.54 660.697 1346.1 Q659.609 1346.66 658.035 1346.66 Q656.044 1346.66 654.864 1345.55 Q653.695 1344.42 653.695 1342.55 Q653.695 1340.36 655.153 1339.25 Q656.623 1338.14 659.528 1338.14 L662.514 1338.14 L662.514 1337.93 Q662.514 1336.46 661.542 1335.66 Q660.581 1334.85 658.833 1334.85 Q657.722 1334.85 656.669 1335.12 Q655.616 1335.39 654.644 1335.92 L654.644 1333.95 Q655.813 1333.5 656.912 1333.28 Q658.012 1333.05 659.053 1333.05 Q661.866 1333.05 663.255 1334.51 Q664.644 1335.96 664.644 1338.93 Z\" fill=\"#000000\" fill-rule=\"evenodd\" fill-opacity=\"1\" /><path clip-path=\"url(#clip060)\" d=\"M671.137 1329.68 L671.137 1333.36 L675.523 1333.36 L675.523 1335.01 L671.137 1335.01 L671.137 1342.05 Q671.137 1343.64 671.565 1344.09 Q672.005 1344.54 673.336 1344.54 L675.523 1344.54 L675.523 1346.32 L673.336 1346.32 Q670.87 1346.32 669.933 1345.41 Q668.995 1344.48 668.995 1342.05 L668.995 1335.01 L667.433 1335.01 L667.433 1333.36 L668.995 1333.36 L668.995 1329.68 L671.137 1329.68 Z\" fill=\"#000000\" fill-rule=\"evenodd\" fill-opacity=\"1\" /><path clip-path=\"url(#clip060)\" d=\"M679.03 1344.36 L682.85 1344.36 L682.85 1331.17 L678.694 1332.01 L678.694 1329.88 L682.826 1329.04 L685.164 1329.04 L685.164 1344.36 L688.984 1344.36 L688.984 1346.32 L679.03 1346.32 L679.03 1344.36 Z\" fill=\"#000000\" fill-rule=\"evenodd\" fill-opacity=\"1\" /><path clip-path=\"url(#clip060)\" d=\"M698.995 1336.75 Q697.421 1336.75 696.495 1337.83 Q695.581 1338.9 695.581 1340.78 Q695.581 1342.64 696.495 1343.73 Q697.421 1344.81 698.995 1344.81 Q700.569 1344.81 701.484 1343.73 Q702.41 1342.64 702.41 1340.78 Q702.41 1338.9 701.484 1337.83 Q700.569 1336.75 698.995 1336.75 M703.636 1329.42 L703.636 1331.55 Q702.757 1331.14 701.854 1330.92 Q700.963 1330.7 700.083 1330.7 Q697.768 1330.7 696.542 1332.26 Q695.326 1333.82 695.153 1336.98 Q695.836 1335.98 696.866 1335.44 Q697.896 1334.9 699.134 1334.9 Q701.738 1334.9 703.243 1336.48 Q704.759 1338.06 704.759 1340.78 Q704.759 1343.44 703.185 1345.05 Q701.611 1346.66 698.995 1346.66 Q695.998 1346.66 694.412 1344.37 Q692.826 1342.06 692.826 1337.7 Q692.826 1333.6 694.771 1331.17 Q696.715 1328.73 699.991 1328.73 Q700.87 1328.73 701.761 1328.9 Q702.664 1329.08 703.636 1329.42 Z\" fill=\"#000000\" fill-rule=\"evenodd\" fill-opacity=\"1\" /><path clip-path=\"url(#clip060)\" d=\"M1371.9 1283.14 L1381.83 1283.14 L1381.83 1285.11 L1374.24 1285.11 L1374.24 1290.2 L1381.09 1290.2 L1381.09 1292.17 L1374.24 1292.17 L1374.24 1300.42 L1371.9 1300.42 L1371.9 1283.14 Z\" fill=\"#000000\" fill-rule=\"evenodd\" fill-opacity=\"1\" /><path clip-path=\"url(#clip060)\" d=\"M1385.44 1282.41 L1387.57 1282.41 L1387.57 1300.42 L1385.44 1300.42 L1385.44 1282.41 Z\" fill=\"#000000\" fill-rule=\"evenodd\" fill-opacity=\"1\" /><path clip-path=\"url(#clip060)\" d=\"M1397.05 1288.95 Q1395.34 1288.95 1394.35 1290.29 Q1393.35 1291.62 1393.35 1293.95 Q1393.35 1296.28 1394.33 1297.62 Q1395.33 1298.95 1397.05 1298.95 Q1398.75 1298.95 1399.75 1297.61 Q1400.75 1296.26 1400.75 1293.95 Q1400.75 1291.65 1399.75 1290.3 Q1398.75 1288.95 1397.05 1288.95 M1397.05 1287.14 Q1399.83 1287.14 1401.42 1288.95 Q1403 1290.75 1403 1293.95 Q1403 1297.13 1401.42 1298.95 Q1399.83 1300.75 1397.05 1300.75 Q1394.26 1300.75 1392.68 1298.95 Q1391.1 1297.13 1391.1 1293.95 Q1391.1 1290.75 1392.68 1288.95 Q1394.26 1287.14 1397.05 1287.14 Z\" fill=\"#000000\" fill-rule=\"evenodd\" fill-opacity=\"1\" /><path clip-path=\"url(#clip060)\" d=\"M1412.42 1293.9 Q1409.84 1293.9 1408.85 1294.49 Q1407.85 1295.08 1407.85 1296.51 Q1407.85 1297.64 1408.59 1298.31 Q1409.35 1298.97 1410.63 1298.97 Q1412.4 1298.97 1413.47 1297.72 Q1414.54 1296.46 1414.54 1294.38 L1414.54 1293.9 L1412.42 1293.9 M1416.67 1293.02 L1416.67 1300.42 L1414.54 1300.42 L1414.54 1298.45 Q1413.81 1299.63 1412.72 1300.2 Q1411.64 1300.75 1410.06 1300.75 Q1408.07 1300.75 1406.89 1299.64 Q1405.72 1298.52 1405.72 1296.65 Q1405.72 1294.46 1407.18 1293.35 Q1408.65 1292.24 1411.56 1292.24 L1414.54 1292.24 L1414.54 1292.03 Q1414.54 1290.56 1413.57 1289.76 Q1412.61 1288.95 1410.86 1288.95 Q1409.75 1288.95 1408.7 1289.22 Q1407.64 1289.48 1406.67 1290.01 L1406.67 1288.05 Q1407.84 1287.59 1408.94 1287.38 Q1410.04 1287.14 1411.08 1287.14 Q1413.89 1287.14 1415.28 1288.6 Q1416.67 1290.06 1416.67 1293.02 Z\" fill=\"#000000\" fill-rule=\"evenodd\" fill-opacity=\"1\" /><path clip-path=\"url(#clip060)\" d=\"M1423.16 1283.78 L1423.16 1287.46 L1427.55 1287.46 L1427.55 1289.11 L1423.16 1289.11 L1423.16 1296.15 Q1423.16 1297.73 1423.59 1298.19 Q1424.03 1298.64 1425.36 1298.64 L1427.55 1298.64 L1427.55 1300.42 L1425.36 1300.42 Q1422.9 1300.42 1421.96 1299.5 Q1421.02 1298.58 1421.02 1296.15 L1421.02 1289.11 L1419.46 1289.11 L1419.46 1287.46 L1421.02 1287.46 L1421.02 1283.78 L1423.16 1283.78 Z\" fill=\"#000000\" fill-rule=\"evenodd\" fill-opacity=\"1\" /><path clip-path=\"url(#clip060)\" d=\"M1437.74 1291.1 Q1439.41 1291.46 1440.35 1292.59 Q1441.3 1293.73 1441.3 1295.4 Q1441.3 1297.95 1439.54 1299.35 Q1437.78 1300.75 1434.54 1300.75 Q1433.45 1300.75 1432.3 1300.53 Q1431.15 1300.33 1429.92 1299.9 L1429.92 1297.64 Q1430.9 1298.21 1432.05 1298.5 Q1433.21 1298.79 1434.47 1298.79 Q1436.67 1298.79 1437.82 1297.92 Q1438.97 1297.05 1438.97 1295.4 Q1438.97 1293.87 1437.9 1293.01 Q1436.83 1292.14 1434.92 1292.14 L1432.91 1292.14 L1432.91 1290.22 L1435.02 1290.22 Q1436.74 1290.22 1437.66 1289.54 Q1438.57 1288.84 1438.57 1287.55 Q1438.57 1286.22 1437.62 1285.51 Q1436.68 1284.79 1434.92 1284.79 Q1433.96 1284.79 1432.86 1285 Q1431.76 1285.21 1430.44 1285.65 L1430.44 1283.57 Q1431.78 1283.2 1432.93 1283.01 Q1434.1 1282.83 1435.13 1282.83 Q1437.79 1282.83 1439.34 1284.04 Q1440.9 1285.25 1440.9 1287.31 Q1440.9 1288.74 1440.07 1289.74 Q1439.25 1290.72 1437.74 1291.1 Z\" fill=\"#000000\" fill-rule=\"evenodd\" fill-opacity=\"1\" /><path clip-path=\"url(#clip060)\" d=\"M1447.75 1298.45 L1455.91 1298.45 L1455.91 1300.42 L1444.94 1300.42 L1444.94 1298.45 Q1446.27 1297.07 1448.56 1294.76 Q1450.86 1292.43 1451.45 1291.76 Q1452.57 1290.5 1453.01 1289.63 Q1453.47 1288.75 1453.47 1287.91 Q1453.47 1286.53 1452.49 1285.66 Q1451.53 1284.79 1449.98 1284.79 Q1448.88 1284.79 1447.65 1285.18 Q1446.44 1285.56 1445.05 1286.33 L1445.05 1283.97 Q1446.46 1283.41 1447.69 1283.12 Q1448.92 1282.83 1449.94 1282.83 Q1452.62 1282.83 1454.22 1284.17 Q1455.81 1285.51 1455.81 1287.76 Q1455.81 1288.82 1455.41 1289.78 Q1455.02 1290.73 1453.96 1292.03 Q1453.67 1292.36 1452.12 1293.97 Q1450.57 1295.57 1447.75 1298.45 Z\" fill=\"#000000\" fill-rule=\"evenodd\" fill-opacity=\"1\" /><path clip-path=\"url(#clip060)\" d=\"M1695.16 1291 L1705.09 1291 L1705.09 1292.97 L1697.5 1292.97 L1697.5 1298.06 L1704.35 1298.06 L1704.35 1300.03 L1697.5 1300.03 L1697.5 1308.28 L1695.16 1308.28 L1695.16 1291 Z\" fill=\"#000000\" fill-rule=\"evenodd\" fill-opacity=\"1\" /><path clip-path=\"url(#clip060)\" d=\"M1708.7 1290.27 L1710.83 1290.27 L1710.83 1308.28 L1708.7 1308.28 L1708.7 1290.27 Z\" fill=\"#000000\" fill-rule=\"evenodd\" fill-opacity=\"1\" /><path clip-path=\"url(#clip060)\" d=\"M1720.31 1296.81 Q1718.6 1296.81 1717.6 1298.15 Q1716.61 1299.48 1716.61 1301.81 Q1716.61 1304.13 1717.59 1305.48 Q1718.59 1306.81 1720.31 1306.81 Q1722.01 1306.81 1723.01 1305.47 Q1724 1304.12 1724 1301.81 Q1724 1299.51 1723.01 1298.16 Q1722.01 1296.81 1720.31 1296.81 M1720.31 1295 Q1723.09 1295 1724.67 1296.81 Q1726.26 1298.61 1726.26 1301.81 Q1726.26 1304.99 1724.67 1306.81 Q1723.09 1308.61 1720.31 1308.61 Q1717.52 1308.61 1715.94 1306.81 Q1714.36 1304.99 1714.36 1301.81 Q1714.36 1298.61 1715.94 1296.81 Q1717.52 1295 1720.31 1295 Z\" fill=\"#000000\" fill-rule=\"evenodd\" fill-opacity=\"1\" /><path clip-path=\"url(#clip060)\" d=\"M1735.68 1301.76 Q1733.1 1301.76 1732.1 1302.35 Q1731.11 1302.94 1731.11 1304.37 Q1731.11 1305.5 1731.85 1306.17 Q1732.6 1306.83 1733.89 1306.83 Q1735.66 1306.83 1736.72 1305.58 Q1737.8 1304.32 1737.8 1302.24 L1737.8 1301.76 L1735.68 1301.76 M1739.93 1300.88 L1739.93 1308.28 L1737.8 1308.28 L1737.8 1306.31 Q1737.07 1307.49 1735.98 1308.06 Q1734.89 1308.61 1733.32 1308.61 Q1731.33 1308.61 1730.15 1307.5 Q1728.98 1306.38 1728.98 1304.51 Q1728.98 1302.32 1730.44 1301.21 Q1731.91 1300.1 1734.81 1300.1 L1737.8 1300.1 L1737.8 1299.89 Q1737.8 1298.42 1736.83 1297.62 Q1735.87 1296.81 1734.12 1296.81 Q1733.01 1296.81 1731.95 1297.07 Q1730.9 1297.34 1729.93 1297.87 L1729.93 1295.91 Q1731.1 1295.45 1732.2 1295.23 Q1733.3 1295 1734.34 1295 Q1737.15 1295 1738.54 1296.46 Q1739.93 1297.92 1739.93 1300.88 Z\" fill=\"#000000\" fill-rule=\"evenodd\" fill-opacity=\"1\" /><path clip-path=\"url(#clip060)\" d=\"M1746.42 1291.63 L1746.42 1295.32 L1750.81 1295.32 L1750.81 1296.97 L1746.42 1296.97 L1746.42 1304.01 Q1746.42 1305.59 1746.85 1306.04 Q1747.29 1306.5 1748.62 1306.5 L1750.81 1306.5 L1750.81 1308.28 L1748.62 1308.28 Q1746.15 1308.28 1745.22 1307.36 Q1744.28 1306.44 1744.28 1304.01 L1744.28 1296.97 L1742.72 1296.97 L1742.72 1295.32 L1744.28 1295.32 L1744.28 1291.63 L1746.42 1291.63 Z\" fill=\"#000000\" fill-rule=\"evenodd\" fill-opacity=\"1\" /><path clip-path=\"url(#clip060)\" d=\"M1759.2 1298.71 Q1757.62 1298.71 1756.7 1299.78 Q1755.78 1300.86 1755.78 1302.73 Q1755.78 1304.6 1756.7 1305.69 Q1757.62 1306.76 1759.2 1306.76 Q1760.77 1306.76 1761.69 1305.69 Q1762.61 1304.6 1762.61 1302.73 Q1762.61 1300.86 1761.69 1299.78 Q1760.77 1298.71 1759.2 1298.71 M1763.84 1291.38 L1763.84 1293.51 Q1762.96 1293.09 1762.06 1292.87 Q1761.17 1292.65 1760.29 1292.65 Q1757.97 1292.65 1756.75 1294.22 Q1755.53 1295.78 1755.36 1298.94 Q1756.04 1297.93 1757.07 1297.4 Q1758.1 1296.85 1759.34 1296.85 Q1761.94 1296.85 1763.45 1298.44 Q1764.96 1300.01 1764.96 1302.73 Q1764.96 1305.4 1763.39 1307.01 Q1761.81 1308.61 1759.2 1308.61 Q1756.2 1308.61 1754.62 1306.32 Q1753.03 1304.02 1753.03 1299.66 Q1753.03 1295.56 1754.97 1293.13 Q1756.92 1290.69 1760.19 1290.69 Q1761.07 1290.69 1761.97 1290.86 Q1762.87 1291.03 1763.84 1291.38 Z\" fill=\"#000000\" fill-rule=\"evenodd\" fill-opacity=\"1\" /><path clip-path=\"url(#clip060)\" d=\"M1775.41 1293.04 L1769.51 1302.26 L1775.41 1302.26 L1775.41 1293.04 M1774.8 1291 L1777.74 1291 L1777.74 1302.26 L1780.21 1302.26 L1780.21 1304.2 L1777.74 1304.2 L1777.74 1308.28 L1775.41 1308.28 L1775.41 1304.2 L1767.61 1304.2 L1767.61 1301.95 L1774.8 1291 Z\" fill=\"#000000\" fill-rule=\"evenodd\" fill-opacity=\"1\" /></svg>\n"
      ]
     },
     "execution_count": 58,
     "metadata": {},
     "output_type": "execute_result"
    }
   ],
   "source": [
    "using GraphRecipes, Plots\n",
    "\n",
    "#pyplot(size=(800, 600))\n",
    "gr(size=(600, 400))\n",
    "theme(:default)\n",
    "\n",
    "plot(AbstractFloat, method=:tree, fontsize=4)"
   ]
  },
  {
   "cell_type": "markdown",
   "metadata": {},
   "source": [
    "### Half precision (Float16)\n",
    "\n",
    "<img src=\"./half-precision-numbers.png\" width=\"300\" align=\"center\"/>\n",
    "\n",
    "Source: <https://en.wikipedia.org/wiki/Half-precision_floating-point_format>\n",
    "    \n",
    "- In Julia, `Float16` is the type for half precision numbers.\n",
    "\n",
    "- MSB is the sign bit.  \n",
    "\n",
    "- 10 significand bits (**fraction**=**mantissa**), hence $p=11$ (why?)\n",
    "\n",
    "- 5 exponent bits: $e_{\\max}=15$, $e_{\\min}=-14$, **bias**=15 = $01111_2$ for encoding:\n",
    "    + $e_{\\min} = \\mathbf{00001_2} - 01111_2 = -14_{10}$\n",
    "    + $e_{\\max} = \\mathbf{11110_2} - 01111_2 = 15_{10}$\n",
    "\n",
    "- $e_{\\text{min}}-1$ and $e_{\\text{max}}+1$ are reserved for special numbers.  \n",
    "\n",
    "- range of **magnitude**: $10^{\\pm 4}$ in decimal because $\\log_{10} (2^{15}) \\approx 4$.  \n",
    "\n",
    "- **Precision**: $\\log_{10}2^{11} \\approx 3.311$ decimal digits. \n",
    "\n",
    "$$\n",
    "(value) = (-1)^{b_{15}}\\times 2^{(\\sum_{j=1}^5 b_{15-j}2^{5-j}) - 15} \\times \\left( 1 + \\sum_{i=1}^{10}\\frac{b_{10-i}}{2^i}\\right)\n",
    "$$"
   ]
  },
  {
   "cell_type": "code",
   "execution_count": 59,
   "metadata": {},
   "outputs": [
    {
     "name": "stdout",
     "output_type": "stream",
     "text": [
      "Half precision:\n",
      "bitstring(Float16(5)) = \"0100010100000000\"\n",
      "bitstring(Float16(-5)) = \"1100010100000000\"\n"
     ]
    }
   ],
   "source": [
    "println(\"Half precision:\")\n",
    "@show bitstring(Float16(5)) # 5 in half precision\n",
    "@show bitstring(Float16(-5)); # -5 in half precision"
   ]
  },
  {
   "cell_type": "markdown",
   "metadata": {},
   "source": [
    "### Single precision (Float32)\n",
    "\n",
    "<img src=\"./single-precision-numbers.png\" width=\"600\" align=\"center\"/>\n",
    "\n",
    "Source: <https://en.wikipedia.org/wiki/Single-precision_floating-point_format>\n",
    "\n",
    "- In Julia, `Float32` is the type for single precision numbers.  \n",
    "\n",
    "- MSB is the sign bit.  \n",
    "\n",
    "- 23 significand bits ($p=24$).  \n",
    "\n",
    "- 8 exponent bits: $e_{\\max}=127$, $e_{\\min}=-126$, **bias**=127.  \n",
    "\n",
    "- $e_{\\text{min}}-1$ and $e_{\\text{max}}+1$ are reserved for special numbers.  \n",
    "\n",
    "- range of **magnitude**: $10^{\\pm 38}$ in decimal because $\\log_{10} (2^{127}) \\approx 38$.\n",
    "\n",
    "- **precision**: $\\log_{10}(2^{24}) \\approx 7.225$ decimal digits.  "
   ]
  },
  {
   "cell_type": "code",
   "execution_count": 60,
   "metadata": {},
   "outputs": [
    {
     "name": "stdout",
     "output_type": "stream",
     "text": [
      "Single precision:\n",
      "bitstring(Float32(5)) = \"01000000101000000000000000000000\"\n",
      "bitstring(Float32(-5)) = \"11000000101000000000000000000000\"\n"
     ]
    }
   ],
   "source": [
    "println(\"Single precision:\")\n",
    "@show bitstring(Float32(5)) # 5 in single precision\n",
    "@show bitstring(Float32(-5)); # -5 in single precision"
   ]
  },
  {
   "cell_type": "markdown",
   "metadata": {},
   "source": [
    "### Double precision (Float64)\n",
    "\n",
    "<img src=\"./double-precision-numbers.png\" width=\"600\" align=\"center\"/>\n",
    "\n",
    "Source: <https://en.wikipedia.org/wiki/Double-precision_floating-point_format>\n",
    "\n",
    "- Double precision (64 bits = 8 bytes) numbers are the dominant data type in scientific computing.\n",
    "      \n",
    "- In Julia, `Float64` is the type for double precision numbers.    \n",
    "\n",
    "- MSB is the sign bit.  \n",
    "\n",
    "- 52 significand bits ($p=53$).\n",
    "\n",
    "- 11 exponent bits: $e_{\\max}=1023$, $e_{\\min}=-1022$, **bias**=1023.  \n",
    "\n",
    "- $e_{\\text{min}}-1$ and $e_{\\text{max}}+1$ are reserved for special numbers.  \n",
    "\n",
    "- range of **magnitude**: $10^{\\pm 308}$ in decimal because $\\log_{10} (2^{1023}) \\approx 308$.  \n",
    "\n",
    "- **precision** to the $\\log_{10}(2^{53}) \\approx 15.95$ decimal point."
   ]
  },
  {
   "cell_type": "code",
   "execution_count": 61,
   "metadata": {},
   "outputs": [
    {
     "name": "stdout",
     "output_type": "stream",
     "text": [
      "Double precision:\n",
      "bitstring(Float64(5)) = \"0100000000010100000000000000000000000000000000000000000000000000\"\n",
      "bitstring(Float64(-5)) = \"1100000000010100000000000000000000000000000000000000000000000000\"\n"
     ]
    }
   ],
   "source": [
    "println(\"Double precision:\")\n",
    "@show bitstring(Float64(5)) # 5 in double precision\n",
    "@show bitstring(Float64(-5)); # -5 in double precision"
   ]
  },
  {
   "cell_type": "markdown",
   "metadata": {},
   "source": [
    "### Special floating-point numbers\n",
    "\n",
    "- Exponent $e_{\\max}+1$ plus a zero mantissa means $\\pm \\infty$."
   ]
  },
  {
   "cell_type": "code",
   "execution_count": 62,
   "metadata": {},
   "outputs": [
    {
     "name": "stdout",
     "output_type": "stream",
     "text": [
      "bitstring(Inf) = \"0111111111110000000000000000000000000000000000000000000000000000\"\n",
      "bitstring(-Inf) = \"1111111111110000000000000000000000000000000000000000000000000000\"\n"
     ]
    }
   ],
   "source": [
    "@show bitstring(Inf) # Inf in double precision\n",
    "@show bitstring(-Inf); # -Inf in double precision"
   ]
  },
  {
   "cell_type": "markdown",
   "metadata": {},
   "source": [
    "- Exponent $e_{\\max}+1$ plus a nonzero mantissa means `NaN`. `NaN` could be produced from `0 / 0`, `0 * Inf`, ...  \n",
    "\n",
    "- In general `NaN ≠ NaN` bitwise. Test whether a number is `NaN` by `isnan` function.  "
   ]
  },
  {
   "cell_type": "code",
   "execution_count": 63,
   "metadata": {},
   "outputs": [
    {
     "name": "stdout",
     "output_type": "stream",
     "text": [
      "bitstring(0 / 0) = \"1111111111111000000000000000000000000000000000000000000000000000\"\n",
      "bitstring(0Inf) = \"1111111111111000000000000000000000000000000000000000000000000000\"\n"
     ]
    }
   ],
   "source": [
    "@show bitstring(0 / 0) # NaN\n",
    "@show bitstring(0 * Inf); # NaN"
   ]
  },
  {
   "cell_type": "markdown",
   "metadata": {},
   "source": [
    "- Exponent $e_{\\min}-1$ with a zero mantissa represents the real number 0 (\"exact zero\").  \n",
    "    + Why do we need an exact zero?"
   ]
  },
  {
   "cell_type": "code",
   "execution_count": 64,
   "metadata": {},
   "outputs": [
    {
     "name": "stdout",
     "output_type": "stream",
     "text": [
      "bitstring(0.0) = \"0000000000000000000000000000000000000000000000000000000000000000\"\n"
     ]
    }
   ],
   "source": [
    "@show bitstring(0.0); # 0 in double precision "
   ]
  },
  {
   "cell_type": "markdown",
   "metadata": {},
   "source": [
    "- Exponent $e_{\\min}-1$ with a nonzero mantissa are for numbers less than $b^{e_{\\min}}$ (subnormal numbers).\n",
    "- Numbers are _denormalized_ in the range $(0,b^{e_{\\min}})$ -- **gradual underflow**. \n",
    "- For example, in half-precision, $e_{\\min}=-14$ but $2^{-24}$ is represented by $0.0000000001_2 \\times 2^{-14}$.\n",
    "- If floating point numbers are all normalized, the spacing between 0 and $b^{e_{\\min}}$ is just $b^{e_{\\min}}$, whereas the spacing between $b^{e_{\\min}}$ and $b^{e_{\\min}+1}$ is $b^{e_{\\min}-p+1}$. With subnormal numbers, the spacing between 0 and $b^{e_{\\min}}$ can be $b^{e_{\\min}-p}$, which is more consistent with the spacing just above $b^{e_{\\min}}$."
   ]
  },
  {
   "cell_type": "code",
   "execution_count": 65,
   "metadata": {},
   "outputs": [
    {
     "name": "stdout",
     "output_type": "stream",
     "text": [
      "Float16(2 ^ -14) = Float16(6.104e-5)\n",
      "bitstring(Float16(2 ^ -14)) = \"0000010000000000\"\n",
      "Float16(2 ^ -24) = Float16(6.0e-8)\n",
      "bitstring(Float16(2 ^ -24)) = \"0000000000000001\"\n"
     ]
    }
   ],
   "source": [
    "@show Float16(2^(-14))  # emin=-14\n",
    "@show bitstring(Float16(2^(-14)));\n",
    "@show Float16(2^(-24))  # emin=-14\n",
    "@show bitstring(Float16(2^(-24))); # denormalized"
   ]
  },
  {
   "cell_type": "code",
   "execution_count": 66,
   "metadata": {},
   "outputs": [
    {
     "name": "stdout",
     "output_type": "stream",
     "text": [
      "nextfloat(Float16(0.0)) = Float16(6.0e-8)\n",
      "bitstring(nextfloat(Float16(0.0))) = \"0000000000000001\"\n"
     ]
    }
   ],
   "source": [
    "@show nextfloat(Float16(0.0)) # next representable number\n",
    "@show bitstring(nextfloat(Float16(0.0))); # denormalized"
   ]
  },
  {
   "cell_type": "markdown",
   "metadata": {},
   "source": [
    "### Rounding\n",
    "\n",
    "* Rounding is necessary whenever a number has more than $p$ significand bits. Most computer systems use the default IEEE 754 _round to nearest_ mode (also called _ties to even_ mode). Julia offers several [rounding modes](https://docs.julialang.org/en/v1/base/math/#Base.Rounding.RoundingMode), the default being [`RoundNearest`](https://docs.julialang.org/en/v1/base/math/#Base.Rounding.RoundNearest). \n",
    "\n",
    "* \"*Round to nearest, ties to even*\" rule: rounds to the nearest value; if the number falls midway, it is rounded to the nearest value with an even least significant digit (i.e., zero; default for IEEE 754 binary floating point numbers)\n",
    "\n",
    "* For example, the number 1/10 cannot be represented accurately as a (binary) floating point number:\n",
    "$$ 0.1 = 1.10011001\\dotsc_2 \\times 2^{-4} $$"
   ]
  },
  {
   "cell_type": "code",
   "execution_count": 67,
   "metadata": {},
   "outputs": [
    {
     "name": "stdout",
     "output_type": "stream",
     "text": [
      "bitstring(0.1) = \"0011111110111001100110011001100110011001100110011001100110011010\"\n",
      "bitstring(0.1f0) = \"00111101110011001100110011001101\"\n",
      "bitstring(Float16(0.1)) = \"0010111001100110\"\n"
     ]
    }
   ],
   "source": [
    "@show bitstring(0.1);  # double precision Float64\n",
    "@show bitstring(0.1f0); # single precision Float32, 1001 gets rounded to 101(0)\n",
    "@show bitstring(Float16(0.1)); # half precision Float16, 1001 gets rounded to 101(0)"
   ]
  },
  {
   "cell_type": "markdown",
   "metadata": {},
   "source": [
    "### Errors\n",
    "\n",
    "Rounding (more fundamentally, finite precision) incurs errors in floating porint computation. If a real number $x$ is represented by a floating point number $[x]$, then\n",
    "\n",
    "* Absolute error\n",
    "$$\n",
    "    | [x] - x |\n",
    "$$\n",
    "\n",
    "* Relative error\n",
    "$$\n",
    "    \\frac{| [x] - x |}{|x|}\n",
    "$$\n",
    "(if $x \\neq 0$).\n",
    "\n",
    "Of course, we want to ensure that the error after a computation is small."
   ]
  },
  {
   "cell_type": "markdown",
   "metadata": {},
   "source": [
    "### Machine epsilons\n",
    "\n",
    "- Floating-point numbers do not occur uniformly over the real number line\n",
    "    <img src=\"http://www.volkerschatz.com/science/pics/fltscale-wh.png\" width=\"700\" align=\"center\"/>\n",
    "        \n",
    "Source: [What you never wanted to know about floating point but will be forced to find out](http://www.volkerschatz.com/science/float.html)\n",
    "    \n",
    "- Same number of representible numbers in $(2^i, 2^{i+1}]$ as in $(2^{i+1}, 2^{i+2}]$. Within an interval, they are uniformly distributed.\n",
    "    \n",
    "- **Machine epsilons** are the spacings of numbers around 1: \n",
    "    + $\\epsilon_{\\max}$ = (smallest positive floating point number that added to 1 will give a result different from 1) = $\\frac{1}{2^p} + \\frac{1}{2^{2p-1}}$\n",
    "    + $\\epsilon_{\\min}$ = (smallest positive floating point number that subtracted from 1 will give a result different from 1) = $\\frac{1}{2^{p+1}} + \\frac{1}{2^{2p}}$.\n",
    "    + That is, $1 + \\epsilon_{\\max}$ is the number in the \"midway\" between 1 and the floating point number right next to it, etc.\n",
    "    \n",
    "    <img src=\"./machine_epsilons.png\" width=\"500\" align=\"center\"/>\n",
    "\n",
    "Source: *Computational Statistics*, James Gentle, Springer, New York, 2009.\n",
    "\n",
    "*Caution: the definition of $\\epsilon_{\\max}$ and $\\epsilon_{\\min}$ in this book is different from the lecture note.*\n",
    "    \n",
    "- Any real number in the interval $\\left[1 - \\frac{1}{2^{p+1}}, 1 + \\frac{1}{2^p}\\right]=[1.111\\dotsb1|1_2 \\times 2^{-1}, 1.000\\dotsb 0|1 \\times 2^0]$ is represented by a floating point number $1 = 1.00\\dotsc 0_2 \\times 2^0$ (assuming the \"ties to even\" rule: consider $p=2$ case).\n",
    "\n",
    "- Adding $\\frac{1}{2^p}$ to 1 won't reach the next representable floating point number  $1.00\\dotsc 01_2 \\times 2^0 = 1 + \\frac{1}{2^{p-1}}$. Hence $\\epsilon_{\\max} > \\frac{1}{2^p} = 1.00\\dotsc 0_2 \\times 2^{-p}$.\n",
    "\n",
    "- Adding the floating point number *next to* $\\frac{1}{2^p} = 1.00\\dotsc 0_2 \\times 2^{-p}$ to 1 WILL result in $1.00\\dotsc 01_2 \\times 2^0 = 1 + \\frac{1}{2^{p-1}}$, hence $\\epsilon_{\\max} = 1.00\\dotsb 01_2 \\times 2^{-p} = \\frac{1}{2^p} + \\frac{1}{2^{p+p-1}}$.\n",
    "\n",
    "- Subtracting $\\frac{1}{2^{p+1}}$ from 1 results in $1-\\frac{1}{2^{p+1}} = \\frac{1}{2} + \\frac{1}{2^2} + \\dotsb + \\frac{1}{2^p} + \\frac{1}{2^{p+1}}$, which is represented by the floating point number $1.00\\dotsb 0_2 \\times 2^{0} = 1$ by the \"ties to even\" rule. Hence $\\epsilon_{\\min} > \\frac{1}{2^{p+1}}$.\n",
    "\n",
    "- The smallest positive floating point number larger than $\\frac{1}{2^{p+1}}$ is $\\frac{1}{2^{p+1}} + \\frac{1}{2^{2p}}=1.00\\dotsc 1_2 \\times 2^{-p-1}$. Thus $\\epsilon_{\\min} = \\frac{1}{2^{p+1}} + \\frac{1}{2^{2p}}$."
   ]
  },
  {
   "cell_type": "markdown",
   "metadata": {},
   "source": [
    "### Machine precision\n",
    "\n",
    "* Machine epsilon is often called the machine precision.\n",
    "\n",
    "* If a positive real number $x \\in \\mathbb{R}$ is represented by $[x]$ in the floating point arithmetic, then \n",
    "$$\n",
    "    [x] = \\left( 1 + \\sum_{i=1}^{p-1}\\frac{d_{i+1}}{2^i}\\right) \\times 2^e.\n",
    "$$\n",
    "Thus $x - \\frac{2^e}{2^p} < [x] \\le x + \\frac{2^e}{2^p}$, \n",
    "and\n",
    "$$\n",
    "    \\begin{split}\n",
    "    \\frac{| x - [x] |}{|x|} &\\le \\frac{2^e}{2^p|x|} \\le \\frac{2^e}{2^p}\\frac{1}{[x]-2^e/2^p} \\\\\n",
    "                            &\\le \\frac{2^e}{2^p}\\frac{1}{2^e(1-1/2^p)}  \\quad (\\because [x] \\ge 2^e) \\\\\n",
    "                            &\\le \\frac{2^e}{2^p}\\frac{1}{2^e}(1 + \\frac{1}{2^{p-1}}) \\\\\n",
    "                            &= \\frac{1}{2^p} + \\frac{1}{2^{2p-1}} = \\epsilon_{\\max}.\n",
    "    \\end{split}\n",
    "$$\n",
    "That is, the **relative error** of the floating point representation $[x]$ of real number $x$ is bounded by $\\epsilon_{\\max}$."
   ]
  },
  {
   "cell_type": "code",
   "execution_count": 68,
   "metadata": {},
   "outputs": [
    {
     "name": "stdout",
     "output_type": "stream",
     "text": [
      "2 ^ -53 + 2 ^ -105 = 1.1102230246251568e-16\n",
      "1.0 + 2 ^ -53 = 1.0\n",
      "1.0 + (2 ^ -53 + 2 ^ -105) = 1.0000000000000002\n",
      "1.0 + 2 ^ -53 + 2 ^ -105 = 1.0\n",
      "Float32(2 ^ -24 + 2 ^ -47) = 5.960465f-8\n",
      "1.0f0 + Float32(2 ^ -24) = 1.0f0\n",
      "1.0f0 + Float32(2 ^ -24 + 2 ^ -47) = 1.0000001f0\n"
     ]
    }
   ],
   "source": [
    "@show 2^(-53) + 2^(-105);   # epsilon_max for Float64\n",
    "@show 1.0 + 2^(-53);\n",
    "@show 1.0 + (2^(-53) + 2^(-105));\n",
    "@show 1.0 + 2^(-53) + 2^(-105);  # why is the result?  See \"Catastrophic cancellation\"\n",
    "\n",
    "@show Float32(2^(-24) + 2^(-47)); # epsilon_max for Float32\n",
    "@show 1.0f0 + Float32(2^(-24));\n",
    "@show 1.0f0 + Float32(2^(-24) + 2^(-47));"
   ]
  },
  {
   "cell_type": "code",
   "execution_count": 69,
   "metadata": {},
   "outputs": [
    {
     "name": "stdout",
     "output_type": "stream",
     "text": [
      "2 ^ -54 + 2 ^ -106 = 5.551115123125784e-17\n",
      "1 - (2 ^ -54 + 2 ^ -106) = 0.9999999999999999\n",
      "bitstring(1.0) = \"0011111111110000000000000000000000000000000000000000000000000000\"\n",
      "bitstring(1 - (2 ^ -54 + 2 ^ -106)) = \"0011111111101111111111111111111111111111111111111111111111111111\"\n"
     ]
    },
    {
     "data": {
      "text/plain": [
       "\"0011111111101111111111111111111111111111111111111111111111111111\""
      ]
     },
     "execution_count": 69,
     "metadata": {},
     "output_type": "execute_result"
    }
   ],
   "source": [
    "@show 2^(-54) + 2^(-106);  # epsilon_min for Float64\n",
    "@show 1 - (2^(-54) + 2^(-106))\n",
    "@show bitstring(1.0)\n",
    "@show bitstring(1 - (2^(-54) + 2^(-106)))"
   ]
  },
  {
   "cell_type": "markdown",
   "metadata": {},
   "source": [
    "In Julia, `eps(x)` gives the distance between consecutive representable floating point values at `x`, i.e.,\n",
    "```Julia\n",
    "eps(x) == max(x-prevfloat(x), nextfloat(x)-x)\n",
    "```\n",
    "which is roughly twice the $\\epsilon_{\\max}$."
   ]
  },
  {
   "cell_type": "code",
   "execution_count": 70,
   "metadata": {},
   "outputs": [
    {
     "name": "stdout",
     "output_type": "stream",
     "text": [
      "eps(Float32) = 1.1920929f-7\n",
      "eps(Float64) = 2.220446049250313e-16\n",
      "eps(100.0) = 1.4210854715202004e-14\n",
      "eps(0.0) = 5.0e-324\n",
      "x = 1.25f0 = 1.25f0\n",
      "(prevfloat(x), x, nextfloat(x)) = (1.2499999f0, 1.25f0, 1.2500001f0)\n",
      "(bitstring(prevfloat(x)), bitstring(x), bitstring(nextfloat(x))) = (\"00111111100111111111111111111111\", \"00111111101000000000000000000000\", \"00111111101000000000000000000001\")\n"
     ]
    }
   ],
   "source": [
    "@show eps(Float32)  # machine epsilon for a floating point type, roughly twice our \\epsilon_{\\max}\n",
    "@show eps(Float64)  # same as eps()\n",
    "# eps(x) is the spacing after x\n",
    "@show eps(100.0)\n",
    "@show eps(0.0)\n",
    "# nextfloat(x) and prevfloat(x) give the neighbors of x\n",
    "@show x = 1.25f0\n",
    "@show prevfloat(x), x, nextfloat(x)\n",
    "@show bitstring(prevfloat(x)), bitstring(x), bitstring(nextfloat(x));"
   ]
  },
  {
   "cell_type": "markdown",
   "metadata": {},
   "source": [
    "* In R, the variable `.Machine` contains numerical characteristics of the machine. `double.eps` and `double.neg.eps` are roughly twice our $\\epsilon_{\\max}$ and $\\epsilon_{\\min}$, respectively."
   ]
  },
  {
   "cell_type": "code",
   "execution_count": 71,
   "metadata": {},
   "outputs": [
    {
     "data": {
      "text/plain": [
       "RObject{VecSxp}\n",
       "$double.eps\n",
       "[1] 2.220446e-16\n",
       "\n",
       "$double.neg.eps\n",
       "[1] 1.110223e-16\n",
       "\n",
       "$double.xmin\n",
       "[1] 2.225074e-308\n",
       "\n",
       "$double.xmax\n",
       "[1] 1.797693e+308\n",
       "\n",
       "$double.base\n",
       "[1] 2\n",
       "\n",
       "$double.digits\n",
       "[1] 53\n",
       "\n",
       "$double.rounding\n",
       "[1] 5\n",
       "\n",
       "$double.guard\n",
       "[1] 0\n",
       "\n",
       "$double.ulp.digits\n",
       "[1] -52\n",
       "\n",
       "$double.neg.ulp.digits\n",
       "[1] -53\n",
       "\n",
       "$double.exponent\n",
       "[1] 11\n",
       "\n",
       "$double.min.exp\n",
       "[1] -1022\n",
       "\n",
       "$double.max.exp\n",
       "[1] 1024\n",
       "\n",
       "$integer.max\n",
       "[1] 2147483647\n",
       "\n",
       "$sizeof.long\n",
       "[1] 8\n",
       "\n",
       "$sizeof.longlong\n",
       "[1] 8\n",
       "\n",
       "$sizeof.longdouble\n",
       "[1] 16\n",
       "\n",
       "$sizeof.pointer\n",
       "[1] 8\n",
       "\n",
       "$longdouble.eps\n",
       "[1] 1.084202e-19\n",
       "\n",
       "$longdouble.neg.eps\n",
       "[1] 5.421011e-20\n",
       "\n",
       "$longdouble.digits\n",
       "[1] 64\n",
       "\n",
       "$longdouble.rounding\n",
       "[1] 5\n",
       "\n",
       "$longdouble.guard\n",
       "[1] 0\n",
       "\n",
       "$longdouble.ulp.digits\n",
       "[1] -63\n",
       "\n",
       "$longdouble.neg.ulp.digits\n",
       "[1] -64\n",
       "\n",
       "$longdouble.exponent\n",
       "[1] 15\n",
       "\n",
       "$longdouble.min.exp\n",
       "[1] -16382\n",
       "\n",
       "$longdouble.max.exp\n",
       "[1] 16384\n",
       "\n"
      ]
     },
     "execution_count": 71,
     "metadata": {},
     "output_type": "execute_result"
    }
   ],
   "source": [
    "R\"\"\"\n",
    ".Machine\n",
    "\"\"\""
   ]
  },
  {
   "cell_type": "markdown",
   "metadata": {},
   "source": [
    "### Overflow and underflow of floating-point number\n",
    "\n",
    "* For double precision, the range is $\\pm 10^{\\pm 308}$. In most situations, underflow (magnitude of result is less than $10^{-308}$) is preferred over overflow (magnitude of result is larger than $10^{+308}$). Overflow produces $\\pm \\inf$. Underflow yields zeros or subnormal numbers. \n",
    "\n",
    "* E.g., the logit link function is\n",
    "$$p = \\frac{\\exp (x^T \\beta)}{1 + \\exp (x^T \\beta)} = \\frac{1}{1+\\exp(- x^T \\beta)}.$$\n",
    "The former expression can easily lead to `Inf / Inf = NaN`, while the latter expression leads to gradual underflow.\n",
    "\n",
    "* `floatmin` and `floatmax` functions gives largest and smallest _non-subnormal_ number represented by the given floating point type."
   ]
  },
  {
   "cell_type": "code",
   "execution_count": 32,
   "metadata": {},
   "outputs": [
    {
     "name": "stdout",
     "output_type": "stream",
     "text": [
      "Float16\t6.104e-5\t6.55e4\t-Inf\tInf\t0.000977\n",
      "Float32\t1.1754944e-38\t3.4028235e38\t-Inf\tInf\t1.1920929e-7\n",
      "Float64\t2.2250738585072014e-308\t1.7976931348623157e308\t-Inf\tInf\t2.220446049250313e-16\n"
     ]
    }
   ],
   "source": [
    "for T in [Float16, Float32, Float64]\n",
    "    println(T, '\\t', floatmin(T), '\\t', floatmax(T), '\\t', typemin(T), \n",
    "        '\\t', typemax(T), '\\t', eps(T))\n",
    "end"
   ]
  },
  {
   "cell_type": "markdown",
   "metadata": {},
   "source": [
    "* `BigFloat` in Julia offers arbitrary precision."
   ]
  },
  {
   "cell_type": "code",
   "execution_count": 33,
   "metadata": {},
   "outputs": [
    {
     "name": "stdout",
     "output_type": "stream",
     "text": [
      "precision(BigFloat) = 256\n",
      "floatmin(BigFloat) = 8.50969131174083613912978790962048280567755996982969624908264897850135431080301e-1388255822130839284\n",
      "floatmax(BigFloat) = 5.875653789111587590936911998878442589938516392745498308333779606469323584389875e+1388255822130839282\n"
     ]
    }
   ],
   "source": [
    "@show precision(BigFloat)\n",
    "@show floatmin(BigFloat)\n",
    "@show floatmax(BigFloat);"
   ]
  },
  {
   "cell_type": "code",
   "execution_count": 72,
   "metadata": {},
   "outputs": [
    {
     "name": "stdout",
     "output_type": "stream",
     "text": [
      "BigFloat(π) = 3.141592653589793238462643383279502884197169399375105820974944592307816406286198\n",
      "BigFloat(π) = 3.141592653589793238462643383279502884197169399375105820974944592307816406286208998628034825342117067982148086513282306647093844609550582231725359408128481117450284102701938521105559644622948954930381964428810975665933446128475648233786783165271201909145648566923460348610454326648213393607260249141273724586997\n"
     ]
    }
   ],
   "source": [
    "@show BigFloat(π); # default precision for BigFloat is 256 bits\n",
    "# set precision to 1024 bits\n",
    "setprecision(BigFloat, 1024) do \n",
    "    @show BigFloat(π)\n",
    "end;"
   ]
  },
  {
   "cell_type": "markdown",
   "metadata": {},
   "source": [
    "## Catastrophic cancellation\n",
    "\n",
    "> The result of computation is just the digits that represented the rounding.\n",
    "\n",
    "* **Scenario 1** (benign cancellation): Addition or subtraction of two numbers of widely different magnitudes: $a+b$ or $a-b$ where $a \\gg b$ or $a \\ll b$. We lose the precision in the number of smaller magnitude. Consider \n",
    "$$\\begin{eqnarray*}\n",
    "    a &=& x.xxx ... \\times 2^{30} \\\\  \n",
    "    b &=& y.yyy... \\times 2^{-30}\n",
    "\\end{eqnarray*}$$\n",
    "What happens when computer calculates $a+b$? We get $a+b=a$!"
   ]
  },
  {
   "cell_type": "code",
   "execution_count": 73,
   "metadata": {},
   "outputs": [
    {
     "name": "stdout",
     "output_type": "stream",
     "text": [
      "a = 2.0 ^ 30 = 1.073741824e9\n",
      "b = 2.0 ^ -30 = 9.313225746154785e-10\n",
      "a + b == a = true\n",
      "bitstring(a) = \"0100000111010000000000000000000000000000000000000000000000000000\"\n",
      "bitstring(a + b) = \"0100000111010000000000000000000000000000000000000000000000000000\"\n"
     ]
    }
   ],
   "source": [
    "@show a = 2.0^30\n",
    "@show b = 2.0^-30\n",
    "@show a + b == a\n",
    "@show bitstring(a)\n",
    "@show bitstring(a + b);"
   ]
  },
  {
   "cell_type": "markdown",
   "metadata": {},
   "source": [
    "Analysis: suppose we want to compute $x + y$, $x, y > 0$. Let the relative error of $x$ and $y$ be\n",
    "$$\n",
    "\\delta_x = \\frac{[x] - x}{x},\n",
    "\\quad\n",
    "\\delta_y = \\frac{[y] - y}{y}\n",
    ".\n",
    "$$\n",
    "What the computer actually calculates is $[x] + [y]$, which in turn is represented by $[ [x] + [y] ]$. The relative error of this representation is\n",
    "$$\n",
    "\\delta_{\\text{sum}} = \\frac{[[x]+[y]] - ([x]+[y])}{[x]+[y]}\n",
    ".\n",
    "$$\n",
    "Recall that $|\\delta_x|, |\\delta_y|, |\\delta_{\\text{sum}}| \\le \\epsilon_{\\max}$.\n",
    "\n",
    "We want to find a bound of the relative error of $[[x]+[y]]$ with respect to $x+y$.\n",
    "Since $|[x]+[y]| = |x(1+\\delta_x) + y(1+\\delta_y)| \\le |x+y|(1+\\epsilon_{\\max})$, we have\n",
    "$$\n",
    "\\begin{split}\n",
    "| [[x]+[y]]-(x+y) | &= | [[x]+[y]] - [x] - [y] + [x] - x + [y] - y | \\\\\n",
    "                   &\\le | [[x]+[y]] - [x] - [y] | +  | [x] - x | + | [y] - y | \\\\\n",
    "                   &= |\\delta_{\\text{sum}}([x]+[y])| + |\\delta_x x| + |\\delta_y y| \\\\\n",
    "                   &\\le \\epsilon_{\\max}(x+y)(1+\\epsilon_{\\max}) + \\epsilon_{\\max}x + \\epsilon_{\\max}y \\\\\n",
    "                   &\\approx 2\\epsilon_{\\max}(x+y)\n",
    "\\end{split}\n",
    "$$\n",
    "because $\\epsilon_{\\max}^2 \\approx 0$. Thus\n",
    "$$\n",
    "\\frac{| [[x]+[y]]-(x+y) |}{|x+y|} \\le 2\\epsilon_{\\max}\n",
    "$$\n",
    "approximately."
   ]
  },
  {
   "cell_type": "markdown",
   "metadata": {},
   "source": [
    "* **Scenario 2** (catastrophic cancellation): Subtraction of two nearly equal numbers eliminates significant digits.  $a-b$ where $a \\approx b$. Consider \n",
    "$$\\begin{eqnarray*}\n",
    "    a &=& x.xxxxxxxxxx1ssss  \\\\\n",
    "    b &=& x.xxxxxxxxxx0tttt\n",
    "\\end{eqnarray*}$$\n",
    "The result is $1.vvvvu...u$ where $u$ are unassigned digits."
   ]
  },
  {
   "cell_type": "code",
   "execution_count": 75,
   "metadata": {},
   "outputs": [
    {
     "name": "stdout",
     "output_type": "stream",
     "text": [
      "bitstring(a) = \"00111111100111100000011001010001\"\n",
      "bitstring(b) = \"00111111100111100000011001010000\"\n",
      "a - b = 1.1920929f-7\n",
      "bitstring(a - b) = \"00110100000000000000000000000000\"\n",
      "Float32(1 / 2 ^ 23) = 1.1920929f-7\n"
     ]
    }
   ],
   "source": [
    "a = 1.2345678f0 # rounding\n",
    "@show bitstring(a) # rounding\n",
    "b = 1.2345677f0\n",
    "@show bitstring(b)\n",
    "@show a - b # correct result should be 1f-7\n",
    "@show bitstring(a - b)   # must be 1.0000...0 x 2^(-23)\n",
    "@show Float32(1/2^23);"
   ]
  },
  {
   "cell_type": "markdown",
   "metadata": {},
   "source": [
    "Analysis: Let\n",
    "$$\n",
    "[x] = 1 + \\sum_{i=1}^{p-2}\\frac{d_{i+1}}{2^i} + \\frac{1}{2^{p-1}},\n",
    "\\quad\n",
    "[y] = 1 + \\sum_{i=1}^{p-2}\\frac{d_{i+1}}{2^i} + \\frac{0}{2^{p-1}}\n",
    ".\n",
    "$$\n",
    "\n",
    "* $[x]-[y] = \\frac{1}{2^{p-1}} = [[x]-[y]]$.\n",
    "\n",
    "* The true difference $x-y$ may lie anywhere in $(0, \\frac{1}{2^{p-2}}+\\frac{1}{2^{2p}}]$.\n",
    "\n",
    "* Relative error \n",
    "$$\n",
    "\\frac{|x-y -[[x]-[y]]|}{|x-y|}\n",
    "$$\n",
    "is unbounded -- no guarantee of any significant digit!"
   ]
  },
  {
   "cell_type": "markdown",
   "metadata": {},
   "source": [
    "* Implications for numerical computation\n",
    "    - Rule 1: add small numbers together before adding larger ones  \n",
    "    - Rule 2: add numbers of like magnitude together (paring). When all numbers are of same sign and similar magnitude, add in pairs so each stage the summands are of similar magnitude  \n",
    "    - Rule 3: avoid substraction of two numbers that are nearly equal"
   ]
  },
  {
   "cell_type": "markdown",
   "metadata": {},
   "source": [
    "### Algebraic laws\n",
    "\n",
    "Floating-point numbers may violate many algebraic laws we are familiar with, such associative and distributive laws. See the example in the Machine Epsilon section and HW1."
   ]
  },
  {
   "cell_type": "markdown",
   "metadata": {},
   "source": [
    "## Coditioning\n",
    "\n",
    "Consider solving a linear system $Ax=b$:\n",
    "\n",
    "$$\n",
    "\\begin{bmatrix} 1.000 & 0.500 \\\\ 0.667 & 0.333 \\end{bmatrix}\n",
    "\\begin{bmatrix} x_1 \\\\ x_2 \\end{bmatrix}\n",
    "=\n",
    "\\begin{bmatrix} 1.500 \\\\ 1.000 \\end{bmatrix}\n",
    ",\n",
    "$$\n",
    "\n",
    "whose solution is $(x_1, x_2) = (1.000, 1.000)$."
   ]
  },
  {
   "cell_type": "code",
   "execution_count": 76,
   "metadata": {},
   "outputs": [
    {
     "data": {
      "text/plain": [
       "2-element Vector{Float64}:\n",
       " 0.9999999999998335\n",
       " 1.000000000000333"
      ]
     },
     "execution_count": 76,
     "metadata": {},
     "output_type": "execute_result"
    }
   ],
   "source": [
    "A=[1.0 0.5; 0.667 0.333]; b = [1.5, 1.0]; A\\b"
   ]
  },
  {
   "cell_type": "markdown",
   "metadata": {},
   "source": [
    "If we *perturb* $b$ by 0.001, i.e., solve\n",
    "\n",
    "$$\n",
    "\\begin{bmatrix} 1.000 & 0.500 \\\\ 0.667 & 0.333 \\end{bmatrix}\n",
    "\\begin{bmatrix} x_1 \\\\ x_2 \\end{bmatrix}\n",
    "=\n",
    "\\begin{bmatrix} 1.500 \\\\ 0.999 \\end{bmatrix}\n",
    ",\n",
    "$$\n",
    "\n",
    "then the solution changes to $(x_1, x_2) = (0.000, 3.000)$."
   ]
  },
  {
   "cell_type": "code",
   "execution_count": 77,
   "metadata": {},
   "outputs": [
    {
     "data": {
      "text/plain": [
       "2-element Vector{Float64}:\n",
       " -1.6653345369377348e-13\n",
       "  3.000000000000333"
      ]
     },
     "execution_count": 77,
     "metadata": {},
     "output_type": "execute_result"
    }
   ],
   "source": [
    "b1 = [1.5, 0.999]; A\\b1"
   ]
  },
  {
   "cell_type": "markdown",
   "metadata": {},
   "source": [
    "If we instead perturb $A$ by 0.001, i.e., solve\n",
    "\n",
    "$$\n",
    "\\begin{bmatrix} 1.000 & 0.500 \\\\ 0.667 & 0.334 \\end{bmatrix}\n",
    "\\begin{bmatrix} x_1 \\\\ x_2 \\end{bmatrix}\n",
    "=\n",
    "\\begin{bmatrix} 1.500 \\\\ 1.000 \\end{bmatrix}\n",
    ",\n",
    "$$\n",
    "\n",
    "then this time the solution changes to $(x_1, x_2) = (2.000, -1.000)$."
   ]
  },
  {
   "cell_type": "code",
   "execution_count": 78,
   "metadata": {},
   "outputs": [
    {
     "data": {
      "text/plain": [
       "2-element Vector{Float64}:\n",
       "  2.0000000000001665\n",
       " -1.000000000000333"
      ]
     },
     "execution_count": 78,
     "metadata": {},
     "output_type": "execute_result"
    }
   ],
   "source": [
    "A1=[1.0 0.5; 0.667 0.334]; A1\\b"
   ]
  },
  {
   "cell_type": "markdown",
   "metadata": {},
   "source": [
    "In other words, an input perturbation of order $10^{-3}$ yield an output perturbation of order $10^0$. Thats 3 orders of magnutide of relative change!\n",
    "\n",
    "Floating point representation $[x]$ of a real number $x$ in a digital computer may introduce such input perturbation easily. The perturbation of output of a problem with respect to the input is called *conditioning*."
   ]
  },
  {
   "cell_type": "markdown",
   "metadata": {},
   "source": [
    "* Abstractly, a *problem* can be viewed as function $f: \\mathcal{X} \\to \\mathcal{Y}$ where $\\mathcal{X}$ is a normed vector space of data and $\\mathcal{Y}$ is a normed vector space of solutions.\n",
    "    - The problem of solving $Ax=b$ for fixed $b$ is $f: A \\mapsto A^{-1}b$ with $\\mathcal{X}=\\{M\\in\\mathbb{R}^{n\\times n}: M \\text{ is invertible} \\}$ and $\\mathcal{Y} = \\mathbb{R}^n$.\n",
    "    - The combination of a problem $f$ with a given data $x$ is called a *problem instance*, or simply problem unless no confusion occurs.\n",
    "    \n",
    "* A *well-conditioned* problem (instance) is one such that all small perturbations of $x$ lead to only small changes in $f(x)$.\n",
    "\n",
    "* An *ill-conditioned* problem is one such that some small perturbation of $x$ leads to a large change in $f(x)$.\n",
    "\n",
    "* The (relative) *condition number* $\\kappa=\\kappa(\\theta)$ of a problem is defined by\n",
    "$$\n",
    "    \\kappa = \\lim_{\\delta\\to 0}\\sup_{\\|\\delta \\theta\\|\\le \\delta}\\frac{\\|\\delta f\\|/\\|f(\\theta)\\|}{\\|\\delta \\theta\\|/\\|\\theta\\|}\n",
    "    ,\n",
    "$$\n",
    "where $\\delta f = f(\\theta + \\delta \\theta) - f(\\theta)$.\n",
    "\n",
    "* For the problem of solving $Ax=b$ for fixed $b$,  $f: A \\mapsto A^{-1}b$, it can be shown that the condition number of $f$ is\n",
    "$$\n",
    "    \\kappa = \\|A\\|\\|A^{-1}\\| =: \\kappa(A)\n",
    "    ,\n",
    "$$\n",
    "where $\\|A\\|$ is the matrix norm induced by vector norm $\\|\\cdot\\|$, i.e.,\n",
    "$$\n",
    "    \\|A\\| = \\sup_{x\\neq 0} \\frac{\\|Ax\\|}{\\|x\\|}.\n",
    "$$"
   ]
  },
  {
   "cell_type": "markdown",
   "metadata": {},
   "source": [
    "* To see this, recall $f(A) = A^{-1}b = x$. Since $b = Ax$ and the LHS is fixed, if a perturbation of the input $A \\to A + \\delta A$ yields a perturbation of the output $x \\to x + \\delta x$ or $f \\to f + \\delta f$, then we have\n",
    "$$\n",
    "    0 = (\\delta A) x + A \\delta x + (\\delta A) \\delta x \n",
    "$$\n",
    "or\n",
    "$$\n",
    "    \\delta x = -A^{-1}(\\delta A)x + o(\\Vert \\delta A \\Vert)\n",
    "    .\n",
    "$$\n",
    "That is, $\\delta f = f(A + \\delta A) - f(A) = - A^{-1}(\\delta A)A^{-1}b + o(\\Vert \\delta A \\Vert)$. Then\n",
    "$$\n",
    "\\begin{aligned}\n",
    "    \\kappa &= \\lim_{\\delta\\to 0}\\sup_{\\|\\delta A\\|\\le \\delta}\\frac{(\\Vert A^{-1}(\\delta A)A^{-1}b\\Vert + o(\\Vert \\delta A \\Vert)\\Vert) / \\Vert A^{-1}b \\Vert}{\\Vert \\delta A \\Vert / \\Vert A \\Vert}\n",
    "    =\n",
    "    \\lim_{\\delta\\to 0}\\sup_{\\|\\delta A\\|\\le \\delta} \\frac{\\Vert A^{-1}(\\delta A)A^{-1}b\\Vert / \\Vert A^{-1}b \\Vert}{\\Vert \\delta A \\Vert / \\Vert A \\Vert} + o(1)\n",
    "    \\\\\n",
    "    &=\n",
    "    \\lim_{\\delta\\to 0}\\sup_{\\|\\delta A\\|\\le \\delta} \\frac{\\Vert A^{-1}(\\delta A)A^{-1}b\\Vert / \\Vert A^{-1}b \\Vert}{\\Vert \\delta A \\Vert / \\Vert A \\Vert}\n",
    "    .\n",
    "\\end{aligned}\n",
    "$$\n",
    "From the property of a matrix norm (https://en.wikipedia.org/wiki/Matrix_norm),\n",
    "$$\n",
    "    \\frac{\\Vert A^{-1}(\\delta A)A^{-1}b\\Vert / \\Vert A^{-1}b \\Vert}{\\Vert \\delta A \\Vert / \\Vert A \\Vert}\n",
    "    \\le\n",
    "    \\frac{\\Vert A^{-1} \\Vert \\Vert \\delta A \\Vert \\Vert A^{-1}b\\Vert / \\Vert A^{-1}b \\Vert}{\\Vert \\delta A \\Vert / \\Vert A \\Vert}\n",
    "    = \\Vert A^{-1} \\Vert \\Vert A \\Vert\n",
    "    ,\n",
    "$$\n",
    "hence $\\kappa \\le \\Vert A^{-1} \\Vert \\Vert A \\Vert$.\n",
    "\\\n",
    "It can be shown that for any invertible $A$ and $b$, there exits a perturbation $\\delta A$ such that\n",
    "$$\n",
    "    \\frac{\\Vert A^{-1}(\\delta A)A^{-1}b\\Vert / \\Vert A^{-1}b \\Vert}{\\Vert \\delta A \\Vert / \\Vert A \\Vert}\n",
    "    = \\Vert A^{-1} \\Vert \\Vert A \\Vert\n",
    "    .\n",
    "$$\n",
    "It follows that $\\kappa \\ge \\Vert A^{-1} \\Vert \\Vert A \\Vert$."
   ]
  },
  {
   "cell_type": "markdown",
   "metadata": {},
   "source": [
    "* If Euclidean norm is used, then \n",
    "$$\n",
    "\\kappa(A) = \\sigma_{\\max}(A)/\\sigma_{\\min}(A),\n",
    "$$\n",
    "the ratio of the maximum and minimum singular values of $A$. "
   ]
  },
  {
   "cell_type": "markdown",
   "metadata": {},
   "source": [
    "In the above problem, the condition number is matrix $A$ (w.r.t. Euclidean norm) is"
   ]
  },
  {
   "cell_type": "code",
   "execution_count": 79,
   "metadata": {},
   "outputs": [
    {
     "data": {
      "text/plain": [
       "3611.5557231115513"
      ]
     },
     "execution_count": 79,
     "metadata": {},
     "output_type": "execute_result"
    }
   ],
   "source": [
    "using LinearAlgebra\n",
    "LinearAlgebra.cond(A)"
   ]
  },
  {
   "cell_type": "markdown",
   "metadata": {},
   "source": [
    "## Further readings\n",
    "\n",
    "* Section II.2, [Computational Statistics](https://link.springer.com/book/10.1007%2F978-0-387-98144-4) by James Gentle (2009).\n",
    "\n",
    "* Sections 1.5 and 2.2, [Applied Numerical Linear Algebra](https://doi.org/10.1137/1.9781611971446) by James W. Demmel (1997).\n",
    "\n",
    "* [What every computer scientist should know about floating-point arithmetic](https://www.itu.dk/~sestoft/bachelor/IEEE754_article.pdf) by David Goldberg (1991)."
   ]
  },
  {
   "cell_type": "markdown",
   "metadata": {},
   "source": [
    "## Acknowledgment\n",
    "\n",
    "Many parts of this lecture note is based on [Dr. Hua Zhou](http://hua-zhou.github.io)'s 2019 Spring Statistical Computing course notes available at <http://hua-zhou.github.io/teaching/biostatm280-2019spring/index.html>."
   ]
  }
 ],
 "metadata": {
  "kernelspec": {
   "display_name": "Julia 1.6.2",
   "language": "julia",
   "name": "julia-1.6"
  },
  "language_info": {
   "file_extension": ".jl",
   "mimetype": "application/julia",
   "name": "julia",
   "version": "1.6.2"
  },
  "toc": {
   "colors": {
    "hover_highlight": "#DAA520",
    "running_highlight": "#FF0000",
    "selected_highlight": "#FFD700"
   },
   "moveMenuLeft": true,
   "nav_menu": {
    "height": "250px",
    "width": "252px"
   },
   "navigate_menu": true,
   "number_sections": true,
   "sideBar": true,
   "skip_h1_title": true,
   "threshold": 4,
   "toc_cell": true,
   "toc_section_display": "block",
   "toc_window_display": true,
   "widenNotebook": false
  }
 },
 "nbformat": 4,
 "nbformat_minor": 4
}
