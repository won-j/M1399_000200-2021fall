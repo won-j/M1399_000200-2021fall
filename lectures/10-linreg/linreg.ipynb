{
 "cells": [
  {
   "cell_type": "code",
   "execution_count": 1,
   "metadata": {},
   "outputs": [
    {
     "name": "stdout",
     "output_type": "stream",
     "text": [
      "Julia Version 1.6.2\n",
      "Commit 1b93d53fc4 (2021-07-14 15:36 UTC)\n",
      "Platform Info:\n",
      "  OS: macOS (x86_64-apple-darwin18.7.0)\n",
      "  CPU: Intel(R) Core(TM) i5-8279U CPU @ 2.40GHz\n",
      "  WORD_SIZE: 64\n",
      "  LIBM: libopenlibm\n",
      "  LLVM: libLLVM-11.0.1 (ORCJIT, skylake)\n"
     ]
    }
   ],
   "source": [
    "versioninfo()"
   ]
  },
  {
   "cell_type": "code",
   "execution_count": 2,
   "metadata": {},
   "outputs": [
    {
     "name": "stderr",
     "output_type": "stream",
     "text": [
      "\u001b[32m\u001b[1m  Activating\u001b[22m\u001b[39m environment at `~/Dropbox/class/M1399.000200/2021/M1399_000200-2021fall/Project.toml`\n"
     ]
    },
    {
     "name": "stdout",
     "output_type": "stream",
     "text": [
      "\u001b[32m\u001b[1m      Status\u001b[22m\u001b[39m `~/Dropbox/class/M1399.000200/2021/M1399_000200-2021fall/Project.toml`\n",
      " \u001b[90m [7d9fca2a] \u001b[39mArpack v0.3.2\n",
      " \u001b[90m [6e4b80f9] \u001b[39mBenchmarkTools v1.2.0\n",
      " \u001b[90m [1e616198] \u001b[39mCOSMO v0.8.1\n",
      " \u001b[90m [f65535da] \u001b[39mConvex v0.14.16\n",
      " \u001b[90m [a93c6f00] \u001b[39mDataFrames v0.21.8\n",
      " \u001b[90m [31a5f54b] \u001b[39mDebugger v0.6.8\n",
      " \u001b[90m [31c24e10] \u001b[39mDistributions v0.24.18\n",
      " \u001b[90m [e2685f51] \u001b[39mECOS v0.12.3\n",
      " \u001b[90m [f6369f11] \u001b[39mForwardDiff v0.10.21\n",
      " \u001b[90m [28b8d3ca] \u001b[39mGR v0.50.1\n",
      " \u001b[90m [c91e804a] \u001b[39mGadfly v1.3.3\n",
      " \u001b[90m [bd48cda9] \u001b[39mGraphRecipes v0.5.5\n",
      " \u001b[90m [82e4d734] \u001b[39mImageIO v0.0.1\n",
      " \u001b[90m [6218d12a] \u001b[39mImageMagick v0.7.9\n",
      " \u001b[90m [916415d5] \u001b[39mImages v0.23.3\n",
      " \u001b[90m [b6b21f68] \u001b[39mIpopt v0.7.0\n",
      " \u001b[90m [42fd0dbc] \u001b[39mIterativeSolvers v0.8.5\n",
      " \u001b[90m [4076af6c] \u001b[39mJuMP v0.21.4\n",
      " \u001b[90m [b51810bb] \u001b[39mMatrixDepot v1.0.4\n",
      " \u001b[90m [1ec41992] \u001b[39mMosekTools v0.9.4\n",
      " \u001b[90m [76087f3c] \u001b[39mNLopt v0.5.1\n",
      " \u001b[90m [47be7bcc] \u001b[39mORCA v0.3.1\n",
      " \u001b[90m [a03496cd] \u001b[39mPlotlyBase v0.3.1\n",
      " \u001b[90m [f0f68f2c] \u001b[39mPlotlyJS v0.13.1\n",
      " \u001b[90m [91a5bcdd] \u001b[39mPlots v1.4.3\n",
      " \u001b[90m [438e738f] \u001b[39mPyCall v1.92.3\n",
      " \u001b[90m [d330b81b] \u001b[39mPyPlot v2.10.0\n",
      " \u001b[90m [dca85d43] \u001b[39mQuartzImageIO v0.7.3\n",
      " \u001b[90m [6f49c342] \u001b[39mRCall v0.13.12\n",
      " \u001b[90m [ce6b1742] \u001b[39mRDatasets v0.7.5\n",
      " \u001b[90m [c946c3f1] \u001b[39mSCS v0.7.1\n",
      " \u001b[90m [276daf66] \u001b[39mSpecialFunctions v0.8.0\n",
      " \u001b[90m [2913bbd2] \u001b[39mStatsBase v0.33.12\n",
      " \u001b[90m [b8865327] \u001b[39mUnicodePlots v2.4.6\n",
      " \u001b[90m [0f1e0344] \u001b[39mWebIO v0.8.16\n",
      " \u001b[90m [8f399da3] \u001b[39mLibdl\n",
      " \u001b[90m [2f01184e] \u001b[39mSparseArrays\n",
      " \u001b[90m [10745b16] \u001b[39mStatistics\n"
     ]
    }
   ],
   "source": [
    "using Pkg\n",
    "Pkg.activate(\"../..\")\n",
    "Pkg.status()"
   ]
  },
  {
   "cell_type": "markdown",
   "metadata": {},
   "source": [
    "# Conditioning of linear regression by least squares\n",
    "\n",
    "* Recall that for nonsingular linear equation solve, i.e. $\\mathbf{A}\\mathbf{x} = \\mathbf{b}$, the condition number  of the problem with $\\mathbf{b}$ held fixed is equal to the condition number of matrix $\\mathbf{A}$\n",
    "$$\n",
    "    \\kappa(\\mathbf{A}) = \\|\\mathbf{A}\\|\\|\\mathbf{A}^{-1}\\|.\n",
    "$$\n",
    "\n",
    "* If $\\mathbf{A}$ is not square, then its condition number is\n",
    "$$\n",
    "    \\kappa(\\mathbf{A}) = \\|\\mathbf{A}\\|\\|\\mathbf{A}^{\\dagger}\\|,\n",
    "$$\n",
    "where $\\mathbf{A}^{\\dagger}$ is Moore-Penrose pseudoinverse of $\\mathbf{A}$."
   ]
  },
  {
   "cell_type": "markdown",
   "metadata": {},
   "source": [
    "* **Condition number for the least squares problem** $\\mathbf{y} \\approx \\mathbf{X}\\boldsymbol{\\beta}$ is more complicated and depends on the residual. It can be shown that the condition number is\n",
    "$$\n",
    "    \\kappa(\\mathbf{X}) + \\frac{\\kappa(\\mathbf{X})^2\\tan\\theta}{\\eta},\n",
    "$$\n",
    "where\n",
    "\n",
    "$$\n",
    "    \\theta = \\cos^{-1}\\frac{\\|\\mathbf{X}\\boldsymbol{\\beta}\\|}{\\|\\boldsymbol{\\beta}\\|},\n",
    "    \\quad\n",
    "    \\eta = \\frac{\\|\\mathbf{X}\\|\\|\\boldsymbol{\\beta}\\|}{\\|\\mathbf{X}\\boldsymbol{\\beta}\\|}\n",
    "    .\n",
    "$$\n",
    "\n",
    "* So if $\\kappa(\\mathbf{X})$ is large ($\\mathbf{X}$ is close to collinear), the condition number of the least squares problem is dominated by $\\kappa(\\mathbf{X})^2$, unless the residuals are small.\n",
    "    - In this case, *stable* algorithm is preferred."
   ]
  },
  {
   "cell_type": "markdown",
   "metadata": {},
   "source": [
    "* This is because the problem is equivalent to the normal equation\n",
    "$$\n",
    "    \\mathbf{X}^T\\mathbf{X}\\boldsymbol{\\beta} = \\mathbf{X}^T\\mathbf{y}.\n",
    "$$\n",
    "    \n",
    "* Consider the simple case\n",
    "$$\n",
    "\\begin{eqnarray*}\n",
    "\t\\mathbf{X} = \\begin{bmatrix}\n",
    "\t1 & 1 \\\\\n",
    "\t10^{-3} & 0 \\\\\n",
    "\t0 & 10^{-3}\n",
    "\t\\end{bmatrix}.\n",
    "\\end{eqnarray*}\n",
    "$$\n",
    "Forming normal equation yields a singular Gramian matrix\n",
    "$$\n",
    "\\begin{eqnarray*}\n",
    "\t\\mathbf{X}^T \\mathbf{X} = \\begin{bmatrix}\n",
    "\t1 & 1 \\\\\n",
    "\t1 & 1\n",
    "\t\\end{bmatrix}\n",
    "\\end{eqnarray*}\n",
    "$$\n",
    "if executed with a precision of 6 decimal digits. This has the condition number $\\kappa(\\mathbf{X}^T\\mathbf{X})=\\infty$."
   ]
  },
  {
   "cell_type": "markdown",
   "metadata": {},
   "source": [
    "## Longley example\n",
    "\n",
    "The [Longley (1967)](https://www.jstor.org/stable/2283673?seq=1#page_scan_tab_contents) macroeconomic [data set](https://www.itl.nist.gov/div898/strd/lls/data/Longley.shtml) is a famous test example for numerical software in early dates.\n",
    "\n",
    "* [Link to download](./longley.txt)"
   ]
  },
  {
   "cell_type": "code",
   "execution_count": 3,
   "metadata": {},
   "outputs": [
    {
     "data": {
      "text/plain": [
       "16×7 Matrix{Float64}:\n",
       " 60323.0   83.0  234289.0  2356.0  1590.0  107608.0  1947.0\n",
       " 61122.0   88.5  259426.0  2325.0  1456.0  108632.0  1948.0\n",
       " 60171.0   88.2  258054.0  3682.0  1616.0  109773.0  1949.0\n",
       " 61187.0   89.5  284599.0  3351.0  1650.0  110929.0  1950.0\n",
       " 63221.0   96.2  328975.0  2099.0  3099.0  112075.0  1951.0\n",
       " 63639.0   98.1  346999.0  1932.0  3594.0  113270.0  1952.0\n",
       " 64989.0   99.0  365385.0  1870.0  3547.0  115094.0  1953.0\n",
       " 63761.0  100.0  363112.0  3578.0  3350.0  116219.0  1954.0\n",
       " 66019.0  101.2  397469.0  2904.0  3048.0  117388.0  1955.0\n",
       " 67857.0  104.6  419180.0  2822.0  2857.0  118734.0  1956.0\n",
       " 68169.0  108.4  442769.0  2936.0  2798.0  120445.0  1957.0\n",
       " 66513.0  110.8  444546.0  4681.0  2637.0  121950.0  1958.0\n",
       " 68655.0  112.6  482704.0  3813.0  2552.0  123366.0  1959.0\n",
       " 69564.0  114.2  502601.0  3931.0  2514.0  125368.0  1960.0\n",
       " 69331.0  115.7  518173.0  4806.0  2572.0  127852.0  1961.0\n",
       " 70551.0  116.9  554894.0  4007.0  2827.0  130081.0  1962.0"
      ]
     },
     "execution_count": 3,
     "metadata": {},
     "output_type": "execute_result"
    }
   ],
   "source": [
    "using DelimitedFiles\n",
    "\n",
    "longley = readdlm(\"longley.txt\")"
   ]
  },
  {
   "cell_type": "code",
   "execution_count": 4,
   "metadata": {},
   "outputs": [
    {
     "ename": "LoadError",
     "evalue": "ArgumentError: Package StatsPlots not found in current path:\n- Run `import Pkg; Pkg.add(\"StatsPlots\")` to install the StatsPlots package.\n",
     "output_type": "error",
     "traceback": [
      "ArgumentError: Package StatsPlots not found in current path:\n- Run `import Pkg; Pkg.add(\"StatsPlots\")` to install the StatsPlots package.\n",
      "",
      "Stacktrace:",
      " [1] require(into::Module, mod::Symbol)",
      "   @ Base ./loading.jl:893",
      " [2] eval",
      "   @ ./boot.jl:360 [inlined]",
      " [3] include_string(mapexpr::typeof(REPL.softscope), mod::Module, code::String, filename::String)",
      "   @ Base ./loading.jl:1116"
     ]
    }
   ],
   "source": [
    "using StatsPlots\n",
    "gr()\n",
    "\n",
    "corrplot(longley, \n",
    "    label = [\"Employ\" \"Price\" \"GNP\" \"Jobless\" \"Military\" \"PopSize\" \"Year\"])"
   ]
  },
  {
   "cell_type": "code",
   "execution_count": 5,
   "metadata": {},
   "outputs": [
    {
     "data": {
      "text/plain": [
       "16×7 Matrix{Float64}:\n",
       " 1.0   83.0  234289.0  2356.0  1590.0  107608.0  1947.0\n",
       " 1.0   88.5  259426.0  2325.0  1456.0  108632.0  1948.0\n",
       " 1.0   88.2  258054.0  3682.0  1616.0  109773.0  1949.0\n",
       " 1.0   89.5  284599.0  3351.0  1650.0  110929.0  1950.0\n",
       " 1.0   96.2  328975.0  2099.0  3099.0  112075.0  1951.0\n",
       " 1.0   98.1  346999.0  1932.0  3594.0  113270.0  1952.0\n",
       " 1.0   99.0  365385.0  1870.0  3547.0  115094.0  1953.0\n",
       " 1.0  100.0  363112.0  3578.0  3350.0  116219.0  1954.0\n",
       " 1.0  101.2  397469.0  2904.0  3048.0  117388.0  1955.0\n",
       " 1.0  104.6  419180.0  2822.0  2857.0  118734.0  1956.0\n",
       " 1.0  108.4  442769.0  2936.0  2798.0  120445.0  1957.0\n",
       " 1.0  110.8  444546.0  4681.0  2637.0  121950.0  1958.0\n",
       " 1.0  112.6  482704.0  3813.0  2552.0  123366.0  1959.0\n",
       " 1.0  114.2  502601.0  3931.0  2514.0  125368.0  1960.0\n",
       " 1.0  115.7  518173.0  4806.0  2572.0  127852.0  1961.0\n",
       " 1.0  116.9  554894.0  4007.0  2827.0  130081.0  1962.0"
      ]
     },
     "execution_count": 5,
     "metadata": {},
     "output_type": "execute_result"
    }
   ],
   "source": [
    "# response: Employment\n",
    "y = longley[:, 1]\n",
    "# predictor matrix\n",
    "X = [ones(length(y)) longley[:, 2:end]]"
   ]
  },
  {
   "cell_type": "code",
   "execution_count": 6,
   "metadata": {},
   "outputs": [
    {
     "data": {
      "text/plain": [
       "4.859257015454868e9"
      ]
     },
     "execution_count": 6,
     "metadata": {},
     "output_type": "execute_result"
    }
   ],
   "source": [
    "using LinearAlgebra\n",
    "\n",
    "# Julia function for obtaining condition number\n",
    "cond(X)"
   ]
  },
  {
   "cell_type": "code",
   "execution_count": 7,
   "metadata": {},
   "outputs": [
    {
     "data": {
      "text/plain": [
       "7-element Vector{Float64}:\n",
       "     1.6636682278894703e6\n",
       " 83899.57794622083\n",
       "  3407.197376095864\n",
       "  1582.6436810037958\n",
       "    41.69360109707282\n",
       "     3.6480937948061642\n",
       "     0.00034237090621018257"
      ]
     },
     "execution_count": 7,
     "metadata": {},
     "output_type": "execute_result"
    }
   ],
   "source": [
    "# we see the smallest singular value (aka trouble number) is very small\n",
    "xsvals = svdvals(X)"
   ]
  },
  {
   "cell_type": "code",
   "execution_count": 8,
   "metadata": {},
   "outputs": [
    {
     "data": {
      "text/plain": [
       "4.859257015454868e9"
      ]
     },
     "execution_count": 8,
     "metadata": {},
     "output_type": "execute_result"
    }
   ],
   "source": [
    "# condition number of the design matrix\n",
    "xcond = maximum(xsvals) / minimum(xsvals)"
   ]
  },
  {
   "cell_type": "code",
   "execution_count": 9,
   "metadata": {},
   "outputs": [
    {
     "data": {
      "text/plain": [
       "7"
      ]
     },
     "execution_count": 9,
     "metadata": {},
     "output_type": "execute_result"
    }
   ],
   "source": [
    "# X is full rank from SVD\n",
    "xrksvd = rank(X)"
   ]
  },
  {
   "cell_type": "code",
   "execution_count": 10,
   "metadata": {},
   "outputs": [
    {
     "data": {
      "text/plain": [
       "7-element Vector{Float64}:\n",
       "   -3.482258634593727e6\n",
       "   15.061872271247157\n",
       "   -0.03581917929254079\n",
       "   -2.020229803816271\n",
       "   -1.0332268671735425\n",
       "   -0.051104105653446294\n",
       " 1829.15146461247"
      ]
     },
     "execution_count": 10,
     "metadata": {},
     "output_type": "execute_result"
    }
   ],
   "source": [
    "# least squares from QR\n",
    "X \\ y"
   ]
  },
  {
   "cell_type": "code",
   "execution_count": 11,
   "metadata": {},
   "outputs": [
    {
     "data": {
      "text/plain": [
       "7×7 Matrix{Float64}:\n",
       "    16.0        1626.9        6.20318e6   …  1.87878e6  31272.0\n",
       "  1626.9           1.67172e5  6.46701e8      1.9214e8       3.18054e6\n",
       "     6.20318e6     6.46701e8  2.55315e12     7.3868e11      1.21312e10\n",
       " 51093.0           5.28908e6  2.06505e10     6.06649e9      9.99059e7\n",
       " 41707.0           4.29317e6  1.66329e10     4.92386e9      8.15371e7\n",
       "     1.87878e6     1.9214e8   7.3868e11   …  2.2134e11      3.67258e9\n",
       " 31272.0           3.18054e6  1.21312e10     3.67258e9      6.11215e7"
      ]
     },
     "execution_count": 11,
     "metadata": {},
     "output_type": "execute_result"
    }
   ],
   "source": [
    "# Gram matrix\n",
    "G = X'X"
   ]
  },
  {
   "cell_type": "code",
   "execution_count": 12,
   "metadata": {},
   "outputs": [
    {
     "data": {
      "text/plain": [
       "6"
      ]
     },
     "execution_count": 12,
     "metadata": {},
     "output_type": "execute_result"
    }
   ],
   "source": [
    "# rank of Gram matrix from SVD\n",
    "# rank deficient! We lost precision when forming Gram matrix\n",
    "rank(G)"
   ]
  },
  {
   "cell_type": "code",
   "execution_count": 13,
   "metadata": {},
   "outputs": [
    {
     "data": {
      "text/plain": [
       "7-element Vector{Float64}:\n",
       "    2.7677919724888896e12\n",
       "    7.039139179553959e9\n",
       "    1.160899395967452e7\n",
       "    2.5047610210212315e6\n",
       " 1738.3563724374112\n",
       "   13.308588281731947\n",
       "    1.1609902991000544e-7"
      ]
     },
     "execution_count": 13,
     "metadata": {},
     "output_type": "execute_result"
    }
   ],
   "source": [
    "svdvals(G)"
   ]
  },
  {
   "cell_type": "code",
   "execution_count": 14,
   "metadata": {},
   "outputs": [
    {
     "data": {
      "text/plain": [
       "7"
      ]
     },
     "execution_count": 14,
     "metadata": {},
     "output_type": "execute_result"
    }
   ],
   "source": [
    "# rank of Gram matrix from cholesky\n",
    "# full!\n",
    "gchol = cholesky(Symmetric(G), Val(true))\n",
    "rank(gchol)"
   ]
  },
  {
   "cell_type": "code",
   "execution_count": 15,
   "metadata": {},
   "outputs": [
    {
     "data": {
      "text/plain": [
       "7-element Vector{Float64}:\n",
       "   -3.4822586014639004e6\n",
       "   15.061871708275818\n",
       "   -0.03581917829703869\n",
       "   -2.02022978887794\n",
       "   -1.033226862813952\n",
       "   -0.05110410889940152\n",
       " 1829.1514476585419"
      ]
     },
     "execution_count": 15,
     "metadata": {},
     "output_type": "execute_result"
    }
   ],
   "source": [
    "# least squares solution from Cholesky matches those from QR\n",
    "gchol \\ (X'y)"
   ]
  },
  {
   "cell_type": "markdown",
   "metadata": {},
   "source": [
    "* Now let us re-run above example using **single precision**."
   ]
  },
  {
   "cell_type": "code",
   "execution_count": 16,
   "metadata": {},
   "outputs": [
    {
     "data": {
      "text/plain": [
       "7-element Vector{Float32}:\n",
       "   0.023724092\n",
       " -52.995304\n",
       "   0.07107309\n",
       "  -0.42346963\n",
       "  -0.57256323\n",
       "  -0.41419855\n",
       "  48.417664"
      ]
     },
     "execution_count": 16,
     "metadata": {},
     "output_type": "execute_result"
    }
   ],
   "source": [
    "Xsp = Float32.(X)\n",
    "ysp = Float32.(y)\n",
    "\n",
    "# least squares by QR: dramatically different from Float64 solution\n",
    "Xsp \\ ysp"
   ]
  },
  {
   "cell_type": "code",
   "execution_count": 17,
   "metadata": {},
   "outputs": [
    {
     "data": {
      "text/plain": [
       "7-element Vector{Float32}:\n",
       "     -4.724464f10\n",
       "     -1.258656f6\n",
       "   -884.32623\n",
       " -14967.619\n",
       "  -5718.0063\n",
       "   -647.4038\n",
       "      2.4484148f7"
      ]
     },
     "execution_count": 17,
     "metadata": {},
     "output_type": "execute_result"
    }
   ],
   "source": [
    "# least squares by Cholesky: failed\n",
    "G = Xsp'Xsp\n",
    "gchol = cholesky(Symmetric(G), Val(true), check=false)\n",
    "gchol \\ (Xsp'ysp)"
   ]
  },
  {
   "cell_type": "code",
   "execution_count": 18,
   "metadata": {},
   "outputs": [
    {
     "data": {
      "text/plain": [
       "6"
      ]
     },
     "execution_count": 18,
     "metadata": {},
     "output_type": "execute_result"
    }
   ],
   "source": [
    "rank(Xsp)"
   ]
  },
  {
   "cell_type": "code",
   "execution_count": 19,
   "metadata": {},
   "outputs": [
    {
     "data": {
      "text/plain": [
       "6"
      ]
     },
     "execution_count": 19,
     "metadata": {},
     "output_type": "execute_result"
    }
   ],
   "source": [
    "# rank of Gram matrix by Cholesky\n",
    "rank(gchol)"
   ]
  },
  {
   "cell_type": "code",
   "execution_count": 20,
   "metadata": {},
   "outputs": [
    {
     "data": {
      "text/plain": [
       "4"
      ]
     },
     "execution_count": 20,
     "metadata": {},
     "output_type": "execute_result"
    }
   ],
   "source": [
    "# rank of Gram matrix by SVD\n",
    "rank(G)"
   ]
  },
  {
   "cell_type": "markdown",
   "metadata": {},
   "source": [
    "* **Standardizing the predictors** improves the condition."
   ]
  },
  {
   "cell_type": "code",
   "execution_count": 21,
   "metadata": {},
   "outputs": [
    {
     "data": {
      "text/plain": [
       "16×7 Matrix{Float64}:\n",
       " 1.0  -1.7311     -1.54343    -0.896035  -1.46093    -1.41114     -1.57532\n",
       " 1.0  -1.22144    -1.29053    -0.929209  -1.65348    -1.26393     -1.36527\n",
       " 1.0  -1.24924    -1.30434     0.52296   -1.42357    -1.0999      -1.15523\n",
       " 1.0  -1.12878    -1.03727     0.168746  -1.37471    -0.933713    -0.945189\n",
       " 1.0  -0.50792    -0.590809   -1.17106    0.707427   -0.768965    -0.735147\n",
       " 1.0  -0.331857   -0.409472   -1.34977    1.41872    -0.597174    -0.525105\n",
       " 1.0  -0.248458   -0.224493   -1.41612    1.35118    -0.334958    -0.315063\n",
       " 1.0  -0.155793   -0.247361    0.411666   1.0681     -0.173229    -0.105021\n",
       " 1.0  -0.0445951   0.0983004  -0.309603   0.634143   -0.00517531   0.105021\n",
       " 1.0   0.270466    0.316732   -0.397353   0.359686    0.188324     0.315063\n",
       " 1.0   0.622593    0.554058   -0.275358   0.274906    0.434295     0.525105\n",
       " 1.0   0.84499     0.571936    1.59202    0.0435575   0.650652     0.735147\n",
       " 1.0   1.01179     0.955839    0.663147  -0.0785831   0.854214     0.945189\n",
       " 1.0   1.16005     1.15602     0.789423  -0.133187    1.14202      1.15523\n",
       " 1.0   1.29905     1.31269     1.72579   -0.0498441   1.49912      1.36527\n",
       " 1.0   1.41025     1.68213     0.870753   0.316578    1.81955      1.57532"
      ]
     },
     "execution_count": 21,
     "metadata": {},
     "output_type": "execute_result"
    }
   ],
   "source": [
    "using StatsBase\n",
    "\n",
    "# center and standardize matrix along dimension 1\n",
    "Xcs = zscore(X[:, 2:end], 1)\n",
    "Xcs = [ones(length(y)) Xcs]"
   ]
  },
  {
   "cell_type": "code",
   "execution_count": 22,
   "metadata": {},
   "outputs": [
    {
     "data": {
      "text/plain": [
       "110.54415344231359"
      ]
     },
     "execution_count": 22,
     "metadata": {},
     "output_type": "execute_result"
    }
   ],
   "source": [
    "cond(Xcs)"
   ]
  },
  {
   "cell_type": "code",
   "execution_count": 23,
   "metadata": {},
   "outputs": [
    {
     "data": {
      "text/plain": [
       "7"
      ]
     },
     "execution_count": 23,
     "metadata": {},
     "output_type": "execute_result"
    }
   ],
   "source": [
    "rank(Xcs)"
   ]
  },
  {
   "cell_type": "code",
   "execution_count": 24,
   "metadata": {},
   "outputs": [
    {
     "data": {
      "text/plain": [
       "7"
      ]
     },
     "execution_count": 24,
     "metadata": {},
     "output_type": "execute_result"
    }
   ],
   "source": [
    "rank(Xcs'Xcs)"
   ]
  },
  {
   "cell_type": "markdown",
   "metadata": {},
   "source": [
    "# Summary of linear regression\n",
    "\n",
    "Methods for solving linear regression $\\widehat \\beta = (\\mathbf{X}^T \\mathbf{X})^{-1} \\mathbf{X}^T \\mathbf{y}$:\n",
    "\n",
    "| Method            | Flops                  | Remarks                 | Software | Stability   |\n",
    "| :---------------: | :--------------------: | :---------------------: | :------: | :---------: |\n",
    "| Cholesky          | $np^2 + p^3/3$         |                         |          | unstable |\n",
    "| QR by Householder | $2np^2 - (2/3)p^3$     |                         | R, Julia, MATLAB     | stable      |\n",
    "| QR by MGS         | $2np^2$                | $Q_1$ available         |          | stable      | \n",
    "| SVD         | $4n^2p + 8np^2 + 9p^3$ | $X = UDV^T$             |          | most stable |  \n",
    "\n",
    "Remarks:\n",
    "\n",
    "1. When $n \\gg p$, Cholesky is twice faster than QR and need less space.  \n",
    "2. Cholesky is based on the **Gram matrix** $\\mathbf{X}^T \\mathbf{X}$, which can be dynamically updated with incoming data. They can handle huge $n$, moderate $p$ data sets that cannot fit into memory.  \n",
    "3. QR methods are more stable and produce numerically more accurate solution.  \n",
    "4. MGS appears slower than Householder, but it yields $\\mathbf{Q}_1$.\n"
   ]
  },
  {
   "cell_type": "markdown",
   "metadata": {},
   "source": [
    "> **There is simply no such thing as a universal 'gold standard' when it comes to algorithms.**"
   ]
  },
  {
   "cell_type": "code",
   "execution_count": 25,
   "metadata": {},
   "outputs": [
    {
     "data": {
      "text/plain": [
       "linreg_svd (generic function with 1 method)"
      ]
     },
     "execution_count": 25,
     "metadata": {},
     "output_type": "execute_result"
    }
   ],
   "source": [
    "using BenchmarkTools, LinearAlgebra\n",
    "\n",
    "linreg_cholesky(y::Vector, X::Matrix) = cholesky!(X'X) \\ (X'y)\n",
    "\n",
    "linreg_qr(y::Vector, X::Matrix) = X \\ y\n",
    "\n",
    "function linreg_svd(y::Vector, X::Matrix)\n",
    "    xsvd = svd(X)\n",
    "    return xsvd.V * ((xsvd.U'y) ./ xsvd.S)\n",
    "end"
   ]
  },
  {
   "cell_type": "code",
   "execution_count": 26,
   "metadata": {},
   "outputs": [
    {
     "name": "stdout",
     "output_type": "stream",
     "text": [
      "linreg_cholesky(y, X) = [0.007934502488360664, -0.10565972819262025, 0.20946283851564207]\n",
      "linreg_qr(y, X) = [0.007934502488360664, -0.10565972819262029, 0.20946283851564215]\n",
      "linreg_svd(y, X) = [0.007934502488360709, -0.10565972819262025, 0.2094628385156421]\n"
     ]
    }
   ],
   "source": [
    "using Random\n",
    "\n",
    "Random.seed!(280) # seed\n",
    "\n",
    "n, p = 10, 3\n",
    "X = randn(n, p)\n",
    "y = randn(n)\n",
    "\n",
    "# check these methods give same answer\n",
    "@show linreg_cholesky(y, X)\n",
    "@show linreg_qr(y, X)\n",
    "@show linreg_svd(y, X);"
   ]
  },
  {
   "cell_type": "code",
   "execution_count": 27,
   "metadata": {},
   "outputs": [
    {
     "data": {
      "text/plain": [
       "BenchmarkTools.Trial: 2476 samples with 1 evaluation.\n",
       " Range \u001b[90m(\u001b[39m\u001b[36m\u001b[1mmin\u001b[22m\u001b[39m … \u001b[35mmax\u001b[39m\u001b[90m):  \u001b[39m\u001b[36m\u001b[1m1.535 ms\u001b[22m\u001b[39m … \u001b[35m 13.540 ms\u001b[39m  \u001b[90m┊\u001b[39m GC \u001b[90m(\u001b[39mmin … max\u001b[90m): \u001b[39m0.00% … 0.00%\n",
       " Time  \u001b[90m(\u001b[39m\u001b[34m\u001b[1mmedian\u001b[22m\u001b[39m\u001b[90m):     \u001b[39m\u001b[34m\u001b[1m2.005 ms               \u001b[22m\u001b[39m\u001b[90m┊\u001b[39m GC \u001b[90m(\u001b[39mmedian\u001b[90m):    \u001b[39m0.00%\n",
       " Time  \u001b[90m(\u001b[39m\u001b[32m\u001b[1mmean\u001b[22m\u001b[39m ± \u001b[32mσ\u001b[39m\u001b[90m):   \u001b[39m\u001b[32m\u001b[1m2.007 ms\u001b[22m\u001b[39m ± \u001b[32m449.986 μs\u001b[39m  \u001b[90m┊\u001b[39m GC \u001b[90m(\u001b[39mmean ± σ\u001b[90m):  \u001b[39m1.97% ± 6.85%\n",
       "\n",
       "  \u001b[39m \u001b[39m \u001b[39m \u001b[39m \u001b[39m \u001b[39m \u001b[39m▁\u001b[39m \u001b[39m \u001b[34m▇\u001b[39m\u001b[39m█\u001b[39m \u001b[39m \u001b[39m \u001b[39m \u001b[39m \u001b[39m \u001b[39m \u001b[39m \u001b[39m \u001b[39m \u001b[39m \u001b[39m \u001b[39m \u001b[39m \u001b[39m \u001b[39m \u001b[39m \u001b[39m \u001b[39m \u001b[39m \u001b[39m \u001b[39m \u001b[39m \u001b[39m \u001b[39m \u001b[39m \u001b[39m \u001b[39m \u001b[39m \u001b[39m \u001b[39m \u001b[39m \u001b[39m \u001b[39m \u001b[39m \u001b[39m \u001b[39m \u001b[39m \u001b[39m \u001b[39m \u001b[39m \u001b[39m \u001b[39m \u001b[39m \u001b[39m \u001b[39m \u001b[39m \u001b[39m \u001b[39m \u001b[39m \n",
       "  \u001b[39m▄\u001b[39m▄\u001b[39m▃\u001b[39m▆\u001b[39m█\u001b[39m█\u001b[39m█\u001b[39m▅\u001b[39m█\u001b[34m█\u001b[39m\u001b[39m█\u001b[39m▇\u001b[39m▄\u001b[39m▃\u001b[39m▃\u001b[39m▂\u001b[39m▂\u001b[39m▂\u001b[39m▂\u001b[39m▂\u001b[39m▂\u001b[39m▂\u001b[39m▂\u001b[39m▂\u001b[39m▂\u001b[39m▂\u001b[39m▁\u001b[39m▂\u001b[39m▁\u001b[39m▁\u001b[39m▁\u001b[39m▁\u001b[39m▂\u001b[39m▁\u001b[39m▁\u001b[39m▁\u001b[39m▁\u001b[39m▁\u001b[39m▁\u001b[39m▁\u001b[39m▁\u001b[39m▁\u001b[39m▁\u001b[39m▁\u001b[39m▁\u001b[39m▁\u001b[39m▁\u001b[39m▁\u001b[39m▁\u001b[39m▁\u001b[39m▁\u001b[39m▂\u001b[39m▂\u001b[39m▂\u001b[39m▁\u001b[39m▂\u001b[39m▁\u001b[39m▁\u001b[39m▂\u001b[39m \u001b[39m▃\n",
       "  1.53 ms\u001b[90m         Histogram: frequency by time\u001b[39m        4.62 ms \u001b[0m\u001b[1m<\u001b[22m\n",
       "\n",
       " Memory estimate\u001b[90m: \u001b[39m\u001b[33m708.25 KiB\u001b[39m, allocs estimate\u001b[90m: \u001b[39m\u001b[33m6\u001b[39m."
      ]
     },
     "execution_count": 27,
     "metadata": {},
     "output_type": "execute_result"
    }
   ],
   "source": [
    "n, p = 1000, 300\n",
    "X = randn(n, p)\n",
    "y = randn(n)\n",
    "\n",
    "@benchmark linreg_cholesky(y, X)"
   ]
  },
  {
   "cell_type": "code",
   "execution_count": 28,
   "metadata": {},
   "outputs": [
    {
     "data": {
      "text/plain": [
       "BenchmarkTools.Trial: 549 samples with 1 evaluation.\n",
       " Range \u001b[90m(\u001b[39m\u001b[36m\u001b[1mmin\u001b[22m\u001b[39m … \u001b[35mmax\u001b[39m\u001b[90m):  \u001b[39m\u001b[36m\u001b[1m6.549 ms\u001b[22m\u001b[39m … \u001b[35m21.527 ms\u001b[39m  \u001b[90m┊\u001b[39m GC \u001b[90m(\u001b[39mmin … max\u001b[90m): \u001b[39m0.00% … 0.00%\n",
       " Time  \u001b[90m(\u001b[39m\u001b[34m\u001b[1mmedian\u001b[22m\u001b[39m\u001b[90m):     \u001b[39m\u001b[34m\u001b[1m8.618 ms              \u001b[22m\u001b[39m\u001b[90m┊\u001b[39m GC \u001b[90m(\u001b[39mmedian\u001b[90m):    \u001b[39m0.00%\n",
       " Time  \u001b[90m(\u001b[39m\u001b[32m\u001b[1mmean\u001b[22m\u001b[39m ± \u001b[32mσ\u001b[39m\u001b[90m):   \u001b[39m\u001b[32m\u001b[1m9.100 ms\u001b[22m\u001b[39m ± \u001b[32m 1.435 ms\u001b[39m  \u001b[90m┊\u001b[39m GC \u001b[90m(\u001b[39mmean ± σ\u001b[90m):  \u001b[39m4.26% ± 9.47%\n",
       "\n",
       "  \u001b[39m \u001b[39m \u001b[39m \u001b[39m \u001b[39m \u001b[39m \u001b[39m \u001b[39m \u001b[39m \u001b[39m \u001b[39m \u001b[39m \u001b[39m \u001b[39m \u001b[39m▂\u001b[39m▇\u001b[39m█\u001b[39m█\u001b[34m▇\u001b[39m\u001b[39m▄\u001b[39m▃\u001b[39m▁\u001b[32m \u001b[39m\u001b[39m \u001b[39m \u001b[39m \u001b[39m \u001b[39m \u001b[39m \u001b[39m \u001b[39m \u001b[39m \u001b[39m \u001b[39m \u001b[39m \u001b[39m \u001b[39m \u001b[39m \u001b[39m \u001b[39m \u001b[39m \u001b[39m \u001b[39m \u001b[39m \u001b[39m \u001b[39m \u001b[39m \u001b[39m \u001b[39m \u001b[39m \u001b[39m \u001b[39m \u001b[39m \u001b[39m \u001b[39m \u001b[39m▁\u001b[39m \u001b[39m \u001b[39m \u001b[39m \n",
       "  \u001b[39m▄\u001b[39m▁\u001b[39m▁\u001b[39m▁\u001b[39m▁\u001b[39m▄\u001b[39m▁\u001b[39m▁\u001b[39m▁\u001b[39m▁\u001b[39m▁\u001b[39m▁\u001b[39m▁\u001b[39m▁\u001b[39m█\u001b[39m█\u001b[39m█\u001b[39m█\u001b[34m█\u001b[39m\u001b[39m█\u001b[39m█\u001b[39m█\u001b[32m█\u001b[39m\u001b[39m▇\u001b[39m▆\u001b[39m▆\u001b[39m▅\u001b[39m▅\u001b[39m▇\u001b[39m▄\u001b[39m▁\u001b[39m▄\u001b[39m▄\u001b[39m▅\u001b[39m▄\u001b[39m▁\u001b[39m▁\u001b[39m▄\u001b[39m▁\u001b[39m▁\u001b[39m▁\u001b[39m▁\u001b[39m▄\u001b[39m▁\u001b[39m▁\u001b[39m▄\u001b[39m▁\u001b[39m▄\u001b[39m▁\u001b[39m▁\u001b[39m▁\u001b[39m▄\u001b[39m█\u001b[39m█\u001b[39m█\u001b[39m█\u001b[39m█\u001b[39m▇\u001b[39m \u001b[39m▇\n",
       "  6.55 ms\u001b[90m      \u001b[39m\u001b[90mHistogram: \u001b[39m\u001b[90m\u001b[1mlog(\u001b[22m\u001b[39m\u001b[90mfrequency\u001b[39m\u001b[90m\u001b[1m)\u001b[22m\u001b[39m\u001b[90m by time\u001b[39m     13.4 ms \u001b[0m\u001b[1m<\u001b[22m\n",
       "\n",
       " Memory estimate\u001b[90m: \u001b[39m\u001b[33m4.01 MiB\u001b[39m, allocs estimate\u001b[90m: \u001b[39m\u001b[33m1836\u001b[39m."
      ]
     },
     "execution_count": 28,
     "metadata": {},
     "output_type": "execute_result"
    }
   ],
   "source": [
    "@benchmark linreg_qr(y, X)"
   ]
  },
  {
   "cell_type": "code",
   "execution_count": 29,
   "metadata": {},
   "outputs": [
    {
     "data": {
      "text/plain": [
       "BenchmarkTools.Trial: 204 samples with 1 evaluation.\n",
       " Range \u001b[90m(\u001b[39m\u001b[36m\u001b[1mmin\u001b[22m\u001b[39m … \u001b[35mmax\u001b[39m\u001b[90m):  \u001b[39m\u001b[36m\u001b[1m22.009 ms\u001b[22m\u001b[39m … \u001b[35m31.937 ms\u001b[39m  \u001b[90m┊\u001b[39m GC \u001b[90m(\u001b[39mmin … max\u001b[90m): \u001b[39m0.00% … 10.01%\n",
       " Time  \u001b[90m(\u001b[39m\u001b[34m\u001b[1mmedian\u001b[22m\u001b[39m\u001b[90m):     \u001b[39m\u001b[34m\u001b[1m23.615 ms              \u001b[22m\u001b[39m\u001b[90m┊\u001b[39m GC \u001b[90m(\u001b[39mmedian\u001b[90m):    \u001b[39m0.00%\n",
       " Time  \u001b[90m(\u001b[39m\u001b[32m\u001b[1mmean\u001b[22m\u001b[39m ± \u001b[32mσ\u001b[39m\u001b[90m):   \u001b[39m\u001b[32m\u001b[1m24.514 ms\u001b[22m\u001b[39m ± \u001b[32m 2.189 ms\u001b[39m  \u001b[90m┊\u001b[39m GC \u001b[90m(\u001b[39mmean ± σ\u001b[90m):  \u001b[39m2.28% ±  4.20%\n",
       "\n",
       "  \u001b[39m \u001b[39m▂\u001b[39m \u001b[39m▆\u001b[39m█\u001b[39m▇\u001b[39m▅\u001b[39m▆\u001b[39m▅\u001b[39m \u001b[39m▃\u001b[39m▂\u001b[34m▂\u001b[39m\u001b[39m \u001b[39m \u001b[39m \u001b[39m \u001b[39m \u001b[39m \u001b[32m \u001b[39m\u001b[39m \u001b[39m \u001b[39m \u001b[39m \u001b[39m \u001b[39m \u001b[39m \u001b[39m \u001b[39m \u001b[39m \u001b[39m \u001b[39m \u001b[39m \u001b[39m \u001b[39m \u001b[39m \u001b[39m \u001b[39m \u001b[39m \u001b[39m \u001b[39m \u001b[39m \u001b[39m \u001b[39m \u001b[39m \u001b[39m \u001b[39m \u001b[39m \u001b[39m \u001b[39m \u001b[39m \u001b[39m \u001b[39m \u001b[39m \u001b[39m \u001b[39m \u001b[39m \u001b[39m \u001b[39m \u001b[39m \u001b[39m \n",
       "  \u001b[39m▃\u001b[39m█\u001b[39m█\u001b[39m█\u001b[39m█\u001b[39m█\u001b[39m█\u001b[39m█\u001b[39m█\u001b[39m▇\u001b[39m█\u001b[39m█\u001b[34m█\u001b[39m\u001b[39m▆\u001b[39m▆\u001b[39m█\u001b[39m▅\u001b[39m▄\u001b[39m▆\u001b[32m▅\u001b[39m\u001b[39m▅\u001b[39m▄\u001b[39m▆\u001b[39m▄\u001b[39m▁\u001b[39m▁\u001b[39m▃\u001b[39m▁\u001b[39m▃\u001b[39m▆\u001b[39m▁\u001b[39m▆\u001b[39m▁\u001b[39m▄\u001b[39m▄\u001b[39m▅\u001b[39m▁\u001b[39m▁\u001b[39m▁\u001b[39m▃\u001b[39m▃\u001b[39m▄\u001b[39m▆\u001b[39m█\u001b[39m▅\u001b[39m▅\u001b[39m▃\u001b[39m▅\u001b[39m▄\u001b[39m█\u001b[39m▄\u001b[39m▃\u001b[39m▅\u001b[39m▃\u001b[39m▁\u001b[39m▁\u001b[39m▁\u001b[39m▁\u001b[39m▃\u001b[39m \u001b[39m▄\n",
       "  22 ms\u001b[90m           Histogram: frequency by time\u001b[39m        29.7 ms \u001b[0m\u001b[1m<\u001b[22m\n",
       "\n",
       " Memory estimate\u001b[90m: \u001b[39m\u001b[33m8.06 MiB\u001b[39m, allocs estimate\u001b[90m: \u001b[39m\u001b[33m14\u001b[39m."
      ]
     },
     "execution_count": 29,
     "metadata": {},
     "output_type": "execute_result"
    }
   ],
   "source": [
    "@benchmark linreg_svd(y, X)"
   ]
  },
  {
   "cell_type": "markdown",
   "metadata": {},
   "source": [
    "## Underdetermined least squares\n",
    "\n",
    "* When the Gram matrix $\\mathbf{X}^T\\mathbf{X}$ is singular (this happens if $\\text{rank}(\\mathbf{X})<p$, in particular $n < p$), the normal equation $\\mathbf{X}^T\\mathbf{X}\\boldsymbol{\\beta} = \\mathbf{X}^T\\mathbf{y}$ is *underdetermined*.\n",
    "\n",
    "* It has *many* solutions unless an additional condition is added.\n",
    "\n",
    "* Typically we require solution $\\mathbf{x}$ has a smallest norm; the solution depends on the choice of the norm."
   ]
  },
  {
   "cell_type": "markdown",
   "metadata": {},
   "source": [
    "* Example: minimum $\\ell_2$ norm solution\n",
    "$$\n",
    "    \\text{minimize}~\\|\\boldsymbol{\\beta}\\|_2 ~\\text{subject to}~\\mathbf{X}^T\\mathbf{X}\\boldsymbol{\\beta} = \\mathbf{X}^T\\mathbf{y}\n",
    "$$\n",
    "    - Solution is closed form: $\\hat{\\boldsymbol{\\beta}} = \\mathbf{X}^{\\dagger}\\mathbf{y}$, where $\\mathbf{X}^{\\dagger}$ is the Moore-Penrose pseudoinverse of $\\mathbf{X}$: $\\mathbf{X}^{\\dagger} = \\mathbf{X}^T(\\mathbf{X}\\mathbf{X}^T)^{-1}$ if $n<p$ and $\\mathbf{X}$ has full row rank.\n",
    "    - In fact $\\hat{\\boldsymbol{\\beta}}$ is a limit of the ridge regression: $\\hat{\\boldsymbol{\\beta}} = \\lim_{\\lambda\\to 0}(\\mathbf{X}^T\\mathbf{X}+\\lambda\\mathbf{I})^{-1}\\mathbf{X}^T\\mathbf{y}$.\n",
    "    "
   ]
  },
  {
   "cell_type": "markdown",
   "metadata": {},
   "source": [
    "* Example: minimum $\\ell_0$ \"norm\" solution\n",
    "$$\n",
    "    \\text{minimize}~\\|\\boldsymbol{\\beta}\\|_0 ~\\text{subject to}~\\mathbf{X}^T\\mathbf{X}\\boldsymbol{\\beta} = \\mathbf{X}^T\\mathbf{y}\n",
    "$$\n",
    "    - $\\|\\mathbf{x}\\|_0 \\triangleq \\sum_{i=1}^p \\mathbf{1}_{\\{x_i\\neq 0\\}}$, the \"sparsest\" solution.\n",
    "    - Model selection problem. Combinatorial (intractable if $p$ large).\n",
    "    \n",
    "* Compromise: minimum $\\ell_1$ norm solution    \n",
    "$$\n",
    "    \\text{minimize}~\\|\\boldsymbol{\\beta}\\|_1 ~\\text{subject to}~\\mathbf{X}^T\\mathbf{X}\\boldsymbol{\\beta} = \\mathbf{X}^T\\mathbf{y}\n",
    "$$\n",
    "    - LASSO.\n",
    "    - Convex optimization problem (linear programming). Tractable.\n",
    "    - Under certain conditions recovers the minimum $\\ell_0$ norm solution."
   ]
  },
  {
   "cell_type": "markdown",
   "metadata": {},
   "source": [
    "## Further reading\n",
    "\n",
    "* Chapter 6 of [Numerical Analysis for Statisticians](http://ucla.worldcat.org/title/numerical-analysis-for-statisticians/oclc/793808354&referer=brief_results) of Kenneth Lange (2010).\n",
    "\n",
    "* Section 2.6 of [Matrix Computation](http://catalog.library.ucla.edu/vwebv/holdingsInfo?bibId=7122088) by Gene Golub and Charles Van Loan (2013)."
   ]
  },
  {
   "cell_type": "markdown",
   "metadata": {},
   "source": [
    "## Acknowledgment\n",
    "\n",
    "Many parts of this lecture note is based on [Dr. Hua Zhou](http://hua-zhou.github.io)'s 2019 Spring Statistical Computing course notes available at <http://hua-zhou.github.io/teaching/biostatm280-2019spring/index.html>."
   ]
  }
 ],
 "metadata": {
  "@webio": {
   "lastCommId": null,
   "lastKernelId": null
  },
  "kernelspec": {
   "display_name": "Julia 1.6.2",
   "language": "julia",
   "name": "julia-1.6"
  },
  "language_info": {
   "file_extension": ".jl",
   "mimetype": "application/julia",
   "name": "julia",
   "version": "1.6.2"
  },
  "toc": {
   "colors": {
    "hover_highlight": "#DAA520",
    "running_highlight": "#FF0000",
    "selected_highlight": "#FFD700"
   },
   "moveMenuLeft": true,
   "nav_menu": {
    "height": "31px",
    "width": "252px"
   },
   "navigate_menu": true,
   "number_sections": true,
   "sideBar": true,
   "skip_h1_title": true,
   "threshold": 4,
   "toc_cell": true,
   "toc_position": {
    "height": "452.3333435058594px",
    "left": "0px",
    "right": "895.3333129882813px",
    "top": "96.66666412353516px",
    "width": "136px"
   },
   "toc_section_display": "block",
   "toc_window_display": true,
   "widenNotebook": false
  }
 },
 "nbformat": 4,
 "nbformat_minor": 4
}
