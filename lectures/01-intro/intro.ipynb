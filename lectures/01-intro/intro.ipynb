{
 "cells": [
  {
   "cell_type": "markdown",
   "metadata": {
    "slideshow": {
     "slide_type": "slide"
    }
   },
   "source": [
    "# M1399.000200: Advanced Statistical Computing\n",
    "\n",
    "* Mon/Wed 11:00am-12:15pm @  online\n",
    "* Instructor: Joong-Ho Won <wonj@stats.snu.ac.kr>"
   ]
  },
  {
   "cell_type": "markdown",
   "metadata": {
    "slideshow": {
     "slide_type": "slide"
    }
   },
   "source": [
    "# What is statistics?\n",
    "\n",
    "* Statistics, the science of *data analysis*, is the applied mathematics in the 21st century. \n",
    "\n",
    "* People (scientists, goverment, health professionals, companies) collect data in order to answer certain questions. Statisticians's job is to help them extract knowledge and insights from data. \n",
    "\n",
    "* Must-read for statistics students:  \n",
    "  - [_50 years of data sicence_](../readings/Donoho15FiftyYearsDataScience.pdf), by David Donoho.\n",
    "  - [_Data Science: An Artificial Ecosystem_](https://hdsr.mitpress.mit.edu/pub/jhy4g6eg), by Xiao-Li Meng \n",
    "  - ... and the every article of the inaugural issue of the [_Havard Data Science Review_](https://hdsr.mitpress.mit.edu)\n",
    "\n",
    "* If existing software tools readily solve the problem, use them.\n",
    "\n",
    "* Often statisticians need to implement their own methods, test new algorithms, or tailor classical methods to new types of data (big, streaming). \n",
    "\n",
    "* This entails at least two essential skills: **programming** and fundamental knowledge of **algorithms**. "
   ]
  },
  {
   "cell_type": "markdown",
   "metadata": {
    "slideshow": {
     "slide_type": "slide"
    }
   },
   "source": [
    "# What is this course about?\n",
    "\n",
    "* **Not** a course on statistical packages. It does not answer questions such as _How to fit a linear mixed model in R,  Julia, SAS, SPSS, or Stata?_\n",
    "\n",
    "* **Not** a pure programming course, although programming is important and we do homework in [Julia](https://julialang.org).  \n",
    "Undergraduate course [326.312 (Statistical Computing and Labs)](https://won-j.github.io/326_212-2020fall/), taught concurrently in this semester, focuses on programming in R.\n",
    "\n",
    "* **Not** a course on data science. My previous course [326.621a-2018 (Introduction to Data Science)](https://won-j.github.io/326_621a-2018fall/) focused on some software tools for data scientists.\n",
    "\n",
    "* This course focuses on **algorithms**, mostly those in **numerical linear algebra** and **numerical optimization**. \n",
    "\n",
    "* To quote [James Gentle](https://www.amazon.com/Matrix-Algebra-Computations-Applications-Statistics-ebook/dp/B00DZ0O7AQ)\n",
    "> The form of a mathematical expression and the way the expression should be evaluated in actual practice may be quite different.\n",
    "\n",
    "* For a common numerical task in statistics, say solving the least squares problem \n",
    "$$\n",
    "    \\widehat \\beta = ({\\bf X}^T {\\bf X})^{-1} {\\bf X}^T {\\bf y},\n",
    "$$\n",
    "we need to know which methods/algorithms are out there and what are their advantages and disadvantages. You will **fail** this course if you use\n",
    "```julia\n",
    "inv(X' * X) * X' * y\n",
    "```\n",
    "Using `X \\ y` in Julia/Matlab (or `solve(X, y)` in R) is correct but not the purpose of this course. We want to understand **what computer is doing** when calling `X \\ y`."
   ]
  },
  {
   "cell_type": "markdown",
   "metadata": {
    "slideshow": {
     "slide_type": "slide"
    }
   },
   "source": [
    "# Course logistics\n",
    "\n",
    "* Course webpage: <https://won-j.github.io/M1399_000200-2020fall/>.\n",
    "\n",
    "* [Syllabus](../../README.md).\n",
    "\n",
    "* Check the **Schedule** and **Announcements** sections frequently. \n",
    "\n",
    "* [Jupyter notebooks](https://jupyter.org/install.html) will be posted before each lecture."
   ]
  },
  {
   "cell_type": "markdown",
   "metadata": {},
   "source": [
    "## Acknowledgment\n",
    "\n",
    "This lecture note is based on [Dr. Hua Zhou](http://hua-zhou.github.io)'s 2019 Winter Statistical Computing course notes available at <http://hua-zhou.github.io/teaching/biostatm280-2019spring/index.html>."
   ]
  }
 ],
 "metadata": {
  "celltoolbar": "Slideshow",
  "kernelspec": {
   "display_name": "Julia 1.4.0",
   "language": "julia",
   "name": "julia-1.4"
  },
  "language_info": {
   "file_extension": ".jl",
   "mimetype": "application/julia",
   "name": "julia",
   "version": "1.4.0"
  },
  "livereveal": {
   "scroll": true,
   "start_slideshow_at": "selected"
  },
  "toc": {
   "colors": {
    "hover_highlight": "#DAA520",
    "running_highlight": "#FF0000",
    "selected_highlight": "#FFD700"
   },
   "moveMenuLeft": true,
   "nav_menu": {
    "height": "213px",
    "width": "252px"
   },
   "navigate_menu": true,
   "number_sections": true,
   "sideBar": true,
   "skip_h1_title": true,
   "threshold": 4,
   "toc_cell": false,
   "toc_section_display": "block",
   "toc_window_display": true,
   "widenNotebook": false
  }
 },
 "nbformat": 4,
 "nbformat_minor": 4
}
