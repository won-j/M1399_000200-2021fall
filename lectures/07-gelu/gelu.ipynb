{
 "cells": [
  {
   "cell_type": "code",
   "execution_count": 1,
   "metadata": {},
   "outputs": [
    {
     "name": "stdout",
     "output_type": "stream",
     "text": [
      "Julia Version 1.6.2\n",
      "Commit 1b93d53fc4 (2021-07-14 15:36 UTC)\n",
      "Platform Info:\n",
      "  OS: macOS (x86_64-apple-darwin18.7.0)\n",
      "  CPU: Intel(R) Core(TM) i5-8279U CPU @ 2.40GHz\n",
      "  WORD_SIZE: 64\n",
      "  LIBM: libopenlibm\n",
      "  LLVM: libLLVM-11.0.1 (ORCJIT, skylake)\n"
     ]
    }
   ],
   "source": [
    "versioninfo()"
   ]
  },
  {
   "cell_type": "code",
   "execution_count": 2,
   "metadata": {},
   "outputs": [
    {
     "name": "stderr",
     "output_type": "stream",
     "text": [
      "\u001b[32m\u001b[1m  Activating\u001b[22m\u001b[39m environment at `~/Dropbox/class/M1399.000200/2021/M1399_000200-2021fall/Project.toml`\n"
     ]
    },
    {
     "name": "stdout",
     "output_type": "stream",
     "text": [
      "\u001b[32m\u001b[1m      Status\u001b[22m\u001b[39m `~/Dropbox/class/M1399.000200/2021/M1399_000200-2021fall/Project.toml`\n",
      " \u001b[90m [7d9fca2a] \u001b[39mArpack v0.5.3\n",
      " \u001b[90m [6e4b80f9] \u001b[39mBenchmarkTools v1.1.4\n",
      " \u001b[90m [1e616198] \u001b[39mCOSMO v0.8.1\n",
      " \u001b[90m [f65535da] \u001b[39mConvex v0.14.13\n",
      " \u001b[90m [a93c6f00] \u001b[39mDataFrames v1.2.2\n",
      " \u001b[90m [31a5f54b] \u001b[39mDebugger v0.6.8\n",
      " \u001b[90m [31c24e10] \u001b[39mDistributions v0.24.18\n",
      " \u001b[90m [e2685f51] \u001b[39mECOS v0.12.3\n",
      " \u001b[90m [f6369f11] \u001b[39mForwardDiff v0.10.19\n",
      " \u001b[90m [28b8d3ca] \u001b[39mGR v0.58.1\n",
      " \u001b[90m [c91e804a] \u001b[39mGadfly v1.3.3\n",
      " \u001b[90m [bd48cda9] \u001b[39mGraphRecipes v0.5.7\n",
      " \u001b[90m [82e4d734] \u001b[39mImageIO v0.5.8\n",
      " \u001b[90m [6218d12a] \u001b[39mImageMagick v1.2.1\n",
      " \u001b[90m [916415d5] \u001b[39mImages v0.24.1\n",
      " \u001b[90m [b6b21f68] \u001b[39mIpopt v0.7.0\n",
      " \u001b[90m [42fd0dbc] \u001b[39mIterativeSolvers v0.9.1\n",
      " \u001b[90m [4076af6c] \u001b[39mJuMP v0.21.9\n",
      " \u001b[90m [b51810bb] \u001b[39mMatrixDepot v1.0.4\n",
      " \u001b[90m [1ec41992] \u001b[39mMosekTools v0.9.4\n",
      " \u001b[90m [76087f3c] \u001b[39mNLopt v0.6.3\n",
      " \u001b[90m [47be7bcc] \u001b[39mORCA v0.5.0\n",
      " \u001b[90m [a03496cd] \u001b[39mPlotlyBase v0.4.3\n",
      " \u001b[90m [f0f68f2c] \u001b[39mPlotlyJS v0.15.0\n",
      " \u001b[90m [91a5bcdd] \u001b[39mPlots v1.21.2\n",
      " \u001b[90m [438e738f] \u001b[39mPyCall v1.92.3\n",
      " \u001b[90m [d330b81b] \u001b[39mPyPlot v2.9.0\n",
      " \u001b[90m [dca85d43] \u001b[39mQuartzImageIO v0.7.3\n",
      " \u001b[90m [6f49c342] \u001b[39mRCall v0.13.12\n",
      " \u001b[90m [ce6b1742] \u001b[39mRDatasets v0.7.5\n",
      " \u001b[90m [c946c3f1] \u001b[39mSCS v0.7.1\n",
      " \u001b[90m [276daf66] \u001b[39mSpecialFunctions v1.6.1\n",
      " \u001b[90m [2913bbd2] \u001b[39mStatsBase v0.33.10\n",
      " \u001b[90m [b8865327] \u001b[39mUnicodePlots v2.0.1\n",
      " \u001b[90m [0f1e0344] \u001b[39mWebIO v0.8.15\n",
      " \u001b[90m [8f399da3] \u001b[39mLibdl\n",
      " \u001b[90m [2f01184e] \u001b[39mSparseArrays\n",
      " \u001b[90m [10745b16] \u001b[39mStatistics\n"
     ]
    }
   ],
   "source": [
    "using Pkg\n",
    "Pkg.activate(\"../..\")\n",
    "Pkg.status()"
   ]
  },
  {
   "cell_type": "markdown",
   "metadata": {},
   "source": [
    "# Gaussian Elimination and LU Decomposition"
   ]
  },
  {
   "cell_type": "markdown",
   "metadata": {},
   "source": [
    "* Goal: solve linear equation\n",
    "$$\n",
    "\\mathbf{A} \\mathbf{x} = \\mathbf{b}.\n",
    "$$\n",
    "For simplicity we consider a square matrix $\\mathbf{A} \\in \\mathbb{R}^{n \\times n}$.\n",
    "\n",
    "* [History](https://en.wikipedia.org/wiki/Gaussian_elimination#History): the method is named after Carl Friedrich Gauss (1777–1855), although it stems from the notes of Isaac Newton. If fact, GE was known to [Chinese mathematicians](https://en.wikipedia.org/wiki/The_Nine_Chapters_on_the_Mathematical_Art) as early as 179 AD.\n",
    "\n",
    "\n",
    "* A [toy example](./gelu.pdf)."
   ]
  },
  {
   "cell_type": "code",
   "execution_count": 3,
   "metadata": {},
   "outputs": [
    {
     "data": {
      "text/plain": [
       "3×3 Matrix{Float64}:\n",
       " 2.0  -4.0  2.0\n",
       " 4.0  -9.0  7.0\n",
       " 2.0   1.0  3.0"
      ]
     },
     "execution_count": 3,
     "metadata": {},
     "output_type": "execute_result"
    }
   ],
   "source": [
    "A = [2.0 -4.0 2.0; 4.0 -9.0 7.0; 2.0 1.0 3.0]"
   ]
  },
  {
   "cell_type": "code",
   "execution_count": 4,
   "metadata": {},
   "outputs": [
    {
     "data": {
      "text/plain": [
       "3-element Vector{Float64}:\n",
       "  6.0\n",
       " 20.0\n",
       " 14.0"
      ]
     },
     "execution_count": 4,
     "metadata": {},
     "output_type": "execute_result"
    }
   ],
   "source": [
    "b = [6.0, 20.0, 14.0]"
   ]
  },
  {
   "cell_type": "code",
   "execution_count": 5,
   "metadata": {},
   "outputs": [
    {
     "data": {
      "text/plain": [
       "3-element Vector{Float64}:\n",
       " 2.000000000000001\n",
       " 1.0\n",
       " 2.9999999999999996"
      ]
     },
     "execution_count": 5,
     "metadata": {},
     "output_type": "execute_result"
    }
   ],
   "source": [
    "# Julia way to solve linear equation\n",
    "# equivalent to `solve(A, b)` in R\n",
    "A \\ b"
   ]
  },
  {
   "cell_type": "markdown",
   "metadata": {},
   "source": [
    "What happens when we call `A \\ b` to solve a linear equation?"
   ]
  },
  {
   "cell_type": "markdown",
   "metadata": {},
   "source": [
    "## Elementary operator matrix\n",
    "\n",
    "* **Elementary operator matrix** is the identity matrix with the 0 in position $(j,k)$ replaced by $c$\n",
    "$$\n",
    "    \\mathbf{E}_{jk}(c) = \\begin{pmatrix}\n",
    "    1 & & \\\\\n",
    "    & \\ddots & \\\\\n",
    "    & & 1 & \\\\\n",
    "    & & & \\ddots & \\\\\n",
    "    & & c & & 1 & \\\\\n",
    "    & & & & & \\ddots \\\\\n",
    "    & & & & & & 1\n",
    "    \\end{pmatrix} = \\mathbf{I} + c \\mathbf{e}_j \\mathbf{e}_k^T.\n",
    "$$\n",
    "\n",
    "* $\\mathbf{E}_{jk}(c)$ is unit triangular, full rank, and its inverse is\n",
    "$$\n",
    "    \\mathbf{E}_{jk}^{-1}(c) = \\mathbf{E}_{jk}(-c).\n",
    "$$\n",
    "\n",
    "* $\\mathbf{E}_{jk}(c)$ left-multiplies an $n \\times m$ matrix $\\mathbf{X}$ effectively replace its $j$-th row $\\mathbf{x}_{j\\cdot}$ by $c \\mathbf{x}_{k \\cdot} + \\mathbf{x}_{j \\cdot}$\n",
    "$$\n",
    "    \\mathbf{E}_{jk}(c) \\times \\mathbf{X} = \\mathbf{E}_{jk}(c) \\times \\begin{pmatrix}\n",
    "    & & \\\\\n",
    "    \\cdots & \\mathbf{x}_{k\\cdot} & \\cdots \\\\\n",
    "    & & \\\\\n",
    "    \\cdots & \\mathbf{x}_{j\\cdot} & \\cdots \\\\\n",
    "    & & \n",
    "    \\end{pmatrix} = \\begin{pmatrix}\n",
    "    & & \\\\\n",
    "    \\cdots & \\mathbf{x}_{k\\cdot} & \\cdots \\\\\n",
    "    & & \\\\\n",
    "    \\cdots & c \\mathbf{x}_{k\\cdot} + \\mathbf{x}_{j\\cdot} & \\cdots \\\\\n",
    "    & & \n",
    "    \\end{pmatrix}.\n",
    "$$\n",
    "$2m$ flops (why?).\n",
    "\n",
    "* Gaussian elimination applies a sequence of elementary operator matrices to transform the linear system $\\mathbf{A} \\mathbf{x} = \\mathbf{b}$ to an upper triangular system\n",
    "$$\n",
    "\\begin{eqnarray*}\n",
    "    \\mathbf{E}_{n,n-1}(c_{n,n-1}) \\cdots \\mathbf{E}_{21}(c_{21}) \\mathbf{A} \\mathbf{x} &=& \\mathbf{E}_{n,n-1}(c_{n,n-1}) \\cdots \\mathbf{E}_{21}(c_{21}) \\mathbf{b} \\\\\n",
    "    \\mathbf{U} \\mathbf{x} &=& \\mathbf{b}_{\\text{new}}.\n",
    "\\end{eqnarray*}\n",
    "$$\n",
    "    \n",
    "    Column 1:"
   ]
  },
  {
   "cell_type": "code",
   "execution_count": 6,
   "metadata": {},
   "outputs": [
    {
     "data": {
      "text/plain": [
       "3×3 Matrix{Float64}:\n",
       "  1.0  0.0  0.0\n",
       " -2.0  1.0  0.0\n",
       "  0.0  0.0  1.0"
      ]
     },
     "execution_count": 6,
     "metadata": {},
     "output_type": "execute_result"
    }
   ],
   "source": [
    "E21 = [1.0 0.0 0.0; -2.0 1.0 0.0; 0.0 0.0 1.0]"
   ]
  },
  {
   "cell_type": "code",
   "execution_count": 7,
   "metadata": {},
   "outputs": [
    {
     "data": {
      "text/plain": [
       "3×3 Matrix{Float64}:\n",
       " 2.0  -4.0  2.0\n",
       " 0.0  -1.0  3.0\n",
       " 2.0   1.0  3.0"
      ]
     },
     "execution_count": 7,
     "metadata": {},
     "output_type": "execute_result"
    }
   ],
   "source": [
    "# zero (2, 1) entry\n",
    "E21 * A   # Step 1, A'"
   ]
  },
  {
   "cell_type": "code",
   "execution_count": 8,
   "metadata": {},
   "outputs": [
    {
     "data": {
      "text/plain": [
       "3×3 Matrix{Float64}:\n",
       "  1.0  0.0  0.0\n",
       "  0.0  1.0  0.0\n",
       " -1.0  0.0  1.0"
      ]
     },
     "execution_count": 8,
     "metadata": {},
     "output_type": "execute_result"
    }
   ],
   "source": [
    "E31 = [1.0 0.0 0.0; 0.0 1.0 0.0; -1.0 0.0 1.0]"
   ]
  },
  {
   "cell_type": "code",
   "execution_count": 9,
   "metadata": {},
   "outputs": [
    {
     "data": {
      "text/plain": [
       "3×3 Matrix{Float64}:\n",
       " 2.0  -4.0  2.0\n",
       " 0.0  -1.0  3.0\n",
       " 0.0   5.0  1.0"
      ]
     },
     "execution_count": 9,
     "metadata": {},
     "output_type": "execute_result"
    }
   ],
   "source": [
    "# zero (3, 1) entry\n",
    "E31 * E21 * A  # Step 2, A''"
   ]
  },
  {
   "cell_type": "markdown",
   "metadata": {},
   "source": [
    "    Column 2:"
   ]
  },
  {
   "cell_type": "code",
   "execution_count": 10,
   "metadata": {},
   "outputs": [
    {
     "data": {
      "text/plain": [
       "3×3 Matrix{Float64}:\n",
       " 1.0  0.0  0.0\n",
       " 0.0  1.0  0.0\n",
       " 0.0  5.0  1.0"
      ]
     },
     "execution_count": 10,
     "metadata": {},
     "output_type": "execute_result"
    }
   ],
   "source": [
    "E32 = [1.0 0.0 0.0; 0.0 1.0 0.0; 0.0 5.0 1.0]"
   ]
  },
  {
   "cell_type": "code",
   "execution_count": 11,
   "metadata": {},
   "outputs": [
    {
     "data": {
      "text/plain": [
       "3×3 Matrix{Float64}:\n",
       " 2.0  -4.0   2.0\n",
       " 0.0  -1.0   3.0\n",
       " 0.0   0.0  16.0"
      ]
     },
     "execution_count": 11,
     "metadata": {},
     "output_type": "execute_result"
    }
   ],
   "source": [
    "# zero (3, 2) entry\n",
    "E32 * E31 * E21 * A   # Step 3, A'''"
   ]
  },
  {
   "cell_type": "markdown",
   "metadata": {},
   "source": [
    "## Gauss transformations\n",
    "\n",
    "* For the first column,\n",
    "$$\n",
    "    \\mathbf{M}_1 = \\mathbf{E}_{n1}(c_{n1}) \\cdots \\mathbf{E}_{31}(c_{31}) \\mathbf{E}_{21}(c_{21}) = \\begin{pmatrix}\n",
    "    1 & \\\\\n",
    "    c_{21} & \\\\\n",
    "    & \\ddots & \\\\\n",
    "    c_{n1} & & 1\n",
    "    \\end{pmatrix}\n",
    "$$  \n",
    "For the $k$-th column,\n",
    "$$\n",
    "\t\\mathbf{M}_k = \\mathbf{E}_{nk}(c_{nk}) \\cdots \\mathbf{E}_{k+1,k}(c_{k+1,k}) = \\begin{pmatrix}\n",
    "\t1 & \\\\\n",
    "\t& \\ddots \\\\\n",
    "\t& & 1 & \\\\\n",
    "\t& & c_{k+1,k} & 1\\\\\n",
    "\t& & \\vdots & & \\ddots \\\\\n",
    "\t& &  c_{n,k} & & & 1\n",
    "\t\\end{pmatrix}.\n",
    "$$\n",
    "\n",
    "* $\\mathbf{M}_1, \\ldots, \\mathbf{M}_{n-1}$ are called the **Gauss transformations**."
   ]
  },
  {
   "cell_type": "code",
   "execution_count": 12,
   "metadata": {},
   "outputs": [
    {
     "data": {
      "text/plain": [
       "3×3 Matrix{Float64}:\n",
       "  1.0  0.0  0.0\n",
       " -2.0  1.0  0.0\n",
       " -1.0  0.0  1.0"
      ]
     },
     "execution_count": 12,
     "metadata": {},
     "output_type": "execute_result"
    }
   ],
   "source": [
    "M1 = E31 * E21   # inv(L2 * L1)"
   ]
  },
  {
   "cell_type": "code",
   "execution_count": 13,
   "metadata": {},
   "outputs": [
    {
     "data": {
      "text/plain": [
       "3×3 Matrix{Float64}:\n",
       " 1.0  0.0  0.0\n",
       " 0.0  1.0  0.0\n",
       " 0.0  5.0  1.0"
      ]
     },
     "execution_count": 13,
     "metadata": {},
     "output_type": "execute_result"
    }
   ],
   "source": [
    "M2 = E32    # inv(L3)"
   ]
  },
  {
   "cell_type": "markdown",
   "metadata": {},
   "source": [
    "* Gauss transformations $\\mathbf{M}_k$ are unit triangular, full rank, with inverse\n",
    "$$\n",
    "\t\\mathbf{M}_k^{-1} = \\mathbf{E}_{k+1,k}^{-1}(c_{k+1,k}) \\cdots \\mathbf{E}_{nk}^{-1}(c_{nk}) = \\begin{pmatrix}\n",
    "\t1 & \\\\\n",
    "\t& \\ddots \\\\\n",
    "\t& & 1 & \\\\\n",
    "\t& & - c_{k+1,k}\\\\\n",
    "\t& & \\vdots & & \\ddots \\\\\n",
    "\t& & - c_{n,k} & & & 1\n",
    "\t\\end{pmatrix}.\n",
    "$$"
   ]
  },
  {
   "cell_type": "code",
   "execution_count": 14,
   "metadata": {},
   "outputs": [
    {
     "data": {
      "text/plain": [
       "3×3 Matrix{Float64}:\n",
       " 1.0  0.0  0.0\n",
       " 2.0  1.0  0.0\n",
       " 1.0  0.0  1.0"
      ]
     },
     "execution_count": 14,
     "metadata": {},
     "output_type": "execute_result"
    }
   ],
   "source": [
    "inv(M1)    # L2 * L1. inv(A) give the inverse of A, but use with caution (see below)"
   ]
  },
  {
   "cell_type": "code",
   "execution_count": 15,
   "metadata": {},
   "outputs": [
    {
     "data": {
      "text/plain": [
       "3×3 Matrix{Float64}:\n",
       " 1.0   0.0  0.0\n",
       " 0.0   1.0  0.0\n",
       " 0.0  -5.0  1.0"
      ]
     },
     "execution_count": 15,
     "metadata": {},
     "output_type": "execute_result"
    }
   ],
   "source": [
    "inv(M2)    # L3"
   ]
  },
  {
   "cell_type": "markdown",
   "metadata": {},
   "source": [
    "## LU decomposition\n",
    "\n",
    "Gaussian elimination does\n",
    "$$\n",
    "\\mathbf{M}_{n-1} \\cdots \\mathbf{M}_1 \\mathbf{A} = \\mathbf{U}.\n",
    "$$  \n",
    "Let"
   ]
  },
  {
   "cell_type": "markdown",
   "metadata": {},
   "source": [
    "\\begin{equation*}\n",
    "\\mathbf{L} = \\mathbf{M}_1^{-1} \\cdots \\mathbf{M}_{n-1}^{-1} = \\begin{pmatrix}  \n",
    "\t1 & & & & \\\\\n",
    "\t- c_{21} & \\ddots & & & \\\\\n",
    "\t& & 1 & & \\\\\n",
    "\t- c_{k+1,1} & & - c_{k+1,k} & & \\\\\n",
    "\t& & \\vdots & & \\ddots \\\\\n",
    "\t- c_{n1} & & - c_{nk} & & & 1\n",
    "\t\\end{pmatrix}.\n",
    "\\end{equation*}\n",
    "Thus we have the **LU decomposition**\n",
    "$$\n",
    "\\mathbf{A} = \\mathbf{L} \\mathbf{U},\n",
    "$$\n",
    "where $\\mathbf{L}$ is **unit** lower triangular and $\\mathbf{U}$ is upper triangular.\n",
    "\n",
    "* LU decomposition exists if the principal sub-matrix $\\mathbf{A}[1:k, 1:k]$ is non-singular for $k=1,\\ldots,n-1$.\n",
    "\n",
    "* If the LU decomposition exists and $\\mathbf{A}$ is non-singular, then the LU decmpositon is unique and\n",
    "$$\n",
    "    \\det(\\mathbf{A}) = \\det(\\mathbf{L}) \\det(\\mathbf{U}) = \\prod_{k=1}^n u_{kk}.\n",
    "$$\n",
    "    - This is basically how Julia, R, and MATLAB compute determinants."
   ]
  },
  {
   "cell_type": "markdown",
   "metadata": {},
   "source": [
    "* The whole LU algorithm is done *in place*, i.e., $\\mathbf{A}$ is **overwritten** by $\\mathbf{L}$ and $\\mathbf{U}$.\n",
    "```Julia\n",
    "for k=1:n-1\n",
    "    for i=k+1:n\n",
    "        A[i, k] /= A[k, k]\n",
    "        for j=k+1:n\n",
    "            A[i, j] -= A[i, k] * A[k, j]\n",
    "        end\n",
    "    end\n",
    "end\n",
    "```\n",
    "\n",
    "* The LU decomposition costs\n",
    "$$\n",
    "    2(n-1)^2 + 2(n-2)^2 + \\cdots + 2 \\cdot 1^2 \\approx \\frac 23 n^3 \\quad \\text{flops}.\n",
    "$$\n",
    "\n",
    "<img src=\"http://www.netlib.org/utk/papers/factor/_25826_figure159.gif\" width=\"500\" align=\"center\"/>\n",
    "\n",
    "Source: <http://www.netlib.org>\n",
    "\n",
    "* Actual implementations can differ: outer product LU ($kij$ loop), block outer product LU (higher level-3 fraction), Crout's algorithm ($jki$ loop).\n",
    "\n",
    "* Given LU decomposition $\\mathbf{A} = \\mathbf{L} \\mathbf{U}$, solving $(\\mathbf{L} \\mathbf{U}) \\mathbf{x} = \\mathbf{b}$ for one right hand side costs $2n^2$ flops:\n",
    "    - One forward substitution ($n^2$ flops) to solve\n",
    "    $$\n",
    "    \\mathbf{L} \\mathbf{y} = \\mathbf{b}\n",
    "    $$\n",
    "    - One back substitution ($n^2$ flops) to solve\n",
    "    $$\n",
    "    \\mathbf{U} \\mathbf{x} = \\mathbf{y}\n",
    "    $$\n",
    "    \n",
    "* Therefore to solve $\\mathbf{A} \\mathbf{x} = \\mathbf{b}$ via LU, we need a total of\n",
    "$$\n",
    "    \\frac 23 n^3 + 2n^2 \\quad \\text{flops}.\n",
    "$$\n",
    "\n",
    "* If there are multiple right hand sides, LU only needs to be done once."
   ]
  },
  {
   "cell_type": "markdown",
   "metadata": {},
   "source": [
    "## Matrix inversion\n",
    "\n",
    "* For matrix inversion, there are $n$ right hand sides $\\mathbf{e}_1, \\ldots, \\mathbf{e}_n$. Taking advantage of 0s reduces $2n^3$ flops to $\\frac 43 n^3$ flops. So **matrix inversion via LU** costs\n",
    "$$\n",
    "\\frac 23 n^3 + \\frac 43 n^3 = 2n^3 \\quad \\text{flops}.\n",
    "$$\n",
    "\n",
    "* **No inversion mentality**:  \n",
    "    > **Whenever we see matrix inverse, we should think in terms of solving linear equations.**\n",
    "    > In short, no ```inv(A)```.\n",
    "\n",
    "    We do not compute matrix inverse unless  \n",
    "    1. it is necessary to compute standard errors  \n",
    "    2. number of right hand sides is much larger than $n$  \n",
    "    3. $n$ is small\n",
    " "
   ]
  },
  {
   "cell_type": "markdown",
   "metadata": {},
   "source": [
    "   \n",
    "## Pivoting    \n",
    "\n",
    "* Let\n",
    "$$\n",
    "    \\mathbf{A} = \\begin{bmatrix}\n",
    "    0 & 1 \\\\\n",
    "    1 & 0 \\\\\n",
    "    \\end{bmatrix}.\n",
    "$$\n",
    "Is there a solution to $\\mathbf{A} \\mathbf{x} = \\mathbf{b}$ for an arbitrary $\\mathbf{b}$? Does GE/LU work for $\\mathbf{A}$?\n",
    "\n",
    "* What if, during LU procedure, the **pivot** $a_{kk}$ is 0 or nearly 0 due to underflow?  \n",
    "     **Example**:\n",
    "$$\n",
    "\\begin{split}\n",
    "0.001x_1 + x_2 &= 1  \\\\\n",
    "     x_1 + x_2 &= 2 \n",
    "\\end{split}\n",
    "$$\n",
    "with solution\n",
    "\n",
    "$$\n",
    "\\begin{bmatrix} x_1 \\\\ x_ 2 \\end{bmatrix}\n",
    "=\n",
    "\\begin{bmatrix} 1.001001 \\\\ 0.998999 \\end{bmatrix}\n",
    "\\approx\n",
    "\\begin{bmatrix} 1.0 \\\\ 1.0 \\end{bmatrix}\n",
    ".\n",
    "$$\n",
    "\n",
    "* With two significant digits, GE yields \n",
    "$$\n",
    "\\begin{split}\n",
    "0.001x_1 + x_2 &= 1  \\\\\n",
    "     (1-1000)x_2 &= 2 - 1000 \n",
    "\\end{split}\n",
    "$$\n",
    "or\n",
    "$$\n",
    "\\begin{split}\n",
    "0.001x_1 + x_2 &= 1 \\\\\n",
    "     -1000 x_2 &= -1000 \n",
    "\\end{split}\n",
    ",\n",
    "$$\n",
    "yielding\n",
    "$$\n",
    "\\begin{bmatrix} x_1 \\\\ x_ 2 \\end{bmatrix}\n",
    "=\n",
    "\\begin{bmatrix} 0.0 \\\\ 1.0 \\end{bmatrix}\n",
    "!\n",
    "$$\n",
    "\n",
    "\n",
    "* Solution: pivoting.\n",
    "\n",
    "$$\n",
    "\\begin{split}\n",
    "     x_1 + x_2 &= 2  \\\\\n",
    "0.001x_1 + x_2 &= 1  \n",
    "\\end{split}\n",
    "$$\n",
    "\n",
    "* With two significant digits, GE yields \n",
    "\n",
    "$$\n",
    "\\begin{split}\n",
    "     x_1 + x_2 &= 2  \\\\\n",
    "     (1-0.001)x_2 &= 1 - 0.001 \n",
    "\\end{split}\n",
    "$$\n",
    "\n",
    "or\n",
    "\n",
    "$$\n",
    "\\begin{split}\n",
    "     x_1 + x_2 &= 2  \\\\\n",
    "     1.0 x_2 &= 1.0\n",
    "\\end{split}\n",
    ",\n",
    "$$\n",
    "\n",
    "yielding\n",
    "\n",
    "$$\n",
    "\\begin{bmatrix} x_1 \\\\ x_ 2 \\end{bmatrix}\n",
    "=\n",
    "\\begin{bmatrix} 1.0 \\\\ 1.0 \\end{bmatrix}\n",
    ".\n",
    "$$\n",
    "\n",
    "\n",
    "* **Partial pivoting**: before zeroing the $k$-th column, move the row with $\\max_{i=k}^n |a_{ik}|$ is into the $k$-th row (called GEPP).\n",
    "\n",
    "* LU with partial pivoting yields\n",
    "$$\n",
    "\t\\mathbf{P} \\mathbf{A} = \\mathbf{L} \\mathbf{U},\n",
    "$$\n",
    "where $\\mathbf{P}$ is a permutation matrix, $\\mathbf{L}$ is unit lower triangular with $|\\ell_{ij}| \\le 1$, and $\\mathbf{U}$ is upper triangular.\n",
    "\n",
    "* Complete pivoting (GECP): Do both row and column interchanges so that the largest entry in the submatrix `A[k:n, k:n]` is permuted to the $(k,k)$-th entry. This yields the decomposition \n",
    "$$\n",
    "\\mathbf{P} \\mathbf{A} \\mathbf{Q} = \\mathbf{L} \\mathbf{U},\n",
    "$$\n",
    "where $|\\ell_{ij}| \\le 1$.\n",
    "\n",
    "* GEPP is the most commonly used methods for solving **general** linear systems. GECP is more stable but costs more computation. Partial pivoting is stable most of times (which is partially because GEPP guarantees $|\\ell_{ij}| \\le 1$)."
   ]
  },
  {
   "cell_type": "markdown",
   "metadata": {},
   "source": [
    "## Implementation\n",
    "\n",
    "* LAPACK: [`?GETRF`](http://www.netlib.org/lapack/explore-html/dd/d9a/group__double_g_ecomputational_ga0019443faea08275ca60a734d0593e60.html#ga0019443faea08275ca60a734d0593e60) does $\\mathbf{P} \\mathbf{A} = \\mathbf{L} \\mathbf{U}$ (LU decomposition with partial pivoting) in place.\n",
    "\n",
    "* R: `solve()` implicitly performs LU decomposition (wrapper of LAPACK routine `DGESV`). `solve()` allows specifying a single or multiple right hand sides. If none, it computes the matrix inverse. The `matrix` package contains `lu()` function that outputs `L`, `U`, and `pivot`.\n",
    "\n",
    "* Julia: \n",
    "    - [`LinearAlgebra.lu`](https://docs.julialang.org/en/v1/stdlib/LinearAlgebra/#LinearAlgebra.lu).\n",
    "    - [`LinearAlgebra.lu!`](https://docs.julialang.org/en/v1/stdlib/LinearAlgebra/#LinearAlgebra.lu!). In-place version. Input matrix gets overwritten with L and U.\n",
    "    - Or call LAPACK wrapper function [`LAPACK.getrf!`](https://docs.julialang.org/en/v1/stdlib/LinearAlgebra/#LinearAlgebra.LAPACK.getrf!) directly.\n",
    "    - Other LU-related LAPACK wrapper functions: [`getrs`](https://docs.julialang.org/en/v1/stdlib/LinearAlgebra/#LinearAlgebra.LAPACK.getrs!), [`gesv`](https://docs.julialang.org/en/v1/stdlib/LinearAlgebra/#LinearAlgebra.LAPACK.gesv!), [`gesvx`](https://docs.julialang.org/en/v1/stdlib/LinearAlgebra/#LinearAlgebra.LAPACK.gesvx!), [`trtri`](https://docs.julialang.org/en/v1/stdlib/LinearAlgebra/#LinearAlgebra.LAPACK.trtri!) (inverse of triangular matrix), [`trtrs`](https://docs.julialang.org/en/v1/stdlib/LinearAlgebra/#LinearAlgebra.LAPACK.trtrs!)."
   ]
  },
  {
   "cell_type": "code",
   "execution_count": 16,
   "metadata": {},
   "outputs": [
    {
     "data": {
      "text/plain": [
       "3×3 Matrix{Float64}:\n",
       " 2.0  -4.0  2.0\n",
       " 4.0  -9.0  7.0\n",
       " 2.0   1.0  3.0"
      ]
     },
     "execution_count": 16,
     "metadata": {},
     "output_type": "execute_result"
    }
   ],
   "source": [
    "A"
   ]
  },
  {
   "cell_type": "code",
   "execution_count": 17,
   "metadata": {},
   "outputs": [
    {
     "data": {
      "text/plain": [
       "LU{Float64, Matrix{Float64}}"
      ]
     },
     "execution_count": 17,
     "metadata": {},
     "output_type": "execute_result"
    }
   ],
   "source": [
    "using LinearAlgebra\n",
    "\n",
    "# second argument indicates partial pivoting (default) or not\n",
    "alu = lu(A)\n",
    "typeof(alu)"
   ]
  },
  {
   "cell_type": "code",
   "execution_count": 18,
   "metadata": {},
   "outputs": [
    {
     "data": {
      "text/plain": [
       "(:factors, :ipiv, :info)"
      ]
     },
     "execution_count": 18,
     "metadata": {},
     "output_type": "execute_result"
    }
   ],
   "source": [
    "fieldnames(typeof(alu))"
   ]
  },
  {
   "cell_type": "code",
   "execution_count": 19,
   "metadata": {},
   "outputs": [
    {
     "data": {
      "text/plain": [
       "3×3 Matrix{Float64}:\n",
       " 1.0  0.0        0.0\n",
       " 0.5  1.0        0.0\n",
       " 0.5  0.0909091  1.0"
      ]
     },
     "execution_count": 19,
     "metadata": {},
     "output_type": "execute_result"
    }
   ],
   "source": [
    "alu.L"
   ]
  },
  {
   "cell_type": "code",
   "execution_count": 20,
   "metadata": {},
   "outputs": [
    {
     "data": {
      "text/plain": [
       "3×3 Matrix{Float64}:\n",
       " 4.0  -9.0   7.0\n",
       " 0.0   5.5  -0.5\n",
       " 0.0   0.0  -1.45455"
      ]
     },
     "execution_count": 20,
     "metadata": {},
     "output_type": "execute_result"
    }
   ],
   "source": [
    "alu.U"
   ]
  },
  {
   "cell_type": "code",
   "execution_count": 21,
   "metadata": {},
   "outputs": [
    {
     "data": {
      "text/plain": [
       "3-element Vector{Int64}:\n",
       " 2\n",
       " 3\n",
       " 1"
      ]
     },
     "execution_count": 21,
     "metadata": {},
     "output_type": "execute_result"
    }
   ],
   "source": [
    "alu.p"
   ]
  },
  {
   "cell_type": "code",
   "execution_count": 22,
   "metadata": {},
   "outputs": [
    {
     "data": {
      "text/plain": [
       "3×3 Matrix{Float64}:\n",
       " 0.0  1.0  0.0\n",
       " 0.0  0.0  1.0\n",
       " 1.0  0.0  0.0"
      ]
     },
     "execution_count": 22,
     "metadata": {},
     "output_type": "execute_result"
    }
   ],
   "source": [
    "alu.P"
   ]
  },
  {
   "cell_type": "code",
   "execution_count": 23,
   "metadata": {},
   "outputs": [
    {
     "data": {
      "text/plain": [
       "3×3 Matrix{Float64}:\n",
       " 4.0  -9.0  7.0\n",
       " 2.0   1.0  3.0\n",
       " 2.0  -4.0  2.0"
      ]
     },
     "execution_count": 23,
     "metadata": {},
     "output_type": "execute_result"
    }
   ],
   "source": [
    "alu.L * alu.U"
   ]
  },
  {
   "cell_type": "code",
   "execution_count": 24,
   "metadata": {},
   "outputs": [
    {
     "data": {
      "text/plain": [
       "3×3 Matrix{Float64}:\n",
       " 4.0  -9.0  7.0\n",
       " 2.0   1.0  3.0\n",
       " 2.0  -4.0  2.0"
      ]
     },
     "execution_count": 24,
     "metadata": {},
     "output_type": "execute_result"
    }
   ],
   "source": [
    "A[alu.p, :]"
   ]
  },
  {
   "cell_type": "code",
   "execution_count": 25,
   "metadata": {},
   "outputs": [
    {
     "data": {
      "text/plain": [
       "3-element Vector{Float64}:\n",
       " 2.000000000000001\n",
       " 1.0\n",
       " 2.9999999999999996"
      ]
     },
     "execution_count": 25,
     "metadata": {},
     "output_type": "execute_result"
    }
   ],
   "source": [
    "# this is doing two triangular solves, 2n^2 flops\n",
    "alu \\ b"
   ]
  },
  {
   "cell_type": "code",
   "execution_count": 26,
   "metadata": {},
   "outputs": [
    {
     "data": {
      "text/plain": [
       "-32.0"
      ]
     },
     "execution_count": 26,
     "metadata": {},
     "output_type": "execute_result"
    }
   ],
   "source": [
    "det(A) # this does LU!"
   ]
  },
  {
   "cell_type": "code",
   "execution_count": 27,
   "metadata": {},
   "outputs": [
    {
     "data": {
      "text/plain": [
       "-32.0"
      ]
     },
     "execution_count": 27,
     "metadata": {},
     "output_type": "execute_result"
    }
   ],
   "source": [
    "det(alu) # this is cheap"
   ]
  },
  {
   "cell_type": "code",
   "execution_count": 28,
   "metadata": {},
   "outputs": [
    {
     "data": {
      "text/plain": [
       "3×3 Matrix{Float64}:\n",
       "  1.0625  -0.4375  0.3125\n",
       " -0.0625  -0.0625  0.1875\n",
       " -0.6875   0.3125  0.0625"
      ]
     },
     "execution_count": 28,
     "metadata": {},
     "output_type": "execute_result"
    }
   ],
   "source": [
    "inv(A) # this does LU!"
   ]
  },
  {
   "cell_type": "code",
   "execution_count": 29,
   "metadata": {},
   "outputs": [
    {
     "data": {
      "text/plain": [
       "3×3 Matrix{Float64}:\n",
       "  1.0625  -0.4375  0.3125\n",
       " -0.0625  -0.0625  0.1875\n",
       " -0.6875   0.3125  0.0625"
      ]
     },
     "execution_count": 29,
     "metadata": {},
     "output_type": "execute_result"
    }
   ],
   "source": [
    "inv(alu) # this is cheap"
   ]
  },
  {
   "cell_type": "markdown",
   "metadata": {},
   "source": [
    "## Further reading\n",
    "\n",
    "* Sections II.5.2 and II.5.3, [Computational Statistics](https://link.springer.com/book/10.1007%2F978-0-387-98144-4) by James Gentle (2010).\n",
    "\n",
    "* Chapter 2, [Applied Numerical Linear Algebra](https://doi.org/10.1137/1.9781611971446) by James W. Demmel (1997).\n",
    "\n",
    "* Chapter 3, [Matrix Computation](https://www.amazon.com/Computations-Hopkins-Studies-Mathematical-Sciences/dp/1421407949/ref=sr_1_1?keywords=matrix+computation+golub&qid=1567157884&s=gateway&sr=8-1) by Gene Golub and Charles Van Loan (2013).\n",
    "\n",
    "<img src=\"https://images-na.ssl-images-amazon.com/images/I/41f5vxegABL._SY344_BO1,204,203,200_.jpg\" width=\"250\" align=\"center\"/>"
   ]
  },
  {
   "cell_type": "markdown",
   "metadata": {},
   "source": [
    "## Acknowledgment\n",
    "\n",
    "Many parts of this lecture note is based on [Dr. Hua Zhou](http://hua-zhou.github.io)'s 2019 Spring Statistical Computing course notes available at <http://hua-zhou.github.io/teaching/biostatm280-2019spring/index.html>."
   ]
  }
 ],
 "metadata": {
  "@webio": {
   "lastCommId": null,
   "lastKernelId": null
  },
  "kernelspec": {
   "display_name": "Julia 1.6.2",
   "language": "julia",
   "name": "julia-1.6"
  },
  "language_info": {
   "file_extension": ".jl",
   "mimetype": "application/julia",
   "name": "julia",
   "version": "1.6.2"
  },
  "toc": {
   "colors": {
    "hover_highlight": "#DAA520",
    "running_highlight": "#FF0000",
    "selected_highlight": "#FFD700"
   },
   "moveMenuLeft": true,
   "nav_menu": {
    "height": "30px",
    "width": "252px"
   },
   "navigate_menu": true,
   "number_sections": true,
   "sideBar": true,
   "skip_h1_title": true,
   "threshold": 4,
   "toc_cell": true,
   "toc_section_display": "block",
   "toc_window_display": true,
   "widenNotebook": false
  }
 },
 "nbformat": 4,
 "nbformat_minor": 4
}
